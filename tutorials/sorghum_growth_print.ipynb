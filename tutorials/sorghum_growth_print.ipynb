{
 "cells": [
  {
   "cell_type": "markdown",
   "id": "31e7c70c-f264-40d7-9287-4ae1f8b30979",
   "metadata": {},
   "source": [
    "# Sorghum growth"
   ]
  },
  {
   "cell_type": "code",
   "execution_count": null,
   "id": "7ba99dee-5c5b-41f6-b32a-85bc95be9544",
   "metadata": {},
   "outputs": [],
   "source": [
    "from __future__ import annotations\n",
    "\n",
    "import sys\n",
    "import time as t\n",
    "\n",
    "sys.path.append(\"../data\") \n",
    "from archi_dict import archi_sorghum as archi\n",
    "\n",
    "from openalea.archicrop.simulation import (\n",
    "    run_simulations,\n",
    ")\n",
    "from openalea.archicrop.display import build_scene\n",
    "from openalea.plantgl.all import Viewer\n",
    "\n",
    "%gui qt"
   ]
  },
  {
   "cell_type": "code",
   "execution_count": 2,
   "id": "19db8171",
   "metadata": {},
   "outputs": [],
   "source": [
    "stics_color = \"orange\"\n",
    "archicrop_color = \"green\""
   ]
  },
  {
   "cell_type": "code",
   "execution_count": 3,
   "id": "687ec612",
   "metadata": {},
   "outputs": [],
   "source": [
    "tec_file_xml='../data/02NT18SorgV2D1_tec.xml'\n",
    "plt_file_xml='../data/sorgho_imp_M_v10_plt.xml'\n",
    "stics_output_file='../data/mod_s02NT18SorgV2D1.sti'\n",
    "weather_file = '../data/ntarla_corr.2018'\n",
    "location = {  \n",
    "'longitude': 3.87,\n",
    "'latitude': 12.58,\n",
    "'altitude': 800,\n",
    "'timezone': 'Europe/Paris'}"
   ]
  },
  {
   "cell_type": "code",
   "execution_count": 4,
   "id": "9f533beb",
   "metadata": {},
   "outputs": [],
   "source": [
    "seed = 18"
   ]
  },
  {
   "cell_type": "code",
   "execution_count": 5,
   "id": "45076a79-f91b-4d88-8bf2-534cac964d8c",
   "metadata": {},
   "outputs": [
    {
     "name": "stdout",
     "output_type": "stream",
     "text": [
      "Elapsed time: 0.0437 minutes for 1 simulations\n"
     ]
    }
   ],
   "source": [
    "\n",
    "start_time = t.time()\n",
    "\n",
    "daily_dynamics, params_sets, pot_la, pot_h, realized_la, realized_h, nrj_per_plant, mtgs, filters, sowing_density = run_simulations(\n",
    "    archi_params=archi, \n",
    "    tec_file=tec_file_xml, \n",
    "    plant_file=plt_file_xml, \n",
    "    dynamics_file=stics_output_file, \n",
    "    weather_file=weather_file,\n",
    "    location=location,\n",
    "    n_samples=1,\n",
    "    latin_hypercube=True,\n",
    "    opt_filter_organ_duration=False,\n",
    "    opt_filter_pot_growth=False,\n",
    "    opt_filter_realized_growth=False,\n",
    "    light_inter=False,\n",
    "    direct=False,\n",
    "    error_LA_pot=1,\n",
    "    error_height_pot=1,\n",
    "    error_LA_realized=1,\n",
    "    error_height_realized=1,\n",
    "    seed=seed)\n",
    "\n",
    "end_time = t.time()\n",
    "\n",
    "elapsed_time = (end_time - start_time)/60\n",
    "print(f\"Elapsed time: {elapsed_time:.4f} minutes for {len(realized_la)} simulations\")  # noqa: T201\n"
   ]
  },
  {
   "cell_type": "code",
   "execution_count": 6,
   "id": "54d2964f",
   "metadata": {},
   "outputs": [],
   "source": [
    "Viewer.display(build_scene(mtgs[0][-10])[0])\n"
   ]
  },
  {
   "cell_type": "code",
   "execution_count": 7,
   "id": "128d026e",
   "metadata": {},
   "outputs": [
    {
     "data": {
      "text/plain": [
       "{4: 2.09303698336993,\n",
       " 6: 2.673678763901232,\n",
       " 8: 3.434606342999782,\n",
       " 10: 4.428045448833423,\n",
       " 12: 5.718030630282252,\n",
       " 14: 7.3809478211364725,\n",
       " 16: 9.504756325035977,\n",
       " 18: 12.186106751994455,\n",
       " 20: 15.524443912213567,\n",
       " 22: 19.612192835585084,\n",
       " 24: 24.52038185317754,\n",
       " 26: 25.528636776058338,\n",
       " 28: 24.235272766140493,\n",
       " 30: 23.387896656361217,\n",
       " 32: 22.38776320401558,\n",
       " 34: 21.489133531424503,\n",
       " 36: 20.147810369177847,\n",
       " 38: 18.702971574245574,\n",
       " 40: 19.339990959466547,\n",
       " 42: 19.53172933079552,\n",
       " 44: 19.290465640901385,\n",
       " 46: 18.43345524712342,\n",
       " 48: 14.764053069733702,\n",
       " 50: 9.844158001784232}"
      ]
     },
     "execution_count": 7,
     "metadata": {},
     "output_type": "execute_result"
    }
   ],
   "source": [
    "mtgs[0][-10].properties()['senescent_length']"
   ]
  },
  {
   "cell_type": "code",
   "execution_count": 8,
   "id": "701f2b27",
   "metadata": {},
   "outputs": [
    {
     "data": {
      "text/plain": [
       "array([ 0.00000000e+00,  1.38777878e-17, -1.38777878e-17,  1.38777878e-17,\n",
       "       -2.77555756e-17,  1.11022302e-16,  1.00000000e-04,  0.00000000e+00,\n",
       "        2.22044605e-16,  0.00000000e+00,  0.00000000e+00, -8.88178420e-16,\n",
       "        0.00000000e+00,  1.77635684e-15, -1.00000000e-04, -1.77635684e-15,\n",
       "        1.00000000e-04, -1.00000000e-04,  1.00000000e-04, -1.00000000e-04,\n",
       "        1.00000000e-04, -1.00000000e-04,  0.00000000e+00,  1.00000000e-04,\n",
       "       -1.00000000e-04, -7.10542736e-15,  7.10542736e-15, -1.42108547e-14,\n",
       "        2.84217094e-14, -4.26325641e-14,  0.00000000e+00,  4.26325641e-14,\n",
       "        1.00000000e-04, -5.68434189e-14,  0.00000000e+00,  1.42108547e-14,\n",
       "       -7.10542736e-15,  8.52651283e-14, -1.00000000e-04,  4.26325641e-14,\n",
       "        0.00000000e+00, -8.52651283e-14,  8.52651283e-14, -1.00000000e-04,\n",
       "        1.00000000e-04,  0.00000000e+00, -8.52651283e-14, -9.99999998e-05,\n",
       "        1.00000000e-04, -1.00000000e-04,  1.84741111e-13, -1.42108547e-13,\n",
       "        4.26325641e-14, -1.00000000e-04,  3.12638804e-13, -3.26849658e-13,\n",
       "        1.42108547e-13, -2.20268248e-13,  1.00000000e-04,  9.23705556e-14,\n",
       "       -1.00000000e-04,  3.97903932e-13,  0.00000000e+00, -2.70006240e-13,\n",
       "       -3.55271368e-14,  1.00000000e-04, -9.23705556e-14, -1.00000000e-04,\n",
       "        0.00000000e+00,  1.00000000e-04,  5.38458167e-14,  0.00000000e+00,\n",
       "        0.00000000e+00,  0.00000000e+00,  0.00000000e+00,  0.00000000e+00,\n",
       "        0.00000000e+00,  0.00000000e+00,  0.00000000e+00,  0.00000000e+00,\n",
       "        0.00000000e+00,  0.00000000e+00,  0.00000000e+00,  0.00000000e+00,\n",
       "        0.00000000e+00,  0.00000000e+00,  0.00000000e+00,  0.00000000e+00,\n",
       "        0.00000000e+00,  0.00000000e+00,  0.00000000e+00,  0.00000000e+00,\n",
       "        0.00000000e+00,  0.00000000e+00,  0.00000000e+00,  0.00000000e+00,\n",
       "        0.00000000e+00,  0.00000000e+00,  0.00000000e+00,  0.00000000e+00,\n",
       "        0.00000000e+00,  0.00000000e+00,  0.00000000e+00,  0.00000000e+00,\n",
       "        0.00000000e+00,  0.00000000e+00,  0.00000000e+00,  0.00000000e+00,\n",
       "        0.00000000e+00,  0.00000000e+00,  0.00000000e+00,  0.00000000e+00,\n",
       "        0.00000000e+00,  0.00000000e+00,  0.00000000e+00,  0.00000000e+00,\n",
       "        0.00000000e+00,  0.00000000e+00,  0.00000000e+00,  0.00000000e+00])"
      ]
     },
     "execution_count": 8,
     "metadata": {},
     "output_type": "execute_result"
    }
   ],
   "source": [
    "import numpy as np\n",
    "leaf_area_plant = [value[\"Plant leaf area\"] for value in daily_dynamics.values()]\n",
    "inc = [value[\"Leaf area increment\"] for value in daily_dynamics.values()]\n",
    "np.diff(leaf_area_plant, prepend=0)-inc"
   ]
  },
  {
   "cell_type": "code",
   "execution_count": 9,
   "id": "f95b15b0",
   "metadata": {},
   "outputs": [],
   "source": [
    "# Retrieve STICS growth and senescence dynamics\n",
    "dates = [value[\"Date\"] for value in daily_dynamics.values()]\n",
    "thermal_time = [value[\"Thermal time\"] for value in daily_dynamics.values()]\n",
    "leaf_area_plant = [value[\"Plant leaf area\"] for value in daily_dynamics.values()]\n",
    "sen_leaf_area_plant = [value[\"Plant senescent leaf area\"] for value in daily_dynamics.values()]\n",
    "height_canopy = [value[\"Plant height\"] for value in daily_dynamics.values()]\n",
    "par_incident = [value[\"Incident PAR\"] for value in daily_dynamics.values()]\n",
    "par_stics = [value[\"Absorbed PAR\"] for value in daily_dynamics.values()]"
   ]
  },
  {
   "cell_type": "code",
   "execution_count": null,
   "id": "92477138",
   "metadata": {},
   "outputs": [
    {
     "data": {
      "text/plain": [
       "[0.0,\n",
       " 0.0,\n",
       " 0.0,\n",
       " 0.0,\n",
       " 0.0,\n",
       " 0.0,\n",
       " 0.0,\n",
       " 0.0,\n",
       " 0.0,\n",
       " 0.0,\n",
       " 0.0,\n",
       " 0.0,\n",
       " 0.0,\n",
       " 0.0,\n",
       " 0.0,\n",
       " 0.0,\n",
       " 0.0,\n",
       " 0.0,\n",
       " 0.0,\n",
       " 0.0,\n",
       " 0.0,\n",
       " 0.0,\n",
       " 0.0,\n",
       " 0.0,\n",
       " 0.0,\n",
       " 0.0,\n",
       " 0.0,\n",
       " 0.0,\n",
       " 0.0,\n",
       " 0.0,\n",
       " 0.0,\n",
       " 0.0,\n",
       " 0.0,\n",
       " 0.0,\n",
       " 0.0,\n",
       " 0.0,\n",
       " 0.0,\n",
       " 0.0,\n",
       " 0.0,\n",
       " 0.0,\n",
       " 0.0,\n",
       " 0.0,\n",
       " 0.0,\n",
       " 0.0,\n",
       " 0.0,\n",
       " 0.0,\n",
       " 0.0,\n",
       " 0.0,\n",
       " 0.0,\n",
       " 0.0,\n",
       " 0.0,\n",
       " 0.0,\n",
       " 0.0,\n",
       " 0.0,\n",
       " 0.0,\n",
       " 0.0,\n",
       " 0.0,\n",
       " 0.0,\n",
       " 0.0,\n",
       " 0.0,\n",
       " 0.0,\n",
       " 0.0,\n",
       " 0.0,\n",
       " 0.0,\n",
       " 0.0,\n",
       " 0.0,\n",
       " 0.0,\n",
       " 0.0,\n",
       " 0.0,\n",
       " 0.0,\n",
       " 0.0,\n",
       " 0.0,\n",
       " 0.0,\n",
       " 0.0,\n",
       " 0.0,\n",
       " 0.0,\n",
       " 0.0,\n",
       " 0.0,\n",
       " 0.0,\n",
       " 0.0,\n",
       " 0.0,\n",
       " 0.0333,\n",
       " 0.3167,\n",
       " 0.8833,\n",
       " 1.0833,\n",
       " 1.6833,\n",
       " 1.7,\n",
       " 2.3,\n",
       " 2.6333,\n",
       " 7.5667,\n",
       " 4.8667,\n",
       " 6.4167,\n",
       " 6.65,\n",
       " 6.3333,\n",
       " 8.8167,\n",
       " 17.4,\n",
       " 12.1833,\n",
       " 15.2667,\n",
       " 16.25,\n",
       " 20.2833,\n",
       " 59.5833,\n",
       " 27.3667,\n",
       " 35.7,\n",
       " 34.5333,\n",
       " 47.55,\n",
       " 100.2333,\n",
       " 57.5833,\n",
       " 66.5,\n",
       " 160.8333,\n",
       " 35.1667,\n",
       " 87.9,\n",
       " 98.7167,\n",
       " 189.8667,\n",
       " 118.6,\n",
       " 115.8167,\n",
       " 124.7167,\n",
       " 124.0833,\n",
       " 259.1,\n",
       " 144.4667,\n",
       " 136.1833]"
      ]
     },
     "execution_count": 10,
     "metadata": {},
     "output_type": "execute_result"
    },
    {
     "ename": "",
     "evalue": "",
     "output_type": "error",
     "traceback": [
      "\u001b[1;31mThe Kernel crashed while executing code in the current cell or a previous cell. \n",
      "\u001b[1;31mPlease review the code in the cell(s) to identify a possible cause of the failure. \n",
      "\u001b[1;31mClick <a href='https://aka.ms/vscodeJupyterKernelCrash'>here</a> for more info. \n",
      "\u001b[1;31mView Jupyter <a href='command:jupyter.viewOutput'>log</a> for further details."
     ]
    }
   ],
   "source": [
    "sen_leaf_area_plant_incr = [value[\"Senescent leaf area increment\"] for value in daily_dynamics.values()]\n",
    "sen_leaf_area_plant_incr"
   ]
  },
  {
   "cell_type": "code",
   "execution_count": null,
   "id": "82d9169f",
   "metadata": {},
   "outputs": [],
   "source": []
  }
 ],
 "metadata": {
  "kernelspec": {
   "display_name": "ArchiCrop",
   "language": "python",
   "name": "python3"
  },
  "language_info": {
   "codemirror_mode": {
    "name": "ipython",
    "version": 3
   },
   "file_extension": ".py",
   "mimetype": "text/x-python",
   "name": "python",
   "nbconvert_exporter": "python",
   "pygments_lexer": "ipython3",
   "version": "3.12.3"
  },
  "widgets": {
   "application/vnd.jupyter.widget-state+json": {
    "state": {},
    "version_major": 2,
    "version_minor": 0
   }
  }
 },
 "nbformat": 4,
 "nbformat_minor": 5
}
