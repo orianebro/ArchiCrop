{
 "cells": [
  {
   "cell_type": "markdown",
   "id": "31e7c70c-f264-40d7-9287-4ae1f8b30979",
   "metadata": {},
   "source": [
    "# Simulations for PMA abstract"
   ]
  },
  {
   "cell_type": "markdown",
   "id": "fe31c5a6-c8c0-43c9-b623-bbc7e4573b11",
   "metadata": {},
   "source": [
    "## 0. Imports"
   ]
  },
  {
   "cell_type": "code",
   "execution_count": null,
   "id": "7ba99dee-5c5b-41f6-b32a-85bc95be9544",
   "metadata": {},
   "outputs": [],
   "source": [
    "import numpy as np\n",
    "import time as t\n",
    "import random\n",
    "from oawidgets.plantgl import *\n",
    "from openalea.plantgl.all import Material, Color3, Scene\n",
    "import oawidgets.mtg\n",
    "\n",
    "from openalea.archicrop.archicrop import ArchiCrop\n",
    "from openalea.archicrop.display import build_scene, display_scene\n",
    "from openalea.archicrop.simulation import read_sti_file, read_xml_file, LHS_param_sampling, filter_pot_growth\n",
    "import matplotlib.pyplot as plt\n",
    "%gui qt"
   ]
  },
  {
   "cell_type": "code",
   "execution_count": 2,
   "id": "c1d8b9c2-656d-48b8-99d2-d3c46bb9d15a",
   "metadata": {},
   "outputs": [],
   "source": [
    "# random.seed(18)"
   ]
  },
  {
   "cell_type": "markdown",
   "id": "13b7984c-51e7-4077-96ec-9bcc73150520",
   "metadata": {},
   "source": [
    "## 1. Set management parameters\n",
    "\n",
    "Set parameters regarding the spatial (and temporal) configuration of the crop."
   ]
  },
  {
   "cell_type": "code",
   "execution_count": 3,
   "id": "c690784e-63d3-458f-b901-2f96505f1fac",
   "metadata": {},
   "outputs": [],
   "source": [
    "file_tec_xml = 'Mais_tec.xml'\n",
    "params_tec = ['densitesem', 'interrang']\n",
    "tec_stics = read_xml_file(file_tec_xml, params_tec)\n",
    "sowing_density = tec_stics['densitesem']\n",
    "inter_row = 0.4"
   ]
  },
  {
   "cell_type": "markdown",
   "id": "d282da23-eaa6-402c-8e54-df79bef01aad",
   "metadata": {},
   "source": [
    "## 2. Format crop-scale growth and senescence dynamics\n",
    "\n",
    "From crop-scale data either measured or simulated with a crop model, generate a dictionnary of dictionnaries for each day with the following values :\n",
    " - \"Thermal time\" (float): cumulated thermal time from beginning of simulation to current day (in °C.day)\n",
    " - \"Phenology\" (str): current phenological stage (germination, juvenile, exponential or repro)\n",
    " - \"Plant leaf area\" (float): plant leaf area (in cm²) \n",
    " - \"Leaf area increment\" (float): leaf area increment compared to previous day (in cm²) \n",
    " - \"Plant senescent leaf area\" (float): senescent plant leaf area (in cm²) \n",
    " - \"Senescent leaf area increment\" (float): senescent leaf area increment compared to previous day (in cm²) \n",
    " - \"Plant height\" (float): plant height (in cm) \n",
    " - \"Height increment\" (float): height increment compared to previous day (in cm)."
   ]
  },
  {
   "cell_type": "code",
   "execution_count": 4,
   "id": "6e42da80-9b6d-495d-bc79-940741edc40b",
   "metadata": {},
   "outputs": [],
   "source": [
    "stics_output_file = 'mod_smaize.sti'\n",
    "daily_dynamics = read_sti_file(stics_output_file, sowing_density)\n",
    "\n",
    "# Time series \n",
    "# for thermal time, plant leaf area, plant senescent leaf area and plant height\n",
    "thermal_time = [value[\"Thermal time\"] for value in daily_dynamics.values()]\n",
    "leaf_area_plant = [value[\"Plant leaf area\"] for value in daily_dynamics.values()]\n",
    "sen_leaf_area_plant = [value[\"Plant senescent leaf area\"] for value in daily_dynamics.values()]\n",
    "height_canopy = [value[\"Plant height\"] for value in daily_dynamics.values()]"
   ]
  },
  {
   "cell_type": "code",
   "execution_count": 5,
   "id": "cdea6b0a-fe00-4bf0-bd78-f98202195cda",
   "metadata": {},
   "outputs": [],
   "source": [
    "file_plt_xml = 'corn_plt.xml'\n",
    "params_sen = ['durvieF', 'ratiodurvieI']\n",
    "sen_stics = read_xml_file(file_plt_xml, params_sen)\n",
    "lifespan = sen_stics['durvieF'] # leaf lifespan from appearance in exponential phase\n",
    "lifespan_early = sen_stics['ratiodurvieI'] * lifespan # leaf lifespan from appearance in juvenile phase"
   ]
  },
  {
   "cell_type": "markdown",
   "id": "c8cad4ae-0e0a-4693-a4ed-4494e9a3dbf3",
   "metadata": {},
   "source": [
    "## 3. Set plant architectural parameters\n",
    "\n",
    "Set topological, geometrical and developmental parameters, in a range corresponding a given species, found in literature."
   ]
  },
  {
   "cell_type": "code",
   "execution_count": 6,
   "id": "fc27b380-3989-4cec-842c-ef92d36a4490",
   "metadata": {},
   "outputs": [],
   "source": [
    "archi = dict(\n",
    "    nb_phy=[8,20], # number of phytomers on the main stem\n",
    "    nb_short_phy=4,\n",
    "    \n",
    "    # Stem\n",
    "    height=3*max(height_canopy), # potential plant height\n",
    "    stem_q=1.0, # parameter for ligule height geometric distribution along axis\n",
    "    diam_base=2.5, # stem base diameter\n",
    "    diam_top=1.5, # stem top diameter\n",
    "\n",
    "    # Leaf area distribution along the stem  \n",
    "    leaf_area=1.2*max(leaf_area_plant), # potential plant leaf area\n",
    "    rmax=[0.55,0.8], # relative position of largest leaf on the stem\n",
    "    skew=0.005, # skewness for leaf area distribution along axis\n",
    "\n",
    "    # blade area\n",
    "    wl=0.12, # leaf blade width-to-length ratio \n",
    "    klig=0.6, # parameter for leaf blade shape\n",
    "    swmax=0.55, # relative position of maximal blade width\n",
    "    f1=0.64, # parameter for leaf blade shape\n",
    "    f2=0.92, # parameter for leaf blade shape\n",
    "\n",
    "    # blade curvature\n",
    "    insertion_angle=35, # leaf blade insertion angle\n",
    "    scurv=0.7, #  relative position of inflexion point\n",
    "    curvature=120, # leaf blade insertion-to-tip angle\n",
    "    phyllotactic_angle=180, # phyllotactic angle\n",
    "    phyllotactic_deviation=10, # half-deviation to phyllotactic angle\n",
    "\n",
    "    # Development\n",
    "    phyllochron=30, # phyllochron, i.e. stem element appearance rate\n",
    "    plastochron=40, # plastochron, i.e. leaf blade appearance rate\n",
    "\n",
    "    # Senescence \n",
    "    leaf_lifespan = [lifespan_early, lifespan], # leaf lifespan from appearance\n",
    "\n",
    "    # Tillering\n",
    "    nb_tillers=0, # number of tillers\n",
    "    tiller_delay=1, # delay, as factor of phyllochron, between the appearance of a phytomer and the appearance of its tiller\n",
    "    tiller_angle=30,\n",
    "    reduction_factor=1, # reduction factor between tillers of consecutive order\n",
    "\n",
    "    plant_orientation=0 #20\n",
    ")"
   ]
  },
  {
   "cell_type": "code",
   "execution_count": null,
   "id": "2a3e8fa6-baea-44b3-92fd-702d39926ee1",
   "metadata": {},
   "outputs": [
    {
     "name": "stdout",
     "output_type": "stream",
     "text": [
      "1000\n"
     ]
    }
   ],
   "source": [
    "# Function to process parameters and generate samples\n",
    "# Generate parameter sets\n",
    "param_sets = LHS_param_sampling(archi, n_samples=1000, seed=18)\n",
    "print(len(param_sets))"
   ]
  },
  {
   "cell_type": "code",
   "execution_count": null,
   "id": "e92f519a-2a0c-44e3-b125-fc3e95fc9553",
   "metadata": {},
   "outputs": [
    {
     "name": "stdout",
     "output_type": "stream",
     "text": [
      "Elapsed time: 27.7439 minutes\n"
     ]
    }
   ],
   "source": [
    "# Select parameters sets for which the model fits the LAI and the height curves of the crop model, with a given error.\n",
    "\n",
    "# Start the timer\n",
    "start_time = t.time()\n",
    "\n",
    "fitting_sim, non_fitting_sim = filter_pot_growth(param_sets, curves=daily_dynamics, error_LA=0.05, error_height=0.05)\n",
    "\n",
    "# End the timer\n",
    "end_time = t.time()\n",
    "\n",
    "# Calculate elapsed time\n",
    "elapsed_time = (end_time - start_time)/60\n",
    "print(f\"Elapsed time: {elapsed_time:.4f} minutes\")"
   ]
  },
  {
   "cell_type": "code",
   "execution_count": 9,
   "id": "6fa56b2d-8a1c-44f2-93f0-39ed95fe054b",
   "metadata": {},
   "outputs": [
    {
     "name": "stdout",
     "output_type": "stream",
     "text": [
      "712\n"
     ]
    }
   ],
   "source": [
    "print(len(fitting_sim['mtg']))"
   ]
  },
  {
   "cell_type": "code",
   "execution_count": 10,
   "id": "b3403d27-fdae-4b3a-8023-2ccb972ea0a1",
   "metadata": {},
   "outputs": [
    {
     "data": {
      "image/png": "[encoded data removed]",
      "text/plain": [
       "<Figure size 1200x600 with 2 Axes>"
      ]
     },
     "metadata": {},
     "output_type": "display_data"
    }
   ],
   "source": [
    "from matplotlib.lines import Line2D\n",
    "\n",
    "# Create a figure with two subplots side by side\n",
    "fig, axes = plt.subplots(2, 1, figsize=(12, 6), sharex=True)  # 1 row, 2 columns\n",
    "\n",
    "# Plot on the first subplot\n",
    "# for non_result in non_fitting_sim['LA']:\n",
    "#     axes[0].plot(thermal_time, [r*sowing_density/10000 for r in result],  color=\"gray\", alpha=0.1)\n",
    "for result in fitting_sim['LA']:\n",
    "    axes[0].plot(thermal_time, [r*sowing_density/10000 for r in result],  color=\"green\", alpha=0.6)\n",
    "    # print(result)\n",
    "axes[0].plot(thermal_time, [(la-sen)*sowing_density/10000 for la, sen in zip(leaf_area_plant, sen_leaf_area_plant)], color=\"black\", alpha=0.9)\n",
    "# axes[0].set_xlabel(\"Thermal time (°C.day)\")\n",
    "axes[0].set_ylabel(\"LAI (m²/m²)\", fontsize=16, fontname=\"Times New Roman\")\n",
    "# axes[0].set_title(\"Leaf Area: 3D canopy vs. STICS\")\n",
    "# axes[0].legend(loc=2)\n",
    "\n",
    "legend_elements_lai = [\n",
    "    Line2D([0], [0], color='black', alpha=0.9, lw=2, label='LAI STICS'),\n",
    "    Line2D([0], [0], color='green', alpha=0.6, lw=2, label='LAI morphotypes')\n",
    "]\n",
    "\n",
    "axes[0].legend(handles=legend_elements_lai, loc=2, prop={'family': 'Times New Roman', 'size': 12})\n",
    "\n",
    "# Plot on the second subplot\n",
    "# for non_result in non_fitting_sim['height']:\n",
    "#     axes[1].plot(thermal_time, [r*0.01 for r in non_result], color=\"gray\", alpha=0.1)\n",
    "for result in fitting_sim['height']:\n",
    "    axes[1].plot(thermal_time, [r*0.01 for r in result], color=\"orange\", alpha=0.6)\n",
    "axes[1].plot(thermal_time, [h*0.01 for h in height_canopy], color=\"black\", alpha=0.9)\n",
    "axes[1].set_xlabel(\"Thermal time (°C.day)\", fontsize=16, fontname=\"Times New Roman\")\n",
    "axes[1].set_ylabel(\"Crop height (m)\", fontsize=16, fontname=\"Times New Roman\")\n",
    "# axes[1].set_title(\"Plant height: 3D canopy vs. STICS\")\n",
    "\n",
    "legend_elements_height = [\n",
    "    Line2D([0], [0], color='black', alpha=0.9, lw=2, label='Height STICS'),\n",
    "    Line2D([0], [0], color='orange', alpha=0.6, lw=2, label='Height morphotypes')\n",
    "]\n",
    "\n",
    "axes[1].legend(handles=legend_elements_height, loc=2, prop={'family': 'Times New Roman', 'size': 12})\n",
    "\n",
    "plt.savefig('PMA_curves')\n",
    "\n",
    "# Adjust layout\n",
    "plt.tight_layout()\n",
    "\n",
    "# Show the plot\n",
    "plt.show()"
   ]
  },
  {
   "cell_type": "code",
   "execution_count": null,
   "id": "bc81e1af-55b4-4087-9cc1-4c9400722395",
   "metadata": {},
   "outputs": [],
   "source": []
  },
  {
   "cell_type": "code",
   "execution_count": 11,
   "id": "e66e00ed-42f4-4668-bf69-b08832ee05ff",
   "metadata": {},
   "outputs": [],
   "source": [
    "# fitting_sim['mtg'][-1][85].properties()"
   ]
  },
  {
   "cell_type": "code",
   "execution_count": 12,
   "id": "b119c5a3-7b0e-4cd6-b4cc-6a1c1c1db1dc",
   "metadata": {},
   "outputs": [
    {
     "data": {
      "application/vnd.jupyter.widget-view+json": {
       "model_id": "cf8982dc1c8f442292d891aa9cf951d9",
       "version_major": 2,
       "version_minor": 0
      },
      "text/plain": [
       "Plot(antialias=3, axes=['x', 'y', 'z'], axes_helper=1.0, axes_helper_colors=[16711680, 65280, 255], background…"
      ]
     },
     "execution_count": 12,
     "metadata": {},
     "output_type": "execute_result"
    }
   ],
   "source": [
    "scene, _ = build_scene(fitting_sim['mtg'][1][60])\n",
    "PlantGL(scene)"
   ]
  },
  {
   "cell_type": "code",
   "execution_count": null,
   "id": "aa4c6d8a-0876-4536-be09-b7b2cec9677d",
   "metadata": {},
   "outputs": [],
   "source": []
  },
  {
   "cell_type": "markdown",
   "id": "8d0ce828-3223-4db6-8471-81cb2097cbaf",
   "metadata": {},
   "source": [
    "## 7. Morphospace"
   ]
  },
  {
   "cell_type": "code",
   "execution_count": 13,
   "id": "4cc0ae3f-80bf-4490-81eb-070ff4ee3254",
   "metadata": {},
   "outputs": [],
   "source": [
    "morpho = {\n",
    "    i : [p['nb_phy'],p['rmax']]\n",
    "    for i,p in enumerate(fitting_sim['params'])\n",
    "}\n",
    "\n",
    "# print(morpho)\n",
    "# print([p['nb_phy'] for p in fitting_sim['params']])\n",
    "# print([round(p['wl'],2) for p in fitting_sim['params']])"
   ]
  },
  {
   "cell_type": "code",
   "execution_count": 14,
   "id": "004d1743-f38b-479d-ad5b-08d990dbbdf2",
   "metadata": {},
   "outputs": [
    {
     "name": "stdout",
     "output_type": "stream",
     "text": [
      "[8, 0.7226126428477893]\n",
      "[18, 0.7956629742139234]\n",
      "[10, 0.5504690654390973]\n",
      "[10, 0.7998179341243149]\n",
      "[8, 18, 424, 13]\n"
     ]
    }
   ],
   "source": [
    "# Get key with min of the first element\n",
    "min_first = min(morpho.items(), key=lambda x: x[1][0])[0]\n",
    "print(morpho[min_first])\n",
    "\n",
    "# Get key with max of the first element\n",
    "max_first = max(morpho.items(), key=lambda x: x[1][0])[0]\n",
    "print(morpho[max_first])\n",
    "\n",
    "# Get key with min of the second element\n",
    "min_second = min(morpho.items(), key=lambda x: x[1][1])[0] \n",
    "print(morpho[min_second])\n",
    "\n",
    "# Get key with max of the second element\n",
    "max_second = max(morpho.items(), key=lambda x: x[1][1])[0]\n",
    "print(morpho[max_second])\n",
    "\n",
    "# Collect unique IDs\n",
    "result_ids = [min_first, max_first, min_second, max_second]\n",
    "\n",
    "print(result_ids)"
   ]
  },
  {
   "cell_type": "code",
   "execution_count": 15,
   "id": "2965bdda-dbf1-49ba-a269-fec90b5c0cff",
   "metadata": {},
   "outputs": [
    {
     "name": "stdout",
     "output_type": "stream",
     "text": [
      "Key of [abs min → rel min]: 22 [8, 0.5580618434837827]\n",
      "Key of [abs max → rel min]: 67 [18, 0.714925485820777]\n",
      "Key of [rel min → abs max]: 498 [13, 0.5520325778835956]\n",
      "Key of [rel max → abs max]: 31 [18, 0.799166029551244]\n"
     ]
    }
   ],
   "source": [
    "from operator import itemgetter\n",
    "import heapq\n",
    "\n",
    "def find_extreme_among_topk(data, primary_index, secondary_index, primary_func, secondary_func, k=3):\n",
    "    # Extract (key, value) pairs\n",
    "    items = list(data.items())\n",
    "\n",
    "    # Get top-k keys by primary metric\n",
    "    if primary_func == min:\n",
    "        top_k = heapq.nsmallest(k, items, key=lambda x: x[1][primary_index])\n",
    "    else:\n",
    "        top_k = heapq.nlargest(k, items, key=lambda x: x[1][primary_index])\n",
    "\n",
    "    # From these, find the extreme in secondary metric\n",
    "    return secondary_func(top_k, key=lambda x: x[1][secondary_index])[0]\n",
    "\n",
    "key_absmin_relmin = find_extreme_among_topk(morpho, 0, 1, min, min, k=8)\n",
    "key_absmax_relmin = find_extreme_among_topk(morpho, 0, 1, max, min, k=8)\n",
    "key_relmin_absmax = find_extreme_among_topk(morpho, 1, 0, min, max, k=8)\n",
    "key_relmax_absmax = find_extreme_among_topk(morpho, 1, 0, max, max, k=8)\n",
    "\n",
    "print(\"Key of [abs min → rel min]:\", key_absmin_relmin, morpho[key_absmin_relmin])\n",
    "print(\"Key of [abs max → rel min]:\", key_absmax_relmin, morpho[key_absmax_relmin])\n",
    "print(\"Key of [rel min → abs max]:\", key_relmin_absmax, morpho[key_relmin_absmax])\n",
    "print(\"Key of [rel max → abs max]:\", key_relmax_absmax, morpho[key_relmax_absmax])\n",
    "\n",
    "result_ids = [key_absmin_relmin, key_absmax_relmin, key_relmin_absmax, key_relmax_absmax]"
   ]
  },
  {
   "cell_type": "code",
   "execution_count": 16,
   "id": "3f3fa45e-75af-44b8-8e9f-aa7f7d4b0a03",
   "metadata": {},
   "outputs": [
    {
     "name": "stdout",
     "output_type": "stream",
     "text": [
      "MTG : nb_vertices=19, nb_scales=4\n",
      "MTG : nb_vertices=39, nb_scales=4\n",
      "MTG : nb_vertices=29, nb_scales=4\n"
     ]
    }
   ],
   "source": [
    "# morpho_list = [fitting_sim['mtg'][id] for id in result_ids]\n",
    "morpho_list = [fitting_sim['mtg'][id] for id in [8, 31, 498]]\n",
    "for g in morpho_list:\n",
    "    print(g[120])"
   ]
  },
  {
   "cell_type": "code",
   "execution_count": 17,
   "id": "c91abca1-cb94-4c3e-a916-f2f766b10786",
   "metadata": {},
   "outputs": [],
   "source": [
    "# times = [i for i,t in enumerate(thermal_time) if i%12==0]\n",
    "times = [27, 35, 50, 70, 100, 150]\n",
    "# mean_time = sum(times) / len(times)\n",
    "# positions = [(x, 6*(t-mean_time), z) for x in [0,300] for z in [0,300] for t in times]\n",
    "ys = [t*5 for t in times]\n",
    "position = [(0, y, 0) for y in ys]\n",
    "nice_green = Color3((50, 100, 0))\n",
    "mtgs = [g for gs in morpho_list for i,g in enumerate(gs) if i in times]\n",
    "# for i in range(len(mtgs)):\n",
    "#     print(mtgs[i])\n",
    "scene1, _ = build_scene(mtgs[0:len(times)], position=position, senescence=True, leaf_material = Material(nice_green), stem_material=Material(nice_green))\n",
    "scene2, _ = build_scene(mtgs[len(times):len(times)*2], position=position, senescence=True, leaf_material = Material(nice_green), stem_material=Material(nice_green))\n",
    "scene3, _ = build_scene(mtgs[len(times)*2:len(times)*3], position=position, senescence=True, leaf_material = Material(nice_green), stem_material=Material(nice_green))"
   ]
  },
  {
   "cell_type": "code",
   "execution_count": 18,
   "id": "cedf0d7a-b883-4106-aa46-704e6c118c3e",
   "metadata": {},
   "outputs": [],
   "source": [
    "Viewer.display(scene1)"
   ]
  },
  {
   "cell_type": "code",
   "execution_count": 19,
   "id": "38abae97-38e7-4182-a7a0-f71c6c75904f",
   "metadata": {},
   "outputs": [],
   "source": [
    "Viewer.display(scene2)"
   ]
  },
  {
   "cell_type": "code",
   "execution_count": 20,
   "id": "ea530da4-1062-4e9d-a4fb-0f08b886376d",
   "metadata": {},
   "outputs": [],
   "source": [
    "Viewer.display(scene3)"
   ]
  },
  {
   "cell_type": "code",
   "execution_count": 21,
   "id": "09ca7584-8085-4e17-b494-674736b4f7a5",
   "metadata": {},
   "outputs": [
    {
     "data": {
      "application/vnd.jupyter.widget-view+json": {
       "model_id": "63e82666a21b446f84146c67ceeb9dcb",
       "version_major": 2,
       "version_minor": 0
      },
      "text/plain": [
       "Plot(antialias=3, axes=['x', 'y', 'z'], axes_helper=1.0, axes_helper_colors=[16711680, 65280, 255], background…"
      ]
     },
     "execution_count": 21,
     "metadata": {},
     "output_type": "execute_result"
    }
   ],
   "source": [
    "# times = [i for i,t in enumerate(thermal_time) if i%12==0]\n",
    "times = [28, 38, 50, 100, 150]\n",
    "# mean_time = sum(times) / len(times)\n",
    "# positions = [(x, 6*(t-mean_time), z) for x in [0,300] for z in [0,300] for t in times]\n",
    "ys = [10,120,260,410,610]\n",
    "position1 = [(0, y, 0) for y in ys]\n",
    "z2 = 450*(0.8-0.71)/(0.8-0.55)\n",
    "position2 = [(500, y, z2) for y in ys]\n",
    "x3 = 500*(18-13)/(18-8)\n",
    "position3 = [(x3, y, 0) for y in ys]\n",
    "position4 = [(500, y, 450) for y in ys]\n",
    "positions = position1 + position2 + position3 + position4\n",
    "# print(positions)\n",
    "nice_green = Color3((50, 100, 0))\n",
    "mtgs = [g for gs in morpho_list for i,g in enumerate(gs) if i in times]\n",
    "# for i in range(len(mtgs)):\n",
    "#     print(mtgs[i])\n",
    "scene, _ = build_scene(mtgs, position=positions, senescence=True, leaf_material = Material(nice_green), stem_material=Material(nice_green))\n",
    "PlantGL(scene)"
   ]
  },
  {
   "cell_type": "code",
   "execution_count": 22,
   "id": "d26f7f1a-9b8c-460a-b46d-9a0560aafcc6",
   "metadata": {},
   "outputs": [],
   "source": [
    "from openalea.plantgl.all import *\n",
    "import numpy as np\n",
    "from numpy.linalg import norm\n",
    "\n",
    "def orthonormal_basis(primary):\n",
    "    if abs(primary[0]) < 0.99:\n",
    "        tmp = np.array([1, 0, 0])\n",
    "    else:\n",
    "        tmp = np.array([0, 1, 0])\n",
    "    secondary = np.cross(primary, tmp)\n",
    "    secondary /= norm(secondary)\n",
    "    return secondary\n",
    "\n",
    "def orthonormal_basis_from_z(primary_z):\n",
    "    \"\"\"\n",
    "    Génère une base 3D (x, y, z) à partir d'un vecteur z donné.\n",
    "    \"\"\"\n",
    "    z = primary_z / norm(primary_z)\n",
    "    if abs(z[0]) < 0.99:\n",
    "        x = np.cross(z, [1, 0, 0])\n",
    "    else:\n",
    "        x = np.cross(z, [0, 1, 0])\n",
    "    x = x / norm(x)\n",
    "    y = np.cross(z, x)\n",
    "    return x, y, z\n",
    "\n",
    "def create_rotation_matrix(direction):\n",
    "    \"\"\"\n",
    "    Crée une matrice de rotation qui aligne l'axe Z sur la direction donnée.\n",
    "    \"\"\"\n",
    "    z = np.array(direction, dtype=float)\n",
    "    z /= norm(z)\n",
    "    # Choisir un vecteur qui n'est pas colinéaire à z\n",
    "    if abs(z[2]) < 0.99:\n",
    "        up = np.array([0, 0, 1])\n",
    "    else:\n",
    "        up = np.array([0, 1, 0])\n",
    "    x = np.cross(up, z)\n",
    "    x /= norm(x)\n",
    "    y = np.cross(z, x)\n",
    "    return Matrix3(Vector3(*x), Vector3(*y), Vector3(*z))\n",
    "\n",
    "def create_arrow(origin=(0, 0, 0), direction=(0, 0, 1), length=1.0,\n",
    "                 shaft_radius=0.001, head_radius=0.005, head_length=0.02,\n",
    "                 color=(0, 0, 0)):\n",
    "    \"\"\"\n",
    "    Crée une flèche orientée en 3D dans la direction donnée.\n",
    "    \"\"\"\n",
    "\n",
    "    shaft_radius *= length\n",
    "    head_radius *= length\n",
    "    head_length *= length\n",
    "\n",
    "    '''\n",
    "    # Normaliser direction\n",
    "    dir_vec = np.array(direction, dtype=float)\n",
    "    if norm(dir_vec) == 0:\n",
    "        raise ValueError(\"La direction ne peut pas être le vecteur nul.\")\n",
    "    dir_vec /= norm(dir_vec)\n",
    "\n",
    "    # Vecteurs pour Oriented\n",
    "    primary = Vector3(*dir_vec)\n",
    "    secondary = Vector3(*orthonormal_basis(dir_vec))\n",
    "\n",
    "    # Longueur du shaft (tige)\n",
    "    shaft_len = length - head_length\n",
    "\n",
    "    # Créer les géométries (dans repère local Z)\n",
    "    shaft = Cylinder(radius=shaft_radius, height=shaft_len)\n",
    "    # shaft = Translated((0, 0, shaft_len / 2), shaft)  # placer de base le cylindre\n",
    "\n",
    "    head = Cone(radius=head_radius, height=head_length)\n",
    "    head = Translated((0, 0, shaft_len), head)  # placer à la fin\n",
    "\n",
    "    # Orientation de toute la flèche dans la bonne direction\n",
    "    oriented_shaft = Oriented(primary, secondary, shaft)\n",
    "    oriented_head = Oriented(primary, secondary, head)\n",
    "\n",
    "    # Translation à la position initiale\n",
    "    final_shaft = Translated(origin, oriented_shaft)\n",
    "    final_head = Translated(origin, oriented_head)\n",
    "\n",
    "    # Regrouper\n",
    "    arrow = Shape(final_shaft, Material(Color3(*color)))\n",
    "    head_shape = Shape(final_head, Material(Color3(*color)))\n",
    "\n",
    "    return [arrow, head_shape]\n",
    "    '''\n",
    "    shaft_len = length - head_length\n",
    "    shaft = Cylinder(radius=shaft_radius, height=shaft_len)\n",
    "    head = Translated((0, 0, shaft_len), Cone(radius=head_radius, height=head_length))\n",
    "    arrow = Group([shaft, head])\n",
    "    return arrow\n",
    "\n",
    "def create_plane(size=1.0, axis='XY', color=(200, 150, 100)):\n",
    "    half = size / 2\n",
    "    width = 1\n",
    "\n",
    "    if axis == 'XY':\n",
    "        points = [Vector3(-width, -half, 0),\n",
    "                  Vector3(width, -half, 0),\n",
    "                  Vector3(width, half, 0),\n",
    "                  Vector3(-width, half, 0)]\n",
    "    elif axis == 'XZ':\n",
    "        points = [Vector3(-half, 0, -half),\n",
    "                  Vector3(half, 0, -half),\n",
    "                  Vector3(half, 0, half),\n",
    "                  Vector3(-half, 0, half)]\n",
    "    elif axis == 'YZ':\n",
    "        points = [Vector3(0, -half, -half),\n",
    "                  Vector3(0, half, -half),\n",
    "                  Vector3(0, half, half),\n",
    "                  Vector3(0, -half, half)]\n",
    "    else:\n",
    "        raise ValueError(\"Axis must be 'XY', 'XZ' or 'YZ'\")\n",
    "\n",
    "    # Une face avec les 4 sommets\n",
    "    indices = [[0, 1, 2, 3]]\n",
    "    faceset = FaceSet(points, indices)\n",
    "    return Shape(faceset) #, Material(Color3(*color), transparency=0.5))\n",
    "\n",
    "\n",
    "# scene = Scene()\n",
    "origin=(-100, -20, 0)\n",
    "color=(50,50,50)\n",
    "color2=(120,90,30)\n",
    "length=750.0\n",
    "\n",
    "# Arrows\n",
    "scene.add(Shape(Translated(origin, Oriented(Vector3((1,0,0)), Vector3((0,1,0)),create_arrow(length=length))), Material(Color3(*color))))\n",
    "scene.add(Shape(Translated(origin, Oriented(Vector3((0,1,0)), Vector3((0,0,1)),create_arrow(length=length))), Material(Color3(*color))))\n",
    "scene.add(Shape(Translated(origin, Oriented(Vector3((0,0,1)), Vector3((1,0,0)),create_arrow(length=length))), Material(Color3(*color))))\n",
    "\n",
    "# Lines\n",
    "# scene.add(Shape(Translated((-50,-20,0), Oriented(Vector3((0,1,0)), Vector3((0,0,1)),Cylinder(radius=0.01, height=length))), Material(Color3(*color2))))\n",
    "# scene.add(Shape(Translated((-50,-20,450), Oriented(Vector3((0,1,0)), Vector3((0,0,1)),Cylinder(radius=0.01, height=length))), Material(Color3(*color2))))\n",
    "# scene.add(Shape(Translated((0,-20,0), Oriented(Vector3((1,0,0)), Vector3((0,1,0)),Cylinder(radius=0.01, height=length))), Material(Color3(*color2))))\n",
    "# scene.add(Shape(Translated((500,-20,0), Oriented(Vector3((1,0,0)), Vector3((0,1,0)),Cylinder(radius=0.01, height=length))), Material(Color3(*color2))))\n",
    "# z 450 \n",
    "# x 500 + 50\n",
    "\n",
    "# Plane\n",
    "scene.add(Shape(Translated((0,375-20,0), Oriented(Vector3((1,0,0)), Vector3((0,1,0)),create_plane(size=750).geometry)), Material(Color3(*color2), transparency=0.8)))\n",
    "scene.add(Shape(Translated((x3,375-20,0), Oriented(Vector3((1,0,0)), Vector3((0,1,0)),create_plane(size=750).geometry)), Material(Color3(*color2), transparency=0.8)))\n",
    "scene.add(Shape(Translated((500,375-20,450), Oriented(Vector3((1,0,0)), Vector3((0,1,0)),create_plane(size=750).geometry)), Material(Color3(*color2), transparency=0.8)))\n",
    "scene.add(Shape(Translated((500,375-20,z2), Oriented(Vector3((1,0,0)), Vector3((0,1,0)),create_plane(size=750).geometry)), Material(Color3(*color2), transparency=0.8)))\n",
    "          \n",
    "Viewer.display(scene)\n"
   ]
  },
  {
   "cell_type": "code",
   "execution_count": null,
   "id": "9cd72d8f-14b7-4b6f-9772-29affe9d0640",
   "metadata": {},
   "outputs": [],
   "source": []
  },
  {
   "cell_type": "code",
   "execution_count": null,
   "id": "45076a79-f91b-4d88-8bf2-534cac964d8c",
   "metadata": {},
   "outputs": [],
   "source": []
  },
  {
   "cell_type": "code",
   "execution_count": null,
   "id": "e042b76c-e138-4fb2-a894-e25158f06a58",
   "metadata": {},
   "outputs": [],
   "source": []
  }
 ],
 "metadata": {
  "kernelspec": {
   "display_name": "Python 3 (ipykernel)",
   "language": "python",
   "name": "python3"
  },
  "language_info": {
   "codemirror_mode": {
    "name": "ipython",
    "version": 3
   },
   "file_extension": ".py",
   "mimetype": "text/x-python",
   "name": "python",
   "nbconvert_exporter": "python",
   "pygments_lexer": "ipython3",
   "version": "3.12.3"
  },
  "widgets": {
   "application/vnd.jupyter.widget-state+json": {
    "state": {
     "08b606d61dab4aa9ba9a55fb5d134a35": {
      "buffers": [
       {
        "data": "",
        "encoding": "base64",
        "path": [
         "attribute",
         "data"
        ]
       },
       {
        "data": "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",
        "encoding": "base64",
        "path": [
         "color_map",
         "data"
        ]
       },
       {
        "data": "",
        "encoding": "base64",
        "path": [
         "colors",
         "data"
        ]
       },
       {
        "data": "AgAAAAEAAAAAAAAAAwAAAAQAAAAFAAAAAAAAAAUAAAAEAAAAAAAAAAQAAAACAAAAAgAAAAQAAAADAAAAAwAAAAEAAAACAAAAAQAAAAMAAAAFAAAABQAAAAAAAAABAAAACAAAAAcAAAAGAAAACQAAAAoAAAALAAAABgAAAAsAAAAKAAAABgAAAAoAAAAIAAAACAAAAAoAAAAJAAAACQAAAAcAAAAIAAAABwAAAAkAAAALAAAACwAAAAYAAAAHAAAADgAAAA0AAAAMAAAADwAAABAAAAARAAAADAAAABEAAAAQAAAADAAAABAAAAAOAAAADgAAABAAAAAPAAAADwAAAA0AAAAOAAAADQAAAA8AAAARAAAAEQAAAAwAAAANAAAAFAAAABMAAAASAAAAFQAAABYAAAAXAAAAEgAAABcAAAAWAAAAEgAAABYAAAAUAAAAFAAAABYAAAAVAAAAFQAAABMAAAAUAAAAEwAAABUAAAAXAAAAFwAAABIAAAATAAAAGgAAABkAAAAYAAAAGwAAABwAAAAdAAAAGAAAAB0AAAAcAAAAGAAAABwAAAAaAAAAGgAAABwAAAAbAAAAGwAAABkAAAAaAAAAGQAAABsAAAAdAAAAHQAAABgAAAAZAAAAIAAAAB8AAAAeAAAAIQAAACIAAAAjAAAAHgAAACMAAAAiAAAAHgAAACIAAAAgAAAAIAAAACIAAAAhAAAAIQAAAB8AAAAgAAAAHwAAACEAAAAjAAAAIwAAAB4AAAAfAAAAJgAAACUAAAAkAAAAJwAAACgAAAApAAAAJAAAACkAAAAoAAAAJAAAACgAAAAmAAAAJgAAACgAAAAnAAAAJwAAACUAAAAmAAAAJQAAACcAAAApAAAAKQAAACQAAAAlAAAALAAAACsAAAAqAAAALQAAAC4AAAAvAAAAKgAAAC8AAAAuAAAAKgAAAC4AAAAsAAAALAAAAC4AAAAtAAAALQAAACsAAAAsAAAAKwAAAC0AAAAvAAAALwAAACoAAAArAAAAMgAAADEAAAAwAAAAMwAAADQAAAA1AAAAMAAAADUAAAA0AAAAMAAAADQAAAAyAAAAMgAAADQAAAAzAAAAMwAAADEAAAAyAAAAMQAAADMAAAA1AAAANQAAADAAAAAxAAAA",
        "encoding": "base64",
        "path": [
         "indices",
         "data"
        ]
       },
       {
        "data": "AACAPwAAAAAAAAAAAAAAAAAAAAAAAIA/AAAAAAAAAAAAAAAAAAAAAAAAgD8AAAAAAAAAAAAAAAAAAAAAAACAPw==",
        "encoding": "base64",
        "path": [
         "model_matrix",
         "data"
        ]
       },
       {
        "data": "",
        "encoding": "base64",
        "path": [
         "normals",
         "data"
        ]
       },
       {
        "data": "",
        "encoding": "base64",
        "path": [
         "opacity_function",
         "data"
        ]
       },
       {
        "data": "",
        "encoding": "base64",
        "path": [
         "triangles_attribute",
         "data"
        ]
       },
       {
        "data": "AADAfw==",
        "encoding": "base64",
        "path": [
         "uvs",
         "data"
        ]
       },
       {
        "data": "ikR9vy+7Nj0AAAAAjHzpPvELYb8AAAAARYYIPz6gVT8AAAAAikR9Py+7Nr0qL4s/jHzpvvELYT8qL4s/RYYIvz6gVb8qL4s/F/5qP7KWw70qL4s/d6XAvtq7Vz8qL4s/W6sKvwRJP78qL4s/F/5qv7KWwz33BwhAd6XAPtq7V7/3BwhAW6sKPwRJPz/3BwhAEFZYv7QNFL73BwhA/jgMP4/YKL/3BwhAJDqYPvzbTT/3BwhAEFZYP7QNFD6o8kZA/jgMv4/YKD+o8kZAJDqYvvzbTb+o8kZA4RZLP0Wmw7yo8kZA4X/AvgXwMj+o8kZA4a3VvtPSLL+o8kZA4RZLv0Wmwzw2q31A4X/APgXwMr82q31A4a3VPtPSLD82q31AcZQ6vyQrib02q31AF0fYPoYCGb82q31AyuGcPuonKj82q31AcZQ6PyQriT0XbUpCF0fYvoYCGT8XbUpCyuGcvuonKr8XbUpCcfQrPyWNpjwXbUpCP/i0vp1QEj8XbUpCo/CivgeFF78XbUpCcfQrvyWNprwMR8BCP/i0Pp1QEr8MR8BCo/CiPgeFFz8MR8BCJw8cv1gslr0MR8BCmZK8PuKH+74MR8BCaxd3PnyJED8MR8BCJw8cP1gslj17pgtDmZK8vuKH+z57pgtDaxd3vnyJEL97pgtDiWQOPyYgMD17pgtDeXWhvqOf6z57pgtDNKd2vtTRAL97pgtDiWQOvyYgML3cWzVDeXWhPqOf677cWzVDNKd2PtTRAD/cWzVDMnYAvzloMD3cWzVD6rpaPhOH6b7cWzVD746TPgx60z7cWzVDMnYAPzloML0NplxD6rpavhOH6T4NplxD746Tvgx6074NplxD",
        "encoding": "base64",
        "path": [
         "vertices",
         "data"
        ]
       },
       {
        "data": "",
        "encoding": "base64",
        "path": [
         "volume",
         "data"
        ]
       },
       {
        "data": "",
        "encoding": "base64",
        "path": [
         "volume_bounds",
         "data"
        ]
       }
      ],
      "model_module": "k3d",
      "model_module_version": "2.16.1",
      "model_name": "ObjectModel",
      "state": {
       "_view_module": null,
       "_view_module_version": "",
       "_view_name": null,
       "attribute": {
        "dtype": "float32",
        "shape": [
         0
        ]
       },
       "click_callback": false,
       "color": 33280,
       "colorLegend": false,
       "color_map": {
        "dtype": "float32",
        "shape": [
         1024
        ]
       },
       "color_range": [],
       "colors": {
        "dtype": "uint32",
        "shape": [
         0
        ]
       },
       "compression_level": 0,
       "custom_data": null,
       "flat_shading": true,
       "group": null,
       "hover_callback": false,
       "id": 2074067859072,
       "indices": {
        "dtype": "uint32",
        "shape": [
         72,
         3
        ]
       },
       "model_matrix": {
        "dtype": "float32",
        "shape": [
         4,
         4
        ]
       },
       "name": "Mesh #1",
       "normals": {
        "dtype": "float32",
        "shape": [
         0
        ]
       },
       "opacity": 1,
       "opacity_function": {
        "dtype": "float32",
        "shape": [
         0
        ]
       },
       "side": "front",
       "texture": null,
       "texture_file_format": null,
       "triangles_attribute": {
        "dtype": "float32",
        "shape": [
         0
        ]
       },
       "type": "Mesh",
       "uvs": {
        "dtype": "float32",
        "shape": []
       },
       "vertices": {
        "dtype": "float32",
        "shape": [
         54,
         3
        ]
       },
       "visible": true,
       "volume": {
        "dtype": "float32",
        "shape": [
         0
        ]
       },
       "volume_bounds": {
        "dtype": "float32",
        "shape": [
         0
        ]
       },
       "wireframe": false
      }
     },
     "1cf3debc42404f0daece9086d824413e": {
      "buffers": [
       {
        "data": "",
        "encoding": "base64",
        "path": [
         "attribute",
         "data"
        ]
       },
       {
        "data": "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",
        "encoding": "base64",
        "path": [
         "color_map",
         "data"
        ]
       },
       {
        "data": "",
        "encoding": "base64",
        "path": [
         "colors",
         "data"
        ]
       },
       {
        "data": "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",
        "encoding": "base64",
        "path": [
         "indices",
         "data"
        ]
       },
       {
        "data": "AACAPwAAAAAAAAAAAAAAAAAAAAAAAIA/AAAAAAAAAAAAAAAAAAAAAAAAgD8AAAAAAAAAAAAAAAAAAAAAAACAPw==",
        "encoding": "base64",
        "path": [
         "model_matrix",
         "data"
        ]
       },
       {
        "data": "",
        "encoding": "base64",
        "path": [
         "normals",
         "data"
        ]
       },
       {
        "data": "",
        "encoding": "base64",
        "path": [
         "opacity_function",
         "data"
        ]
       },
       {
        "data": "",
        "encoding": "base64",
        "path": [
         "triangles_attribute",
         "data"
        ]
       },
       {
        "data": "AADAfw==",
        "encoding": "base64",
        "path": [
         "uvs",
         "data"
        ]
       },
       {
        "data": "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",
        "encoding": "base64",
        "path": [
         "vertices",
         "data"
        ]
       },
       {
        "data": "",
        "encoding": "base64",
        "path": [
         "volume",
         "data"
        ]
       },
       {
        "data": "",
        "encoding": "base64",
        "path": [
         "volume_bounds",
         "data"
        ]
       }
      ],
      "model_module": "k3d",
      "model_module_version": "2.16.1",
      "model_name": "ObjectModel",
      "state": {
       "_view_module": null,
       "_view_module_version": "",
       "_view_name": null,
       "attribute": {
        "dtype": "float32",
        "shape": [
         0
        ]
       },
       "click_callback": false,
       "color": 11834880,
       "colorLegend": false,
       "color_map": {
        "dtype": "float32",
        "shape": [
         1024
        ]
       },
       "color_range": [],
       "colors": {
        "dtype": "uint32",
        "shape": [
         0
        ]
       },
       "compression_level": 0,
       "custom_data": null,
       "flat_shading": true,
       "group": null,
       "hover_callback": false,
       "id": 2074056063552,
       "indices": {
        "dtype": "uint32",
        "shape": [
         680,
         3
        ]
       },
       "model_matrix": {
        "dtype": "float32",
        "shape": [
         4,
         4
        ]
       },
       "name": "Mesh #2",
       "normals": {
        "dtype": "float32",
        "shape": [
         0
        ]
       },
       "opacity": 1,
       "opacity_function": {
        "dtype": "float32",
        "shape": [
         0
        ]
       },
       "side": "front",
       "texture": null,
       "texture_file_format": null,
       "triangles_attribute": {
        "dtype": "float32",
        "shape": [
         0
        ]
       },
       "type": "Mesh",
       "uvs": {
        "dtype": "float32",
        "shape": []
       },
       "vertices": {
        "dtype": "float32",
        "shape": [
         868,
         3
        ]
       },
       "visible": true,
       "volume": {
        "dtype": "float32",
        "shape": [
         0
        ]
       },
       "volume_bounds": {
        "dtype": "float32",
        "shape": [
         0
        ]
       },
       "wireframe": false
      }
     },
     "255d56e4dfdc4bcfa65e44b9d2c96202": {
      "model_module": "@jupyter-widgets/base",
      "model_module_version": "2.0.0",
      "model_name": "LayoutModel",
      "state": {}
     },
     "3ae8fd7235ff40c98c1183980d9ea322": {
      "buffers": [
       {
        "data": "",
        "encoding": "base64",
        "path": [
         "attribute",
         "data"
        ]
       },
       {
        "data": "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",
        "encoding": "base64",
        "path": [
         "color_map",
         "data"
        ]
       },
       {
        "data": "",
        "encoding": "base64",
        "path": [
         "colors",
         "data"
        ]
       },
       {
        "data": "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",
        "encoding": "base64",
        "path": [
         "indices",
         "data"
        ]
       },
       {
        "data": "AACAPwAAAAAAAAAAAAAAAAAAAAAAAIA/AAAAAAAAAAAAAAAAAAAAAAAAgD8AAAAAAAAAAAAAAAAAAAAAAACAPw==",
        "encoding": "base64",
        "path": [
         "model_matrix",
         "data"
        ]
       },
       {
        "data": "",
        "encoding": "base64",
        "path": [
         "normals",
         "data"
        ]
       },
       {
        "data": "",
        "encoding": "base64",
        "path": [
         "opacity_function",
         "data"
        ]
       },
       {
        "data": "",
        "encoding": "base64",
        "path": [
         "triangles_attribute",
         "data"
        ]
       },
       {
        "data": "AADAfw==",
        "encoding": "base64",
        "path": [
         "uvs",
         "data"
        ]
       },
       {
        "data": "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",
        "encoding": "base64",
        "path": [
         "vertices",
         "data"
        ]
       },
       {
        "data": "",
        "encoding": "base64",
        "path": [
         "volume",
         "data"
        ]
       },
       {
        "data": "",
        "encoding": "base64",
        "path": [
         "volume_bounds",
         "data"
        ]
       }
      ],
      "model_module": "k3d",
      "model_module_version": "2.16.1",
      "model_name": "ObjectModel",
      "state": {
       "_view_module": null,
       "_view_module_version": "",
       "_view_name": null,
       "attribute": {
        "dtype": "float32",
        "shape": [
         0
        ]
       },
       "click_callback": false,
       "color": 3302400,
       "colorLegend": false,
       "color_map": {
        "dtype": "float32",
        "shape": [
         1024
        ]
       },
       "color_range": [],
       "colors": {
        "dtype": "uint32",
        "shape": [
         0
        ]
       },
       "compression_level": 0,
       "custom_data": null,
       "flat_shading": true,
       "group": null,
       "hover_callback": false,
       "id": 2074023458432,
       "indices": {
        "dtype": "uint32",
        "shape": [
         4372,
         3
        ]
       },
       "model_matrix": {
        "dtype": "float32",
        "shape": [
         4,
         4
        ]
       },
       "name": "Mesh #1",
       "normals": {
        "dtype": "float32",
        "shape": [
         0
        ]
       },
       "opacity": 1,
       "opacity_function": {
        "dtype": "float32",
        "shape": [
         0
        ]
       },
       "side": "front",
       "texture": null,
       "texture_file_format": null,
       "triangles_attribute": {
        "dtype": "float32",
        "shape": [
         0
        ]
       },
       "type": "Mesh",
       "uvs": {
        "dtype": "float32",
        "shape": []
       },
       "vertices": {
        "dtype": "float32",
        "shape": [
         4462,
         3
        ]
       },
       "visible": true,
       "volume": {
        "dtype": "float32",
        "shape": [
         0
        ]
       },
       "volume_bounds": {
        "dtype": "float32",
        "shape": [
         0
        ]
       },
       "wireframe": false
      }
     },
     "63e82666a21b446f84146c67ceeb9dcb": {
      "model_module": "k3d",
      "model_module_version": "2.16.1",
      "model_name": "PlotModel",
      "state": {
       "_backend_version": "2.16.1",
       "antialias": 3,
       "auto_rendering": true,
       "axes": [
        "x",
        "y",
        "z"
       ],
       "axes_helper": 1,
       "axes_helper_colors": [
        16711680,
        65280,
        255
       ],
       "background_color": 16777215,
       "camera": [
        1215.2639879587969,
        -1132.8046263759857,
        457.34007906321466,
        248.8001480102539,
        316.8911335468292,
        360.6936950683594,
        0,
        0,
        1
       ],
       "camera_animation": [],
       "camera_auto_fit": true,
       "camera_damping_factor": 0,
       "camera_fov": 60,
       "camera_mode": "trackball",
       "camera_no_pan": false,
       "camera_no_rotate": false,
       "camera_no_zoom": false,
       "camera_pan_speed": 0.3,
       "camera_rotate_speed": 1,
       "camera_zoom_speed": 1.2,
       "clipping_planes": [],
       "colorbar_object_id": -1,
       "colorbar_scientific": false,
       "custom_data": null,
       "fps": 25,
       "fps_meter": false,
       "grid": [
        -1,
        -1,
        -1,
        1,
        1,
        1
       ],
       "grid_auto_fit": true,
       "grid_color": 15132390,
       "grid_visible": true,
       "height": 512,
       "label_color": 4473924,
       "layout": "IPY_MODEL_255d56e4dfdc4bcfa65e44b9d2c96202",
       "lighting": 3,
       "logarithmic_depth_buffer": true,
       "manipulate_mode": "translate",
       "menu_visibility": true,
       "minimum_fps": -1,
       "mode": "view",
       "name": null,
       "object_ids": [
        2074023458432,
        2074056063552
       ],
       "rendering_steps": 1,
       "screenshot": "",
       "screenshot_scale": 2,
       "snapshot": "",
       "snapshot_type": "full",
       "time": 0,
       "voxel_paint_color": 0
      }
     },
     "7a8733913c54450a85aad555a2f39ecf": {
      "model_module": "@jupyter-widgets/base",
      "model_module_version": "2.0.0",
      "model_name": "LayoutModel",
      "state": {}
     },
     "8a2ef6636db848e0918b7a1feec59774": {
      "buffers": [
       {
        "data": "",
        "encoding": "base64",
        "path": [
         "attribute",
         "data"
        ]
       },
       {
        "data": "AAAAAKabxDpvEgM607xjPCSXfzuZuxY7w2SqOgdfmDwkl/870ERYO+AtEDsUP8Y8ylRBPLx0kzuJ0l47/yH9PEmdgDymm8Q7dQKaOwkbHj0ukKA8SFD8O4LixztbsT89EoPAPFJJHTxIUPw7irBhPa5H4TxbsT88dQIaPEoMgj1JnQA9QmBlPDSANzxPQJM9vJYQPbn8hzxioVY8VHSkPS6QID3A7J48/mV3PMbctT2giTA9NIC3PATnjDw5Rcc97utAPYZa0zwJG548GeLYPWDlUD1F2PA8xSCwPGiz6j3T3mA9cM4IPYEmwjwkufw9RdhwPVFrGj09LNQ8cF8HPtxogD3EQi09+THmPIV8ED4Cmog9NxpAPbU3+DwHzhk+vJaQPYZaUz24HgU9ih8jPnWTmD2wA2c9u7gNPQ1xLD4ukKA9tRV7PeLpFT3G3DU+VcGoPUvIhz0tsh097nw/Pg6+sD0qOpI9nRElPRUdST7Hurg9duCcPVafKz08vVI+gLfAPZ7vpz1XWzE9mndcPjm0yD3F/rI9fa42PfkxZj5g5dA9yXa+PRHHOj2OBnA+GeLYPTojyj3tDT497MB5PtPe4D2GONY9EoNAPaW9gT6M2+g9003iPYEmQj3UmoY+RdjwPWkA7z04+EI96GqLPmwJ+T3/svs9XI9CPeAtkD4SgwA+OGcEPqW9QT2945Q+b4EEPigPCz43GkA9Y3+ZPsx/CD5O0RE+Njw9PdIAnj5fmAw+rK0YPjVeOj3uWqI+vJYQPgmKHz59rjY9uY2mPhiVFD7UmiY+6pUyPUymqj51kxg+n6stPnsULj1yiq4+0ZEcPmq8ND4Mkyk9KjqyPmWqID42zTs+nRElPY/CtT7BqCQ+OPhCPgn5ID1sCbk+HqcoPgMJSj5SSR099ii8PnqlLD7OGVE+dQIaPRIUvz7XozA+mSpYPlCNFz3c18E+arw0Pi0hXz7i6RU9HVrEPse6OD75MWY+KxgVPQu1xj4kuTw+Vg5tPisYFT2n6Mg+gLdAPuoEdD7i6RU98fTKPhTQRD5I4Xo+K/YXPc3MzD5wzkg+t9GAPlFrGj1yis4+zcxMPsoyhD4JGx49xSDQPinLUD7ek4c+nDMiPcWP0T6GyVQ+1eeKPsKGJz2q8dI+GeJYPs07jj6fqy09PSzUPnbgXD7Fj5E+fdAzPZhM1T7T3mA+veOUPhHHOj29UtY+L91kPpkqmD5cj0I9x0vXPsP1aD52cZs+qFdKPZkq2D4f9Gw+NquePs6IUj0179g+fPJwPhPyoT7RIls9tabZPtjwdD7UK6U+07xjPRpR2j4173g+lWWoPrG/bD1I4do+yAd9Plafqz5rK3Y9WmTbPhKDgD4X2a4+SS5/PVHa2z5BgoI+1xKyPgFNhD0tQ9w+b4GEPn0/tT7eAok97Z7cPp2Ahj4+ebg+u7iNPZHt3D7njIg+46W7PgWjkj0bL90+FYyKPqTfvj7iWJc9iGPdPkSLjD5KDMI+LUOcPduK3T5yio4+7zjFPgn5oD0tst0+vJaQPrByyD7mrqU9SL/dPuqVkj5Wn8s+MZmqPWTM3T4YlZQ++8vOPg5Prz1kzN0+RpSWPqH40T7qBLQ9SL/dPnWTmD5GJdU+x7q4PRKl3T6+n5o+7FHYPqRwvT3bit0+7Z6cPqyL2z6BJsI9iGPdPhuenj5SuN4+XdzGPRsv3T5JnaA+9+ThPsxdyz2t+tw+eJyiPp0R5T6pE9A9JLncPsGopD5eS+g+GJXUPX9q3D7wp6Y+A3jrPvVK2T2/Dtw+HqeoPqmk7j5kzN09/7LbPkymqj5O0fE+003iPSNK2z6Wsqw+Dwv1PrAD5z1I4do+xLGuPrU3+D4fhes9NV7aPvKwsD5aZPs+jgbwPT7o2T4hsLI+G57+Pv2H9D0QWNk+T6+0PmDlAD9sCfk948fYPpm7tj6zewI/24r9PZkq2D7Hurg+kxgEPyUGAT40gNc+9bm6PuauBT+lLAM+tMjWPiS5vD45RQc/XW0FPjQR1j5SuL4+GeIIPxSuBz60WdU+nMTAPmx4Cj/M7gk+/YfUPsrDwj5NFQw/gy8MPka20z74wsQ+n6sNPztwDj5z19I+J8LGPvJBDz/ysBA+ofjRPnDOyD7T3hA/4QsTPrMM0T6fzco+JXUSP5hMFT6pE9A+zczMPngLFD9QjRc+hA3PPvvLzj7LoRU/PugZPl8Hzj4py9A+HTgXPy1DHD4f9Mw+c9fSPnDOGD/kgx4+w9PLPqHW1D7DZBo/CfkgPmizyj7Q1dY+FvsbP/hTIz7whck+/tTYPmiRHT/mriU+XkvIPkjh2j67Jx8/CyQoPssQxz524Nw+gLcgPzGZKj4dycU+pN/ePtNNIj9WDi0+VHTEPtPe4D6Y3SM/e4MvPoofwz4B3uI+63MlP9cSMj6lvcE+S+rkPrADJz80ojQ+pU7APnnp5j51kyg/x0s3PonSvj6n6Og+rBwqPyPbOT5tVr0+1efqPnGsKz/tnjw+Udq7PgTn7D6oNS0/gEg/Pv5Duj5N8+4+bcUuP0oMQj7Hurg+fPLwPqVOMD8U0EQ+WRe3Pqrx8j5O0TE/FK5HPutztT7Y8PQ+hlozP0ymSj5hw7M+Iv32Pi/dND9NhE0+1xKyPlD8+D7ZXzY/vJZQPjJVsD5/+/o+guI3P/OOUz5yiq4+rfr8Pp5eOT+Zu1Y+sb+sPtv5/j662jo/PuhZPvH0qj4SgwA/1lY8P+QUXT75D6k+qoIBP2TMPT/AW2A+HTinPkGCAj/yQT8/07xjPiZTpT7YgQM/gLdAP+cdZz4TYaM+b4EEP4EmQj8xmWo+AG+hPpSHBT+BlUM/si5uPtJvnz4rhwY/gQRFPzPEcT6kcJ0+woYHP/RsRj/rc3U+WmSbPlmGCD/Zzkc/oyN5PhBYmT5+jAk/vjBJP8gHfT7HS5c+FYwKP6OSSj/3dYA+YTKVPqyLCz/67Us/CmiCPvwYkz5Eiww/UklNP1R0hD588pA+24oNPxueTj+dgIY++8uOPgCRDj9X7E8/ApqIPnqljD6XkA8/kzpRP4PAij7ecYo+LpAQP86IUj8E54w+Qj6IPsWPET990FM/oBqPPov9hT5cjxI/nRFVP1dbkT7vyYM+gZUTP71SVj8qqZM+N4mBPhiVFD9QjVc//faVPgCRfj6vlBU/VcFYPwdfmD5a9Xk+RpQWP1r1WT8Rx5o+tFl1PmuaFz/RIls/Gy+dPg6+cD4Cmhg/uklcP1uxnz5oImw+mpkZP6RwXT+cM6I+woZnPjGZGj8AkV4/+MKkPuXQYj7ImBs/zqpfP3Bfpz4JG14+7Z4cP5zEYD8DCao+LGVZPoSeHT/c12E/lrKsPhiVVD4bnh4/j+RiP0Rprz47308+sp0fP7PqYz8OLbI+KA9LPtejID/Y8GQ/2PC0PhQ/Rj5uoyE/b/BlP77Btz4Ab0E+BaMiP3npZj++n7o+toQ8PpyiIz/122c/v329PqK0Nz40oiQ/cM5oP/d1wD5YyjI+WKglP166aT8TYcM+DeAtPvCnJj++n2o/ZmbGPozbKD6Hpyc/kX5rP7pryT5B8SM+HqcoP9ZWbD8ofsw+wOwePrWmKT8bL20/l5DPPj7oGT7arCo/RPptPyGw0j694xQ+cawrP23Fbj+rz9U+BcUPPgisLD8Jim8/UPzYPkymCj6fqy0/pU5wPxE23D6UhwU+xLEuPyUGcT/Sb98+3GgAPluxLz+lvXE/rrbiPkaU9j3ysDA/mG5yP4v95T5oIuw9irAxP/wYcz+DUek+irDhPSGwMj/TvHM/eqXsPj0K1z1GtjM/HVp0P3L57z5fmMw93bU0P2b3dD+hZ/M+E/LBPXS1NT+Uh3U/tMj2PsdLtz0LtTY/whd2P+M2+j56paw9orQ3P2Khdj8tsv0+Lv+hPce6OD90JHc/LpAAP+JYlz1eujk/+aB3P2FUAj+Wsow99bk6P34deD8GEgQ/SgyCPYy5Oz/njHg/xtwFP9c0bz2xvzw/UPx4P/mgBz8aUVo9SL89PyxleT+6awk/FD9GPeC+Pj96x3k/ejYLP+qVMj13vj8/OiN6PzsBDT9SJyA9Dr5AP2x4ej+J0g4/TfMOPTPEQT+fzXo/ZaoQP0mdAD3Kw0I/tRV7P7N7Ej/VeOk8YcNDP8xdez+PUxQ/YqHWPPjCRD9Wn3s/aysWP6hXyjyPwkU/Udp7P0cDGD84+MI8tMhGP78OfD+x4Rk/ylTBPEvIRz+fPHw/GsAbPxQ/xjzjx0g/f2p8PxKlHT8Xt9E8esdJP0SLfD97gx8/07zjPJ/NSj8IrHw/c2ghP/8h/Tw2zUs/sb98P2pNIz9N8w49zcxMP1vTfD9hMiU/L24jPWTMTT924Hw/5x0nPxHHOj37y04/BOd8P2wJKT9hw1M9INJPPwTnfD9j7io/+8tuPbfRUD8E53w/duAsPwK8hT1O0VE/6Nl8P/vLLj/hepQ95dBSP83MfD8OvjA/CtejPQrXUz+Wsnw/k6kyPw+csz2h1lQ/X5h8P6abND9d/sM9OdZVP5p3fD9GlDY/hsnUPdDVVj9IUHw/WYY4Px3J5T1n1Vc/aCJ8P2x4Oj/+Zfc9jNtYP/rtez8NcTw/ppsEPiPbWT//sns/rWk+P/LSDT662lo/dnF7P8BbQD90JBc+UdpbP+wvez9hVEI/ZaogPujZXD9I4Xo/AU1EP8NkKj4N4F0/o5J6P6JFRj9YOTQ+pN9eP3E9ej/QREg/klw+PjvfXz+x4Xk/cT1KPzm0SD7T3mA/Y395PxE2TD9PQFM+9+RhPxUdeT+yLk4/CRtePo/kYj85tHg/UidQPzAqaT4m5GM/0ER4P/MfUj/GbXQ+veNkP9nOdz+TGFQ/AACAPlTjZT/iWHc/NBFWP1TjhT556WY/6+J2P0cDWD8W+4s+EOlnP2Zmdj/n+1k/Di2SPqfoaD/i6XU/+u1bP3WTmD4+6Gk/XW11P3/ZXT8tIZ8+1edqP9jwdD8FxV8/VOOlPvrtaz/henQ/irBhP83MrD6R7Ww/6gR0P/OOYz+z6rM+Ke1tP4GVcz9dbWU/7C+7PsDsbj8zM3M/OUVnP662wj7l8m8/Ad5yP4cWaT/DZMo+fPJwP+qVcj+62mo/RUfSPhPycT98YXI/X5hsPxpR2j6q8XI/RUdyP+lIbj9BguI+QfFzP0VHcj9X7G8/n83qPmb3dD8KaHI/HHxxPzMz8z799nU/k6lyP1MFcz/ImPs+lPZ2P28Scz9vgXQ/vAUCPyv2dz+conM/4ul1P/kxBj/D9Xg/HVp0PzlFdz+oVwo/5/t5P+84dT91k3g/rWkOP3/7ej+GOHY/ldR5PwpoEj8W+3s/4lh3PygPez+9UhY/rfp8P5CgeD+fPHw/xykaP9IAfj/n+3k/iGN9P5vmHT9pAH8/A3h7P1Z9fj83iSE/AACAP8gHfT8kl38/KxglPw==",
        "encoding": "base64",
        "path": [
         "color_map",
         "data"
        ]
       },
       {
        "data": "",
        "encoding": "base64",
        "path": [
         "colors",
         "data"
        ]
       },
       {
        "data": "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",
        "encoding": "base64",
        "path": [
         "indices",
         "data"
        ]
       },
       {
        "data": "AACAPwAAAAAAAAAAAAAAAAAAAAAAAIA/AAAAAAAAAAAAAAAAAAAAAAAAgD8AAAAAAAAAAAAAAAAAAAAAAACAPw==",
        "encoding": "base64",
        "path": [
         "model_matrix",
         "data"
        ]
       },
       {
        "data": "",
        "encoding": "base64",
        "path": [
         "normals",
         "data"
        ]
       },
       {
        "data": "",
        "encoding": "base64",
        "path": [
         "opacity_function",
         "data"
        ]
       },
       {
        "data": "",
        "encoding": "base64",
        "path": [
         "triangles_attribute",
         "data"
        ]
       },
       {
        "data": "AADAfw==",
        "encoding": "base64",
        "path": [
         "uvs",
         "data"
        ]
       },
       {
        "data": "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",
        "encoding": "base64",
        "path": [
         "vertices",
         "data"
        ]
       },
       {
        "data": "",
        "encoding": "base64",
        "path": [
         "volume",
         "data"
        ]
       },
       {
        "data": "",
        "encoding": "base64",
        "path": [
         "volume_bounds",
         "data"
        ]
       }
      ],
      "model_module": "k3d",
      "model_module_version": "2.16.1",
      "model_name": "ObjectModel",
      "state": {
       "_view_module": null,
       "_view_module_version": "",
       "_view_name": null,
       "attribute": {
        "dtype": "float32",
        "shape": [
         0
        ]
       },
       "click_callback": false,
       "color": 46080,
       "colorLegend": false,
       "color_map": {
        "dtype": "float32",
        "shape": [
         1024
        ]
       },
       "color_range": [],
       "colors": {
        "dtype": "uint32",
        "shape": [
         0
        ]
       },
       "compression_level": 0,
       "custom_data": null,
       "flat_shading": true,
       "group": null,
       "hover_callback": false,
       "id": 2074067045360,
       "indices": {
        "dtype": "uint32",
        "shape": [
         149,
         3
        ]
       },
       "model_matrix": {
        "dtype": "float32",
        "shape": [
         4,
         4
        ]
       },
       "name": "Mesh #2",
       "normals": {
        "dtype": "float32",
        "shape": [
         0
        ]
       },
       "opacity": 1,
       "opacity_function": {
        "dtype": "float32",
        "shape": [
         0
        ]
       },
       "side": "front",
       "texture": null,
       "texture_file_format": null,
       "triangles_attribute": {
        "dtype": "float32",
        "shape": [
         0
        ]
       },
       "type": "Mesh",
       "uvs": {
        "dtype": "float32",
        "shape": []
       },
       "vertices": {
        "dtype": "float32",
        "shape": [
         176,
         3
        ]
       },
       "visible": true,
       "volume": {
        "dtype": "float32",
        "shape": [
         0
        ]
       },
       "volume_bounds": {
        "dtype": "float32",
        "shape": [
         0
        ]
       },
       "wireframe": false
      }
     },
     "cf8982dc1c8f442292d891aa9cf951d9": {
      "model_module": "k3d",
      "model_module_version": "2.16.1",
      "model_name": "PlotModel",
      "state": {
       "_backend_version": "2.16.1",
       "antialias": 3,
       "auto_rendering": true,
       "axes": [
        "x",
        "y",
        "z"
       ],
       "axes_helper": 1,
       "axes_helper_colors": [
        16711680,
        65280,
        255
       ],
       "background_color": 16777215,
       "camera": [
        183.32215452378446,
        -274.9832317856767,
        128.6565333845075,
        0,
        0,
        110.3243179321289,
        0,
        0,
        1
       ],
       "camera_animation": [],
       "camera_auto_fit": true,
       "camera_damping_factor": 0,
       "camera_fov": 60,
       "camera_mode": "trackball",
       "camera_no_pan": false,
       "camera_no_rotate": false,
       "camera_no_zoom": false,
       "camera_pan_speed": 0.3,
       "camera_rotate_speed": 1,
       "camera_zoom_speed": 1.2,
       "clipping_planes": [],
       "colorbar_object_id": -1,
       "colorbar_scientific": false,
       "custom_data": null,
       "fps": 25,
       "fps_meter": false,
       "grid": [
        -1,
        -1,
        -1,
        1,
        1,
        1
       ],
       "grid_auto_fit": true,
       "grid_color": 15132390,
       "grid_visible": true,
       "height": 512,
       "label_color": 4473924,
       "layout": "IPY_MODEL_7a8733913c54450a85aad555a2f39ecf",
       "lighting": 3,
       "logarithmic_depth_buffer": true,
       "manipulate_mode": "translate",
       "menu_visibility": true,
       "minimum_fps": -1,
       "mode": "view",
       "name": null,
       "object_ids": [
        2074067859072,
        2074067045360
       ],
       "rendering_steps": 1,
       "screenshot": "",
       "screenshot_scale": 2,
       "snapshot": "",
       "snapshot_type": "full",
       "time": 0,
       "voxel_paint_color": 0
      }
     }
    },
    "version_major": 2,
    "version_minor": 0
   }
  }
 },
 "nbformat": 4,
 "nbformat_minor": 5
}
