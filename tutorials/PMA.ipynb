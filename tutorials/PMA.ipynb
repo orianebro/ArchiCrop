{
 "cells": [
  {
   "cell_type": "markdown",
   "id": "31e7c70c-f264-40d7-9287-4ae1f8b30979",
   "metadata": {},
   "source": [
    "# Simulations for PMA abstract"
   ]
  },
  {
   "cell_type": "markdown",
   "id": "fe31c5a6-c8c0-43c9-b623-bbc7e4573b11",
   "metadata": {},
   "source": [
    "## 0. Imports"
   ]
  },
  {
   "cell_type": "code",
   "execution_count": 1,
   "id": "7ba99dee-5c5b-41f6-b32a-85bc95be9544",
   "metadata": {},
   "outputs": [],
   "source": [
    "import numpy as np\n",
    "from oawidgets.plantgl import *\n",
    "from openalea.plantgl.all import Material, Color3, Scene\n",
    "import oawidgets.mtg\n",
    "\n",
    "from openalea.archicrop.archicrop import ArchiCrop\n",
    "from openalea.archicrop.display import build_scene, display_scene\n",
    "import matplotlib.pyplot as plt\n",
    "%gui qt"
   ]
  },
  {
   "cell_type": "markdown",
   "id": "13b7984c-51e7-4077-96ec-9bcc73150520",
   "metadata": {},
   "source": [
    "## 1. Set management parameters\n",
    "\n",
    "Set parameters regarding the spatial (and temporal) configuration of the crop."
   ]
  },
  {
   "cell_type": "code",
   "execution_count": 2,
   "id": "c690784e-63d3-458f-b901-2f96505f1fac",
   "metadata": {},
   "outputs": [],
   "source": [
    "file_tec_xml = 'sorgho_tec.xml'\n",
    "params_tec = ['densitesem', 'interrang']\n",
    "tec_stics = read_xml_file(file_tec_xml, params_tec)\n",
    "sowing_density = tec_stics['densitesem']\n",
    "inter_row = 0.4"
   ]
  },
  {
   "cell_type": "markdown",
   "id": "d282da23-eaa6-402c-8e54-df79bef01aad",
   "metadata": {},
   "source": [
    "## 2. Format crop-scale growth and senescence dynamics\n",
    "\n",
    "From crop-scale data either measured or simulated with a crop model, generate a dictionnary of dictionnaries for each day with the following values :\n",
    " - \"Thermal time\" (float): cumulated thermal time from beginning of simulation to current day (in °C.day)\n",
    " - \"Phenology\" (str): current phenological stage (germination, juvenile, exponential or repro)\n",
    " - \"Plant leaf area\" (float): plant leaf area (in cm²) \n",
    " - \"Leaf area increment\" (float): leaf area increment compared to previous day (in cm²) \n",
    " - \"Plant senescent leaf area\" (float): senescent plant leaf area (in cm²) \n",
    " - \"Senescent leaf area increment\" (float): senescent leaf area increment compared to previous day (in cm²) \n",
    " - \"Plant height\" (float): plant height (in cm) \n",
    " - \"Height increment\" (float): height increment compared to previous day (in cm)."
   ]
  },
  {
   "cell_type": "code",
   "execution_count": null,
   "id": "9504112c-34c3-4646-9ee1-259667ce80a8",
   "metadata": {},
   "outputs": [],
   "source": [
    "stics_output_file = 'mod_ssorghum.sti'\n",
    "daily_dynamics = read_sti_file(stics_output_file, sowing_density)\n",
    "\n",
    "# Time series \n",
    "# for thermal time, plant leaf area, plant senescent leaf area and plant height\n",
    "thermal_time = [value[\"Thermal time\"] for value in daily_dynamics.values()]\n",
    "leaf_area_plant = [value[\"Plant leaf area\"] for value in daily_dynamics.values()]\n",
    "sen_leaf_area_plant = [value[\"Plant senescent leaf area\"] for value in daily_dynamics.values()]\n",
    "height_canopy = [value[\"Plant height\"] for value in daily_dynamics.values()]"
   ]
  },
  {
   "cell_type": "code",
   "execution_count": null,
   "id": "94f3ce04-d047-4f33-bae1-229cb7ba979b",
   "metadata": {},
   "outputs": [],
   "source": [
    "file_plt_xml = 'proto_sorghum_plt.xml'\n",
    "params_sen = ['durvieF', 'ratiodurvieI']\n",
    "sen_stics = read_xml_file(file_plt_xml, params_sen)\n",
    "lifespan = sen_stics['durvieF'] # leaf lifespan from appearance in exponential phase\n",
    "lifespan_early = sen_stics['ratiodurvieI'] * lifespan # leaf lifespan from appearance in juvenile phase"
   ]
  },
  {
   "cell_type": "markdown",
   "id": "c8cad4ae-0e0a-4693-a4ed-4494e9a3dbf3",
   "metadata": {},
   "source": [
    "## 3. Set plant architectural parameters\n",
    "\n",
    "Set topological, geometrical and developmental parameters, in a range corresponding a given species, found in literature."
   ]
  },
  {
   "cell_type": "code",
   "execution_count": 6,
   "id": "fc27b380-3989-4cec-842c-ef92d36a4490",
   "metadata": {},
   "outputs": [],
   "source": [
    "archi = dict(\n",
    "    nb_phy=12, # number of phytomers on the main stem\n",
    "    \n",
    "    # Stem\n",
    "    height=max(height_canopy), # potential plant height\n",
    "    stem_q=1.1, # parameter for ligule height geometric distribution along axis\n",
    "    diam_base=2.5, # stem base diameter\n",
    "    diam_top=1.5, # stem top diameter\n",
    "\n",
    "    # Leaf area distribution along the stem  \n",
    "    leaf_area=max(leaf_area_plant), # potential plant leaf area\n",
    "    rmax=0.8, #relative position of largest leaf on the stem\n",
    "    skew=0.0005, # skewness for leaf area distribution along axis\n",
    "\n",
    "    # blade area\n",
    "    wl=0.12, # leaf blade width-to-length ratio \n",
    "    klig=0.6, # parameter for leaf blade shape\n",
    "    swmax=0.55, # relative position of maximal blade width\n",
    "    f1=0.64, # parameter for leaf blade shape\n",
    "    f2=0.92, # parameter for leaf blade shape\n",
    "\n",
    "    # blade curvature\n",
    "    insertion_angle=35, # leaf blade insertion angle\n",
    "    scurv=0.7, #  relative position of inflexion point\n",
    "    curvature=120, # leaf blade insertion-to-tip angle\n",
    "    phyllotactic_angle=137.5, # phyllotactic angle\n",
    "    phyllotactic_deviation=0, # half-deviation to phyllotactic angle\n",
    "\n",
    "    # Development\n",
    "    phyllochron=30, # phyllochron, i.e. stem element appearance rate\n",
    "    plastochron=20, # plastochron, i.e. leaf blade appearance rate\n",
    "\n",
    "    # Senescence \n",
    "    leaf_lifespan = [lifespan_early, lifespan], # leaf lifespan from appearance\n",
    "\n",
    "    # Tillering\n",
    "    nb_tillers=0, # number of tillers\n",
    "    tiller_delay=1, # delay, as factor of phyllochron, between the appearance of a phytomer and the appearance of its tiller\n",
    "    tiller_angle=30,\n",
    "    reduction_factor=1 # reduction factor between tillers of consecutive order\n",
    ")"
   ]
  },
  {
   "cell_type": "markdown",
   "id": "340079dc-3693-4cb7-8fc4-bb8acfd26a97",
   "metadata": {},
   "source": [
    "## 4. Instantiate ArchiCrop object"
   ]
  },
  {
   "cell_type": "code",
   "execution_count": 7,
   "id": "d92459b4-a91f-4c83-b597-f4df5d669552",
   "metadata": {},
   "outputs": [],
   "source": [
    "plant = ArchiCrop(daily_dynamics=daily_dynamics, **archi)"
   ]
  },
  {
   "cell_type": "markdown",
   "id": "ac1d95d9-d0f2-423c-a313-e44bc2a2f11f",
   "metadata": {},
   "source": [
    "## 5. Generate a potential plant \n",
    "\n",
    "Generate a potential plant from architectural parameters. \n",
    "\n",
    "This creates an MTG (Multi-scale Tree Graph, cf [doc](https://mtg.readthedocs.io/en/latest/user/tutorial.html)) as a property of the object plant."
   ]
  },
  {
   "cell_type": "markdown",
   "id": "e323e26a-031e-4fae-a63a-0141b7a161e9",
   "metadata": {},
   "source": [
    "## 6. Simulate growth and senescence of plants\n",
    "\n",
    "Simulate growth and senescence of this plant following the daily dynamics."
   ]
  },
  {
   "cell_type": "code",
   "execution_count": 11,
   "id": "ec6ea424-5954-468d-93aa-688143b974bd",
   "metadata": {},
   "outputs": [],
   "source": [
    "growing_plant = plant.grow_plant()"
   ]
  },
  {
   "cell_type": "code",
   "execution_count": null,
   "id": "6aaec945-2063-497d-9bab-88b367c53d23",
   "metadata": {},
   "outputs": [],
   "source": []
  },
  {
   "cell_type": "code",
   "execution_count": null,
   "id": "aad01ee1-702a-4547-a887-e0bac02d770b",
   "metadata": {},
   "outputs": [],
   "source": [
    "# Create a figure with two subplots side by side\n",
    "fig, axes = plt.subplots(1, 2, figsize=(12, 6))  # 1 row, 2 columns\n",
    "\n",
    "# Plot on the first subplot\n",
    "axes[0].plot(time, [la-sen for la, sen in zip(LA_stics, sen_LA_stics)], color=\"black\", label=\"LA STICS\")\n",
    "for result in fitting_sim['LA']:\n",
    "    axes[0].plot(time, result)\n",
    "axes[0].set_xlabel(\"Thermal time (°C.day)\")\n",
    "axes[0].set_ylabel(\"Leaf Area / plant\")\n",
    "axes[0].set_title(\"Leaf Area: 3D canopy vs. STICS\")\n",
    "axes[0].legend()\n",
    "\n",
    "# Plot on the second subplot\n",
    "axes[1].plot(time, height_stics, color=\"black\", label=\"height STICS\")\n",
    "for result in fitting_sim['height']:\n",
    "    axes[1].plot(time, result)\n",
    "axes[1].set_xlabel(\"Thermal time (°C.day)\")\n",
    "axes[1].set_ylabel(\"Plant height\")\n",
    "axes[1].set_title(\"Plant height: 3D canopy vs. STICS\")\n",
    "axes[1].legend()\n",
    "\n",
    "# Adjust layout\n",
    "plt.tight_layout()\n",
    "\n",
    "# Show the plot\n",
    "plt.show()"
   ]
  },
  {
   "cell_type": "markdown",
   "id": "8d0ce828-3223-4db6-8471-81cb2097cbaf",
   "metadata": {},
   "source": [
    "## 7. Morphospace"
   ]
  },
  {
   "cell_type": "code",
   "execution_count": null,
   "id": "4cc0ae3f-80bf-4490-81eb-070ff4ee3254",
   "metadata": {},
   "outputs": [],
   "source": []
  },
  {
   "cell_type": "code",
   "execution_count": null,
   "id": "004d1743-f38b-479d-ad5b-08d990dbbdf2",
   "metadata": {},
   "outputs": [],
   "source": []
  },
  {
   "cell_type": "code",
   "execution_count": 12,
   "id": "09ca7584-8085-4e17-b494-674736b4f7a5",
   "metadata": {},
   "outputs": [
    {
     "data": {
      "application/vnd.jupyter.widget-view+json": {
       "model_id": "96346ad383b9442c82426be2160aa3ba",
       "version_major": 2,
       "version_minor": 0
      },
      "text/plain": [
       "Plot(antialias=3, axes=['x', 'y', 'z'], axes_helper=1.0, axes_helper_colors=[16711680, 65280, 255], background…"
      ]
     },
     "execution_count": 12,
     "metadata": {},
     "output_type": "execute_result"
    }
   ],
   "source": [
    "times = [t for i,t in enumerate(thermal_time)]\n",
    "mean_time = sum(times) / len(times)\n",
    "positions_temp = [ (0, 1*(t-mean_time), 0) for t in times]\n",
    "nice_green = Color3((50, 100, 0))\n",
    "scene, _ = build_scene([g for i,g in enumerate(list(growing_plant.values()))], position=positions, senescence=True, leaf_material = Material(nice_green), stem_material=Material(nice_green))\n",
    "PlantGL(scene)"
   ]
  }
 ],
 "metadata": {
  "kernelspec": {
   "display_name": "Python 3 (ipykernel)",
   "language": "python",
   "name": "python3"
  },
  "language_info": {
   "codemirror_mode": {
    "name": "ipython",
    "version": 3
   },
   "file_extension": ".py",
   "mimetype": "text/x-python",
   "name": "python",
   "nbconvert_exporter": "python",
   "pygments_lexer": "ipython3",
   "version": "3.12.3"
  },
  "widgets": {
   "application/vnd.jupyter.widget-state+json": {
    "state": {},
    "version_major": 2,
    "version_minor": 0
   }
  }
 },
 "nbformat": 4,
 "nbformat_minor": 5
}
