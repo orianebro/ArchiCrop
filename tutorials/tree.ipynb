{
 "cells": [
  {
   "cell_type": "code",
   "execution_count": 4,
   "id": "bacf73e1-1c9e-4da1-851c-8660aa845dc9",
   "metadata": {},
   "outputs": [],
   "source": [
    "from openalea.plantgl.all import *\n",
    "from openalea.mtg import *\n",
    "from oawidgets.plantgl import PlantGL"
   ]
  },
  {
   "cell_type": "markdown",
   "id": "8f448563-2cfc-4874-b0ef-f393af86b847",
   "metadata": {},
   "source": [
    "# Draw a leaf\n",
    "A leaf can be a complex shape or just a simple triangle"
   ]
  },
  {
   "cell_type": "code",
   "execution_count": 5,
   "id": "6a452735-f868-47a4-a5a8-d7adec2a9180",
   "metadata": {},
   "outputs": [],
   "source": [
    "def bezier_leaf():\n",
    "    l = []\n",
    "    l.append([Vector4(-0.00170203, 0.00487903, -0.00155362, 1),\n",
    "              Vector4(-0.00946124, 0.0267487, 0.00857975, 1),\n",
    "              Vector4(-0.0145598, 0.0310762, 0.0565383, 1),\n",
    "              Vector4(-0.00422035, 0.0237428, 0.101953, 1)])\n",
    "    l.append([Vector4(3.9604e-05, 0.0019996, 5.60056e-06, 1),\n",
    "              Vector4(-0.00466331, 0.00703859, 0.0339818, 1),\n",
    "              Vector4(-0.00868596, 0.00523895, 0.076457, 1),\n",
    "              Vector4(0.00379859, 0.00943444, 0.154352, 1)])\n",
    "    l.append([Vector4(-3.9604e-05, -0.0019996, -5.60056e-06, 1),\n",
    "              Vector4(-0.00493527, 0.00263947, 0.0352765, 1),\n",
    "              Vector4(-0.00867663, 0.00259947, 0.0760139, 1),\n",
    "              Vector4(0.00447972, 0.00923447, 0.156651, 1)])\n",
    "    l.append([Vector4(-0.00218137, -0.00475904, 0.000459084, 1),\n",
    "              Vector4(-0.0120507, -0.0206578, 0.0115464, 1),\n",
    "              Vector4(-0.0150292, -0.0230562, 0.0604107, 1),\n",
    "              Vector4(-0.00608397, -0.0102688, 0.102558, 1)])\n",
    "    \n",
    "    matrix = Point4Matrix(4, 4)\n",
    "    for i, row in enumerate(l):\n",
    "        for j, pt in enumerate(row):\n",
    "            pt = pt * 9\n",
    "            pt.w = 1\n",
    "            matrix[i, j] = pt\n",
    "    \n",
    "    leaf = BezierPatch(matrix, 4, 4)\n",
    "\n",
    "    leaf.name = 'leaf'\n",
    "    return leaf\n"
   ]
  },
  {
   "cell_type": "code",
   "execution_count": 6,
   "id": "cea73478-a742-4d64-ad68-f000e08c8b92",
   "metadata": {},
   "outputs": [],
   "source": [
    "leaf=bezier_leaf()"
   ]
  },
  {
   "cell_type": "code",
   "execution_count": 7,
   "id": "61657ada-96bb-412b-8d2b-cfde78d2260b",
   "metadata": {},
   "outputs": [
    {
     "data": {
      "application/vnd.jupyter.widget-view+json": {
       "model_id": "4c35abc200d5471db7048abb1d9c224f",
       "version_major": 2,
       "version_minor": 0
      },
      "text/plain": [
       "Plot(antialias=3, axes=['x', 'y', 'z'], axes_helper=1.0, axes_helper_colors=[16711680, 65280, 255], background…"
      ]
     },
     "execution_count": 7,
     "metadata": {},
     "output_type": "execute_result"
    }
   ],
   "source": [
    "PlantGL(leaf)"
   ]
  },
  {
   "cell_type": "code",
   "execution_count": 11,
   "id": "967f4629-a6df-4283-a0c9-e033c473817b",
   "metadata": {},
   "outputs": [
    {
     "data": {
      "application/vnd.jupyter.widget-view+json": {
       "model_id": "da975c9233d442078263d58af7b0114e",
       "version_major": 2,
       "version_minor": 0
      },
      "text/plain": [
       "Plot(antialias=3, axes=['x', 'y', 'z'], axes_helper=1.0, axes_helper_colors=[16711680, 65280, 255], background…"
      ]
     },
     "execution_count": 11,
     "metadata": {},
     "output_type": "execute_result"
    }
   ],
   "source": [
    "# list of points\n",
    "points =  [(-1,-1,0),\n",
    "           (1,-1,0),\n",
    "           (1,1,0),\n",
    "           (-1,1,0)]\n",
    "# list of indices\n",
    "indices = [(0, 1, 2),(2,3,0)]\n",
    "# creating the geometry\n",
    "simple_leaf = TriangleSet(pointList=points, indexList=indices)\n",
    "PlantGL(simple_leaf)"
   ]
  },
  {
   "cell_type": "markdown",
   "id": "484fa090-0a2d-4ff5-a2d7-0cf3b3e05adb",
   "metadata": {},
   "source": [
    "# Generate a tree (Cylinder + list of leaves)"
   ]
  },
  {
   "cell_type": "code",
   "execution_count": 24,
   "id": "a58bdd62-bda7-448e-9c10-da69cbc4a89b",
   "metadata": {},
   "outputs": [
    {
     "data": {
      "application/vnd.jupyter.widget-view+json": {
       "model_id": "3084d0fe22f242feb2b6c78020e84ea4",
       "version_major": 2,
       "version_minor": 0
      },
      "text/plain": [
       "Plot(antialias=3, axes=['x', 'y', 'z'], axes_helper=1.0, axes_helper_colors=[16711680, 65280, 255], background…"
      ]
     },
     "execution_count": 24,
     "metadata": {},
     "output_type": "execute_result"
    }
   ],
   "source": [
    "tree = []\n",
    "\n",
    "def trunk(height=30):\n",
    "    return Cylinder(radius=1, height=height)\n",
    "\n",
    "PlantGL(trunk())"
   ]
  },
  {
   "cell_type": "code",
   "execution_count": 25,
   "id": "4816958a-9c7f-43c6-bedf-cf0a7b97a92b",
   "metadata": {
    "scrolled": true
   },
   "outputs": [
    {
     "data": {
      "application/vnd.jupyter.widget-view+json": {
       "model_id": "e61b643177a84942880f73d6a795da1d",
       "version_major": 2,
       "version_minor": 0
      },
      "text/plain": [
       "Plot(antialias=3, axes=['x', 'y', 'z'], axes_helper=1.0, axes_helper_colors=[16711680, 65280, 255], background…"
      ]
     },
     "execution_count": 25,
     "metadata": {},
     "output_type": "execute_result"
    }
   ],
   "source": [
    "from random import uniform\n",
    "from math import cos, sin, radians, pi\n",
    "\n",
    "def spherical(radius):\n",
    "    theta = uniform(-pi, pi)\n",
    "    phi = uniform(-pi/2, pi/2)\n",
    "    return [radius * cos(theta) * cos(phi),\n",
    "            radius * sin(theta) * cos(phi),\n",
    "            radius *sin(phi)]\n",
    "            \n",
    "def leaves(nb_leaves=1000, height=30, radius=20):\n",
    "    l = []\n",
    "    \n",
    "    rads = [0, 5, 15, 20]\n",
    "    p1, p2, p3 = 0.1, 0.6, 0.3\n",
    "    \n",
    "    for i in range(nb_leaves):\n",
    "        p = uniform(0,1)\n",
    "        if p <= p1:\n",
    "            rad = uniform(rads[0], rads[1])\n",
    "        elif p1< p <=p2:\n",
    "            rad = uniform(rads[1], rads[2])\n",
    "        else:\n",
    "            rad = uniform(rads[2], rads[3])\n",
    "\n",
    "        position = spherical(rad)\n",
    "        position[2] +=(height+radius)\n",
    "\n",
    "        az, el, roll = uniform(-pi, pi), uniform(0, pi), uniform(-pi, pi)\n",
    "        _leaf = Translated(position, EulerRotated (az, el, roll, simple_leaf))\n",
    "\n",
    "        l.append(_leaf)\n",
    "\n",
    "    return l\n",
    "\n",
    "scene = Scene(leaves())\n",
    "scene+=trunk()\n",
    "PlantGL(scene)\n",
    "        \n",
    "        \n",
    "\n",
    "            \n",
    "\n",
    "    \n",
    "    "
   ]
  },
  {
   "cell_type": "code",
   "execution_count": null,
   "id": "f65eba00-3ffd-4172-b66a-bda261e43aee",
   "metadata": {},
   "outputs": [],
   "source": []
  }
 ],
 "metadata": {
  "kernelspec": {
   "display_name": "Python 3 (ipykernel)",
   "language": "python",
   "name": "python3"
  },
  "language_info": {
   "codemirror_mode": {
    "name": "ipython",
    "version": 3
   },
   "file_extension": ".py",
   "mimetype": "text/x-python",
   "name": "python",
   "nbconvert_exporter": "python",
   "pygments_lexer": "ipython3",
   "version": "3.10.13"
  },
  "widgets": {
   "application/vnd.jupyter.widget-state+json": {
    "state": {
     "0016e07b35c64afd9ddcc69f916981b9": {
      "buffers": [
       {
        "data": "",
        "encoding": "base64",
        "path": [
         "attribute",
         "data"
        ]
       },
       {
        "data": "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",
        "encoding": "base64",
        "path": [
         "color_map",
         "data"
        ]
       },
       {
        "data": "",
        "encoding": "base64",
        "path": [
         "colors",
         "data"
        ]
       },
       {
        "data": "AAAAAAIAAAABAAAAAQAAAAIAAAADAAAAAQAAAAMAAAARAAAAAAAAABAAAAACAAAAAgAAAAQAAAADAAAAAwAAAAQAAAAFAAAAAwAAAAUAAAARAAAAAgAAABAAAAAEAAAABAAAAAYAAAAFAAAABQAAAAYAAAAHAAAABQAAAAcAAAARAAAABAAAABAAAAAGAAAABgAAAAgAAAAHAAAABwAAAAgAAAAJAAAABwAAAAkAAAARAAAABgAAABAAAAAIAAAACAAAAAoAAAAJAAAACQAAAAoAAAALAAAACQAAAAsAAAARAAAACAAAABAAAAAKAAAACgAAAAwAAAALAAAACwAAAAwAAAANAAAACwAAAA0AAAARAAAACgAAABAAAAAMAAAADAAAAA4AAAANAAAADQAAAA4AAAAPAAAADQAAAA8AAAARAAAADAAAABAAAAAOAAAADgAAAAAAAAAPAAAADwAAAAAAAAABAAAADwAAAAEAAAARAAAADgAAABAAAAAAAAAA",
        "encoding": "base64",
        "path": [
         "indices",
         "data"
        ]
       },
       {
        "data": "AACAPwAAAAAAAAAAAAAAAAAAAAAAAIA/AAAAAAAAAAAAAAAAAAAAAAAAgD8AAAAAAAAAAAAAAAAAAAAAAACAPw==",
        "encoding": "base64",
        "path": [
         "model_matrix",
         "data"
        ]
       },
       {
        "data": "",
        "encoding": "base64",
        "path": [
         "normals",
         "data"
        ]
       },
       {
        "data": "",
        "encoding": "base64",
        "path": [
         "opacity_function",
         "data"
        ]
       },
       {
        "data": "",
        "encoding": "base64",
        "path": [
         "triangles_attribute",
         "data"
        ]
       },
       {
        "data": "AADAfw==",
        "encoding": "base64",
        "path": [
         "uvs",
         "data"
        ]
       },
       {
        "data": "mpmZPgAAAAAAAAAAmpmZPgAAAAAAAEBAJDlZPiQ5WT4AAAAAJDlZPiQ5WT4AAEBA8HjXq5qZmT4AAAAA8HjXq5qZmT4AAEBAJDlZviQ5WT4AAAAAJDlZviQ5WT4AAEBAmpmZvvB4V6wAAAAAmpmZvvB4V6wAAEBAJDlZviQ5Wb4AAAAAJDlZviQ5Wb4AAEBAtJqhLJqZmb4AAAAAtJqhLJqZmb4AAEBAJDlZPiQ5Wb4AAAAAJDlZPiQ5Wb4AAEBAAAAAAAAAAAAAAAAAAAAAAAAAAAAAAEBA",
        "encoding": "base64",
        "path": [
         "vertices",
         "data"
        ]
       },
       {
        "data": "",
        "encoding": "base64",
        "path": [
         "volume",
         "data"
        ]
       },
       {
        "data": "",
        "encoding": "base64",
        "path": [
         "volume_bounds",
         "data"
        ]
       }
      ],
      "model_module": "k3d",
      "model_module_version": "2.16.1",
      "model_name": "ObjectModel",
      "state": {
       "_view_module": null,
       "_view_module_version": "",
       "_view_name": null,
       "attribute": {
        "dtype": "float32",
        "shape": [
         0
        ]
       },
       "click_callback": false,
       "color": 255,
       "colorLegend": false,
       "color_map": {
        "dtype": "float32",
        "shape": [
         1024
        ]
       },
       "color_range": [],
       "colors": {
        "dtype": "uint32",
        "shape": [
         0
        ]
       },
       "compression_level": 0,
       "custom_data": null,
       "flat_shading": true,
       "group": null,
       "hover_callback": false,
       "id": 7570178256,
       "indices": {
        "dtype": "uint32",
        "shape": [
         32,
         3
        ]
       },
       "model_matrix": {
        "dtype": "float32",
        "shape": [
         4,
         4
        ]
       },
       "name": "Mesh #1",
       "normals": {
        "dtype": "float32",
        "shape": [
         0
        ]
       },
       "opacity": 1,
       "opacity_function": {
        "dtype": "float32",
        "shape": [
         0
        ]
       },
       "side": "front",
       "texture": null,
       "texture_file_format": null,
       "triangles_attribute": {
        "dtype": "float32",
        "shape": [
         0
        ]
       },
       "type": "Mesh",
       "uvs": {
        "dtype": "float32",
        "shape": []
       },
       "vertices": {
        "dtype": "float32",
        "shape": [
         18,
         3
        ]
       },
       "visible": true,
       "volume": {
        "dtype": "float32",
        "shape": [
         0
        ]
       },
       "volume_bounds": {
        "dtype": "float32",
        "shape": [
         0
        ]
       },
       "wireframe": false
      }
     },
     "009801a75b294720abd27a0ecc8cd3b4": {
      "model_module": "k3d",
      "model_module_version": "2.16.1",
      "model_name": "PlotModel",
      "state": {
       "_backend_version": "2.16.1",
       "antialias": 3,
       "auto_rendering": true,
       "axes": [
        "x",
        "y",
        "z"
       ],
       "axes_helper": 1,
       "axes_helper_colors": [
        16711680,
        65280,
        255
       ],
       "background_color": 16777215,
       "camera": [
        124.80890949498408,
        231.70957325130155,
        101.31888344234955,
        -0.4172677993774414,
        -0.10376358032226562,
        35.606895446777344,
        -0.17439966565447304,
        -0.11802401340135345,
        0.9775761294550169
       ],
       "camera_animation": [],
       "camera_auto_fit": true,
       "camera_damping_factor": 0,
       "camera_fov": 60,
       "camera_mode": "trackball",
       "camera_no_pan": false,
       "camera_no_rotate": false,
       "camera_no_zoom": false,
       "camera_pan_speed": 0.3,
       "camera_rotate_speed": 1,
       "camera_zoom_speed": 1.2,
       "clipping_planes": [],
       "colorbar_object_id": -1,
       "colorbar_scientific": false,
       "custom_data": null,
       "fps": 25,
       "fps_meter": false,
       "grid": [
        -1,
        -1,
        -1,
        1,
        1,
        1
       ],
       "grid_auto_fit": true,
       "grid_color": 15132390,
       "grid_visible": true,
       "height": 512,
       "label_color": 4473924,
       "layout": "IPY_MODEL_18eecef93a7b4ab8a992921f83edb4d8",
       "lighting": 3,
       "logarithmic_depth_buffer": true,
       "manipulate_mode": "translate",
       "menu_visibility": true,
       "minimum_fps": -1,
       "mode": "view",
       "name": null,
       "object_ids": [
        7575986544
       ],
       "rendering_steps": 1,
       "screenshot": "",
       "screenshot_scale": 2,
       "snapshot": "",
       "snapshot_type": "full",
       "time": 0,
       "voxel_paint_color": 0
      }
     },
     "0341ec4690d64ed885802e78c56573a0": {
      "model_module": "k3d",
      "model_module_version": "2.16.1",
      "model_name": "PlotModel",
      "state": {
       "_backend_version": "2.16.1",
       "antialias": 3,
       "auto_rendering": true,
       "axes": [
        "x",
        "y",
        "z"
       ],
       "axes_helper": 1,
       "axes_helper_colors": [
        16711680,
        65280,
        255
       ],
       "background_color": 16777215,
       "camera": [
        2.2748153701942813,
        -3.7027475954137743,
        2.6383845252861873,
        0,
        0,
        1.5,
        -0.10912126675950104,
        0.16702717748298176,
        0.9798951327172079
       ],
       "camera_animation": [],
       "camera_auto_fit": true,
       "camera_damping_factor": 0,
       "camera_fov": 60,
       "camera_mode": "trackball",
       "camera_no_pan": false,
       "camera_no_rotate": false,
       "camera_no_zoom": false,
       "camera_pan_speed": 0.3,
       "camera_rotate_speed": 1,
       "camera_zoom_speed": 1.2,
       "clipping_planes": [],
       "colorbar_object_id": -1,
       "colorbar_scientific": false,
       "custom_data": null,
       "fps": 25,
       "fps_meter": false,
       "grid": [
        -1,
        -1,
        -1,
        1,
        1,
        1
       ],
       "grid_auto_fit": true,
       "grid_color": 15132390,
       "grid_visible": true,
       "height": 512,
       "label_color": 4473924,
       "layout": "IPY_MODEL_c12b6928219d4b8d8060b25b6d0edc31",
       "lighting": 3,
       "logarithmic_depth_buffer": true,
       "manipulate_mode": "translate",
       "menu_visibility": true,
       "minimum_fps": -1,
       "mode": "view",
       "name": null,
       "object_ids": [
        7570178256
       ],
       "rendering_steps": 1,
       "screenshot": "",
       "screenshot_scale": 2,
       "snapshot": "",
       "snapshot_type": "full",
       "time": 0,
       "voxel_paint_color": 0
      }
     },
     "18eecef93a7b4ab8a992921f83edb4d8": {
      "model_module": "@jupyter-widgets/base",
      "model_module_version": "2.0.0",
      "model_name": "LayoutModel",
      "state": {}
     },
     "211fb383f5784e13bf72b895a1cd0642": {
      "model_module": "k3d",
      "model_module_version": "2.16.1",
      "model_name": "PlotModel",
      "state": {
       "_backend_version": "2.16.1",
       "antialias": 3,
       "auto_rendering": true,
       "axes": [
        "x",
        "y",
        "z"
       ],
       "axes_helper": 1,
       "axes_helper_colors": [
        16711680,
        65280,
        255
       ],
       "background_color": 16777215,
       "camera": [
        -0.18814818755390444,
        -3.0649933334192707,
        2.927527305699407,
        0,
        0,
        0,
        -0.3794944372763755,
        0.6105709482825783,
        0.6951166011466019
       ],
       "camera_animation": [],
       "camera_auto_fit": true,
       "camera_damping_factor": 0,
       "camera_fov": 60,
       "camera_mode": "trackball",
       "camera_no_pan": false,
       "camera_no_rotate": false,
       "camera_no_zoom": false,
       "camera_pan_speed": 0.3,
       "camera_rotate_speed": 1,
       "camera_zoom_speed": 1.2,
       "clipping_planes": [],
       "colorbar_object_id": -1,
       "colorbar_scientific": false,
       "custom_data": null,
       "fps": 25,
       "fps_meter": false,
       "grid": [
        -1,
        -1,
        -1,
        1,
        1,
        1
       ],
       "grid_auto_fit": true,
       "grid_color": 15132390,
       "grid_visible": true,
       "height": 512,
       "label_color": 4473924,
       "layout": "IPY_MODEL_ac92a53de3fc4a4986d3ded63ccdd47e",
       "lighting": 3,
       "logarithmic_depth_buffer": true,
       "manipulate_mode": "translate",
       "menu_visibility": true,
       "minimum_fps": -1,
       "mode": "view",
       "name": null,
       "object_ids": [
        7572061008
       ],
       "rendering_steps": 1,
       "screenshot": "",
       "screenshot_scale": 2,
       "snapshot": "",
       "snapshot_type": "full",
       "time": 0,
       "voxel_paint_color": 0
      }
     },
     "2747f2d7695c4a24a9a97153d964d28e": {
      "model_module": "@jupyter-widgets/base",
      "model_module_version": "2.0.0",
      "model_name": "LayoutModel",
      "state": {}
     },
     "3084d0fe22f242feb2b6c78020e84ea4": {
      "model_module": "k3d",
      "model_module_version": "2.16.1",
      "model_name": "PlotModel",
      "state": {
       "_backend_version": "2.16.1",
       "antialias": 3,
       "auto_rendering": true,
       "axes": [
        "x",
        "y",
        "z"
       ],
       "axes_helper": 1,
       "axes_helper_colors": [
        16711680,
        65280,
        255
       ],
       "background_color": 16777215,
       "camera": [],
       "camera_animation": [],
       "camera_auto_fit": true,
       "camera_damping_factor": 0,
       "camera_fov": 60,
       "camera_mode": "trackball",
       "camera_no_pan": false,
       "camera_no_rotate": false,
       "camera_no_zoom": false,
       "camera_pan_speed": 0.3,
       "camera_rotate_speed": 1,
       "camera_zoom_speed": 1.2,
       "clipping_planes": [],
       "colorbar_object_id": -1,
       "colorbar_scientific": false,
       "custom_data": null,
       "fps": 25,
       "fps_meter": false,
       "grid": [
        -1,
        -1,
        -1,
        1,
        1,
        1
       ],
       "grid_auto_fit": true,
       "grid_color": 15132390,
       "grid_visible": true,
       "height": 512,
       "label_color": 4473924,
       "layout": "IPY_MODEL_f247e46d58304afab4d8720b970668e9",
       "lighting": 3,
       "logarithmic_depth_buffer": true,
       "manipulate_mode": "translate",
       "menu_visibility": true,
       "minimum_fps": -1,
       "mode": "view",
       "name": null,
       "object_ids": [
        7575992256
       ],
       "rendering_steps": 1,
       "screenshot": "",
       "screenshot_scale": 2,
       "snapshot": "",
       "snapshot_type": "full",
       "time": 0,
       "voxel_paint_color": 0
      }
     },
     "325478cd6f2b4aceafe4ad5e00f472f6": {
      "buffers": [
       {
        "data": "",
        "encoding": "base64",
        "path": [
         "attribute",
         "data"
        ]
       },
       {
        "data": "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",
        "encoding": "base64",
        "path": [
         "color_map",
         "data"
        ]
       },
       {
        "data": "",
        "encoding": "base64",
        "path": [
         "colors",
         "data"
        ]
       },
       {
        "data": "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",
        "encoding": "base64",
        "path": [
         "indices",
         "data"
        ]
       },
       {
        "data": "AACAPwAAAAAAAAAAAAAAAAAAAAAAAIA/AAAAAAAAAAAAAAAAAAAAAAAAgD8AAAAAAAAAAAAAAAAAAAAAAACAPw==",
        "encoding": "base64",
        "path": [
         "model_matrix",
         "data"
        ]
       },
       {
        "data": "",
        "encoding": "base64",
        "path": [
         "normals",
         "data"
        ]
       },
       {
        "data": "",
        "encoding": "base64",
        "path": [
         "opacity_function",
         "data"
        ]
       },
       {
        "data": "",
        "encoding": "base64",
        "path": [
         "triangles_attribute",
         "data"
        ]
       },
       {
        "data": "AADAfw==",
        "encoding": "base64",
        "path": [
         "uvs",
         "data"
        ]
       },
       {
        "data": "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",
        "encoding": "base64",
        "path": [
         "vertices",
         "data"
        ]
       },
       {
        "data": "",
        "encoding": "base64",
        "path": [
         "volume",
         "data"
        ]
       },
       {
        "data": "",
        "encoding": "base64",
        "path": [
         "volume_bounds",
         "data"
        ]
       }
      ],
      "model_module": "k3d",
      "model_module_version": "2.16.1",
      "model_name": "ObjectModel",
      "state": {
       "_view_module": null,
       "_view_module_version": "",
       "_view_name": null,
       "attribute": {
        "dtype": "float32",
        "shape": [
         0
        ]
       },
       "click_callback": false,
       "color": 5263440,
       "colorLegend": false,
       "color_map": {
        "dtype": "float32",
        "shape": [
         1024
        ]
       },
       "color_range": [],
       "colors": {
        "dtype": "uint32",
        "shape": [
         0
        ]
       },
       "compression_level": 0,
       "custom_data": null,
       "flat_shading": true,
       "group": null,
       "hover_callback": false,
       "id": 4982632128,
       "indices": {
        "dtype": "uint32",
        "shape": [
         232,
         3
        ]
       },
       "model_matrix": {
        "dtype": "float32",
        "shape": [
         4,
         4
        ]
       },
       "name": "Mesh #1",
       "normals": {
        "dtype": "float32",
        "shape": [
         0
        ]
       },
       "opacity": 1,
       "opacity_function": {
        "dtype": "float32",
        "shape": [
         0
        ]
       },
       "side": "front",
       "texture": null,
       "texture_file_format": null,
       "triangles_attribute": {
        "dtype": "float32",
        "shape": [
         0
        ]
       },
       "type": "Mesh",
       "uvs": {
        "dtype": "float32",
        "shape": []
       },
       "vertices": {
        "dtype": "float32",
        "shape": [
         418,
         3
        ]
       },
       "visible": true,
       "volume": {
        "dtype": "float32",
        "shape": [
         0
        ]
       },
       "volume_bounds": {
        "dtype": "float32",
        "shape": [
         0
        ]
       },
       "wireframe": false
      }
     },
     "33475a26f0fa447aa3c95b8fca7acee2": {
      "model_module": "@jupyter-widgets/base",
      "model_module_version": "2.0.0",
      "model_name": "LayoutModel",
      "state": {}
     },
     "3dd7dcea1e934d059f77a2c596cdd9a1": {
      "model_module": "@jupyter-widgets/base",
      "model_module_version": "2.0.0",
      "model_name": "LayoutModel",
      "state": {}
     },
     "4c35abc200d5471db7048abb1d9c224f": {
      "model_module": "k3d",
      "model_module_version": "2.16.1",
      "model_name": "PlotModel",
      "state": {
       "_backend_version": "2.16.1",
       "antialias": 3,
       "auto_rendering": true,
       "axes": [
        "x",
        "y",
        "z"
       ],
       "axes_helper": 1,
       "axes_helper_colors": [
        16711680,
        65280,
        255
       ],
       "background_color": 16777215,
       "camera": [
        -1.8295559464880522,
        0.36043614919969086,
        -0.29238762465845414,
        -0.045148849952965975,
        0.04011622816324234,
        0.6143988738767803,
        -0.5213909403748518,
        -0.22020639531428257,
        0.8244153266150007
       ],
       "camera_animation": [],
       "camera_auto_fit": true,
       "camera_damping_factor": 0,
       "camera_fov": 60,
       "camera_mode": "trackball",
       "camera_no_pan": false,
       "camera_no_rotate": false,
       "camera_no_zoom": false,
       "camera_pan_speed": 0.3,
       "camera_rotate_speed": 1,
       "camera_zoom_speed": 1.2,
       "clipping_planes": [],
       "colorbar_object_id": -1,
       "colorbar_scientific": false,
       "custom_data": null,
       "fps": 25,
       "fps_meter": false,
       "grid": [
        -1,
        -1,
        -1,
        1,
        1,
        1
       ],
       "grid_auto_fit": true,
       "grid_color": 15132390,
       "grid_visible": true,
       "height": 512,
       "label_color": 4473924,
       "layout": "IPY_MODEL_ab0296788a754789b84640d48edb4be3",
       "lighting": 3,
       "logarithmic_depth_buffer": true,
       "manipulate_mode": "translate",
       "menu_visibility": true,
       "minimum_fps": -1,
       "mode": "view",
       "name": null,
       "object_ids": [
        7569774176
       ],
       "rendering_steps": 1,
       "screenshot": "",
       "screenshot_scale": 2,
       "snapshot": "",
       "snapshot_type": "full",
       "time": 0,
       "voxel_paint_color": 0
      }
     },
     "56048f6b7aad444790a3dd2526b77744": {
      "model_module": "k3d",
      "model_module_version": "2.16.1",
      "model_name": "PlotModel",
      "state": {
       "_backend_version": "2.16.1",
       "antialias": 3,
       "auto_rendering": true,
       "axes": [
        "x",
        "y",
        "z"
       ],
       "axes_helper": 1,
       "axes_helper_colors": [
        16711680,
        65280,
        255
       ],
       "background_color": 16777215,
       "camera": [
        8.912934636134962,
        -12.855509422807483,
        4.616484103109353,
        0.2730083465576172,
        0.10438001155853271,
        3.7524914741516113,
        0,
        0,
        1
       ],
       "camera_animation": [],
       "camera_auto_fit": true,
       "camera_damping_factor": 0,
       "camera_fov": 60,
       "camera_mode": "trackball",
       "camera_no_pan": false,
       "camera_no_rotate": false,
       "camera_no_zoom": false,
       "camera_pan_speed": 0.3,
       "camera_rotate_speed": 1,
       "camera_zoom_speed": 1.2,
       "clipping_planes": [],
       "colorbar_object_id": -1,
       "colorbar_scientific": false,
       "custom_data": null,
       "fps": 25,
       "fps_meter": false,
       "grid": [
        -1,
        -1,
        -1,
        1,
        1,
        1
       ],
       "grid_auto_fit": true,
       "grid_color": 15132390,
       "grid_visible": true,
       "height": 512,
       "label_color": 4473924,
       "layout": "IPY_MODEL_2747f2d7695c4a24a9a97153d964d28e",
       "lighting": 3,
       "logarithmic_depth_buffer": true,
       "manipulate_mode": "translate",
       "menu_visibility": true,
       "minimum_fps": -1,
       "mode": "view",
       "name": null,
       "object_ids": [
        7570259008
       ],
       "rendering_steps": 1,
       "screenshot": "",
       "screenshot_scale": 2,
       "snapshot": "",
       "snapshot_type": "full",
       "time": 0,
       "voxel_paint_color": 0
      }
     },
     "56c98e93a1d64372a28df213457df408": {
      "model_module": "k3d",
      "model_module_version": "2.16.1",
      "model_name": "PlotModel",
      "state": {
       "_backend_version": "2.16.1",
       "antialias": 3,
       "auto_rendering": true,
       "axes": [
        "x",
        "y",
        "z"
       ],
       "axes_helper": 1,
       "axes_helper_colors": [
        16711680,
        65280,
        255
       ],
       "background_color": 16777215,
       "camera": [
        -74.6224027551844,
        -41.554842897146415,
        50.82813488327513,
        0.4998903274536133,
        -2.3224501609802246,
        34.1484260559082,
        0.14473450582553204,
        0.021499866111325296,
        0.9892369173158965
       ],
       "camera_animation": [],
       "camera_auto_fit": true,
       "camera_damping_factor": 0,
       "camera_fov": 60,
       "camera_mode": "trackball",
       "camera_no_pan": false,
       "camera_no_rotate": false,
       "camera_no_zoom": false,
       "camera_pan_speed": 0.3,
       "camera_rotate_speed": 1,
       "camera_zoom_speed": 1.2,
       "clipping_planes": [],
       "colorbar_object_id": -1,
       "colorbar_scientific": false,
       "custom_data": null,
       "fps": 25,
       "fps_meter": false,
       "grid": [
        -1,
        -1,
        -1,
        1,
        1,
        1
       ],
       "grid_auto_fit": true,
       "grid_color": 15132390,
       "grid_visible": true,
       "height": 512,
       "label_color": 4473924,
       "layout": "IPY_MODEL_ef10008c74764072b053270c45c170d8",
       "lighting": 3,
       "logarithmic_depth_buffer": true,
       "manipulate_mode": "translate",
       "menu_visibility": true,
       "minimum_fps": -1,
       "mode": "view",
       "name": null,
       "object_ids": [
        4982632128
       ],
       "rendering_steps": 1,
       "screenshot": "",
       "screenshot_scale": 2,
       "snapshot": "",
       "snapshot_type": "full",
       "time": 0,
       "voxel_paint_color": 0
      }
     },
     "61266c90532241a5b5d7b9689a11d85f": {
      "model_module": "@jupyter-widgets/base",
      "model_module_version": "2.0.0",
      "model_name": "LayoutModel",
      "state": {}
     },
     "851c52638fea451e92b75901e6815195": {
      "buffers": [
       {
        "data": "",
        "encoding": "base64",
        "path": [
         "attribute",
         "data"
        ]
       },
       {
        "data": "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",
        "encoding": "base64",
        "path": [
         "color_map",
         "data"
        ]
       },
       {
        "data": "",
        "encoding": "base64",
        "path": [
         "colors",
         "data"
        ]
       },
       {
        "data": "AAAAAAEAAAACAAAAAgAAAAMAAAAAAAAA",
        "encoding": "base64",
        "path": [
         "indices",
         "data"
        ]
       },
       {
        "data": "AACAPwAAAAAAAAAAAAAAAAAAAAAAAIA/AAAAAAAAAAAAAAAAAAAAAAAAgD8AAAAAAAAAAAAAAAAAAAAAAACAPw==",
        "encoding": "base64",
        "path": [
         "model_matrix",
         "data"
        ]
       },
       {
        "data": "",
        "encoding": "base64",
        "path": [
         "normals",
         "data"
        ]
       },
       {
        "data": "",
        "encoding": "base64",
        "path": [
         "opacity_function",
         "data"
        ]
       },
       {
        "data": "",
        "encoding": "base64",
        "path": [
         "triangles_attribute",
         "data"
        ]
       },
       {
        "data": "AADAfw==",
        "encoding": "base64",
        "path": [
         "uvs",
         "data"
        ]
       },
       {
        "data": "AACAvwAAgL8AAAAAAACAPwAAgL8AAAAAAACAPwAAgD8AAAAAAACAvwAAgD8AAAAA",
        "encoding": "base64",
        "path": [
         "vertices",
         "data"
        ]
       },
       {
        "data": "",
        "encoding": "base64",
        "path": [
         "volume",
         "data"
        ]
       },
       {
        "data": "",
        "encoding": "base64",
        "path": [
         "volume_bounds",
         "data"
        ]
       }
      ],
      "model_module": "k3d",
      "model_module_version": "2.16.1",
      "model_name": "ObjectModel",
      "state": {
       "_view_module": null,
       "_view_module_version": "",
       "_view_name": null,
       "attribute": {
        "dtype": "float32",
        "shape": [
         0
        ]
       },
       "click_callback": false,
       "color": 255,
       "colorLegend": false,
       "color_map": {
        "dtype": "float32",
        "shape": [
         1024
        ]
       },
       "color_range": [],
       "colors": {
        "dtype": "uint32",
        "shape": [
         0
        ]
       },
       "compression_level": 0,
       "custom_data": null,
       "flat_shading": true,
       "group": null,
       "hover_callback": false,
       "id": 7572056112,
       "indices": {
        "dtype": "uint32",
        "shape": [
         2,
         3
        ]
       },
       "model_matrix": {
        "dtype": "float32",
        "shape": [
         4,
         4
        ]
       },
       "name": "Mesh #1",
       "normals": {
        "dtype": "float32",
        "shape": [
         0
        ]
       },
       "opacity": 1,
       "opacity_function": {
        "dtype": "float32",
        "shape": [
         0
        ]
       },
       "side": "front",
       "texture": null,
       "texture_file_format": null,
       "triangles_attribute": {
        "dtype": "float32",
        "shape": [
         0
        ]
       },
       "type": "Mesh",
       "uvs": {
        "dtype": "float32",
        "shape": []
       },
       "vertices": {
        "dtype": "float32",
        "shape": [
         4,
         3
        ]
       },
       "visible": true,
       "volume": {
        "dtype": "float32",
        "shape": [
         0
        ]
       },
       "volume_bounds": {
        "dtype": "float32",
        "shape": [
         0
        ]
       },
       "wireframe": false
      }
     },
     "ab0296788a754789b84640d48edb4be3": {
      "model_module": "@jupyter-widgets/base",
      "model_module_version": "2.0.0",
      "model_name": "LayoutModel",
      "state": {}
     },
     "ab5b2a668c964cbdbc85930ccd042b41": {
      "model_module": "@jupyter-widgets/base",
      "model_module_version": "2.0.0",
      "model_name": "LayoutModel",
      "state": {}
     },
     "ac92a53de3fc4a4986d3ded63ccdd47e": {
      "model_module": "@jupyter-widgets/base",
      "model_module_version": "2.0.0",
      "model_name": "LayoutModel",
      "state": {}
     },
     "b2b404a3ae2f4fc7b267623f2630eb53": {
      "model_module": "k3d",
      "model_module_version": "2.16.1",
      "model_name": "PlotModel",
      "state": {
       "_backend_version": "2.16.1",
       "antialias": 3,
       "auto_rendering": true,
       "axes": [
        "x",
        "y",
        "z"
       ],
       "axes_helper": 1,
       "axes_helper_colors": [
        16711680,
        65280,
        255
       ],
       "background_color": 16777215,
       "camera": [],
       "camera_animation": [],
       "camera_auto_fit": true,
       "camera_damping_factor": 0,
       "camera_fov": 60,
       "camera_mode": "trackball",
       "camera_no_pan": false,
       "camera_no_rotate": false,
       "camera_no_zoom": false,
       "camera_pan_speed": 0.3,
       "camera_rotate_speed": 1,
       "camera_zoom_speed": 1.2,
       "clipping_planes": [],
       "colorbar_object_id": -1,
       "colorbar_scientific": false,
       "custom_data": null,
       "fps": 25,
       "fps_meter": false,
       "grid": [
        -1,
        -1,
        -1,
        1,
        1,
        1
       ],
       "grid_auto_fit": true,
       "grid_color": 15132390,
       "grid_visible": true,
       "height": 512,
       "label_color": 4473924,
       "layout": "IPY_MODEL_ab5b2a668c964cbdbc85930ccd042b41",
       "lighting": 3,
       "logarithmic_depth_buffer": true,
       "manipulate_mode": "translate",
       "menu_visibility": true,
       "minimum_fps": -1,
       "mode": "view",
       "name": null,
       "object_ids": [
        4982633040
       ],
       "rendering_steps": 1,
       "screenshot": "",
       "screenshot_scale": 2,
       "snapshot": "",
       "snapshot_type": "full",
       "time": 0,
       "voxel_paint_color": 0
      }
     },
     "b5a089cfb1044df8a660a8db4de5b914": {
      "buffers": [
       {
        "data": "",
        "encoding": "base64",
        "path": [
         "attribute",
         "data"
        ]
       },
       {
        "data": "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",
        "encoding": "base64",
        "path": [
         "color_map",
         "data"
        ]
       },
       {
        "data": "",
        "encoding": "base64",
        "path": [
         "colors",
         "data"
        ]
       },
       {
        "data": "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",
        "encoding": "base64",
        "path": [
         "indices",
         "data"
        ]
       },
       {
        "data": "AACAPwAAAAAAAAAAAAAAAAAAAAAAAIA/AAAAAAAAAAAAAAAAAAAAAAAAgD8AAAAAAAAAAAAAAAAAAAAAAACAPw==",
        "encoding": "base64",
        "path": [
         "model_matrix",
         "data"
        ]
       },
       {
        "data": "",
        "encoding": "base64",
        "path": [
         "normals",
         "data"
        ]
       },
       {
        "data": "",
        "encoding": "base64",
        "path": [
         "opacity_function",
         "data"
        ]
       },
       {
        "data": "",
        "encoding": "base64",
        "path": [
         "triangles_attribute",
         "data"
        ]
       },
       {
        "data": "AADAfw==",
        "encoding": "base64",
        "path": [
         "uvs",
         "data"
        ]
       },
       {
        "data": "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",
        "encoding": "base64",
        "path": [
         "vertices",
         "data"
        ]
       },
       {
        "data": "",
        "encoding": "base64",
        "path": [
         "volume",
         "data"
        ]
       },
       {
        "data": "",
        "encoding": "base64",
        "path": [
         "volume_bounds",
         "data"
        ]
       }
      ],
      "model_module": "k3d",
      "model_module_version": "2.16.1",
      "model_name": "ObjectModel",
      "state": {
       "_view_module": null,
       "_view_module_version": "",
       "_view_name": null,
       "attribute": {
        "dtype": "float32",
        "shape": [
         0
        ]
       },
       "click_callback": false,
       "color": 5263440,
       "colorLegend": false,
       "color_map": {
        "dtype": "float32",
        "shape": [
         1024
        ]
       },
       "color_range": [],
       "colors": {
        "dtype": "uint32",
        "shape": [
         0
        ]
       },
       "compression_level": 0,
       "custom_data": null,
       "flat_shading": true,
       "group": null,
       "hover_callback": false,
       "id": 7575986544,
       "indices": {
        "dtype": "uint32",
        "shape": [
         2032,
         3
        ]
       },
       "model_matrix": {
        "dtype": "float32",
        "shape": [
         4,
         4
        ]
       },
       "name": "Mesh #1",
       "normals": {
        "dtype": "float32",
        "shape": [
         0
        ]
       },
       "opacity": 1,
       "opacity_function": {
        "dtype": "float32",
        "shape": [
         0
        ]
       },
       "side": "front",
       "texture": null,
       "texture_file_format": null,
       "triangles_attribute": {
        "dtype": "float32",
        "shape": [
         0
        ]
       },
       "type": "Mesh",
       "uvs": {
        "dtype": "float32",
        "shape": []
       },
       "vertices": {
        "dtype": "float32",
        "shape": [
         4018,
         3
        ]
       },
       "visible": true,
       "volume": {
        "dtype": "float32",
        "shape": [
         0
        ]
       },
       "volume_bounds": {
        "dtype": "float32",
        "shape": [
         0
        ]
       },
       "wireframe": false
      }
     },
     "b6d0b243200e4894bbcfb1a23bc353e9": {
      "buffers": [
       {
        "data": "",
        "encoding": "base64",
        "path": [
         "attribute",
         "data"
        ]
       },
       {
        "data": "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",
        "encoding": "base64",
        "path": [
         "color_map",
         "data"
        ]
       },
       {
        "data": "",
        "encoding": "base64",
        "path": [
         "colors",
         "data"
        ]
       },
       {
        "data": "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",
        "encoding": "base64",
        "path": [
         "indices",
         "data"
        ]
       },
       {
        "data": "AACAPwAAAAAAAAAAAAAAAAAAAAAAAIA/AAAAAAAAAAAAAAAAAAAAAAAAgD8AAAAAAAAAAAAAAAAAAAAAAACAPw==",
        "encoding": "base64",
        "path": [
         "model_matrix",
         "data"
        ]
       },
       {
        "data": "",
        "encoding": "base64",
        "path": [
         "normals",
         "data"
        ]
       },
       {
        "data": "",
        "encoding": "base64",
        "path": [
         "opacity_function",
         "data"
        ]
       },
       {
        "data": "",
        "encoding": "base64",
        "path": [
         "triangles_attribute",
         "data"
        ]
       },
       {
        "data": "AADAfw==",
        "encoding": "base64",
        "path": [
         "uvs",
         "data"
        ]
       },
       {
        "data": "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",
        "encoding": "base64",
        "path": [
         "vertices",
         "data"
        ]
       },
       {
        "data": "",
        "encoding": "base64",
        "path": [
         "volume",
         "data"
        ]
       },
       {
        "data": "",
        "encoding": "base64",
        "path": [
         "volume_bounds",
         "data"
        ]
       }
      ],
      "model_module": "k3d",
      "model_module_version": "2.16.1",
      "model_name": "ObjectModel",
      "state": {
       "_view_module": null,
       "_view_module_version": "",
       "_view_name": null,
       "attribute": {
        "dtype": "float32",
        "shape": [
         0
        ]
       },
       "click_callback": false,
       "color": 5263440,
       "colorLegend": false,
       "color_map": {
        "dtype": "float32",
        "shape": [
         1024
        ]
       },
       "color_range": [],
       "colors": {
        "dtype": "uint32",
        "shape": [
         0
        ]
       },
       "compression_level": 0,
       "custom_data": null,
       "flat_shading": true,
       "group": null,
       "hover_callback": false,
       "id": 7575985680,
       "indices": {
        "dtype": "uint32",
        "shape": [
         232,
         3
        ]
       },
       "model_matrix": {
        "dtype": "float32",
        "shape": [
         4,
         4
        ]
       },
       "name": "Mesh #1",
       "normals": {
        "dtype": "float32",
        "shape": [
         0
        ]
       },
       "opacity": 1,
       "opacity_function": {
        "dtype": "float32",
        "shape": [
         0
        ]
       },
       "side": "front",
       "texture": null,
       "texture_file_format": null,
       "triangles_attribute": {
        "dtype": "float32",
        "shape": [
         0
        ]
       },
       "type": "Mesh",
       "uvs": {
        "dtype": "float32",
        "shape": []
       },
       "vertices": {
        "dtype": "float32",
        "shape": [
         418,
         3
        ]
       },
       "visible": true,
       "volume": {
        "dtype": "float32",
        "shape": [
         0
        ]
       },
       "volume_bounds": {
        "dtype": "float32",
        "shape": [
         0
        ]
       },
       "wireframe": false
      }
     },
     "ba78e3338656410ebd697eaa5f403e07": {
      "buffers": [
       {
        "data": "",
        "encoding": "base64",
        "path": [
         "attribute",
         "data"
        ]
       },
       {
        "data": "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",
        "encoding": "base64",
        "path": [
         "color_map",
         "data"
        ]
       },
       {
        "data": "",
        "encoding": "base64",
        "path": [
         "colors",
         "data"
        ]
       },
       {
        "data": "AAAAAAEAAAACAAAAAgAAAAMAAAAAAAAABAAAAAUAAAAGAAAABgAAAAcAAAAEAAAACAAAAAkAAAAKAAAACgAAAAsAAAAIAAAADAAAAA0AAAAOAAAADgAAAA8AAAAMAAAAEAAAABEAAAASAAAAEgAAABMAAAAQAAAAFAAAABUAAAAWAAAAFgAAABcAAAAUAAAAGAAAABkAAAAaAAAAGgAAABsAAAAYAAAAHAAAAB0AAAAeAAAAHgAAAB8AAAAcAAAAIAAAACEAAAAiAAAAIgAAACMAAAAgAAAAJAAAACUAAAAmAAAAJgAAACcAAAAkAAAA",
        "encoding": "base64",
        "path": [
         "indices",
         "data"
        ]
       },
       {
        "data": "AACAPwAAAAAAAAAAAAAAAAAAAAAAAIA/AAAAAAAAAAAAAAAAAAAAAAAAgD8AAAAAAAAAAAAAAAAAAAAAAACAPw==",
        "encoding": "base64",
        "path": [
         "model_matrix",
         "data"
        ]
       },
       {
        "data": "",
        "encoding": "base64",
        "path": [
         "normals",
         "data"
        ]
       },
       {
        "data": "",
        "encoding": "base64",
        "path": [
         "opacity_function",
         "data"
        ]
       },
       {
        "data": "",
        "encoding": "base64",
        "path": [
         "triangles_attribute",
         "data"
        ]
       },
       {
        "data": "AADAfw==",
        "encoding": "base64",
        "path": [
         "uvs",
         "data"
        ]
       },
       {
        "data": "ydGwPiLnoD/iKHBA3jggPiKKtj5EBf0/5+Ytv2YBnb/UlDdAdBj7vjLzpr6KnZRAo0g3PlaxDb/Ti7RAatWsP2VwJT8VqJFA0oYPPBm6Gz+saERASM2Uv6JnF78TGIVAwC6MP6eOQ76VScpABnMePuIzyT9Bc8dAtV3SPxzZE0AH1qNACl8lQAMZDD9arKZAp2YaP2cyQr+TYttA02Bwv9nhGr/a7bJAnSCTv21DqT/HosJAgQzJPiablT9/F+tA8u0ivzJesj5sBJJAmRcYPfnyNT4iAixAi0UtP4iXBEAbri9ANh9WOx+ED0Bo2pNAlhEQQMZcjr9qT6xAKTajP03e278F1W9APCLmvq3Ri78taZFA6cgGP5dA+b4VzsVAd5Vyv7Ddu75ioTtAmkZmP+3h2r4mswpAB+TPP2tTcb88W31ADFBkvkzRYb+8JJdAHKrDvW0L0r+10uRAd5kdv0vnpr8o+adAMX18PSx3Ej+7r6xABuwUP5u7cD5IielA/uKvvw4brb8UmopAo+spvvMrw7/4yy9AP5muP1ucV79BtXVAsJ0fPpJ6K7+5jq1A4Bc4PU+gnD8CAbFAt1LBPmaDpj8042NA1NVyPMk8Kb/3C1tADLmivvgCPb9jlaxA",
        "encoding": "base64",
        "path": [
         "vertices",
         "data"
        ]
       },
       {
        "data": "",
        "encoding": "base64",
        "path": [
         "volume",
         "data"
        ]
       },
       {
        "data": "",
        "encoding": "base64",
        "path": [
         "volume_bounds",
         "data"
        ]
       }
      ],
      "model_module": "k3d",
      "model_module_version": "2.16.1",
      "model_name": "ObjectModel",
      "state": {
       "_view_module": null,
       "_view_module_version": "",
       "_view_name": null,
       "attribute": {
        "dtype": "float32",
        "shape": [
         0
        ]
       },
       "click_callback": false,
       "color": 5263440,
       "colorLegend": false,
       "color_map": {
        "dtype": "float32",
        "shape": [
         1024
        ]
       },
       "color_range": [],
       "colors": {
        "dtype": "uint32",
        "shape": [
         0
        ]
       },
       "compression_level": 0,
       "custom_data": null,
       "flat_shading": true,
       "group": null,
       "hover_callback": false,
       "id": 7569694320,
       "indices": {
        "dtype": "uint32",
        "shape": [
         20,
         3
        ]
       },
       "model_matrix": {
        "dtype": "float32",
        "shape": [
         4,
         4
        ]
       },
       "name": "Mesh #1",
       "normals": {
        "dtype": "float32",
        "shape": [
         0
        ]
       },
       "opacity": 1,
       "opacity_function": {
        "dtype": "float32",
        "shape": [
         0
        ]
       },
       "side": "front",
       "texture": null,
       "texture_file_format": null,
       "triangles_attribute": {
        "dtype": "float32",
        "shape": [
         0
        ]
       },
       "type": "Mesh",
       "uvs": {
        "dtype": "float32",
        "shape": []
       },
       "vertices": {
        "dtype": "float32",
        "shape": [
         40,
         3
        ]
       },
       "visible": true,
       "volume": {
        "dtype": "float32",
        "shape": [
         0
        ]
       },
       "volume_bounds": {
        "dtype": "float32",
        "shape": [
         0
        ]
       },
       "wireframe": false
      }
     },
     "baee15a9d7684fb8ab20808757c9815b": {
      "buffers": [
       {
        "data": "",
        "encoding": "base64",
        "path": [
         "attribute",
         "data"
        ]
       },
       {
        "data": "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",
        "encoding": "base64",
        "path": [
         "color_map",
         "data"
        ]
       },
       {
        "data": "",
        "encoding": "base64",
        "path": [
         "colors",
         "data"
        ]
       },
       {
        "data": "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",
        "encoding": "base64",
        "path": [
         "indices",
         "data"
        ]
       },
       {
        "data": "AACAPwAAAAAAAAAAAAAAAAAAAAAAAIA/AAAAAAAAAAAAAAAAAAAAAAAAgD8AAAAAAAAAAAAAAAAAAAAAAACAPw==",
        "encoding": "base64",
        "path": [
         "model_matrix",
         "data"
        ]
       },
       {
        "data": "",
        "encoding": "base64",
        "path": [
         "normals",
         "data"
        ]
       },
       {
        "data": "",
        "encoding": "base64",
        "path": [
         "opacity_function",
         "data"
        ]
       },
       {
        "data": "",
        "encoding": "base64",
        "path": [
         "triangles_attribute",
         "data"
        ]
       },
       {
        "data": "AADAfw==",
        "encoding": "base64",
        "path": [
         "uvs",
         "data"
        ]
       },
       {
        "data": "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",
        "encoding": "base64",
        "path": [
         "vertices",
         "data"
        ]
       },
       {
        "data": "",
        "encoding": "base64",
        "path": [
         "volume",
         "data"
        ]
       },
       {
        "data": "",
        "encoding": "base64",
        "path": [
         "volume_bounds",
         "data"
        ]
       }
      ],
      "model_module": "k3d",
      "model_module_version": "2.16.1",
      "model_name": "ObjectModel",
      "state": {
       "_view_module": null,
       "_view_module_version": "",
       "_view_name": null,
       "attribute": {
        "dtype": "float32",
        "shape": [
         0
        ]
       },
       "click_callback": false,
       "color": 5263440,
       "colorLegend": false,
       "color_map": {
        "dtype": "float32",
        "shape": [
         1024
        ]
       },
       "color_range": [],
       "colors": {
        "dtype": "uint32",
        "shape": [
         0
        ]
       },
       "compression_level": 0,
       "custom_data": null,
       "flat_shading": true,
       "group": null,
       "hover_callback": false,
       "id": 7569818192,
       "indices": {
        "dtype": "uint32",
        "shape": [
         2032,
         3
        ]
       },
       "model_matrix": {
        "dtype": "float32",
        "shape": [
         4,
         4
        ]
       },
       "name": "Mesh #1",
       "normals": {
        "dtype": "float32",
        "shape": [
         0
        ]
       },
       "opacity": 1,
       "opacity_function": {
        "dtype": "float32",
        "shape": [
         0
        ]
       },
       "side": "front",
       "texture": null,
       "texture_file_format": null,
       "triangles_attribute": {
        "dtype": "float32",
        "shape": [
         0
        ]
       },
       "type": "Mesh",
       "uvs": {
        "dtype": "float32",
        "shape": []
       },
       "vertices": {
        "dtype": "float32",
        "shape": [
         4018,
         3
        ]
       },
       "visible": true,
       "volume": {
        "dtype": "float32",
        "shape": [
         0
        ]
       },
       "volume_bounds": {
        "dtype": "float32",
        "shape": [
         0
        ]
       },
       "wireframe": false
      }
     },
     "c12b6928219d4b8d8060b25b6d0edc31": {
      "model_module": "@jupyter-widgets/base",
      "model_module_version": "2.0.0",
      "model_name": "LayoutModel",
      "state": {}
     },
     "c4f9a18aabeb47cdb2bb803ecd809996": {
      "buffers": [
       {
        "data": "",
        "encoding": "base64",
        "path": [
         "attribute",
         "data"
        ]
       },
       {
        "data": "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",
        "encoding": "base64",
        "path": [
         "color_map",
         "data"
        ]
       },
       {
        "data": "",
        "encoding": "base64",
        "path": [
         "colors",
         "data"
        ]
       },
       {
        "data": "AAAAAAEAAAACAAAAAgAAAAMAAAAAAAAABAAAAAUAAAAGAAAABgAAAAcAAAAEAAAACAAAAAkAAAAKAAAACgAAAAsAAAAIAAAADAAAAA0AAAAOAAAADgAAAA8AAAAMAAAAEAAAABEAAAASAAAAEgAAABMAAAAQAAAAFAAAABUAAAAWAAAAFgAAABcAAAAUAAAAGAAAABkAAAAaAAAAGgAAABsAAAAYAAAAHAAAAB0AAAAeAAAAHgAAAB8AAAAcAAAAIAAAACEAAAAiAAAAIgAAACMAAAAgAAAAJAAAACUAAAAmAAAAJgAAACcAAAAkAAAAKAAAACoAAAApAAAAKQAAACoAAAArAAAAKQAAACsAAAA5AAAAKAAAADgAAAAqAAAAKgAAACwAAAArAAAAKwAAACwAAAAtAAAAKwAAAC0AAAA5AAAAKgAAADgAAAAsAAAALAAAAC4AAAAtAAAALQAAAC4AAAAvAAAALQAAAC8AAAA5AAAALAAAADgAAAAuAAAALgAAADAAAAAvAAAALwAAADAAAAAxAAAALwAAADEAAAA5AAAALgAAADgAAAAwAAAAMAAAADIAAAAxAAAAMQAAADIAAAAzAAAAMQAAADMAAAA5AAAAMAAAADgAAAAyAAAAMgAAADQAAAAzAAAAMwAAADQAAAA1AAAAMwAAADUAAAA5AAAAMgAAADgAAAA0AAAANAAAADYAAAA1AAAANQAAADYAAAA3AAAANQAAADcAAAA5AAAANAAAADgAAAA2AAAANgAAACgAAAA3AAAANwAAACgAAAApAAAANwAAACkAAAA5AAAANgAAADgAAAAoAAAA",
        "encoding": "base64",
        "path": [
         "indices",
         "data"
        ]
       },
       {
        "data": "AACAPwAAAAAAAAAAAAAAAAAAAAAAAIA/AAAAAAAAAAAAAAAAAAAAAAAAgD8AAAAAAAAAAAAAAAAAAAAAAACAPw==",
        "encoding": "base64",
        "path": [
         "model_matrix",
         "data"
        ]
       },
       {
        "data": "",
        "encoding": "base64",
        "path": [
         "normals",
         "data"
        ]
       },
       {
        "data": "",
        "encoding": "base64",
        "path": [
         "opacity_function",
         "data"
        ]
       },
       {
        "data": "",
        "encoding": "base64",
        "path": [
         "triangles_attribute",
         "data"
        ]
       },
       {
        "data": "AADAfw==",
        "encoding": "base64",
        "path": [
         "uvs",
         "data"
        ]
       },
       {
        "data": "rZRhPuyLC784K9FA7prDv2ppx72qmLVAblEAwDWDAsCBRLRAYVWDvuQqH8AP189Ak2IHPln1bD+mhZxAI9eZP1UvjD94b01AaEIrQFHm6DyGSIFAAJrNP36IEL5wFrdAUxaWv25aJr/SKPBAjgmxv/KEiD8SAdBAMZzkvuB7hT5/rZ1AhZ5xvjFTur8/1b1AZKuVv2VPtr23O65AWx3Tv97iqr96LH1AIrCBPrpsqr/nuFVAALw7Px7trr3tgZpAo2VVPgl9mL/VeIlAgIgFv7WrKT+C+4NAjDHPPr9SXT8PQhdAVz2RPwdTfb+0PCJAdFmdP0KlJT8AwIRACs6eP7CpNz/UlAlAZ5ihvN6OVb8toAVADb7+vEyTZ7+txYJAu9gav6rfPr+/WLZA3kCMPaytRT+7q5JAyZ9kPwitzD8MocZAyvtgPs9lpj0QTupAOCDIvjEuBMBeYaJAQG0TP3cg7L587otAQuKUv9jsAj8saYZAeFAIwNjdi78O3JxAiCjMv4N2OT8SUppAucLjv3lKNj4MFDpAmo5YPiOlMz5t2y1AEbDKPi7NOD/CNZRAnppLPzeHLEAYm8tAQ4YSv0RHxT/mC69AGIADP80Jpr3h8bxAfNDwP4xmiT8TgdlAmpmZPgAAAAAAAAAAmpmZPgAAAAAAAEBAJDlZPiQ5WT4AAAAAJDlZPiQ5WT4AAEBA8HjXq5qZmT4AAAAA8HjXq5qZmT4AAEBAJDlZviQ5WT4AAAAAJDlZviQ5WT4AAEBAmpmZvvB4V6wAAAAAmpmZvvB4V6wAAEBAJDlZviQ5Wb4AAAAAJDlZviQ5Wb4AAEBAtJqhLJqZmb4AAAAAtJqhLJqZmb4AAEBAJDlZPiQ5Wb4AAAAAJDlZPiQ5Wb4AAEBAAAAAAAAAAAAAAAAAAAAAAAAAAAAAAEBA",
        "encoding": "base64",
        "path": [
         "vertices",
         "data"
        ]
       },
       {
        "data": "",
        "encoding": "base64",
        "path": [
         "volume",
         "data"
        ]
       },
       {
        "data": "",
        "encoding": "base64",
        "path": [
         "volume_bounds",
         "data"
        ]
       }
      ],
      "model_module": "k3d",
      "model_module_version": "2.16.1",
      "model_name": "ObjectModel",
      "state": {
       "_view_module": null,
       "_view_module_version": "",
       "_view_name": null,
       "attribute": {
        "dtype": "float32",
        "shape": [
         0
        ]
       },
       "click_callback": false,
       "color": 5263440,
       "colorLegend": false,
       "color_map": {
        "dtype": "float32",
        "shape": [
         1024
        ]
       },
       "color_range": [],
       "colors": {
        "dtype": "uint32",
        "shape": [
         0
        ]
       },
       "compression_level": 0,
       "custom_data": null,
       "flat_shading": true,
       "group": null,
       "hover_callback": false,
       "id": 7570259008,
       "indices": {
        "dtype": "uint32",
        "shape": [
         52,
         3
        ]
       },
       "model_matrix": {
        "dtype": "float32",
        "shape": [
         4,
         4
        ]
       },
       "name": "Mesh #1",
       "normals": {
        "dtype": "float32",
        "shape": [
         0
        ]
       },
       "opacity": 1,
       "opacity_function": {
        "dtype": "float32",
        "shape": [
         0
        ]
       },
       "side": "front",
       "texture": null,
       "texture_file_format": null,
       "triangles_attribute": {
        "dtype": "float32",
        "shape": [
         0
        ]
       },
       "type": "Mesh",
       "uvs": {
        "dtype": "float32",
        "shape": []
       },
       "vertices": {
        "dtype": "float32",
        "shape": [
         58,
         3
        ]
       },
       "visible": true,
       "volume": {
        "dtype": "float32",
        "shape": [
         0
        ]
       },
       "volume_bounds": {
        "dtype": "float32",
        "shape": [
         0
        ]
       },
       "wireframe": false
      }
     },
     "cf4f01b8a6864a90834b13e79940c67f": {
      "buffers": [
       {
        "data": "",
        "encoding": "base64",
        "path": [
         "attribute",
         "data"
        ]
       },
       {
        "data": "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",
        "encoding": "base64",
        "path": [
         "color_map",
         "data"
        ]
       },
       {
        "data": "",
        "encoding": "base64",
        "path": [
         "colors",
         "data"
        ]
       },
       {
        "data": "AAAAAAIAAAABAAAAAQAAAAIAAAADAAAAAQAAAAMAAAARAAAAAAAAABAAAAACAAAAAgAAAAQAAAADAAAAAwAAAAQAAAAFAAAAAwAAAAUAAAARAAAAAgAAABAAAAAEAAAABAAAAAYAAAAFAAAABQAAAAYAAAAHAAAABQAAAAcAAAARAAAABAAAABAAAAAGAAAABgAAAAgAAAAHAAAABwAAAAgAAAAJAAAABwAAAAkAAAARAAAABgAAABAAAAAIAAAACAAAAAoAAAAJAAAACQAAAAoAAAALAAAACQAAAAsAAAARAAAACAAAABAAAAAKAAAACgAAAAwAAAALAAAACwAAAAwAAAANAAAACwAAAA0AAAARAAAACgAAABAAAAAMAAAADAAAAA4AAAANAAAADQAAAA4AAAAPAAAADQAAAA8AAAARAAAADAAAABAAAAAOAAAADgAAAAAAAAAPAAAADwAAAAAAAAABAAAADwAAAAEAAAARAAAADgAAABAAAAAAAAAA",
        "encoding": "base64",
        "path": [
         "indices",
         "data"
        ]
       },
       {
        "data": "AACAPwAAAAAAAAAAAAAAAAAAAAAAAIA/AAAAAAAAAAAAAAAAAAAAAAAAgD8AAAAAAAAAAAAAAAAAAAAAAACAPw==",
        "encoding": "base64",
        "path": [
         "model_matrix",
         "data"
        ]
       },
       {
        "data": "",
        "encoding": "base64",
        "path": [
         "normals",
         "data"
        ]
       },
       {
        "data": "",
        "encoding": "base64",
        "path": [
         "opacity_function",
         "data"
        ]
       },
       {
        "data": "",
        "encoding": "base64",
        "path": [
         "triangles_attribute",
         "data"
        ]
       },
       {
        "data": "AADAfw==",
        "encoding": "base64",
        "path": [
         "uvs",
         "data"
        ]
       },
       {
        "data": "AABAQAAAAAAAAAAAAABAQAAAAAAAAPBBtsMHQLbDB0AAAAAAtsMHQLbDB0AAAPBBlquGrQAAQEAAAAAAlquGrQAAQEAAAPBBtsMHwLbDB0AAAAAAtsMHwLbDB0AAAPBBAABAwJarBq4AAAAAAABAwJarBq4AAPBBtsMHwLbDB8AAAAAAtsMHwLbDB8AAAPBBYQFKLgAAQMAAAAAAYQFKLgAAQMAAAPBBtsMHQLbDB8AAAAAAtsMHQLbDB8AAAPBBAAAAAAAAAAAAAAAAAAAAAAAAAAAAAPBB",
        "encoding": "base64",
        "path": [
         "vertices",
         "data"
        ]
       },
       {
        "data": "",
        "encoding": "base64",
        "path": [
         "volume",
         "data"
        ]
       },
       {
        "data": "",
        "encoding": "base64",
        "path": [
         "volume_bounds",
         "data"
        ]
       }
      ],
      "model_module": "k3d",
      "model_module_version": "2.16.1",
      "model_name": "ObjectModel",
      "state": {
       "_view_module": null,
       "_view_module_version": "",
       "_view_name": null,
       "attribute": {
        "dtype": "float32",
        "shape": [
         0
        ]
       },
       "click_callback": false,
       "color": 255,
       "colorLegend": false,
       "color_map": {
        "dtype": "float32",
        "shape": [
         1024
        ]
       },
       "color_range": [],
       "colors": {
        "dtype": "uint32",
        "shape": [
         0
        ]
       },
       "compression_level": 0,
       "custom_data": null,
       "flat_shading": true,
       "group": null,
       "hover_callback": false,
       "id": 4982633040,
       "indices": {
        "dtype": "uint32",
        "shape": [
         32,
         3
        ]
       },
       "model_matrix": {
        "dtype": "float32",
        "shape": [
         4,
         4
        ]
       },
       "name": "Mesh #1",
       "normals": {
        "dtype": "float32",
        "shape": [
         0
        ]
       },
       "opacity": 1,
       "opacity_function": {
        "dtype": "float32",
        "shape": [
         0
        ]
       },
       "side": "front",
       "texture": null,
       "texture_file_format": null,
       "triangles_attribute": {
        "dtype": "float32",
        "shape": [
         0
        ]
       },
       "type": "Mesh",
       "uvs": {
        "dtype": "float32",
        "shape": []
       },
       "vertices": {
        "dtype": "float32",
        "shape": [
         18,
         3
        ]
       },
       "visible": true,
       "volume": {
        "dtype": "float32",
        "shape": [
         0
        ]
       },
       "volume_bounds": {
        "dtype": "float32",
        "shape": [
         0
        ]
       },
       "wireframe": false
      }
     },
     "d3c3c891b6794026bd16191504f01269": {
      "buffers": [
       {
        "data": "",
        "encoding": "base64",
        "path": [
         "attribute",
         "data"
        ]
       },
       {
        "data": "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",
        "encoding": "base64",
        "path": [
         "color_map",
         "data"
        ]
       },
       {
        "data": "",
        "encoding": "base64",
        "path": [
         "colors",
         "data"
        ]
       },
       {
        "data": "AAAAAAEAAAAFAAAAAAAAAAUAAAAEAAAAAQAAAAIAAAAGAAAAAQAAAAYAAAAFAAAAAgAAAAMAAAAHAAAAAgAAAAcAAAAGAAAABAAAAAUAAAAJAAAABAAAAAkAAAAIAAAABQAAAAYAAAAKAAAABQAAAAoAAAAJAAAABgAAAAcAAAALAAAABgAAAAsAAAAKAAAACAAAAAkAAAANAAAACAAAAA0AAAAMAAAACQAAAAoAAAAOAAAACQAAAA4AAAANAAAACgAAAAsAAAAPAAAACgAAAA8AAAAOAAAA",
        "encoding": "base64",
        "path": [
         "indices",
         "data"
        ]
       },
       {
        "data": "AACAPwAAAAAAAAAAAAAAAAAAAAAAAIA/AAAAAAAAAAAAAAAAAAAAAAAAgD8AAAAAAAAAAAAAAAAAAAAAAACAPw==",
        "encoding": "base64",
        "path": [
         "model_matrix",
         "data"
        ]
       },
       {
        "data": "",
        "encoding": "base64",
        "path": [
         "normals",
         "data"
        ]
       },
       {
        "data": "",
        "encoding": "base64",
        "path": [
         "opacity_function",
         "data"
        ]
       },
       {
        "data": "",
        "encoding": "base64",
        "path": [
         "triangles_attribute",
         "data"
        ]
       },
       {
        "data": "AADAfw==",
        "encoding": "base64",
        "path": [
         "uvs",
         "data"
        ]
       },
       {
        "data": "e/l6vE7cMz0xF2W84PSpu0SzfDw9YIK7FszTu3LNdryyOjY6+9OgvPBvL72uY4c741GVvUqiQj6afTU+TyJFvUtgmT3IdJM+KBtUvd8Dn7zuXpc+b1iwvXlVFL52Rk8+3zy2vYmReD5hwQM/TdFWvfNn0D1llDI/DJdivR1qA7xUjDQ/0jHPvRRpJr4N0wk/OJQbvUvQWj5U5mo/jx4yPLzE7T2ATp4/lTEBPLHWFD1tE58/i0dgvUdGvb0rS2w/",
        "encoding": "base64",
        "path": [
         "vertices",
         "data"
        ]
       },
       {
        "data": "",
        "encoding": "base64",
        "path": [
         "volume",
         "data"
        ]
       },
       {
        "data": "",
        "encoding": "base64",
        "path": [
         "volume_bounds",
         "data"
        ]
       }
      ],
      "model_module": "k3d",
      "model_module_version": "2.16.1",
      "model_name": "ObjectModel",
      "state": {
       "_view_module": null,
       "_view_module_version": "",
       "_view_name": null,
       "attribute": {
        "dtype": "float32",
        "shape": [
         0
        ]
       },
       "click_callback": false,
       "color": 255,
       "colorLegend": false,
       "color_map": {
        "dtype": "float32",
        "shape": [
         1024
        ]
       },
       "color_range": [],
       "colors": {
        "dtype": "uint32",
        "shape": [
         0
        ]
       },
       "compression_level": 0,
       "custom_data": null,
       "flat_shading": true,
       "group": null,
       "hover_callback": false,
       "id": 7569774176,
       "indices": {
        "dtype": "uint32",
        "shape": [
         18,
         3
        ]
       },
       "model_matrix": {
        "dtype": "float32",
        "shape": [
         4,
         4
        ]
       },
       "name": "Mesh #1",
       "normals": {
        "dtype": "float32",
        "shape": [
         0
        ]
       },
       "opacity": 1,
       "opacity_function": {
        "dtype": "float32",
        "shape": [
         0
        ]
       },
       "side": "front",
       "texture": null,
       "texture_file_format": null,
       "triangles_attribute": {
        "dtype": "float32",
        "shape": [
         0
        ]
       },
       "type": "Mesh",
       "uvs": {
        "dtype": "float32",
        "shape": []
       },
       "vertices": {
        "dtype": "float32",
        "shape": [
         16,
         3
        ]
       },
       "visible": true,
       "volume": {
        "dtype": "float32",
        "shape": [
         0
        ]
       },
       "volume_bounds": {
        "dtype": "float32",
        "shape": [
         0
        ]
       },
       "wireframe": false
      }
     },
     "d3f67b9397a54739afa6f36984c41a8f": {
      "model_module": "@jupyter-widgets/base",
      "model_module_version": "2.0.0",
      "model_name": "LayoutModel",
      "state": {}
     },
     "da2e4b0ab0584f6790d026330c588a55": {
      "buffers": [
       {
        "data": "",
        "encoding": "base64",
        "path": [
         "attribute",
         "data"
        ]
       },
       {
        "data": "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",
        "encoding": "base64",
        "path": [
         "color_map",
         "data"
        ]
       },
       {
        "data": "",
        "encoding": "base64",
        "path": [
         "colors",
         "data"
        ]
       },
       {
        "data": "AAAAAAIAAAABAAAAAQAAAAIAAAADAAAAAQAAAAMAAAARAAAAAAAAABAAAAACAAAAAgAAAAQAAAADAAAAAwAAAAQAAAAFAAAAAwAAAAUAAAARAAAAAgAAABAAAAAEAAAABAAAAAYAAAAFAAAABQAAAAYAAAAHAAAABQAAAAcAAAARAAAABAAAABAAAAAGAAAABgAAAAgAAAAHAAAABwAAAAgAAAAJAAAABwAAAAkAAAARAAAABgAAABAAAAAIAAAACAAAAAoAAAAJAAAACQAAAAoAAAALAAAACQAAAAsAAAARAAAACAAAABAAAAAKAAAACgAAAAwAAAALAAAACwAAAAwAAAANAAAACwAAAA0AAAARAAAACgAAABAAAAAMAAAADAAAAA4AAAANAAAADQAAAA4AAAAPAAAADQAAAA8AAAARAAAADAAAABAAAAAOAAAADgAAAAAAAAAPAAAADwAAAAAAAAABAAAADwAAAAEAAAARAAAADgAAABAAAAAAAAAA",
        "encoding": "base64",
        "path": [
         "indices",
         "data"
        ]
       },
       {
        "data": "AACAPwAAAAAAAAAAAAAAAAAAAAAAAIA/AAAAAAAAAAAAAAAAAAAAAAAAgD8AAAAAAAAAAAAAAAAAAAAAAACAPw==",
        "encoding": "base64",
        "path": [
         "model_matrix",
         "data"
        ]
       },
       {
        "data": "",
        "encoding": "base64",
        "path": [
         "normals",
         "data"
        ]
       },
       {
        "data": "",
        "encoding": "base64",
        "path": [
         "opacity_function",
         "data"
        ]
       },
       {
        "data": "",
        "encoding": "base64",
        "path": [
         "triangles_attribute",
         "data"
        ]
       },
       {
        "data": "AADAfw==",
        "encoding": "base64",
        "path": [
         "uvs",
         "data"
        ]
       },
       {
        "data": "AACAPwAAAAAAAAAAAACAPwAAAAAAAPBB8wQ1P/MENT8AAAAA8wQ1P/MENT8AAPBBc4+zrAAAgD8AAAAAc4+zrAAAgD8AAPBB8wQ1v/MENT8AAAAA8wQ1v/MENT8AAPBBAACAv3OPM60AAAAAAACAv3OPM60AAPBB8wQ1v/MENb8AAAAA8wQ1v/MENb8AAPBBlquGLQAAgL8AAAAAlquGLQAAgL8AAPBB8wQ1P/MENb8AAAAA8wQ1P/MENb8AAPBBAAAAAAAAAAAAAAAAAAAAAAAAAAAAAPBB",
        "encoding": "base64",
        "path": [
         "vertices",
         "data"
        ]
       },
       {
        "data": "",
        "encoding": "base64",
        "path": [
         "volume",
         "data"
        ]
       },
       {
        "data": "",
        "encoding": "base64",
        "path": [
         "volume_bounds",
         "data"
        ]
       }
      ],
      "model_module": "k3d",
      "model_module_version": "2.16.1",
      "model_name": "ObjectModel",
      "state": {
       "_view_module": null,
       "_view_module_version": "",
       "_view_name": null,
       "attribute": {
        "dtype": "float32",
        "shape": [
         0
        ]
       },
       "click_callback": false,
       "color": 255,
       "colorLegend": false,
       "color_map": {
        "dtype": "float32",
        "shape": [
         1024
        ]
       },
       "color_range": [],
       "colors": {
        "dtype": "uint32",
        "shape": [
         0
        ]
       },
       "compression_level": 0,
       "custom_data": null,
       "flat_shading": true,
       "group": null,
       "hover_callback": false,
       "id": 7575992256,
       "indices": {
        "dtype": "uint32",
        "shape": [
         32,
         3
        ]
       },
       "model_matrix": {
        "dtype": "float32",
        "shape": [
         4,
         4
        ]
       },
       "name": "Mesh #1",
       "normals": {
        "dtype": "float32",
        "shape": [
         0
        ]
       },
       "opacity": 1,
       "opacity_function": {
        "dtype": "float32",
        "shape": [
         0
        ]
       },
       "side": "front",
       "texture": null,
       "texture_file_format": null,
       "triangles_attribute": {
        "dtype": "float32",
        "shape": [
         0
        ]
       },
       "type": "Mesh",
       "uvs": {
        "dtype": "float32",
        "shape": []
       },
       "vertices": {
        "dtype": "float32",
        "shape": [
         18,
         3
        ]
       },
       "visible": true,
       "volume": {
        "dtype": "float32",
        "shape": [
         0
        ]
       },
       "volume_bounds": {
        "dtype": "float32",
        "shape": [
         0
        ]
       },
       "wireframe": false
      }
     },
     "da975c9233d442078263d58af7b0114e": {
      "model_module": "k3d",
      "model_module_version": "2.16.1",
      "model_name": "PlotModel",
      "state": {
       "_backend_version": "2.16.1",
       "antialias": 3,
       "auto_rendering": true,
       "axes": [
        "x",
        "y",
        "z"
       ],
       "axes_helper": 1,
       "axes_helper_colors": [
        16711680,
        65280,
        255
       ],
       "background_color": 16777215,
       "camera": [
        0.6954611048764403,
        -3.379150959734717,
        3.067122392364238,
        0,
        0,
        0,
        -0.14542887992043688,
        0.604973016303506,
        0.7828525342807084
       ],
       "camera_animation": [],
       "camera_auto_fit": true,
       "camera_damping_factor": 0,
       "camera_fov": 60,
       "camera_mode": "trackball",
       "camera_no_pan": false,
       "camera_no_rotate": false,
       "camera_no_zoom": false,
       "camera_pan_speed": 0.3,
       "camera_rotate_speed": 1,
       "camera_zoom_speed": 1.2,
       "clipping_planes": [],
       "colorbar_object_id": -1,
       "colorbar_scientific": false,
       "custom_data": null,
       "fps": 25,
       "fps_meter": false,
       "grid": [
        -1,
        -1,
        -1,
        1,
        1,
        1
       ],
       "grid_auto_fit": true,
       "grid_color": 15132390,
       "grid_visible": true,
       "height": 512,
       "label_color": 4473924,
       "layout": "IPY_MODEL_61266c90532241a5b5d7b9689a11d85f",
       "lighting": 3,
       "logarithmic_depth_buffer": true,
       "manipulate_mode": "translate",
       "menu_visibility": true,
       "minimum_fps": -1,
       "mode": "view",
       "name": null,
       "object_ids": [
        7572056112
       ],
       "rendering_steps": 1,
       "screenshot": "",
       "screenshot_scale": 2,
       "snapshot": "",
       "snapshot_type": "full",
       "time": 0,
       "voxel_paint_color": 0
      }
     },
     "dced970590694f318b6db9451c3c5d40": {
      "model_module": "k3d",
      "model_module_version": "2.16.1",
      "model_name": "PlotModel",
      "state": {
       "_backend_version": "2.16.1",
       "antialias": 3,
       "auto_rendering": true,
       "axes": [
        "x",
        "y",
        "z"
       ],
       "axes_helper": 1,
       "axes_helper_colors": [
        16711680,
        65280,
        255
       ],
       "background_color": 16777215,
       "camera": [
        14.162710964613458,
        -39.63653452511885,
        35.03853141870013,
        0,
        0,
        26.639644622802734,
        0.07977349661261836,
        0.17641839648057359,
        0.981077335698578
       ],
       "camera_animation": [],
       "camera_auto_fit": true,
       "camera_damping_factor": 0,
       "camera_fov": 60,
       "camera_mode": "trackball",
       "camera_no_pan": false,
       "camera_no_rotate": false,
       "camera_no_zoom": false,
       "camera_pan_speed": 0.3,
       "camera_rotate_speed": 1,
       "camera_zoom_speed": 1.2,
       "clipping_planes": [],
       "colorbar_object_id": -1,
       "colorbar_scientific": false,
       "custom_data": null,
       "fps": 25,
       "fps_meter": false,
       "grid": [
        -1,
        -1,
        -1,
        1,
        1,
        1
       ],
       "grid_auto_fit": true,
       "grid_color": 15132390,
       "grid_visible": true,
       "height": 512,
       "label_color": 4473924,
       "layout": "IPY_MODEL_3dd7dcea1e934d059f77a2c596cdd9a1",
       "lighting": 3,
       "logarithmic_depth_buffer": true,
       "manipulate_mode": "translate",
       "menu_visibility": true,
       "minimum_fps": -1,
       "mode": "view",
       "name": null,
       "object_ids": [
        7575985680
       ],
       "rendering_steps": 1,
       "screenshot": "",
       "screenshot_scale": 2,
       "snapshot": "",
       "snapshot_type": "full",
       "time": 0,
       "voxel_paint_color": 0
      }
     },
     "e3484f2a5cd74c89a0247f28d4834f06": {
      "buffers": [
       {
        "data": "",
        "encoding": "base64",
        "path": [
         "attribute",
         "data"
        ]
       },
       {
        "data": "AAAAAKabxDpvEgM607xjPCSXfzuZuxY7w2SqOgdfmDwkl/870ERYO+AtEDsUP8Y8ylRBPLx0kzuJ0l47/yH9PEmdgDymm8Q7dQKaOwkbHj0ukKA8SFD8O4LixztbsT89EoPAPFJJHTxIUPw7irBhPa5H4TxbsT88dQIaPEoMgj1JnQA9QmBlPDSANzxPQJM9vJYQPbn8hzxioVY8VHSkPS6QID3A7J48/mV3PMbctT2giTA9NIC3PATnjDw5Rcc97utAPYZa0zwJG548GeLYPWDlUD1F2PA8xSCwPGiz6j3T3mA9cM4IPYEmwjwkufw9RdhwPVFrGj09LNQ8cF8HPtxogD3EQi09+THmPIV8ED4Cmog9NxpAPbU3+DwHzhk+vJaQPYZaUz24HgU9ih8jPnWTmD2wA2c9u7gNPQ1xLD4ukKA9tRV7PeLpFT3G3DU+VcGoPUvIhz0tsh097nw/Pg6+sD0qOpI9nRElPRUdST7Hurg9duCcPVafKz08vVI+gLfAPZ7vpz1XWzE9mndcPjm0yD3F/rI9fa42PfkxZj5g5dA9yXa+PRHHOj2OBnA+GeLYPTojyj3tDT497MB5PtPe4D2GONY9EoNAPaW9gT6M2+g9003iPYEmQj3UmoY+RdjwPWkA7z04+EI96GqLPmwJ+T3/svs9XI9CPeAtkD4SgwA+OGcEPqW9QT2945Q+b4EEPigPCz43GkA9Y3+ZPsx/CD5O0RE+Njw9PdIAnj5fmAw+rK0YPjVeOj3uWqI+vJYQPgmKHz59rjY9uY2mPhiVFD7UmiY+6pUyPUymqj51kxg+n6stPnsULj1yiq4+0ZEcPmq8ND4Mkyk9KjqyPmWqID42zTs+nRElPY/CtT7BqCQ+OPhCPgn5ID1sCbk+HqcoPgMJSj5SSR099ii8PnqlLD7OGVE+dQIaPRIUvz7XozA+mSpYPlCNFz3c18E+arw0Pi0hXz7i6RU9HVrEPse6OD75MWY+KxgVPQu1xj4kuTw+Vg5tPisYFT2n6Mg+gLdAPuoEdD7i6RU98fTKPhTQRD5I4Xo+K/YXPc3MzD5wzkg+t9GAPlFrGj1yis4+zcxMPsoyhD4JGx49xSDQPinLUD7ek4c+nDMiPcWP0T6GyVQ+1eeKPsKGJz2q8dI+GeJYPs07jj6fqy09PSzUPnbgXD7Fj5E+fdAzPZhM1T7T3mA+veOUPhHHOj29UtY+L91kPpkqmD5cj0I9x0vXPsP1aD52cZs+qFdKPZkq2D4f9Gw+NquePs6IUj0179g+fPJwPhPyoT7RIls9tabZPtjwdD7UK6U+07xjPRpR2j4173g+lWWoPrG/bD1I4do+yAd9Plafqz5rK3Y9WmTbPhKDgD4X2a4+SS5/PVHa2z5BgoI+1xKyPgFNhD0tQ9w+b4GEPn0/tT7eAok97Z7cPp2Ahj4+ebg+u7iNPZHt3D7njIg+46W7PgWjkj0bL90+FYyKPqTfvj7iWJc9iGPdPkSLjD5KDMI+LUOcPduK3T5yio4+7zjFPgn5oD0tst0+vJaQPrByyD7mrqU9SL/dPuqVkj5Wn8s+MZmqPWTM3T4YlZQ++8vOPg5Prz1kzN0+RpSWPqH40T7qBLQ9SL/dPnWTmD5GJdU+x7q4PRKl3T6+n5o+7FHYPqRwvT3bit0+7Z6cPqyL2z6BJsI9iGPdPhuenj5SuN4+XdzGPRsv3T5JnaA+9+ThPsxdyz2t+tw+eJyiPp0R5T6pE9A9JLncPsGopD5eS+g+GJXUPX9q3D7wp6Y+A3jrPvVK2T2/Dtw+HqeoPqmk7j5kzN09/7LbPkymqj5O0fE+003iPSNK2z6Wsqw+Dwv1PrAD5z1I4do+xLGuPrU3+D4fhes9NV7aPvKwsD5aZPs+jgbwPT7o2T4hsLI+G57+Pv2H9D0QWNk+T6+0PmDlAD9sCfk948fYPpm7tj6zewI/24r9PZkq2D7Hurg+kxgEPyUGAT40gNc+9bm6PuauBT+lLAM+tMjWPiS5vD45RQc/XW0FPjQR1j5SuL4+GeIIPxSuBz60WdU+nMTAPmx4Cj/M7gk+/YfUPsrDwj5NFQw/gy8MPka20z74wsQ+n6sNPztwDj5z19I+J8LGPvJBDz/ysBA+ofjRPnDOyD7T3hA/4QsTPrMM0T6fzco+JXUSP5hMFT6pE9A+zczMPngLFD9QjRc+hA3PPvvLzj7LoRU/PugZPl8Hzj4py9A+HTgXPy1DHD4f9Mw+c9fSPnDOGD/kgx4+w9PLPqHW1D7DZBo/CfkgPmizyj7Q1dY+FvsbP/hTIz7whck+/tTYPmiRHT/mriU+XkvIPkjh2j67Jx8/CyQoPssQxz524Nw+gLcgPzGZKj4dycU+pN/ePtNNIj9WDi0+VHTEPtPe4D6Y3SM/e4MvPoofwz4B3uI+63MlP9cSMj6lvcE+S+rkPrADJz80ojQ+pU7APnnp5j51kyg/x0s3PonSvj6n6Og+rBwqPyPbOT5tVr0+1efqPnGsKz/tnjw+Udq7PgTn7D6oNS0/gEg/Pv5Duj5N8+4+bcUuP0oMQj7Hurg+fPLwPqVOMD8U0EQ+WRe3Pqrx8j5O0TE/FK5HPutztT7Y8PQ+hlozP0ymSj5hw7M+Iv32Pi/dND9NhE0+1xKyPlD8+D7ZXzY/vJZQPjJVsD5/+/o+guI3P/OOUz5yiq4+rfr8Pp5eOT+Zu1Y+sb+sPtv5/j662jo/PuhZPvH0qj4SgwA/1lY8P+QUXT75D6k+qoIBP2TMPT/AW2A+HTinPkGCAj/yQT8/07xjPiZTpT7YgQM/gLdAP+cdZz4TYaM+b4EEP4EmQj8xmWo+AG+hPpSHBT+BlUM/si5uPtJvnz4rhwY/gQRFPzPEcT6kcJ0+woYHP/RsRj/rc3U+WmSbPlmGCD/Zzkc/oyN5PhBYmT5+jAk/vjBJP8gHfT7HS5c+FYwKP6OSSj/3dYA+YTKVPqyLCz/67Us/CmiCPvwYkz5Eiww/UklNP1R0hD588pA+24oNPxueTj+dgIY++8uOPgCRDj9X7E8/ApqIPnqljD6XkA8/kzpRP4PAij7ecYo+LpAQP86IUj8E54w+Qj6IPsWPET990FM/oBqPPov9hT5cjxI/nRFVP1dbkT7vyYM+gZUTP71SVj8qqZM+N4mBPhiVFD9QjVc//faVPgCRfj6vlBU/VcFYPwdfmD5a9Xk+RpQWP1r1WT8Rx5o+tFl1PmuaFz/RIls/Gy+dPg6+cD4Cmhg/uklcP1uxnz5oImw+mpkZP6RwXT+cM6I+woZnPjGZGj8AkV4/+MKkPuXQYj7ImBs/zqpfP3Bfpz4JG14+7Z4cP5zEYD8DCao+LGVZPoSeHT/c12E/lrKsPhiVVD4bnh4/j+RiP0Rprz47308+sp0fP7PqYz8OLbI+KA9LPtejID/Y8GQ/2PC0PhQ/Rj5uoyE/b/BlP77Btz4Ab0E+BaMiP3npZj++n7o+toQ8PpyiIz/122c/v329PqK0Nz40oiQ/cM5oP/d1wD5YyjI+WKglP166aT8TYcM+DeAtPvCnJj++n2o/ZmbGPozbKD6Hpyc/kX5rP7pryT5B8SM+HqcoP9ZWbD8ofsw+wOwePrWmKT8bL20/l5DPPj7oGT7arCo/RPptPyGw0j694xQ+cawrP23Fbj+rz9U+BcUPPgisLD8Jim8/UPzYPkymCj6fqy0/pU5wPxE23D6UhwU+xLEuPyUGcT/Sb98+3GgAPluxLz+lvXE/rrbiPkaU9j3ysDA/mG5yP4v95T5oIuw9irAxP/wYcz+DUek+irDhPSGwMj/TvHM/eqXsPj0K1z1GtjM/HVp0P3L57z5fmMw93bU0P2b3dD+hZ/M+E/LBPXS1NT+Uh3U/tMj2PsdLtz0LtTY/whd2P+M2+j56paw9orQ3P2Khdj8tsv0+Lv+hPce6OD90JHc/LpAAP+JYlz1eujk/+aB3P2FUAj+Wsow99bk6P34deD8GEgQ/SgyCPYy5Oz/njHg/xtwFP9c0bz2xvzw/UPx4P/mgBz8aUVo9SL89PyxleT+6awk/FD9GPeC+Pj96x3k/ejYLP+qVMj13vj8/OiN6PzsBDT9SJyA9Dr5AP2x4ej+J0g4/TfMOPTPEQT+fzXo/ZaoQP0mdAD3Kw0I/tRV7P7N7Ej/VeOk8YcNDP8xdez+PUxQ/YqHWPPjCRD9Wn3s/aysWP6hXyjyPwkU/Udp7P0cDGD84+MI8tMhGP78OfD+x4Rk/ylTBPEvIRz+fPHw/GsAbPxQ/xjzjx0g/f2p8PxKlHT8Xt9E8esdJP0SLfD97gx8/07zjPJ/NSj8IrHw/c2ghP/8h/Tw2zUs/sb98P2pNIz9N8w49zcxMP1vTfD9hMiU/L24jPWTMTT924Hw/5x0nPxHHOj37y04/BOd8P2wJKT9hw1M9INJPPwTnfD9j7io/+8tuPbfRUD8E53w/duAsPwK8hT1O0VE/6Nl8P/vLLj/hepQ95dBSP83MfD8OvjA/CtejPQrXUz+Wsnw/k6kyPw+csz2h1lQ/X5h8P6abND9d/sM9OdZVP5p3fD9GlDY/hsnUPdDVVj9IUHw/WYY4Px3J5T1n1Vc/aCJ8P2x4Oj/+Zfc9jNtYP/rtez8NcTw/ppsEPiPbWT//sns/rWk+P/LSDT662lo/dnF7P8BbQD90JBc+UdpbP+wvez9hVEI/ZaogPujZXD9I4Xo/AU1EP8NkKj4N4F0/o5J6P6JFRj9YOTQ+pN9eP3E9ej/QREg/klw+PjvfXz+x4Xk/cT1KPzm0SD7T3mA/Y395PxE2TD9PQFM+9+RhPxUdeT+yLk4/CRtePo/kYj85tHg/UidQPzAqaT4m5GM/0ER4P/MfUj/GbXQ+veNkP9nOdz+TGFQ/AACAPlTjZT/iWHc/NBFWP1TjhT556WY/6+J2P0cDWD8W+4s+EOlnP2Zmdj/n+1k/Di2SPqfoaD/i6XU/+u1bP3WTmD4+6Gk/XW11P3/ZXT8tIZ8+1edqP9jwdD8FxV8/VOOlPvrtaz/henQ/irBhP83MrD6R7Ww/6gR0P/OOYz+z6rM+Ke1tP4GVcz9dbWU/7C+7PsDsbj8zM3M/OUVnP662wj7l8m8/Ad5yP4cWaT/DZMo+fPJwP+qVcj+62mo/RUfSPhPycT98YXI/X5hsPxpR2j6q8XI/RUdyP+lIbj9BguI+QfFzP0VHcj9X7G8/n83qPmb3dD8KaHI/HHxxPzMz8z799nU/k6lyP1MFcz/ImPs+lPZ2P28Scz9vgXQ/vAUCPyv2dz+conM/4ul1P/kxBj/D9Xg/HVp0PzlFdz+oVwo/5/t5P+84dT91k3g/rWkOP3/7ej+GOHY/ldR5PwpoEj8W+3s/4lh3PygPez+9UhY/rfp8P5CgeD+fPHw/xykaP9IAfj/n+3k/iGN9P5vmHT9pAH8/A3h7P1Z9fj83iSE/AACAP8gHfT8kl38/KxglPw==",
        "encoding": "base64",
        "path": [
         "color_map",
         "data"
        ]
       },
       {
        "data": "",
        "encoding": "base64",
        "path": [
         "colors",
         "data"
        ]
       },
       {
        "data": "AAAAAAEAAAACAAAAAgAAAAMAAAAAAAAA",
        "encoding": "base64",
        "path": [
         "indices",
         "data"
        ]
       },
       {
        "data": "AACAPwAAAAAAAAAAAAAAAAAAAAAAAIA/AAAAAAAAAAAAAAAAAAAAAAAAgD8AAAAAAAAAAAAAAAAAAAAAAACAPw==",
        "encoding": "base64",
        "path": [
         "model_matrix",
         "data"
        ]
       },
       {
        "data": "",
        "encoding": "base64",
        "path": [
         "normals",
         "data"
        ]
       },
       {
        "data": "",
        "encoding": "base64",
        "path": [
         "opacity_function",
         "data"
        ]
       },
       {
        "data": "",
        "encoding": "base64",
        "path": [
         "triangles_attribute",
         "data"
        ]
       },
       {
        "data": "AADAfw==",
        "encoding": "base64",
        "path": [
         "uvs",
         "data"
        ]
       },
       {
        "data": "AACAvwAAgL8AAAAAAACAPwAAgL8AAAAAAACAPwAAgD8AAAAAAACAvwAAgD8AAAAA",
        "encoding": "base64",
        "path": [
         "vertices",
         "data"
        ]
       },
       {
        "data": "",
        "encoding": "base64",
        "path": [
         "volume",
         "data"
        ]
       },
       {
        "data": "",
        "encoding": "base64",
        "path": [
         "volume_bounds",
         "data"
        ]
       }
      ],
      "model_module": "k3d",
      "model_module_version": "2.16.1",
      "model_name": "ObjectModel",
      "state": {
       "_view_module": null,
       "_view_module_version": "",
       "_view_name": null,
       "attribute": {
        "dtype": "float32",
        "shape": [
         0
        ]
       },
       "click_callback": false,
       "color": 255,
       "colorLegend": false,
       "color_map": {
        "dtype": "float32",
        "shape": [
         1024
        ]
       },
       "color_range": [],
       "colors": {
        "dtype": "uint32",
        "shape": [
         0
        ]
       },
       "compression_level": 0,
       "custom_data": null,
       "flat_shading": true,
       "group": null,
       "hover_callback": false,
       "id": 7572061008,
       "indices": {
        "dtype": "uint32",
        "shape": [
         2,
         3
        ]
       },
       "model_matrix": {
        "dtype": "float32",
        "shape": [
         4,
         4
        ]
       },
       "name": "Mesh #1",
       "normals": {
        "dtype": "float32",
        "shape": [
         0
        ]
       },
       "opacity": 1,
       "opacity_function": {
        "dtype": "float32",
        "shape": [
         0
        ]
       },
       "side": "front",
       "texture": null,
       "texture_file_format": null,
       "triangles_attribute": {
        "dtype": "float32",
        "shape": [
         0
        ]
       },
       "type": "Mesh",
       "uvs": {
        "dtype": "float32",
        "shape": []
       },
       "vertices": {
        "dtype": "float32",
        "shape": [
         4,
         3
        ]
       },
       "visible": true,
       "volume": {
        "dtype": "float32",
        "shape": [
         0
        ]
       },
       "volume_bounds": {
        "dtype": "float32",
        "shape": [
         0
        ]
       },
       "wireframe": false
      }
     },
     "e61b643177a84942880f73d6a795da1d": {
      "model_module": "k3d",
      "model_module_version": "2.16.1",
      "model_name": "PlotModel",
      "state": {
       "_backend_version": "2.16.1",
       "antialias": 3,
       "auto_rendering": true,
       "axes": [
        "x",
        "y",
        "z"
       ],
       "axes_helper": 1,
       "axes_helper_colors": [
        16711680,
        65280,
        255
       ],
       "background_color": 16777215,
       "camera": [
        58.046467930853645,
        -145.49722974572234,
        50.10183267687141,
        0.2643413543701172,
        -0.4350557327270508,
        35.29664993286133,
        0.10344713289193191,
        0.08248509596405283,
        0.9912088072854485
       ],
       "camera_animation": [],
       "camera_auto_fit": true,
       "camera_damping_factor": 0,
       "camera_fov": 60,
       "camera_mode": "trackball",
       "camera_no_pan": false,
       "camera_no_rotate": false,
       "camera_no_zoom": false,
       "camera_pan_speed": 0.3,
       "camera_rotate_speed": 1,
       "camera_zoom_speed": 1.2,
       "clipping_planes": [],
       "colorbar_object_id": -1,
       "colorbar_scientific": false,
       "custom_data": null,
       "fps": 25,
       "fps_meter": false,
       "grid": [
        -1,
        -1,
        -1,
        1,
        1,
        1
       ],
       "grid_auto_fit": true,
       "grid_color": 15132390,
       "grid_visible": true,
       "height": 512,
       "label_color": 4473924,
       "layout": "IPY_MODEL_d3f67b9397a54739afa6f36984c41a8f",
       "lighting": 3,
       "logarithmic_depth_buffer": true,
       "manipulate_mode": "translate",
       "menu_visibility": true,
       "minimum_fps": -1,
       "mode": "view",
       "name": null,
       "object_ids": [
        7569818192
       ],
       "rendering_steps": 1,
       "screenshot": "",
       "screenshot_scale": 2,
       "snapshot": "",
       "snapshot_type": "full",
       "time": 0,
       "voxel_paint_color": 0
      }
     },
     "ef10008c74764072b053270c45c170d8": {
      "model_module": "@jupyter-widgets/base",
      "model_module_version": "2.0.0",
      "model_name": "LayoutModel",
      "state": {}
     },
     "f247e46d58304afab4d8720b970668e9": {
      "model_module": "@jupyter-widgets/base",
      "model_module_version": "2.0.0",
      "model_name": "LayoutModel",
      "state": {}
     },
     "f7a1a04d3d51463693604fbb315ac4da": {
      "model_module": "k3d",
      "model_module_version": "2.16.1",
      "model_name": "PlotModel",
      "state": {
       "_backend_version": "2.16.1",
       "antialias": 3,
       "auto_rendering": true,
       "axes": [
        "x",
        "y",
        "z"
       ],
       "axes_helper": 1,
       "axes_helper_colors": [
        16711680,
        65280,
        255
       ],
       "background_color": 16777215,
       "camera": [
        8.566873126250218,
        6.47365029298058,
        7.1464809773178715,
        0.6049054861068726,
        0.2962023615837097,
        4.661670684814453,
        -0.03746631748350917,
        -0.24803226045996934,
        0.968027000049764
       ],
       "camera_animation": [],
       "camera_auto_fit": true,
       "camera_damping_factor": 0,
       "camera_fov": 60,
       "camera_mode": "trackball",
       "camera_no_pan": false,
       "camera_no_rotate": false,
       "camera_no_zoom": false,
       "camera_pan_speed": 0.3,
       "camera_rotate_speed": 1,
       "camera_zoom_speed": 1.2,
       "clipping_planes": [],
       "colorbar_object_id": -1,
       "colorbar_scientific": false,
       "custom_data": null,
       "fps": 25,
       "fps_meter": false,
       "grid": [
        -1,
        -1,
        -1,
        1,
        1,
        1
       ],
       "grid_auto_fit": true,
       "grid_color": 15132390,
       "grid_visible": true,
       "height": 512,
       "label_color": 4473924,
       "layout": "IPY_MODEL_33475a26f0fa447aa3c95b8fca7acee2",
       "lighting": 3,
       "logarithmic_depth_buffer": true,
       "manipulate_mode": "translate",
       "menu_visibility": true,
       "minimum_fps": -1,
       "mode": "view",
       "name": null,
       "object_ids": [
        7569694320
       ],
       "rendering_steps": 1,
       "screenshot": "",
       "screenshot_scale": 2,
       "snapshot": "",
       "snapshot_type": "full",
       "time": 0,
       "voxel_paint_color": 0
      }
     }
    },
    "version_major": 2,
    "version_minor": 0
   }
  }
 },
 "nbformat": 4,
 "nbformat_minor": 5
}
