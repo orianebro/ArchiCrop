{
 "cells": [
  {
   "cell_type": "markdown",
   "id": "31e7c70c-f264-40d7-9287-4ae1f8b30979",
   "metadata": {},
   "source": [
    "# Simulations light inter"
   ]
  },
  {
   "cell_type": "code",
   "execution_count": 1,
   "id": "7ba99dee-5c5b-41f6-b32a-85bc95be9544",
   "metadata": {},
   "outputs": [],
   "source": [
    "from __future__ import annotations\n",
    "\n",
    "import os\n",
    "import sys\n",
    "\n",
    "import matplotlib.pyplot as plt\n",
    "import numpy as np\n",
    "import xarray as xr\n",
    "\n",
    "sys.path.append(\"../data\") \n",
    "from archi_dict import archi_sorghum as archi\n",
    "from oawidgets.plantgl import *  # noqa: F403\n",
    "\n",
    "from openalea.archicrop.display import build_scene, display_scene  # noqa: F401\n",
    "from openalea.archicrop.simulation import (\n",
    "    morphospace,\n",
    "    write_morphospace_as_netcdf,\n",
    ")\n",
    "from openalea.mtg.io import read_mtg\n",
    "from openalea.plantgl.all import Color3, Material, Scene, Viewer  # noqa: F401\n",
    "\n",
    "%gui qt"
   ]
  },
  {
   "cell_type": "code",
   "execution_count": 2,
   "id": "19db8171",
   "metadata": {},
   "outputs": [],
   "source": [
    "stics_color = \"orange\"\n",
    "archicrop_color = \"green\""
   ]
  },
  {
   "cell_type": "code",
   "execution_count": 3,
   "id": "9f533beb",
   "metadata": {},
   "outputs": [],
   "source": [
    "seed = 18"
   ]
  },
  {
   "cell_type": "code",
   "execution_count": 4,
   "id": "45076a79-f91b-4d88-8bf2-534cac964d8c",
   "metadata": {},
   "outputs": [],
   "source": [
    "\n",
    "thermal_time, params_sets, pot_la, pot_h, mtgs = morphospace(\n",
    "    archi_params=archi, \n",
    "    n_samples=4,\n",
    "    latin_hypercube=False,\n",
    "    seed=seed)\n"
   ]
  },
  {
   "cell_type": "code",
   "execution_count": 5,
   "id": "6ce2f95c",
   "metadata": {},
   "outputs": [],
   "source": [
    "# ### Plot the 3D scene\n",
    "# times = [t for i,t in enumerate(thermal_time) if i%10==0]\n",
    "# mean_time = sum(times) / len(times)\n",
    "# positions = [ (1*(t-mean_time), 0, 0) for t in times]\n",
    "# nice_green = Color3((40, 80, 0))\n",
    "# scene, _ = build_scene(\n",
    "#     [g for i,g in enumerate(mtgs[id]) if i%10==0], \n",
    "#     position=positions, \n",
    "#     senescence=True, \n",
    "#     leaf_material = Material(nice_green), \n",
    "#     stem_material=Material(nice_green))\n",
    "# display_scene(scene)"
   ]
  },
  {
   "cell_type": "code",
   "execution_count": 7,
   "id": "7b4302e1",
   "metadata": {},
   "outputs": [],
   "source": [
    "from openalea.plantgl.all import Color3, Material, Scene, Viewer\n",
    "from datetime import date\n",
    "\n",
    "today_str = date.today().strftime(\"%Y-%m-%d\")\n",
    "os.makedirs(f\"D:/PhD_Oriane/simulations_ArchiCrop/{today_str}\", exist_ok=True)  # noqa: PTH103\n",
    "# plt.savefig(f\"D:/PhD_Oriane/simulations_ArchiCrop/{today_str}/plot_extin_coef_LAI_{parameter_name}.png\")\n",
    "\n",
    "nice_green = Color3((40, 80, 0))\n",
    "\n",
    "for id,mtg in mtgs.items():\n",
    "    Viewer.display(build_scene(mtg, senescence=True, leaf_material = Material(nice_green), stem_material=Material(nice_green))[0])\n",
    "    Viewer.grids.setXYPlane(False)\n",
    "    Viewer.grids.setYZPlane(False)\n",
    "    Viewer.grids.setXZPlane(False)\n",
    "    Viewer.camera.lookAt((386.117,-232.613,435.8), (0,0,100))\n",
    "    Viewer.frameGL.saveImage(f\"D:/PhD_Oriane/simulations_ArchiCrop/{today_str}/sorghum_{params_sets[id]['phyllochron']}_{params_sets[id]['rmax']}_{params_sets[id]['insertion_angle']}_{params_sets[id]['curvature']}.png\")"
   ]
  },
  {
   "cell_type": "code",
   "execution_count": null,
   "id": "3e87ce02",
   "metadata": {},
   "outputs": [],
   "source": [
    "# g_direct = {id: mtg for id,mtg in mtgs.items()}\n",
    "# g_direct[0].property(\"azimuth\")"
   ]
  },
  {
   "cell_type": "code",
   "execution_count": null,
   "id": "17a67318",
   "metadata": {},
   "outputs": [],
   "source": [
    "# write_morphospace_as_netcdf(thermal_time, params_sets, pot_la, pot_h, mtgs, seed)"
   ]
  },
  {
   "cell_type": "code",
   "execution_count": null,
   "id": "1ca9182d",
   "metadata": {},
   "outputs": [],
   "source": [
    "# from openalea.archicrop.cereal_plant import mtg_interpreter\n",
    "# day_str = \"2025-09-02\"\n",
    "# ds = xr.open_dataset(f\"D:/PhD_Oriane/simulations_ArchiCrop/{day_str}/morphospace_{seed}.nc\")\n",
    "# g = ds.mtgs.values\n",
    "# g = {id: read_mtg(mtg) for id,mtg in zip(ds.id.values,g)}\n",
    "# scene, _ = build_scene(mtg_interpreter(g[0]))\n",
    "# Viewer.display(scene)"
   ]
  },
  {
   "cell_type": "code",
   "execution_count": null,
   "id": "ea9f5009",
   "metadata": {},
   "outputs": [],
   "source": [
    "# g[0].property(\"azimuth\")"
   ]
  },
  {
   "cell_type": "code",
   "execution_count": null,
   "id": "2e4c9eb6",
   "metadata": {},
   "outputs": [],
   "source": [
    "# il y a de l'info qui est perdue quand on sauvegarde un mtg..."
   ]
  }
 ],
 "metadata": {
  "kernelspec": {
   "display_name": "ArchiCrop",
   "language": "python",
   "name": "python3"
  },
  "language_info": {
   "codemirror_mode": {
    "name": "ipython",
    "version": 3
   },
   "file_extension": ".py",
   "mimetype": "text/x-python",
   "name": "python",
   "nbconvert_exporter": "python",
   "pygments_lexer": "ipython3",
   "version": "3.12.3"
  },
  "widgets": {
   "application/vnd.jupyter.widget-state+json": {
    "state": {},
    "version_major": 2,
    "version_minor": 0
   }
  }
 },
 "nbformat": 4,
 "nbformat_minor": 5
}
