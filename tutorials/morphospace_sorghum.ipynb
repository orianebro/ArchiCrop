{
 "cells": [
  {
   "cell_type": "markdown",
   "id": "31e7c70c-f264-40d7-9287-4ae1f8b30979",
   "metadata": {},
   "source": [
    "# Simulations light inter"
   ]
  },
  {
   "cell_type": "code",
   "execution_count": null,
   "id": "7ba99dee-5c5b-41f6-b32a-85bc95be9544",
   "metadata": {},
   "outputs": [],
   "source": [
    "from __future__ import annotations\n",
    "\n",
    "import os\n",
    "import sys\n",
    "\n",
    "import matplotlib.pyplot as plt\n",
    "import numpy as np\n",
    "import xarray as xr\n",
    "\n",
    "sys.path.append(\"../data\") \n",
    "from archi_dict import archi_sorghum as archi\n",
    "from oawidgets.plantgl import *  # noqa: F403\n",
    "\n",
    "from openalea.archicrop.display import build_scene, display_scene  # noqa: F401\n",
    "from openalea.archicrop.simulation import (\n",
    "    morphospace,\n",
    "    write_morphospace_as_netcdf,\n",
    ")\n",
    "from openalea.mtg.io import read_mtg\n",
    "from openalea.plantgl.all import Color3, Material, Scene, Viewer  # noqa: F401\n",
    "\n",
    "%gui qt"
   ]
  },
  {
   "cell_type": "code",
   "execution_count": 2,
   "id": "19db8171",
   "metadata": {},
   "outputs": [],
   "source": [
    "stics_color = \"orange\"\n",
    "archicrop_color = \"green\""
   ]
  },
  {
   "cell_type": "code",
   "execution_count": 3,
   "id": "9f533beb",
   "metadata": {},
   "outputs": [],
   "source": [
    "seed = 18"
   ]
  },
  {
   "cell_type": "code",
   "execution_count": 4,
   "id": "45076a79-f91b-4d88-8bf2-534cac964d8c",
   "metadata": {},
   "outputs": [],
   "source": [
    "\n",
    "thermal_time, params_sets, pot_la, pot_h, mtgs = morphospace(\n",
    "    archi_params=archi, \n",
    "    n_samples=100,\n",
    "    latin_hypercube=True,\n",
    "    seed=seed)\n"
   ]
  },
  {
   "cell_type": "code",
   "execution_count": 5,
   "id": "17a67318",
   "metadata": {},
   "outputs": [],
   "source": [
    "write_morphospace_as_netcdf(thermal_time, params_sets, pot_la, pot_h, mtgs, seed)"
   ]
  },
  {
   "cell_type": "code",
   "execution_count": null,
   "id": "1ca9182d",
   "metadata": {},
   "outputs": [],
   "source": [
    "day_str = \"2025-09-02\"\n",
    "ds = xr.open_dataset(f\"D:/PhD_Oriane/simulations_ArchiCrop/{day_str}/morphospace_{seed}.nc\")\n",
    "g = ds.mtgs.values\n",
    "g = [read_mtg(mtg) for mtg in g]\n",
    "scene, _ = build_scene(g[0])\n",
    "Viewer.display(scene)\n",
    "# no geometry ?"
   ]
  },
  {
   "cell_type": "code",
   "execution_count": null,
   "id": "e2f9544c",
   "metadata": {},
   "outputs": [],
   "source": []
  }
 ],
 "metadata": {
  "kernelspec": {
   "display_name": "ArchiCrop",
   "language": "python",
   "name": "python3"
  },
  "language_info": {
   "codemirror_mode": {
    "name": "ipython",
    "version": 3
   },
   "file_extension": ".py",
   "mimetype": "text/x-python",
   "name": "python",
   "nbconvert_exporter": "python",
   "pygments_lexer": "ipython3",
   "version": "3.12.3"
  },
  "widgets": {
   "application/vnd.jupyter.widget-state+json": {
    "state": {},
    "version_major": 2,
    "version_minor": 0
   }
  }
 },
 "nbformat": 4,
 "nbformat_minor": 5
}
