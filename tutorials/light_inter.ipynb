{
 "cells": [
  {
   "cell_type": "markdown",
   "id": "31e7c70c-f264-40d7-9287-4ae1f8b30979",
   "metadata": {},
   "source": [
    "# Simulations light inter"
   ]
  },
  {
   "cell_type": "markdown",
   "id": "fe31c5a6-c8c0-43c9-b623-bbc7e4573b11",
   "metadata": {},
   "source": [
    "## 0. Imports"
   ]
  },
  {
   "cell_type": "code",
   "execution_count": 1,
   "id": "7ba99dee-5c5b-41f6-b32a-85bc95be9544",
   "metadata": {},
   "outputs": [],
   "source": [
    "import numpy as np\n",
    "import time as t\n",
    "import random\n",
    "from oawidgets.plantgl import *\n",
    "from openalea.plantgl.all import Material, Color3, Scene\n",
    "import oawidgets.mtg\n",
    "\n",
    "from openalea.archicrop.archicrop import ArchiCrop\n",
    "from openalea.archicrop.display import build_scene, display_scene\n",
    "from openalea.archicrop.simulation import read_sti_file, read_xml_file, LHS_param_sampling, params_for_curve_fit\n",
    "import matplotlib.pyplot as plt\n",
    "%gui qt"
   ]
  },
  {
   "cell_type": "code",
   "execution_count": 2,
   "id": "c1d8b9c2-656d-48b8-99d2-d3c46bb9d15a",
   "metadata": {},
   "outputs": [],
   "source": [
    "# random.seed(18)"
   ]
  },
  {
   "cell_type": "markdown",
   "id": "13b7984c-51e7-4077-96ec-9bcc73150520",
   "metadata": {},
   "source": [
    "## 1. Set management parameters\n",
    "\n",
    "Set parameters regarding the spatial (and temporal) configuration of the crop."
   ]
  },
  {
   "cell_type": "code",
   "execution_count": 3,
   "id": "c690784e-63d3-458f-b901-2f96505f1fac",
   "metadata": {},
   "outputs": [],
   "source": [
    "file_tec_xml = 'Mais_tec.xml'\n",
    "params_tec = ['densitesem', 'interrang']\n",
    "tec_stics = read_xml_file(file_tec_xml, params_tec)\n",
    "sowing_density = tec_stics['densitesem']\n",
    "inter_row = 70"
   ]
  },
  {
   "cell_type": "markdown",
   "id": "d282da23-eaa6-402c-8e54-df79bef01aad",
   "metadata": {},
   "source": [
    "## 2. Format crop-scale growth and senescence dynamics\n",
    "\n",
    "From crop-scale data either measured or simulated with a crop model, generate a dictionnary of dictionnaries for each day with the following values :\n",
    " - \"Thermal time\" (float): cumulated thermal time from beginning of simulation to current day (in °C.day)\n",
    " - \"Phenology\" (str): current phenological stage (germination, juvenile, exponential or repro)\n",
    " - \"Plant leaf area\" (float): plant leaf area (in cm²) \n",
    " - \"Leaf area increment\" (float): leaf area increment compared to previous day (in cm²) \n",
    " - \"Plant senescent leaf area\" (float): senescent plant leaf area (in cm²) \n",
    " - \"Senescent leaf area increment\" (float): senescent leaf area increment compared to previous day (in cm²) \n",
    " - \"Plant height\" (float): plant height (in cm) \n",
    " - \"Height increment\" (float): height increment compared to previous day (in cm)."
   ]
  },
  {
   "cell_type": "code",
   "execution_count": 4,
   "id": "6e42da80-9b6d-495d-bc79-940741edc40b",
   "metadata": {},
   "outputs": [],
   "source": [
    "stics_output_file = 'mod_smaize.sti'\n",
    "daily_dynamics = read_sti_file(stics_output_file, sowing_density)\n",
    "\n",
    "# Time series \n",
    "# for thermal time, plant leaf area, plant senescent leaf area and plant height\n",
    "thermal_time = [value[\"Thermal time\"] for value in daily_dynamics.values()]\n",
    "leaf_area_plant = [value[\"Plant leaf area\"] for value in daily_dynamics.values()]\n",
    "sen_leaf_area_plant = [value[\"Plant senescent leaf area\"] for value in daily_dynamics.values()]\n",
    "height_canopy = [value[\"Plant height\"] for value in daily_dynamics.values()]"
   ]
  },
  {
   "cell_type": "code",
   "execution_count": 6,
   "id": "3f5e0124-1158-41d7-a255-d93e9fdaca74",
   "metadata": {},
   "outputs": [
    {
     "data": {
      "text/plain": [
       "'1996-04-21'"
      ]
     },
     "execution_count": 6,
     "metadata": {},
     "output_type": "execute_result"
    }
   ],
   "source": [
    "dates = [value[\"Date\"] for value in daily_dynamics.values()]\n",
    "dates[0]"
   ]
  },
  {
   "cell_type": "code",
   "execution_count": null,
   "id": "cdea6b0a-fe00-4bf0-bd78-f98202195cda",
   "metadata": {},
   "outputs": [],
   "source": [
    "file_plt_xml = 'corn_plt.xml'\n",
    "params_sen = ['durvieF', 'ratiodurvieI']\n",
    "sen_stics = read_xml_file(file_plt_xml, params_sen)\n",
    "lifespan = sen_stics['durvieF'] # leaf lifespan from appearance in exponential phase\n",
    "lifespan_early = sen_stics['ratiodurvieI'] * lifespan # leaf lifespan from appearance in juvenile phase"
   ]
  },
  {
   "cell_type": "markdown",
   "id": "c8cad4ae-0e0a-4693-a4ed-4494e9a3dbf3",
   "metadata": {},
   "source": [
    "## 3. Set plant architectural parameters\n",
    "\n",
    "Set topological, geometrical and developmental parameters, in a range corresponding a given species, found in literature."
   ]
  },
  {
   "cell_type": "code",
   "execution_count": null,
   "id": "fc27b380-3989-4cec-842c-ef92d36a4490",
   "metadata": {},
   "outputs": [],
   "source": [
    "archi = dict(\n",
    "    nb_phy=[8,20], # number of phytomers on the main stem\n",
    "    nb_short_phy=4,\n",
    "    \n",
    "    # Stem\n",
    "    height=3*max(height_canopy), # potential plant height\n",
    "    stem_q=1.0, # parameter for ligule height geometric distribution along axis\n",
    "    diam_base=2.5, # stem base diameter\n",
    "    diam_top=1.5, # stem top diameter\n",
    "\n",
    "    # Leaf area distribution along the stem  \n",
    "    leaf_area=1.2*max(leaf_area_plant), # potential plant leaf area\n",
    "    rmax=[0.55,0.8], # relative position of largest leaf on the stem\n",
    "    skew=0.005, # skewness for leaf area distribution along axis\n",
    "\n",
    "    # blade area\n",
    "    wl=0.12, # leaf blade width-to-length ratio \n",
    "    klig=0.6, # parameter for leaf blade shape\n",
    "    swmax=0.55, # relative position of maximal blade width\n",
    "    f1=0.64, # parameter for leaf blade shape\n",
    "    f2=0.92, # parameter for leaf blade shape\n",
    "\n",
    "    # blade curvature\n",
    "    insertion_angle=35, # leaf blade insertion angle\n",
    "    scurv=0.7, #  relative position of inflexion point\n",
    "    curvature=120, # leaf blade insertion-to-tip angle\n",
    "    phyllotactic_angle=137.5, # phyllotactic angle\n",
    "    phyllotactic_deviation=0, # half-deviation to phyllotactic angle\n",
    "\n",
    "    # Development\n",
    "    phyllochron=30, # phyllochron, i.e. stem element appearance rate\n",
    "    plastochron=40, # plastochron, i.e. leaf blade appearance rate\n",
    "\n",
    "    # Senescence \n",
    "    leaf_lifespan = [lifespan_early, lifespan], # leaf lifespan from appearance\n",
    "\n",
    "    # Tillering\n",
    "    nb_tillers=0, # number of tillers\n",
    "    tiller_delay=1, # delay, as factor of phyllochron, between the appearance of a phytomer and the appearance of its tiller\n",
    "    tiller_angle=30,\n",
    "    reduction_factor=1, # reduction factor between tillers of consecutive order\n",
    "\n",
    "    plant_orientation=0 #20\n",
    ")"
   ]
  },
  {
   "cell_type": "code",
   "execution_count": null,
   "id": "2a3e8fa6-baea-44b3-92fd-702d39926ee1",
   "metadata": {},
   "outputs": [],
   "source": [
    "# Function to process parameters and generate samples\n",
    "# Generate parameter sets\n",
    "param_sets = LHS_param_sampling(archi, daily_dynamics, n_samples=10, seed=18)\n",
    "print(len(param_sets))"
   ]
  },
  {
   "cell_type": "code",
   "execution_count": null,
   "id": "e92f519a-2a0c-44e3-b125-fc3e95fc9553",
   "metadata": {},
   "outputs": [],
   "source": [
    "# Select parameters sets for which the model fits the LAI and the height curves of the crop model, with a given error.\n",
    "\n",
    "# Start the timer\n",
    "start_time = t.time()\n",
    "\n",
    "fitting_sim, non_fitting_sim = params_for_curve_fit(param_sets, curves=daily_dynamics, error_LA=0.05, error_height=0.05)\n",
    "\n",
    "# End the timer\n",
    "end_time = t.time()\n",
    "\n",
    "# Calculate elapsed time\n",
    "elapsed_time = (end_time - start_time)/60\n",
    "print(f\"Elapsed time: {elapsed_time:.4f} minutes\")"
   ]
  },
  {
   "cell_type": "code",
   "execution_count": null,
   "id": "6fa56b2d-8a1c-44f2-93f0-39ed95fe054b",
   "metadata": {},
   "outputs": [],
   "source": [
    "print(len(fitting_sim['mtg']))"
   ]
  },
  {
   "cell_type": "code",
   "execution_count": null,
   "id": "b3403d27-fdae-4b3a-8023-2ccb972ea0a1",
   "metadata": {},
   "outputs": [],
   "source": [
    "from matplotlib.lines import Line2D\n",
    "\n",
    "# Create a figure with two subplots side by side\n",
    "fig, axes = plt.subplots(2, 1, figsize=(12, 6), sharex=True)  # 1 row, 2 columns\n",
    "\n",
    "# Plot on the first subplot\n",
    "# for non_result in non_fitting_sim['LA']:\n",
    "#     axes[0].plot(thermal_time, [r*sowing_density/10000 for r in result],  color=\"gray\", alpha=0.1)\n",
    "for result in fitting_sim['LA']:\n",
    "    axes[0].plot(thermal_time, [r*sowing_density/10000 for r in result],  color=\"green\", alpha=0.6)\n",
    "    # print(result)\n",
    "axes[0].plot(thermal_time, [(la-sen)*sowing_density/10000 for la, sen in zip(leaf_area_plant, sen_leaf_area_plant)], color=\"black\", alpha=0.9)\n",
    "# axes[0].set_xlabel(\"Thermal time (°C.day)\")\n",
    "axes[0].set_ylabel(\"LAI (m²/m²)\", fontsize=16, fontname=\"Times New Roman\")\n",
    "# axes[0].set_title(\"Leaf Area: 3D canopy vs. STICS\")\n",
    "# axes[0].legend(loc=2)\n",
    "\n",
    "legend_elements_lai = [\n",
    "    Line2D([0], [0], color='black', alpha=0.9, lw=2, label='LAI STICS'),\n",
    "    Line2D([0], [0], color='green', alpha=0.6, lw=2, label='LAI morphotypes')\n",
    "]\n",
    "\n",
    "axes[0].legend(handles=legend_elements_lai, loc=2, prop={'family': 'Times New Roman', 'size': 12})\n",
    "\n",
    "# Plot on the second subplot\n",
    "# for non_result in non_fitting_sim['height']:\n",
    "#     axes[1].plot(thermal_time, [r*0.01 for r in non_result], color=\"gray\", alpha=0.1)\n",
    "for result in fitting_sim['height']:\n",
    "    axes[1].plot(thermal_time, [r*0.01 for r in result], color=\"orange\", alpha=0.6)\n",
    "axes[1].plot(thermal_time, [h*0.01 for h in height_canopy], color=\"black\", alpha=0.9)\n",
    "axes[1].set_xlabel(\"Thermal time (°C.day)\", fontsize=16, fontname=\"Times New Roman\")\n",
    "axes[1].set_ylabel(\"Crop height (m)\", fontsize=16, fontname=\"Times New Roman\")\n",
    "# axes[1].set_title(\"Plant height: 3D canopy vs. STICS\")\n",
    "\n",
    "legend_elements_height = [\n",
    "    Line2D([0], [0], color='black', alpha=0.9, lw=2, label='Height STICS'),\n",
    "    Line2D([0], [0], color='orange', alpha=0.6, lw=2, label='Height morphotypes')\n",
    "]\n",
    "\n",
    "axes[1].legend(handles=legend_elements_height, loc=2, prop={'family': 'Times New Roman', 'size': 12})\n",
    "\n",
    "plt.savefig('PMA_curves')\n",
    "\n",
    "# Adjust layout\n",
    "plt.tight_layout()\n",
    "\n",
    "# Show the plot\n",
    "plt.show()"
   ]
  },
  {
   "cell_type": "code",
   "execution_count": null,
   "id": "bc81e1af-55b4-4087-9cc1-4c9400722395",
   "metadata": {},
   "outputs": [],
   "source": []
  },
  {
   "cell_type": "code",
   "execution_count": null,
   "id": "e66e00ed-42f4-4668-bf69-b08832ee05ff",
   "metadata": {},
   "outputs": [],
   "source": [
    "# fitting_sim['mtg'][-1][85].properties()"
   ]
  },
  {
   "cell_type": "code",
   "execution_count": null,
   "id": "b119c5a3-7b0e-4cd6-b4cc-6a1c1c1db1dc",
   "metadata": {},
   "outputs": [],
   "source": [
    "scene, _ = build_scene(fitting_sim['mtg'][1][60])\n",
    "PlantGL(scene)"
   ]
  },
  {
   "cell_type": "code",
   "execution_count": null,
   "id": "aa4c6d8a-0876-4536-be09-b7b2cec9677d",
   "metadata": {},
   "outputs": [],
   "source": []
  },
  {
   "cell_type": "code",
   "execution_count": null,
   "id": "4cc0ae3f-80bf-4490-81eb-070ff4ee3254",
   "metadata": {},
   "outputs": [],
   "source": [
    "morpho = {\n",
    "    i : [p['nb_phy'],p['rmax']]\n",
    "    for i,p in enumerate(fitting_sim['params'])\n",
    "}\n",
    "\n",
    "# print(morpho)\n",
    "# print([p['nb_phy'] for p in fitting_sim['params']])\n",
    "# print([round(p['wl'],2) for p in fitting_sim['params']])"
   ]
  },
  {
   "cell_type": "markdown",
   "id": "856ccf1b-2c08-4abb-a389-30a29a95dae8",
   "metadata": {},
   "source": [
    "## Light interception"
   ]
  },
  {
   "cell_type": "code",
   "execution_count": null,
   "id": "45076a79-f91b-4d88-8bf2-534cac964d8c",
   "metadata": {},
   "outputs": [],
   "source": [
    "import pandas as pd\n",
    "from openalea.astk.sky_irradiance import sky_irradiance\n",
    "from openalea.astk.sky_sources import sky_sources, caribu_light_sources\n",
    "from openalea.archicrop.ltfs import illuminate, mean_leaf_irradiance\n",
    "from alinea.caribu.data_samples import data_path\n",
    "\n",
    "par_inc = [value[\"Incident PAR\"] for value in daily_dynamics.values()]\n",
    "\n",
    "fn = 'climaisj.meteo'\n",
    "def meteo_day():\n",
    "    names=['station', 'year', 'month', 'day', 'julian', 'min_temp', 'max_temp', 'rad', 'Penman PET', 'rainfall', 'wind', 'pressure', 'CO2']\n",
    "    df = pd.read_csv(fn,  header=None, sep='\\s+', names=names)\n",
    "    df[\"daydate\"] = pd.to_datetime(df[[\"year\", \"month\", \"day\"]])\n",
    "    return df\n",
    "\n",
    "df = meteo_day()\n",
    "location ={\n",
    "'longitude': 3.87,\n",
    "'latitude': 45,\n",
    "'altitude': 56,\n",
    "'timezone': 'Europe/Paris'}\n",
    "\n",
    "# print([d for d in df.itertuples()])\n",
    "\n",
    "# irr = sky_irradiance()\n",
    "# sun, sky = sky_sources(sky_type='clear_sky', sky_irradiance=irr, scale='ppfd')\n",
    "# lights = caribu_light_sources(sun, sky)\n",
    "\n",
    "nice_green = Color3((50,100,0))\n",
    "\n",
    "inter_plant = (100 / inter_row / sowing_density)*100 \n",
    "domain = ((-0.5*inter_row, -0.5*inter_plant), (0.5*inter_row, 0.5*inter_plant))\n",
    "\n",
    "par_caribu = []\n",
    "\n",
    "scenes = []\n",
    "\n",
    "start_time = t.time()\n",
    "\n",
    "for mtgs in fitting_sim['mtg'][:1]:\n",
    "    scenes_tmp = []\n",
    "    aggs_tmp = []\n",
    "    count = 0\n",
    "    print(len(mtgs))\n",
    "    # for mtg, par in zip(mtgs[-2:-1], par_inc[-2:-1]):\n",
    "    for mtg,row in zip(mtgs,df.itertuples()):\n",
    "        count += 1\n",
    "        if count%5==0:\n",
    "            irr = sky_irradiance(daydate=row.daydate, day_ghi=row.rad, **location)\n",
    "            sun, sky = sky_sources(sky_type='clear_sky', sky_irradiance=irr, scale='global')\n",
    "            lights = caribu_light_sources(sun, sky)\n",
    "            # lights = [(par,(0,0,-1))]\n",
    "            \n",
    "            scene, labels = build_scene(mtg, (0,0,0), leaf_material=Material(nice_green), stem_material=Material(nice_green), senescence=False)\n",
    "            cs, raw, agg = illuminate(scene, light=lights, labels=labels, domain=domain)\n",
    "            aggs_tmp.append(agg)\n",
    "            scenes_tmp.append(cs.plot(raw, display=False)[0])\n",
    "            print((t.time() - start_time)/60)\n",
    "    par_caribu.append(aggs_tmp)\n",
    "    scenes.append(scenes_tmp)\n",
    "\n",
    "end_time = t.time()\n",
    "\n",
    "elapsed_time = (end_time - start_time)/60\n",
    "print(f\"Elapsed time: {elapsed_time:.4f} minutes for {len(fitting_sim['mtg'])} simulations\")"
   ]
  },
  {
   "cell_type": "code",
   "execution_count": null,
   "id": "a2056fa1-0907-423f-add4-e12c4eccb175",
   "metadata": {},
   "outputs": [],
   "source": [
    "par_stics = [value[\"Absorbed PAR\"] for value in daily_dynamics.values()]\n",
    "\n",
    "nrj_per_leaf = []\n",
    "irr_per_plant = []\n",
    "\n",
    "for case in par_caribu:\n",
    "    nrj_tmp = []\n",
    "    irr_tmp = []\n",
    "    for df in case:\n",
    "        df_mod = mean_leaf_irradiance(df)\n",
    "        nrj_tmp.append(df.loc[df['label'] == 'Leaf']['Energy'].values)\n",
    "        irr_tmp.append(df_mod['Irradiance'].values[0])\n",
    "    nrj_per_leaf.append(nrj_tmp)\n",
    "    irr_per_plant.append(irr_tmp)"
   ]
  },
  {
   "cell_type": "code",
   "execution_count": null,
   "id": "188f64c7-9949-4a82-af21-c51dcf30b16b",
   "metadata": {},
   "outputs": [],
   "source": [
    "nrj_per_plant = [[sum(growing_plant) for growing_plant in plant] for plant in nrj_per_leaf]\n",
    "nrj_per_plant"
   ]
  },
  {
   "cell_type": "code",
   "execution_count": null,
   "id": "85e0b4a5-6d32-4ea9-9b19-c1e5e183bc1d",
   "metadata": {},
   "outputs": [],
   "source": [
    "# Conversion\n",
    "# irr_per_plant = [[i*0.0864/4.6  for i in irr] for irr in irr_per_plant]\n",
    "irr_per_plant"
   ]
  },
  {
   "cell_type": "code",
   "execution_count": null,
   "id": "e042b76c-e138-4fb2-a894-e25158f06a58",
   "metadata": {},
   "outputs": [],
   "source": [
    "curves = nrj_per_plant\n",
    "# curves_array = np.array(curves)\n",
    "\n",
    "# # Calculate the envelope: min and max values for each time point\n",
    "# min_values = curves_array.min(axis=0)\n",
    "# max_values = curves_array.max(axis=0)\n",
    "\n",
    "# Plotting the envelope along with individual curves for context\n",
    "time_points = thermal_time\n",
    "for curve in curves:\n",
    "    # plt.plot(time_points, [i/par for i,par in zip(curve, par_inc)], alpha=0.5, linestyle='--')  # Plot each curve (optional for visualization)\n",
    "    plt.plot([t for c,t in enumerate(time_points) if c%5==0 and c!=0], [i/par for i,par in zip(curve, [r for c,r in enumerate(par_inc) if c%5==0 and c!=0])], color='orange', label=\"ArchiCrop x Caribu\")\n",
    "\n",
    "# plt.fill_between(time_points, min_values, max_values, color=\"skyblue\", alpha=0.4)\n",
    "# plt.plot(time_points, min_values, color=\"blue\", linestyle=\"--\", label=\"Min 3D\")\n",
    "# plt.plot(time_points, max_values, color=\"red\", linestyle=\"--\", label=\"Max 3D\")\n",
    "plt.plot(time_points, par_stics, color=\"black\", label=\"STICS\")\n",
    "# plt.scatter(time_points, LA_stics)\n",
    "\n",
    "# Labels and legend\n",
    "plt.xlabel(\"Thermal time\")\n",
    "plt.ylabel(\"Fraction of absorbed PAR\")\n",
    "plt.title(\"Absorbed PAR: 3D canopy vs. STICS\")\n",
    "plt.legend()\n",
    "plt.show()"
   ]
  },
  {
   "cell_type": "code",
   "execution_count": null,
   "id": "8d2f85c9-b34f-487d-b248-69ae35be0507",
   "metadata": {},
   "outputs": [],
   "source": [
    "# what about senescent parts ? they intercept light but do not absorb it"
   ]
  },
  {
   "cell_type": "code",
   "execution_count": null,
   "id": "6b4d9605-fe1e-4914-ad71-a2737358d057",
   "metadata": {},
   "outputs": [],
   "source": []
  },
  {
   "cell_type": "code",
   "execution_count": null,
   "id": "2d0340c8-66f2-4b83-8571-35d49228080d",
   "metadata": {},
   "outputs": [],
   "source": [
    "PlantGL(scenes[0][-10])"
   ]
  },
  {
   "cell_type": "code",
   "execution_count": null,
   "id": "5e45a8c6-b465-4a57-b751-918903fc66be",
   "metadata": {},
   "outputs": [],
   "source": [
    "inter_row = 70\n",
    "inter_plant = (100 / inter_row / sowing_density)*100 \n",
    "print(inter_plant)\n",
    "domain = ((-0.5*inter_row, -0.5*inter_plant), (0.5*inter_row, 0.5*inter_plant))\n",
    "print(domain)"
   ]
  },
  {
   "cell_type": "code",
   "execution_count": null,
   "id": "c7a09135-64b1-49a9-96e3-5ff7bd11f677",
   "metadata": {},
   "outputs": [],
   "source": [
    "sowing_density"
   ]
  },
  {
   "cell_type": "code",
   "execution_count": null,
   "id": "7c51443a-537c-46d7-b2bd-a3eebcef4496",
   "metadata": {},
   "outputs": [],
   "source": []
  }
 ],
 "metadata": {
  "kernelspec": {
   "display_name": "Python 3 (ipykernel)",
   "language": "python",
   "name": "python3"
  },
  "language_info": {
   "codemirror_mode": {
    "name": "ipython",
    "version": 3
   },
   "file_extension": ".py",
   "mimetype": "text/x-python",
   "name": "python",
   "nbconvert_exporter": "python",
   "pygments_lexer": "ipython3",
   "version": "3.12.3"
  },
  "widgets": {
   "application/vnd.jupyter.widget-state+json": {
    "state": {},
    "version_major": 2,
    "version_minor": 0
   }
  }
 },
 "nbformat": 4,
 "nbformat_minor": 5
}
