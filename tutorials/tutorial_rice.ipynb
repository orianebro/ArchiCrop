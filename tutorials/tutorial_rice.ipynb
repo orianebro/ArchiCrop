{
 "cells": [
  {
   "cell_type": "markdown",
   "id": "31e7c70c-f264-40d7-9287-4ae1f8b30979",
   "metadata": {},
   "source": [
    "# ArchiCrop tutorial - Rice"
   ]
  },
  {
   "cell_type": "markdown",
   "id": "bf0852fd-8b75-4db8-b1b2-396dd7d93c1e",
   "metadata": {},
   "source": [
    "This notebook is a tutorial for executing ArchiCrop model for rice."
   ]
  },
  {
   "cell_type": "markdown",
   "id": "fe31c5a6-c8c0-43c9-b623-bbc7e4573b11",
   "metadata": {},
   "source": [
    "## 0. Imports"
   ]
  },
  {
   "cell_type": "code",
   "execution_count": 1,
   "id": "7ba99dee-5c5b-41f6-b32a-85bc95be9544",
   "metadata": {},
   "outputs": [],
   "source": [
    "import numpy as np\n",
    "from oawidgets.plantgl import *\n",
    "from openalea.plantgl.all import Material, Color3, Scene\n",
    "\n",
    "from openalea.archicrop.simulation import read_sti_file, read_xml_file\n",
    "from openalea.archicrop.archicrop import ArchiCrop\n",
    "from openalea.archicrop.display import build_scene, display_scene\n",
    "%gui qt"
   ]
  },
  {
   "cell_type": "markdown",
   "id": "13b7984c-51e7-4077-96ec-9bcc73150520",
   "metadata": {},
   "source": [
    "## 1. Retrieve crop model parameters about management\n",
    "\n",
    "Retrieve crop model parameters regarding the spatial (and temporal) configuration of the crop."
   ]
  },
  {
   "cell_type": "code",
   "execution_count": 2,
   "id": "c690784e-63d3-458f-b901-2f96505f1fac",
   "metadata": {},
   "outputs": [],
   "source": [
    "# file_tec_xml = 'sorgho_tec.xml'\n",
    "# params_tec = ['densitesem', 'interrang']\n",
    "# tec_stics = read_xml_file(file_tec_xml, params_tec)\n",
    "# sowing_density = tec_stics['densitesem']\n",
    "# inter_row = 0.4"
   ]
  },
  {
   "cell_type": "markdown",
   "id": "d282da23-eaa6-402c-8e54-df79bef01aad",
   "metadata": {},
   "source": [
    "## 2. Retrieve crop model growth and senescence dynamics\n",
    "\n",
    "From crop-scale data either measured or simulated with a crop model, generate a dictionnary of dictionnaries for each day with the following values :\n",
    " - \"Thermal time\" (float): cumulated thermal time from beginning of simulation to current day (in °C.day)\n",
    " - \"Phenology\" (str): current phenological stage (germination, juvenile, exponential or repro)\n",
    " - \"Plant leaf area\" (float): plant leaf area (in cm²) \n",
    " - \"Leaf area increment\" (float): leaf area increment compared to previous day (in cm²) \n",
    " - \"Plant senescent leaf area\" (float): senescent plant leaf area (in cm²) \n",
    " - \"Senescent leaf area increment\" (float): senescent leaf area increment compared to previous day (in cm²) \n",
    " - \"Plant height\" (float): plant height (in cm) \n",
    " - \"Height increment\" (float): height increment compared to previous day (in cm)."
   ]
  },
  {
   "cell_type": "code",
   "execution_count": 3,
   "id": "2a32cfb4-aa04-49c0-87c1-dd41afcfb22a",
   "metadata": {},
   "outputs": [],
   "source": [
    "# stics_output_file = 'mod_ssorghum.sti'\n",
    "# daily_dynamics = read_sti_file(stics_output_file, sowing_density)\n",
    "\n",
    "# # Time series \n",
    "# # for thermal time, plant leaf area, plant senescent leaf area and plant height\n",
    "# thermal_time = [value[\"Thermal time\"] for value in daily_dynamics.values()]\n",
    "# leaf_area_plant = [value[\"Plant leaf area\"] for value in daily_dynamics.values()]\n",
    "# sen_leaf_area_plant = [value[\"Plant senescent leaf area\"] for value in daily_dynamics.values()]\n",
    "# height_canopy = [value[\"Plant height\"] for value in daily_dynamics.values()]"
   ]
  },
  {
   "cell_type": "code",
   "execution_count": 4,
   "id": "fdcd88ab-e874-43b6-a737-45dc47019279",
   "metadata": {},
   "outputs": [],
   "source": [
    "daily_dynamics = None"
   ]
  },
  {
   "cell_type": "markdown",
   "id": "c8cad4ae-0e0a-4693-a4ed-4494e9a3dbf3",
   "metadata": {},
   "source": [
    "## 3. Set plant architectural parameters\n",
    "\n",
    "Set topological, geometrical and developmental parameters, in a range corresponding a given species, found in literature."
   ]
  },
  {
   "cell_type": "code",
   "execution_count": 7,
   "id": "fc27b380-3989-4cec-842c-ef92d36a4490",
   "metadata": {},
   "outputs": [],
   "source": [
    "# TODO : verify the values in literature\n",
    "archi = dict(\n",
    "    nb_phy=10, # number of phytomers on the main stem : \n",
    "    \n",
    "    # Stem\n",
    "    height=70, # potential plant height : [50,400] (Ganeme et al., 2022; Nebie et al., 2013)\n",
    "    stem_q=1.1, # parameter for ligule height distribution along axis : [1.1] (Kaitaniemi et al., 1999) \n",
    "    diam_base=2.5, # stem base diameter : [2.2] (Ndiaye et al., 2021)\n",
    "    diam_top=1.5, # stem top diameter: [1.2] (Ndiaye et al., 2021)\n",
    "    \n",
    "    # Leaf blade area \n",
    "    leaf_area=600, # potential plant leaf area : [] (Clerget, 2008)\n",
    "    rmax=0.9, # parameter for leaf area distribution along axis : [0.6,0.8] (Kaitaniemi et al., 1999; Welcker et al., )\n",
    "    skew=0.0005, # parameter for leaf area distribution along axis : [] (Kaitaniemi et al., 1999; Welcker et al., )\n",
    "    wl=0.04, # leaf blade width-to-length ratio : [0.1, 0.12] ()\n",
    "    klig=0.6, # parameter for leaf blade shape\n",
    "    swmax=0.55, # parameter for leaf blade shape\n",
    "    f1=0.64, # parameter for leaf blade shape\n",
    "    f2=0.92, # parameter for leaf blade shape\n",
    "    \n",
    "    # Leaf blade position in space\n",
    "    insertion_angle=30, # leaf blade insertion angle : [10,50] (Truong et al., 2015; Kaitaniemi et al., 1999)\n",
    "    scurv=0.3, # leaf blade relative inflexion point : [0.6, 0.8] ()\n",
    "    curvature=10, # leaf blade insertion-to-tip angle : [45, 135] (Kaitaniemi et al., 1999)\n",
    "    phyllotactic_angle=137.5, # phyllotactic angle : [180] (Davis et al., 2024)\n",
    "    phyllotactic_deviation=10, # half-deviation to phyllotactic angle : [0,90] (Davis et al., 2024)\n",
    "    \n",
    "    # Development\n",
    "    phyllochron=30, # phyllochron, i.e. stem element appearance rate : [40,65 then x1.6-2.5] (Clerget, 2008)\n",
    "    plastochron=40, # plastochron, i.e. leaf blade appearance rate : [34,46 then 80-93] (Rami Kumar et al., 2009)\n",
    "    \n",
    "    # Senescence (from crop model parameters)\n",
    "    leaf_lifespan=100,\n",
    "    \n",
    "    # Tillering\n",
    "    nb_tillers=10, # number of tillers : [0,6] (Lafarge et al., 2002)\n",
    "    tiller_delay=1, # delay, as factor of phyllochron, between the appearance of a phytomer and the appearance of its tiller : [] ()\n",
    "    reduction_factor=1, # reduction factor between tillers of consecutive order : [] ()\n",
    ")"
   ]
  },
  {
   "cell_type": "markdown",
   "id": "340079dc-3693-4cb7-8fc4-bb8acfd26a97",
   "metadata": {},
   "source": [
    "## 4. Instantiate ArchiCrop object"
   ]
  },
  {
   "cell_type": "code",
   "execution_count": 8,
   "id": "d92459b4-a91f-4c83-b597-f4df5d669552",
   "metadata": {},
   "outputs": [],
   "source": [
    "plant = ArchiCrop(daily_dynamics=daily_dynamics, **archi)"
   ]
  },
  {
   "cell_type": "markdown",
   "id": "ac1d95d9-d0f2-423c-a313-e44bc2a2f11f",
   "metadata": {},
   "source": [
    "## 5. Generate a potential plant \n",
    "\n",
    "Generate a potential plant from architectural parameters. \n",
    "\n",
    "This creates an MTG (Multi-scale Tree Graph, cf [doc](https://mtg.readthedocs.io/en/latest/user/tutorial.html)) as a property of the object plant."
   ]
  },
  {
   "cell_type": "code",
   "execution_count": 12,
   "id": "b59ea54e-5783-46a4-88e4-bec0b77e9723",
   "metadata": {},
   "outputs": [],
   "source": [
    "plant.generate_potential_plant()\n",
    "g = plant.g"
   ]
  },
  {
   "cell_type": "markdown",
   "id": "e323e26a-031e-4fae-a63a-0141b7a161e9",
   "metadata": {},
   "source": [
    "## 6. Simulate growth and senescence of the plant\n",
    "\n",
    "Simulate growth and senescence of this plant following the daily dynamics."
   ]
  },
  {
   "cell_type": "code",
   "execution_count": 10,
   "id": "ec6ea424-5954-468d-93aa-688143b974bd",
   "metadata": {},
   "outputs": [
    {
     "ename": "AttributeError",
     "evalue": "'NoneType' object has no attribute 'values'",
     "output_type": "error",
     "traceback": [
      "\u001b[1;31m---------------------------------------------------------------------------\u001b[0m",
      "\u001b[1;31mAttributeError\u001b[0m                            Traceback (most recent call last)",
      "Cell \u001b[1;32mIn[10], line 1\u001b[0m\n\u001b[1;32m----> 1\u001b[0m growing_plant \u001b[38;5;241m=\u001b[39m \u001b[43mplant\u001b[49m\u001b[38;5;241;43m.\u001b[39;49m\u001b[43mgrow_plant\u001b[49m\u001b[43m(\u001b[49m\u001b[43m)\u001b[49m\n",
      "File \u001b[1;32mD:\\ArchiCrop\\src\\openalea\\archicrop\\archicrop.py:212\u001b[0m, in \u001b[0;36mArchiCrop.grow_plant\u001b[1;34m(self)\u001b[0m\n\u001b[0;32m    210\u001b[0m \u001b[38;5;28mself\u001b[39m\u001b[38;5;241m.\u001b[39mg \u001b[38;5;241m=\u001b[39m init_visible_variables(\u001b[38;5;28mself\u001b[39m\u001b[38;5;241m.\u001b[39mg)\n\u001b[0;32m    211\u001b[0m prev_time \u001b[38;5;241m=\u001b[39m \u001b[38;5;241m0.0\u001b[39m\n\u001b[1;32m--> 212\u001b[0m \u001b[38;5;28;01mfor\u001b[39;00m v \u001b[38;5;129;01min\u001b[39;00m \u001b[38;5;28;43mself\u001b[39;49m\u001b[38;5;241;43m.\u001b[39;49m\u001b[43mdaily_dynamics\u001b[49m\u001b[38;5;241;43m.\u001b[39;49m\u001b[43mvalues\u001b[49m():\n\u001b[0;32m    213\u001b[0m     gtemp \u001b[38;5;241m=\u001b[39m mtg_turtle_time_with_constraint(\u001b[38;5;28mself\u001b[39m\u001b[38;5;241m.\u001b[39mg, v[\u001b[38;5;124m\"\u001b[39m\u001b[38;5;124mThermal time\u001b[39m\u001b[38;5;124m\"\u001b[39m], prev_time, v)\n\u001b[0;32m    214\u001b[0m     growing_plant[v[\u001b[38;5;124m\"\u001b[39m\u001b[38;5;124mThermal time\u001b[39m\u001b[38;5;124m\"\u001b[39m]] \u001b[38;5;241m=\u001b[39m gtemp\n",
      "\u001b[1;31mAttributeError\u001b[0m: 'NoneType' object has no attribute 'values'"
     ]
    }
   ],
   "source": [
    "# growing_plant = plant.grow_plant()"
   ]
  },
  {
   "cell_type": "markdown",
   "id": "e376ffe8-ab2f-4322-a443-57bf69e399d4",
   "metadata": {},
   "source": [
    "## 7. Plot 3D scene"
   ]
  },
  {
   "cell_type": "code",
   "execution_count": 11,
   "id": "09ca7584-8085-4e17-b494-674736b4f7a5",
   "metadata": {},
   "outputs": [
    {
     "ename": "NameError",
     "evalue": "name 'thermal_time' is not defined",
     "output_type": "error",
     "traceback": [
      "\u001b[1;31m---------------------------------------------------------------------------\u001b[0m",
      "\u001b[1;31mNameError\u001b[0m                                 Traceback (most recent call last)",
      "Cell \u001b[1;32mIn[11], line 1\u001b[0m\n\u001b[1;32m----> 1\u001b[0m times \u001b[38;5;241m=\u001b[39m [t \u001b[38;5;28;01mfor\u001b[39;00m i,t \u001b[38;5;129;01min\u001b[39;00m \u001b[38;5;28menumerate\u001b[39m(\u001b[43mthermal_time\u001b[49m) \u001b[38;5;28;01mif\u001b[39;00m i\u001b[38;5;241m%\u001b[39m\u001b[38;5;241m5\u001b[39m \u001b[38;5;241m==\u001b[39m \u001b[38;5;241m0\u001b[39m]\n\u001b[0;32m      2\u001b[0m mean_time \u001b[38;5;241m=\u001b[39m \u001b[38;5;28msum\u001b[39m(times) \u001b[38;5;241m/\u001b[39m \u001b[38;5;28mlen\u001b[39m(times)\n\u001b[0;32m      3\u001b[0m positions \u001b[38;5;241m=\u001b[39m [ (\u001b[38;5;241m0\u001b[39m, \u001b[38;5;241m1\u001b[39m\u001b[38;5;241m*\u001b[39m(t\u001b[38;5;241m-\u001b[39mmean_time), \u001b[38;5;241m0\u001b[39m) \u001b[38;5;28;01mfor\u001b[39;00m t \u001b[38;5;129;01min\u001b[39;00m times]\n",
      "\u001b[1;31mNameError\u001b[0m: name 'thermal_time' is not defined"
     ]
    }
   ],
   "source": [
    "# times = [t for i,t in enumerate(thermal_time) if i%5 == 0]\n",
    "# mean_time = sum(times) / len(times)\n",
    "# positions = [ (0, 1*(t-mean_time), 0) for t in times]\n",
    "# nice_green = Color3((50, 100, 0))\n",
    "# scene, _ = build_scene([g for i,g in enumerate(list(growing_plant.values())) if i%5 == 0], position=positions, senescence=True, leaf_material = Material(nice_green), stem_material=Material(nice_green))\n",
    "# PlantGL(scene)"
   ]
  },
  {
   "cell_type": "code",
   "execution_count": 13,
   "id": "60bdae86-7d1f-451a-8421-2d6b1cd88068",
   "metadata": {},
   "outputs": [
    {
     "data": {
      "application/vnd.jupyter.widget-view+json": {
       "model_id": "afc3ac7b96be4618837f5ed795528431",
       "version_major": 2,
       "version_minor": 0
      },
      "text/plain": [
       "Plot(antialias=3, axes=['x', 'y', 'z'], axes_helper=1.0, axes_helper_colors=[16711680, 65280, 255], background…"
      ]
     },
     "execution_count": 13,
     "metadata": {},
     "output_type": "execute_result"
    }
   ],
   "source": [
    "nice_green = Color3((50, 100, 0))\n",
    "scene, _ = build_scene([g], position=(0,0,0), senescence=True, leaf_material = Material(nice_green), stem_material=Material(nice_green))\n",
    "PlantGL(scene)"
   ]
  },
  {
   "cell_type": "code",
   "execution_count": 31,
   "id": "7d19c804-6b54-440c-abd7-a8f18161413f",
   "metadata": {},
   "outputs": [],
   "source": [
    "from openalea.archicrop.cereals_leaf import (\n",
    "    leaf_mesh,\n",
    "    parametric_leaf,\n",
    ")\n",
    "from openalea.archicrop.geometry import stem_mesh\n",
    "\n",
    "def leaf_shape_2d(archi):\n",
    "    \"\"\"return s, r values.\"\"\"\n",
    "    return parametric_leaf(nb_segment=100,\n",
    "                           insertion_angle=90, \n",
    "                           scurv=archi['scurv'], \n",
    "                           curvature=0, \n",
    "                           klig=archi['klig'], \n",
    "                           swmax=archi['swmax'], \n",
    "                           f1=archi['f1'], \n",
    "                           f2=archi['f2'])\n",
    "    \n",
    "\n",
    "def leaf_shape_3d(archi):\n",
    "    \"\"\"return x, y, s, r values.\"\"\"\n",
    "    return parametric_leaf(nb_segment=100,\n",
    "                           insertion_angle=archi['insertion_angle'], \n",
    "                           scurv=archi['scurv'], \n",
    "                           curvature=archi['curvature'], \n",
    "                           klig=archi['klig'], \n",
    "                           swmax=archi['swmax'], \n",
    "                           f1=archi['f1'], \n",
    "                           f2=archi['f2'])\n",
    "\n",
    "def scaled_leaf(leaf_fn, archi, total_length=1, grown=1):\n",
    "    leaf = leaf_fn(archi)\n",
    "    wl_ratio = archi['wl']\n",
    "\n",
    "    L_shape = total_length\n",
    "    Lw_shape = total_length * wl_ratio\n",
    "    length = total_length * grown\n",
    "    s_base = 0\n",
    "    s_top = 1.0\n",
    "\n",
    "    return leaf_mesh(leaf, L_shape, Lw_shape, length, s_base, s_top)\n"
   ]
  },
  {
   "cell_type": "code",
   "execution_count": 48,
   "id": "4435f6d7-f8f3-4ca1-8f39-c85c0bc244b2",
   "metadata": {},
   "outputs": [
    {
     "data": {
      "application/vnd.jupyter.widget-view+json": {
       "model_id": "7c70b1684c1447bbaa893842d04a85e7",
       "version_major": 2,
       "version_minor": 0
      },
      "text/plain": [
       "Plot(antialias=3, axes=['x', 'y', 'z'], axes_helper=1.0, axes_helper_colors=[16711680, 65280, 255], background…"
      ]
     },
     "execution_count": 48,
     "metadata": {},
     "output_type": "execute_result"
    }
   ],
   "source": [
    "leaf_2d = scaled_leaf(leaf_shape_2d, archi)\n",
    "scene = Scene()\n",
    "scene.add(Shape(Translated((0,0,0), Oriented(Vector3((1,0,0)), Vector3((0,0,-1)), leaf_2d)), Material(Color3(nice_green))))\n",
    "PlantGL(scene)\n",
    "# Viewer.display(scene)"
   ]
  },
  {
   "cell_type": "code",
   "execution_count": 49,
   "id": "e80e486d-0718-40b1-beb0-4985093e08b9",
   "metadata": {},
   "outputs": [],
   "source": [
    "def stem_shape_3d(total_length=1, diameter=1, grown=1):\n",
    "    return stem_mesh(length=total_length, visible_length=total_length*grown, stem_diameter=diameter, classic=True, slices=24) "
   ]
  },
  {
   "cell_type": "code",
   "execution_count": 50,
   "id": "9fe69243-eb8e-4326-9f23-827ab3393a65",
   "metadata": {},
   "outputs": [
    {
     "data": {
      "application/vnd.jupyter.widget-view+json": {
       "model_id": "8d8094c9955b4897897f7aa1808af8a2",
       "version_major": 2,
       "version_minor": 0
      },
      "text/plain": [
       "Plot(antialias=3, axes=['x', 'y', 'z'], axes_helper=1.0, axes_helper_colors=[16711680, 65280, 255], background…"
      ]
     },
     "execution_count": 50,
     "metadata": {},
     "output_type": "execute_result"
    }
   ],
   "source": [
    "scene = Scene()\n",
    "scene.add(Shape(Translated((0,0,0), AxisRotated((0, 0, 1), 0, stem_shape_3d(total_length=5))), Material(Color3(nice_green))))\n",
    "scene.add(Shape(Translated((0.5,0,5), AxisRotated((0, 0, 1), 0, scaled_leaf(leaf_fn=leaf_shape_3d, archi=archi, total_length=10))), Material(Color3(nice_green))))\n",
    "PlantGL(scene)"
   ]
  },
  {
   "cell_type": "code",
   "execution_count": null,
   "id": "778eb586-9a06-4847-b73e-8c71472f4ee7",
   "metadata": {},
   "outputs": [],
   "source": []
  }
 ],
 "metadata": {
  "kernelspec": {
   "display_name": "Python 3 (ipykernel)",
   "language": "python",
   "name": "python3"
  },
  "language_info": {
   "codemirror_mode": {
    "name": "ipython",
    "version": 3
   },
   "file_extension": ".py",
   "mimetype": "text/x-python",
   "name": "python",
   "nbconvert_exporter": "python",
   "pygments_lexer": "ipython3",
   "version": "3.12.3"
  },
  "widgets": {
   "application/vnd.jupyter.widget-state+json": {
    "state": {
     "044d0a09287041b680977cb3f00b85ca": {
      "buffers": [
       {
        "data": "",
        "encoding": "base64",
        "path": [
         "attribute",
         "data"
        ]
       },
       {
        "data": "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",
        "encoding": "base64",
        "path": [
         "color_map",
         "data"
        ]
       },
       {
        "data": "",
        "encoding": "base64",
        "path": [
         "colors",
         "data"
        ]
       },
       {
        "data": "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",
        "encoding": "base64",
        "path": [
         "indices",
         "data"
        ]
       },
       {
        "data": "AACAPwAAAAAAAAAAAAAAAAAAAAAAAIA/AAAAAAAAAAAAAAAAAAAAAAAAgD8AAAAAAAAAAAAAAAAAAAAAAACAPw==",
        "encoding": "base64",
        "path": [
         "model_matrix",
         "data"
        ]
       },
       {
        "data": "",
        "encoding": "base64",
        "path": [
         "normals",
         "data"
        ]
       },
       {
        "data": "",
        "encoding": "base64",
        "path": [
         "opacity_function",
         "data"
        ]
       },
       {
        "data": "",
        "encoding": "base64",
        "path": [
         "triangles_attribute",
         "data"
        ]
       },
       {
        "data": "AADAfw==",
        "encoding": "base64",
        "path": [
         "uvs",
         "data"
        ]
       },
       {
        "data": "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",
        "encoding": "base64",
        "path": [
         "vertices",
         "data"
        ]
       },
       {
        "data": "",
        "encoding": "base64",
        "path": [
         "volume",
         "data"
        ]
       },
       {
        "data": "",
        "encoding": "base64",
        "path": [
         "volume_bounds",
         "data"
        ]
       }
      ],
      "model_module": "k3d",
      "model_module_version": "2.16.1",
      "model_name": "ObjectModel",
      "state": {
       "_view_module": null,
       "_view_module_version": "",
       "_view_name": null,
       "attribute": {
        "dtype": "float32",
        "shape": [
         0
        ]
       },
       "click_callback": false,
       "color": 3302400,
       "colorLegend": false,
       "color_map": {
        "dtype": "float32",
        "shape": [
         1024
        ]
       },
       "color_range": [],
       "colors": {
        "dtype": "uint32",
        "shape": [
         0
        ]
       },
       "compression_level": 0,
       "custom_data": null,
       "flat_shading": true,
       "group": null,
       "hover_callback": false,
       "id": 2020595871248,
       "indices": {
        "dtype": "uint32",
        "shape": [
         193,
         3
        ]
       },
       "model_matrix": {
        "dtype": "float32",
        "shape": [
         4,
         4
        ]
       },
       "name": "Mesh #1",
       "normals": {
        "dtype": "float32",
        "shape": [
         0
        ]
       },
       "opacity": 1,
       "opacity_function": {
        "dtype": "float32",
        "shape": [
         0
        ]
       },
       "side": "front",
       "texture": null,
       "texture_file_format": null,
       "triangles_attribute": {
        "dtype": "float32",
        "shape": [
         0
        ]
       },
       "type": "Mesh",
       "uvs": {
        "dtype": "float32",
        "shape": []
       },
       "vertices": {
        "dtype": "float32",
        "shape": [
         196,
         3
        ]
       },
       "visible": true,
       "volume": {
        "dtype": "float32",
        "shape": [
         0
        ]
       },
       "volume_bounds": {
        "dtype": "float32",
        "shape": [
         0
        ]
       },
       "wireframe": false
      }
     },
     "07e8022672da4bd2af3f1c72651cb624": {
      "buffers": [
       {
        "data": "",
        "encoding": "base64",
        "path": [
         "attribute",
         "data"
        ]
       },
       {
        "data": "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",
        "encoding": "base64",
        "path": [
         "color_map",
         "data"
        ]
       },
       {
        "data": "",
        "encoding": "base64",
        "path": [
         "colors",
         "data"
        ]
       },
       {
        "data": "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",
        "encoding": "base64",
        "path": [
         "indices",
         "data"
        ]
       },
       {
        "data": "AACAPwAAAAAAAAAAAAAAAAAAAAAAAIA/AAAAAAAAAAAAAAAAAAAAAAAAgD8AAAAAAAAAAAAAAAAAAAAAAACAPw==",
        "encoding": "base64",
        "path": [
         "model_matrix",
         "data"
        ]
       },
       {
        "data": "",
        "encoding": "base64",
        "path": [
         "normals",
         "data"
        ]
       },
       {
        "data": "",
        "encoding": "base64",
        "path": [
         "opacity_function",
         "data"
        ]
       },
       {
        "data": "",
        "encoding": "base64",
        "path": [
         "triangles_attribute",
         "data"
        ]
       },
       {
        "data": "AADAfw==",
        "encoding": "base64",
        "path": [
         "uvs",
         "data"
        ]
       },
       {
        "data": "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",
        "encoding": "base64",
        "path": [
         "vertices",
         "data"
        ]
       },
       {
        "data": "",
        "encoding": "base64",
        "path": [
         "volume",
         "data"
        ]
       },
       {
        "data": "",
        "encoding": "base64",
        "path": [
         "volume_bounds",
         "data"
        ]
       }
      ],
      "model_module": "k3d",
      "model_module_version": "2.16.1",
      "model_name": "ObjectModel",
      "state": {
       "_view_module": null,
       "_view_module_version": "",
       "_view_name": null,
       "attribute": {
        "dtype": "float32",
        "shape": [
         0
        ]
       },
       "click_callback": false,
       "color": 3302400,
       "colorLegend": false,
       "color_map": {
        "dtype": "float32",
        "shape": [
         1024
        ]
       },
       "color_range": [],
       "colors": {
        "dtype": "uint32",
        "shape": [
         0
        ]
       },
       "compression_level": 0,
       "custom_data": null,
       "flat_shading": true,
       "group": null,
       "hover_callback": false,
       "id": 2020595871200,
       "indices": {
        "dtype": "uint32",
        "shape": [
         193,
         3
        ]
       },
       "model_matrix": {
        "dtype": "float32",
        "shape": [
         4,
         4
        ]
       },
       "name": "Mesh #1",
       "normals": {
        "dtype": "float32",
        "shape": [
         0
        ]
       },
       "opacity": 1,
       "opacity_function": {
        "dtype": "float32",
        "shape": [
         0
        ]
       },
       "side": "front",
       "texture": null,
       "texture_file_format": null,
       "triangles_attribute": {
        "dtype": "float32",
        "shape": [
         0
        ]
       },
       "type": "Mesh",
       "uvs": {
        "dtype": "float32",
        "shape": []
       },
       "vertices": {
        "dtype": "float32",
        "shape": [
         196,
         3
        ]
       },
       "visible": true,
       "volume": {
        "dtype": "float32",
        "shape": [
         0
        ]
       },
       "volume_bounds": {
        "dtype": "float32",
        "shape": [
         0
        ]
       },
       "wireframe": false
      }
     },
     "080f04f30b4a45d3959980fbb5f149ba": {
      "buffers": [
       {
        "data": "",
        "encoding": "base64",
        "path": [
         "attribute",
         "data"
        ]
       },
       {
        "data": "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",
        "encoding": "base64",
        "path": [
         "color_map",
         "data"
        ]
       },
       {
        "data": "",
        "encoding": "base64",
        "path": [
         "colors",
         "data"
        ]
       },
       {
        "data": "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",
        "encoding": "base64",
        "path": [
         "indices",
         "data"
        ]
       },
       {
        "data": "AACAPwAAAAAAAAAAAAAAAAAAAAAAAIA/AAAAAAAAAAAAAAAAAAAAAAAAgD8AAAAAAAAAAAAAAAAAAAAAAACAPw==",
        "encoding": "base64",
        "path": [
         "model_matrix",
         "data"
        ]
       },
       {
        "data": "",
        "encoding": "base64",
        "path": [
         "normals",
         "data"
        ]
       },
       {
        "data": "",
        "encoding": "base64",
        "path": [
         "opacity_function",
         "data"
        ]
       },
       {
        "data": "",
        "encoding": "base64",
        "path": [
         "triangles_attribute",
         "data"
        ]
       },
       {
        "data": "AADAfw==",
        "encoding": "base64",
        "path": [
         "uvs",
         "data"
        ]
       },
       {
        "data": "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",
        "encoding": "base64",
        "path": [
         "vertices",
         "data"
        ]
       },
       {
        "data": "",
        "encoding": "base64",
        "path": [
         "volume",
         "data"
        ]
       },
       {
        "data": "",
        "encoding": "base64",
        "path": [
         "volume_bounds",
         "data"
        ]
       }
      ],
      "model_module": "k3d",
      "model_module_version": "2.16.1",
      "model_name": "ObjectModel",
      "state": {
       "_view_module": null,
       "_view_module_version": "",
       "_view_name": null,
       "attribute": {
        "dtype": "float32",
        "shape": [
         0
        ]
       },
       "click_callback": false,
       "color": 255,
       "colorLegend": false,
       "color_map": {
        "dtype": "float32",
        "shape": [
         1024
        ]
       },
       "color_range": [],
       "colors": {
        "dtype": "uint32",
        "shape": [
         0
        ]
       },
       "compression_level": 0,
       "custom_data": null,
       "flat_shading": true,
       "group": null,
       "hover_callback": false,
       "id": 2020595845744,
       "indices": {
        "dtype": "uint32",
        "shape": [
         193,
         3
        ]
       },
       "model_matrix": {
        "dtype": "float32",
        "shape": [
         4,
         4
        ]
       },
       "name": "Mesh #1",
       "normals": {
        "dtype": "float32",
        "shape": [
         0
        ]
       },
       "opacity": 1,
       "opacity_function": {
        "dtype": "float32",
        "shape": [
         0
        ]
       },
       "side": "front",
       "texture": null,
       "texture_file_format": null,
       "triangles_attribute": {
        "dtype": "float32",
        "shape": [
         0
        ]
       },
       "type": "Mesh",
       "uvs": {
        "dtype": "float32",
        "shape": []
       },
       "vertices": {
        "dtype": "float32",
        "shape": [
         196,
         3
        ]
       },
       "visible": true,
       "volume": {
        "dtype": "float32",
        "shape": [
         0
        ]
       },
       "volume_bounds": {
        "dtype": "float32",
        "shape": [
         0
        ]
       },
       "wireframe": false
      }
     },
     "094c01b7c0c64200b92f4bf5c051171a": {
      "model_module": "@jupyter-widgets/base",
      "model_module_version": "2.0.0",
      "model_name": "LayoutModel",
      "state": {}
     },
     "0a8c61ade88f410e8d78e1a23e5a5045": {
      "buffers": [
       {
        "data": "",
        "encoding": "base64",
        "path": [
         "attribute",
         "data"
        ]
       },
       {
        "data": "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",
        "encoding": "base64",
        "path": [
         "color_map",
         "data"
        ]
       },
       {
        "data": "",
        "encoding": "base64",
        "path": [
         "colors",
         "data"
        ]
       },
       {
        "data": "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",
        "encoding": "base64",
        "path": [
         "indices",
         "data"
        ]
       },
       {
        "data": "AACAPwAAAAAAAAAAAAAAAAAAAAAAAIA/AAAAAAAAAAAAAAAAAAAAAAAAgD8AAAAAAAAAAAAAAAAAAAAAAACAPw==",
        "encoding": "base64",
        "path": [
         "model_matrix",
         "data"
        ]
       },
       {
        "data": "",
        "encoding": "base64",
        "path": [
         "normals",
         "data"
        ]
       },
       {
        "data": "",
        "encoding": "base64",
        "path": [
         "opacity_function",
         "data"
        ]
       },
       {
        "data": "",
        "encoding": "base64",
        "path": [
         "triangles_attribute",
         "data"
        ]
       },
       {
        "data": "AADAfw==",
        "encoding": "base64",
        "path": [
         "uvs",
         "data"
        ]
       },
       {
        "data": "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",
        "encoding": "base64",
        "path": [
         "vertices",
         "data"
        ]
       },
       {
        "data": "",
        "encoding": "base64",
        "path": [
         "volume",
         "data"
        ]
       },
       {
        "data": "",
        "encoding": "base64",
        "path": [
         "volume_bounds",
         "data"
        ]
       }
      ],
      "model_module": "k3d",
      "model_module_version": "2.16.1",
      "model_name": "ObjectModel",
      "state": {
       "_view_module": null,
       "_view_module_version": "",
       "_view_name": null,
       "attribute": {
        "dtype": "float32",
        "shape": [
         0
        ]
       },
       "click_callback": false,
       "color": 5263440,
       "colorLegend": false,
       "color_map": {
        "dtype": "float32",
        "shape": [
         1024
        ]
       },
       "color_range": [],
       "colors": {
        "dtype": "uint32",
        "shape": [
         0
        ]
       },
       "compression_level": 0,
       "custom_data": null,
       "flat_shading": true,
       "group": null,
       "hover_callback": false,
       "id": 2020591968448,
       "indices": {
        "dtype": "uint32",
        "shape": [
         201,
         3
        ]
       },
       "model_matrix": {
        "dtype": "float32",
        "shape": [
         4,
         4
        ]
       },
       "name": "Mesh #1",
       "normals": {
        "dtype": "float32",
        "shape": [
         0
        ]
       },
       "opacity": 1,
       "opacity_function": {
        "dtype": "float32",
        "shape": [
         0
        ]
       },
       "side": "front",
       "texture": null,
       "texture_file_format": null,
       "triangles_attribute": {
        "dtype": "float32",
        "shape": [
         0
        ]
       },
       "type": "Mesh",
       "uvs": {
        "dtype": "float32",
        "shape": []
       },
       "vertices": {
        "dtype": "float32",
        "shape": [
         202,
         3
        ]
       },
       "visible": true,
       "volume": {
        "dtype": "float32",
        "shape": [
         0
        ]
       },
       "volume_bounds": {
        "dtype": "float32",
        "shape": [
         0
        ]
       },
       "wireframe": false
      }
     },
     "0af43c997f804bd9aa74c6dc5fb1f269": {
      "model_module": "k3d",
      "model_module_version": "2.16.1",
      "model_name": "PlotModel",
      "state": {
       "_backend_version": "2.16.1",
       "antialias": 3,
       "auto_rendering": true,
       "axes": [
        "x",
        "y",
        "z"
       ],
       "axes_helper": 1,
       "axes_helper_colors": [
        16711680,
        65280,
        255
       ],
       "background_color": 16777215,
       "camera": [
        -13.259719352897376,
        -15.206732787144164,
        16.6045517456244,
        0.7946951389312744,
        0,
        7.425567150115967,
        0.1044840229020313,
        0.3765548938920232,
        0.9204832974281371
       ],
       "camera_animation": [],
       "camera_auto_fit": true,
       "camera_damping_factor": 0,
       "camera_fov": 60,
       "camera_mode": "trackball",
       "camera_no_pan": false,
       "camera_no_rotate": false,
       "camera_no_zoom": false,
       "camera_pan_speed": 0.3,
       "camera_rotate_speed": 1,
       "camera_zoom_speed": 1.2,
       "clipping_planes": [],
       "colorbar_object_id": -1,
       "colorbar_scientific": false,
       "custom_data": null,
       "fps": 25,
       "fps_meter": false,
       "grid": [
        -1,
        -1,
        -1,
        1,
        1,
        1
       ],
       "grid_auto_fit": true,
       "grid_color": 15132390,
       "grid_visible": true,
       "height": 512,
       "label_color": 4473924,
       "layout": "IPY_MODEL_673530e643334e5082c0493b2760f7d6",
       "lighting": 3,
       "logarithmic_depth_buffer": true,
       "manipulate_mode": "translate",
       "menu_visibility": true,
       "minimum_fps": -1,
       "mode": "view",
       "name": null,
       "object_ids": [
        2020591974304
       ],
       "rendering_steps": 1,
       "screenshot": "",
       "screenshot_scale": 2,
       "snapshot": "",
       "snapshot_type": "full",
       "time": 0,
       "voxel_paint_color": 0
      }
     },
     "0e4ffb3ae23b4ff0b69c316c41e14bbc": {
      "model_module": "k3d",
      "model_module_version": "2.16.1",
      "model_name": "PlotModel",
      "state": {
       "_backend_version": "2.16.1",
       "antialias": 3,
       "auto_rendering": true,
       "axes": [
        "x",
        "y",
        "z"
       ],
       "axes_helper": 1,
       "axes_helper_colors": [
        16711680,
        65280,
        255
       ],
       "background_color": 16777215,
       "camera": [
        0.8401610685018217,
        -1.247152298428493,
        0.5830673416281997,
        0.008726202882826321,
        0,
        0.49992385506629944,
        0,
        0,
        1
       ],
       "camera_animation": [],
       "camera_auto_fit": true,
       "camera_damping_factor": 0,
       "camera_fov": 60,
       "camera_mode": "trackball",
       "camera_no_pan": false,
       "camera_no_rotate": false,
       "camera_no_zoom": false,
       "camera_pan_speed": 0.3,
       "camera_rotate_speed": 1,
       "camera_zoom_speed": 1.2,
       "clipping_planes": [],
       "colorbar_object_id": -1,
       "colorbar_scientific": false,
       "custom_data": null,
       "fps": 25,
       "fps_meter": false,
       "grid": [
        -1,
        -1,
        -1,
        1,
        1,
        1
       ],
       "grid_auto_fit": true,
       "grid_color": 15132390,
       "grid_visible": true,
       "height": 512,
       "label_color": 4473924,
       "layout": "IPY_MODEL_6bd5659bca434362aedf102c70036fe5",
       "lighting": 3,
       "logarithmic_depth_buffer": true,
       "manipulate_mode": "translate",
       "menu_visibility": true,
       "minimum_fps": -1,
       "mode": "view",
       "name": null,
       "object_ids": [
        2020595867264
       ],
       "rendering_steps": 1,
       "screenshot": "",
       "screenshot_scale": 2,
       "snapshot": "",
       "snapshot_type": "full",
       "time": 0,
       "voxel_paint_color": 0
      }
     },
     "182e517a62f4448c8bdaac0ba954e8fb": {
      "model_module": "@jupyter-widgets/base",
      "model_module_version": "2.0.0",
      "model_name": "LayoutModel",
      "state": {}
     },
     "195f91029a9b46f3a411f67c793ac7f2": {
      "model_module": "k3d",
      "model_module_version": "2.16.1",
      "model_name": "PlotModel",
      "state": {
       "_backend_version": "2.16.1",
       "antialias": 3,
       "auto_rendering": true,
       "axes": [
        "x",
        "y",
        "z"
       ],
       "axes_helper": 1,
       "axes_helper_colors": [
        16711680,
        65280,
        255
       ],
       "background_color": 16777215,
       "camera": [
        1.4771623913934175,
        -0.3082073474188238,
        0.5477675784745465,
        0.008726202882826321,
        0,
        0.49992385506629944,
        0.030648026362425206,
        0.031339036850985755,
        0.9990388196908786
       ],
       "camera_animation": [],
       "camera_auto_fit": true,
       "camera_damping_factor": 0,
       "camera_fov": 60,
       "camera_mode": "trackball",
       "camera_no_pan": false,
       "camera_no_rotate": false,
       "camera_no_zoom": false,
       "camera_pan_speed": 0.3,
       "camera_rotate_speed": 1,
       "camera_zoom_speed": 1.2,
       "clipping_planes": [],
       "colorbar_object_id": -1,
       "colorbar_scientific": false,
       "custom_data": null,
       "fps": 25,
       "fps_meter": false,
       "grid": [
        -1,
        -1,
        -1,
        1,
        1,
        1
       ],
       "grid_auto_fit": true,
       "grid_color": 15132390,
       "grid_visible": true,
       "height": 512,
       "label_color": 4473924,
       "layout": "IPY_MODEL_3d1a37dc38244349b05375045b42f24c",
       "lighting": 3,
       "logarithmic_depth_buffer": true,
       "manipulate_mode": "translate",
       "menu_visibility": true,
       "minimum_fps": -1,
       "mode": "view",
       "name": null,
       "object_ids": [
        2020590219440
       ],
       "rendering_steps": 1,
       "screenshot": "",
       "screenshot_scale": 2,
       "snapshot": "",
       "snapshot_type": "full",
       "time": 0,
       "voxel_paint_color": 0
      }
     },
     "1a1726212d5f48f08d472faccd438e8c": {
      "buffers": [
       {
        "data": "",
        "encoding": "base64",
        "path": [
         "attribute",
         "data"
        ]
       },
       {
        "data": "AAAAAKabxDpvEgM607xjPCSXfzuZuxY7w2SqOgdfmDwkl/870ERYO+AtEDsUP8Y8ylRBPLx0kzuJ0l47/yH9PEmdgDymm8Q7dQKaOwkbHj0ukKA8SFD8O4LixztbsT89EoPAPFJJHTxIUPw7irBhPa5H4TxbsT88dQIaPEoMgj1JnQA9QmBlPDSANzxPQJM9vJYQPbn8hzxioVY8VHSkPS6QID3A7J48/mV3PMbctT2giTA9NIC3PATnjDw5Rcc97utAPYZa0zwJG548GeLYPWDlUD1F2PA8xSCwPGiz6j3T3mA9cM4IPYEmwjwkufw9RdhwPVFrGj09LNQ8cF8HPtxogD3EQi09+THmPIV8ED4Cmog9NxpAPbU3+DwHzhk+vJaQPYZaUz24HgU9ih8jPnWTmD2wA2c9u7gNPQ1xLD4ukKA9tRV7PeLpFT3G3DU+VcGoPUvIhz0tsh097nw/Pg6+sD0qOpI9nRElPRUdST7Hurg9duCcPVafKz08vVI+gLfAPZ7vpz1XWzE9mndcPjm0yD3F/rI9fa42PfkxZj5g5dA9yXa+PRHHOj2OBnA+GeLYPTojyj3tDT497MB5PtPe4D2GONY9EoNAPaW9gT6M2+g9003iPYEmQj3UmoY+RdjwPWkA7z04+EI96GqLPmwJ+T3/svs9XI9CPeAtkD4SgwA+OGcEPqW9QT2945Q+b4EEPigPCz43GkA9Y3+ZPsx/CD5O0RE+Njw9PdIAnj5fmAw+rK0YPjVeOj3uWqI+vJYQPgmKHz59rjY9uY2mPhiVFD7UmiY+6pUyPUymqj51kxg+n6stPnsULj1yiq4+0ZEcPmq8ND4Mkyk9KjqyPmWqID42zTs+nRElPY/CtT7BqCQ+OPhCPgn5ID1sCbk+HqcoPgMJSj5SSR099ii8PnqlLD7OGVE+dQIaPRIUvz7XozA+mSpYPlCNFz3c18E+arw0Pi0hXz7i6RU9HVrEPse6OD75MWY+KxgVPQu1xj4kuTw+Vg5tPisYFT2n6Mg+gLdAPuoEdD7i6RU98fTKPhTQRD5I4Xo+K/YXPc3MzD5wzkg+t9GAPlFrGj1yis4+zcxMPsoyhD4JGx49xSDQPinLUD7ek4c+nDMiPcWP0T6GyVQ+1eeKPsKGJz2q8dI+GeJYPs07jj6fqy09PSzUPnbgXD7Fj5E+fdAzPZhM1T7T3mA+veOUPhHHOj29UtY+L91kPpkqmD5cj0I9x0vXPsP1aD52cZs+qFdKPZkq2D4f9Gw+NquePs6IUj0179g+fPJwPhPyoT7RIls9tabZPtjwdD7UK6U+07xjPRpR2j4173g+lWWoPrG/bD1I4do+yAd9Plafqz5rK3Y9WmTbPhKDgD4X2a4+SS5/PVHa2z5BgoI+1xKyPgFNhD0tQ9w+b4GEPn0/tT7eAok97Z7cPp2Ahj4+ebg+u7iNPZHt3D7njIg+46W7PgWjkj0bL90+FYyKPqTfvj7iWJc9iGPdPkSLjD5KDMI+LUOcPduK3T5yio4+7zjFPgn5oD0tst0+vJaQPrByyD7mrqU9SL/dPuqVkj5Wn8s+MZmqPWTM3T4YlZQ++8vOPg5Prz1kzN0+RpSWPqH40T7qBLQ9SL/dPnWTmD5GJdU+x7q4PRKl3T6+n5o+7FHYPqRwvT3bit0+7Z6cPqyL2z6BJsI9iGPdPhuenj5SuN4+XdzGPRsv3T5JnaA+9+ThPsxdyz2t+tw+eJyiPp0R5T6pE9A9JLncPsGopD5eS+g+GJXUPX9q3D7wp6Y+A3jrPvVK2T2/Dtw+HqeoPqmk7j5kzN09/7LbPkymqj5O0fE+003iPSNK2z6Wsqw+Dwv1PrAD5z1I4do+xLGuPrU3+D4fhes9NV7aPvKwsD5aZPs+jgbwPT7o2T4hsLI+G57+Pv2H9D0QWNk+T6+0PmDlAD9sCfk948fYPpm7tj6zewI/24r9PZkq2D7Hurg+kxgEPyUGAT40gNc+9bm6PuauBT+lLAM+tMjWPiS5vD45RQc/XW0FPjQR1j5SuL4+GeIIPxSuBz60WdU+nMTAPmx4Cj/M7gk+/YfUPsrDwj5NFQw/gy8MPka20z74wsQ+n6sNPztwDj5z19I+J8LGPvJBDz/ysBA+ofjRPnDOyD7T3hA/4QsTPrMM0T6fzco+JXUSP5hMFT6pE9A+zczMPngLFD9QjRc+hA3PPvvLzj7LoRU/PugZPl8Hzj4py9A+HTgXPy1DHD4f9Mw+c9fSPnDOGD/kgx4+w9PLPqHW1D7DZBo/CfkgPmizyj7Q1dY+FvsbP/hTIz7whck+/tTYPmiRHT/mriU+XkvIPkjh2j67Jx8/CyQoPssQxz524Nw+gLcgPzGZKj4dycU+pN/ePtNNIj9WDi0+VHTEPtPe4D6Y3SM/e4MvPoofwz4B3uI+63MlP9cSMj6lvcE+S+rkPrADJz80ojQ+pU7APnnp5j51kyg/x0s3PonSvj6n6Og+rBwqPyPbOT5tVr0+1efqPnGsKz/tnjw+Udq7PgTn7D6oNS0/gEg/Pv5Duj5N8+4+bcUuP0oMQj7Hurg+fPLwPqVOMD8U0EQ+WRe3Pqrx8j5O0TE/FK5HPutztT7Y8PQ+hlozP0ymSj5hw7M+Iv32Pi/dND9NhE0+1xKyPlD8+D7ZXzY/vJZQPjJVsD5/+/o+guI3P/OOUz5yiq4+rfr8Pp5eOT+Zu1Y+sb+sPtv5/j662jo/PuhZPvH0qj4SgwA/1lY8P+QUXT75D6k+qoIBP2TMPT/AW2A+HTinPkGCAj/yQT8/07xjPiZTpT7YgQM/gLdAP+cdZz4TYaM+b4EEP4EmQj8xmWo+AG+hPpSHBT+BlUM/si5uPtJvnz4rhwY/gQRFPzPEcT6kcJ0+woYHP/RsRj/rc3U+WmSbPlmGCD/Zzkc/oyN5PhBYmT5+jAk/vjBJP8gHfT7HS5c+FYwKP6OSSj/3dYA+YTKVPqyLCz/67Us/CmiCPvwYkz5Eiww/UklNP1R0hD588pA+24oNPxueTj+dgIY++8uOPgCRDj9X7E8/ApqIPnqljD6XkA8/kzpRP4PAij7ecYo+LpAQP86IUj8E54w+Qj6IPsWPET990FM/oBqPPov9hT5cjxI/nRFVP1dbkT7vyYM+gZUTP71SVj8qqZM+N4mBPhiVFD9QjVc//faVPgCRfj6vlBU/VcFYPwdfmD5a9Xk+RpQWP1r1WT8Rx5o+tFl1PmuaFz/RIls/Gy+dPg6+cD4Cmhg/uklcP1uxnz5oImw+mpkZP6RwXT+cM6I+woZnPjGZGj8AkV4/+MKkPuXQYj7ImBs/zqpfP3Bfpz4JG14+7Z4cP5zEYD8DCao+LGVZPoSeHT/c12E/lrKsPhiVVD4bnh4/j+RiP0Rprz47308+sp0fP7PqYz8OLbI+KA9LPtejID/Y8GQ/2PC0PhQ/Rj5uoyE/b/BlP77Btz4Ab0E+BaMiP3npZj++n7o+toQ8PpyiIz/122c/v329PqK0Nz40oiQ/cM5oP/d1wD5YyjI+WKglP166aT8TYcM+DeAtPvCnJj++n2o/ZmbGPozbKD6Hpyc/kX5rP7pryT5B8SM+HqcoP9ZWbD8ofsw+wOwePrWmKT8bL20/l5DPPj7oGT7arCo/RPptPyGw0j694xQ+cawrP23Fbj+rz9U+BcUPPgisLD8Jim8/UPzYPkymCj6fqy0/pU5wPxE23D6UhwU+xLEuPyUGcT/Sb98+3GgAPluxLz+lvXE/rrbiPkaU9j3ysDA/mG5yP4v95T5oIuw9irAxP/wYcz+DUek+irDhPSGwMj/TvHM/eqXsPj0K1z1GtjM/HVp0P3L57z5fmMw93bU0P2b3dD+hZ/M+E/LBPXS1NT+Uh3U/tMj2PsdLtz0LtTY/whd2P+M2+j56paw9orQ3P2Khdj8tsv0+Lv+hPce6OD90JHc/LpAAP+JYlz1eujk/+aB3P2FUAj+Wsow99bk6P34deD8GEgQ/SgyCPYy5Oz/njHg/xtwFP9c0bz2xvzw/UPx4P/mgBz8aUVo9SL89PyxleT+6awk/FD9GPeC+Pj96x3k/ejYLP+qVMj13vj8/OiN6PzsBDT9SJyA9Dr5AP2x4ej+J0g4/TfMOPTPEQT+fzXo/ZaoQP0mdAD3Kw0I/tRV7P7N7Ej/VeOk8YcNDP8xdez+PUxQ/YqHWPPjCRD9Wn3s/aysWP6hXyjyPwkU/Udp7P0cDGD84+MI8tMhGP78OfD+x4Rk/ylTBPEvIRz+fPHw/GsAbPxQ/xjzjx0g/f2p8PxKlHT8Xt9E8esdJP0SLfD97gx8/07zjPJ/NSj8IrHw/c2ghP/8h/Tw2zUs/sb98P2pNIz9N8w49zcxMP1vTfD9hMiU/L24jPWTMTT924Hw/5x0nPxHHOj37y04/BOd8P2wJKT9hw1M9INJPPwTnfD9j7io/+8tuPbfRUD8E53w/duAsPwK8hT1O0VE/6Nl8P/vLLj/hepQ95dBSP83MfD8OvjA/CtejPQrXUz+Wsnw/k6kyPw+csz2h1lQ/X5h8P6abND9d/sM9OdZVP5p3fD9GlDY/hsnUPdDVVj9IUHw/WYY4Px3J5T1n1Vc/aCJ8P2x4Oj/+Zfc9jNtYP/rtez8NcTw/ppsEPiPbWT//sns/rWk+P/LSDT662lo/dnF7P8BbQD90JBc+UdpbP+wvez9hVEI/ZaogPujZXD9I4Xo/AU1EP8NkKj4N4F0/o5J6P6JFRj9YOTQ+pN9eP3E9ej/QREg/klw+PjvfXz+x4Xk/cT1KPzm0SD7T3mA/Y395PxE2TD9PQFM+9+RhPxUdeT+yLk4/CRtePo/kYj85tHg/UidQPzAqaT4m5GM/0ER4P/MfUj/GbXQ+veNkP9nOdz+TGFQ/AACAPlTjZT/iWHc/NBFWP1TjhT556WY/6+J2P0cDWD8W+4s+EOlnP2Zmdj/n+1k/Di2SPqfoaD/i6XU/+u1bP3WTmD4+6Gk/XW11P3/ZXT8tIZ8+1edqP9jwdD8FxV8/VOOlPvrtaz/henQ/irBhP83MrD6R7Ww/6gR0P/OOYz+z6rM+Ke1tP4GVcz9dbWU/7C+7PsDsbj8zM3M/OUVnP662wj7l8m8/Ad5yP4cWaT/DZMo+fPJwP+qVcj+62mo/RUfSPhPycT98YXI/X5hsPxpR2j6q8XI/RUdyP+lIbj9BguI+QfFzP0VHcj9X7G8/n83qPmb3dD8KaHI/HHxxPzMz8z799nU/k6lyP1MFcz/ImPs+lPZ2P28Scz9vgXQ/vAUCPyv2dz+conM/4ul1P/kxBj/D9Xg/HVp0PzlFdz+oVwo/5/t5P+84dT91k3g/rWkOP3/7ej+GOHY/ldR5PwpoEj8W+3s/4lh3PygPez+9UhY/rfp8P5CgeD+fPHw/xykaP9IAfj/n+3k/iGN9P5vmHT9pAH8/A3h7P1Z9fj83iSE/AACAP8gHfT8kl38/KxglPw==",
        "encoding": "base64",
        "path": [
         "color_map",
         "data"
        ]
       },
       {
        "data": "",
        "encoding": "base64",
        "path": [
         "colors",
         "data"
        ]
       },
       {
        "data": "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",
        "encoding": "base64",
        "path": [
         "indices",
         "data"
        ]
       },
       {
        "data": "AACAPwAAAAAAAAAAAAAAAAAAAAAAAIA/AAAAAAAAAAAAAAAAAAAAAAAAgD8AAAAAAAAAAAAAAAAAAAAAAACAPw==",
        "encoding": "base64",
        "path": [
         "model_matrix",
         "data"
        ]
       },
       {
        "data": "",
        "encoding": "base64",
        "path": [
         "normals",
         "data"
        ]
       },
       {
        "data": "",
        "encoding": "base64",
        "path": [
         "opacity_function",
         "data"
        ]
       },
       {
        "data": "",
        "encoding": "base64",
        "path": [
         "triangles_attribute",
         "data"
        ]
       },
       {
        "data": "AADAfw==",
        "encoding": "base64",
        "path": [
         "uvs",
         "data"
        ]
       },
       {
        "data": "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",
        "encoding": "base64",
        "path": [
         "vertices",
         "data"
        ]
       },
       {
        "data": "",
        "encoding": "base64",
        "path": [
         "volume",
         "data"
        ]
       },
       {
        "data": "",
        "encoding": "base64",
        "path": [
         "volume_bounds",
         "data"
        ]
       }
      ],
      "model_module": "k3d",
      "model_module_version": "2.16.1",
      "model_name": "ObjectModel",
      "state": {
       "_view_module": null,
       "_view_module_version": "",
       "_view_name": null,
       "attribute": {
        "dtype": "float32",
        "shape": [
         0
        ]
       },
       "click_callback": false,
       "color": 5263440,
       "colorLegend": false,
       "color_map": {
        "dtype": "float32",
        "shape": [
         1024
        ]
       },
       "color_range": [],
       "colors": {
        "dtype": "uint32",
        "shape": [
         0
        ]
       },
       "compression_level": 0,
       "custom_data": null,
       "flat_shading": true,
       "group": null,
       "hover_callback": false,
       "id": 2020563382112,
       "indices": {
        "dtype": "uint32",
        "shape": [
         201,
         3
        ]
       },
       "model_matrix": {
        "dtype": "float32",
        "shape": [
         4,
         4
        ]
       },
       "name": "Mesh #1",
       "normals": {
        "dtype": "float32",
        "shape": [
         0
        ]
       },
       "opacity": 1,
       "opacity_function": {
        "dtype": "float32",
        "shape": [
         0
        ]
       },
       "side": "front",
       "texture": null,
       "texture_file_format": null,
       "triangles_attribute": {
        "dtype": "float32",
        "shape": [
         0
        ]
       },
       "type": "Mesh",
       "uvs": {
        "dtype": "float32",
        "shape": []
       },
       "vertices": {
        "dtype": "float32",
        "shape": [
         202,
         3
        ]
       },
       "visible": true,
       "volume": {
        "dtype": "float32",
        "shape": [
         0
        ]
       },
       "volume_bounds": {
        "dtype": "float32",
        "shape": [
         0
        ]
       },
       "wireframe": false
      }
     },
     "1ab4ffa18caf4bb082bad707e3540d62": {
      "model_module": "@jupyter-widgets/base",
      "model_module_version": "2.0.0",
      "model_name": "LayoutModel",
      "state": {}
     },
     "20b1b3d9483845d1be1bcb72d28d0ca4": {
      "model_module": "k3d",
      "model_module_version": "2.16.1",
      "model_name": "PlotModel",
      "state": {
       "_backend_version": "2.16.1",
       "antialias": 3,
       "auto_rendering": true,
       "axes": [
        "x",
        "y",
        "z"
       ],
       "axes_helper": 1,
       "axes_helper_colors": [
        16711680,
        65280,
        255
       ],
       "background_color": 16777215,
       "camera": [
        0.8401610685018219,
        -1.747076153494793,
        0.08314348656190029,
        0.008726202882826321,
        -0.49992385506629944,
        0,
        0,
        0,
        1
       ],
       "camera_animation": [],
       "camera_auto_fit": true,
       "camera_damping_factor": 0,
       "camera_fov": 60,
       "camera_mode": "trackball",
       "camera_no_pan": false,
       "camera_no_rotate": false,
       "camera_no_zoom": false,
       "camera_pan_speed": 0.3,
       "camera_rotate_speed": 1,
       "camera_zoom_speed": 1.2,
       "clipping_planes": [],
       "colorbar_object_id": -1,
       "colorbar_scientific": false,
       "custom_data": null,
       "fps": 25,
       "fps_meter": false,
       "grid": [
        -1,
        -1,
        -1,
        1,
        1,
        1
       ],
       "grid_auto_fit": true,
       "grid_color": 15132390,
       "grid_visible": true,
       "height": 512,
       "label_color": 4473924,
       "layout": "IPY_MODEL_b42805dddbf844159274b39393117415",
       "lighting": 3,
       "logarithmic_depth_buffer": true,
       "manipulate_mode": "translate",
       "menu_visibility": true,
       "minimum_fps": -1,
       "mode": "view",
       "name": null,
       "object_ids": [
        2020562862400
       ],
       "rendering_steps": 1,
       "screenshot": "",
       "screenshot_scale": 2,
       "snapshot": "",
       "snapshot_type": "full",
       "time": 0,
       "voxel_paint_color": 0
      }
     },
     "23bb4e6dd35f49eb84ee9bc0a4b13e82": {
      "model_module": "k3d",
      "model_module_version": "2.16.1",
      "model_name": "PlotModel",
      "state": {
       "_backend_version": "2.16.1",
       "antialias": 3,
       "auto_rendering": true,
       "axes": [
        "x",
        "y",
        "z"
       ],
       "axes_helper": 1,
       "axes_helper_colors": [
        16711680,
        65280,
        255
       ],
       "background_color": 16777215,
       "camera": [
        0.8401610685018217,
        -1.247152298428493,
        0.5830673416281997,
        0.008726202882826321,
        0,
        0.49992385506629944,
        0,
        0,
        1
       ],
       "camera_animation": [],
       "camera_auto_fit": true,
       "camera_damping_factor": 0,
       "camera_fov": 60,
       "camera_mode": "trackball",
       "camera_no_pan": false,
       "camera_no_rotate": false,
       "camera_no_zoom": false,
       "camera_pan_speed": 0.3,
       "camera_rotate_speed": 1,
       "camera_zoom_speed": 1.2,
       "clipping_planes": [],
       "colorbar_object_id": -1,
       "colorbar_scientific": false,
       "custom_data": null,
       "fps": 25,
       "fps_meter": false,
       "grid": [
        -1,
        -1,
        -1,
        1,
        1,
        1
       ],
       "grid_auto_fit": true,
       "grid_color": 15132390,
       "grid_visible": true,
       "height": 512,
       "label_color": 4473924,
       "layout": "IPY_MODEL_ad526874ee574232882484f7be4f49ac",
       "lighting": 3,
       "logarithmic_depth_buffer": true,
       "manipulate_mode": "translate",
       "menu_visibility": true,
       "minimum_fps": -1,
       "mode": "view",
       "name": null,
       "object_ids": [
        2020595845744
       ],
       "rendering_steps": 1,
       "screenshot": "",
       "screenshot_scale": 2,
       "snapshot": "",
       "snapshot_type": "full",
       "time": 0,
       "voxel_paint_color": 0
      }
     },
     "24188573462849adb97e647060ce87d4": {
      "model_module": "@jupyter-widgets/base",
      "model_module_version": "2.0.0",
      "model_name": "LayoutModel",
      "state": {}
     },
     "280b9309dffe4d8aa3270f84cd503fd4": {
      "model_module": "k3d",
      "model_module_version": "2.16.1",
      "model_name": "PlotModel",
      "state": {
       "_backend_version": "2.16.1",
       "antialias": 3,
       "auto_rendering": true,
       "axes": [
        "x",
        "y",
        "z"
       ],
       "axes_helper": 1,
       "axes_helper_colors": [
        16711680,
        65280,
        255
       ],
       "background_color": 16777215,
       "camera": [
        0.8314348656189956,
        -0.7472284433621941,
        0.09186968944472662,
        0,
        0.49992385506629944,
        0.008726202882826321,
        0,
        0,
        1
       ],
       "camera_animation": [],
       "camera_auto_fit": true,
       "camera_damping_factor": 0,
       "camera_fov": 60,
       "camera_mode": "trackball",
       "camera_no_pan": false,
       "camera_no_rotate": false,
       "camera_no_zoom": false,
       "camera_pan_speed": 0.3,
       "camera_rotate_speed": 1,
       "camera_zoom_speed": 1.2,
       "clipping_planes": [],
       "colorbar_object_id": -1,
       "colorbar_scientific": false,
       "custom_data": null,
       "fps": 25,
       "fps_meter": false,
       "grid": [
        -1,
        -1,
        -1,
        1,
        1,
        1
       ],
       "grid_auto_fit": true,
       "grid_color": 15132390,
       "grid_visible": true,
       "height": 512,
       "label_color": 4473924,
       "layout": "IPY_MODEL_b17eb5c7e92c460d85ef4bd641209ad5",
       "lighting": 3,
       "logarithmic_depth_buffer": true,
       "manipulate_mode": "translate",
       "menu_visibility": true,
       "minimum_fps": -1,
       "mode": "view",
       "name": null,
       "object_ids": [
        2020595858848
       ],
       "rendering_steps": 1,
       "screenshot": "",
       "screenshot_scale": 2,
       "snapshot": "",
       "snapshot_type": "full",
       "time": 0,
       "voxel_paint_color": 0
      }
     },
     "30e48fdc71bf444c981e75a8b1d69467": {
      "model_module": "k3d",
      "model_module_version": "2.16.1",
      "model_name": "PlotModel",
      "state": {
       "_backend_version": "2.16.1",
       "antialias": 3,
       "auto_rendering": true,
       "axes": [
        "x",
        "y",
        "z"
       ],
       "axes_helper": 1,
       "axes_helper_colors": [
        16711680,
        65280,
        255
       ],
       "background_color": 16777215,
       "camera": [
        3.3777343594958187,
        -12.099340979521852,
        13.62406855713644,
        0.5446951985359192,
        0,
        4.922436318127438,
        -0.017024644950016904,
        0.5343476098832689,
        0.8450933636447321
       ],
       "camera_animation": [],
       "camera_auto_fit": true,
       "camera_damping_factor": 0,
       "camera_fov": 60,
       "camera_mode": "trackball",
       "camera_no_pan": false,
       "camera_no_rotate": false,
       "camera_no_zoom": false,
       "camera_pan_speed": 0.3,
       "camera_rotate_speed": 1,
       "camera_zoom_speed": 1.2,
       "clipping_planes": [],
       "colorbar_object_id": -1,
       "colorbar_scientific": false,
       "custom_data": null,
       "fps": 25,
       "fps_meter": false,
       "grid": [
        -1,
        -1,
        -1,
        1,
        1,
        1
       ],
       "grid_auto_fit": true,
       "grid_color": 15132390,
       "grid_visible": true,
       "height": 512,
       "label_color": 4473924,
       "layout": "IPY_MODEL_6acf39fd1bb54cf28a2d04e494e30ef9",
       "lighting": 3,
       "logarithmic_depth_buffer": true,
       "manipulate_mode": "translate",
       "menu_visibility": true,
       "minimum_fps": -1,
       "mode": "view",
       "name": null,
       "object_ids": [
        2020591967488
       ],
       "rendering_steps": 1,
       "screenshot": "",
       "screenshot_scale": 2,
       "snapshot": "",
       "snapshot_type": "full",
       "time": 0,
       "voxel_paint_color": 0
      }
     },
     "344c403581b74b53aebdb68b01a5a112": {
      "buffers": [
       {
        "data": "",
        "encoding": "base64",
        "path": [
         "attribute",
         "data"
        ]
       },
       {
        "data": "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",
        "encoding": "base64",
        "path": [
         "color_map",
         "data"
        ]
       },
       {
        "data": "",
        "encoding": "base64",
        "path": [
         "colors",
         "data"
        ]
       },
       {
        "data": "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",
        "encoding": "base64",
        "path": [
         "indices",
         "data"
        ]
       },
       {
        "data": "AACAPwAAAAAAAAAAAAAAAAAAAAAAAIA/AAAAAAAAAAAAAAAAAAAAAAAAgD8AAAAAAAAAAAAAAAAAAAAAAACAPw==",
        "encoding": "base64",
        "path": [
         "model_matrix",
         "data"
        ]
       },
       {
        "data": "",
        "encoding": "base64",
        "path": [
         "normals",
         "data"
        ]
       },
       {
        "data": "",
        "encoding": "base64",
        "path": [
         "opacity_function",
         "data"
        ]
       },
       {
        "data": "",
        "encoding": "base64",
        "path": [
         "triangles_attribute",
         "data"
        ]
       },
       {
        "data": "AADAfw==",
        "encoding": "base64",
        "path": [
         "uvs",
         "data"
        ]
       },
       {
        "data": "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",
        "encoding": "base64",
        "path": [
         "vertices",
         "data"
        ]
       },
       {
        "data": "",
        "encoding": "base64",
        "path": [
         "volume",
         "data"
        ]
       },
       {
        "data": "",
        "encoding": "base64",
        "path": [
         "volume_bounds",
         "data"
        ]
       }
      ],
      "model_module": "k3d",
      "model_module_version": "2.16.1",
      "model_name": "ObjectModel",
      "state": {
       "_view_module": null,
       "_view_module_version": "",
       "_view_name": null,
       "attribute": {
        "dtype": "float32",
        "shape": [
         0
        ]
       },
       "click_callback": false,
       "color": 5263440,
       "colorLegend": false,
       "color_map": {
        "dtype": "float32",
        "shape": [
         1024
        ]
       },
       "color_range": [],
       "colors": {
        "dtype": "uint32",
        "shape": [
         0
        ]
       },
       "compression_level": 0,
       "custom_data": null,
       "flat_shading": true,
       "group": null,
       "hover_callback": false,
       "id": 2020595844736,
       "indices": {
        "dtype": "uint32",
        "shape": [
         201,
         3
        ]
       },
       "model_matrix": {
        "dtype": "float32",
        "shape": [
         4,
         4
        ]
       },
       "name": "Mesh #1",
       "normals": {
        "dtype": "float32",
        "shape": [
         0
        ]
       },
       "opacity": 1,
       "opacity_function": {
        "dtype": "float32",
        "shape": [
         0
        ]
       },
       "side": "front",
       "texture": null,
       "texture_file_format": null,
       "triangles_attribute": {
        "dtype": "float32",
        "shape": [
         0
        ]
       },
       "type": "Mesh",
       "uvs": {
        "dtype": "float32",
        "shape": []
       },
       "vertices": {
        "dtype": "float32",
        "shape": [
         202,
         3
        ]
       },
       "visible": true,
       "volume": {
        "dtype": "float32",
        "shape": [
         0
        ]
       },
       "volume_bounds": {
        "dtype": "float32",
        "shape": [
         0
        ]
       },
       "wireframe": false
      }
     },
     "34f3ca89bc894fb19991029d7755edd8": {
      "buffers": [
       {
        "data": "",
        "encoding": "base64",
        "path": [
         "attribute",
         "data"
        ]
       },
       {
        "data": "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",
        "encoding": "base64",
        "path": [
         "color_map",
         "data"
        ]
       },
       {
        "data": "",
        "encoding": "base64",
        "path": [
         "colors",
         "data"
        ]
       },
       {
        "data": "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",
        "encoding": "base64",
        "path": [
         "indices",
         "data"
        ]
       },
       {
        "data": "AACAPwAAAAAAAAAAAAAAAAAAAAAAAIA/AAAAAAAAAAAAAAAAAAAAAAAAgD8AAAAAAAAAAAAAAAAAAAAAAACAPw==",
        "encoding": "base64",
        "path": [
         "model_matrix",
         "data"
        ]
       },
       {
        "data": "",
        "encoding": "base64",
        "path": [
         "normals",
         "data"
        ]
       },
       {
        "data": "",
        "encoding": "base64",
        "path": [
         "opacity_function",
         "data"
        ]
       },
       {
        "data": "",
        "encoding": "base64",
        "path": [
         "triangles_attribute",
         "data"
        ]
       },
       {
        "data": "AADAfw==",
        "encoding": "base64",
        "path": [
         "uvs",
         "data"
        ]
       },
       {
        "data": "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",
        "encoding": "base64",
        "path": [
         "vertices",
         "data"
        ]
       },
       {
        "data": "",
        "encoding": "base64",
        "path": [
         "volume",
         "data"
        ]
       },
       {
        "data": "",
        "encoding": "base64",
        "path": [
         "volume_bounds",
         "data"
        ]
       }
      ],
      "model_module": "k3d",
      "model_module_version": "2.16.1",
      "model_name": "ObjectModel",
      "state": {
       "_view_module": null,
       "_view_module_version": "",
       "_view_name": null,
       "attribute": {
        "dtype": "float32",
        "shape": [
         0
        ]
       },
       "click_callback": false,
       "color": 3302400,
       "colorLegend": false,
       "color_map": {
        "dtype": "float32",
        "shape": [
         1024
        ]
       },
       "color_range": [],
       "colors": {
        "dtype": "uint32",
        "shape": [
         0
        ]
       },
       "compression_level": 0,
       "custom_data": null,
       "flat_shading": true,
       "group": null,
       "hover_callback": false,
       "id": 2020595694144,
       "indices": {
        "dtype": "uint32",
        "shape": [
         193,
         3
        ]
       },
       "model_matrix": {
        "dtype": "float32",
        "shape": [
         4,
         4
        ]
       },
       "name": "Mesh #1",
       "normals": {
        "dtype": "float32",
        "shape": [
         0
        ]
       },
       "opacity": 1,
       "opacity_function": {
        "dtype": "float32",
        "shape": [
         0
        ]
       },
       "side": "front",
       "texture": null,
       "texture_file_format": null,
       "triangles_attribute": {
        "dtype": "float32",
        "shape": [
         0
        ]
       },
       "type": "Mesh",
       "uvs": {
        "dtype": "float32",
        "shape": []
       },
       "vertices": {
        "dtype": "float32",
        "shape": [
         196,
         3
        ]
       },
       "visible": true,
       "volume": {
        "dtype": "float32",
        "shape": [
         0
        ]
       },
       "volume_bounds": {
        "dtype": "float32",
        "shape": [
         0
        ]
       },
       "wireframe": false
      }
     },
     "36946b4d4980478e841f4819d1997963": {
      "model_module": "k3d",
      "model_module_version": "2.16.1",
      "model_name": "PlotModel",
      "state": {
       "_backend_version": "2.16.1",
       "antialias": 3,
       "auto_rendering": true,
       "axes": [
        "x",
        "y",
        "z"
       ],
       "axes_helper": 1,
       "axes_helper_colors": [
        16711680,
        65280,
        255
       ],
       "background_color": 16777215,
       "camera": [
        0.8227086627361693,
        -0.7472284433621941,
        0.08314348656190029,
        -0.008726202882826321,
        0.49992385506629944,
        0,
        0,
        0,
        1
       ],
       "camera_animation": [],
       "camera_auto_fit": true,
       "camera_damping_factor": 0,
       "camera_fov": 60,
       "camera_mode": "trackball",
       "camera_no_pan": false,
       "camera_no_rotate": false,
       "camera_no_zoom": false,
       "camera_pan_speed": 0.3,
       "camera_rotate_speed": 1,
       "camera_zoom_speed": 1.2,
       "clipping_planes": [],
       "colorbar_object_id": -1,
       "colorbar_scientific": false,
       "custom_data": null,
       "fps": 25,
       "fps_meter": false,
       "grid": [
        -1,
        -1,
        -1,
        1,
        1,
        1
       ],
       "grid_auto_fit": true,
       "grid_color": 15132390,
       "grid_visible": true,
       "height": 512,
       "label_color": 4473924,
       "layout": "IPY_MODEL_e708830b81174d5cad97784de0927243",
       "lighting": 3,
       "logarithmic_depth_buffer": true,
       "manipulate_mode": "translate",
       "menu_visibility": true,
       "minimum_fps": -1,
       "mode": "view",
       "name": null,
       "object_ids": [
        2020595679984
       ],
       "rendering_steps": 1,
       "screenshot": "",
       "screenshot_scale": 2,
       "snapshot": "",
       "snapshot_type": "full",
       "time": 0,
       "voxel_paint_color": 0
      }
     },
     "37874260b98a471e865fb4983d3d8c6f": {
      "buffers": [
       {
        "data": "",
        "encoding": "base64",
        "path": [
         "attribute",
         "data"
        ]
       },
       {
        "data": "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",
        "encoding": "base64",
        "path": [
         "color_map",
         "data"
        ]
       },
       {
        "data": "",
        "encoding": "base64",
        "path": [
         "colors",
         "data"
        ]
       },
       {
        "data": "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",
        "encoding": "base64",
        "path": [
         "indices",
         "data"
        ]
       },
       {
        "data": "AACAPwAAAAAAAAAAAAAAAAAAAAAAAIA/AAAAAAAAAAAAAAAAAAAAAAAAgD8AAAAAAAAAAAAAAAAAAAAAAACAPw==",
        "encoding": "base64",
        "path": [
         "model_matrix",
         "data"
        ]
       },
       {
        "data": "",
        "encoding": "base64",
        "path": [
         "normals",
         "data"
        ]
       },
       {
        "data": "",
        "encoding": "base64",
        "path": [
         "opacity_function",
         "data"
        ]
       },
       {
        "data": "",
        "encoding": "base64",
        "path": [
         "triangles_attribute",
         "data"
        ]
       },
       {
        "data": "AADAfw==",
        "encoding": "base64",
        "path": [
         "uvs",
         "data"
        ]
       },
       {
        "data": "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",
        "encoding": "base64",
        "path": [
         "vertices",
         "data"
        ]
       },
       {
        "data": "",
        "encoding": "base64",
        "path": [
         "volume",
         "data"
        ]
       },
       {
        "data": "",
        "encoding": "base64",
        "path": [
         "volume_bounds",
         "data"
        ]
       }
      ],
      "model_module": "k3d",
      "model_module_version": "2.16.1",
      "model_name": "ObjectModel",
      "state": {
       "_view_module": null,
       "_view_module_version": "",
       "_view_name": null,
       "attribute": {
        "dtype": "float32",
        "shape": [
         0
        ]
       },
       "click_callback": false,
       "color": 3302400,
       "colorLegend": false,
       "color_map": {
        "dtype": "float32",
        "shape": [
         1024
        ]
       },
       "color_range": [],
       "colors": {
        "dtype": "uint32",
        "shape": [
         0
        ]
       },
       "compression_level": 0,
       "custom_data": null,
       "flat_shading": true,
       "group": null,
       "hover_callback": false,
       "id": 2020595691408,
       "indices": {
        "dtype": "uint32",
        "shape": [
         193,
         3
        ]
       },
       "model_matrix": {
        "dtype": "float32",
        "shape": [
         4,
         4
        ]
       },
       "name": "Mesh #1",
       "normals": {
        "dtype": "float32",
        "shape": [
         0
        ]
       },
       "opacity": 1,
       "opacity_function": {
        "dtype": "float32",
        "shape": [
         0
        ]
       },
       "side": "front",
       "texture": null,
       "texture_file_format": null,
       "triangles_attribute": {
        "dtype": "float32",
        "shape": [
         0
        ]
       },
       "type": "Mesh",
       "uvs": {
        "dtype": "float32",
        "shape": []
       },
       "vertices": {
        "dtype": "float32",
        "shape": [
         196,
         3
        ]
       },
       "visible": true,
       "volume": {
        "dtype": "float32",
        "shape": [
         0
        ]
       },
       "volume_bounds": {
        "dtype": "float32",
        "shape": [
         0
        ]
       },
       "wireframe": false
      }
     },
     "3d1a37dc38244349b05375045b42f24c": {
      "model_module": "@jupyter-widgets/base",
      "model_module_version": "2.0.0",
      "model_name": "LayoutModel",
      "state": {}
     },
     "40c87dc700134484b9a1cbcc75db2afc": {
      "model_module": "k3d",
      "model_module_version": "2.16.1",
      "model_name": "PlotModel",
      "state": {
       "_backend_version": "2.16.1",
       "antialias": 3,
       "auto_rendering": true,
       "axes": [
        "x",
        "y",
        "z"
       ],
       "axes_helper": 1,
       "axes_helper_colors": [
        16711680,
        65280,
        255
       ],
       "background_color": 16777215,
       "camera": [
        1.3779951840024451,
        -2.066992776003668,
        0.6374864351955721,
        0,
        0,
        0.4996869167953264,
        0,
        0,
        1
       ],
       "camera_animation": [],
       "camera_auto_fit": true,
       "camera_damping_factor": 0,
       "camera_fov": 60,
       "camera_mode": "trackball",
       "camera_no_pan": false,
       "camera_no_rotate": false,
       "camera_no_zoom": false,
       "camera_pan_speed": 0.3,
       "camera_rotate_speed": 1,
       "camera_zoom_speed": 1.2,
       "clipping_planes": [],
       "colorbar_object_id": -1,
       "colorbar_scientific": false,
       "custom_data": null,
       "fps": 25,
       "fps_meter": false,
       "grid": [
        -1,
        -1,
        -1,
        1,
        1,
        1
       ],
       "grid_auto_fit": true,
       "grid_color": 15132390,
       "grid_visible": true,
       "height": 512,
       "label_color": 4473924,
       "layout": "IPY_MODEL_24188573462849adb97e647060ce87d4",
       "lighting": 3,
       "logarithmic_depth_buffer": true,
       "manipulate_mode": "translate",
       "menu_visibility": true,
       "minimum_fps": -1,
       "mode": "view",
       "name": null,
       "object_ids": [
        2020563382112
       ],
       "rendering_steps": 1,
       "screenshot": "",
       "screenshot_scale": 2,
       "snapshot": "",
       "snapshot_type": "full",
       "time": 0,
       "voxel_paint_color": 0
      }
     },
     "42979e639a0240269248a7a9cd3debb7": {
      "buffers": [
       {
        "data": "",
        "encoding": "base64",
        "path": [
         "attribute",
         "data"
        ]
       },
       {
        "data": "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",
        "encoding": "base64",
        "path": [
         "color_map",
         "data"
        ]
       },
       {
        "data": "",
        "encoding": "base64",
        "path": [
         "colors",
         "data"
        ]
       },
       {
        "data": "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",
        "encoding": "base64",
        "path": [
         "indices",
         "data"
        ]
       },
       {
        "data": "AACAPwAAAAAAAAAAAAAAAAAAAAAAAIA/AAAAAAAAAAAAAAAAAAAAAAAAgD8AAAAAAAAAAAAAAAAAAAAAAACAPw==",
        "encoding": "base64",
        "path": [
         "model_matrix",
         "data"
        ]
       },
       {
        "data": "",
        "encoding": "base64",
        "path": [
         "normals",
         "data"
        ]
       },
       {
        "data": "",
        "encoding": "base64",
        "path": [
         "opacity_function",
         "data"
        ]
       },
       {
        "data": "",
        "encoding": "base64",
        "path": [
         "triangles_attribute",
         "data"
        ]
       },
       {
        "data": "AADAfw==",
        "encoding": "base64",
        "path": [
         "uvs",
         "data"
        ]
       },
       {
        "data": "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",
        "encoding": "base64",
        "path": [
         "vertices",
         "data"
        ]
       },
       {
        "data": "",
        "encoding": "base64",
        "path": [
         "volume",
         "data"
        ]
       },
       {
        "data": "",
        "encoding": "base64",
        "path": [
         "volume_bounds",
         "data"
        ]
       }
      ],
      "model_module": "k3d",
      "model_module_version": "2.16.1",
      "model_name": "ObjectModel",
      "state": {
       "_view_module": null,
       "_view_module_version": "",
       "_view_name": null,
       "attribute": {
        "dtype": "float32",
        "shape": [
         0
        ]
       },
       "click_callback": false,
       "color": 3302400,
       "colorLegend": false,
       "color_map": {
        "dtype": "float32",
        "shape": [
         1024
        ]
       },
       "color_range": [],
       "colors": {
        "dtype": "uint32",
        "shape": [
         0
        ]
       },
       "compression_level": 0,
       "custom_data": null,
       "flat_shading": true,
       "group": null,
       "hover_callback": false,
       "id": 2020595852176,
       "indices": {
        "dtype": "uint32",
        "shape": [
         193,
         3
        ]
       },
       "model_matrix": {
        "dtype": "float32",
        "shape": [
         4,
         4
        ]
       },
       "name": "Mesh #1",
       "normals": {
        "dtype": "float32",
        "shape": [
         0
        ]
       },
       "opacity": 1,
       "opacity_function": {
        "dtype": "float32",
        "shape": [
         0
        ]
       },
       "side": "front",
       "texture": null,
       "texture_file_format": null,
       "triangles_attribute": {
        "dtype": "float32",
        "shape": [
         0
        ]
       },
       "type": "Mesh",
       "uvs": {
        "dtype": "float32",
        "shape": []
       },
       "vertices": {
        "dtype": "float32",
        "shape": [
         196,
         3
        ]
       },
       "visible": true,
       "volume": {
        "dtype": "float32",
        "shape": [
         0
        ]
       },
       "volume_bounds": {
        "dtype": "float32",
        "shape": [
         0
        ]
       },
       "wireframe": false
      }
     },
     "43f725456d004da18cef5938abd069f5": {
      "buffers": [
       {
        "data": "",
        "encoding": "base64",
        "path": [
         "attribute",
         "data"
        ]
       },
       {
        "data": "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",
        "encoding": "base64",
        "path": [
         "color_map",
         "data"
        ]
       },
       {
        "data": "",
        "encoding": "base64",
        "path": [
         "colors",
         "data"
        ]
       },
       {
        "data": "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",
        "encoding": "base64",
        "path": [
         "indices",
         "data"
        ]
       },
       {
        "data": "AACAPwAAAAAAAAAAAAAAAAAAAAAAAIA/AAAAAAAAAAAAAAAAAAAAAAAAgD8AAAAAAAAAAAAAAAAAAAAAAACAPw==",
        "encoding": "base64",
        "path": [
         "model_matrix",
         "data"
        ]
       },
       {
        "data": "",
        "encoding": "base64",
        "path": [
         "normals",
         "data"
        ]
       },
       {
        "data": "",
        "encoding": "base64",
        "path": [
         "opacity_function",
         "data"
        ]
       },
       {
        "data": "",
        "encoding": "base64",
        "path": [
         "triangles_attribute",
         "data"
        ]
       },
       {
        "data": "AADAfw==",
        "encoding": "base64",
        "path": [
         "uvs",
         "data"
        ]
       },
       {
        "data": "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",
        "encoding": "base64",
        "path": [
         "vertices",
         "data"
        ]
       },
       {
        "data": "",
        "encoding": "base64",
        "path": [
         "volume",
         "data"
        ]
       },
       {
        "data": "",
        "encoding": "base64",
        "path": [
         "volume_bounds",
         "data"
        ]
       }
      ],
      "model_module": "k3d",
      "model_module_version": "2.16.1",
      "model_name": "ObjectModel",
      "state": {
       "_view_module": null,
       "_view_module_version": "",
       "_view_name": null,
       "attribute": {
        "dtype": "float32",
        "shape": [
         0
        ]
       },
       "click_callback": false,
       "color": 3302400,
       "colorLegend": false,
       "color_map": {
        "dtype": "float32",
        "shape": [
         1024
        ]
       },
       "color_range": [],
       "colors": {
        "dtype": "uint32",
        "shape": [
         0
        ]
       },
       "compression_level": 0,
       "custom_data": null,
       "flat_shading": true,
       "group": null,
       "hover_callback": false,
       "id": 2020562862400,
       "indices": {
        "dtype": "uint32",
        "shape": [
         193,
         3
        ]
       },
       "model_matrix": {
        "dtype": "float32",
        "shape": [
         4,
         4
        ]
       },
       "name": "Mesh #1",
       "normals": {
        "dtype": "float32",
        "shape": [
         0
        ]
       },
       "opacity": 1,
       "opacity_function": {
        "dtype": "float32",
        "shape": [
         0
        ]
       },
       "side": "front",
       "texture": null,
       "texture_file_format": null,
       "triangles_attribute": {
        "dtype": "float32",
        "shape": [
         0
        ]
       },
       "type": "Mesh",
       "uvs": {
        "dtype": "float32",
        "shape": []
       },
       "vertices": {
        "dtype": "float32",
        "shape": [
         196,
         3
        ]
       },
       "visible": true,
       "volume": {
        "dtype": "float32",
        "shape": [
         0
        ]
       },
       "volume_bounds": {
        "dtype": "float32",
        "shape": [
         0
        ]
       },
       "wireframe": false
      }
     },
     "4491a46ef99e4c64bda72db9b465a5f7": {
      "buffers": [
       {
        "data": "",
        "encoding": "base64",
        "path": [
         "attribute",
         "data"
        ]
       },
       {
        "data": "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",
        "encoding": "base64",
        "path": [
         "color_map",
         "data"
        ]
       },
       {
        "data": "",
        "encoding": "base64",
        "path": [
         "colors",
         "data"
        ]
       },
       {
        "data": "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",
        "encoding": "base64",
        "path": [
         "indices",
         "data"
        ]
       },
       {
        "data": "AACAPwAAAAAAAAAAAAAAAAAAAAAAAIA/AAAAAAAAAAAAAAAAAAAAAAAAgD8AAAAAAAAAAAAAAAAAAAAAAACAPw==",
        "encoding": "base64",
        "path": [
         "model_matrix",
         "data"
        ]
       },
       {
        "data": "",
        "encoding": "base64",
        "path": [
         "normals",
         "data"
        ]
       },
       {
        "data": "",
        "encoding": "base64",
        "path": [
         "opacity_function",
         "data"
        ]
       },
       {
        "data": "",
        "encoding": "base64",
        "path": [
         "triangles_attribute",
         "data"
        ]
       },
       {
        "data": "AADAfw==",
        "encoding": "base64",
        "path": [
         "uvs",
         "data"
        ]
       },
       {
        "data": "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",
        "encoding": "base64",
        "path": [
         "vertices",
         "data"
        ]
       },
       {
        "data": "",
        "encoding": "base64",
        "path": [
         "volume",
         "data"
        ]
       },
       {
        "data": "",
        "encoding": "base64",
        "path": [
         "volume_bounds",
         "data"
        ]
       }
      ],
      "model_module": "k3d",
      "model_module_version": "2.16.1",
      "model_name": "ObjectModel",
      "state": {
       "_view_module": null,
       "_view_module_version": "",
       "_view_name": null,
       "attribute": {
        "dtype": "float32",
        "shape": [
         0
        ]
       },
       "click_callback": false,
       "color": 5263440,
       "colorLegend": false,
       "color_map": {
        "dtype": "float32",
        "shape": [
         1024
        ]
       },
       "color_range": [],
       "colors": {
        "dtype": "uint32",
        "shape": [
         0
        ]
       },
       "compression_level": 0,
       "custom_data": null,
       "flat_shading": true,
       "group": null,
       "hover_callback": false,
       "id": 2020595856304,
       "indices": {
        "dtype": "uint32",
        "shape": [
         201,
         3
        ]
       },
       "model_matrix": {
        "dtype": "float32",
        "shape": [
         4,
         4
        ]
       },
       "name": "Mesh #1",
       "normals": {
        "dtype": "float32",
        "shape": [
         0
        ]
       },
       "opacity": 1,
       "opacity_function": {
        "dtype": "float32",
        "shape": [
         0
        ]
       },
       "side": "front",
       "texture": null,
       "texture_file_format": null,
       "triangles_attribute": {
        "dtype": "float32",
        "shape": [
         0
        ]
       },
       "type": "Mesh",
       "uvs": {
        "dtype": "float32",
        "shape": []
       },
       "vertices": {
        "dtype": "float32",
        "shape": [
         202,
         3
        ]
       },
       "visible": true,
       "volume": {
        "dtype": "float32",
        "shape": [
         0
        ]
       },
       "volume_bounds": {
        "dtype": "float32",
        "shape": [
         0
        ]
       },
       "wireframe": false
      }
     },
     "4c57bcd68c074b02bfee9d9d324f628a": {
      "model_module": "@jupyter-widgets/base",
      "model_module_version": "2.0.0",
      "model_name": "LayoutModel",
      "state": {}
     },
     "6115c9ec38224da9a6b4ba42982575c9": {
      "model_module": "@jupyter-widgets/base",
      "model_module_version": "2.0.0",
      "model_name": "LayoutModel",
      "state": {}
     },
     "655c126c0d4248bfa083221700dcfd49": {
      "model_module": "k3d",
      "model_module_version": "2.16.1",
      "model_name": "PlotModel",
      "state": {
       "_backend_version": "2.16.1",
       "antialias": 3,
       "auto_rendering": true,
       "axes": [
        "x",
        "y",
        "z"
       ],
       "axes_helper": 1,
       "axes_helper_colors": [
        16711680,
        65280,
        255
       ],
       "background_color": 16777215,
       "camera": [
        0.8401610685018219,
        -1.747076153494793,
        0.08314348656190029,
        0.008726202882826321,
        -0.49992385506629944,
        0,
        0,
        0,
        1
       ],
       "camera_animation": [],
       "camera_auto_fit": true,
       "camera_damping_factor": 0,
       "camera_fov": 60,
       "camera_mode": "trackball",
       "camera_no_pan": false,
       "camera_no_rotate": false,
       "camera_no_zoom": false,
       "camera_pan_speed": 0.3,
       "camera_rotate_speed": 1,
       "camera_zoom_speed": 1.2,
       "clipping_planes": [],
       "colorbar_object_id": -1,
       "colorbar_scientific": false,
       "custom_data": null,
       "fps": 25,
       "fps_meter": false,
       "grid": [
        -1,
        -1,
        -1,
        1,
        1,
        1
       ],
       "grid_auto_fit": true,
       "grid_color": 15132390,
       "grid_visible": true,
       "height": 512,
       "label_color": 4473924,
       "layout": "IPY_MODEL_e455b41f878249ba99f7b0efb67a87a1",
       "lighting": 3,
       "logarithmic_depth_buffer": true,
       "manipulate_mode": "translate",
       "menu_visibility": true,
       "minimum_fps": -1,
       "mode": "view",
       "name": null,
       "object_ids": [
        2020595871248
       ],
       "rendering_steps": 1,
       "screenshot": "",
       "screenshot_scale": 2,
       "snapshot": "",
       "snapshot_type": "full",
       "time": 0,
       "voxel_paint_color": 0
      }
     },
     "66627a3242074ed285847cef341f14f3": {
      "buffers": [
       {
        "data": "",
        "encoding": "base64",
        "path": [
         "attribute",
         "data"
        ]
       },
       {
        "data": "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",
        "encoding": "base64",
        "path": [
         "color_map",
         "data"
        ]
       },
       {
        "data": "",
        "encoding": "base64",
        "path": [
         "colors",
         "data"
        ]
       },
       {
        "data": "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",
        "encoding": "base64",
        "path": [
         "indices",
         "data"
        ]
       },
       {
        "data": "AACAPwAAAAAAAAAAAAAAAAAAAAAAAIA/AAAAAAAAAAAAAAAAAAAAAAAAgD8AAAAAAAAAAAAAAAAAAAAAAACAPw==",
        "encoding": "base64",
        "path": [
         "model_matrix",
         "data"
        ]
       },
       {
        "data": "",
        "encoding": "base64",
        "path": [
         "normals",
         "data"
        ]
       },
       {
        "data": "",
        "encoding": "base64",
        "path": [
         "opacity_function",
         "data"
        ]
       },
       {
        "data": "",
        "encoding": "base64",
        "path": [
         "triangles_attribute",
         "data"
        ]
       },
       {
        "data": "AADAfw==",
        "encoding": "base64",
        "path": [
         "uvs",
         "data"
        ]
       },
       {
        "data": "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",
        "encoding": "base64",
        "path": [
         "vertices",
         "data"
        ]
       },
       {
        "data": "",
        "encoding": "base64",
        "path": [
         "volume",
         "data"
        ]
       },
       {
        "data": "",
        "encoding": "base64",
        "path": [
         "volume_bounds",
         "data"
        ]
       }
      ],
      "model_module": "k3d",
      "model_module_version": "2.16.1",
      "model_name": "ObjectModel",
      "state": {
       "_view_module": null,
       "_view_module_version": "",
       "_view_name": null,
       "attribute": {
        "dtype": "float32",
        "shape": [
         0
        ]
       },
       "click_callback": false,
       "color": 3302400,
       "colorLegend": false,
       "color_map": {
        "dtype": "float32",
        "shape": [
         1024
        ]
       },
       "color_range": [],
       "colors": {
        "dtype": "uint32",
        "shape": [
         0
        ]
       },
       "compression_level": 0,
       "custom_data": null,
       "flat_shading": true,
       "group": null,
       "hover_callback": false,
       "id": 2020563655936,
       "indices": {
        "dtype": "uint32",
        "shape": [
         193,
         3
        ]
       },
       "model_matrix": {
        "dtype": "float32",
        "shape": [
         4,
         4
        ]
       },
       "name": "Mesh #1",
       "normals": {
        "dtype": "float32",
        "shape": [
         0
        ]
       },
       "opacity": 1,
       "opacity_function": {
        "dtype": "float32",
        "shape": [
         0
        ]
       },
       "side": "front",
       "texture": null,
       "texture_file_format": null,
       "triangles_attribute": {
        "dtype": "float32",
        "shape": [
         0
        ]
       },
       "type": "Mesh",
       "uvs": {
        "dtype": "float32",
        "shape": []
       },
       "vertices": {
        "dtype": "float32",
        "shape": [
         196,
         3
        ]
       },
       "visible": true,
       "volume": {
        "dtype": "float32",
        "shape": [
         0
        ]
       },
       "volume_bounds": {
        "dtype": "float32",
        "shape": [
         0
        ]
       },
       "wireframe": false
      }
     },
     "673530e643334e5082c0493b2760f7d6": {
      "model_module": "@jupyter-widgets/base",
      "model_module_version": "2.0.0",
      "model_name": "LayoutModel",
      "state": {}
     },
     "69eed82c9dd8411988f09dc4830882e2": {
      "model_module": "k3d",
      "model_module_version": "2.16.1",
      "model_name": "PlotModel",
      "state": {
       "_backend_version": "2.16.1",
       "antialias": 3,
       "auto_rendering": true,
       "axes": [
        "x",
        "y",
        "z"
       ],
       "axes_helper": 1,
       "axes_helper_colors": [
        16711680,
        65280,
        255
       ],
       "background_color": 16777215,
       "camera": [
        4.41041981519351,
        -22.13201324455277,
        10.607637510858932,
        0.7946951389312744,
        0,
        7.425567150115967,
        0.21198784040949323,
        0.11744217090162162,
        0.9701899257425979
       ],
       "camera_animation": [],
       "camera_auto_fit": true,
       "camera_damping_factor": 0,
       "camera_fov": 60,
       "camera_mode": "trackball",
       "camera_no_pan": false,
       "camera_no_rotate": false,
       "camera_no_zoom": false,
       "camera_pan_speed": 0.3,
       "camera_rotate_speed": 1,
       "camera_zoom_speed": 1.2,
       "clipping_planes": [],
       "colorbar_object_id": -1,
       "colorbar_scientific": false,
       "custom_data": null,
       "fps": 25,
       "fps_meter": false,
       "grid": [
        -1,
        -1,
        -1,
        1,
        1,
        1
       ],
       "grid_auto_fit": true,
       "grid_color": 15132390,
       "grid_visible": true,
       "height": 512,
       "label_color": 4473924,
       "layout": "IPY_MODEL_1ab4ffa18caf4bb082bad707e3540d62",
       "lighting": 3,
       "logarithmic_depth_buffer": true,
       "manipulate_mode": "translate",
       "menu_visibility": true,
       "minimum_fps": -1,
       "mode": "view",
       "name": null,
       "object_ids": [
        2020591968448
       ],
       "rendering_steps": 1,
       "screenshot": "",
       "screenshot_scale": 2,
       "snapshot": "",
       "snapshot_type": "full",
       "time": 0,
       "voxel_paint_color": 0
      }
     },
     "6acf39fd1bb54cf28a2d04e494e30ef9": {
      "model_module": "@jupyter-widgets/base",
      "model_module_version": "2.0.0",
      "model_name": "LayoutModel",
      "state": {}
     },
     "6bd5659bca434362aedf102c70036fe5": {
      "model_module": "@jupyter-widgets/base",
      "model_module_version": "2.0.0",
      "model_name": "LayoutModel",
      "state": {}
     },
     "6c5ba3e5a7934d14a503964dc0a56e8b": {
      "model_module": "@jupyter-widgets/base",
      "model_module_version": "2.0.0",
      "model_name": "LayoutModel",
      "state": {}
     },
     "7915c6edf6e54c679f0befc84ea53d28": {
      "buffers": [
       {
        "data": "",
        "encoding": "base64",
        "path": [
         "attribute",
         "data"
        ]
       },
       {
        "data": "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",
        "encoding": "base64",
        "path": [
         "color_map",
         "data"
        ]
       },
       {
        "data": "",
        "encoding": "base64",
        "path": [
         "colors",
         "data"
        ]
       },
       {
        "data": "AAAAAGIAAABjAAAAAQAAAGMAAABkAAAAAgAAAGQAAABlAAAAAwAAAGUAAABmAAAABAAAAGYAAABnAAAABQAAAGcAAABoAAAABgAAAGgAAABpAAAABwAAAGkAAABqAAAACAAAAGoAAABrAAAACQAAAGsAAABsAAAACgAAAGwAAABtAAAACwAAAG0AAABuAAAADAAAAG4AAABvAAAADQAAAG8AAABwAAAADgAAAHAAAABxAAAADwAAAHEAAAByAAAAEAAAAHIAAABzAAAAEQAAAHMAAAB0AAAAEgAAAHQAAAB1AAAAEwAAAHUAAAB2AAAAFAAAAHYAAAB3AAAAFQAAAHcAAAB4AAAAFgAAAHgAAAB5AAAAFwAAAHkAAAB6AAAAGAAAAHoAAAB7AAAAGQAAAHsAAAB8AAAAGgAAAHwAAAB9AAAAGwAAAH0AAAB+AAAAHAAAAH4AAAB/AAAAHQAAAH8AAACAAAAAHgAAAIAAAACBAAAAHwAAAIEAAACCAAAAIAAAAIIAAACDAAAAIQAAAIMAAACEAAAAIgAAAIQAAACFAAAAIwAAAIUAAACGAAAAJAAAAIYAAACHAAAAJQAAAIcAAACIAAAAJgAAAIgAAACJAAAAJwAAAIkAAACKAAAAKAAAAIoAAACLAAAAKQAAAIsAAACMAAAAKgAAAIwAAACNAAAAKwAAAI0AAACOAAAALAAAAI4AAACPAAAALQAAAI8AAACQAAAALgAAAJAAAACRAAAALwAAAJEAAACSAAAAMAAAAJIAAACTAAAAMQAAAJMAAACUAAAAMgAAAJQAAACVAAAAMwAAAJUAAACWAAAANAAAAJYAAACXAAAANQAAAJcAAACYAAAANgAAAJgAAACZAAAANwAAAJkAAACaAAAAOAAAAJoAAACbAAAAOQAAAJsAAACcAAAAOgAAAJwAAACdAAAAOwAAAJ0AAACeAAAAPAAAAJ4AAACfAAAAPQAAAJ8AAACgAAAAPgAAAKAAAAChAAAAPwAAAKEAAACiAAAAQAAAAKIAAACjAAAAQQAAAKMAAACkAAAAQgAAAKQAAAClAAAAQwAAAKUAAACmAAAARAAAAKYAAACnAAAARQAAAKcAAACoAAAARgAAAKgAAACpAAAARwAAAKkAAACqAAAASAAAAKoAAACrAAAASQAAAKsAAACsAAAASgAAAKwAAACtAAAASwAAAK0AAACuAAAATAAAAK4AAACvAAAATQAAAK8AAACwAAAATgAAALAAAACxAAAATwAAALEAAACyAAAAUAAAALIAAACzAAAAUQAAALMAAAC0AAAAUgAAALQAAAC1AAAAUwAAALUAAAC2AAAAVAAAALYAAAC3AAAAVQAAALcAAAC4AAAAVgAAALgAAAC5AAAAVwAAALkAAAC6AAAAWAAAALoAAAC7AAAAWQAAALsAAAC8AAAAWgAAALwAAAC9AAAAWwAAAL0AAAC+AAAAXAAAAL4AAAC/AAAAXQAAAL8AAADAAAAAXgAAAMAAAADBAAAAXwAAAMEAAADCAAAAAAAAAGMAAAABAAAAAQAAAGQAAAACAAAAAgAAAGUAAAADAAAAAwAAAGYAAAAEAAAABAAAAGcAAAAFAAAABQAAAGgAAAAGAAAABgAAAGkAAAAHAAAABwAAAGoAAAAIAAAACAAAAGsAAAAJAAAACQAAAGwAAAAKAAAACgAAAG0AAAALAAAACwAAAG4AAAAMAAAADAAAAG8AAAANAAAADQAAAHAAAAAOAAAADgAAAHEAAAAPAAAADwAAAHIAAAAQAAAAEAAAAHMAAAARAAAAEQAAAHQAAAASAAAAEgAAAHUAAAATAAAAEwAAAHYAAAAUAAAAFAAAAHcAAAAVAAAAFQAAAHgAAAAWAAAAFgAAAHkAAAAXAAAAFwAAAHoAAAAYAAAAGAAAAHsAAAAZAAAAGQAAAHwAAAAaAAAAGgAAAH0AAAAbAAAAGwAAAH4AAAAcAAAAHAAAAH8AAAAdAAAAHQAAAIAAAAAeAAAAHgAAAIEAAAAfAAAAHwAAAIIAAAAgAAAAIAAAAIMAAAAhAAAAIQAAAIQAAAAiAAAAIgAAAIUAAAAjAAAAIwAAAIYAAAAkAAAAJAAAAIcAAAAlAAAAJQAAAIgAAAAmAAAAJgAAAIkAAAAnAAAAJwAAAIoAAAAoAAAAKAAAAIsAAAApAAAAKQAAAIwAAAAqAAAAKgAAAI0AAAArAAAAKwAAAI4AAAAsAAAALAAAAI8AAAAtAAAALQAAAJAAAAAuAAAALgAAAJEAAAAvAAAALwAAAJIAAAAwAAAAMAAAAJMAAAAxAAAAMQAAAJQAAAAyAAAAMgAAAJUAAAAzAAAAMwAAAJYAAAA0AAAANAAAAJcAAAA1AAAANQAAAJgAAAA2AAAANgAAAJkAAAA3AAAANwAAAJoAAAA4AAAAOAAAAJsAAAA5AAAAOQAAAJwAAAA6AAAAOgAAAJ0AAAA7AAAAOwAAAJ4AAAA8AAAAPAAAAJ8AAAA9AAAAPQAAAKAAAAA+AAAAPgAAAKEAAAA/AAAAPwAAAKIAAABAAAAAQAAAAKMAAABBAAAAQQAAAKQAAABCAAAAQgAAAKUAAABDAAAAQwAAAKYAAABEAAAARAAAAKcAAABFAAAARQAAAKgAAABGAAAARgAAAKkAAABHAAAARwAAAKoAAABIAAAASAAAAKsAAABJAAAASQAAAKwAAABKAAAASgAAAK0AAABLAAAASwAAAK4AAABMAAAATAAAAK8AAABNAAAATQAAALAAAABOAAAATgAAALEAAABPAAAATwAAALIAAABQAAAAUAAAALMAAABRAAAAUQAAALQAAABSAAAAUgAAALUAAABTAAAAUwAAALYAAABUAAAAVAAAALcAAABVAAAAVQAAALgAAABWAAAAVgAAALkAAABXAAAAVwAAALoAAABYAAAAWAAAALsAAABZAAAAWQAAALwAAABaAAAAWgAAAL0AAABbAAAAWwAAAL4AAABcAAAAXAAAAL8AAABdAAAAXQAAAMAAAABeAAAAXgAAAMEAAABfAAAAXwAAAMIAAABgAAAAYAAAAMIAAADDAAAA",
        "encoding": "base64",
        "path": [
         "indices",
         "data"
        ]
       },
       {
        "data": "AACAPwAAAAAAAAAAAAAAAAAAAAAAAIA/AAAAAAAAAAAAAAAAAAAAAAAAgD8AAAAAAAAAAAAAAAAAAAAAAACAPw==",
        "encoding": "base64",
        "path": [
         "model_matrix",
         "data"
        ]
       },
       {
        "data": "",
        "encoding": "base64",
        "path": [
         "normals",
         "data"
        ]
       },
       {
        "data": "",
        "encoding": "base64",
        "path": [
         "opacity_function",
         "data"
        ]
       },
       {
        "data": "",
        "encoding": "base64",
        "path": [
         "triangles_attribute",
         "data"
        ]
       },
       {
        "data": "AADAfw==",
        "encoding": "base64",
        "path": [
         "uvs",
         "data"
        ]
       },
       {
        "data": "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",
        "encoding": "base64",
        "path": [
         "vertices",
         "data"
        ]
       },
       {
        "data": "",
        "encoding": "base64",
        "path": [
         "volume",
         "data"
        ]
       },
       {
        "data": "",
        "encoding": "base64",
        "path": [
         "volume_bounds",
         "data"
        ]
       }
      ],
      "model_module": "k3d",
      "model_module_version": "2.16.1",
      "model_name": "ObjectModel",
      "state": {
       "_view_module": null,
       "_view_module_version": "",
       "_view_name": null,
       "attribute": {
        "dtype": "float32",
        "shape": [
         0
        ]
       },
       "click_callback": false,
       "color": 3302400,
       "colorLegend": false,
       "color_map": {
        "dtype": "float32",
        "shape": [
         1024
        ]
       },
       "color_range": [],
       "colors": {
        "dtype": "uint32",
        "shape": [
         0
        ]
       },
       "compression_level": 0,
       "custom_data": null,
       "flat_shading": true,
       "group": null,
       "hover_callback": false,
       "id": 2020595570000,
       "indices": {
        "dtype": "uint32",
        "shape": [
         193,
         3
        ]
       },
       "model_matrix": {
        "dtype": "float32",
        "shape": [
         4,
         4
        ]
       },
       "name": "Mesh #1",
       "normals": {
        "dtype": "float32",
        "shape": [
         0
        ]
       },
       "opacity": 1,
       "opacity_function": {
        "dtype": "float32",
        "shape": [
         0
        ]
       },
       "side": "front",
       "texture": null,
       "texture_file_format": null,
       "triangles_attribute": {
        "dtype": "float32",
        "shape": [
         0
        ]
       },
       "type": "Mesh",
       "uvs": {
        "dtype": "float32",
        "shape": []
       },
       "vertices": {
        "dtype": "float32",
        "shape": [
         196,
         3
        ]
       },
       "visible": true,
       "volume": {
        "dtype": "float32",
        "shape": [
         0
        ]
       },
       "volume_bounds": {
        "dtype": "float32",
        "shape": [
         0
        ]
       },
       "wireframe": false
      }
     },
     "7a20ee937a2c4890af5d6798ecc8c936": {
      "model_module": "@jupyter-widgets/base",
      "model_module_version": "2.0.0",
      "model_name": "LayoutModel",
      "state": {}
     },
     "7c70b1684c1447bbaa893842d04a85e7": {
      "model_module": "k3d",
      "model_module_version": "2.16.1",
      "model_name": "PlotModel",
      "state": {
       "_backend_version": "2.16.1",
       "antialias": 3,
       "auto_rendering": true,
       "axes": [
        "x",
        "y",
        "z"
       ],
       "axes_helper": 1,
       "axes_helper_colors": [
        16711680,
        65280,
        255
       ],
       "background_color": 16777215,
       "camera": [
        1.5003568464458332,
        0.34362420268990884,
        -0.06476165880227792,
        0.008726202882826321,
        0.49992385506629944,
        0,
        0.10016249969533295,
        0.011711175339857693,
        0.994902167063143
       ],
       "camera_animation": [],
       "camera_auto_fit": true,
       "camera_damping_factor": 0,
       "camera_fov": 60,
       "camera_mode": "trackball",
       "camera_no_pan": false,
       "camera_no_rotate": false,
       "camera_no_zoom": false,
       "camera_pan_speed": 0.3,
       "camera_rotate_speed": 1,
       "camera_zoom_speed": 1.2,
       "clipping_planes": [],
       "colorbar_object_id": -1,
       "colorbar_scientific": false,
       "custom_data": null,
       "fps": 25,
       "fps_meter": false,
       "grid": [
        -1,
        -1,
        -1,
        1,
        1,
        1
       ],
       "grid_auto_fit": true,
       "grid_color": 15132390,
       "grid_visible": false,
       "height": 512,
       "label_color": 4473924,
       "layout": "IPY_MODEL_b96a855186e743aa813316cbff5ffd92",
       "lighting": 3,
       "logarithmic_depth_buffer": true,
       "manipulate_mode": "translate",
       "menu_visibility": true,
       "minimum_fps": -1,
       "mode": "view",
       "name": null,
       "object_ids": [
        2020595570000
       ],
       "rendering_steps": 1,
       "screenshot": "",
       "screenshot_scale": 2,
       "snapshot": "",
       "snapshot_type": "full",
       "time": 0,
       "voxel_paint_color": 0
      }
     },
     "811064a7f0c249f6a3f429a9fe707cf3": {
      "model_module": "k3d",
      "model_module_version": "2.16.1",
      "model_name": "PlotModel",
      "state": {
       "_backend_version": "2.16.1",
       "antialias": 3,
       "auto_rendering": true,
       "axes": [
        "x",
        "y",
        "z"
       ],
       "axes_helper": 1,
       "axes_helper_colors": [
        16711680,
        65280,
        255
       ],
       "background_color": 16777215,
       "camera": [
        1.567659231122556,
        -2.112063598969522,
        1.2719818252298092,
        0,
        0,
        0.4996869167953264,
        -0.13283281026330862,
        0.185532614290789,
        0.9736185564952922
       ],
       "camera_animation": [],
       "camera_auto_fit": true,
       "camera_damping_factor": 0,
       "camera_fov": 60,
       "camera_mode": "trackball",
       "camera_no_pan": false,
       "camera_no_rotate": false,
       "camera_no_zoom": false,
       "camera_pan_speed": 0.3,
       "camera_rotate_speed": 1,
       "camera_zoom_speed": 1.2,
       "clipping_planes": [],
       "colorbar_object_id": -1,
       "colorbar_scientific": false,
       "custom_data": null,
       "fps": 25,
       "fps_meter": false,
       "grid": [
        -1,
        -1,
        -1,
        1,
        1,
        1
       ],
       "grid_auto_fit": true,
       "grid_color": 15132390,
       "grid_visible": true,
       "height": 512,
       "label_color": 4473924,
       "layout": "IPY_MODEL_adb5bcbd08214b6e889301ef58ec9442",
       "lighting": 3,
       "logarithmic_depth_buffer": true,
       "manipulate_mode": "translate",
       "menu_visibility": true,
       "minimum_fps": -1,
       "mode": "view",
       "name": null,
       "object_ids": [
        2020595846512
       ],
       "rendering_steps": 1,
       "screenshot": "",
       "screenshot_scale": 2,
       "snapshot": "",
       "snapshot_type": "full",
       "time": 0,
       "voxel_paint_color": 0
      }
     },
     "83608c3eebd54b99a21ddded4fee91dd": {
      "model_module": "k3d",
      "model_module_version": "2.16.1",
      "model_name": "PlotModel",
      "state": {
       "_backend_version": "2.16.1",
       "antialias": 3,
       "auto_rendering": true,
       "axes": [
        "x",
        "y",
        "z"
       ],
       "axes_helper": 1,
       "axes_helper_colors": [
        16711680,
        65280,
        255
       ],
       "background_color": 16777215,
       "camera": [
        1.4870736057508536,
        0.2860279411806289,
        -0.1494092535835364,
        0.008726202882826321,
        0.49992385506629944,
        0,
        0.15803530744153552,
        0.013887573493711603,
        0.9873357974389038
       ],
       "camera_animation": [],
       "camera_auto_fit": true,
       "camera_damping_factor": 0,
       "camera_fov": 60,
       "camera_mode": "trackball",
       "camera_no_pan": false,
       "camera_no_rotate": false,
       "camera_no_zoom": false,
       "camera_pan_speed": 0.3,
       "camera_rotate_speed": 1,
       "camera_zoom_speed": 1.2,
       "clipping_planes": [],
       "colorbar_object_id": -1,
       "colorbar_scientific": false,
       "custom_data": null,
       "fps": 25,
       "fps_meter": false,
       "grid": [
        -1,
        -1,
        -1,
        1,
        1,
        1
       ],
       "grid_auto_fit": true,
       "grid_color": 15132390,
       "grid_visible": true,
       "height": 512,
       "label_color": 4473924,
       "layout": "IPY_MODEL_4c57bcd68c074b02bfee9d9d324f628a",
       "lighting": 3,
       "logarithmic_depth_buffer": true,
       "manipulate_mode": "translate",
       "menu_visibility": true,
       "minimum_fps": -1,
       "mode": "view",
       "name": null,
       "object_ids": [
        2020563655936
       ],
       "rendering_steps": 1,
       "screenshot": "",
       "screenshot_scale": 2,
       "snapshot": "",
       "snapshot_type": "full",
       "time": 0,
       "voxel_paint_color": 0
      }
     },
     "85e161058e91427992a7f334d2e31823": {
      "model_module": "@jupyter-widgets/base",
      "model_module_version": "2.0.0",
      "model_name": "LayoutModel",
      "state": {}
     },
     "86b26a244e0d40f6a79feaaada00ddb5": {
      "buffers": [
       {
        "data": "",
        "encoding": "base64",
        "path": [
         "attribute",
         "data"
        ]
       },
       {
        "data": "AAAAAKabxDpvEgM607xjPCSXfzuZuxY7w2SqOgdfmDwkl/870ERYO+AtEDsUP8Y8ylRBPLx0kzuJ0l47/yH9PEmdgDymm8Q7dQKaOwkbHj0ukKA8SFD8O4LixztbsT89EoPAPFJJHTxIUPw7irBhPa5H4TxbsT88dQIaPEoMgj1JnQA9QmBlPDSANzxPQJM9vJYQPbn8hzxioVY8VHSkPS6QID3A7J48/mV3PMbctT2giTA9NIC3PATnjDw5Rcc97utAPYZa0zwJG548GeLYPWDlUD1F2PA8xSCwPGiz6j3T3mA9cM4IPYEmwjwkufw9RdhwPVFrGj09LNQ8cF8HPtxogD3EQi09+THmPIV8ED4Cmog9NxpAPbU3+DwHzhk+vJaQPYZaUz24HgU9ih8jPnWTmD2wA2c9u7gNPQ1xLD4ukKA9tRV7PeLpFT3G3DU+VcGoPUvIhz0tsh097nw/Pg6+sD0qOpI9nRElPRUdST7Hurg9duCcPVafKz08vVI+gLfAPZ7vpz1XWzE9mndcPjm0yD3F/rI9fa42PfkxZj5g5dA9yXa+PRHHOj2OBnA+GeLYPTojyj3tDT497MB5PtPe4D2GONY9EoNAPaW9gT6M2+g9003iPYEmQj3UmoY+RdjwPWkA7z04+EI96GqLPmwJ+T3/svs9XI9CPeAtkD4SgwA+OGcEPqW9QT2945Q+b4EEPigPCz43GkA9Y3+ZPsx/CD5O0RE+Njw9PdIAnj5fmAw+rK0YPjVeOj3uWqI+vJYQPgmKHz59rjY9uY2mPhiVFD7UmiY+6pUyPUymqj51kxg+n6stPnsULj1yiq4+0ZEcPmq8ND4Mkyk9KjqyPmWqID42zTs+nRElPY/CtT7BqCQ+OPhCPgn5ID1sCbk+HqcoPgMJSj5SSR099ii8PnqlLD7OGVE+dQIaPRIUvz7XozA+mSpYPlCNFz3c18E+arw0Pi0hXz7i6RU9HVrEPse6OD75MWY+KxgVPQu1xj4kuTw+Vg5tPisYFT2n6Mg+gLdAPuoEdD7i6RU98fTKPhTQRD5I4Xo+K/YXPc3MzD5wzkg+t9GAPlFrGj1yis4+zcxMPsoyhD4JGx49xSDQPinLUD7ek4c+nDMiPcWP0T6GyVQ+1eeKPsKGJz2q8dI+GeJYPs07jj6fqy09PSzUPnbgXD7Fj5E+fdAzPZhM1T7T3mA+veOUPhHHOj29UtY+L91kPpkqmD5cj0I9x0vXPsP1aD52cZs+qFdKPZkq2D4f9Gw+NquePs6IUj0179g+fPJwPhPyoT7RIls9tabZPtjwdD7UK6U+07xjPRpR2j4173g+lWWoPrG/bD1I4do+yAd9Plafqz5rK3Y9WmTbPhKDgD4X2a4+SS5/PVHa2z5BgoI+1xKyPgFNhD0tQ9w+b4GEPn0/tT7eAok97Z7cPp2Ahj4+ebg+u7iNPZHt3D7njIg+46W7PgWjkj0bL90+FYyKPqTfvj7iWJc9iGPdPkSLjD5KDMI+LUOcPduK3T5yio4+7zjFPgn5oD0tst0+vJaQPrByyD7mrqU9SL/dPuqVkj5Wn8s+MZmqPWTM3T4YlZQ++8vOPg5Prz1kzN0+RpSWPqH40T7qBLQ9SL/dPnWTmD5GJdU+x7q4PRKl3T6+n5o+7FHYPqRwvT3bit0+7Z6cPqyL2z6BJsI9iGPdPhuenj5SuN4+XdzGPRsv3T5JnaA+9+ThPsxdyz2t+tw+eJyiPp0R5T6pE9A9JLncPsGopD5eS+g+GJXUPX9q3D7wp6Y+A3jrPvVK2T2/Dtw+HqeoPqmk7j5kzN09/7LbPkymqj5O0fE+003iPSNK2z6Wsqw+Dwv1PrAD5z1I4do+xLGuPrU3+D4fhes9NV7aPvKwsD5aZPs+jgbwPT7o2T4hsLI+G57+Pv2H9D0QWNk+T6+0PmDlAD9sCfk948fYPpm7tj6zewI/24r9PZkq2D7Hurg+kxgEPyUGAT40gNc+9bm6PuauBT+lLAM+tMjWPiS5vD45RQc/XW0FPjQR1j5SuL4+GeIIPxSuBz60WdU+nMTAPmx4Cj/M7gk+/YfUPsrDwj5NFQw/gy8MPka20z74wsQ+n6sNPztwDj5z19I+J8LGPvJBDz/ysBA+ofjRPnDOyD7T3hA/4QsTPrMM0T6fzco+JXUSP5hMFT6pE9A+zczMPngLFD9QjRc+hA3PPvvLzj7LoRU/PugZPl8Hzj4py9A+HTgXPy1DHD4f9Mw+c9fSPnDOGD/kgx4+w9PLPqHW1D7DZBo/CfkgPmizyj7Q1dY+FvsbP/hTIz7whck+/tTYPmiRHT/mriU+XkvIPkjh2j67Jx8/CyQoPssQxz524Nw+gLcgPzGZKj4dycU+pN/ePtNNIj9WDi0+VHTEPtPe4D6Y3SM/e4MvPoofwz4B3uI+63MlP9cSMj6lvcE+S+rkPrADJz80ojQ+pU7APnnp5j51kyg/x0s3PonSvj6n6Og+rBwqPyPbOT5tVr0+1efqPnGsKz/tnjw+Udq7PgTn7D6oNS0/gEg/Pv5Duj5N8+4+bcUuP0oMQj7Hurg+fPLwPqVOMD8U0EQ+WRe3Pqrx8j5O0TE/FK5HPutztT7Y8PQ+hlozP0ymSj5hw7M+Iv32Pi/dND9NhE0+1xKyPlD8+D7ZXzY/vJZQPjJVsD5/+/o+guI3P/OOUz5yiq4+rfr8Pp5eOT+Zu1Y+sb+sPtv5/j662jo/PuhZPvH0qj4SgwA/1lY8P+QUXT75D6k+qoIBP2TMPT/AW2A+HTinPkGCAj/yQT8/07xjPiZTpT7YgQM/gLdAP+cdZz4TYaM+b4EEP4EmQj8xmWo+AG+hPpSHBT+BlUM/si5uPtJvnz4rhwY/gQRFPzPEcT6kcJ0+woYHP/RsRj/rc3U+WmSbPlmGCD/Zzkc/oyN5PhBYmT5+jAk/vjBJP8gHfT7HS5c+FYwKP6OSSj/3dYA+YTKVPqyLCz/67Us/CmiCPvwYkz5Eiww/UklNP1R0hD588pA+24oNPxueTj+dgIY++8uOPgCRDj9X7E8/ApqIPnqljD6XkA8/kzpRP4PAij7ecYo+LpAQP86IUj8E54w+Qj6IPsWPET990FM/oBqPPov9hT5cjxI/nRFVP1dbkT7vyYM+gZUTP71SVj8qqZM+N4mBPhiVFD9QjVc//faVPgCRfj6vlBU/VcFYPwdfmD5a9Xk+RpQWP1r1WT8Rx5o+tFl1PmuaFz/RIls/Gy+dPg6+cD4Cmhg/uklcP1uxnz5oImw+mpkZP6RwXT+cM6I+woZnPjGZGj8AkV4/+MKkPuXQYj7ImBs/zqpfP3Bfpz4JG14+7Z4cP5zEYD8DCao+LGVZPoSeHT/c12E/lrKsPhiVVD4bnh4/j+RiP0Rprz47308+sp0fP7PqYz8OLbI+KA9LPtejID/Y8GQ/2PC0PhQ/Rj5uoyE/b/BlP77Btz4Ab0E+BaMiP3npZj++n7o+toQ8PpyiIz/122c/v329PqK0Nz40oiQ/cM5oP/d1wD5YyjI+WKglP166aT8TYcM+DeAtPvCnJj++n2o/ZmbGPozbKD6Hpyc/kX5rP7pryT5B8SM+HqcoP9ZWbD8ofsw+wOwePrWmKT8bL20/l5DPPj7oGT7arCo/RPptPyGw0j694xQ+cawrP23Fbj+rz9U+BcUPPgisLD8Jim8/UPzYPkymCj6fqy0/pU5wPxE23D6UhwU+xLEuPyUGcT/Sb98+3GgAPluxLz+lvXE/rrbiPkaU9j3ysDA/mG5yP4v95T5oIuw9irAxP/wYcz+DUek+irDhPSGwMj/TvHM/eqXsPj0K1z1GtjM/HVp0P3L57z5fmMw93bU0P2b3dD+hZ/M+E/LBPXS1NT+Uh3U/tMj2PsdLtz0LtTY/whd2P+M2+j56paw9orQ3P2Khdj8tsv0+Lv+hPce6OD90JHc/LpAAP+JYlz1eujk/+aB3P2FUAj+Wsow99bk6P34deD8GEgQ/SgyCPYy5Oz/njHg/xtwFP9c0bz2xvzw/UPx4P/mgBz8aUVo9SL89PyxleT+6awk/FD9GPeC+Pj96x3k/ejYLP+qVMj13vj8/OiN6PzsBDT9SJyA9Dr5AP2x4ej+J0g4/TfMOPTPEQT+fzXo/ZaoQP0mdAD3Kw0I/tRV7P7N7Ej/VeOk8YcNDP8xdez+PUxQ/YqHWPPjCRD9Wn3s/aysWP6hXyjyPwkU/Udp7P0cDGD84+MI8tMhGP78OfD+x4Rk/ylTBPEvIRz+fPHw/GsAbPxQ/xjzjx0g/f2p8PxKlHT8Xt9E8esdJP0SLfD97gx8/07zjPJ/NSj8IrHw/c2ghP/8h/Tw2zUs/sb98P2pNIz9N8w49zcxMP1vTfD9hMiU/L24jPWTMTT924Hw/5x0nPxHHOj37y04/BOd8P2wJKT9hw1M9INJPPwTnfD9j7io/+8tuPbfRUD8E53w/duAsPwK8hT1O0VE/6Nl8P/vLLj/hepQ95dBSP83MfD8OvjA/CtejPQrXUz+Wsnw/k6kyPw+csz2h1lQ/X5h8P6abND9d/sM9OdZVP5p3fD9GlDY/hsnUPdDVVj9IUHw/WYY4Px3J5T1n1Vc/aCJ8P2x4Oj/+Zfc9jNtYP/rtez8NcTw/ppsEPiPbWT//sns/rWk+P/LSDT662lo/dnF7P8BbQD90JBc+UdpbP+wvez9hVEI/ZaogPujZXD9I4Xo/AU1EP8NkKj4N4F0/o5J6P6JFRj9YOTQ+pN9eP3E9ej/QREg/klw+PjvfXz+x4Xk/cT1KPzm0SD7T3mA/Y395PxE2TD9PQFM+9+RhPxUdeT+yLk4/CRtePo/kYj85tHg/UidQPzAqaT4m5GM/0ER4P/MfUj/GbXQ+veNkP9nOdz+TGFQ/AACAPlTjZT/iWHc/NBFWP1TjhT556WY/6+J2P0cDWD8W+4s+EOlnP2Zmdj/n+1k/Di2SPqfoaD/i6XU/+u1bP3WTmD4+6Gk/XW11P3/ZXT8tIZ8+1edqP9jwdD8FxV8/VOOlPvrtaz/henQ/irBhP83MrD6R7Ww/6gR0P/OOYz+z6rM+Ke1tP4GVcz9dbWU/7C+7PsDsbj8zM3M/OUVnP662wj7l8m8/Ad5yP4cWaT/DZMo+fPJwP+qVcj+62mo/RUfSPhPycT98YXI/X5hsPxpR2j6q8XI/RUdyP+lIbj9BguI+QfFzP0VHcj9X7G8/n83qPmb3dD8KaHI/HHxxPzMz8z799nU/k6lyP1MFcz/ImPs+lPZ2P28Scz9vgXQ/vAUCPyv2dz+conM/4ul1P/kxBj/D9Xg/HVp0PzlFdz+oVwo/5/t5P+84dT91k3g/rWkOP3/7ej+GOHY/ldR5PwpoEj8W+3s/4lh3PygPez+9UhY/rfp8P5CgeD+fPHw/xykaP9IAfj/n+3k/iGN9P5vmHT9pAH8/A3h7P1Z9fj83iSE/AACAP8gHfT8kl38/KxglPw==",
        "encoding": "base64",
        "path": [
         "color_map",
         "data"
        ]
       },
       {
        "data": "",
        "encoding": "base64",
        "path": [
         "colors",
         "data"
        ]
       },
       {
        "data": "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",
        "encoding": "base64",
        "path": [
         "indices",
         "data"
        ]
       },
       {
        "data": "AACAPwAAAAAAAAAAAAAAAAAAAAAAAIA/AAAAAAAAAAAAAAAAAAAAAAAAgD8AAAAAAAAAAAAAAAAAAAAAAACAPw==",
        "encoding": "base64",
        "path": [
         "model_matrix",
         "data"
        ]
       },
       {
        "data": "",
        "encoding": "base64",
        "path": [
         "normals",
         "data"
        ]
       },
       {
        "data": "",
        "encoding": "base64",
        "path": [
         "opacity_function",
         "data"
        ]
       },
       {
        "data": "",
        "encoding": "base64",
        "path": [
         "triangles_attribute",
         "data"
        ]
       },
       {
        "data": "AADAfw==",
        "encoding": "base64",
        "path": [
         "uvs",
         "data"
        ]
       },
       {
        "data": "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",
        "encoding": "base64",
        "path": [
         "vertices",
         "data"
        ]
       },
       {
        "data": "",
        "encoding": "base64",
        "path": [
         "volume",
         "data"
        ]
       },
       {
        "data": "",
        "encoding": "base64",
        "path": [
         "volume_bounds",
         "data"
        ]
       }
      ],
      "model_module": "k3d",
      "model_module_version": "2.16.1",
      "model_name": "ObjectModel",
      "state": {
       "_view_module": null,
       "_view_module_version": "",
       "_view_name": null,
       "attribute": {
        "dtype": "float32",
        "shape": [
         0
        ]
       },
       "click_callback": false,
       "color": 3302400,
       "colorLegend": false,
       "color_map": {
        "dtype": "float32",
        "shape": [
         1024
        ]
       },
       "color_range": [],
       "colors": {
        "dtype": "uint32",
        "shape": [
         0
        ]
       },
       "compression_level": 0,
       "custom_data": null,
       "flat_shading": true,
       "group": null,
       "hover_callback": false,
       "id": 2020595858848,
       "indices": {
        "dtype": "uint32",
        "shape": [
         193,
         3
        ]
       },
       "model_matrix": {
        "dtype": "float32",
        "shape": [
         4,
         4
        ]
       },
       "name": "Mesh #1",
       "normals": {
        "dtype": "float32",
        "shape": [
         0
        ]
       },
       "opacity": 1,
       "opacity_function": {
        "dtype": "float32",
        "shape": [
         0
        ]
       },
       "side": "front",
       "texture": null,
       "texture_file_format": null,
       "triangles_attribute": {
        "dtype": "float32",
        "shape": [
         0
        ]
       },
       "type": "Mesh",
       "uvs": {
        "dtype": "float32",
        "shape": []
       },
       "vertices": {
        "dtype": "float32",
        "shape": [
         196,
         3
        ]
       },
       "visible": true,
       "volume": {
        "dtype": "float32",
        "shape": [
         0
        ]
       },
       "volume_bounds": {
        "dtype": "float32",
        "shape": [
         0
        ]
       },
       "wireframe": false
      }
     },
     "88093d3d9ccd4ae4ad3442f0f979a073": {
      "model_module": "k3d",
      "model_module_version": "2.16.1",
      "model_name": "PlotModel",
      "state": {
       "_backend_version": "2.16.1",
       "antialias": 3,
       "auto_rendering": true,
       "axes": [
        "x",
        "y",
        "z"
       ],
       "axes_helper": 1,
       "axes_helper_colors": [
        16711680,
        65280,
        255
       ],
       "background_color": 16777215,
       "camera": [
        0.33151101055269616,
        -1.2471522984284935,
        0.09186968944472662,
        -0.49992385506629944,
        0,
        0.008726202882826321,
        0,
        0,
        1
       ],
       "camera_animation": [],
       "camera_auto_fit": true,
       "camera_damping_factor": 0,
       "camera_fov": 60,
       "camera_mode": "trackball",
       "camera_no_pan": false,
       "camera_no_rotate": false,
       "camera_no_zoom": false,
       "camera_pan_speed": 0.3,
       "camera_rotate_speed": 1,
       "camera_zoom_speed": 1.2,
       "clipping_planes": [],
       "colorbar_object_id": -1,
       "colorbar_scientific": false,
       "custom_data": null,
       "fps": 25,
       "fps_meter": false,
       "grid": [
        -1,
        -1,
        -1,
        1,
        1,
        1
       ],
       "grid_auto_fit": true,
       "grid_color": 15132390,
       "grid_visible": true,
       "height": 512,
       "label_color": 4473924,
       "layout": "IPY_MODEL_182e517a62f4448c8bdaac0ba954e8fb",
       "lighting": 3,
       "logarithmic_depth_buffer": true,
       "manipulate_mode": "translate",
       "menu_visibility": true,
       "minimum_fps": -1,
       "mode": "view",
       "name": null,
       "object_ids": [
        2020595858464
       ],
       "rendering_steps": 1,
       "screenshot": "",
       "screenshot_scale": 2,
       "snapshot": "",
       "snapshot_type": "full",
       "time": 0,
       "voxel_paint_color": 0
      }
     },
     "8d32ad97dba34a1091822c967348a86f": {
      "model_module": "k3d",
      "model_module_version": "2.16.1",
      "model_name": "PlotModel",
      "state": {
       "_backend_version": "2.16.1",
       "antialias": 3,
       "auto_rendering": true,
       "axes": [
        "x",
        "y",
        "z"
       ],
       "axes_helper": 1,
       "axes_helper_colors": [
        16711680,
        65280,
        255
       ],
       "background_color": 16777215,
       "camera": [
        0.8401610685018217,
        -1.247152298428493,
        0.5830673416281997,
        0.008726202882826321,
        0,
        0.49992385506629944,
        0,
        0,
        1
       ],
       "camera_animation": [],
       "camera_auto_fit": true,
       "camera_damping_factor": 0,
       "camera_fov": 60,
       "camera_mode": "trackball",
       "camera_no_pan": false,
       "camera_no_rotate": false,
       "camera_no_zoom": false,
       "camera_pan_speed": 0.3,
       "camera_rotate_speed": 1,
       "camera_zoom_speed": 1.2,
       "clipping_planes": [],
       "colorbar_object_id": -1,
       "colorbar_scientific": false,
       "custom_data": null,
       "fps": 25,
       "fps_meter": false,
       "grid": [
        -1,
        -1,
        -1,
        1,
        1,
        1
       ],
       "grid_auto_fit": true,
       "grid_color": 15132390,
       "grid_visible": true,
       "height": 512,
       "label_color": 4473924,
       "layout": "IPY_MODEL_6115c9ec38224da9a6b4ba42982575c9",
       "lighting": 3,
       "logarithmic_depth_buffer": true,
       "manipulate_mode": "translate",
       "menu_visibility": true,
       "minimum_fps": -1,
       "mode": "view",
       "name": null,
       "object_ids": [
        2020595871200
       ],
       "rendering_steps": 1,
       "screenshot": "",
       "screenshot_scale": 2,
       "snapshot": "",
       "snapshot_type": "full",
       "time": 0,
       "voxel_paint_color": 0
      }
     },
     "8d8094c9955b4897897f7aa1808af8a2": {
      "model_module": "k3d",
      "model_module_version": "2.16.1",
      "model_name": "PlotModel",
      "state": {
       "_backend_version": "2.16.1",
       "antialias": 3,
       "auto_rendering": true,
       "axes": [
        "x",
        "y",
        "z"
       ],
       "axes_helper": 1,
       "axes_helper_colors": [
        16711680,
        65280,
        255
       ],
       "background_color": 16777215,
       "camera": [
        3.9539937361188686,
        -20.47275880635541,
        16.604764853818935,
        0.7946951389312744,
        0,
        7.425567150115967,
        -0.07986603998190271,
        0.3455889960459974,
        0.9349811021991473
       ],
       "camera_animation": [],
       "camera_auto_fit": true,
       "camera_damping_factor": 0,
       "camera_fov": 60,
       "camera_mode": "trackball",
       "camera_no_pan": false,
       "camera_no_rotate": false,
       "camera_no_zoom": false,
       "camera_pan_speed": 0.3,
       "camera_rotate_speed": 1,
       "camera_zoom_speed": 1.2,
       "clipping_planes": [],
       "colorbar_object_id": -1,
       "colorbar_scientific": false,
       "custom_data": null,
       "fps": 25,
       "fps_meter": false,
       "grid": [
        -1,
        -1,
        -1,
        1,
        1,
        1
       ],
       "grid_auto_fit": true,
       "grid_color": 15132390,
       "grid_visible": true,
       "height": 512,
       "label_color": 4473924,
       "layout": "IPY_MODEL_e799a45901c4468bb4b963b56bb353ef",
       "lighting": 3,
       "logarithmic_depth_buffer": true,
       "manipulate_mode": "translate",
       "menu_visibility": true,
       "minimum_fps": -1,
       "mode": "view",
       "name": null,
       "object_ids": [
        2020595681232
       ],
       "rendering_steps": 1,
       "screenshot": "",
       "screenshot_scale": 2,
       "snapshot": "",
       "snapshot_type": "full",
       "time": 0,
       "voxel_paint_color": 0
      }
     },
     "8dcda14d24ee403d8b5f6105792430be": {
      "buffers": [
       {
        "data": "",
        "encoding": "base64",
        "path": [
         "attribute",
         "data"
        ]
       },
       {
        "data": "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",
        "encoding": "base64",
        "path": [
         "color_map",
         "data"
        ]
       },
       {
        "data": "",
        "encoding": "base64",
        "path": [
         "colors",
         "data"
        ]
       },
       {
        "data": "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",
        "encoding": "base64",
        "path": [
         "indices",
         "data"
        ]
       },
       {
        "data": "AACAPwAAAAAAAAAAAAAAAAAAAAAAAIA/AAAAAAAAAAAAAAAAAAAAAAAAgD8AAAAAAAAAAAAAAAAAAAAAAACAPw==",
        "encoding": "base64",
        "path": [
         "model_matrix",
         "data"
        ]
       },
       {
        "data": "",
        "encoding": "base64",
        "path": [
         "normals",
         "data"
        ]
       },
       {
        "data": "",
        "encoding": "base64",
        "path": [
         "opacity_function",
         "data"
        ]
       },
       {
        "data": "",
        "encoding": "base64",
        "path": [
         "triangles_attribute",
         "data"
        ]
       },
       {
        "data": "AADAfw==",
        "encoding": "base64",
        "path": [
         "uvs",
         "data"
        ]
       },
       {
        "data": "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",
        "encoding": "base64",
        "path": [
         "vertices",
         "data"
        ]
       },
       {
        "data": "",
        "encoding": "base64",
        "path": [
         "volume",
         "data"
        ]
       },
       {
        "data": "",
        "encoding": "base64",
        "path": [
         "volume_bounds",
         "data"
        ]
       }
      ],
      "model_module": "k3d",
      "model_module_version": "2.16.1",
      "model_name": "ObjectModel",
      "state": {
       "_view_module": null,
       "_view_module_version": "",
       "_view_name": null,
       "attribute": {
        "dtype": "float32",
        "shape": [
         0
        ]
       },
       "click_callback": false,
       "color": 3302400,
       "colorLegend": false,
       "color_map": {
        "dtype": "float32",
        "shape": [
         1024
        ]
       },
       "color_range": [],
       "colors": {
        "dtype": "uint32",
        "shape": [
         0
        ]
       },
       "compression_level": 0,
       "custom_data": null,
       "flat_shading": true,
       "group": null,
       "hover_callback": false,
       "id": 2020595681232,
       "indices": {
        "dtype": "uint32",
        "shape": [
         233,
         3
        ]
       },
       "model_matrix": {
        "dtype": "float32",
        "shape": [
         4,
         4
        ]
       },
       "name": "Mesh #1",
       "normals": {
        "dtype": "float32",
        "shape": [
         0
        ]
       },
       "opacity": 1,
       "opacity_function": {
        "dtype": "float32",
        "shape": [
         0
        ]
       },
       "side": "front",
       "texture": null,
       "texture_file_format": null,
       "triangles_attribute": {
        "dtype": "float32",
        "shape": [
         0
        ]
       },
       "type": "Mesh",
       "uvs": {
        "dtype": "float32",
        "shape": []
       },
       "vertices": {
        "dtype": "float32",
        "shape": [
         218,
         3
        ]
       },
       "visible": true,
       "volume": {
        "dtype": "float32",
        "shape": [
         0
        ]
       },
       "volume_bounds": {
        "dtype": "float32",
        "shape": [
         0
        ]
       },
       "wireframe": false
      }
     },
     "9264f4a3236e40599465114aeb653b9a": {
      "model_module": "k3d",
      "model_module_version": "2.16.1",
      "model_name": "PlotModel",
      "state": {
       "_backend_version": "2.16.1",
       "antialias": 3,
       "auto_rendering": true,
       "axes": [
        "x",
        "y",
        "z"
       ],
       "axes_helper": 1,
       "axes_helper_colors": [
        16711680,
        65280,
        255
       ],
       "background_color": 16777215,
       "camera": [
        2.3114358342581816,
        -0.6681571690506756,
        1.133050123817979,
        0,
        0,
        0.4996869167953264,
        -0.146125886083777,
        0.20553804519226793,
        0.9676783233052052
       ],
       "camera_animation": [],
       "camera_auto_fit": true,
       "camera_damping_factor": 0,
       "camera_fov": 60,
       "camera_mode": "trackball",
       "camera_no_pan": false,
       "camera_no_rotate": false,
       "camera_no_zoom": false,
       "camera_pan_speed": 0.3,
       "camera_rotate_speed": 1,
       "camera_zoom_speed": 1.2,
       "clipping_planes": [],
       "colorbar_object_id": -1,
       "colorbar_scientific": false,
       "custom_data": null,
       "fps": 25,
       "fps_meter": false,
       "grid": [
        -1,
        -1,
        -1,
        1,
        1,
        1
       ],
       "grid_auto_fit": true,
       "grid_color": 15132390,
       "grid_visible": true,
       "height": 512,
       "label_color": 4473924,
       "layout": "IPY_MODEL_971b5ce091e248b39cda066ef4310cc0",
       "lighting": 3,
       "logarithmic_depth_buffer": true,
       "manipulate_mode": "translate",
       "menu_visibility": true,
       "minimum_fps": -1,
       "mode": "view",
       "name": null,
       "object_ids": [
        2020595844736
       ],
       "rendering_steps": 1,
       "screenshot": "",
       "screenshot_scale": 2,
       "snapshot": "",
       "snapshot_type": "full",
       "time": 0,
       "voxel_paint_color": 0
      }
     },
     "971b5ce091e248b39cda066ef4310cc0": {
      "model_module": "@jupyter-widgets/base",
      "model_module_version": "2.0.0",
      "model_name": "LayoutModel",
      "state": {}
     },
     "989a35c990fd400faf0e49d9d35c3946": {
      "buffers": [
       {
        "data": "",
        "encoding": "base64",
        "path": [
         "attribute",
         "data"
        ]
       },
       {
        "data": "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",
        "encoding": "base64",
        "path": [
         "color_map",
         "data"
        ]
       },
       {
        "data": "",
        "encoding": "base64",
        "path": [
         "colors",
         "data"
        ]
       },
       {
        "data": "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",
        "encoding": "base64",
        "path": [
         "indices",
         "data"
        ]
       },
       {
        "data": "AACAPwAAAAAAAAAAAAAAAAAAAAAAAIA/AAAAAAAAAAAAAAAAAAAAAAAAgD8AAAAAAAAAAAAAAAAAAAAAAACAPw==",
        "encoding": "base64",
        "path": [
         "model_matrix",
         "data"
        ]
       },
       {
        "data": "",
        "encoding": "base64",
        "path": [
         "normals",
         "data"
        ]
       },
       {
        "data": "",
        "encoding": "base64",
        "path": [
         "opacity_function",
         "data"
        ]
       },
       {
        "data": "",
        "encoding": "base64",
        "path": [
         "triangles_attribute",
         "data"
        ]
       },
       {
        "data": "AADAfw==",
        "encoding": "base64",
        "path": [
         "uvs",
         "data"
        ]
       },
       {
        "data": "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",
        "encoding": "base64",
        "path": [
         "vertices",
         "data"
        ]
       },
       {
        "data": "",
        "encoding": "base64",
        "path": [
         "volume",
         "data"
        ]
       },
       {
        "data": "",
        "encoding": "base64",
        "path": [
         "volume_bounds",
         "data"
        ]
       }
      ],
      "model_module": "k3d",
      "model_module_version": "2.16.1",
      "model_name": "ObjectModel",
      "state": {
       "_view_module": null,
       "_view_module_version": "",
       "_view_name": null,
       "attribute": {
        "dtype": "float32",
        "shape": [
         0
        ]
       },
       "click_callback": false,
       "color": 255,
       "colorLegend": false,
       "color_map": {
        "dtype": "float32",
        "shape": [
         1024
        ]
       },
       "color_range": [],
       "colors": {
        "dtype": "uint32",
        "shape": [
         0
        ]
       },
       "compression_level": 0,
       "custom_data": null,
       "flat_shading": true,
       "group": null,
       "hover_callback": false,
       "id": 2020595576768,
       "indices": {
        "dtype": "uint32",
        "shape": [
         193,
         3
        ]
       },
       "model_matrix": {
        "dtype": "float32",
        "shape": [
         4,
         4
        ]
       },
       "name": "Mesh #1",
       "normals": {
        "dtype": "float32",
        "shape": [
         0
        ]
       },
       "opacity": 1,
       "opacity_function": {
        "dtype": "float32",
        "shape": [
         0
        ]
       },
       "side": "front",
       "texture": null,
       "texture_file_format": null,
       "triangles_attribute": {
        "dtype": "float32",
        "shape": [
         0
        ]
       },
       "type": "Mesh",
       "uvs": {
        "dtype": "float32",
        "shape": []
       },
       "vertices": {
        "dtype": "float32",
        "shape": [
         196,
         3
        ]
       },
       "visible": true,
       "volume": {
        "dtype": "float32",
        "shape": [
         0
        ]
       },
       "volume_bounds": {
        "dtype": "float32",
        "shape": [
         0
        ]
       },
       "wireframe": false
      }
     },
     "9b8c7a0035ba480ba9fb365bb8019dbc": {
      "model_module": "k3d",
      "model_module_version": "2.16.1",
      "model_name": "PlotModel",
      "state": {
       "_backend_version": "2.16.1",
       "antialias": 3,
       "auto_rendering": true,
       "axes": [
        "x",
        "y",
        "z"
       ],
       "axes_helper": 1,
       "axes_helper_colors": [
        16711680,
        65280,
        255
       ],
       "background_color": 16777215,
       "camera": [
        0.33151101055269616,
        -1.2384260955456672,
        0.08314348656190029,
        -0.49992385506629944,
        0.008726202882826321,
        0,
        0,
        0,
        1
       ],
       "camera_animation": [],
       "camera_auto_fit": true,
       "camera_damping_factor": 0,
       "camera_fov": 60,
       "camera_mode": "trackball",
       "camera_no_pan": false,
       "camera_no_rotate": false,
       "camera_no_zoom": false,
       "camera_pan_speed": 0.3,
       "camera_rotate_speed": 1,
       "camera_zoom_speed": 1.2,
       "clipping_planes": [],
       "colorbar_object_id": -1,
       "colorbar_scientific": false,
       "custom_data": null,
       "fps": 25,
       "fps_meter": false,
       "grid": [
        -1,
        -1,
        -1,
        1,
        1,
        1
       ],
       "grid_auto_fit": true,
       "grid_color": 15132390,
       "grid_visible": true,
       "height": 512,
       "label_color": 4473924,
       "layout": "IPY_MODEL_7a20ee937a2c4890af5d6798ecc8c936",
       "lighting": 3,
       "logarithmic_depth_buffer": true,
       "manipulate_mode": "translate",
       "menu_visibility": true,
       "minimum_fps": -1,
       "mode": "view",
       "name": null,
       "object_ids": [
        2020595852176
       ],
       "rendering_steps": 1,
       "screenshot": "",
       "screenshot_scale": 2,
       "snapshot": "",
       "snapshot_type": "full",
       "time": 0,
       "voxel_paint_color": 0
      }
     },
     "9c71dd073d3b45f4a5a7f77ecc19f0b8": {
      "model_module": "k3d",
      "model_module_version": "2.16.1",
      "model_name": "PlotModel",
      "state": {
       "_backend_version": "2.16.1",
       "antialias": 3,
       "auto_rendering": true,
       "axes": [
        "x",
        "y",
        "z"
       ],
       "axes_helper": 1,
       "axes_helper_colors": [
        16711680,
        65280,
        255
       ],
       "background_color": 16777215,
       "camera": [
        8.681901538490852,
        -11.608338391722413,
        11.712071142362898,
        0.7946951389312744,
        0,
        4.996869168011472,
        -0.24908114333370077,
        0.29091030802519435,
        0.9237585056281007
       ],
       "camera_animation": [],
       "camera_auto_fit": true,
       "camera_damping_factor": 0,
       "camera_fov": 60,
       "camera_mode": "trackball",
       "camera_no_pan": false,
       "camera_no_rotate": false,
       "camera_no_zoom": false,
       "camera_pan_speed": 0.3,
       "camera_rotate_speed": 1,
       "camera_zoom_speed": 1.2,
       "clipping_planes": [],
       "colorbar_object_id": -1,
       "colorbar_scientific": false,
       "custom_data": null,
       "fps": 25,
       "fps_meter": false,
       "grid": [
        -1,
        -1,
        -1,
        1,
        1,
        1
       ],
       "grid_auto_fit": true,
       "grid_color": 15132390,
       "grid_visible": true,
       "height": 512,
       "label_color": 4473924,
       "layout": "IPY_MODEL_bbee24e7b0d44b62afe7c2599c6c1665",
       "lighting": 3,
       "logarithmic_depth_buffer": true,
       "manipulate_mode": "translate",
       "menu_visibility": true,
       "minimum_fps": -1,
       "mode": "view",
       "name": null,
       "object_ids": [
        2020480265744
       ],
       "rendering_steps": 1,
       "screenshot": "",
       "screenshot_scale": 2,
       "snapshot": "",
       "snapshot_type": "full",
       "time": 0,
       "voxel_paint_color": 0
      }
     },
     "9fa3e09a9dec40198ea5346d636efb00": {
      "model_module": "@jupyter-widgets/base",
      "model_module_version": "2.0.0",
      "model_name": "LayoutModel",
      "state": {}
     },
     "a1387a511c304c938d35563aff7e74eb": {
      "buffers": [
       {
        "data": "",
        "encoding": "base64",
        "path": [
         "attribute",
         "data"
        ]
       },
       {
        "data": "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",
        "encoding": "base64",
        "path": [
         "color_map",
         "data"
        ]
       },
       {
        "data": "",
        "encoding": "base64",
        "path": [
         "colors",
         "data"
        ]
       },
       {
        "data": "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",
        "encoding": "base64",
        "path": [
         "indices",
         "data"
        ]
       },
       {
        "data": "AACAPwAAAAAAAAAAAAAAAAAAAAAAAIA/AAAAAAAAAAAAAAAAAAAAAAAAgD8AAAAAAAAAAAAAAAAAAAAAAACAPw==",
        "encoding": "base64",
        "path": [
         "model_matrix",
         "data"
        ]
       },
       {
        "data": "",
        "encoding": "base64",
        "path": [
         "normals",
         "data"
        ]
       },
       {
        "data": "",
        "encoding": "base64",
        "path": [
         "opacity_function",
         "data"
        ]
       },
       {
        "data": "",
        "encoding": "base64",
        "path": [
         "triangles_attribute",
         "data"
        ]
       },
       {
        "data": "AADAfw==",
        "encoding": "base64",
        "path": [
         "uvs",
         "data"
        ]
       },
       {
        "data": "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",
        "encoding": "base64",
        "path": [
         "vertices",
         "data"
        ]
       },
       {
        "data": "",
        "encoding": "base64",
        "path": [
         "volume",
         "data"
        ]
       },
       {
        "data": "",
        "encoding": "base64",
        "path": [
         "volume_bounds",
         "data"
        ]
       }
      ],
      "model_module": "k3d",
      "model_module_version": "2.16.1",
      "model_name": "ObjectModel",
      "state": {
       "_view_module": null,
       "_view_module_version": "",
       "_view_name": null,
       "attribute": {
        "dtype": "float32",
        "shape": [
         0
        ]
       },
       "click_callback": false,
       "color": 255,
       "colorLegend": false,
       "color_map": {
        "dtype": "float32",
        "shape": [
         1024
        ]
       },
       "color_range": [],
       "colors": {
        "dtype": "uint32",
        "shape": [
         0
        ]
       },
       "compression_level": 0,
       "custom_data": null,
       "flat_shading": true,
       "group": null,
       "hover_callback": false,
       "id": 2020595579312,
       "indices": {
        "dtype": "uint32",
        "shape": [
         193,
         3
        ]
       },
       "model_matrix": {
        "dtype": "float32",
        "shape": [
         4,
         4
        ]
       },
       "name": "Mesh #1",
       "normals": {
        "dtype": "float32",
        "shape": [
         0
        ]
       },
       "opacity": 1,
       "opacity_function": {
        "dtype": "float32",
        "shape": [
         0
        ]
       },
       "side": "front",
       "texture": null,
       "texture_file_format": null,
       "triangles_attribute": {
        "dtype": "float32",
        "shape": [
         0
        ]
       },
       "type": "Mesh",
       "uvs": {
        "dtype": "float32",
        "shape": []
       },
       "vertices": {
        "dtype": "float32",
        "shape": [
         196,
         3
        ]
       },
       "visible": true,
       "volume": {
        "dtype": "float32",
        "shape": [
         0
        ]
       },
       "volume_bounds": {
        "dtype": "float32",
        "shape": [
         0
        ]
       },
       "wireframe": false
      }
     },
     "ad34301118c04f90ac660901b61edad8": {
      "buffers": [
       {
        "data": "",
        "encoding": "base64",
        "path": [
         "attribute",
         "data"
        ]
       },
       {
        "data": "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",
        "encoding": "base64",
        "path": [
         "color_map",
         "data"
        ]
       },
       {
        "data": "",
        "encoding": "base64",
        "path": [
         "colors",
         "data"
        ]
       },
       {
        "data": "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",
        "encoding": "base64",
        "path": [
         "indices",
         "data"
        ]
       },
       {
        "data": "AACAPwAAAAAAAAAAAAAAAAAAAAAAAIA/AAAAAAAAAAAAAAAAAAAAAAAAgD8AAAAAAAAAAAAAAAAAAAAAAACAPw==",
        "encoding": "base64",
        "path": [
         "model_matrix",
         "data"
        ]
       },
       {
        "data": "",
        "encoding": "base64",
        "path": [
         "normals",
         "data"
        ]
       },
       {
        "data": "",
        "encoding": "base64",
        "path": [
         "opacity_function",
         "data"
        ]
       },
       {
        "data": "",
        "encoding": "base64",
        "path": [
         "triangles_attribute",
         "data"
        ]
       },
       {
        "data": "AADAfw==",
        "encoding": "base64",
        "path": [
         "uvs",
         "data"
        ]
       },
       {
        "data": "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",
        "encoding": "base64",
        "path": [
         "vertices",
         "data"
        ]
       },
       {
        "data": "",
        "encoding": "base64",
        "path": [
         "volume",
         "data"
        ]
       },
       {
        "data": "",
        "encoding": "base64",
        "path": [
         "volume_bounds",
         "data"
        ]
       }
      ],
      "model_module": "k3d",
      "model_module_version": "2.16.1",
      "model_name": "ObjectModel",
      "state": {
       "_view_module": null,
       "_view_module_version": "",
       "_view_name": null,
       "attribute": {
        "dtype": "float32",
        "shape": [
         0
        ]
       },
       "click_callback": false,
       "color": 3302400,
       "colorLegend": false,
       "color_map": {
        "dtype": "float32",
        "shape": [
         1024
        ]
       },
       "color_range": [],
       "colors": {
        "dtype": "uint32",
        "shape": [
         0
        ]
       },
       "compression_level": 0,
       "custom_data": null,
       "flat_shading": true,
       "group": null,
       "hover_callback": false,
       "id": 2020591974304,
       "indices": {
        "dtype": "uint32",
        "shape": [
         201,
         3
        ]
       },
       "model_matrix": {
        "dtype": "float32",
        "shape": [
         4,
         4
        ]
       },
       "name": "Mesh #1",
       "normals": {
        "dtype": "float32",
        "shape": [
         0
        ]
       },
       "opacity": 0.936,
       "opacity_function": {
        "dtype": "float32",
        "shape": [
         0
        ]
       },
       "side": "front",
       "texture": null,
       "texture_file_format": null,
       "triangles_attribute": {
        "dtype": "float32",
        "shape": [
         0
        ]
       },
       "type": "Mesh",
       "uvs": {
        "dtype": "float32",
        "shape": []
       },
       "vertices": {
        "dtype": "float32",
        "shape": [
         202,
         3
        ]
       },
       "visible": true,
       "volume": {
        "dtype": "float32",
        "shape": [
         0
        ]
       },
       "volume_bounds": {
        "dtype": "float32",
        "shape": [
         0
        ]
       },
       "wireframe": false
      }
     },
     "ad526874ee574232882484f7be4f49ac": {
      "model_module": "@jupyter-widgets/base",
      "model_module_version": "2.0.0",
      "model_name": "LayoutModel",
      "state": {}
     },
     "adb5bcbd08214b6e889301ef58ec9442": {
      "model_module": "@jupyter-widgets/base",
      "model_module_version": "2.0.0",
      "model_name": "LayoutModel",
      "state": {}
     },
     "afc3ac7b96be4618837f5ed795528431": {
      "model_module": "k3d",
      "model_module_version": "2.16.1",
      "model_name": "PlotModel",
      "state": {
       "_backend_version": "2.16.1",
       "antialias": 3,
       "auto_rendering": true,
       "axes": [
        "x",
        "y",
        "z"
       ],
       "axes_helper": 1,
       "axes_helper_colors": [
        16711680,
        65280,
        255
       ],
       "background_color": 16777215,
       "camera": [
        -33.83485440809188,
        -157.38853847952302,
        181.79420556264344,
        4.86732292175293,
        0.5528182983398438,
        72.52137756347656,
        0.22985814614551153,
        0.4660724236846028,
        0.854366273053493
       ],
       "camera_animation": [],
       "camera_auto_fit": true,
       "camera_damping_factor": 0,
       "camera_fov": 60,
       "camera_mode": "trackball",
       "camera_no_pan": false,
       "camera_no_rotate": false,
       "camera_no_zoom": false,
       "camera_pan_speed": 0.3,
       "camera_rotate_speed": 1,
       "camera_zoom_speed": 1.2,
       "clipping_planes": [],
       "colorbar_object_id": -1,
       "colorbar_scientific": false,
       "custom_data": null,
       "fps": 25,
       "fps_meter": false,
       "grid": [
        -1,
        -1,
        -1,
        1,
        1,
        1
       ],
       "grid_auto_fit": true,
       "grid_color": 15132390,
       "grid_visible": true,
       "height": 512,
       "label_color": 4473924,
       "layout": "IPY_MODEL_6c5ba3e5a7934d14a503964dc0a56e8b",
       "lighting": 3,
       "logarithmic_depth_buffer": true,
       "manipulate_mode": "translate",
       "menu_visibility": true,
       "minimum_fps": -1,
       "mode": "view",
       "name": null,
       "object_ids": [
        2020559806752
       ],
       "rendering_steps": 1,
       "screenshot": "",
       "screenshot_scale": 2,
       "snapshot": "",
       "snapshot_type": "full",
       "time": 0,
       "voxel_paint_color": 0
      }
     },
     "b10a3d66ee304589b8ee3a50c46d4758": {
      "buffers": [
       {
        "data": "",
        "encoding": "base64",
        "path": [
         "attribute",
         "data"
        ]
       },
       {
        "data": "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",
        "encoding": "base64",
        "path": [
         "color_map",
         "data"
        ]
       },
       {
        "data": "",
        "encoding": "base64",
        "path": [
         "colors",
         "data"
        ]
       },
       {
        "data": "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",
        "encoding": "base64",
        "path": [
         "indices",
         "data"
        ]
       },
       {
        "data": "AACAPwAAAAAAAAAAAAAAAAAAAAAAAIA/AAAAAAAAAAAAAAAAAAAAAAAAgD8AAAAAAAAAAAAAAAAAAAAAAACAPw==",
        "encoding": "base64",
        "path": [
         "model_matrix",
         "data"
        ]
       },
       {
        "data": "",
        "encoding": "base64",
        "path": [
         "normals",
         "data"
        ]
       },
       {
        "data": "",
        "encoding": "base64",
        "path": [
         "opacity_function",
         "data"
        ]
       },
       {
        "data": "",
        "encoding": "base64",
        "path": [
         "triangles_attribute",
         "data"
        ]
       },
       {
        "data": "AADAfw==",
        "encoding": "base64",
        "path": [
         "uvs",
         "data"
        ]
       },
       {
        "data": "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",
        "encoding": "base64",
        "path": [
         "vertices",
         "data"
        ]
       },
       {
        "data": "",
        "encoding": "base64",
        "path": [
         "volume",
         "data"
        ]
       },
       {
        "data": "",
        "encoding": "base64",
        "path": [
         "volume_bounds",
         "data"
        ]
       }
      ],
      "model_module": "k3d",
      "model_module_version": "2.16.1",
      "model_name": "ObjectModel",
      "state": {
       "_view_module": null,
       "_view_module_version": "",
       "_view_name": null,
       "attribute": {
        "dtype": "float32",
        "shape": [
         0
        ]
       },
       "click_callback": false,
       "color": 5263440,
       "colorLegend": false,
       "color_map": {
        "dtype": "float32",
        "shape": [
         1024
        ]
       },
       "color_range": [],
       "colors": {
        "dtype": "uint32",
        "shape": [
         0
        ]
       },
       "compression_level": 0,
       "custom_data": null,
       "flat_shading": true,
       "group": null,
       "hover_callback": false,
       "id": 2020595846512,
       "indices": {
        "dtype": "uint32",
        "shape": [
         201,
         3
        ]
       },
       "model_matrix": {
        "dtype": "float32",
        "shape": [
         4,
         4
        ]
       },
       "name": "Mesh #1",
       "normals": {
        "dtype": "float32",
        "shape": [
         0
        ]
       },
       "opacity": 1,
       "opacity_function": {
        "dtype": "float32",
        "shape": [
         0
        ]
       },
       "side": "front",
       "texture": null,
       "texture_file_format": null,
       "triangles_attribute": {
        "dtype": "float32",
        "shape": [
         0
        ]
       },
       "type": "Mesh",
       "uvs": {
        "dtype": "float32",
        "shape": []
       },
       "vertices": {
        "dtype": "float32",
        "shape": [
         202,
         3
        ]
       },
       "visible": true,
       "volume": {
        "dtype": "float32",
        "shape": [
         0
        ]
       },
       "volume_bounds": {
        "dtype": "float32",
        "shape": [
         0
        ]
       },
       "wireframe": false
      }
     },
     "b17eb5c7e92c460d85ef4bd641209ad5": {
      "model_module": "@jupyter-widgets/base",
      "model_module_version": "2.0.0",
      "model_name": "LayoutModel",
      "state": {}
     },
     "b42805dddbf844159274b39393117415": {
      "model_module": "@jupyter-widgets/base",
      "model_module_version": "2.0.0",
      "model_name": "LayoutModel",
      "state": {}
     },
     "b5269b50e4444b9d8f100e21a75bf0b2": {
      "buffers": [
       {
        "data": "",
        "encoding": "base64",
        "path": [
         "attribute",
         "data"
        ]
       },
       {
        "data": "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",
        "encoding": "base64",
        "path": [
         "color_map",
         "data"
        ]
       },
       {
        "data": "",
        "encoding": "base64",
        "path": [
         "colors",
         "data"
        ]
       },
       {
        "data": "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",
        "encoding": "base64",
        "path": [
         "indices",
         "data"
        ]
       },
       {
        "data": "AACAPwAAAAAAAAAAAAAAAAAAAAAAAIA/AAAAAAAAAAAAAAAAAAAAAAAAgD8AAAAAAAAAAAAAAAAAAAAAAACAPw==",
        "encoding": "base64",
        "path": [
         "model_matrix",
         "data"
        ]
       },
       {
        "data": "",
        "encoding": "base64",
        "path": [
         "normals",
         "data"
        ]
       },
       {
        "data": "",
        "encoding": "base64",
        "path": [
         "opacity_function",
         "data"
        ]
       },
       {
        "data": "",
        "encoding": "base64",
        "path": [
         "triangles_attribute",
         "data"
        ]
       },
       {
        "data": "AADAfw==",
        "encoding": "base64",
        "path": [
         "uvs",
         "data"
        ]
       },
       {
        "data": "TUV5v8GoSL8AAAAATUV5v8GoSL8AAABAf3Cnvlttmr8AAAAAf3Cnvlttmr8AAABAZJ7jPvCJlb8AAAAAZJ7jPvCJlb8AAABA/u6FPz0QL78AAAAA/u6FPz0QL78AAABA7M2fP9wafT0AAAAA7M2fP9wafT0AAABATUV5P8GoSD8AAAAATUV5P8GoSD8AAABAf3CnPlttmj8AAAAAf3CnPlttmj8AAABAZJ7jvvCJlT8AAAAAZJ7jvvCJlT8AAABA/u6Fvz0QLz8AAAAA/u6Fvz0QLz8AAABA7M2fv9wafb0AAAAA7M2fv9wafb0AAABAAAAAAAAAAAAAAAAAAAAAAAAAAAAAAABATOBuP/qxVj8yuP8/tmmCP9W6aT8mKw1AoRWOP4JPfT8/PRpAZsuiP1uwjz9niy9AfYbGP+SwrD9xk1BA25vUP/X9tz/ur1xAi7fgP2xfwT+sr2ZAWiQQQHhi8D+d5ItA8nUeQH2PAkDlkpZAsFYmQJEXCEAbZpxAu1AxQHu8DkA9L6RAnmGCP62BOz8yuP8/6wWOP1TiTD8mKw1AnBSaP5mBXz8/PRpA/ySvP9VYgD9niy9A8BvTPwQPnT9xk1BAUSjhPz9nqD/ur1xAbujsP3k6sj+sr2ZAxzQUQINJ5j+d5ItAuGQhQKvV/T/lkpZA4XooQJJuBUAbZpxAvlAxQHi8DkA9L6RAF2IsvtqKnr8AAABAF2IsvtqKnr8AAIBANYMXP9TtjL8AAABANYMXP9TtjL8AAIBAxR+QP5v4Cr8AAABAxR+QP5v4Cr8AAIBAAnGdPwH+Yz4AAABAAnGdPwH+Yz4AAIBAND5dPyYyZz8AAABAND5dPyYyZz8AAIBAF2IsPtqKnj8AAABAF2IsPtqKnj8AAIBANYMXv9TtjD8AAABANYMXv9TtjD8AAIBAxR+Qv5v4Cj8AAABAxR+Qv5v4Cj8AAIBAAnGdvwH+Y74AAABAAnGdvwH+Y74AAIBAND5dvyYyZ78AAABAND5dvyYyZ78AAIBAAAAAAAAAAAAAAABAAAAAAAAAAAAAAIBAiXvAPbg6oD9D2H9AHsbZPQA7sD+vSYdAkbP4PTD7wD+BhY5Al9kZPoBu3j/7T5pA3RdPPk53CEDJl6xASN9kPr1dEkCuS7NAK6N5PjO+GkBP1LhA6yG6PmXSRUCkANRAURrXPh4NWUAX099A+xfoPvB9Y0ClReZAvR4DP1cvcUDA4+5Ac115PsGgnT9D2H9A56uHPnJ4rT+vSYdAUhqSPichvj+BhY5ANFSjPux+2z/7T5pAEZa/Pmf4BkDJl6xA5jrKPuffEECuS7NAJBzSPkFLGUBP1LhAIgDzPhDbRECkANRAxxEAP6RaWEAX099ASgcDP5/7YkClReZAzh4DP1cvcUDA4+5AUzIuP0A3hr8AAIBAUzIuP0A3hr8AAMBApVqVPxmN5b4AAIBApVqVPxmN5b4AAMBAy4+aPxRxpT4AAIBAy4+aPxRxpT4AAMBAxnZJP+meeD8AAIBAxnZJP+meeD8AAMBAPdGGPSnHnz8AAIBAPdGGPSnHnz8AAMBAUzIuv0A3hj8AAIBAUzIuv0A3hj8AAMBApVqVvxmN5T4AAIBApVqVvxmN5T4AAMBAy4+avxRxpb4AAIBAy4+avxRxpb4AAMBAxnZJv+meeL8AAIBAxnZJv+meeL8AAMBAPdGGvSnHn78AAIBAPdGGvSnHn78AAMBAAAAAAAAAAAAAAIBAAAAAAAAAAAAAAMBAyfRAvzWngD+V6b9AkM5Vv5V/jz/bOMhAnChrv2o+nz8SYtBAJhqIv7Qjuz+Ar91Ag5Snv+w36z86T/JAU9OzvwMn/j8X3/lA1++9v6wxB0CqDgBBNj7wv3GrMUC2Yg9Bly0DwPLGREDsDRZB6QsJwIZET0D/sBlBDucPwNi/XUB1jR5BBWUcvy6EjD+V6b9AWwQvv6UVnD/bOMhAZRRDv44/rD8SYtBAVPFmvxSHyD+Ar91ADI+Svy7c+D86T/JA4Nyev8TgBUAX3/lAX5Kpv0rNDUCqDgBBIKriv1QTNkC2Yg9B1I78v9X0R0DsDRZBJngFwMyWUUD/sBlBCucPwNu/XUB1jR5BKQGbP6Ssnr4AAMBAKQGbP6Ssnr4AAABBybeUPzYR7D4AAMBAybeUPzYR7D4AAABBkUArP+gohz8AAMBAkUArP+gohz8AAABBV8CivSStnz8AAMBAV8CivSStnz8AAABBWytMv2Vndj8AAMBAWytMv2Vndj8AAABBKQGbv6Ssnj4AAMBAKQGbv6Ssnj4AAABBybeUvzYR7L4AAMBAybeUvzYR7L4AAABBkUArv+goh78AAMBAkUArv+goh78AAABBV8CiPSStn78AAMBAV8CiPSStn78AAABBWytMP2Vndr8AAMBAWytMP2Vndr8AAABBAAAAAAAAAAAAAMBAAAAAAAAAAAAAAABBu6CevyqGXD4I5v9AGSqzv7cbgD4/wwRBCp/Iv0A8lD5vfQlBXk3uv10fuT4MMhFB2G4XwPIZ+j5bJB1B4xQkwBUVCj+2hSFBEcMuwBXeFT+AIyVBzIllwJedVz+M5TZBfvV9wOIAdj9enz5B6JiFwCepgz8H1kJB2jOOwLiRkT++d0hBTl6Yv+cY0D4I5v9AA4asv/rn5z4/wwRBdMLBv5Z7/z5vfQlB8zznv2vEEz8MMhFBhNUTwD9NNT9bJB1BIn4gwC4tQj+2hSFBgEYrwNFcTD+AIyVBrTZjwELzez+M5TZBDUh8wH4ciD9enz5BIPyEwKI7jT8H1kJB2TOOwMORkT++d0hB8B5Fv5NgYD8AAABB8B5Fv5NgYD8AACBBDK6RvxBSgz4AAABBDK6RvxBSgz4AACBBkieJv/tF7L4AAABBkieJv/tF7L4AACBBVHsYv5xngL8AAABBVHsYv5xngL8AACBBNLXcPeOxlL8AAABBNLXcPeOxlL8AACBB8B5FP5NgYL8AAABB8B5FP5NgYL8AACBBDK6RPxBSg74AAABBDK6RPxBSg74AACBBkieJP/tF7D4AAABBkieJP/tF7D4AACBBVHsYP5xngD8AAABBVHsYP5xngD8AACBBNLXcveOxlD8AAABBNLXcveOxlD8AACBBAAAAAAAAAAAAAABBAAAAAAAAAAAAACBBr31tPwGzP79P5R9B6myUP455fr80yilBgQGzP/2ooL/IgTNBJUPoPzwC3L+MWENB2n8hQNI5IcD/5ltBIjAzQGJsNcD752RBy+VBQDzPRsD3VmxBb+aFQEMdkcDBa4hB0jeWQJO4pcB+XJBBa/CeQMgRscAasZRB5YKpQDTzwMDZeppBAIQfP+oZgr9P5R9Bjx9WP5aTo780yilBd0SIP/Q0xr/IgTNBREO8P+pUAcCMWENBTBULQEjrNMD/5ltBl9UcQMgPScD752RBYi4sQFDjWcD3VmxBH1J9QH55l8DBa4hBbP6QQINPqsB+XJBB5R+bQK9rtMAasZRB4YKpQDfzwMDZeppB4feMPDCmir8AACBB4feMPDCmir8AAEBBSY4mP+6/Xb8AACBBSY4mP+6/Xb8AAEBBOouEPyEAo74AACBBOouEPyEAo74AAEBBuy6DP1TCsz4AACBBuy6DP1TCsz4AAEBBjm0fP63tYj8AACBBjm0fP63tYj8AAEBB4feMvDCmij8AACBB4feMvDCmij8AAEBBSY4mv+6/XT8AACBBSY4mv+6/XT8AAEBBOouEvyEAoz4AACBBOouEvyEAoz4AAEBBuy6Dv1TCs74AACBBuy6Dv1TCs74AAEBBjm0fv63tYr8AACBBjm0fv63tYr8AAEBBAAAAAAAAAAAAACBBAAAAAAAAAAAAAEBB3CDZvkrsiz91yj9BklHrvvV14j+Fo1NBhm74vpujHkCuIWdBEaoEv4eXbkDWc4NB/JsPv8rpu0A+FZxBibISv/PW1kAuHaVBazISv6Gu7UDnkaxBPwz1vujGMUGhLtFBuWHXvgggTEFeHOFB3I3AvoV2WkFEzOlB43Bxvld3bUGzaPVBhz3HPp+TjT91yj9BE23OPhc35D+Fo1NBT/7PPqKLH0CuIWdBe5DMPmeGb0DWc4NB0pG/Pn1jvEA+FZxBxw64PlBQ10AuHaVBrXKrPogk7kDnkaxBPHAAPjfuMUGhLtFBxSZ5PGU8TEFeHOFBJNVsvTuLWkFEzOlBc29xvlh3bUGzaPVBFFFBP8LSJz8AAEBBFFFBP8LSJz8AAGBBhgJnPo1meT8AAEBBhgJnPo1meT8AAGBBFr7HviK3az8AAEBBFr7HviK3az8AAGBB+lhbv7D+Az8AAEBB+lhbv7D+Az8AAGBBYQp/vzIlsb0AAEBBYQp/vzIlsb0AAGBBFFFBv8LSJ78AAEBBFFFBv8LSJ78AAGBBhgJnvo1meb8AAEBBhgJnvo1meb8AAGBBFr7HPiK3a78AAEBBFr7HPiK3a78AAGBB+lhbP7D+A78AAEBB+lhbP7D+A78AAGBBYQp/PzIlsT0AAEBBYQp/PzIlsT0AAGBBAAAAAAAAAAAAAEBBAAAAAAAAAAAAAGBBBjqUvg5wnr/rnV9BmQmZv9xoBcC4/IFB9UEKwJU7PcA515NBQOB3wP03j8Ar8bBB84nawMIE4sBzD95B5tb/wEMmAcF4mu5BoPgPwXaRDsHgQvxBj1pkwZ72UcHyqR9CFDKFwYy4b8HBQC5CDKuPwQKff8GiNTZCaFCewcdvicEY2EBChRKiv8/m5r3rnV9BENYOwI0SZL+4/IFBbMdOwOaa3L8515NBqTWfwJ0tTcAr8bBBa3r+wK6euMBzD95B2dYRwQIE2cB4mu5BQWEhwbAH9cDgQvxBBfZvwcaXRMHyqR9CL2KJwZ4SZsHBQC5C3bmSwYuTeMGiNTZCa1CewcNvicEY2EBCM6hqv6oTCDwAAGBBM6hqv6oTCDyq7AJCXhc/vzM1CL8AAGBBXhc/vzM1CL+q7AJC/xGVvtyDXr8AAGBB/xGVvtyDXr+q7AJCVPuMPkLUX78AAGBBVPuMPkLUX7+q7AJCf5c8P+ilC78AAGBBf5c8P+ilC7+q7AJCM6hqP6oTCLwAAGBBM6hqP6oTCLyq7AJCXhc/PzM1CD8AAGBBXhc/PzM1CD+q7AJC/xGVPtyDXj8AAGBB/xGVPtyDXj+q7AJCVPuMvkLUXz8AAGBBVPuMvkLUXz+q7AJCf5c8v+ilCz8AAGBBf5c8v+ilCz+q7AJCAAAAAAAAAAAAAGBBAAAAAAAAAACq7AJCU2h5P4YclD9KxgJCKoc6QPD0mj8lABFCVWWeQLHbnT/a+B5CLYYIQbaHnj/mvjVCz+dqQU2Wmj+3DVlC0cCIQW5Plz/i/2VCjh6ZQR4PkD8KsHBCY4btQazVGD/vlZJCBqAJQixZoD6oAJ5CxOITQh9y+D2kOqRCRnYhQi1Cu74jjaxCuf9zP8ZYlr9KxgJC6xc5QPSwob8lABFCm6edQB5Qqb/a+B5ChCQIQYFLsr/mvjVCTIRqQTqdvL+3DVlCM4+IQfzuvr/i/2VCWu6YQa9tvL8KsHBCP2btQeJEkb/vlZJCbZQJQrjDb7+oAJ5CTNoTQrGNSr+kOqRCRnYhQj1Eu74jjaxCQnwkPwbaB7+q7AJCQnwkPwbaB79lV1VCTuxUP2mWU72q7AJCTuxUP2mWU71lV1VCCAg0P6no5D6q7AJCCAg0P6no5D5lV1VCZr+cPlVqRj+q7AJCZr+cPlVqRj9lV1VCJOFUvqCWTj+q7AJCJOFUvqCWTj9lV1VCQnwkvwbaBz+q7AJCQnwkvwbaBz9lV1VCTuxUv2mWUz2q7AJCTuxUv2mWUz1lV1VCCAg0v6no5L6q7AJCCAg0v6no5L5lV1VCZr+cvlVqRr+q7AJCZr+cvlVqRr9lV1VCJOFUPqCWTr+q7AJCJOFUPqCWTr9lV1VCAAAAAAAAAACq7AJCAAAAAAAAAABlV1VCH/fOv8h/Dr9gJ1VC1t5iwCCdaz9H9GZCe0+xwEAlIECob3hCRXAQwWVCqkBGd4pCiKtvwe8iI0E4jqBCrW6KwQz0QUGop6hCY/uZweGgXEF6V69C16/owQLwtEFRLdBCLMgFwobf1EFldt5CXCYPwl2J5kHhQOZCSs8awnm4/0GtqvBC+Nx2Pjqz2D9gJ1VCX2zJvymnU0BH9GZCAEVgwFT8nkCob3hCOsfdwDOA+0BGd4pCSnxNwbGGTEE4jqBChsZywT86a0Gop6hCXGyJwe9cgkF6V69Cd6XdwRpOwkFRLdBCaswBwuqE3kFldt5Cwz0Mwm+U7UHhQOZCR88awoG4/0GtqvBCUWwDvvwqPT9lV1VCUWwDvvwqPT8AAJhCYMUJv1i6BT9lV1VCYMUJv1i6BT8AAJhC9w8+v8yq2T1lV1VC9w8+v8yq2T0AAJhCosEpv1hos75lV1VCosEpv1hos74AAJhC7DepvilaLL9lV1VC7DepvilaLL8AAJhCUWwDPvwqPb9lV1VCUWwDPvwqPb8AAJhCYMUJP1i6Bb9lV1VCYMUJP1i6Bb8AAJhC9w8+P8yq2b1lV1VC9w8+P8yq2b0AAJhCosEpP1hosz5lV1VCosEpP1hosz4AAJhC7DepPilaLD9lV1VC7DepPilaLD8AAJhCAAAAAAAAAABlV1VCAAAAAAAAAAAAAJhCIda9PyhAD7+H6ZdCJBf6PzwlMsAkPqBCGy8aQBz0o8CabKhCL+xKQCMAFMGVwrVCutCNQKm4gsGRb8pChCadQMv/mMFKBNJCs92oQPXyq8GKRthCgpPcQAIKB8JYAvdCl+7xQD8CHcKsMAJD3yr8QML9KMIV1gVDlo4AQdAKOcKrtQpD+5Cav3Rxg7+H6ZdCzZpmv5DgUcAkPqBC5VUKv8FYtMCabKhC0FoJPmBwHMGVwrVCTTqrPzsFh8GRb8pCTKzpP0pJncFKBNJCkeURQCsdsMGKRthCfp+cQHVtCMJYAvdCg8jDQL0CHsKsMAJDmnjaQAu5KcIV1gVDg44AQdEKOcKrtQpDDq+UPReSlj8AAMBADq+UPReSlj8AAABBcPghv36Nfj8AAMBAcPghv36Nfj8AAABBYFSMv5133T4AAMBAYFSMv5133T4AAABBpBKSv47Dlr4AAMBApBKSv47Dlr4AAABB2gpAv0W0aL8AAMBA2gpAv0W0aL8AAABBDq+UvReSlr8AAMBADq+UvReSlr8AAABBcPghP36Nfr8AAMBAcPghP36Nfr8AAABBYFSMP5133b4AAMBAYFSMP5133b4AAABBpBKSP47Dlj4AAMBApBKSP47Dlj4AAABB2gpAP0W0aD8AAMBA2gpAP0W0aD8AAABBAAAAAAAAAAAAAMBAAAAAAAAAAAAAAABB1sGwPfGmmL/41f9AaSSjPRmnur80tQdBxX+LPRRK3r+/Ww9BSFswPZt+DsAt1BtBVLOwuyFHRMCtKS9BNQjXvMBfWcB1QDZBwIVHvTA/a8C7GjxBp5VJviyoo8D011hBYQeKvoA4uMDRWGVBR+igvu9lw8B+KmxB+X/Pvjki0sC9R3VBBeBtvp0ilr/41f9AgEiEvn/7t780tQdBEPKPvsOH27+/Ww9BYQ2ivgcTDcAt1BtBwle+vqvUQsCtKS9Bf3/IvlLuV8B1QDZBmKrOvkvYacC7GjxBVvXdvoYwo8D011hBZnbhvinit8DRWGVBqL/gvuQmw8B+KmxBQYDPvjki0sC9R3VB1LhYvwaoNr8AAABB1LhYvwaoNr8AACBBKfCHvjyUib8AAABBKfCHvjyUib8AACBB0H3VPoZHg78AAABB0H3VPoZHg78AACBB8a9wP8OrFb8AAABB8a9wP8OrFb8AACBB5FiNP7oWoz0AAABB5FiNP7oWoz0AACBB1LhYPwaoNj8AAABB1LhYPwaoNj8AACBBKfCHPjyUiT8AAABBKfCHPjyUiT8AACBB0H3VvoZHgz8AAABB0H3VvoZHgz8AACBB8a9wv8OrFT8AAABB8a9wv8OrFT8AACBB5FiNv7oWo70AAABB5FiNv7oWo70AACBBAAAAAAAAAAAAAABBAAAAAAAAAAAAACBBpf4pPyXecj/V2B9BvvCDP3cIpD+rXS5BYOW1P2Dkzz8DoDxBCkkHQJkeDkAW3lNBjMxTQGYjT0D/5ndBsPZxQEh7aECyjoJB/PSFQPiJfUDxAohBcCHKQACbs0Aqy6JBstroQOzsykAPcq5BMMT5QPVg10DczLRBDrEIQU1p5kA3S71BLBOGPy7Q/D7V2B9BUAK4P9SBTD+rXS5B7LHrPzsPkD8DoDxBgvoiQN2F2j8W3lNBOQRwQH+oLUD/5ndBGw2HQEoYR0CyjoJBEqCTQKEaXUDxAohBdT7TQN7KqEAqy6JBNW7vQG8fw0APcq5BcJH+QHSu0UDczLRBEbEIQUdp5kA3S71BNICEP9p2Cr0AACBBNICEP9p2Cr0AAEBBPXpbP0bDFD8AACBBPXpbP0bDFD8AAEBBrD20PnVbeT8AACBBrD20PnVbeT8AAEBBr1GTvqu0fj8AACBBr1GTvqu0fj8AAEBB2U1Rv+nDIj8AACBB2U1Rv+nDIj8AAEBBNICEv9p2Cj0AACBBNICEv9p2Cj0AAEBBPXpbv0bDFL8AACBBPXpbv0bDFL8AAEBBrD20vnVbeb8AACBBrD20vnVbeb8AAEBBr1GTPqu0fr8AACBBr1GTPqu0fr8AAEBB2U1RP+nDIr8AACBB2U1RP+nDIr8AAEBBAAAAAAAAAAAAACBBAAAAAAAAAAAAAEBBz2yJv4EX/L6Yuj9Bj8H5v2Pg/b4TdVlBMcY3wNMC+L64uXJBjraPwKaq5b7T9I1BQaTowGX4vL5l4q1BtcMFwQ7gqb5Ql7lB24wUwbmYkb6NQcNBwMNgwWMziT06t/JBDWmBwd11ez6OrgNCf6uKwVQjuD70TwlCzeaWwTqxHT+C1hBCOQWFv6G1Dz+Yuj9BQBX1v/ZBHz8TdVlBKVw1wJWzKz+4uXJBbHiOwGiZPT/T9I1BGWDnwN21Vz9l4q1BFSIFwX5kYD9Ql7lB1u8Twb22Yz+NQcNBD1tgwVKEWT86t/JBR0OBwT5zTz+OrgNC6o+KwfajRT/0TwlCzeaWwbGxHT+C1hBCUzJKv5udDT8AAEBBUzJKv5udDT+f38pB79F2vxjriLwAAEBB79F2vxjriLyf38pBqypFv+qJFL8AAEBBqypFv+qJFL+f38pBlWeQvuAPbL8AAEBBlWeQvuAPbL+f38pBh66gPupqab8AAEBBh66gPupqab+f38pBUzJKP5udDb8AAEBBUzJKP5udDb+f38pB79F2PxjriDwAAEBB79F2PxjriDyf38pBqypFP+qJFD8AAEBBqypFP+qJFD+f38pBlWeQPuAPbD8AAEBBlWeQPuAPbD+f38pBh66gvupqaT8AAEBBh66gvupqaT+f38pBAAAAAAAAAAAAAEBBAAAAAAAAAACf38pB4hGnPx3E+z2zp8pBLIUfQG05Jb+XYt9BCFluQONZvL+LvvNB2Bi8QAGTPMAHdwpCc+0YQd8NsMCuMCRCqfAvQV9l0MBfny1CLjlDQQl+7MDtaDVCjo6SQaz3QME7pltCmEaoQXDSYsEzSWxCbvezQReZdcHyW3VCT6rCQT1XiME/voBCiUOpPuNior+zp8pB6q66P3jLB8CXYt9BS/gpQO7NP8CLvvNBN+aYQLyKkMAHdwpC2f4GQaZC48CuMCRC3g4eQcq6AcFfny1C49kxQcsMD8HtaDVC78OMQWWBUcE7pltCuxikQYDBbsEzSWxCQeqwQcxPfsHyW3VCTKrCQUJXiME/voBCaQGcvfG8Y7+f38pBaQGcvfG8Y7+aNyBCWyvsPsi0Q7+f38pBWyvsPsi0Q7+aNyBC05BSP6bXsb6f38pB05BSP6bXsb6aNyBCKJ5eP49QTz6f38pBKJ5eP49QTz6aNyBCMKMVPyDILD+f38pBMKMVPyDILD+aNyBCaQGcPfG8Yz+f38pBaQGcPfG8Yz+aNyBCWyvsvsi0Qz+f38pBWyvsvsi0Qz+aNyBC05BSv6bXsT6f38pB05BSv6bXsT6aNyBCKJ5ev49QT76f38pBKJ5ev49QT76aNyBCMKMVvyDILL+f38pBMKMVvyDILL+aNyBCAAAAAAAAAACf38pBAAAAAAAAAACaNyBCdJCNv8f/hD9pECBCCTCBv7czQUBhly5CkbFfv3/5okDR2zxCYZwZv//cC0FOHVRCeay3vR7/b0GBK3hC/Jr+PUyii0HssYJCbMeuPj9DnEH3JohCKcXZP/rf8UEf86JCG+QWQA0ODEK6m65C2i4wQEpxFkJ297RCxNdgQDEdJEIRd71CTx2iP9v9VT9pECBCx//AP3BoM0Bhly5CEQzdPy7Zm0DR2zxCp/QEQOwxCEFOHVRCydwoQERCbEGBK3hCUhI2QDXFiUHssYJCwf8+QMFzmkH3JohCyapdQPKq8EEf86JCWUZoQI2eC0K6m65CXZtrQOAfFkJ297RCB9hgQDEdJEIRd71C+QD5PsZ3KT+aNyBC+QD5PsZ3KT8s4GBCHIWOO2NIUj+aNyBCHIWOO2NIUj8s4GBCkGb1vtzGKj+aNyBCkGb1vtzGKj8s4GBCkKVHv2wUhD6aNyBCkKVHv2wUhD4s4GBCulVIvyOwf76aNyBCulVIvyOwf74s4GBC+QD5vsZ3Kb+aNyBC+QD5vsZ3Kb8s4GBCHIWOu2NIUr+aNyBCHIWOu2NIUr8s4GBCkGb1PtzGKr+aNyBCkGb1PtzGKr8s4GBCkKVHP2wUhL6aNyBCkKVHP2wUhL4s4GBCulVIPyOwfz6aNyBCulVIPyOwfz4s4GBCAAAAAAAAAACaNyBCAAAAAAAAAAAs4GBCEmMZP8W1w797smBC7C8zvxwsXMB3onFCQhUGwId/rcBxIoFCyLKSwPQsDsEPsY5CElEOwXLabMHataNC6JUpwdzsiMHGaqtCrD9BwbdqmMGax7FCJXifwQD/5sHuBdFCEu27wQvtBMK3nd5C/LHLwUhNDsKCB+ZCk1ziwdsOGsIS8O9C6q/Rv2rv6j17smBCybZEwOMg2b93onFCQoaRwOCtZ8BxIoFCQ3/jwMb94MAPsY5CF3s3wYucTsHataNCh6JSwWqxc8HGaqtCuiBpwZvEicGax7FCmMOswZw63cHuBdFCAYXFwedmAcK3nd5CO7PSwZC6C8KCB+ZCm1ziwdkOGsIS8O9CIEg8v4BpFr4s4GBCIEg8v4BpFr4AAJRCejgCvzkXDb8s4GBCejgCvzkXDb8AAJRCcluzvcKvPr8s4GBCcluzvcKvPr8AAJRCxeO7PlRyJ78s4GBCxeO7PlRyJ78AAJRC9mwuP9h+oL4s4GBC9mwuP9h+oL4AAJRCIEg8P4BpFj4s4GBCIEg8P4BpFj4AAJRCejgCPzkXDT8s4GBCejgCPzkXDT8AAJRCcluzPcKvPj8s4GBCcluzPcKvPj8AAJRCxeO7vlRyJz8s4GBCxeO7vlRyJz8AAJRC9mwuv9h+oD4s4GBC9mwuv9h+oD4AAJRCAAAAAAAAAAAs4GBCAAAAAAAAAAAAAJRCz8QIP8a7tT/P6pNChagnQLRJ9T/pxZtCWhOaQHCqGUAJfaNCtP0KQWHgTUB/ELBCCnV1QbJckkDnj8NCuaOPQa/uokANtspCQW+hQVHGr0ACndBCAKP9QSbV6UCHmO1CZncTQh8RAUF+NPpCc7seQjwHB0F5igBDZ9ktQvLhCkH6IgVDyvGEP1WGjb/P6pNC2udJQOBXQ7/pxZtCs8SrQBsavL4JfaNCNBkUQVrCuz5/ELBCrLx+Qam61T/nj8NCOkSUQQ2GDEANtspC/e2lQeV9K0ACndBCIVEAQkrOrUCHmO1COowUQnzR1kB+NPpClYUfQs5t7kB5igBDaNktQuDhCkH6IgVD1PNlP2HXRj8AAIBA1PNlP2HXRj8AAMBAolGKPqsDlD8AAIBAolGKPqsDlD8AAMBAqhnsvlISjD8AAIBAqhnsvlISjD8AAMBAkxWCv59AHT8AAIBAkxWCv59AHT8AAMBAqnSXv3igzb0AAIBAqnSXv3igzb0AAMBA1PNlv2HXRr8AAIBA1PNlv2HXRr8AAMBAolGKvqsDlL8AAIBAolGKvqsDlL8AAMBAqhnsPlISjL8AAIBAqhnsPlISjL8AAMBAkxWCP59AHb8AAIBAkxWCP59AHb8AAMBAqnSXP3igzT0AAIBAqnSXP3igzT0AAMBAAAAAAAAAAAAAAIBAAAAAAAAAAAAAAMBAtPJQv/A1Yb9a3b9A/P55v6i1g796tcxA7tiSv1Bjl7/HUtlA06O5v/+mub+O4u1ANpj8vywG9L+34QZBOH8LwOJjBcDZuQxBTdsWwFvZDsAMjRFB/JFSwMhZPsB0PilBnHxtwMxSU8BKjTNBtU58wGOHXsBzLDlB34OIwE4XbMADsEBBfwN9vyFALr9a3b9Apl+Uv2paUb96tcxA9f+qv8Dpdr/HUtlATIHSv5HlnL+O4u1AGPcKwGS51r+34QZBKCEYwOmP7b/ZuQxBDSEjwAuoAMAMjRFBwMBawEPjNMB0PilBMmRzwLR+TMBKjTNBNk+AwPyKWcBzLDlB4YOIwEgXbMADsEBBqISFPrt6nD8AAMBAqISFPrt6nD8AAABBf/EBv+o2kj8AAMBAf/EBv+o2kj8AAABBhIGKv4YzID8AAMBAhIGKv4YzID8AAABBtyKfvyjfBL4AAMBAtyKfvyjfBL4AAABBOvZtv/HyVb8AAMBAOvZtv/HyVb8AAABBqISFvrt6nL8AAMBAqISFvrt6nL8AAABBf/EBP+o2kr8AAMBAf/EBP+o2kr8AAABBhIGKP4YzIL8AAMBAhIGKP4YzIL8AAABBtyKfPyjfBD4AAMBAtyKfPyjfBD4AAABBOvZtP/HyVT8AAMBAOvZtP/HyVT8AAABBAAAAAAAAAAAAAMBAAAAAAAAAAAAAAABB3R4pvnucn78I5v9A+yZGvqpPtL8/wwRB43FnviD0yb9vfQlB4H6SvuL5778MMhFBQf/IvkySGMBbJB1BafTevl5XJcC2hSFBlA7zvsQhMMCAIyVB/GAyv+qGZ8CM5TZBi8xMvwIegMBenz5BR/dbvyjRhsAH1kJBPPt0vz2Oj8C+d0hBkVO3vhpYmr8I5v9AmNzLvhy5rr8/wwRBhf3fvgcuxL9vfQlBpvoAvywI6r8MMhFB60gdvwqLFcBbJB1B8Roov0VSIsC2hSFBxYowv7UyLcCAIyVBKA9XvyWSZcCM5TZBg0Rnv6nSfsBenz5B4EpvvzxNhsAH1kJBUvt0vzyOj8C+d0hB+NFfv83ARb8AAABB+NFfv83ARb8AACBBCq2Bvp3Fkb8AAABBCq2Bvp3Fkb8AACBBANLtPsT8iL8AAABBANLtPsT8iL8AACBBjJ6AP6/BF78AAABBjJ6AP6/BF78AACBBxaeUP2Nr4z0AAABBxaeUP2Nr4z0AACBB+NFfP83ART8AAABB+NFfP83ART8AACBBCq2BPp3FkT8AAABBCq2BPp3FkT8AACBBANLtvsT8iD8AAABBANLtvsT8iD8AACBBjJ6Av6/BFz8AAABBjJ6Av6/BFz8AACBBxaeUv2Nr470AAABBxaeUv2Nr470AACBBAAAAAAAAAAAAAABBAAAAAAAAAAAAACBBRgc/P+cHbj9P5R9B4qJ9P6rIlD80yilBhyegP111sz/IgTNBQFrbP9Lh6D+MWENBAsUgQCP0IUD/5ltBxuo0QP6yM0D752RB/EJGQDJ1QkD3VmxBZryQQBxPhkDBa4hB6EulQF2vlkB+XJBBzZ6wQCdwn0AasZRBknjAQBcOqkDZeppBLOCBP8g/ID9P5R9BF0ajP6QLVz80yilBVNLFP33TiD/IgTNByxABQOf9vD+MWENBo4Y0QNSXC0D/5ltBS55IQKdmHUD752RBumZZQJXLLED3VmxB2h2XQK4sfkDBa4hBnOapQEp5kUB+XJBBdfuzQA2im0AasZRBlXjAQBIOqkDZeppB8ZKKP84yIr0AACBB8ZKKP84yIr0AAEBBEi1mP8KzGj8AACBBEi1mP8KzGj8AAEBBwpG+PrM5gj8AACBBwpG+PrM5gj8AAEBBIAGYvqdbhT8AACBBIAGYvqdbhT8AAEBBQkJav9caKz8AACBBQkJav9caKz8AAEBB8ZKKv84yIj0AACBB8ZKKv84yIj0AAEBBEi1mv8KzGr8AACBBEi1mv8KzGr8AAEBBwpG+vrM5gr8AACBBwpG+vrM5gr8AAEBBIAGYPqdbhb8AACBBIAGYPqdbhb8AAEBBQkJaP9caK78AACBBQkJaP9caK78AAEBBAAAAAAAAAAAAACBBAAAAAAAAAAAAAEBBgpOOv099u751yj9BvjvlvzyCu76Fo1NBgwwgwHWPtb6uIWdBowBwwFPnpL7Wc4NBjZi8wNg1gb4+FZxBaoHXwCyWYb4uHaVBNlDuwNtEOb7nkaxBGe8xwXkM1j2hLtFBgjJMwXSsfj5eHOFBYHpawVgvrj5EzOlBYlZtwSPmCj+zaPVBVcWKv0mn5D51yj9BMjLhvxj//T6Fo1NBkPYdwANPCT+uIWdB79ptwAleGD/Wc4NBf4C7wL+oLj8+FZxBJGrWwD4zNj8uHaVB50DtwFl6OT/nkaxBppQxwUdONT+hLtFBPfFLwRgxLz9eHOFBuEpawfiFKD9EzOlBYVZtwX/mCj+zaPVBInBEv6UoJD8AAEBBInBEv6UoJD8AAGBBbGl/vz3Aij0AAEBBbGl/vz3Aij0AAGBBtNNYv4cYCL8AAEBBtNNYv4cYCL8AAGBB2te+vjCNbb8AAEBB2te+vjCNbb8AAGBB87l5PkdFeL8AAEBB87l5PkdFeL8AAGBBInBEP6UoJL8AAEBBInBEP6UoJL8AAGBBbGl/Pz3Air0AAEBBbGl/Pz3Air0AAGBBtNNYP4cYCD8AAEBBtNNYP4cYCD8AAGBB2te+PjCNbT8AAEBB2te+PjCNbT8AAGBB87l5vkdFeD8AAEBB87l5vkdFeD8AAGBBAAAAAAAAAAAAAEBBAAAAAAAAAAAAAGBBplCiP2catr3rnV9BDeIPQBxKWb+4/IFB/9BQQErK1L8515NBQhyhQKUnR8Ar8bBBx/MAQWrNs8BzD95Bi9oTQTd+08B4mu5BqqcjQQXr7sDgQvxBcp1zQdgLQMHyqR9CsIWLQaLdYMHBQC5CeQmVQckDc8GiNTZCy96gQYJvhsEY2EBC1B2gPoS2nb/rnV9B/AaeP4HyA8C4/IFBjsoNQIaZOsA515NBxjd9QPHcjMAr8bBB/L/eQJze3cBzD95BT1MCQV5x/cB4mu5BWqASQQTWC8HgQvxB3kJoQfShTcHyqR9C/WyHQXKrasHBQC5CwAuSQV8sesGiNTZCyN6gQYZvhsEY2EBC8GNWvIykar8AAGBB8GNWvIykar+q7AJCoDUHP4nMP78AAGBBoDUHP4nMP7+q7AJClR9eP5Vjl74AAGBBlR9eP5Vjl76q7AJClTFgPzmlij4AAGBBlTFgPzmlij6q7AJCMKEMP2rcOz8AAGBBMKEMP2rcOz+q7AJC8GNWPIykaj8AAGBB8GNWPIykaj+q7AJCoDUHv4nMPz8AAGBBoDUHv4nMPz+q7AJClR9ev5Vjlz4AAGBBlR9ev5Vjlz6q7AJClTFgvzmlir4AAGBBlTFgvzmlir6q7AJCMKEMv2rcO78AAGBBMKEMv2rcO7+q7AJCAAAAAAAAAAAAAGBBAAAAAAAAAACq7AJCiHWTv+jyej9KxgJCYQKZv/PtOkAlABFCUo2av3eZnkDa+B5CHNWYvyigCEHmvjVCBMmQv8kAa0G3DVlC6OWLv/fMiEHi/2VCC0iDvwsqmUEKsHBCgGTivu+L7UHvlZJCTPcIvjehCUKoAJ5C5GeSPebiE0KkOqRC1oMTP8JzIUIjjaxCHfuWP3Vtcj9KxgJClZ6jP1mrOEAlABFCY5msP41unUDa+B5C3fi3P0oGCEHmvjVCKmXGPwJkakG3DVlCLVPKP8t+iEHi/2VClC/JPxnemEEKsHBCJBOlP01Z7UHvlZJCwNaOP/KOCUKoAJ5CTuV7P4/VE0KkOqRC3oQTP8JzIUIjjaxCPrYAP2QhKj+q7AJCPrYAP2QhKj9lV1VCbyiEPBlLVT+q7AJCbyiEPBlLVT9lV1VCGw/0vkf8Lj+q7AJCGw/0vkf8Lj9lV1VC7JNJv5utiz6q7AJC7JNJv5utiz5lV1VCWCFMvxLvd76q7AJCWCFMvxLvd75lV1VCPrYAv2QhKr+q7AJCPrYAv2QhKr9lV1VCbyiEvBlLVb+q7AJCbyiEvBlLVb9lV1VCGw/0Pkf8Lr+q7AJCGw/0Pkf8Lr9lV1VC7JNJP5uti76q7AJC7JNJP5uti75lV1VCWCFMPxLvdz6q7AJCWCFMPxLvdz5lV1VCAAAAAAAAAACq7AJCAAAAAAAAAABlV1VClAYgP+C8y79gJ1VCzLBEvy8tZcBH9GZCld8QwImQtMCob3hCRsidwDTwE8FGd4pCzMMYwRdpdsE4jqBClPc1wWBxjsGop6hCmkpPwRuMnsF6V69C+tiqwWkx8MFRLdBCNkTJwUIzCsJldt5CVx3awbPvE8LhQOZC8UfywWofIMKtqvBCstHZvw2xLD5gJ1VCGypPwNBL279H9GZCzw6awOWgbcCob3hC2c/xwN5N6MBGd4pCMpNDwccFVsE4jqBCZ6hgwZKWfMGop6hC4MN4wd3bjsF6V69Chay4wZS75cFRLdBCWT7TwRhtBsJldt5CS2bhwT0uEcLhQOZC+UfywWcfIMKtqvBC3s4+v8ziqr1lV1VC3s4+v8ziqr0AAJhCu88Nv3RvAb9lV1VCu88Nv3RvAb8AAJhCNZcavvERPL9lV1VCNZcavvERPL8AAJhCcY6ePlHeLr9lV1VCcY6ePlHeLr8AAJhCKewmP/W+vb5lV1VCKewmP/W+vb4AAJhC3s4+P8ziqj1lV1VC3s4+P8ziqj0AAJhCu88NP3RvAT9lV1VCu88NP3RvAT8AAJhCNZcaPvERPD9lV1VCNZcaPvERPD8AAJhCcY6evlHeLj9lV1VCcY6evlHeLj8AAJhCKewmv/W+vT5lV1VCKewmv/W+vT4AAJhCAAAAAAAAAABlV1VCAAAAAAAAAAAAAJhCe/AlP90ouT+H6ZdC5WA5QIIY5D8kPqBCWFCoQJsUBkCabKhC58sWQQjEJkCVwrVCHKCEQYLlW0CRb8pCIxibQcG8b0BKBNJCwi+uQS72fUCKRthCd3UIQo3emkBYAvdCuoweQtCPpUCsMAJDbpYqQuL7qUAV1gVDiaU6QsYop0CrtQpDDLhzP7A6or+H6ZdCKwJOQBF3jL8kPqBCvPiyQN1LYb+abKhCWkgcQagO6r6VwrVCoWuHQXxNoT6Rb8pCqeGdQVA+Ij9KBNJC8OSwQTHacT+KRthCjlwJQiq5NEBYAvdCezMfQpkGbkCsMAJDMBArQtL+h0AV1gVDiaU6Qp8op0CrtQpDpBKOvzfXOz4AAMBApBKOvzfXOz4AAABBlr2Av2kGAb8AAMBAlr2Av2kGAb8AAABBtXcEvyG6f78AAMBAtXcEvyG6f78AAABBg5MsPgJgjr8AAMBAg5MsPgJgjr8AAABBskZKPxkCTb8AAMBAskZKPxkCTb8AAABBpBKOPzfXO74AAMBApBKOPzfXO74AAABBlr2AP2kGAT8AAMBAlr2AP2kGAT8AAABBtXcEPyG6fz8AAMBAtXcEPyG6fz8AAABBg5MsvgJgjj8AAMBAg5MsvgJgjj8AAABBskZKvxkCTT8AAMBAskZKvxkCTT8AAABBAAAAAAAAAAAAAMBAAAAAAAAAAAAAAABB1wyUPymgLD1jw/9AKrTEP3KK07utHQtBwpz3P+f9gr01JhZB1IsoQO8SML42IihBBUB1QAvmur4vBERB3aiJQJ8J475kPU5B3l+WQDFIBL8jrlZBDrjXQHLZcL84EIBB3+D0QFjgkb9NFIlBF1oCQS+ooL8T/41BOLUMQS4Jur+IkZRBJXGKP1j40r5jw/9Aj4K6P8kG+r6tHQtBbRTtP43VD781JhZB4h8jQF49L782IihBzLlvQJMnY78vBERBuueGQN/Zdr9kPU5B1LKTQB3ogr8jrlZBTu/VQHibo784EIBBSJfzQHgJsb9NFIlBw+EBQdVot78T/41BOLUMQUcJur+IkZRBK6aIvyF1Jr8AAABBK6aIvyF1Jr8AACBB74X2vmCnk78AAABB74X2vmCnk78AACBBpraTPhuum78AAABBpraTPhuum78AACBBqcNyP9t7UL8AAABBqcNyP9t7UL8AACBB2nifPxLKz70AAABB2nifPxLKz70AACBBK6aIPyF1Jj8AAABBK6aIPyF1Jj8AACBB74X2PmCnkz8AAABB74X2PmCnkz8AACBBpraTvhuumz8AAABBpraTvhuumz8AACBBqcNyv9t7UD8AAABBqcNyv9t7UD8AACBB2nifvxLKzz0AAABB2nifvxLKzz0AACBBAAAAAAAAAAAAAABBAAAAAAAAAAAAACBBGESBP20PQT9d8B9B5GGWP9LzXD8pvCVBnMOsP7V4eT9pbStBxGbUPw50lT+9tDRBkFkMQJVuvz9oF0NBjMsZQMfAzz+xXUhBBlElQLY03T97uExBl4xhQC78D0CeGmJBXKJ8QDukHkA3aGtBkr+FQCBoJkAVe3BBY/uPQNtjL0AiQ3dBhBSRP6AhDT9d8B9BDSmnP9HbJT8pvCVBghm+P/2LQD9pbStBnT/mP2JNcD+9tDRBPHEVQDiToT9oF0NBudwiQL36sT+xXUhBCCAuQPNHwD97uExBHmxnQJ1XBkCeGmJBp2+AQOmuF0A3aGtBq0uHQHZTIUAVe3BBZPuPQNVjL0AiQ3dBFCCRP+4DRb4AACBBFCCRP+4DRb4AAEBBWuKDPwLCAj8AACBBWuKDPwLCAj8AAEBBGokIP4hpgj8AACBBGokIP4hpgj8AAEBBkmUrvuyhkT8AACBBkmUrvuyhkT8AAEBB9N1Nv8VzUj8AACBB9N1Nv8VzUj8AAEBBFCCRv+4DRT4AACBBFCCRv+4DRT4AAEBBWuKDvwLCAr8AACBBWuKDvwLCAr8AAEBBGokIv4hpgr8AACBBGokIv4hpgr8AAEBBkmUrPuyhkb8AACBBkmUrPuyhkb8AAEBB9N1NP8VzUr8AACBB9N1NP8VzUr8AAEBBAAAAAAAAAAAAACBBAAAAAAAAAAAAAEBBFmqYvxdhnb3M2z9BH4HSv3jiibyAR01BIqQHwNHQXD29dVpBag09wK/7Pj7E8W9BWE+MwKG/2D52oIhB6kGewNP3BD++u45BR2+twOrnGz9hxpNBCG37wCIlkD8DiKxBGB0PwVImrz9KTbdBhY4YweAhwT8LLb1BaOkkwVLg3z/wBsVBKqOMv/NC7j7M2z9BcwLGvyr0Dj+AR01Bpi8BwCX1JT+9dVpBK2g2wGNkTD/E8W9BnuyIwDX+hT92oIhBm+GawDcRkj++u45BmyeqwHtEmz9hxpNBLj35wNKxwz8DiKxBGVMOwRRZ1D9KTbdBCPsXwRdL3D8LLb1BZ+kkwXHg3z/wBsVBWIMkv6iTVD8AAEBBWIMkv6iTVD8AAGBBjQWBv02Plj4AAEBBjQWBv02Plj4AAGBBhwJ9v/OKtb4AAEBBhwJ9v/OKtb4AAGBB0FUXv6wmXr8AAEBB0FUXv6wmXr8AAGBBUU8CPZpWhr8AAEBBUU8CPZpWhr8AAGBBWIMkP6iTVL8AAEBBWIMkP6iTVL8AAGBBjQWBP02Plr4AAEBBjQWBP02Plr4AAGBBhwJ9P/OKtT4AAEBBhwJ9P/OKtT4AAGBB0FUXP6wmXj8AAEBB0FUXP6wmXj8AAGBBUU8CvZpWhj8AAEBBUU8CvZpWhj8AAGBBAAAAAAAAAAAAAEBBAAAAAAAAAAAAAGBBSKSQP32m975QsV9B1zfiP2W0n79c3HxBGgkbQBbTA8DowIxBWfJjQAoEYMCyGaRBPAawQCCFv8AETMhBVDLIQMja3sCZkdVBbT7cQL7H+cCghuBBlUsgQaWFQ8FQKgtC2mk2QUFVY8GZ3hZCLzRCQdvTdMG0QB1CXU1QQV6UhsHSyCVCYzQ9Pi6Mm79QsV9Bw7RDP+6FAcBc3HxBq3CxP2YlN8DowIxBpKwfQARtisCyGaRB8z2NQCVw2sAETMhB44KlQJOy+cCZkdVBHIy6QNPtCcGghuBBxw8VQTo3TMFQKgtCq04uQT2bacGZ3hZC80g8QX9oecG0QB1CVk1QQWGUhsHSyCVCIyGnvNckc78AAGBBIyGnvNckc78AAIBB6rAKPwbHR78AAGBB6rAKPwbHR78AAIBBMqFlP580oL4AAGBBMqFlP580oL4AAIBBh9toPzxWjD4AAGBBh9toPzxWjD4AAIBBSSQTPz+jQT8AAGBBSSQTPz+jQT8AAIBBIyGnPNckcz8AAGBBIyGnPNckcz8AAIBB6rAKvwbHRz8AAGBB6rAKvwbHRz8AAIBBMqFlv580oD4AAGBBMqFlv580oD4AAIBBh9tovzxWjL4AAGBBh9tovzxWjL4AAIBBSSQTvz+jQb8AAGBBSSQTvz+jQb8AAIBBAAAAAAAAAAAAAGBBAAAAAAAAAAAAAIBBTKaJv+JAgj+Qb39BSDCNv6f+NUAEfZpB8N+Mv5RImECkx7RBPiaIv6ITAkGZot9Bjn12v3ChXkHnCRFCCBxpv6R4gUEyOB1C2VhVvxndkEGkRidCABBavqU54EFiqFhCjpXfPYPYAUJZJG5CsKmjPoZ9C0Lm23lC4UlRP4s9GEKHwoRCpR2PP/BxeD+Qb39BN7CcP6XLMkAEfZpBxuamP3ihlkCkx7RBYLW0P9Y5AUGZot9BYpzHP4TDXUHnCRFCkWbNP/0JgUEyOB1CmhrOP5pxkEGkRidCckm1P/nx30FiqFhC1XWkP6e+AUJZJG5Cy8uWP6RqC0Lm23lC2UpRP4s9GEKHwoRCfdckP60LDj8AAIBBfdckP60LDj9iGDZCSXhHPhLPUz8AAIBBSXhHPhLPUz9iGDZCG0+ovhirSD8AAIBBG0+ovhirSD9iGDZCRQg6vzbC4T4AAIBBRQg6vzbC4T5iGDZCI9pYv8I0kL0AAIBBI9pYv8I0kL1iGDZCfdckv60LDr8AAIBBfdckv60LDr9iGDZCSXhHvhLPU78AAIBBSXhHvhLPU79iGDZCG0+oPhirSL8AAIBBG0+oPhirSL9iGDZCRQg6PzbC4b4AAIBBRQg6PzbC4b5iGDZCI9pYP8I0kD0AAIBBI9pYP8I0kD1iGDZCAAAAAAAAAAAAAIBBAAAAAAAAAABiGDZCINOdPgOS4L8C5jVCh57Hv9orX8AgkkhCYg9jwPewqMC56FpCjH3iwIIPBsHxzHhC5rlSwVXAWsFqkpNCNCl5wWfEe8FrEZxCRh6NwSibi8EWFaNCoQvkwS+D0MGshsVCI50Fwi7v7sHjgtRCjWYQwuov/8ESr9xC+nofwvtsCcJzm+dCr0bYv/VnED8C5jVC/HdrwGd7g78gkkhCH523wGy4LsC56FpCMFIVweVjuMDxzHhCJXx3weMXMMFqkpNCmeiOwWw6UcFrEZxChOyewcXibcEWFaNC1+rvwTm8wsGshsVCsOUJwh/+5MHjgtRCN4cTwpft98ESr9xC/XofwvdsCcJzm+dC4kg/v5J2hL1iGDZC4kg/v5J2hL0AAJxCJAURv+6o+75iGDZCJAURv+6o+74AAJxCb3MtvgsKO79iGDZCb3MtvgsKO78AAJxCJ7eVPk/OML9iGDZCJ7eVPk/OML8AAJxCLXwkP9ETxr5iGDZCLXwkP9ETxr4AAJxC4kg/P5J2hD1iGDZC4kg/P5J2hD0AAJxCJAURP+6o+z5iGDZCJAURP+6o+z4AAJxCb3MtPgsKOz9iGDZCb3MtPgsKOz8AAJxCJ7eVvk/OMD9iGDZCJ7eVvk/OMD8AAJxCLXwkv9ETxj5iGDZCLXwkv9ETxj4AAJxCAAAAAAAAAABiGDZCAAAAAAAAAAAAAJxCXBUuP/IWwz/555tCt+JFQJU+6T/zz6RCWwm0QMb3BUAij61CqHUhQcy8IUAD0btCBxKOQQU4TkC869FCoSamQfKXXkCPBtpCjpq6QQSxaUCFt+BC0CcSQgwKiEB9yQBDIc0pQsG3jkBA7wdDiK42QirbkEAo1QtD5NVHQoZiikDyChFDbIpuPx87sb/555tCZvtWQH/Eob/zz6RCbN68QCM0jL8ij61CjQEmQUJqQb8D0btC/WKQQTQv+72869FC8HWoQVf1ET6PBtpCAtm8QSNy0j6Ft+BCUucSQsjNBUB9yQBDUlcqQgWoOUBA7wdDcBM3QkXbWEAo1QtD5dVHQl1iikDyChFDA28yPyVLTb8AAABBA28yPyVLTb8AACBBHoOEPzjSdL4AAABBHoOEPzjSdL4AACBBgWJ6P8iF1D4AAABBgWJ6P8iF1D4AACBBUhsMP8EjaT8AAABBUhsMP8EjaT8AACBBq3+9vbp7hz8AAABBq3+9vbp7hz8AACBBA28yvyVLTT8AAABBA28yvyVLTT8AACBBHoOEvzjSdD4AAABBHoOEvzjSdD4AACBBgWJ6v8iF1L4AAABBgWJ6v8iF1L4AACBBUhsMv8Ejab8AAABBUhsMv8Ejab8AACBBq3+9Pbp7h78AAABBq3+9Pbp7h78AACBBAAAAAAAAAAAAAABBAAAAAAAAAAAAACBBG12Av02aDj91zB9BZ1u5v/g3hD/N5zJBhBH0vyETxT+jq0VB4CYtwEwdHEDsQWRBax6CwFJ+f0Dv1olBNRiTwNBWk0CMiJJBVjWhwKMzpEAAtplBuxjowKvZ/EDF9LxBz7IDwdRnEkE/SsxBnA8MwWZoHUEdp9RBBTAWwaTLLEGQ1N9B0OTSvowLiT91zB9BsTZSvx34yT/N5zJBuSahv1iSBkCjq0VBTngCwEY2QUDsQWRBbL9YwIqlkkDv1olBENJ6wLEvpkCMiJJBaCSMwPmCtkAAtplB/QzawHqHBEHF9LxB7UL9wHDPFkE/SsxBVFwIwb6fIEEdp9RBATAWwajLLEGQ1N9BusWPvVBefz8AACBBusWPvVBefz9ZPqFBHaQkv7IIRD8AACBBHaQkv7IIRD9ZPqFBXWx4v+5Idz4AACBBXWx4v+5Idz5ZPqFB91Btv6ECwL4AACBB91Btv6ECwL5ZPqFBAJAHvyopWb8AACBBAJAHvyopWb9ZPqFBusWPPVBef78AACBBusWPPVBef79ZPqFBHaQkP7IIRL8AACBBHaQkP7IIRL9ZPqFBXWx4P+5Id74AACBBXWx4P+5Id75ZPqFB91BtP6ECwD4AACBB91BtP6ECwD5ZPqFBAJAHPyopWT8AACBBAJAHPyopWT9ZPqFBAAAAAAAAAAAAACBBAAAAAAAAAABZPqFBcqQyP0yPer8MFaFBSipPP+0aAcCKZLBBtn5oP4brRsDobb9BlCmIP430oMBn8NdBI5unP9xFBcFJ8P1B7AOzPy//GcGN7wVCdkq6PwuYK8HtrwtCz5bPPyZBg8H57SdCYtbVP4uWl8GBNzRC0KnWP2aposEB6zpCv77HP6FkscHq30NCA8oNvxiOiL8MFaFBmcsEvxsWB8CKZLBB2obtvpcZTcDobb9Bspiyvu0ipMBn8NdB1wYFvsHkBsFJ8P1Bwo8WveycG8GN7wVCctl5PfwpLcHtrwtCrisxPyXHg8H57SdCm+1/Pzz3l8GBNzRCF/aXPwDwosEB6zpCeL7HP6FkscHq30NCkI0Vv/y0O79ZPqFBkI0Vv/y0O7+InPpBZ40qvV/Db79ZPqFBZ40qvV/Db7+InPpBNk4EP+w8SL9ZPqFBNk4EP+w8SL+InPpB/rtgPxh1qL5ZPqFB/rtgPxh1qL6InPpBglJnP/XPfz5ZPqFBglJnP/XPfz6InPpBkI0VP/y0Oz9ZPqFBkI0VP/y0Oz+InPpBZ40qPV/Dbz9ZPqFBZ40qPV/Dbz+InPpBNk4Ev+w8SD9ZPqFBNk4Ev+w8SD+InPpB/rtgvxh1qD5ZPqFB/rtgvxh1qD6InPpBglJnv/XPf75ZPqFBglJnv/XPf76InPpBAAAAAAAAAABZPqFBAAAAAAAAAACInPpB7CTjvabOqj8UYPpB4RtMPycbJEBrZAhC3KjiP+ugdUB6ZRNCtWBgQGUHwkBNVSVCjETQQD3QHUFlJEFCyDv2QEeQNUGtVktCfo8LQYZuSUG2wVNCOrZiQSoIl0HzF31CjhGFQflVrUHziYdCSfqPQbRSuUFkcYxCtZGfQVBHyEFm/5JCc6mpP2uQQj4UYPpBJY8UQDLMrD9rZAhCXRpWQMNWJUB6ZRNC8A+kQBGzmEBNVSVCwo8CQe7BCEFlJEFCgHgVQQKRIEGtVktCxyklQXwINUG2wVNCTchzQUQ7kEHzF31CSDqLQbxtqEHziYdCkHmUQXG9tUFkcYxCu5GfQUxHyEFm/5JC2RBbP60GOz6InPpB2RBbP60GOz5EdS5Cw74VPymXJj+InPpBw74VPymXJj9EdS5C09C5PePKXj+InPpB09C5PePKXj9EdS5CiFPgvjnlQT+InPpBiFPgvjnlQT9EdS5C9LVMv6jftT6InPpB9LVMv6jftT5EdS5C2RBbv60GO76InPpB2RBbv60GO75EdS5Cw74VvymXJr+InPpBw74VvymXJr9EdS5C09C5vePKXr+InPpB09C5vePKXr9EdS5CiFPgPjnlQb+InPpBiFPgPjnlQb9EdS5C9LVMP6jftb6InPpB9LVMP6jftb5EdS5CAAAAAAAAAACInPpBAAAAAAAAAABEdS5C+YMnvxaWrb8cTi5C08okwF+L679B0jxCbRqTwIwjFMDsE0tCiKACwY5iR8DlUGJCM7hkwaRljsAMLINCpqCFwc64nsDvxolCLweWwYVzq8DrOo9C0QfrweyR5cDfAapCt40Iwi4H/sA3qLVCcvESwrERBcG2ArxCneUgwmldCcGrgMRCZ1STvx6HeD8cTi5C94NGwMXqID9B0jxCcoakwLLQcT7sE0tCV5gLwTCG+r7lUGJCedttwQcW478MLINCBS+KwaWrEsDvxolCTnSawVb/MMDrOo9CVPvtweVCrsDfAapCTp4Jwv8d1sA3qLVCe7gTwh3/7MC2ArxCnuUgwlldCcGrgMRCHKctv5P85D5EdS5CHKctv5P85D6ShmRCGMlPv5gYF71EdS5CGMlPv5gYF72ShmRCH40iv/LFAb9EdS5CH40iv/LFAb+ShmRCbOlcvrKISL9EdS5CbOlcvrKISL+ShmRCkWGSPpSyQr9EdS5CkWGSPpSyQr+ShmRCHKctP5P85L5EdS5CHKctP5P85L6ShmRCGMlPP5gYFz1EdS5CGMlPP5gYFz2ShmRCH40iP/LFAT9EdS5CH40iP/LFAT+ShmRCbOlcPrKISD9EdS5CbOlcPrKISD+ShmRCkWGSvpSyQj9EdS5CkWGSvpSyQj+ShmRCAAAAAAAAAABEdS5CAAAAAAAAAACShmRCtrG5P8yXID8LW2RCYzpVQAktBL9jfXRCuRipQJC537/rKoJCjTMLQUm4fMDvFI9CXZpoQd1w+MCIGqNC9o6GQU5gFMHhcapCH96VQVxkKcF1gbBCjajjQWywjMFzRM5CoxgDQg8UpsEyN9tCkGUMQsYstMH7RuJCzyAYQmqayME9t+tCI5Giu29Pyr8LW2RCW8XkP5H1NsBjfXRC0xBsQEFhhcDrKoJCD9XhQAsYzsDvFI9C9tFNQZbXJMGIGqNCpWhyQXLiPMHhcapC8OSIQeG+UMF1gbBCJgLbQQXPmcFzRM5CXPP/QaKLr8EyN9tCMB4KQmQWu8H7RuJCzCAYQnKayME9t+tCBZUQPiWRPL+ShmRCBZUQPiWRPL8AAJBCSBQMP95OA7+ShmRCSBQMP95OA78AAJBC54E+P9Mmv72ShmRC54E+P9Mmv70AAJBCEysoPy5LuT6ShmRCEysoPy5LuT4AAJBCZzCjPrjMLT+ShmRCZzCjPrjMLT8AAJBCBZUQviWRPD+ShmRCBZUQviWRPD8AAJBCSBQMv95OAz+ShmRCSBQMv95OAz8AAJBC54E+v9Mmvz2ShmRC54E+v9Mmvz0AAJBCEysovy5Lub6ShmRCEysovy5Lub4AAJBCZzCjvrjMLb+ShmRCZzCjvrjMLb8AAJBCAAAAAAAAAACShmRCAAAAAAAAAAAAAJBCLeGsvx8TDj/j649CQDvnv0xoIkBtYJdC8wUQwLv6k0DRsp5CKMA/wJvgBEEWoqpCLoWHwO8RakHuIr1ChqGWwMnoiEG868NCokuiwOPRmUGihclC+K7WwHFs8UHBBuVCMYjswBhUDEIY/vBCTS/3wMcHF0LEhPdCwpz9wA9iJULhHgBDaVuGPxzugT/j649CynU9PwCmQUBtYJdCl/3CPnoepEDRsp5CphOTvm8vDUEWoqpCAMm8vwaJckHuIr1Csjb6v08hjUG868NCGnUZwJzrnUGihclCu6GdwFgo9EHBBuVCBl3DwJ9QDUIY/vBC7x/ZwCrAF0LEhPdCoJz9wBBiJULhHgBDPcCYPz/LT70AAABAPcCYPz/LT70AAIBAMsp+PwwQKT8AAABAMsp+PwwQKT8AAIBAdYPVPqVEjz8AAABAdYPVPqVEjz8AAIBAiRukvglIkz8AAABAiRukvglIkz8AAIBAxoVvv4gTPj8AAABAxoVvv4gTPj8AAIBAPcCYvz/LTz0AAABAPcCYvz/LTz0AAIBAMsp+vwwQKb8AAABAMsp+vwwQKb8AAIBAdYPVvqVEj78AAABAdYPVvqVEj78AAIBAiRukPglIk78AAABAiRukPglIk78AAIBAxoVvP4gTPr8AAABAxoVvP4gTPr8AAIBAAAAAAAAAAAAAAABAAAAAAAAAAAAAAIBAhvCZv+hier3vxH9Aptaxv/vldb0Z1YpAL+XKvy4GZL2XlZVAIf32vxTqNr0qHKdAd1IhwMOjs7wWSMJAUykwwAHjP7yKPsxAzbw8wFQaozkueNRAOIx9wGwmrj3e2/xAo0CNwHiKAj4lNwdB5R+VwNLfHT7QAQxBMISfwBr/WD5caRJBWLiYvybjJj7vxH9Acouwv9T+NT4Z1YpA+o7JvyCOQj6XlZVA0pz1v2pBVT4qHKdA+p4gwItucT4WSMJAV3YvwFwoez6KPsxA6w48wLD3fz4ueNRASBh9wL/DgD7e2/xAzxaNwH+KfT4lNwdBWgGVwGSvdz7QAQxBMISfwH//WD5caRJB2OZ5P27fRz8AAIBA2OZ5P27fRz8AAMBAjGKpPmVLmj8AAIBAjGKpPmVLmj8AAMBAnLvhvqa3lT8AAIBAnLvhvqa3lT8AAMBAN6iFvxboLz8AAIBAN6iFvxboLz8AAMBAGdSfv6H9bL0AAIBAGdSfv6H9bL0AAMBA2OZ5v27fR78AAIBA2OZ5v27fR78AAMBAjGKpvmVLmr8AAIBAjGKpvmVLmr8AAMBAnLvhPqa3lb8AAIBAnLvhPqa3lb8AAMBAN6iFPxboL78AAIBAN6iFPxboL78AAMBAGdSfP6H9bD0AAIBAGdSfP6H9bD0AAMBAAAAAAAAAAAAAAIBAAAAAAAAAAAAAAMBAE/psv+dwWb+V6b9ACjuEv7ofcb/bOMhACdiSv9+9hL8SYtBAusWsv0bumb+Ar91ASYHZv5oBvr86T/JA1iLrvxsQzL8X3/lA/kr6v7e617+qDgBBpu0kwKsXCcC2Yg9Bedk2wLn7FcDsDRZBbrVAwBrcHMD/sBlBJHFOwAwdJcB1jR5BpxmEvz9nN7+V6b9AB6ySvwIDTb/bOMhA48Ohv8wrZL8SYtBASyK8v1+5hr+Ar91ASyjpv59vqr86T/JAqr76vxqMuL8X3/lAdboEwCLFxL+qDgBByvspwJvFAsC2Yg9BU386wCBsEcDsDRZBTV9DwI+HGcD/sBlBJ3FOwAgdJcB1jR5BxQCgPk3rmj8AAMBAxQCgPk3rmj8AAABBpsrqvhXYlD8AAMBApsrqvhXYlD8AAABB2PmGv8zUKz8AAMBA2PmGv8zUKz8AAABBobKfv1dGnb0AAMBAobKfv1dGnb0AAABBSNd2vwekS78AAMBASNd2vwekS78AAABBxQCgvk3rmr8AAMBAxQCgvk3rmr8AAABBpsrqPhXYlL8AAMBApsrqPhXYlL8AAABB2PmGP8zUK78AAMBA2PmGP8zUK78AAABBobKfP1dGnT0AAMBAobKfP1dGnT0AAABBSNd2PwekSz8AAMBASNd2PwekSz8AAABBAAAAAAAAAAAAAMBAAAAAAAAAAAAAAABBYj5fvoORnr8I5v9A46SBvmsYs78/wwRBgvSVvpaKyL9vfQlBTyq7vtUz7r8MMhFBkLL8vpldF8BbJB1BJX0Lv9kBJMC2hSFBlV0Xv2iuLsCAIyVBR5VZvxVsZcCM5TZBJy54v5jTfcBenz5BT86Ev8SGhcAH1kJBwcmSv8wfjsC+d0hBN2fRvqtBmL8I5v9AhGLpvhlmrL8/wwRBXJIAv0ufwb9vfQlBGsIUv0UU578MMhFBn5E2v4+8E8BbJB1BVY1Dv2ZjIMC2hSFBotRNv14qK8CAIyVB0uV9v/sTY8CM5TZBSDGJv48ifMBenz5BcV+Ov6zohMAH1kJBzMmSv8wfjsC+d0hBy7pCv6J0Yr8AAABBy7pCv6J0Yr8AACBBdHXDvTTVlL8AAABBdHXDvTTVlL8AACBBgjIbP3Mtf78AAABBgjIbP3Mtf78AACBB/8WJP8pw5r4AAABB/8WJP8pw5r4AACBBzFKRP5F+iT4AAABBzFKRP5F+iT4AACBBy7pCP6J0Yj8AAABBy7pCP6J0Yj8AACBBdHXDPTTVlD8AAABBdHXDPTTVlD8AACBBgjIbv3Mtfz8AAABBgjIbv3Mtfz8AACBB/8WJv8pw5j4AAABB/8WJv8pw5j4AACBBzFKRv5F+ib4AAABBzFKRv5F+ib4AACBBAAAAAAAAAAAAAABBAAAAAAAAAAAAACBBHr8cP6Dwgj9P5R9BFaRSP/azpD80yilBRCiGPyOkxz/IgTNBJYK5P6tSAkCMWENBACgJQFxiNkD/5ltBV7EaQMa2SkD752RBONwpQL2zW0D3VmxBzRd6QEPPmEDBa4hB2i2PQMvWq0B+XJBBuDOZQFUOtkAasZRBenSnQMC8wkDZeppBsnFrPyk1Qj9P5R9BQhGTPwDOgD80yilBpkqxP8WMoj/IgTNBXOrlP8h13j+MWENBtscfQA7uIkD/5ltB5EAxQF1QN0D752RBIcc/QOjaSED3VmxBcVqEQMiGkkDBa4hBo3OUQBxOp0B+XJBBSw2dQNa+skAasZRBfnSnQLy8wkDZeppB0IKJP3rsDj4AACBB0IKJP3rsDj4AAEBBzn5JP5CPPj8AACBBzn5JP5CPPj8AAEBBbQRMPixNiD8AACBBbQRMPixNiD8AAEBB7O/tvhyFej8AACBB7O/tvhyFej8AAEBB439zvza/BD8AACBB439zvza/BD8AAEBB0IKJv3rsDr4AACBB0IKJv3rsDr4AAEBBzn5Jv5CPPr8AACBBzn5Jv5CPPr8AAEBBbQRMvixNiL8AACBBbQRMvixNiL8AAEBB7O/tPhyFer8AACBB7O/tPhyFer8AAEBB439zPza/BL8AACBB439zPza/BL8AAEBBAAAAAAAAAAAAACBBAAAAAAAAAAAAAEBBV+OEv4yCC791yj9BT1vav8UdKL+Fo1NBSRwawAkrQ7+uIWdB0E9pwCW5b7/Wc4NBr624wEJVnL8+FZxBd2PTwJ4Lqr8uHaVBdBfqwL4gtL/nkaxBZMUvwZOt3b+hLtFBGA5KwXMk7r9eHOFBsWFYwQJx9b9EzOlBTIRrwaLJ9L+zaPVB/EySv0buhT51yj9BOJbov4PFSz6Fo1NBRnYhwEFe+T2uIWdBVeFwwNaS1rzWc4NByIi8wHF5lr4+FZxBzzvXwASmzr4uHaVBvdPtwB89Ar/nkaxBMgQxwfj+kL+hLtFBJfRKwffOtr9eHOFBqwlZwdEJzb9EzOlBTIRrwXTJ9L+zaPVBqD0uv5KNOz8AAEBBqD0uv5KNOz8AAGBBZzR7v/5ERT4AAEBBZzR7v/5ERT4AAGBBhjdov/uC174AAEBBhjdov/uC174AAGBBbQ/5voKrX78AAEBBbQ/5voKrX78AAGBBhMj1PVcmfr8AAEBBhMj1PVcmfr8AAGBBqD0uP5KNO78AAEBBqD0uP5KNO78AAGBBZzR7P/5ERb4AAEBBZzR7P/5ERb4AAGBBhjdoP/uC1z4AAEBBhjdoP/uC1z4AAGBBbQ/5PoKrXz8AAEBBbQ/5PoKrXz8AAGBBhMj1vVcmfj8AAEBBhMj1vVcmfj8AAGBBAAAAAAAAAAAAAEBBAAAAAAAAAAAAAGBBopifPzmVfb7rnV9Ba+kHQCT2j7+4/IFBgchBQM3NA8A515NBGFCTQM8VbsAr8bBBu0DpQN3M0sBzD95BwWIFQfz99sB4mu5BcVYTQRoWC8HgQvxBk4lZQYQmXcHyqR9CPY94QfgUgcHBQC5CBJSEQdlHi8GiNTZCNbGOQQ+YmcEY2EBCJxEfPoB+ob/rnV9BDTF3P4zVDMC4/IFBoWnqPw7ySsA515NBDMpXQLupm8Ar8bBBohbBQCgd+MBzD95BGLjiQNAZDsF4mu5BxMP/QCcpHcHgQvxByJBMQZszacHyqR9C8zJvQRNuhcHBQC5CKymBQZp0jsGiNTZCMbGOQRKYmcEY2EBCacIpO22qar8AAGBBacIpO22qar+q7AJCM3gKP3N1Pb8AAGBBM3gKP3N1Pb+q7AJComJfPyPFj74AAGBBomJfPyPFj76q7AJCt/leP/BKkj4AAGBBt/leP/BKkj6q7AJChmUJPwQ9Pj8AAGBBhmUJPwQ9Pj+q7AJCasIpu22qaj8AAGBBasIpu22qaj+q7AJCM3gKv3N1PT8AAGBBM3gKv3N1PT+q7AJComJfvyPFjz4AAGBBomJfvyPFjz6q7AJCt/lev/BKkr4AAGBBt/lev/BKkr6q7AJChmUJvwQ9Pr8AAGBBhmUJvwQ9Pr+q7AJCAAAAAAAAAAAAAGBBAAAAAAAAAACq7AJCTZWVv3PedT9KxgJCS2GfvwmYOUAlABFCvWClv2LqnUDa+B5CPICrv2lHCEHmvjVCyOmwv8OoakG3DVlCoE6xv5GhiEHi/2VCPiutv2QAmUEKsHBCECtzv49z7UHvlZJCp9w4v7mZCUKoAJ5CbI0Pv53eE0KkOqRCjaHpvc53IUIjjaxC0+KUP0eOdz9KxgJCmkedP5MKOkAlABFCLM6hP44lnkDa+B5CLlalP99lCEHmvjVCAU2mP8zHakG3DVlCCvOkPwqxiEHi/2VCt1SfP2wPmUEKsHBClThIP5V97UHvlZJCsBYHP1adCUKoAJ5CgCG0PkHhE0KkOqRCT5npvc53IUIjjaxCLpEJP6oNIz+q7AJCLpEJP6oNIz9lV1VCn0J3PdvFVD+q7AJCn0J3PdvFVD9lV1VC8h/hvmk4NT+q7AJC8h/hvmk4NT9lV1VCY5VFv0vloD6q7AJCY5VFv0vloD5lV1VCbiJPv002TL6q7AJCbiJPv002TL5lV1VCLpEJv6oNI7+q7AJCLpEJv6oNI79lV1VCn0J3vdvFVL+q7AJCn0J3vdvFVL9lV1VC8h/hPmk4Nb+q7AJC8h/hPmk4Nb9lV1VCY5VFP0vloL6q7AJCY5VFP0vloL5lV1VCbiJPP002TD6q7AJCbiJPP002TD5lV1VCAAAAAAAAAACq7AJCAAAAAAAAAABlV1VC1ScKP0Wzz79gJ1VCNRt1v7M9YsBH9GZC6dkjwEZ2sMCob3hCn0atwPeJD8FGd4pCUKMlwbjybcE4jqBCu9dEwbBoicGop6hClddfwWvRmMF6V69CaV23wWXH5sFRLdBCAarXweOoBMJldt5C1YXpwULvDcLhQOZCj3kBwkN2GcKtqvBCcF3Yvw+BhD5gJ1VCPrJUwHT6xL9H9GZCySagwDftXMCob3hCXM/9wLgh28BGd4pC06pOwflUS8E4jqBC8MFtwVtMcMGop6hCmsuDwd0MiMF6V69Ct53EwVSZ28FRLdBC5TnhwUCgAMJldt5CNYHwwUP9CsLhQOZCk3kBwj92GcKtqvBC8G0/v/embL1lV1VC8G0/v/embL0AAJhCBy0Sv4T4+L5lV1VCBy0Sv4T4+L4AAJhCN1o0vn2hOr9lV1VCN1o0vn2hOr8AAJhCkHGSPlh9Mb9lV1VCkHGSPlh9Mb8AAJhCP5AjP1sbyb5lV1VCP5AjP1sbyb4AAJhC8G0/P/embD1lV1VC8G0/P/embD0AAJhCBy0SP4T4+D5lV1VCBy0SP4T4+D4AAJhCN1o0Pn2hOj9lV1VCN1o0Pn2hOj8AAJhCkHGSvlh9MT9lV1VCkHGSvlh9MT8AAJhCP5Ajv1sbyT5lV1VCP5Ajv1sbyT4AAJhCAAAAAAAAAABlV1VCAAAAAAAAAAAAAJhCX5EyP+sytj+H6ZdCOjA9QC841z8kPqBCsoSqQIXd9D+abKhC5CMYQSHwEUCVwrVC4X2FQc1NN0CRb8pCVAicQaT0REBKBNJCtCyvQSnsTUCKRthCJAsJQr6FakBYAvdC0iofQm6/c0CsMAJDkTcrQrr3dUAV1gVDJEE7QtR9Z0CrtQpDr2xoPz9Spr+H6ZdCIHlLQKeKmr8kPqBC6eWxQBkvib+abKhCX/AbQaHkSr+VwrVCU22HQUukiL6Rb8pCZPadQX2lN71KBNJCrgyxQWmzPD6KRthCKKsJQn4s0j9YAvdCSp4fQspYFkCsMAJD4IsrQu7EMUAV1gVDJEE7Qod9Z0CrtQpD1sCVvw27Eb4AAMBA1sCVvw27Eb4AAABBLORcvyqFTb8AAMBALORcvyqFTb8AAABBw5xnvpANlL8AAMBAw5xnvpANlL8AAABBf2f+Pm/LiL8AAMBAf2f+Pm/LiL8AAABBONyDPyWSEr8AAMBAONyDPyWSEr8AAABB1sCVPw27ET4AAMBA1sCVPw27ET4AAABBLORcPyqFTT8AAMBALORcPyqFTT8AAABBw5xnPpANlD8AAMBAw5xnPpANlD8AAABBf2f+vm/LiD8AAMBAf2f+vm/LiD8AAABBONyDvyWSEj8AAMBAONyDvyWSEj8AAABBAAAAAAAAAAAAAMBAAAAAAAAAAAAAAABB2hqUP15imj741f9AvLG1P7W+rz40tQdBoQHZP0jUwz6/Ww9Ba58LQI7G5D4t1BtBCBNBQGpGDT+tKS9B3A9WQN1aFz91QDZBBeZnQCywHj+7GjxB9xOiQBRMPD/011hB7bi2QCjgRz/RWGVBP/nBQCzfTD9+KmxBMv7QQB5hSz+9R3VB6gmZP9Vse7z41f9AyO26P8Vn5zs0tQdBNWreP0nWDz2/Ww9BI2gOQG62tj0t1BtBPelDQB/5Pz6tKS9BC+RYQGdVaT51QDZBj6VqQAOjiD67GjxBgv6iQAQLAD/011hBLGK3QGZlHD/RWGVB03TCQNgfLT9+KmxBM/7QQPpgSz+9R3VBStlXv2w9bL8AAABBStlXv2w9bL8AACBBZBEPvlf/nr8AAABBZBEPvlf/nr8AACBBAfodP60ki78AAABBAfodP60ki78AACBBcrCRP0BIBL8AAABBcrCRP0BIBL8AACBB6b2cP7B/gD4AAABB6b2cP7B/gD4AACBBStlXP2w9bD8AAABBStlXP2w9bD8AACBBZBEPPlf/nj8AAABBZBEPPlf/nj8AACBBAfodv60kiz8AAABBAfodv60kiz8AACBBcrCRv0BIBD8AAABBcrCRv0BIBD8AACBB6b2cv7B/gL4AAABB6b2cv7B/gL4AACBBAAAAAAAAAAAAAABBAAAAAAAAAAAAACBBkTtCP3/TgD9d8B9BLvtiP+celD8pvCVB9P2CP+4RqD9pbStB4yKiP6viyj+9tDRBrvjXP9YkA0BoF0NBrDntPxW9DkCxXUhBRZb/Px9rGEB7uExB40kwQNRPSUCeGmJB3DFGQBv1XkA3aGtB+0pSQKKRakAVe3BBgm5jQMnqeEAiQ3dBxx5vP6ejWD9d8B9BXk2JP5G6fD8pvCVBUJibPziXkT9pbStBF3e7Pya+sz+9tDRBosfxPwC17j9oF0NBGHsDQCv7AkCxXUhBfEsMQAL/DEB7uExBup84QC2yQUCeGmJBpDVMQDt2WUA3aGtBSK9WQGGOZkAVe3BBh25jQMXqeEAiQ3dBtIKNP7odoj4AACBBtIKNP7odoj4AAEBB/FI1P9juZz8AACBB/FI1P9juZz8AAEBBcOElPdQbkz8AACBBcOElPdQbkz8AAEBBlIwkv+oedD8AACBBlIwkv+oedD8AAEBBi06Kv3yOyT4AACBBi06Kv3yOyT4AAEBBtIKNv7odor4AACBBtIKNv7odor4AAEBB/FI1v9juZ78AACBB/FI1v9juZ78AAEBBcOElvdQbk78AACBBcOElvdQbk78AAEBBlIwkP+oedL8AACBBlIwkP+oedL8AAEBBi06KP3yOyb4AACBBi06KP3yOyb4AAEBBAAAAAAAAAAAAACBBAAAAAAAAAAAAAEBBdS+Fv2aDFb/M2z9BTuO8v/nhOb+AR01BnJv3v34ZXr+9dVpBn6IvwF7sjb/E8W9B6WCEwEjBwb92oIhBNeSVwFWz1b++u45BFNGkwC+a5b9hxpNBNUzywP1iGMADiKxB2YMKwQR/KMBKTbdBfQAUwYe3MMALLb1B3M0gwR04OMDwBsVBLpGYv6GtYr3M2z9BbHPRv/EmKb6AR01BVm0GwDd3k769dVpBZZI6wBsaA7/E8W9BTPOJwLbfZ792oIhBnnKbwHsZiL++u45B8TaqwKY2mr9hxpNBkeX1wP6B/r8DiKxBRtALwTxcFsBKTbdBN/MUwYR5I8ALLb1B3c0gwQ44OMDwBsVB+sJHv4fbMz8AAEBB+sJHv4fbMz8AAGBBAaqFvxK64D0AAEBBAaqFvxK64D0AAGBBz8hov9NnBr8AAEBBz8hov9NnBr8AAGBBXqbavkqQdb8AAEBBXqbavkqQdb8AAGBBYpJfPl52g78AAEBBYpJfPl52g78AAGBB+sJHP4fbM78AAEBB+sJHP4fbM78AAGBBAaqFPxK64L0AAEBBAaqFPxK64L0AAGBBz8hoP9NnBj8AAEBBz8hoP9NnBj8AAGBBXqbaPkqQdT8AAEBBXqbaPkqQdT8AAGBBYpJfvl52gz8AAEBBYpJfvl52gz8AAGBBAAAAAAAAAAAAAEBBAAAAAAAAAAAAAGBBDFyZP4eVjL5QsV9Bmw77P92rab9c3HxBqAswQGoszL/owIxB9BuEQDPPM8CyGaRBF1bPQCIWncAETMhBnrTsQKect8CZkdVBdZ0CQbuIzsCghuBBdpJAQdHTI8FQKgtCUQFcQQswP8GZ3hZCb7lqQRVNTsG0QB1C2e58QRm7Y8HSyCVC1vbLPt7XlL9QsV9BGXOOP1d27b9c3HxB0d/vP4lnJMDowIxBUXROQET3c8CyGaRBVeixQJ/FvcAETMhB4VvPQM002MCZkdVBV7joQAMz7sCghuBBSxE3QUBiLsFQKgtCiiVVQSDORsGZ3hZCa7dlQfncU8G0QB1C0+58QR+7Y8HSyCVC4hq/PnqkX78AAGBB4hq/PnqkX78AAIBB4sFQP02I+b4AAGBB4sFQP02I+b4AAIBBVzlyP80hrj0AAGBBVzlyP80hrj0AAIBBVys3PzP8Hz8AAGBBVys3PzP8Hz8AAIBBwZlYPk0YbT8AAGBBwZlYPk0YbT8AAIBB4hq/vnqkXz8AAGBB4hq/vnqkXz8AAIBB4sFQv02I+T4AAGBB4sFQv02I+T4AAIBBVzlyv80hrr0AAGBBVzlyv80hrr0AAIBBVys3vzP8H78AAGBBVys3vzP8H78AAIBBwZlYvk0Ybb8AAGBBwZlYvk0Ybb8AAIBBAAAAAAAAAAAAAGBBAAAAAAAAAAAAAIBBTiCzv+909z6Qb39BsWMLwDepCEAEfZpBcdA9wIBheECkx7RBTFWKwKXw3kCZot9B9sLTwCVyREHnCRFC/jLwwFzeZUEyOB1CxKwDweY1gUGkRidCLh08wSCNy0FiqFhCwa5Uwf7r7EFZJG5C0IdhwQow/0Hm23lCe1BvwagHDEKHwoRCnD0eP5QzrD+Qb39BC2IZvSMxQ0AEfZpBNhNBv7FtmkCkx7RBvfECwAAS/kCZot9Bb4WJwEFOVEHnCRFCfSqmwCSvdUEyOB1CT22/wJTkiEGkRidC/iIkwWms0EFiqFhCbWFDwTie8EFZJG5CqOVUwXnxAELm23lCbFBvwakHDEKHwoRCypqrPiT4Rz8AAIBBypqrPiT4Rz9iGDZCb35Avj82VD8AAIBBb35Avj82VD9iGDZC8aojv5NlDz8AAIBB8aojv5NlDz9iGDZCTbJYv7d4nj0AAIBBTbJYv7d4nj1iGDZCXfQ6v8Gw3r4AAIBBXfQ6v8Gw3r5iGDZCypqrviT4R78AAIBBypqrviT4R79iGDZCb35APj82VL8AAIBBb35APj82VL9iGDZC8aojP5NlD78AAIBB8aojP5NlD79iGDZCTbJYP7d4nr0AAIBBTbJYP7d4nr1iGDZCXfQ6P8Gw3j4AAIBBXfQ6P8Gw3j5iGDZCAAAAAAAAAAAAAIBBAAAAAAAAAABiGDZCOP2FP718uL8C5jVCcbEDPslVdMAgkkhCywRgvzlmycC56FpCusMrwLcnKsHxzHhCscG6wMuDkMFqkpNC9tviwOTHp8FrEZxCBRwDwTpeu8EWFaNCJN5iwcy2D8KshsVChUuHwYD6JcLjgtRCwIyTwYkDMsISr9xC9AWmwSl3QcJzm+dCuQbivyMacL4C5jVCZb82wPtjIsAgkkhCc1R9wL8Qn8C56FpCx3S7wBZdFMHxzHhCbCARwa1phcFqkpNCmgglwbS1nMFrEZxCDD41wdWcsMEWFaNCnyWCweIgDMKshsVC7lqTwSFkI8LjgtRCFVucweQfMMISr9xC/gWmwSZ3QcJzm+dC2vc1vzEAdb5iGDZC2vc1vzEAdb4AAJxCQW3evrqCHL9iGDZCQW3evrqCHL8AAJxCNloBPEf9P79iGDZCNloBPEf9P78AAJxCoPfkPnkiGr9iGDZCoPfkPnkiGr8AAJxCoTc3P4GfZb5iGDZCoTc3P4GfZb4AAJxC2vc1PzEAdT5iGDZC2vc1PzEAdT4AAJxCQW3ePrqCHD9iGDZCQW3ePrqCHD8AAJxCNloBvEf9Pz9iGDZCNloBvEf9Pz8AAJxCoPfkvnkiGj9iGDZCoPfkvnkiGj8AAJxCoTc3v4GfZT5iGDZCoTc3v4GfZT4AAJxCAAAAAAAAAABiGDZCAAAAAAAAAAAAAJxCBxeaPtUf0j/555tCIMIkQFMLIEDzz6RCByKfQLkwV0Aij61CZVkTQRPSmkAD0btC7/eDQTJc6kC869FCkOKaQUCHBEGPBtpCom6uQb3hEEGFt+BCWwIKQr4eTEF9yQBDGMogQu+xZUFA7wdDIj4tQtXlckEo1QtDPho+QvPzf0HyChFDu72dP/UPkL/555tCJgBkQOi83r7zz6RCD86/QJZ6qD4ij61CzyokQZ6Q2z8D0btCZYmMQQCKhEC869FC522jQQeFo0CPBtpCnru2Qf8ev0CFt+BCxsYMQi88K0F9yQBDS8kiQhX3TUFA7wdDZLMuQiuSYUEo1QtDQBo+QuDzf0HyChFD0yxAP+1TUL8AAABB0yxAP+1TUL8AACBBZfaKPxBVXr4AAABBZfaKPxBVXr4AACBBKsKAP/vI7D4AAABBKsKAP/vI7D4AACBBBb8KP28ldz8AAABBBb8KP28ldz8AACBBZRUEvs2/jD8AAABBZRUEvs2/jD8AACBB0yxAv+1TUD8AAABB0yxAv+1TUD8AACBBZfaKvxBVXj4AAABBZfaKvxBVXj4AACBBKsKAv/vI7L4AAABBKsKAv/vI7L4AACBBBb8Kv28ld78AAABBBb8Kv28ld78AACBBZRUEPs2/jL8AAABBZRUEPs2/jL8AACBBAAAAAAAAAAAAAABBAAAAAAAAAAAAACBB/Tt6v7PzHj/V2B9Bbsapvw3ueD+rXS5BltPXvzRorD8DoDxBhggUwJnJAEAW3lNBgGlYwFdQSkD/5ndBkhRzwE1QZ0CyjoJBoKOEwM0lgEDxAohBXXm8wD7jwUAqy6JBZyXVwF6J30APcq5BD1jiwM3f70DczLRBM2vywLFlA0E3S71BtEgKv3Ecgz/V2B9B6MZcvz0/sz+rXS5BX3eav3sC5T8DoDxBUuXov4XsHUAW3lNBkjo4wHYAaED/5ndBoPxSwJx1gkCyjoJBhRlqwDyHjkDxAohBcxSywNh5y0Aqy6JBSKXNwJx05kAPcq5BDN7cwBzt9EDczLRBLWvywLRlA0E3S71BVNVuvo0qgT8AACBBVNVuvo0qgT8AAEBBKCZIv1DmLT8AACBBKCZIv1DmLT8AAEBB4BGEv09YuD0AACBB4BGEv09YuD0AAEBB5Txjv3idCL8AACBB5Txjv3idCL8AAEBB8RPPvkwXdL8AACBB8RPPvkwXdL8AAEBBVNVuPo0qgb8AACBBVNVuPo0qgb8AAEBBKCZIP1DmLb8AACBBKCZIP1DmLb8AAEBB4BGEP09YuL0AACBB4BGEP09YuL0AAEBB5TxjP3idCD8AACBB5TxjP3idCD8AAEBB8RPPPkwXdD8AACBB8RPPPkwXdD8AAEBBAAAAAAAAAAAAACBBAAAAAAAAAAAAAEBBEGtAP+Q/ab+Yuj9BjP16P2wS4b8TdVlB9lWaP+qkKcC4uXJBkCfLPx80h8DT9I1BBVkOQC3N3cBl4q1B2PYdQCLT/8BQl7lBNzkqQJhlDsGNQcNBCc1iQH1/WcE6t/JBg796QC8le8GOrgNCNlyDQIPBhsH0TwlCIQCIQJkak8GC1hBCyRiNvrYDk7+Yuj9BEQbgvSuoAMATdVlBc0CjPQVNOsC4uXJBeRPbPhbHj8DT9I1BP4CFP7KJ5sBl4q1B3yelP7REBMFQl7lB7PjBP/KgEsGNQcNBSfgxQNBRXME6t/JB8oJXQGoufcGOrgNC4/1sQM5/h8H0TwlCEwCIQJoak8GC1hBCzDzuvjA3WL8AAEBBzDzuvjA3WL+f38pB/8D1PTXwdL8AAEBB/8D1PTXwdL+f38pB0tIoP1saNL8AAEBB0tIoP1saNL+f38pBZXFyP8LlOb4AAEBBZXFyP8LlOb6f38pBGXVfP8nP0T4AAEBBGXVfP8nP0T6f38pBzDzuPjA3WD8AAEBBzDzuPjA3WD+f38pB/8D1vTXwdD8AAEBB/8D1vTXwdD+f38pB0tIov1saND8AAEBB0tIov1saND+f38pBZXFyv8LlOT4AAEBBZXFyv8LlOT6f38pBGXVfv8nP0b4AAEBBGXVfv8nP0b6f38pBAAAAAAAAAAAAAEBBAAAAAAAAAACf38pBFjyGvmFrpD+zp8pBH7W/PpIHI0CXYt9B1iaIP1USd0CLvvNBVyYTQF4fxUAHdwpCdj6OQAx8IUGuMCRC3HapQC4ZOkFfny1CbEPBQNrGTkHtaDVCC20gQa8OnEE7pltCf209QVF3s0EzSWxCn5ZNQZgYwEHyW3VCGF1lQX8p0EE/voBCq+mcP2zv7T6zp8pBvQH6P2W61j+XYt9BQnksQGCOPUCLvvNByqB+QCmEp0AHdwpCHQDFQLRmEkGuMCRCaBHgQJwOK0Ffny1Ce0/2QA0qQEHtaDVCTRwyQZgvl0E7pltCYDBKQWnzr0EzSWxC/+dWQYOHvUHyW3VCIl1lQXwp0EE/voBCFxxbP5oqgj6f38pBFxxbP5oqgj6aNyBCMAILP2FxNT+f38pBMAILP2FxNT+aNyBCRvK5PGB/ZD+f38pBRvK5PGB/ZD+aNyBCP5sBvyBGPD+f38pBP5sBvyBGPD+aNyBCuYRXv6hFmD6f38pBuYRXv6hFmD6aNyBCFxxbv5oqgr6f38pBFxxbv5oqgr6aNyBCMAILv2FxNb+f38pBMAILv2FxNb+aNyBCRvK5vGB/ZL+f38pBRvK5vGB/ZL+aNyBCP5sBPyBGPL+f38pBP5sBPyBGPL+aNyBCuYRXP6hFmL6f38pBuYRXP6hFmL6aNyBCAAAAAAAAAACf38pBAAAAAAAAAACaNyBC2x0Qvy9htL9pECBCTTocwMm8AsBhly5C4XqNwBYvK8DR2zxCQ1v9wKw3cMBOHVRCVt5ewfwZssCBK3hCVFaCwfFuyMDssYJCO3OSwU5H2sD3JohCqB3mwRR3F8Ef86JC8s8FwoKjKcG6m65CHQ8QwnPwMsF297RCb+UdwlGaO8ERd71CDNiev1iWXz9pECBC4UNKwE8Fwj5hly5CgUOlwLewML7R2zxCxusKweSzlr9OHVRCzldrwUc3PMCBK3hCnI6IwSpZacDssYJCH36YwTPoiMD3JohCDCXqwf+s+MAf86JCEkQHwkgQFsG6m65C1B4RwmmlJMF297RCcOUdwkGaO8ERd71Crloyv5DM3j6aNyBCrloyv5DM3j4s4GBCRsVRv5Fba72aNyBCRsVRv5Fba70s4GBCzg8hv1kzB7+aNyBCzg8hv1kzB78s4GBCw1RLvp4MTL+aNyBCw1RLvp4MTL8s4GBCC6CdPkb1Qr+aNyBCC6CdPkb1Qr8s4GBCrloyP5DM3r6aNyBCrloyP5DM3r4s4GBCRsVRP5Fbaz2aNyBCRsVRP5Fbaz0s4GBCzg8hP1kzBz+aNyBCzg8hP1kzBz8s4GBCw1RLPp4MTD+aNyBCw1RLPp4MTD8s4GBCC6Cdvkb1Qj+aNyBCC6Cdvkb1Qj8s4GBCAAAAAAAAAACaNyBCAAAAAAAAAAAs4GBCs2K9P15mNj97smBCJOteQHXY4L53onFC2QyyQPYx179xIoFCe0oTQb3HecAPsY5CkON2QUEw+MDataNCmOqOQaGAFMHGaqtCFEGfQYHEKcGax7FCuVbyQZCjjcHuBdFCS54LQolkp8G3nd5ClY8VQty0tcGCB+ZC5yIiQiqKysES8O9CMhYRPJUy0r97smBCnRz2Pyv9O8B3onFCROt8QKhliMBxIoFCCXjxQPrs0cAPsY5CaNRbQbpqJ8HataNCrWyBQUq0P8HGaqtCoCWSQeO8U8Gax7FCeJnpQXqhm8HuBdFCF3cIQkF9scG3nd5CMEITQiMUvcGCB+ZC5CIiQjOKysES8O9CfVpmPvUoN78s4GBCfVpmPvUoN78AAJRCqz8aP++o5L4s4GBCqz8aP++o5L4AAJRCxf0/P3k16rss4GBCxf0/P3k16rsAAJRCVGYcPxq93j4s4GBCVGYcPxq93j4AAJRCbEZ0PnUHNj8s4GBCbEZ0PnUHNj8AAJRCfVpmvvUoNz8s4GBCfVpmvvUoNz8AAJRCqz8av++o5D4s4GBCqz8av++o5D4AAJRCxf0/v3k16jss4GBCxf0/v3k16jsAAJRCVGYcvxq93r4s4GBCVGYcvxq93r4AAJRCbEZ0vnUHNr8s4GBCbEZ0vnUHNr8AAJRCAAAAAAAAAAAs4GBCAAAAAAAAAAAAAJRCmgW8v4r1wT7P6pNC6+wLwOKHGUDpxZtCytc5wCfxkEAJfaNC0CuEwIGqBEF/ELBCEzHGwBgwbEHnj8NCJaTfwI5wikENtspCAwz0wJjJm0ECndBC1asqwWLm9UGHmO1CG50/wSInD0J+NPpCO2BKwZkxGkJ5igBDNrJUwb0eKUL6IgVDwuJ8P8hckz/P6pNC7h3XPub6TUDpxZtC8L5XvsQJrEAJfaNClcutvyedEkF/ELBCZJRXwFVmekHnj8NC1X2FwJmGkUENtspCl3ecwO6rokECndBCaXkNwWx9+kGHmO1CjIsqwRfPEEJ+NPpCB/46wShnG0J5igBDJbJUwb4eKUL6IgVDfl1lv1T9Mz8AAIBAfl1lv1T9Mz8AAMBAg62RvwvBLD0AAIBAg62RvwvBLD0AAMBA2Q5yv/qEIr8AAIBA2Q5yv/qEIr8AAMBA4ZrIvivhiL8AAIBA4ZrIvivhiL8AAMBAwIefPk83jL8AAIBAwIefPk83jL8AAMBAfl1lP1T9M78AAIBAfl1lP1T9M78AAMBAg62RPwvBLL0AAIBAg62RPwvBLL0AAMBA2Q5yP/qEIj8AAIBA2Q5yP/qEIj8AAMBA4ZrIPivhiD8AAIBA4ZrIPivhiD8AAMBAwIefvk83jD8AAIBAwIefvk83jD8AAMBAAAAAAAAAAAAAAIBAAAAAAAAAAAAAAMBAPSGCP1e7D78Kz79AJiyiP4JVPr8Z9dFAl17DP15NcL8JyONAB2D9P/qwpL/TagBBmTYwQArG8b9o8BZBno9DQDgeCMBpMh9B679TQPNQFcC4AyZBWuKSQDxLW8AEfkdBpxClQKr0esClDlZBltauQK09hsAmAF5BFQu7QD3HksAanmhBSn5JP4aeWr8Kz79Anf+CP43khr8Z9dFA1yijP3Myob8JyONA9zbcP8zyzr/TagBBt1EfQFNqDsBo8BZBzbYyQCaWHcBpMh9BDGJDQDQsKsC4AyZBjW2NQDEzacAEfkdBuCChQMR+gsClDlZBoParQIjnicAmAF5BEgu7QEHHksAanmhBtHGfv0c01b0AAMBAtHGfv0c01b0AAABBP1Jyv6L/UL8AAMBAP1Jyv6L/UL8AAABBOWSSvhXCm78AAMBAOWSSvhXCm78AAABBsMb3Ps2Fk78AAMBAsMb3Ps2Fk78AAABBT9OIP4rgJb8AAMBAT9OIP4rgJb8AAABBtHGfP0c01T0AAMBAtHGfP0c01T0AAABBP1JyP6L/UD8AAMBAP1JyP6L/UD8AAABBOWSSPhXCmz8AAMBAOWSSPhXCmz8AAABBsMb3vs2Fkz8AAMBAsMb3vs2Fkz8AAABBT9OIv4rgJT8AAMBAT9OIv4rgJT8AAABBAAAAAAAAAAAAAMBAAAAAAAAAAAAAAABBi+aePzmUTz4I5v9A3MOzP3u0Yz4/wwRBla/JPxzvdT5vfQlB1U7wP1+EiT4MMhFBmVAZQD7FoD5bJB1BJFUmQLhPqT62hSFBgGMxQAgMrz6AIyVBz4ZqQARwwj6M5TZBTQuCQMMMyT5enz5BhAGJQN4Hyz4H1kJBhkaSQIaYwz6+d0hB0gChP4y7yTsI5v9A8f61P7GcYjw/wwRBpf3LP4ddyjxvfQlBT67yP5uKPz0MMhFBFoYaQC4vtD1bJB1Bw4knQK+j1z22hSFBVI8yQKC9+z2AIyVBuE5rQK9fbz6M5TZBblOCQBAckz5enz5BLzaJQDCloz4H1kJBh0aSQFmYwz6+d0hB66xVP2KsUL8AAABB66xVP2KsUL8AACBB2MKTP2nmLL4AAABB2MKTP2nmLL4AACBBqD6EP9y7Cj8AAABBqD6EP9y7Cj8AACBBSm4EP7zZhT8AAABBSm4EP7zZhT8AACBBDNlIvjI1kz8AAABBDNlIvjI1kz8AACBB66xVv2KsUD8AAABB66xVv2KsUD8AACBB2MKTv2nmLD4AAABB2MKTv2nmLD4AACBBqD6Ev9y7Cr8AAABBqD6Ev9y7Cr8AACBBSm4Ev7zZhb8AAABBSm4Ev7zZhb8AACBBDNlIPjI1k78AAABBDNlIPjI1k78AACBBAAAAAAAAAAAAAABBAAAAAAAAAAAAACBB1257vzoCLT9P5R9Bw7Sdv70RZz80yilBur++v3CGkj/IgTNBf2H4v3+iyT+MWENBNVYtwABtFED/5ltBBYRAwMM2J0D752RBfIJQwCNtN0D3VmxBhpaQwOF3hkDBa4hBdm6iwOHEmUB+XJBBV/6rwClrpEAasZRBSr+3wBdys0DZeppBQeoyv9RDdz9P5R9BgHluv/Psmj80yilBbwCXv6Q5uz/IgTNB9nXPvySJ8z+MWENBSn0YwNrFKUD/5ltB/bkrwF+APED752RBK1A8wGQbTED3VmxB3tqJwNtcjUDBa4hBqpKdwH2+nkB+XJBBKXKowBwNqEAasZRBRr+3wBxys0DZeppBdZK2vUYyij8AACBBdZK2vUYyij8AAEBBLuw0vzoxUj8AACBBLuw0vzoxUj8AAEBBbPWGv3LSfj4AACBBbPWGv3LSfj4AAEBBGtB/v6461r4AACBBGtB/v6461r4AAEBBIf8Pv0UFbb8AACBBIf8Pv0UFbb8AAEBBdZK2PUYyir8AACBBdZK2PUYyir8AAEBBLuw0PzoxUr8AACBBLuw0PzoxUr8AAEBBbPWGP3LSfr4AACBBbPWGP3LSfr4AAEBBGtB/P6461j4AACBBGtB/P6461j4AAEBBIf8PP0UFbT8AACBBIf8PP0UFbT8AAEBBAAAAAAAAAAAAACBBAAAAAAAAAAAAAEBBytb9Pr4BiL91yj9BwH4TPxcN3r+Fo1NBQxsmP5k5HMCuIWdBhMlDP1vca8DWc4NBGS9zPxtOusA+FZxBGkqCP3gl1cAuHaVBdRyIP0nx68DnkaxBXKGbPw/gMMGhLtFBijyiPww6S8FeHOFB/CmkP46UWcFEzOlB3FicP9CwbMGzaPVBfyuhvtOSkL91yj9B1E+RvtUj57+Fo1NBc3F1vqHrIMCuIWdBeJEZvtuxcMDWc4NB8EqSPJLEvMA+FZxB7w61PSya18AuHaVBODwkPhJU7sDnkaxB0iEdP66rMcGhLtFB50BVP/rMS8FeHOFBeR53P9f/WcFEzOlBr1icP9CwbMGzaPVBoj0Zv6YRTb8AAEBBoj0Zv6YRTb8AAGBBKAZcvBf6f78AAEBBKAZcvBf6f78AAGBBnK0TP0QcUb8AAEBBnK0TP0QcUb8AAGBB22JyP969pL4AAEBB22JyP969pL4AAGBByYJ0P8iplz4AAEBByYJ0P8iplz4AAGBBoj0ZP6YRTT8AAEBBoj0ZP6YRTT8AAGBBKAZcPBf6fz8AAEBBKAZcPBf6fz8AAGBBnK0Tv0QcUT8AAEBBnK0Tv0QcUT8AAGBB22Jyv969pD4AAEBB22Jyv969pD4AAGBByYJ0v8ipl74AAEBByYJ0v8ipl74AAGBBAAAAAAAAAAAAAEBBAAAAAAAAAAAAAGBBisqiPJaxoj/rnV9B6rA5P1+fEkC4/IFBi8e9PzRKVkA515NBdlk1QKpIpkAr8bBBV4WlQLqlBUFzD95BOxzDQMlhGUF4mu5B/sbcQLXnKUHgQvxB8IUyQRexfUHyqR9CaF5RQRttkUHBQC5C8nRiQYtrm0GiNTZCJP16QT/wp0EY2EBC9E2bP94pwj7rnV9Bpur+P5cirD+4/IFBSZ4yQPO4F0A515NBOsaFQLkThkAr8bBBtG/RQG966kBzD95BOufuQP8ECUF4mu5BM6kDQVMCGkHgQvxB3rRAQdQXc0HyqR9CfppbQSiajUHBQC5CDe5pQb+gmEGiNTZCLP16QTzwp0EY2EBCKIpjPxCUZT4AAGBBKIpjPxCUZT6q7AJCCFkWP3wtND8AAGBBCFkWP3wtND+q7AJCaqZ7PZUjaj8AAGBBaqZ7PZUjaj+q7AJCWsz5vs2qRj8AAGBBWsz5vs2qRj+q7AJCtdFZv1+frj4AAGBBtdFZv1+frj6q7AJCKIpjvxCUZb4AAGBBKIpjvxCUZb6q7AJCCFkWv3wtNL8AAGBBCFkWv3wtNL+q7AJCaqZ7vZUjar8AAGBBaqZ7vZUjar+q7AJCWsz5Ps2qRr8AAGBBWsz5Ps2qRr+q7AJCtdFZP1+frr4AAGBBtdFZP1+frr6q7AJCAAAAAAAAAAAAAGBBAAAAAAAAAACq7AJCiDgmv5Lfrr9KxgJCD9AgwKBq9L8lABFCujqPwFCdHMDa+B5CPBn+wPIIV8DmvjVCf1hewSRqnMC3DVlCPeWBwXkur8Di/2VCrdeRwX8DvsAKsHBCt5DkwbeYAcHvlZJCRtEEwrRREMGoAJ5CGPAOwnC/F8GkOqRCkZAcwrX3HcEjjaxCLhycv5IQZT9KxgJCfolHwFiC+j4lABFCLDyjwG+ZAD3a+B5C5lgJwQvsTr/mvjVCr9ZowfJuEsC3DVlCliCHwXRuOMDi/2VC1+yWwW3TWsAKsHBCRfTnwdZzzcDvlZJCSgoGwuXb+cCoAJ5CpdQPwg+XCcGkOqRCkpAcwqX3HcEjjaxCxJQ+v3y6vz6q7AJCxJQ+v3y6vz5lV1VC7IdSvyTcCb6q7AJC7IdSvyTcCb5lV1VCqhAWvzahF7+q7AJCqhAWvzahF79lV1VCMx4BvongUr+q7AJCMx4BvongUr9lV1VC7KvDPpmTPb+q7AJC7KvDPpmTPb9lV1VCxJQ+P3y6v76q7AJCxJQ+P3y6v75lV1VC7IdSPyTcCT6q7AJC7IdSPyTcCT5lV1VCqhAWPzahFz+q7AJCqhAWPzahFz9lV1VCMx4BPongUj+q7AJCMx4BPongUj9lV1VC7KvDvpmTPT+q7AJC7KvDvpmTPT9lV1VCAAAAAAAAAACq7AJCAAAAAAAAAABlV1VCFe+5P9T+Zj9gJ1VC8klqQOb43r1H9GZCwK2+QBiFmr+ob3hCRMEfQXR8S8BGd4pCv/mGQX1808A4jqBCvoicQdkH/8Cop6hCK6muQfCaEsF6V69CFI0FQpJNecFRLdBCsxoaQqgHlMFldt5CrzMlQm0VocHhQOZC014zQj5ztMGtqvBCnOcQPqoi2r9gJ1VCskMRQIXzN8BH9GZC76+QQP8PgsCob3hCphQIQZ/fw8BGd4pCJtR1QQezGcE4jqBCr4GQQXVWL8Gop6hC4/miQXkQQcF6V69C3KcBQswjjMFRLdBCG0sXQtE0n8Fldt5CQiYjQo8+qcHhQOZC0V4zQkdztMGtqvBC9mxQPlXLOL9lV1VC9mxQPlXLOL8AAJhCOsYWP6i/7b5lV1VCOsYWP6i/7b4AAJhCANo/P8GM8bxlV1VCANo/P8GM8bwAAJhC5aUfP0hS1T5lV1VC5aUfP0hS1T4AAJhCw+2EPgwhND9lV1VCw+2EPgwhND8AAJhC9mxQvlXLOD9lV1VC9mxQvlXLOD8AAJhCOsYWv6i/7T5lV1VCOsYWv6i/7T4AAJhCANo/v8GM8TxlV1VCANo/v8GM8TwAAJhC5aUfv0hS1b5lV1VC5aUfv0hS1b4AAJhCw+2EvgwhNL9lV1VCw+2EvgwhNL8AAJhCAAAAAAAAAABlV1VCAAAAAAAAAAAAAJhCDDDEv9kDzz6H6ZdCPa0OwCJdJEAkPqBCGQo7wL8rm0CabKhCuFGDwFICDkGVwrVC0MHCwJzHfEGRb8pCTinbwAMolEFKBNJCKZnuwIu0pkGKRthCgSslwX9+A0JYAvdCpdA4wdUSGUKsMAJDydNCwYDcJEIV1gVDTuFLwZTDNEKrtQpDmkCMP6Sekj+H6ZdCvi4PPwewVkAkPqBCZLMovUMrtUCabKhCX5aRv0VkG0GVwrVCWhNEwDU1hUGRb8pCfGx1wIv0mkFKBNJC9+WQwHZPrUGKRthCwu4FwTWyBUJYAvdCLkYiwZupGkKsMAJDX14ywYMFJkIV1gVDO+FLwZXDNEKrtQpDs/ZmPYx6ir8AAMBAs/ZmPYx6ir8AAABBRnguPxSUV78AAMBARnguPxSUV78AAABBc+6FPy+2j74AAMBAc+6FPy+2j74AAABBgHiBP2Sgxj4AAMBAgHiBP2Sgxj4AAABB9hwXP06MaD8AAMBA9hwXP06MaD8AAABBs/ZmvYx6ij8AAMBAs/ZmvYx6ij8AAABBRnguvxSUVz8AAMBARnguvxSUVz8AAABBc+6Fvy+2jz4AAMBAc+6Fvy+2jz4AAABBgHiBv2Sgxr4AAMBAgHiBv2Sgxr4AAABB9hwXv06MaL8AAMBA9hwXv06MaL8AAABBAAAAAAAAAAAAAMBAAAAAAAAAAAAAAABBI2m4vrwFij8QsP9ATVTPvqp0yj/tqA5BOOzivtUOB0D4NR1Bu2YAvw6lQkDO7TRBVGQXvx15lEB8s1lBb4Mfv6mMqEAZL2dBVhMkv2WXuUC8UHJBOOIrvxfNCEHkfJRBRTQsv0h7HEHTYKBBq+Ipv1syJ0Hr3KZBwk0Xv/puNUHFh69Bkwh8PjwRjj8QsP9A7wh0Pka/zj/tqA5BAb1iPmRGCUD4NR1Bjw87Pl3tREDO7TRBc7nYPc2ilUB8s1lB0cSTPYS1qUAZL2dB+lwNPcm3ukC8UHJBiGFivjwtCUHkfJRBDwayvqnAHEHTYKBBL0javgNlJ0Hr3KZBfk0Xv/puNUHFh69BeA50Pzj4Tr8AAABBeA50Pzj4Tr8AACBBvoyfP7Tpv70AAABBvoyfP7Tpv70AACBB8yCIP4cnKD8AAABB8yCIP4cnKD8AACBBKdjyPsoIlD8AAABBKdjyPsoIlD8AACBBmZWXvodymz8AAABBmZWXvodymz8AACBBeA50vzj4Tj8AAABBeA50vzj4Tj8AACBBvoyfv7Tpvz0AAABBvoyfv7Tpvz0AACBB8yCIv4cnKL8AAABB8yCIv4cnKL8AACBBKdjyvsoIlL8AAABBKdjyvsoIlL8AACBBmZWXPodym78AAABBmZWXPodym78AACBBAAAAAAAAAAAAAABBAAAAAAAAAAAAACBB4VOEv62TOD9d8B9B2DaYv27gVz8pvCVB+8usv4NheT9pbStBUb3Qv9GGmj+9tDRBqQsHwCAhzj9oF0NBbgYTwPuC4j+xXUhBpQkdwC8l9D97uExBqrBPwDu6KECeGmJBbiFmwI/RPUA3aGtBZy5ywLJ6SUAVe3BBm5OAwHcTWkAiQ3dBUlRhvxrzZj9d8B9BV1qDv6+JhD8pvCVB/z2Xv4Mblj9pbStBg4y6v5GxtD+9tDRB+Xr3v7DK6D9oF0NBVcAHwH8Z/T+xXUhB0hUSwNb8BkB7uExBNmNIwKxWMUCeGmJBbdxgwEoIREA3aGtBZ1VuwDIETkAVe3BBmZOAwHwTWkAiQ3dBoIqrvR3Pkj8AACBBoIqrvR3Pkj8AAEBBj+49vzXwYD8AACBBj+49vzXwYD8AAEBB0O+Ov/atjD4AACBB0O+Ov/atjD4AAEBBhE+Iv5tA3r4AACBBhE+Iv5tA3r4AAEBBpDwbv00ler8AACBBpDwbv00ler8AAEBBoIqrPR3Pkr8AACBBoIqrPR3Pkr8AAEBBj+49PzXwYL8AACBBj+49PzXwYL8AAEBB0O+OP/atjL4AACBB0O+OP/atjL4AAEBBhE+IP5tA3j4AACBBhE+IP5tA3j4AAEBBpDwbP00lej8AACBBpDwbP00lej8AAEBBAAAAAAAAAAAAACBBAAAAAAAAAAAAAEBBera3Poupkb/M2z9BkFTRPi3oy7+AR01BEC7oPneLBMC9dVpBtx0GPxtwOsDE8W9B9qciPwZ9i8B2oIhBdgotP6WmncC+u45BhL4zP+kSrcBhxpNB1xhIP8DC/MADiKxBwVNOPwM0EMFKTbdBE3ZPP+zoGcELLb1BFO5CPzXTJsHwBsVBhTpCvhjKlr/M2z9BYDkxvrhY0b+AR01B7VMXvuBaB8C9dVpBC8jCvb9UPcDE8W9BO6aYO1r2jMB2oIhB13FAPewen8C+u45BqZG6PXaArsBhxpNBgZq/Pnu2/cADiKxBSBEDP/SLEMFKTbdBTIIYPyEpGsELLb1B1u1CPzXTJsHwBsVBh6Uzv4zzR78AAEBBh6Uzv4zzR78AAGBBMnjevcithb8AAEBBMnjevcithb8AAGBBtKYGP3akaL8AAEBBtKYGP3akaL8AAGBBy611P6Mh2r4AAEBBy611P6Mh2r4AAGBBzG6DP4SuYD4AAEBBzG6DP4SuYD4AAGBBh6UzP4zzRz8AAEBBh6UzP4zzRz8AAGBBMnjePcithT8AAEBBMnjePcithT8AAGBBtKYGv3akaD8AAEBBtKYGv3akaD8AAGBBy611v6Mh2j4AAEBBy611v6Mh2j4AAGBBzG6Dv4SuYL4AAEBBzG6Dv4SuYL4AAGBBAAAAAAAAAAAAAEBBAAAAAAAAAAAAAGBBw++LPoVlmT9QsV9BKSRpPyQu+z9c3HxBQc3LPzcnMEDowIxByIczQDk0hECyGaRBF96cQIGAz0AETMhBrFy3QDLm7ECZkdVBH0LOQFe5AkGghuBBw58jQbO+QEFQKgtCkvQ+QfE0XEGZ3hZCog1OQSTxakG0QB1CuXZjQVgsfUHSyCVCEsqUP62XzD5QsV9B0k/tPz2zjj9c3HxBG0ckQKA48D/owIxBc79zQDW2TkCyGaRBhpW9QJUbskAETMhBvvzXQESWz0CZkdVBGfTtQKv46ECghuBBwzAuQWJAN0FQKgtCgZRGQTlbVUGZ3hZC4J5TQaHwZUG0QB1CwHZjQVIsfUHSyCVCehlzP5Kw3zwAAGBBehlzP5Kw3zwAAIBBF5BAP6yLFD8AAGBBF5BAP6yLFD8AAIBBivKIPotcaT8AAGBBivKIPotcaT8AAIBBRYqjvpAKZT8AAGBBRYqjvpAKZT8AAIBBy8dIvys8CT8AAGBBy8dIvys8CT8AAIBBehlzv5Kw37wAAGBBehlzv5Kw37wAAIBBF5BAv6yLFL8AAGBBF5BAv6yLFL8AAIBBivKIvotcab8AAGBBivKIvotcab8AAIBBRYqjPpAKZb8AAGBBRYqjPpAKZb8AAIBBy8dIPys8Cb8AAGBBy8dIPys8Cb8AAIBBAAAAAAAAAAAAAGBBAAAAAAAAAAAAAIBBjVt2v98DkL+Qb39BoTgywKtIn78EfZpBy1KWwAJHq7+kx7RB7A4BwS44vL+Zot9BlJNdwdmA1L/nCRFCOfGAwatn3L8yOB1CpliQwWzm3r+kRidCX9vfwc5Uz79iqFhCNrQBwryjwr9ZJG5C7WALws05t7/m23lCbTYYwnkPjL+HwoRCL0CDv/OyiD+Qb39BzoA2wOeJij8EfZpBGImYwFJxiD+kx7RBbTICwaCUgD+Zot9BmrxewXKWXD/nCRFCUoWBwbr7Sj8yOB1Ch+iQwfmjMz+kRidCTTvgwQlyFjxiqFhC0tYBwiS5sL5ZJG5CM3oLwiG7Er/m23lCbTYYwv0OjL+HwoRCGjc0v0vn8z4AAIBBGjc0v0vn8z5iGDZCh3pZv92J6LwAAIBBh3pZv92J6LxiGDZCLqwrv7C1Bb8AAIBBLqwrv7C1Bb9iGDZCeCxxvn0UUb8AAIBBeCxxvn0UUb9iGDZCRDuUPsKWTL8AAIBBRDuUPsKWTL9iGDZCGjc0P0vn874AAIBBGjc0P0vn875iGDZCh3pZP92J6DwAAIBBh3pZP92J6DxiGDZCLqwrP7C1BT8AAIBBLqwrP7C1BT9iGDZCeCxxPn0UUT8AAIBBeCxxPn0UUT9iGDZCRDuUvsKWTD8AAIBBRDuUvsKWTD9iGDZCAAAAAAAAAAAAAIBBAAAAAAAAAABiGDZC8m7OP0WjQT8C5jVCA4JxQCzcF78gkkhCSYPAQAHqAsC56FpCXAMfQb96lMDxzHhCPCCFQTctEsFqkpNC5RWaQWKjLsFrEZxC4KerQVtiR8EWFaNCGnMCQiqSpcGshsVCTkEWQrRuw8HjgtRCf+sgQgsB1MESr9xCmVouQnv468Fzm+dCL/fRvdmh478C5jVCExT6P9sTUsAgkkhC3VeEQIpfmsC56FpCZQoAQfIE8MDxzHhCZ7FqQSDQQMFqkpNColmKQfwkXcFrEZxCcl6cQZGQdMEWFaNC67T6QQ+itMGshsVC35MSQh9NzsHjgtRCGDweQq7w28ESr9xCllouQoT468Fzm+dC9e76PadrPb9iGDZC9e76PadrPb8AAJxC+7YIP7vOBr9iGDZC+7YIP7vOBr8AAJxCq9c9PxSf5b1iGDZCq9c9PxSf5b0AAJxC73QqPzW7sD5iGDZC73QqPzW7sD4AAJxCweyrPmmuKz9iGDZCweyrPmmuKz8AAJxC9e76vadrPT9iGDZC9e76vadrPT8AAJxC+7YIv7vOBj9iGDZC+7YIv7vOBj8AAJxCq9c9vxSf5T1iGDZCq9c9vxSf5T0AAJxC73QqvzW7sL5iGDZC73QqvzW7sL4AAJxCweyrvmmuK79iGDZCweyrvmmuK78AAJxCAAAAAAAAAABiGDZCAAAAAAAAAAAAAJxC8ELJv6k/Dz/555tCNKQDwIQ6PEDzz6RCgIghwBBKrkAij61CuWpTwLHUHUED0btCAvGSwIeji0G869FCFJaiwM18o0GPBtpCNnmuwFLFt0GFt+BCN3TiwJpkEEJ9yQBDfM73wAbnJ0JA7wdDrfgAwSe5NEIo1QtDUxMDwVTjRULyChFDPW6nP1athD/555tCVsJ/P4ydXEDzz6RC2zAiP1gFv0Aij61C8+BXvYdxJkED0btCMc2jv9EGkEG869FCQ5Djv/Tcp0GPBtpCEpUPwIoFvEGFt+BCjP2dwGPPEUJ9yQBDNGfGwNDsKEJA7wdDtN7dwE14NUIo1QtDPxMDwVXjRULyChFDQq8PP+dpXD8AAABBQq8PP+dpXD8HSYBBgwBVvRZjgz8AAABBgwBVvRZjgz8HSYBBkjklv4XDTD8AAABBkjklv4XDTD8HSYBB4AZ+v8oUiT4AAABB4AZ+v8oUiT4HSYBBmMx1v7e5u74AAABBmMx1v7e5u74HSYBBQq8Pv+dpXL8AAABBQq8Pv+dpXL8HSYBBgwBVPRZjg78AAABBgwBVPRZjg78HSYBBkjklP4XDTL8AAABBkjklP4XDTL8HSYBB4AZ+P8oUib4AAABB4AZ+P8oUib4HSYBBmMx1P7e5uz4AAABBmMx1P7e5uz4HSYBBAAAAAAAAAAAAAABBAAAAAAAAAAAHSYBB3zAwvhygkb+dKYBBXMoUv6fH6L+MzotBVM+Cv8WhIcAnPpdBmqXnv4LIcMAp4qlBkDpLwH8HvMCcyMZBQtJtwOZ41sBTYdFBhvaFwBCm7MDsINpBOjPWwDatLsE1iwJCgpb6wASyR8GD4wtCz2UHwTcsVcE4/BBChg0WwcYuZsETzBdCzbR4vznWHb+dKYBBCPa2v+EBor+MzotB0Pvyv6oj+r8nPpdBuJAtwGIkS8Ap4qlBJwiDwDraqMCcyMZB/j6UwFNZw8BTYdFBTXaiwAwS2sDsINpBsjPpwKx7KME1iwJCXCYEweM5Q8GD4wtCVWcMwc/oUcE4/BBCjA0WwcIuZsETzBdCwC1tv9Ljlr4HSYBBwC1tv9Ljlr7C/8ZBQokTv0dySL8HSYBBQokTv0dySL/C/8ZBMhnFu1bieL8HSYBBMhnFu1bieL/C/8ZBbwsRP69BSr8HSYBBbwsRP69BSr/C/8ZBHzpsP2+/nL4HSYBBHzpsP2+/nL7C/8ZBwC1tP9Ljlj4HSYBBwC1tP9Ljlj7C/8ZBQokTP0dySD8HSYBBQokTP0dySD/C/8ZBMhnFO1bieD8HSYBBMhnFO1bieD/C/8ZBbwsRv69BSj8HSYBBbwsRv69BSj/C/8ZBHzpsv2+/nD4HSYBBHzpsv2+/nD7C/8ZBAAAAAAAAAAAHSYBBAAAAAAAAAADC/8ZBHFw9P/jUeT9L0cZBAjzsP5u4rz9zCthBncRAQC+O4j+49OhBNUyiQIm+HECLQwJCGNQJQeXfZUAjoxdCrRsgQQYJgUBZeR9CJRszQcVYjECq8SVCIOaKQbRVwkD3tkVCrgahQYeW2UB4iVNChB6tQSCM5UBJE1tC0Xi9QUUU8UCnJmVCtXKVP7wKvb5L0cZBlSsTQH9cXr1zCthBXcleQGxClz649OhB9r+xQItbbj+LQwJCarMRQWrhAkAjoxdCX/UnQUVaH0BZeR9CjLs6QS7KOECq8SVCAnGNQeFcokD3tkVCXNyiQViEwkB4iVNCdnWuQZ2z1EBJE1tC0ni9QTIU8UCnJmVCnWZKP7CB7b7C/8ZBnWZKP7CB7b5hZApCEoxpP4gotz3C/8ZBEoxpP4gotz1hZApChHwvP0DMGz/C/8ZBhHwvP0DMGz9hZApCTZVJPgExZT/C/8ZBTZVJPgExZT9hZApCeeO7vqoKVz/C/8ZBeeO7vqoKVz9hZApCnWZKv7CB7T7C/8ZBnWZKv7CB7T5hZApCEoxpv4got73C/8ZBEoxpv4got71hZApChHwvv0DMG7/C/8ZBhHwvv0DMG79hZApCTZVJvgExZb/C/8ZBTZVJvgExZb9hZApCeeO7PqoKV7/C/8ZBeeO7PqoKV79hZApCAAAAAAAAAADC/8ZBAAAAAAAAAABhZApCrKynv9Z4sL7GRApCbektwJiU0z4O/BVCGcOFwFe4nT+tfSFCYLPXwLy0LEAOPzRCLeYxwVrKp0ALU1FCcktNwU8NyEBz/FtCwktkwQw15EDVyWRCSK+swe5nPUGBAYhCALHGwVWbX0GJaJFCHrfUwZ+jckFGiZZCWIHmwSU+h0HcY51CJCKtvlTkpz/GRApC8tnXv8DpCkAO/BVCW1hHwCgQQ0CtfSFC85q0wEErkkAOPzRC7AQgwR695EALU1FC93Y7wUZqAkFz/FtCZflSwV6gD0HVyWRC+eimwSEXUUGBAYhCQIbCwaHPbUGJaJFCNqzRwbsCfUFGiZZCVYHmwSs+h0HcY51CYwo2vhGyVz9hZApCYwo2vhGyVz+ILDVC5Zkjv07AEz9hZApC5Zkjv07AEz+ILDVCvDNbv4/3uj1hZApCvDNbv4/3uj2ILDVCRRM/v2Xf275hZApCRRM/v2Xf276ILDVCq+2zvmdASb9hZApCq+2zvmdASb+ILDVCYwo2PhGyV79hZApCYwo2PhGyV7+ILDVC5ZkjP07AE79hZApC5ZkjP07AE7+ILDVCvDNbP4/3ur1hZApCvDNbP4/3ur2ILDVCRRM/P2Xf2z5hZApCRRM/P2Xf2z6ILDVCq+2zPmdAST9hZApCq+2zPmdAST+ILDVCAAAAAAAAAABhZApCAAAAAAAAAACILDVCIxmrP8h/Jb/fBTVC9LHnP/XIIsBsWkNCxoYRQD1OkcBXbVFCzZZDQNEGAcEdXmhCx3+LQGLpYcGW94VC22+bQHX8g8HRfIxCD9qnQBUvlMHs3pFC7nDgQIQh6MERTqxC+Tv4QO7dBsI2zrdCrP8BQXsgEcLgE75CUxwGQYXnHsL8dcZCZyp2v87RkL/fBTVCftQgvyG2Q8BsWkNCtW97vuNQosBXbVFCYrjsPmPICcEdXmhCsrbbP2TVasGW94VCTjQOQEZviMHRfIxCntcrQHCBmMHs3pFCVNCpQC0D68ERTqxCqNDQQBToB8I2zrdC+zbnQNDiEcLgE75CQxwGQYbnHsL8dcZC3NGxvlQSOr+ILDVC3NGxvlQSOr/mO2RCHMMVPoXLSr+ILDVCHMMVPoXLSr/mO2RCbX0VP78ODr+ILDVCbX0VP78ODr/mO2RCdHBMP+h42L2ILDVCdHBMP+h42L3mO2RCvEw1P+KMxD6ILDVCvEw1P+KMxD7mO2RC3NGxPlQSOj+ILDVC3NGxPlQSOj/mO2RCHMMVvoXLSj+ILDVCHMMVvoXLSj/mO2RCbX0Vv78ODj+ILDVCbX0Vv78ODj/mO2RCdHBMv+h42D2ILDVCdHBMv+h42D3mO2RCvEw1v+KMxL6ILDVCvEw1v+KMxL7mO2RCAAAAAAAAAACILDVCAAAAAAAAAADmO2RCOA9Fv/GVqD9YEmRCCsWHPf2xT0CYeXNCZ+R5P20VqEAmTYFCBCcnQGVTDEFpoY1CXqauQGqgbEHVvqBCy87SQPUniUENwadCzpDyQJQBmUFZiq1ChuJOQWri6UE39MlChuR1QebtBkLQUNZCnNmFQSWlEEK2Dt1CdxuWQbwSHUKFEeZCLRDBPzMKaj5YEmRCyuweQLnIBUCYeXNCtUteQGTmgUAmTYFCdNilQFFX8UBpoY1CAD0BQW2ZWEHVvqBCSDMTQTtXfkENwadCROMhQRxOj0FZiq1CT/VpQY9q40E39MlC5baEQXeYBELQUNZCfvuMQevwDkK2Dt1CfxuWQboSHUKFEeZCEeszP+wQhj7mO2RCEeszP+wQhj4AAIxCzk/UPvL7Hz/mO2RCzk/UPvL7Hz8AAIxCjXgCvabTPz/mO2RCjXgCvabTPz8AAIxCNbPuvudlFj/mO2RCNbPuvudlFj8AAIxCPPU4v/EWTj7mO2RCPPU4v/EWTj4AAIxCEeszv+wQhr7mO2RCEeszv+wQhr4AAIxCzk/UvvL7H7/mO2RCzk/UvvL7H78AAIxCjXgCPabTP7/mO2RCjXgCPabTP78AAIxCNbPuPudlFr/mO2RCNbPuPudlFr8AAIxCPPU4P/EWTr7mO2RCPPU4P/EWTr4AAIxCAAAAAAAAAADmO2RCAAAAAAAAAAAAAIxCGg+uvudrr7/R7ItCuHYIwI9MB8A0CZNCeseAwP84N8AFBZpCBcLrwKHBhMAsZ6VCQedRwb4tysA7DbdCWBZ2wXMD5cDShb1CKnyKwYO5+sB93cJCAMzawYvRMcFlGd1CItT+wWaNSME/g+hCnUQJwu5bVMHBvO5CoKMWwmx/YMGdDvdCUbCTvyBeUD/R7ItCqbk/wGJiUD40CZNCBVSdwEvD774FBZpCHJMEwQx6178sZ6VCkuBgwaeYc8A7DbdCfIKCwXDblMDShb1C/byRwXfarMB93cJCCqLfwbDbF8FlGd1CwCgBwrzRNcE/g+hCxYoKwkmuRsHBvO5CoqMWwl1/YMGdDvdC",
        "encoding": "base64",
        "path": [
         "vertices",
         "data"
        ]
       },
       {
        "data": "",
        "encoding": "base64",
        "path": [
         "volume",
         "data"
        ]
       },
       {
        "data": "",
        "encoding": "base64",
        "path": [
         "volume_bounds",
         "data"
        ]
       }
      ],
      "model_module": "k3d",
      "model_module_version": "2.16.1",
      "model_name": "ObjectModel",
      "state": {
       "_view_module": null,
       "_view_module_version": "",
       "_view_name": null,
       "attribute": {
        "dtype": "float32",
        "shape": [
         0
        ]
       },
       "click_callback": false,
       "color": 3302400,
       "colorLegend": false,
       "color_map": {
        "dtype": "float32",
        "shape": [
         1024
        ]
       },
       "color_range": [],
       "colors": {
        "dtype": "uint32",
        "shape": [
         0
        ]
       },
       "compression_level": 0,
       "custom_data": null,
       "flat_shading": true,
       "group": null,
       "hover_callback": false,
       "id": 2020559806752,
       "indices": {
        "dtype": "uint32",
        "shape": [
         4779,
         3
        ]
       },
       "model_matrix": {
        "dtype": "float32",
        "shape": [
         4,
         4
        ]
       },
       "name": "Mesh #1",
       "normals": {
        "dtype": "float32",
        "shape": [
         0
        ]
       },
       "opacity": 1,
       "opacity_function": {
        "dtype": "float32",
        "shape": [
         0
        ]
       },
       "side": "front",
       "texture": null,
       "texture_file_format": null,
       "triangles_attribute": {
        "dtype": "float32",
        "shape": [
         0
        ]
       },
       "type": "Mesh",
       "uvs": {
        "dtype": "float32",
        "shape": []
       },
       "vertices": {
        "dtype": "float32",
        "shape": [
         3564,
         3
        ]
       },
       "visible": true,
       "volume": {
        "dtype": "float32",
        "shape": [
         0
        ]
       },
       "volume_bounds": {
        "dtype": "float32",
        "shape": [
         0
        ]
       },
       "wireframe": false
      }
     },
     "b96a855186e743aa813316cbff5ffd92": {
      "model_module": "@jupyter-widgets/base",
      "model_module_version": "2.0.0",
      "model_name": "LayoutModel",
      "state": {}
     },
     "ba26219b4b34439497079f007c624981": {
      "model_module": "k3d",
      "model_module_version": "2.16.1",
      "model_name": "PlotModel",
      "state": {
       "_backend_version": "2.16.1",
       "antialias": 3,
       "auto_rendering": true,
       "axes": [
        "x",
        "y",
        "z"
       ],
       "axes_helper": 1,
       "axes_helper_colors": [
        16711680,
        65280,
        255
       ],
       "background_color": 16777215,
       "camera": [
        -1.2074274034488832,
        -1.8755245201526787,
        1.6018871754431767,
        0,
        0,
        0.4996869167953264,
        0.3178771090481514,
        0.25804509447711227,
        0.9123414233495533
       ],
       "camera_animation": [],
       "camera_auto_fit": true,
       "camera_damping_factor": 0,
       "camera_fov": 60,
       "camera_mode": "trackball",
       "camera_no_pan": false,
       "camera_no_rotate": false,
       "camera_no_zoom": false,
       "camera_pan_speed": 0.3,
       "camera_rotate_speed": 1,
       "camera_zoom_speed": 1.2,
       "clipping_planes": [],
       "colorbar_object_id": -1,
       "colorbar_scientific": false,
       "custom_data": null,
       "fps": 25,
       "fps_meter": false,
       "grid": [
        -1,
        -1,
        -1,
        1,
        1,
        1
       ],
       "grid_auto_fit": true,
       "grid_color": 15132390,
       "grid_visible": true,
       "height": 512,
       "label_color": 4473924,
       "layout": "IPY_MODEL_fcd2da445e97413ca05b9197ce601356",
       "lighting": 3,
       "logarithmic_depth_buffer": true,
       "manipulate_mode": "translate",
       "menu_visibility": true,
       "minimum_fps": -1,
       "mode": "view",
       "name": null,
       "object_ids": [
        2020595856304
       ],
       "rendering_steps": 1,
       "screenshot": "",
       "screenshot_scale": 2,
       "snapshot": "",
       "snapshot_type": "full",
       "time": 0,
       "voxel_paint_color": 0
      }
     },
     "bbee24e7b0d44b62afe7c2599c6c1665": {
      "model_module": "@jupyter-widgets/base",
      "model_module_version": "2.0.0",
      "model_name": "LayoutModel",
      "state": {}
     },
     "be30974818134945b471a52187ac5289": {
      "model_module": "k3d",
      "model_module_version": "2.16.1",
      "model_name": "PlotModel",
      "state": {
       "_backend_version": "2.16.1",
       "antialias": 3,
       "auto_rendering": true,
       "axes": [
        "x",
        "y",
        "z"
       ],
       "axes_helper": 1,
       "axes_helper_colors": [
        16711680,
        65280,
        255
       ],
       "background_color": 16777215,
       "camera": [
        4.51632500229759,
        0.11235852991900296,
        1.1707846483157396,
        0.026178609579801542,
        0,
        1.4997715950012207,
        0.12764716562762768,
        0.02216335241058321,
        0.9915719776784543
       ],
       "camera_animation": [],
       "camera_auto_fit": true,
       "camera_damping_factor": 0,
       "camera_fov": 60,
       "camera_mode": "trackball",
       "camera_no_pan": false,
       "camera_no_rotate": false,
       "camera_no_zoom": false,
       "camera_pan_speed": 0.3,
       "camera_rotate_speed": 1,
       "camera_zoom_speed": 1.2,
       "clipping_planes": [],
       "colorbar_object_id": -1,
       "colorbar_scientific": false,
       "custom_data": null,
       "fps": 25,
       "fps_meter": false,
       "grid": [
        -1,
        -1,
        -1,
        1,
        1,
        1
       ],
       "grid_auto_fit": true,
       "grid_color": 15132390,
       "grid_visible": true,
       "height": 512,
       "label_color": 4473924,
       "layout": "IPY_MODEL_c13e579a00964d2bbd836101e586e925",
       "lighting": 3,
       "logarithmic_depth_buffer": true,
       "manipulate_mode": "translate",
       "menu_visibility": true,
       "minimum_fps": -1,
       "mode": "view",
       "name": null,
       "object_ids": [
        2020595579312
       ],
       "rendering_steps": 1,
       "screenshot": "",
       "screenshot_scale": 2,
       "snapshot": "",
       "snapshot_type": "full",
       "time": 0,
       "voxel_paint_color": 0
      }
     },
     "c13e579a00964d2bbd836101e586e925": {
      "model_module": "@jupyter-widgets/base",
      "model_module_version": "2.0.0",
      "model_name": "LayoutModel",
      "state": {}
     },
     "c1bfc4cd8ad541e8b9fb3512eae25c33": {
      "buffers": [
       {
        "data": "",
        "encoding": "base64",
        "path": [
         "attribute",
         "data"
        ]
       },
       {
        "data": "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",
        "encoding": "base64",
        "path": [
         "color_map",
         "data"
        ]
       },
       {
        "data": "",
        "encoding": "base64",
        "path": [
         "colors",
         "data"
        ]
       },
       {
        "data": "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",
        "encoding": "base64",
        "path": [
         "indices",
         "data"
        ]
       },
       {
        "data": "AACAPwAAAAAAAAAAAAAAAAAAAAAAAIA/AAAAAAAAAAAAAAAAAAAAAAAAgD8AAAAAAAAAAAAAAAAAAAAAAACAPw==",
        "encoding": "base64",
        "path": [
         "model_matrix",
         "data"
        ]
       },
       {
        "data": "",
        "encoding": "base64",
        "path": [
         "normals",
         "data"
        ]
       },
       {
        "data": "",
        "encoding": "base64",
        "path": [
         "opacity_function",
         "data"
        ]
       },
       {
        "data": "",
        "encoding": "base64",
        "path": [
         "triangles_attribute",
         "data"
        ]
       },
       {
        "data": "AADAfw==",
        "encoding": "base64",
        "path": [
         "uvs",
         "data"
        ]
       },
       {
        "data": "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",
        "encoding": "base64",
        "path": [
         "vertices",
         "data"
        ]
       },
       {
        "data": "",
        "encoding": "base64",
        "path": [
         "volume",
         "data"
        ]
       },
       {
        "data": "",
        "encoding": "base64",
        "path": [
         "volume_bounds",
         "data"
        ]
       }
      ],
      "model_module": "k3d",
      "model_module_version": "2.16.1",
      "model_name": "ObjectModel",
      "state": {
       "_view_module": null,
       "_view_module_version": "",
       "_view_name": null,
       "attribute": {
        "dtype": "float32",
        "shape": [
         0
        ]
       },
       "click_callback": false,
       "color": 3302400,
       "colorLegend": false,
       "color_map": {
        "dtype": "float32",
        "shape": [
         1024
        ]
       },
       "color_range": [],
       "colors": {
        "dtype": "uint32",
        "shape": [
         0
        ]
       },
       "compression_level": 0,
       "custom_data": null,
       "flat_shading": true,
       "group": null,
       "hover_callback": false,
       "id": 2020480260464,
       "indices": {
        "dtype": "uint32",
        "shape": [
         193,
         3
        ]
       },
       "model_matrix": {
        "dtype": "float32",
        "shape": [
         4,
         4
        ]
       },
       "name": "Mesh #1",
       "normals": {
        "dtype": "float32",
        "shape": [
         0
        ]
       },
       "opacity": 1,
       "opacity_function": {
        "dtype": "float32",
        "shape": [
         0
        ]
       },
       "side": "front",
       "texture": null,
       "texture_file_format": null,
       "triangles_attribute": {
        "dtype": "float32",
        "shape": [
         0
        ]
       },
       "type": "Mesh",
       "uvs": {
        "dtype": "float32",
        "shape": []
       },
       "vertices": {
        "dtype": "float32",
        "shape": [
         196,
         3
        ]
       },
       "visible": true,
       "volume": {
        "dtype": "float32",
        "shape": [
         0
        ]
       },
       "volume_bounds": {
        "dtype": "float32",
        "shape": [
         0
        ]
       },
       "wireframe": false
      }
     },
     "c430b7e28ac345a896c75d4d7436a49a": {
      "model_module": "k3d",
      "model_module_version": "2.16.1",
      "model_name": "PlotModel",
      "state": {
       "_backend_version": "2.16.1",
       "antialias": 3,
       "auto_rendering": true,
       "axes": [
        "x",
        "y",
        "z"
       ],
       "axes_helper": 1,
       "axes_helper_colors": [
        16711680,
        65280,
        255
       ],
       "background_color": 16777215,
       "camera": [
        0.8401610685018217,
        -1.247152298428493,
        0.5830673416281997,
        0.008726202882826321,
        0,
        0.49992385506629944,
        0,
        0,
        1
       ],
       "camera_animation": [],
       "camera_auto_fit": true,
       "camera_damping_factor": 0,
       "camera_fov": 60,
       "camera_mode": "trackball",
       "camera_no_pan": false,
       "camera_no_rotate": false,
       "camera_no_zoom": false,
       "camera_pan_speed": 0.3,
       "camera_rotate_speed": 1,
       "camera_zoom_speed": 1.2,
       "clipping_planes": [],
       "colorbar_object_id": -1,
       "colorbar_scientific": false,
       "custom_data": null,
       "fps": 25,
       "fps_meter": false,
       "grid": [
        -1,
        -1,
        -1,
        1,
        1,
        1
       ],
       "grid_auto_fit": true,
       "grid_color": 15132390,
       "grid_visible": true,
       "height": 512,
       "label_color": 4473924,
       "layout": "IPY_MODEL_094c01b7c0c64200b92f4bf5c051171a",
       "lighting": 3,
       "logarithmic_depth_buffer": true,
       "manipulate_mode": "translate",
       "menu_visibility": true,
       "minimum_fps": -1,
       "mode": "view",
       "name": null,
       "object_ids": [
        2020480260464
       ],
       "rendering_steps": 1,
       "screenshot": "",
       "screenshot_scale": 2,
       "snapshot": "",
       "snapshot_type": "full",
       "time": 0,
       "voxel_paint_color": 0
      }
     },
     "c6c9bbc270484e329f9a22ebcdedda59": {
      "buffers": [
       {
        "data": "",
        "encoding": "base64",
        "path": [
         "attribute",
         "data"
        ]
       },
       {
        "data": "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",
        "encoding": "base64",
        "path": [
         "color_map",
         "data"
        ]
       },
       {
        "data": "",
        "encoding": "base64",
        "path": [
         "colors",
         "data"
        ]
       },
       {
        "data": "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",
        "encoding": "base64",
        "path": [
         "indices",
         "data"
        ]
       },
       {
        "data": "AACAPwAAAAAAAAAAAAAAAAAAAAAAAIA/AAAAAAAAAAAAAAAAAAAAAAAAgD8AAAAAAAAAAAAAAAAAAAAAAACAPw==",
        "encoding": "base64",
        "path": [
         "model_matrix",
         "data"
        ]
       },
       {
        "data": "",
        "encoding": "base64",
        "path": [
         "normals",
         "data"
        ]
       },
       {
        "data": "",
        "encoding": "base64",
        "path": [
         "opacity_function",
         "data"
        ]
       },
       {
        "data": "",
        "encoding": "base64",
        "path": [
         "triangles_attribute",
         "data"
        ]
       },
       {
        "data": "AADAfw==",
        "encoding": "base64",
        "path": [
         "uvs",
         "data"
        ]
       },
       {
        "data": "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",
        "encoding": "base64",
        "path": [
         "vertices",
         "data"
        ]
       },
       {
        "data": "",
        "encoding": "base64",
        "path": [
         "volume",
         "data"
        ]
       },
       {
        "data": "",
        "encoding": "base64",
        "path": [
         "volume_bounds",
         "data"
        ]
       }
      ],
      "model_module": "k3d",
      "model_module_version": "2.16.1",
      "model_name": "ObjectModel",
      "state": {
       "_view_module": null,
       "_view_module_version": "",
       "_view_name": null,
       "attribute": {
        "dtype": "float32",
        "shape": [
         0
        ]
       },
       "click_callback": false,
       "color": 3302400,
       "colorLegend": false,
       "color_map": {
        "dtype": "float32",
        "shape": [
         1024
        ]
       },
       "color_range": [],
       "colors": {
        "dtype": "uint32",
        "shape": [
         0
        ]
       },
       "compression_level": 0,
       "custom_data": null,
       "flat_shading": true,
       "group": null,
       "hover_callback": false,
       "id": 2020595679984,
       "indices": {
        "dtype": "uint32",
        "shape": [
         193,
         3
        ]
       },
       "model_matrix": {
        "dtype": "float32",
        "shape": [
         4,
         4
        ]
       },
       "name": "Mesh #1",
       "normals": {
        "dtype": "float32",
        "shape": [
         0
        ]
       },
       "opacity": 1,
       "opacity_function": {
        "dtype": "float32",
        "shape": [
         0
        ]
       },
       "side": "front",
       "texture": null,
       "texture_file_format": null,
       "triangles_attribute": {
        "dtype": "float32",
        "shape": [
         0
        ]
       },
       "type": "Mesh",
       "uvs": {
        "dtype": "float32",
        "shape": []
       },
       "vertices": {
        "dtype": "float32",
        "shape": [
         196,
         3
        ]
       },
       "visible": true,
       "volume": {
        "dtype": "float32",
        "shape": [
         0
        ]
       },
       "volume_bounds": {
        "dtype": "float32",
        "shape": [
         0
        ]
       },
       "wireframe": false
      }
     },
     "d28a5342ea564ca0bc83c0251aeb43af": {
      "buffers": [
       {
        "data": "",
        "encoding": "base64",
        "path": [
         "attribute",
         "data"
        ]
       },
       {
        "data": "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",
        "encoding": "base64",
        "path": [
         "color_map",
         "data"
        ]
       },
       {
        "data": "",
        "encoding": "base64",
        "path": [
         "colors",
         "data"
        ]
       },
       {
        "data": "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",
        "encoding": "base64",
        "path": [
         "indices",
         "data"
        ]
       },
       {
        "data": "AACAPwAAAAAAAAAAAAAAAAAAAAAAAIA/AAAAAAAAAAAAAAAAAAAAAAAAgD8AAAAAAAAAAAAAAAAAAAAAAACAPw==",
        "encoding": "base64",
        "path": [
         "model_matrix",
         "data"
        ]
       },
       {
        "data": "",
        "encoding": "base64",
        "path": [
         "normals",
         "data"
        ]
       },
       {
        "data": "",
        "encoding": "base64",
        "path": [
         "opacity_function",
         "data"
        ]
       },
       {
        "data": "",
        "encoding": "base64",
        "path": [
         "triangles_attribute",
         "data"
        ]
       },
       {
        "data": "AADAfw==",
        "encoding": "base64",
        "path": [
         "uvs",
         "data"
        ]
       },
       {
        "data": "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",
        "encoding": "base64",
        "path": [
         "vertices",
         "data"
        ]
       },
       {
        "data": "",
        "encoding": "base64",
        "path": [
         "volume",
         "data"
        ]
       },
       {
        "data": "",
        "encoding": "base64",
        "path": [
         "volume_bounds",
         "data"
        ]
       }
      ],
      "model_module": "k3d",
      "model_module_version": "2.16.1",
      "model_name": "ObjectModel",
      "state": {
       "_view_module": null,
       "_view_module_version": "",
       "_view_name": null,
       "attribute": {
        "dtype": "float32",
        "shape": [
         0
        ]
       },
       "click_callback": false,
       "color": 3302400,
       "colorLegend": false,
       "color_map": {
        "dtype": "float32",
        "shape": [
         1024
        ]
       },
       "color_range": [],
       "colors": {
        "dtype": "uint32",
        "shape": [
         0
        ]
       },
       "compression_level": 0,
       "custom_data": null,
       "flat_shading": true,
       "group": null,
       "hover_callback": false,
       "id": 2020595867264,
       "indices": {
        "dtype": "uint32",
        "shape": [
         193,
         3
        ]
       },
       "model_matrix": {
        "dtype": "float32",
        "shape": [
         4,
         4
        ]
       },
       "name": "Mesh #1",
       "normals": {
        "dtype": "float32",
        "shape": [
         0
        ]
       },
       "opacity": 1,
       "opacity_function": {
        "dtype": "float32",
        "shape": [
         0
        ]
       },
       "side": "front",
       "texture": null,
       "texture_file_format": null,
       "triangles_attribute": {
        "dtype": "float32",
        "shape": [
         0
        ]
       },
       "type": "Mesh",
       "uvs": {
        "dtype": "float32",
        "shape": []
       },
       "vertices": {
        "dtype": "float32",
        "shape": [
         196,
         3
        ]
       },
       "visible": true,
       "volume": {
        "dtype": "float32",
        "shape": [
         0
        ]
       },
       "volume_bounds": {
        "dtype": "float32",
        "shape": [
         0
        ]
       },
       "wireframe": false
      }
     },
     "dda8749acdc7470e83354234466c8462": {
      "model_module": "k3d",
      "model_module_version": "2.16.1",
      "model_name": "PlotModel",
      "state": {
       "_backend_version": "2.16.1",
       "antialias": 3,
       "auto_rendering": true,
       "axes": [
        "x",
        "y",
        "z"
       ],
       "axes_helper": 1,
       "axes_helper_colors": [
        16711680,
        65280,
        255
       ],
       "background_color": 16777215,
       "camera": [
        1.602217537271453,
        0.1021745463382513,
        0.5106785523833788,
        0.008726202882826321,
        0,
        0.49992385506629944,
        0.04701140721013595,
        0.02728172883175492,
        0.9985217247832279
       ],
       "camera_animation": [],
       "camera_auto_fit": true,
       "camera_damping_factor": 0,
       "camera_fov": 60,
       "camera_mode": "trackball",
       "camera_no_pan": false,
       "camera_no_rotate": false,
       "camera_no_zoom": false,
       "camera_pan_speed": 0.3,
       "camera_rotate_speed": 1,
       "camera_zoom_speed": 1.2,
       "clipping_planes": [],
       "colorbar_object_id": -1,
       "colorbar_scientific": false,
       "custom_data": null,
       "fps": 25,
       "fps_meter": false,
       "grid": [
        -1,
        -1,
        -1,
        1,
        1,
        1
       ],
       "grid_auto_fit": true,
       "grid_color": 15132390,
       "grid_visible": true,
       "height": 512,
       "label_color": 4473924,
       "layout": "IPY_MODEL_85e161058e91427992a7f334d2e31823",
       "lighting": 3,
       "logarithmic_depth_buffer": true,
       "manipulate_mode": "translate",
       "menu_visibility": true,
       "minimum_fps": -1,
       "mode": "view",
       "name": null,
       "object_ids": [
        2020595576768
       ],
       "rendering_steps": 1,
       "screenshot": "",
       "screenshot_scale": 2,
       "snapshot": "",
       "snapshot_type": "full",
       "time": 0,
       "voxel_paint_color": 0
      }
     },
     "e455b41f878249ba99f7b0efb67a87a1": {
      "model_module": "@jupyter-widgets/base",
      "model_module_version": "2.0.0",
      "model_name": "LayoutModel",
      "state": {}
     },
     "e708830b81174d5cad97784de0927243": {
      "model_module": "@jupyter-widgets/base",
      "model_module_version": "2.0.0",
      "model_name": "LayoutModel",
      "state": {}
     },
     "e799a45901c4468bb4b963b56bb353ef": {
      "model_module": "@jupyter-widgets/base",
      "model_module_version": "2.0.0",
      "model_name": "LayoutModel",
      "state": {}
     },
     "ed158198ea5c4dee974c1ab52dca227c": {
      "model_module": "k3d",
      "model_module_version": "2.16.1",
      "model_name": "PlotModel",
      "state": {
       "_backend_version": "2.16.1",
       "antialias": 3,
       "auto_rendering": true,
       "axes": [
        "x",
        "y",
        "z"
       ],
       "axes_helper": 1,
       "axes_helper_colors": [
        16711680,
        65280,
        255
       ],
       "background_color": 16777215,
       "camera": [
        1.331358720685295,
        -1.2384260955456672,
        0.08314348656190029,
        0.49992385506629944,
        0.008726202882826321,
        0,
        0,
        0,
        1
       ],
       "camera_animation": [],
       "camera_auto_fit": true,
       "camera_damping_factor": 0,
       "camera_fov": 60,
       "camera_mode": "trackball",
       "camera_no_pan": false,
       "camera_no_rotate": false,
       "camera_no_zoom": false,
       "camera_pan_speed": 0.3,
       "camera_rotate_speed": 1,
       "camera_zoom_speed": 1.2,
       "clipping_planes": [],
       "colorbar_object_id": -1,
       "colorbar_scientific": false,
       "custom_data": null,
       "fps": 25,
       "fps_meter": false,
       "grid": [
        -1,
        -1,
        -1,
        1,
        1,
        1
       ],
       "grid_auto_fit": true,
       "grid_color": 15132390,
       "grid_visible": true,
       "height": 512,
       "label_color": 4473924,
       "layout": "IPY_MODEL_9fa3e09a9dec40198ea5346d636efb00",
       "lighting": 3,
       "logarithmic_depth_buffer": true,
       "manipulate_mode": "translate",
       "menu_visibility": true,
       "minimum_fps": -1,
       "mode": "view",
       "name": null,
       "object_ids": [
        2020595694144
       ],
       "rendering_steps": 1,
       "screenshot": "",
       "screenshot_scale": 2,
       "snapshot": "",
       "snapshot_type": "full",
       "time": 0,
       "voxel_paint_color": 0
      }
     },
     "efc0fc9fbfd04a41b2635669d09853d7": {
      "buffers": [
       {
        "data": "",
        "encoding": "base64",
        "path": [
         "attribute",
         "data"
        ]
       },
       {
        "data": "AAAAAKabxDpvEgM607xjPCSXfzuZuxY7w2SqOgdfmDwkl/870ERYO+AtEDsUP8Y8ylRBPLx0kzuJ0l47/yH9PEmdgDymm8Q7dQKaOwkbHj0ukKA8SFD8O4LixztbsT89EoPAPFJJHTxIUPw7irBhPa5H4TxbsT88dQIaPEoMgj1JnQA9QmBlPDSANzxPQJM9vJYQPbn8hzxioVY8VHSkPS6QID3A7J48/mV3PMbctT2giTA9NIC3PATnjDw5Rcc97utAPYZa0zwJG548GeLYPWDlUD1F2PA8xSCwPGiz6j3T3mA9cM4IPYEmwjwkufw9RdhwPVFrGj09LNQ8cF8HPtxogD3EQi09+THmPIV8ED4Cmog9NxpAPbU3+DwHzhk+vJaQPYZaUz24HgU9ih8jPnWTmD2wA2c9u7gNPQ1xLD4ukKA9tRV7PeLpFT3G3DU+VcGoPUvIhz0tsh097nw/Pg6+sD0qOpI9nRElPRUdST7Hurg9duCcPVafKz08vVI+gLfAPZ7vpz1XWzE9mndcPjm0yD3F/rI9fa42PfkxZj5g5dA9yXa+PRHHOj2OBnA+GeLYPTojyj3tDT497MB5PtPe4D2GONY9EoNAPaW9gT6M2+g9003iPYEmQj3UmoY+RdjwPWkA7z04+EI96GqLPmwJ+T3/svs9XI9CPeAtkD4SgwA+OGcEPqW9QT2945Q+b4EEPigPCz43GkA9Y3+ZPsx/CD5O0RE+Njw9PdIAnj5fmAw+rK0YPjVeOj3uWqI+vJYQPgmKHz59rjY9uY2mPhiVFD7UmiY+6pUyPUymqj51kxg+n6stPnsULj1yiq4+0ZEcPmq8ND4Mkyk9KjqyPmWqID42zTs+nRElPY/CtT7BqCQ+OPhCPgn5ID1sCbk+HqcoPgMJSj5SSR099ii8PnqlLD7OGVE+dQIaPRIUvz7XozA+mSpYPlCNFz3c18E+arw0Pi0hXz7i6RU9HVrEPse6OD75MWY+KxgVPQu1xj4kuTw+Vg5tPisYFT2n6Mg+gLdAPuoEdD7i6RU98fTKPhTQRD5I4Xo+K/YXPc3MzD5wzkg+t9GAPlFrGj1yis4+zcxMPsoyhD4JGx49xSDQPinLUD7ek4c+nDMiPcWP0T6GyVQ+1eeKPsKGJz2q8dI+GeJYPs07jj6fqy09PSzUPnbgXD7Fj5E+fdAzPZhM1T7T3mA+veOUPhHHOj29UtY+L91kPpkqmD5cj0I9x0vXPsP1aD52cZs+qFdKPZkq2D4f9Gw+NquePs6IUj0179g+fPJwPhPyoT7RIls9tabZPtjwdD7UK6U+07xjPRpR2j4173g+lWWoPrG/bD1I4do+yAd9Plafqz5rK3Y9WmTbPhKDgD4X2a4+SS5/PVHa2z5BgoI+1xKyPgFNhD0tQ9w+b4GEPn0/tT7eAok97Z7cPp2Ahj4+ebg+u7iNPZHt3D7njIg+46W7PgWjkj0bL90+FYyKPqTfvj7iWJc9iGPdPkSLjD5KDMI+LUOcPduK3T5yio4+7zjFPgn5oD0tst0+vJaQPrByyD7mrqU9SL/dPuqVkj5Wn8s+MZmqPWTM3T4YlZQ++8vOPg5Prz1kzN0+RpSWPqH40T7qBLQ9SL/dPnWTmD5GJdU+x7q4PRKl3T6+n5o+7FHYPqRwvT3bit0+7Z6cPqyL2z6BJsI9iGPdPhuenj5SuN4+XdzGPRsv3T5JnaA+9+ThPsxdyz2t+tw+eJyiPp0R5T6pE9A9JLncPsGopD5eS+g+GJXUPX9q3D7wp6Y+A3jrPvVK2T2/Dtw+HqeoPqmk7j5kzN09/7LbPkymqj5O0fE+003iPSNK2z6Wsqw+Dwv1PrAD5z1I4do+xLGuPrU3+D4fhes9NV7aPvKwsD5aZPs+jgbwPT7o2T4hsLI+G57+Pv2H9D0QWNk+T6+0PmDlAD9sCfk948fYPpm7tj6zewI/24r9PZkq2D7Hurg+kxgEPyUGAT40gNc+9bm6PuauBT+lLAM+tMjWPiS5vD45RQc/XW0FPjQR1j5SuL4+GeIIPxSuBz60WdU+nMTAPmx4Cj/M7gk+/YfUPsrDwj5NFQw/gy8MPka20z74wsQ+n6sNPztwDj5z19I+J8LGPvJBDz/ysBA+ofjRPnDOyD7T3hA/4QsTPrMM0T6fzco+JXUSP5hMFT6pE9A+zczMPngLFD9QjRc+hA3PPvvLzj7LoRU/PugZPl8Hzj4py9A+HTgXPy1DHD4f9Mw+c9fSPnDOGD/kgx4+w9PLPqHW1D7DZBo/CfkgPmizyj7Q1dY+FvsbP/hTIz7whck+/tTYPmiRHT/mriU+XkvIPkjh2j67Jx8/CyQoPssQxz524Nw+gLcgPzGZKj4dycU+pN/ePtNNIj9WDi0+VHTEPtPe4D6Y3SM/e4MvPoofwz4B3uI+63MlP9cSMj6lvcE+S+rkPrADJz80ojQ+pU7APnnp5j51kyg/x0s3PonSvj6n6Og+rBwqPyPbOT5tVr0+1efqPnGsKz/tnjw+Udq7PgTn7D6oNS0/gEg/Pv5Duj5N8+4+bcUuP0oMQj7Hurg+fPLwPqVOMD8U0EQ+WRe3Pqrx8j5O0TE/FK5HPutztT7Y8PQ+hlozP0ymSj5hw7M+Iv32Pi/dND9NhE0+1xKyPlD8+D7ZXzY/vJZQPjJVsD5/+/o+guI3P/OOUz5yiq4+rfr8Pp5eOT+Zu1Y+sb+sPtv5/j662jo/PuhZPvH0qj4SgwA/1lY8P+QUXT75D6k+qoIBP2TMPT/AW2A+HTinPkGCAj/yQT8/07xjPiZTpT7YgQM/gLdAP+cdZz4TYaM+b4EEP4EmQj8xmWo+AG+hPpSHBT+BlUM/si5uPtJvnz4rhwY/gQRFPzPEcT6kcJ0+woYHP/RsRj/rc3U+WmSbPlmGCD/Zzkc/oyN5PhBYmT5+jAk/vjBJP8gHfT7HS5c+FYwKP6OSSj/3dYA+YTKVPqyLCz/67Us/CmiCPvwYkz5Eiww/UklNP1R0hD588pA+24oNPxueTj+dgIY++8uOPgCRDj9X7E8/ApqIPnqljD6XkA8/kzpRP4PAij7ecYo+LpAQP86IUj8E54w+Qj6IPsWPET990FM/oBqPPov9hT5cjxI/nRFVP1dbkT7vyYM+gZUTP71SVj8qqZM+N4mBPhiVFD9QjVc//faVPgCRfj6vlBU/VcFYPwdfmD5a9Xk+RpQWP1r1WT8Rx5o+tFl1PmuaFz/RIls/Gy+dPg6+cD4Cmhg/uklcP1uxnz5oImw+mpkZP6RwXT+cM6I+woZnPjGZGj8AkV4/+MKkPuXQYj7ImBs/zqpfP3Bfpz4JG14+7Z4cP5zEYD8DCao+LGVZPoSeHT/c12E/lrKsPhiVVD4bnh4/j+RiP0Rprz47308+sp0fP7PqYz8OLbI+KA9LPtejID/Y8GQ/2PC0PhQ/Rj5uoyE/b/BlP77Btz4Ab0E+BaMiP3npZj++n7o+toQ8PpyiIz/122c/v329PqK0Nz40oiQ/cM5oP/d1wD5YyjI+WKglP166aT8TYcM+DeAtPvCnJj++n2o/ZmbGPozbKD6Hpyc/kX5rP7pryT5B8SM+HqcoP9ZWbD8ofsw+wOwePrWmKT8bL20/l5DPPj7oGT7arCo/RPptPyGw0j694xQ+cawrP23Fbj+rz9U+BcUPPgisLD8Jim8/UPzYPkymCj6fqy0/pU5wPxE23D6UhwU+xLEuPyUGcT/Sb98+3GgAPluxLz+lvXE/rrbiPkaU9j3ysDA/mG5yP4v95T5oIuw9irAxP/wYcz+DUek+irDhPSGwMj/TvHM/eqXsPj0K1z1GtjM/HVp0P3L57z5fmMw93bU0P2b3dD+hZ/M+E/LBPXS1NT+Uh3U/tMj2PsdLtz0LtTY/whd2P+M2+j56paw9orQ3P2Khdj8tsv0+Lv+hPce6OD90JHc/LpAAP+JYlz1eujk/+aB3P2FUAj+Wsow99bk6P34deD8GEgQ/SgyCPYy5Oz/njHg/xtwFP9c0bz2xvzw/UPx4P/mgBz8aUVo9SL89PyxleT+6awk/FD9GPeC+Pj96x3k/ejYLP+qVMj13vj8/OiN6PzsBDT9SJyA9Dr5AP2x4ej+J0g4/TfMOPTPEQT+fzXo/ZaoQP0mdAD3Kw0I/tRV7P7N7Ej/VeOk8YcNDP8xdez+PUxQ/YqHWPPjCRD9Wn3s/aysWP6hXyjyPwkU/Udp7P0cDGD84+MI8tMhGP78OfD+x4Rk/ylTBPEvIRz+fPHw/GsAbPxQ/xjzjx0g/f2p8PxKlHT8Xt9E8esdJP0SLfD97gx8/07zjPJ/NSj8IrHw/c2ghP/8h/Tw2zUs/sb98P2pNIz9N8w49zcxMP1vTfD9hMiU/L24jPWTMTT924Hw/5x0nPxHHOj37y04/BOd8P2wJKT9hw1M9INJPPwTnfD9j7io/+8tuPbfRUD8E53w/duAsPwK8hT1O0VE/6Nl8P/vLLj/hepQ95dBSP83MfD8OvjA/CtejPQrXUz+Wsnw/k6kyPw+csz2h1lQ/X5h8P6abND9d/sM9OdZVP5p3fD9GlDY/hsnUPdDVVj9IUHw/WYY4Px3J5T1n1Vc/aCJ8P2x4Oj/+Zfc9jNtYP/rtez8NcTw/ppsEPiPbWT//sns/rWk+P/LSDT662lo/dnF7P8BbQD90JBc+UdpbP+wvez9hVEI/ZaogPujZXD9I4Xo/AU1EP8NkKj4N4F0/o5J6P6JFRj9YOTQ+pN9eP3E9ej/QREg/klw+PjvfXz+x4Xk/cT1KPzm0SD7T3mA/Y395PxE2TD9PQFM+9+RhPxUdeT+yLk4/CRtePo/kYj85tHg/UidQPzAqaT4m5GM/0ER4P/MfUj/GbXQ+veNkP9nOdz+TGFQ/AACAPlTjZT/iWHc/NBFWP1TjhT556WY/6+J2P0cDWD8W+4s+EOlnP2Zmdj/n+1k/Di2SPqfoaD/i6XU/+u1bP3WTmD4+6Gk/XW11P3/ZXT8tIZ8+1edqP9jwdD8FxV8/VOOlPvrtaz/henQ/irBhP83MrD6R7Ww/6gR0P/OOYz+z6rM+Ke1tP4GVcz9dbWU/7C+7PsDsbj8zM3M/OUVnP662wj7l8m8/Ad5yP4cWaT/DZMo+fPJwP+qVcj+62mo/RUfSPhPycT98YXI/X5hsPxpR2j6q8XI/RUdyP+lIbj9BguI+QfFzP0VHcj9X7G8/n83qPmb3dD8KaHI/HHxxPzMz8z799nU/k6lyP1MFcz/ImPs+lPZ2P28Scz9vgXQ/vAUCPyv2dz+conM/4ul1P/kxBj/D9Xg/HVp0PzlFdz+oVwo/5/t5P+84dT91k3g/rWkOP3/7ej+GOHY/ldR5PwpoEj8W+3s/4lh3PygPez+9UhY/rfp8P5CgeD+fPHw/xykaP9IAfj/n+3k/iGN9P5vmHT9pAH8/A3h7P1Z9fj83iSE/AACAP8gHfT8kl38/KxglPw==",
        "encoding": "base64",
        "path": [
         "color_map",
         "data"
        ]
       },
       {
        "data": "",
        "encoding": "base64",
        "path": [
         "colors",
         "data"
        ]
       },
       {
        "data": "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",
        "encoding": "base64",
        "path": [
         "indices",
         "data"
        ]
       },
       {
        "data": "AACAPwAAAAAAAAAAAAAAAAAAAAAAAIA/AAAAAAAAAAAAAAAAAAAAAAAAgD8AAAAAAAAAAAAAAAAAAAAAAACAPw==",
        "encoding": "base64",
        "path": [
         "model_matrix",
         "data"
        ]
       },
       {
        "data": "",
        "encoding": "base64",
        "path": [
         "normals",
         "data"
        ]
       },
       {
        "data": "",
        "encoding": "base64",
        "path": [
         "opacity_function",
         "data"
        ]
       },
       {
        "data": "",
        "encoding": "base64",
        "path": [
         "triangles_attribute",
         "data"
        ]
       },
       {
        "data": "AADAfw==",
        "encoding": "base64",
        "path": [
         "uvs",
         "data"
        ]
       },
       {
        "data": "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",
        "encoding": "base64",
        "path": [
         "vertices",
         "data"
        ]
       },
       {
        "data": "",
        "encoding": "base64",
        "path": [
         "volume",
         "data"
        ]
       },
       {
        "data": "",
        "encoding": "base64",
        "path": [
         "volume_bounds",
         "data"
        ]
       }
      ],
      "model_module": "k3d",
      "model_module_version": "2.16.1",
      "model_name": "ObjectModel",
      "state": {
       "_view_module": null,
       "_view_module_version": "",
       "_view_name": null,
       "attribute": {
        "dtype": "float32",
        "shape": [
         0
        ]
       },
       "click_callback": false,
       "color": 5263440,
       "colorLegend": false,
       "color_map": {
        "dtype": "float32",
        "shape": [
         1024
        ]
       },
       "color_range": [],
       "colors": {
        "dtype": "uint32",
        "shape": [
         0
        ]
       },
       "compression_level": 0,
       "custom_data": null,
       "flat_shading": true,
       "group": null,
       "hover_callback": false,
       "id": 2020480265744,
       "indices": {
        "dtype": "uint32",
        "shape": [
         201,
         3
        ]
       },
       "model_matrix": {
        "dtype": "float32",
        "shape": [
         4,
         4
        ]
       },
       "name": "Mesh #1",
       "normals": {
        "dtype": "float32",
        "shape": [
         0
        ]
       },
       "opacity": 1,
       "opacity_function": {
        "dtype": "float32",
        "shape": [
         0
        ]
       },
       "side": "front",
       "texture": null,
       "texture_file_format": null,
       "triangles_attribute": {
        "dtype": "float32",
        "shape": [
         0
        ]
       },
       "type": "Mesh",
       "uvs": {
        "dtype": "float32",
        "shape": []
       },
       "vertices": {
        "dtype": "float32",
        "shape": [
         202,
         3
        ]
       },
       "visible": true,
       "volume": {
        "dtype": "float32",
        "shape": [
         0
        ]
       },
       "volume_bounds": {
        "dtype": "float32",
        "shape": [
         0
        ]
       },
       "wireframe": false
      }
     },
     "f1bdc88e122941118d0e89e672439739": {
      "model_module": "k3d",
      "model_module_version": "2.16.1",
      "model_name": "PlotModel",
      "state": {
       "_backend_version": "2.16.1",
       "antialias": 3,
       "auto_rendering": true,
       "axes": [
        "x",
        "y",
        "z"
       ],
       "axes_helper": 1,
       "axes_helper_colors": [
        16711680,
        65280,
        255
       ],
       "background_color": 16777215,
       "camera": [
        0.8401610685018219,
        -1.747076153494793,
        0.08314348656190029,
        0.008726202882826321,
        -0.49992385506629944,
        0,
        0,
        0,
        1
       ],
       "camera_animation": [],
       "camera_auto_fit": true,
       "camera_damping_factor": 0,
       "camera_fov": 60,
       "camera_mode": "trackball",
       "camera_no_pan": false,
       "camera_no_rotate": false,
       "camera_no_zoom": false,
       "camera_pan_speed": 0.3,
       "camera_rotate_speed": 1,
       "camera_zoom_speed": 1.2,
       "clipping_planes": [],
       "colorbar_object_id": -1,
       "colorbar_scientific": false,
       "custom_data": null,
       "fps": 25,
       "fps_meter": false,
       "grid": [
        -1,
        -1,
        -1,
        1,
        1,
        1
       ],
       "grid_auto_fit": true,
       "grid_color": 15132390,
       "grid_visible": true,
       "height": 512,
       "label_color": 4473924,
       "layout": "IPY_MODEL_fa350e7371b34429ba4cbeed6f601aac",
       "lighting": 3,
       "logarithmic_depth_buffer": true,
       "manipulate_mode": "translate",
       "menu_visibility": true,
       "minimum_fps": -1,
       "mode": "view",
       "name": null,
       "object_ids": [
        2020595691408
       ],
       "rendering_steps": 1,
       "screenshot": "",
       "screenshot_scale": 2,
       "snapshot": "",
       "snapshot_type": "full",
       "time": 0,
       "voxel_paint_color": 0
      }
     },
     "f2868f6fbaf24aa99f513e555e8befed": {
      "buffers": [
       {
        "data": "",
        "encoding": "base64",
        "path": [
         "attribute",
         "data"
        ]
       },
       {
        "data": "AAAAAKabxDpvEgM607xjPCSXfzuZuxY7w2SqOgdfmDwkl/870ERYO+AtEDsUP8Y8ylRBPLx0kzuJ0l47/yH9PEmdgDymm8Q7dQKaOwkbHj0ukKA8SFD8O4LixztbsT89EoPAPFJJHTxIUPw7irBhPa5H4TxbsT88dQIaPEoMgj1JnQA9QmBlPDSANzxPQJM9vJYQPbn8hzxioVY8VHSkPS6QID3A7J48/mV3PMbctT2giTA9NIC3PATnjDw5Rcc97utAPYZa0zwJG548GeLYPWDlUD1F2PA8xSCwPGiz6j3T3mA9cM4IPYEmwjwkufw9RdhwPVFrGj09LNQ8cF8HPtxogD3EQi09+THmPIV8ED4Cmog9NxpAPbU3+DwHzhk+vJaQPYZaUz24HgU9ih8jPnWTmD2wA2c9u7gNPQ1xLD4ukKA9tRV7PeLpFT3G3DU+VcGoPUvIhz0tsh097nw/Pg6+sD0qOpI9nRElPRUdST7Hurg9duCcPVafKz08vVI+gLfAPZ7vpz1XWzE9mndcPjm0yD3F/rI9fa42PfkxZj5g5dA9yXa+PRHHOj2OBnA+GeLYPTojyj3tDT497MB5PtPe4D2GONY9EoNAPaW9gT6M2+g9003iPYEmQj3UmoY+RdjwPWkA7z04+EI96GqLPmwJ+T3/svs9XI9CPeAtkD4SgwA+OGcEPqW9QT2945Q+b4EEPigPCz43GkA9Y3+ZPsx/CD5O0RE+Njw9PdIAnj5fmAw+rK0YPjVeOj3uWqI+vJYQPgmKHz59rjY9uY2mPhiVFD7UmiY+6pUyPUymqj51kxg+n6stPnsULj1yiq4+0ZEcPmq8ND4Mkyk9KjqyPmWqID42zTs+nRElPY/CtT7BqCQ+OPhCPgn5ID1sCbk+HqcoPgMJSj5SSR099ii8PnqlLD7OGVE+dQIaPRIUvz7XozA+mSpYPlCNFz3c18E+arw0Pi0hXz7i6RU9HVrEPse6OD75MWY+KxgVPQu1xj4kuTw+Vg5tPisYFT2n6Mg+gLdAPuoEdD7i6RU98fTKPhTQRD5I4Xo+K/YXPc3MzD5wzkg+t9GAPlFrGj1yis4+zcxMPsoyhD4JGx49xSDQPinLUD7ek4c+nDMiPcWP0T6GyVQ+1eeKPsKGJz2q8dI+GeJYPs07jj6fqy09PSzUPnbgXD7Fj5E+fdAzPZhM1T7T3mA+veOUPhHHOj29UtY+L91kPpkqmD5cj0I9x0vXPsP1aD52cZs+qFdKPZkq2D4f9Gw+NquePs6IUj0179g+fPJwPhPyoT7RIls9tabZPtjwdD7UK6U+07xjPRpR2j4173g+lWWoPrG/bD1I4do+yAd9Plafqz5rK3Y9WmTbPhKDgD4X2a4+SS5/PVHa2z5BgoI+1xKyPgFNhD0tQ9w+b4GEPn0/tT7eAok97Z7cPp2Ahj4+ebg+u7iNPZHt3D7njIg+46W7PgWjkj0bL90+FYyKPqTfvj7iWJc9iGPdPkSLjD5KDMI+LUOcPduK3T5yio4+7zjFPgn5oD0tst0+vJaQPrByyD7mrqU9SL/dPuqVkj5Wn8s+MZmqPWTM3T4YlZQ++8vOPg5Prz1kzN0+RpSWPqH40T7qBLQ9SL/dPnWTmD5GJdU+x7q4PRKl3T6+n5o+7FHYPqRwvT3bit0+7Z6cPqyL2z6BJsI9iGPdPhuenj5SuN4+XdzGPRsv3T5JnaA+9+ThPsxdyz2t+tw+eJyiPp0R5T6pE9A9JLncPsGopD5eS+g+GJXUPX9q3D7wp6Y+A3jrPvVK2T2/Dtw+HqeoPqmk7j5kzN09/7LbPkymqj5O0fE+003iPSNK2z6Wsqw+Dwv1PrAD5z1I4do+xLGuPrU3+D4fhes9NV7aPvKwsD5aZPs+jgbwPT7o2T4hsLI+G57+Pv2H9D0QWNk+T6+0PmDlAD9sCfk948fYPpm7tj6zewI/24r9PZkq2D7Hurg+kxgEPyUGAT40gNc+9bm6PuauBT+lLAM+tMjWPiS5vD45RQc/XW0FPjQR1j5SuL4+GeIIPxSuBz60WdU+nMTAPmx4Cj/M7gk+/YfUPsrDwj5NFQw/gy8MPka20z74wsQ+n6sNPztwDj5z19I+J8LGPvJBDz/ysBA+ofjRPnDOyD7T3hA/4QsTPrMM0T6fzco+JXUSP5hMFT6pE9A+zczMPngLFD9QjRc+hA3PPvvLzj7LoRU/PugZPl8Hzj4py9A+HTgXPy1DHD4f9Mw+c9fSPnDOGD/kgx4+w9PLPqHW1D7DZBo/CfkgPmizyj7Q1dY+FvsbP/hTIz7whck+/tTYPmiRHT/mriU+XkvIPkjh2j67Jx8/CyQoPssQxz524Nw+gLcgPzGZKj4dycU+pN/ePtNNIj9WDi0+VHTEPtPe4D6Y3SM/e4MvPoofwz4B3uI+63MlP9cSMj6lvcE+S+rkPrADJz80ojQ+pU7APnnp5j51kyg/x0s3PonSvj6n6Og+rBwqPyPbOT5tVr0+1efqPnGsKz/tnjw+Udq7PgTn7D6oNS0/gEg/Pv5Duj5N8+4+bcUuP0oMQj7Hurg+fPLwPqVOMD8U0EQ+WRe3Pqrx8j5O0TE/FK5HPutztT7Y8PQ+hlozP0ymSj5hw7M+Iv32Pi/dND9NhE0+1xKyPlD8+D7ZXzY/vJZQPjJVsD5/+/o+guI3P/OOUz5yiq4+rfr8Pp5eOT+Zu1Y+sb+sPtv5/j662jo/PuhZPvH0qj4SgwA/1lY8P+QUXT75D6k+qoIBP2TMPT/AW2A+HTinPkGCAj/yQT8/07xjPiZTpT7YgQM/gLdAP+cdZz4TYaM+b4EEP4EmQj8xmWo+AG+hPpSHBT+BlUM/si5uPtJvnz4rhwY/gQRFPzPEcT6kcJ0+woYHP/RsRj/rc3U+WmSbPlmGCD/Zzkc/oyN5PhBYmT5+jAk/vjBJP8gHfT7HS5c+FYwKP6OSSj/3dYA+YTKVPqyLCz/67Us/CmiCPvwYkz5Eiww/UklNP1R0hD588pA+24oNPxueTj+dgIY++8uOPgCRDj9X7E8/ApqIPnqljD6XkA8/kzpRP4PAij7ecYo+LpAQP86IUj8E54w+Qj6IPsWPET990FM/oBqPPov9hT5cjxI/nRFVP1dbkT7vyYM+gZUTP71SVj8qqZM+N4mBPhiVFD9QjVc//faVPgCRfj6vlBU/VcFYPwdfmD5a9Xk+RpQWP1r1WT8Rx5o+tFl1PmuaFz/RIls/Gy+dPg6+cD4Cmhg/uklcP1uxnz5oImw+mpkZP6RwXT+cM6I+woZnPjGZGj8AkV4/+MKkPuXQYj7ImBs/zqpfP3Bfpz4JG14+7Z4cP5zEYD8DCao+LGVZPoSeHT/c12E/lrKsPhiVVD4bnh4/j+RiP0Rprz47308+sp0fP7PqYz8OLbI+KA9LPtejID/Y8GQ/2PC0PhQ/Rj5uoyE/b/BlP77Btz4Ab0E+BaMiP3npZj++n7o+toQ8PpyiIz/122c/v329PqK0Nz40oiQ/cM5oP/d1wD5YyjI+WKglP166aT8TYcM+DeAtPvCnJj++n2o/ZmbGPozbKD6Hpyc/kX5rP7pryT5B8SM+HqcoP9ZWbD8ofsw+wOwePrWmKT8bL20/l5DPPj7oGT7arCo/RPptPyGw0j694xQ+cawrP23Fbj+rz9U+BcUPPgisLD8Jim8/UPzYPkymCj6fqy0/pU5wPxE23D6UhwU+xLEuPyUGcT/Sb98+3GgAPluxLz+lvXE/rrbiPkaU9j3ysDA/mG5yP4v95T5oIuw9irAxP/wYcz+DUek+irDhPSGwMj/TvHM/eqXsPj0K1z1GtjM/HVp0P3L57z5fmMw93bU0P2b3dD+hZ/M+E/LBPXS1NT+Uh3U/tMj2PsdLtz0LtTY/whd2P+M2+j56paw9orQ3P2Khdj8tsv0+Lv+hPce6OD90JHc/LpAAP+JYlz1eujk/+aB3P2FUAj+Wsow99bk6P34deD8GEgQ/SgyCPYy5Oz/njHg/xtwFP9c0bz2xvzw/UPx4P/mgBz8aUVo9SL89PyxleT+6awk/FD9GPeC+Pj96x3k/ejYLP+qVMj13vj8/OiN6PzsBDT9SJyA9Dr5AP2x4ej+J0g4/TfMOPTPEQT+fzXo/ZaoQP0mdAD3Kw0I/tRV7P7N7Ej/VeOk8YcNDP8xdez+PUxQ/YqHWPPjCRD9Wn3s/aysWP6hXyjyPwkU/Udp7P0cDGD84+MI8tMhGP78OfD+x4Rk/ylTBPEvIRz+fPHw/GsAbPxQ/xjzjx0g/f2p8PxKlHT8Xt9E8esdJP0SLfD97gx8/07zjPJ/NSj8IrHw/c2ghP/8h/Tw2zUs/sb98P2pNIz9N8w49zcxMP1vTfD9hMiU/L24jPWTMTT924Hw/5x0nPxHHOj37y04/BOd8P2wJKT9hw1M9INJPPwTnfD9j7io/+8tuPbfRUD8E53w/duAsPwK8hT1O0VE/6Nl8P/vLLj/hepQ95dBSP83MfD8OvjA/CtejPQrXUz+Wsnw/k6kyPw+csz2h1lQ/X5h8P6abND9d/sM9OdZVP5p3fD9GlDY/hsnUPdDVVj9IUHw/WYY4Px3J5T1n1Vc/aCJ8P2x4Oj/+Zfc9jNtYP/rtez8NcTw/ppsEPiPbWT//sns/rWk+P/LSDT662lo/dnF7P8BbQD90JBc+UdpbP+wvez9hVEI/ZaogPujZXD9I4Xo/AU1EP8NkKj4N4F0/o5J6P6JFRj9YOTQ+pN9eP3E9ej/QREg/klw+PjvfXz+x4Xk/cT1KPzm0SD7T3mA/Y395PxE2TD9PQFM+9+RhPxUdeT+yLk4/CRtePo/kYj85tHg/UidQPzAqaT4m5GM/0ER4P/MfUj/GbXQ+veNkP9nOdz+TGFQ/AACAPlTjZT/iWHc/NBFWP1TjhT556WY/6+J2P0cDWD8W+4s+EOlnP2Zmdj/n+1k/Di2SPqfoaD/i6XU/+u1bP3WTmD4+6Gk/XW11P3/ZXT8tIZ8+1edqP9jwdD8FxV8/VOOlPvrtaz/henQ/irBhP83MrD6R7Ww/6gR0P/OOYz+z6rM+Ke1tP4GVcz9dbWU/7C+7PsDsbj8zM3M/OUVnP662wj7l8m8/Ad5yP4cWaT/DZMo+fPJwP+qVcj+62mo/RUfSPhPycT98YXI/X5hsPxpR2j6q8XI/RUdyP+lIbj9BguI+QfFzP0VHcj9X7G8/n83qPmb3dD8KaHI/HHxxPzMz8z799nU/k6lyP1MFcz/ImPs+lPZ2P28Scz9vgXQ/vAUCPyv2dz+conM/4ul1P/kxBj/D9Xg/HVp0PzlFdz+oVwo/5/t5P+84dT91k3g/rWkOP3/7ej+GOHY/ldR5PwpoEj8W+3s/4lh3PygPez+9UhY/rfp8P5CgeD+fPHw/xykaP9IAfj/n+3k/iGN9P5vmHT9pAH8/A3h7P1Z9fj83iSE/AACAP8gHfT8kl38/KxglPw==",
        "encoding": "base64",
        "path": [
         "color_map",
         "data"
        ]
       },
       {
        "data": "",
        "encoding": "base64",
        "path": [
         "colors",
         "data"
        ]
       },
       {
        "data": "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",
        "encoding": "base64",
        "path": [
         "indices",
         "data"
        ]
       },
       {
        "data": "AACAPwAAAAAAAAAAAAAAAAAAAAAAAIA/AAAAAAAAAAAAAAAAAAAAAAAAgD8AAAAAAAAAAAAAAAAAAAAAAACAPw==",
        "encoding": "base64",
        "path": [
         "model_matrix",
         "data"
        ]
       },
       {
        "data": "",
        "encoding": "base64",
        "path": [
         "normals",
         "data"
        ]
       },
       {
        "data": "",
        "encoding": "base64",
        "path": [
         "opacity_function",
         "data"
        ]
       },
       {
        "data": "",
        "encoding": "base64",
        "path": [
         "triangles_attribute",
         "data"
        ]
       },
       {
        "data": "AADAfw==",
        "encoding": "base64",
        "path": [
         "uvs",
         "data"
        ]
       },
       {
        "data": "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",
        "encoding": "base64",
        "path": [
         "vertices",
         "data"
        ]
       },
       {
        "data": "",
        "encoding": "base64",
        "path": [
         "volume",
         "data"
        ]
       },
       {
        "data": "",
        "encoding": "base64",
        "path": [
         "volume_bounds",
         "data"
        ]
       }
      ],
      "model_module": "k3d",
      "model_module_version": "2.16.1",
      "model_name": "ObjectModel",
      "state": {
       "_view_module": null,
       "_view_module_version": "",
       "_view_name": null,
       "attribute": {
        "dtype": "float32",
        "shape": [
         0
        ]
       },
       "click_callback": false,
       "color": 3302400,
       "colorLegend": false,
       "color_map": {
        "dtype": "float32",
        "shape": [
         1024
        ]
       },
       "color_range": [],
       "colors": {
        "dtype": "uint32",
        "shape": [
         0
        ]
       },
       "compression_level": 0,
       "custom_data": null,
       "flat_shading": true,
       "group": null,
       "hover_callback": false,
       "id": 2020590219440,
       "indices": {
        "dtype": "uint32",
        "shape": [
         193,
         3
        ]
       },
       "model_matrix": {
        "dtype": "float32",
        "shape": [
         4,
         4
        ]
       },
       "name": "Mesh #1",
       "normals": {
        "dtype": "float32",
        "shape": [
         0
        ]
       },
       "opacity": 1,
       "opacity_function": {
        "dtype": "float32",
        "shape": [
         0
        ]
       },
       "side": "front",
       "texture": null,
       "texture_file_format": null,
       "triangles_attribute": {
        "dtype": "float32",
        "shape": [
         0
        ]
       },
       "type": "Mesh",
       "uvs": {
        "dtype": "float32",
        "shape": []
       },
       "vertices": {
        "dtype": "float32",
        "shape": [
         196,
         3
        ]
       },
       "visible": true,
       "volume": {
        "dtype": "float32",
        "shape": [
         0
        ]
       },
       "volume_bounds": {
        "dtype": "float32",
        "shape": [
         0
        ]
       },
       "wireframe": false
      }
     },
     "f8e0fd94813949f1a5a44d39c2ab3fe1": {
      "buffers": [
       {
        "data": "",
        "encoding": "base64",
        "path": [
         "attribute",
         "data"
        ]
       },
       {
        "data": "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",
        "encoding": "base64",
        "path": [
         "color_map",
         "data"
        ]
       },
       {
        "data": "",
        "encoding": "base64",
        "path": [
         "colors",
         "data"
        ]
       },
       {
        "data": "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",
        "encoding": "base64",
        "path": [
         "indices",
         "data"
        ]
       },
       {
        "data": "AACAPwAAAAAAAAAAAAAAAAAAAAAAAIA/AAAAAAAAAAAAAAAAAAAAAAAAgD8AAAAAAAAAAAAAAAAAAAAAAACAPw==",
        "encoding": "base64",
        "path": [
         "model_matrix",
         "data"
        ]
       },
       {
        "data": "",
        "encoding": "base64",
        "path": [
         "normals",
         "data"
        ]
       },
       {
        "data": "",
        "encoding": "base64",
        "path": [
         "opacity_function",
         "data"
        ]
       },
       {
        "data": "",
        "encoding": "base64",
        "path": [
         "triangles_attribute",
         "data"
        ]
       },
       {
        "data": "AADAfw==",
        "encoding": "base64",
        "path": [
         "uvs",
         "data"
        ]
       },
       {
        "data": "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",
        "encoding": "base64",
        "path": [
         "vertices",
         "data"
        ]
       },
       {
        "data": "",
        "encoding": "base64",
        "path": [
         "volume",
         "data"
        ]
       },
       {
        "data": "",
        "encoding": "base64",
        "path": [
         "volume_bounds",
         "data"
        ]
       }
      ],
      "model_module": "k3d",
      "model_module_version": "2.16.1",
      "model_name": "ObjectModel",
      "state": {
       "_view_module": null,
       "_view_module_version": "",
       "_view_name": null,
       "attribute": {
        "dtype": "float32",
        "shape": [
         0
        ]
       },
       "click_callback": false,
       "color": 3302400,
       "colorLegend": false,
       "color_map": {
        "dtype": "float32",
        "shape": [
         1024
        ]
       },
       "color_range": [],
       "colors": {
        "dtype": "uint32",
        "shape": [
         0
        ]
       },
       "compression_level": 0,
       "custom_data": null,
       "flat_shading": true,
       "group": null,
       "hover_callback": false,
       "id": 2020595858464,
       "indices": {
        "dtype": "uint32",
        "shape": [
         193,
         3
        ]
       },
       "model_matrix": {
        "dtype": "float32",
        "shape": [
         4,
         4
        ]
       },
       "name": "Mesh #1",
       "normals": {
        "dtype": "float32",
        "shape": [
         0
        ]
       },
       "opacity": 1,
       "opacity_function": {
        "dtype": "float32",
        "shape": [
         0
        ]
       },
       "side": "front",
       "texture": null,
       "texture_file_format": null,
       "triangles_attribute": {
        "dtype": "float32",
        "shape": [
         0
        ]
       },
       "type": "Mesh",
       "uvs": {
        "dtype": "float32",
        "shape": []
       },
       "vertices": {
        "dtype": "float32",
        "shape": [
         196,
         3
        ]
       },
       "visible": true,
       "volume": {
        "dtype": "float32",
        "shape": [
         0
        ]
       },
       "volume_bounds": {
        "dtype": "float32",
        "shape": [
         0
        ]
       },
       "wireframe": false
      }
     },
     "f939b996568c48878847223b490827f1": {
      "buffers": [
       {
        "data": "",
        "encoding": "base64",
        "path": [
         "attribute",
         "data"
        ]
       },
       {
        "data": "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",
        "encoding": "base64",
        "path": [
         "color_map",
         "data"
        ]
       },
       {
        "data": "",
        "encoding": "base64",
        "path": [
         "colors",
         "data"
        ]
       },
       {
        "data": "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",
        "encoding": "base64",
        "path": [
         "indices",
         "data"
        ]
       },
       {
        "data": "AACAPwAAAAAAAAAAAAAAAAAAAAAAAIA/AAAAAAAAAAAAAAAAAAAAAAAAgD8AAAAAAAAAAAAAAAAAAAAAAACAPw==",
        "encoding": "base64",
        "path": [
         "model_matrix",
         "data"
        ]
       },
       {
        "data": "",
        "encoding": "base64",
        "path": [
         "normals",
         "data"
        ]
       },
       {
        "data": "",
        "encoding": "base64",
        "path": [
         "opacity_function",
         "data"
        ]
       },
       {
        "data": "",
        "encoding": "base64",
        "path": [
         "triangles_attribute",
         "data"
        ]
       },
       {
        "data": "AADAfw==",
        "encoding": "base64",
        "path": [
         "uvs",
         "data"
        ]
       },
       {
        "data": "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",
        "encoding": "base64",
        "path": [
         "vertices",
         "data"
        ]
       },
       {
        "data": "",
        "encoding": "base64",
        "path": [
         "volume",
         "data"
        ]
       },
       {
        "data": "",
        "encoding": "base64",
        "path": [
         "volume_bounds",
         "data"
        ]
       }
      ],
      "model_module": "k3d",
      "model_module_version": "2.16.1",
      "model_name": "ObjectModel",
      "state": {
       "_view_module": null,
       "_view_module_version": "",
       "_view_name": null,
       "attribute": {
        "dtype": "float32",
        "shape": [
         0
        ]
       },
       "click_callback": false,
       "color": 5263440,
       "colorLegend": false,
       "color_map": {
        "dtype": "float32",
        "shape": [
         1024
        ]
       },
       "color_range": [],
       "colors": {
        "dtype": "uint32",
        "shape": [
         0
        ]
       },
       "compression_level": 0,
       "custom_data": null,
       "flat_shading": true,
       "group": null,
       "hover_callback": false,
       "id": 2020591967488,
       "indices": {
        "dtype": "uint32",
        "shape": [
         201,
         3
        ]
       },
       "model_matrix": {
        "dtype": "float32",
        "shape": [
         4,
         4
        ]
       },
       "name": "Mesh #1",
       "normals": {
        "dtype": "float32",
        "shape": [
         0
        ]
       },
       "opacity": 1,
       "opacity_function": {
        "dtype": "float32",
        "shape": [
         0
        ]
       },
       "side": "front",
       "texture": null,
       "texture_file_format": null,
       "triangles_attribute": {
        "dtype": "float32",
        "shape": [
         0
        ]
       },
       "type": "Mesh",
       "uvs": {
        "dtype": "float32",
        "shape": []
       },
       "vertices": {
        "dtype": "float32",
        "shape": [
         202,
         3
        ]
       },
       "visible": true,
       "volume": {
        "dtype": "float32",
        "shape": [
         0
        ]
       },
       "volume_bounds": {
        "dtype": "float32",
        "shape": [
         0
        ]
       },
       "wireframe": false
      }
     },
     "fa350e7371b34429ba4cbeed6f601aac": {
      "model_module": "@jupyter-widgets/base",
      "model_module_version": "2.0.0",
      "model_name": "LayoutModel",
      "state": {}
     },
     "fcd2da445e97413ca05b9197ce601356": {
      "model_module": "@jupyter-widgets/base",
      "model_module_version": "2.0.0",
      "model_name": "LayoutModel",
      "state": {}
     }
    },
    "version_major": 2,
    "version_minor": 0
   }
  }
 },
 "nbformat": 4,
 "nbformat_minor": 5
}
