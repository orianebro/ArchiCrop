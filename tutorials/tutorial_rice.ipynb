{
 "cells": [
  {
   "cell_type": "markdown",
   "id": "31e7c70c-f264-40d7-9287-4ae1f8b30979",
   "metadata": {},
   "source": [
    "# ArchiCrop tutorial - Sorghum"
   ]
  },
  {
   "cell_type": "markdown",
   "id": "bf0852fd-8b75-4db8-b1b2-396dd7d93c1e",
   "metadata": {},
   "source": [
    "This notebook is a tutorial for executing ArchiCrop model for sorghum."
   ]
  },
  {
   "cell_type": "markdown",
   "id": "fe31c5a6-c8c0-43c9-b623-bbc7e4573b11",
   "metadata": {},
   "source": [
    "## 0. Imports"
   ]
  },
  {
   "cell_type": "code",
   "execution_count": 1,
   "id": "7ba99dee-5c5b-41f6-b32a-85bc95be9544",
   "metadata": {},
   "outputs": [],
   "source": [
    "import numpy as np\n",
    "from oawidgets.plantgl import *\n",
    "from openalea.plantgl.all import Material, Color3, Scene\n",
    "\n",
    "from openalea.archicrop.simulation import read_sti_file, read_xml_file\n",
    "from openalea.archicrop.archicrop import ArchiCrop\n",
    "from openalea.archicrop.display import build_scene, display_scene\n",
    "%gui qt"
   ]
  },
  {
   "cell_type": "markdown",
   "id": "13b7984c-51e7-4077-96ec-9bcc73150520",
   "metadata": {},
   "source": [
    "## 1. Retrieve crop model parameters about management\n",
    "\n",
    "Retrieve crop model parameters regarding the spatial (and temporal) configuration of the crop."
   ]
  },
  {
   "cell_type": "code",
   "execution_count": 2,
   "id": "c690784e-63d3-458f-b901-2f96505f1fac",
   "metadata": {},
   "outputs": [],
   "source": [
    "file_tec_xml = 'sorgho_tec.xml'\n",
    "params_tec = ['densitesem', 'interrang']\n",
    "tec_stics = read_xml_file(file_tec_xml, params_tec)\n",
    "sowing_density = tec_stics['densitesem']\n",
    "inter_row = 0.4"
   ]
  },
  {
   "cell_type": "markdown",
   "id": "d282da23-eaa6-402c-8e54-df79bef01aad",
   "metadata": {},
   "source": [
    "## 2. Retrieve crop model growth and senescence dynamics\n",
    "\n",
    "From crop-scale data either measured or simulated with a crop model, generate a dictionnary of dictionnaries for each day with the following values :\n",
    " - \"Thermal time\" (float): cumulated thermal time from beginning of simulation to current day (in °C.day)\n",
    " - \"Phenology\" (str): current phenological stage (germination, juvenile, exponential or repro)\n",
    " - \"Plant leaf area\" (float): plant leaf area (in cm²) \n",
    " - \"Leaf area increment\" (float): leaf area increment compared to previous day (in cm²) \n",
    " - \"Plant senescent leaf area\" (float): senescent plant leaf area (in cm²) \n",
    " - \"Senescent leaf area increment\" (float): senescent leaf area increment compared to previous day (in cm²) \n",
    " - \"Plant height\" (float): plant height (in cm) \n",
    " - \"Height increment\" (float): height increment compared to previous day (in cm)."
   ]
  },
  {
   "cell_type": "code",
   "execution_count": 3,
   "id": "2a32cfb4-aa04-49c0-87c1-dd41afcfb22a",
   "metadata": {},
   "outputs": [],
   "source": [
    "stics_output_file = 'mod_ssorghum.sti'\n",
    "daily_dynamics = read_sti_file(stics_output_file, sowing_density)\n",
    "\n",
    "# Time series \n",
    "# for thermal time, plant leaf area, plant senescent leaf area and plant height\n",
    "thermal_time = [value[\"Thermal time\"] for value in daily_dynamics.values()]\n",
    "leaf_area_plant = [value[\"Plant leaf area\"] for value in daily_dynamics.values()]\n",
    "sen_leaf_area_plant = [value[\"Plant senescent leaf area\"] for value in daily_dynamics.values()]\n",
    "height_canopy = [value[\"Plant height\"] for value in daily_dynamics.values()]"
   ]
  },
  {
   "cell_type": "markdown",
   "id": "c8cad4ae-0e0a-4693-a4ed-4494e9a3dbf3",
   "metadata": {},
   "source": [
    "## 3. Set plant architectural parameters\n",
    "\n",
    "Set topological, geometrical and developmental parameters, in a range corresponding a given species, found in literature."
   ]
  },
  {
   "cell_type": "code",
   "execution_count": 9,
   "id": "fc27b380-3989-4cec-842c-ef92d36a4490",
   "metadata": {},
   "outputs": [],
   "source": [
    "# TODO : verify the values in literature\n",
    "nb_phy=13 # number of phytomers on the main stem : [10,40] (Ndiaye et al., 2021; Lafarge and Tardieu, 2002; Clerget, 2008; Ganeme et al., 2022)\n",
    "\n",
    "# Stem\n",
    "height=2*max(height_canopy) # potential plant height : [50,400] (Ganeme et al., 2022; Nebie et al., 2013)\n",
    "stem_q=1.1 # parameter for ligule height distribution along axis : [1.1] (Kaitaniemi et al., 1999) \n",
    "diam_base=2.5 # stem base diameter : [2.2] (Ndiaye et al., 2021)\n",
    "diam_top=1.5 # stem top diameter: [1.2] (Ndiaye et al., 2021)\n",
    "\n",
    "# Leaf blade area \n",
    "leaf_area=2*max(leaf_area_plant) # potential plant leaf area : [] (Clerget, 2008)\n",
    "rmax=0.9 # parameter for leaf area distribution along axis : [0.6,0.8] (Kaitaniemi et al., 1999; Welcker et al., )\n",
    "skew=0.0005 # parameter for leaf area distribution along axis : [] (Kaitaniemi et al., 1999; Welcker et al., )\n",
    "wl=0.12 # leaf blade width-to-length ratio : [0.1, 0.12] ()\n",
    "klig=0.6 # parameter for leaf blade shape\n",
    "swmax=0.55 # parameter for leaf blade shape\n",
    "f1=0.64 # parameter for leaf blade shape\n",
    "f2=0.92 # parameter for leaf blade shape\n",
    "\n",
    "# Leaf blade position in space\n",
    "insertion_angle=35 # leaf blade insertion angle : [10,50] (Truong et al., 2015; Kaitaniemi et al., 1999)\n",
    "scurv=0.7 # leaf blade relative inflexion point : [0.6, 0.8] ()\n",
    "curvature=120 # leaf blade insertion-to-tip angle : [45, 135] (Kaitaniemi et al., 1999)\n",
    "phyllotactic_angle=180 # phyllotactic angle : [180] (Davis et al., 2024)\n",
    "phyllotactic_deviation=10 # half-deviation to phyllotactic angle : [0,90] (Davis et al., 2024)\n",
    "\n",
    "# Development\n",
    "phyllochron=30 # phyllochron, i.e. stem element appearance rate : [40,65 then x1.6-2.5] (Clerget, 2008)\n",
    "plastochron=40 # plastochron, i.e. leaf blade appearance rate : [34,46 then 80-93] (Rami Kumar et al., 2009)\n",
    "\n",
    "# Senescence (from crop model parameters)\n",
    "file_plt_xml = 'proto_sorghum_plt.xml'\n",
    "params_sen = ['durvieF', 'ratiodurvieI']\n",
    "sen_stics = read_xml_file(file_plt_xml, params_sen)\n",
    "lifespan = sen_stics['durvieF'] # leaf lifespan from appearance in exponential phase\n",
    "lifespan_early = sen_stics['ratiodurvieI'] * lifespan # leaf lifespan from appearance in juvenile phase\n",
    "leaf_lifespan=[lifespan_early, lifespan]\n",
    "\n",
    "# Tillering\n",
    "nb_tillers=0 # number of tillers : [0,6] (Lafarge et al., 2002)\n",
    "tiller_delay=1 # delay, as factor of phyllochron, between the appearance of a phytomer and the appearance of its tiller : [] ()\n",
    "reduction_factor=1 # reduction factor between tillers of consecutive order : [] ()"
   ]
  },
  {
   "cell_type": "markdown",
   "id": "340079dc-3693-4cb7-8fc4-bb8acfd26a97",
   "metadata": {},
   "source": [
    "## 4. Instantiate ArchiCrop object"
   ]
  },
  {
   "cell_type": "code",
   "execution_count": 10,
   "id": "d92459b4-a91f-4c83-b597-f4df5d669552",
   "metadata": {},
   "outputs": [],
   "source": [
    "plant = ArchiCrop(height=height, \n",
    "                  nb_phy=nb_phy,\n",
    "                  leaf_area=leaf_area,\n",
    "                  wl=wl, diam_base=diam_base, diam_top=diam_top, \n",
    "                  insertion_angle=insertion_angle, scurv=scurv, curvature=curvature, \n",
    "                  klig=klig, swmax=swmax, f1=f1, f2=f2, \n",
    "                  stem_q=stem_q, rmax=rmax, skew=skew,\n",
    "                  phyllotactic_angle=phyllotactic_angle,\n",
    "                  phyllotactic_deviation=phyllotactic_deviation,\n",
    "                  phyllochron=phyllochron, \n",
    "                  plastochron=plastochron, \n",
    "                  leaf_lifespan=leaf_lifespan,\n",
    "                  nb_tillers=nb_tillers, tiller_delay=tiller_delay, reduction_factor=reduction_factor,\n",
    "                  daily_dynamics=daily_dynamics)"
   ]
  },
  {
   "cell_type": "markdown",
   "id": "ac1d95d9-d0f2-423c-a313-e44bc2a2f11f",
   "metadata": {},
   "source": [
    "## 5. Generate a potential plant \n",
    "\n",
    "Generate a potential plant from architectural parameters. \n",
    "\n",
    "This creates an MTG (Multi-scale Tree Graph, cf [doc](https://mtg.readthedocs.io/en/latest/user/tutorial.html)) as a property of the object plant."
   ]
  },
  {
   "cell_type": "code",
   "execution_count": 11,
   "id": "b59ea54e-5783-46a4-88e4-bec0b77e9723",
   "metadata": {},
   "outputs": [],
   "source": [
    "plant.generate_potential_plant()"
   ]
  },
  {
   "cell_type": "markdown",
   "id": "e323e26a-031e-4fae-a63a-0141b7a161e9",
   "metadata": {},
   "source": [
    "## 6. Simulate growth and senescence of the plant\n",
    "\n",
    "Simulate growth and senescence of this plant following the daily dynamics."
   ]
  },
  {
   "cell_type": "code",
   "execution_count": 12,
   "id": "ec6ea424-5954-468d-93aa-688143b974bd",
   "metadata": {},
   "outputs": [],
   "source": [
    "growing_plant = plant.grow_plant()"
   ]
  },
  {
   "cell_type": "markdown",
   "id": "e376ffe8-ab2f-4322-a443-57bf69e399d4",
   "metadata": {},
   "source": [
    "## 7. Plot 3D scene"
   ]
  },
  {
   "cell_type": "code",
   "execution_count": 13,
   "id": "09ca7584-8085-4e17-b494-674736b4f7a5",
   "metadata": {},
   "outputs": [
    {
     "data": {
      "application/vnd.jupyter.widget-view+json": {
       "model_id": "33082b9ec1b04477b3649358772e32ec",
       "version_major": 2,
       "version_minor": 0
      },
      "text/plain": [
       "Plot(antialias=3, axes=['x', 'y', 'z'], axes_helper=1.0, axes_helper_colors=[16711680, 65280, 255], background…"
      ]
     },
     "execution_count": 13,
     "metadata": {},
     "output_type": "execute_result"
    }
   ],
   "source": [
    "times = [t for i,t in enumerate(thermal_time) if i%5 == 0]\n",
    "mean_time = sum(times) / len(times)\n",
    "positions = [ (0, 1*(t-mean_time), 0) for t in times]\n",
    "nice_green = Color3((50, 100, 0))\n",
    "scene, _ = build_scene([g for i,g in enumerate(list(growing_plant.values())) if i%5 == 0], position=positions, senescence=True, leaf_material = Material(nice_green), stem_material=Material(nice_green))\n",
    "PlantGL(scene)"
   ]
  },
  {
   "cell_type": "code",
   "execution_count": null,
   "id": "60bdae86-7d1f-451a-8421-2d6b1cd88068",
   "metadata": {},
   "outputs": [],
   "source": []
  }
 ],
 "metadata": {
  "kernelspec": {
   "display_name": "Python 3 (ipykernel)",
   "language": "python",
   "name": "python3"
  },
  "language_info": {
   "codemirror_mode": {
    "name": "ipython",
    "version": 3
   },
   "file_extension": ".py",
   "mimetype": "text/x-python",
   "name": "python",
   "nbconvert_exporter": "python",
   "pygments_lexer": "ipython3",
   "version": "3.12.3"
  },
  "widgets": {
   "application/vnd.jupyter.widget-state+json": {
    "state": {},
    "version_major": 2,
    "version_minor": 0
   }
  }
 },
 "nbformat": 4,
 "nbformat_minor": 5
}
