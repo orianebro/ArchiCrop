{
 "cells": [
  {
   "cell_type": "markdown",
   "metadata": {},
   "source": [
    "## Light Interception HowTo"
   ]
  },
  {
   "cell_type": "markdown",
   "metadata": {},
   "source": [
    "## Tools"
   ]
  },
  {
   "cell_type": "code",
   "execution_count": null,
   "metadata": {},
   "outputs": [
    {
     "ename": "ModuleNotFoundError",
     "evalue": "No module named 'openalea.lpy'",
     "output_type": "error",
     "traceback": [
      "\u001b[1;31m---------------------------------------------------------------------------\u001b[0m",
      "\u001b[1;31mModuleNotFoundError\u001b[0m                       Traceback (most recent call last)",
      "Cell \u001b[1;32mIn[2], line 2\u001b[0m\n\u001b[0;32m      1\u001b[0m get_ipython()\u001b[38;5;241m.\u001b[39mrun_line_magic(\u001b[38;5;124m'\u001b[39m\u001b[38;5;124mgui\u001b[39m\u001b[38;5;124m'\u001b[39m, \u001b[38;5;124m'\u001b[39m\u001b[38;5;124mqt\u001b[39m\u001b[38;5;124m'\u001b[39m)\n\u001b[1;32m----> 2\u001b[0m \u001b[38;5;28;01mimport\u001b[39;00m\u001b[38;5;250m \u001b[39m\u001b[38;5;21;01mopenalea\u001b[39;00m\u001b[38;5;21;01m.\u001b[39;00m\u001b[38;5;21;01marchicrop\u001b[39;00m\u001b[38;5;21;01m.\u001b[39;00m\u001b[38;5;21;01mltfs\u001b[39;00m  \u001b[38;5;66;03m# a bit like rtfd\u001b[39;00m\n",
      "File \u001b[1;32mD:\\ArchiCrop\\src\\openalea\\archicrop\\ltfs.py:7\u001b[0m\n\u001b[0;32m      4\u001b[0m \u001b[38;5;28;01mfrom\u001b[39;00m\u001b[38;5;250m \u001b[39m\u001b[38;5;21;01malinea\u001b[39;00m\u001b[38;5;21;01m.\u001b[39;00m\u001b[38;5;21;01mcaribu\u001b[39;00m\u001b[38;5;21;01m.\u001b[39;00m\u001b[38;5;21;01mCaribuScene\u001b[39;00m\u001b[38;5;250m \u001b[39m\u001b[38;5;28;01mimport\u001b[39;00m CaribuScene\n\u001b[0;32m      5\u001b[0m \u001b[38;5;28;01mfrom\u001b[39;00m\u001b[38;5;250m \u001b[39m\u001b[38;5;21;01malinea\u001b[39;00m\u001b[38;5;21;01m.\u001b[39;00m\u001b[38;5;21;01mcaribu\u001b[39;00m\u001b[38;5;21;01m.\u001b[39;00m\u001b[38;5;21;01mlight\u001b[39;00m\u001b[38;5;250m \u001b[39m\u001b[38;5;28;01mimport\u001b[39;00m light_sources  \u001b[38;5;66;03m# here to avoid import line in notebook\u001b[39;00m\n\u001b[1;32m----> 7\u001b[0m \u001b[38;5;28;01mfrom\u001b[39;00m\u001b[38;5;250m \u001b[39m\u001b[38;5;21;01mopenalea\u001b[39;00m\u001b[38;5;21;01m.\u001b[39;00m\u001b[38;5;21;01mlpy\u001b[39;00m\u001b[38;5;250m \u001b[39m\u001b[38;5;28;01mimport\u001b[39;00m Lsystem\n\u001b[0;32m     10\u001b[0m \u001b[38;5;28;01mdef\u001b[39;00m\u001b[38;5;250m \u001b[39m\u001b[38;5;21mrun_lsystem\u001b[39m(lsystem\u001b[38;5;241m=\u001b[39m\u001b[38;5;124m'\u001b[39m\u001b[38;5;124mleafy.lpy\u001b[39m\u001b[38;5;124m'\u001b[39m, parameters\u001b[38;5;241m=\u001b[39m\u001b[38;5;28;01mNone\u001b[39;00m):\n\u001b[0;32m     11\u001b[0m     \u001b[38;5;28;01mif\u001b[39;00m parameters:\n",
      "\u001b[1;31mModuleNotFoundError\u001b[0m: No module named 'openalea.lpy'"
     ]
    }
   ],
   "source": [
    "%gui qt\n",
    "import openalea.archicrop.light_it as ltfs  # a bit like rtfd"
   ]
  },
  {
   "cell_type": "markdown",
   "metadata": {},
   "source": [
    "- Some utilities have been gathered in module light_it.py to ease light simulation on virtual scenes produced by lpy.\n",
    "- Behind the scene it calls the Caribu light model (Chelle et al. 1998), configured to simulate first order interception (no rediffusion)\n",
    "- Specifying the gui is required, in notebooks, or anaconda prompt (ipython --gui=qt4)"
   ]
  },
  {
   "cell_type": "markdown",
   "metadata": {},
   "source": [
    "## Run the model and get the scene"
   ]
  },
  {
   "cell_type": "code",
   "execution_count": 4,
   "metadata": {},
   "outputs": [],
   "source": [
    "lsys, lstring, lscene = ltfs.run_lsystem('leafy.lpy')\n",
    "lsys.plot(lstring)"
   ]
  },
  {
   "cell_type": "markdown",
   "metadata": {},
   "source": [
    "- The lpy model has been developped within lpy and saved in a file 'leafy.lpy'.\n",
    "- lsys in an object containing the lsystem code, that has methods (eg 'plot') to run / siplay lstring and lscene\n",
    "- lstring is an object that contains the string produced by the lsystem. A bit like a list of module (see bellow cells)\n",
    "- lscene contains the scene (3D geometrical objects, one per module, identified by the index of the module in the string"
   ]
  },
  {
   "cell_type": "code",
   "execution_count": 5,
   "metadata": {},
   "outputs": [
    {
     "data": {
      "text/plain": [
       "AxialTree(/(90)F(1)[^(-45)Leaf(5)]F(1)/(180)[^(-45)Leaf(5)]F(1)/(180)[^(-45)Leaf(5)]F(1)/(180)[^(-45)Leaf(5)]F(1)/(180)[^(-45)Leaf(5)]F(1)/(180)[^(-45)Leaf(5)]F(1)/(180)[^(-45)Leaf(5)]F(1)/(180)[^(-45)Leaf(5)]F(1)/(180)[^(-45)Leaf(5)]F(1)/(180)[^(-45)Leaf(5)]F(1)/(180)A(10))"
      ]
     },
     "execution_count": 5,
     "metadata": {},
     "output_type": "execute_result"
    }
   ],
   "source": [
    "lstring"
   ]
  },
  {
   "cell_type": "code",
   "execution_count": 6,
   "metadata": {},
   "outputs": [
    {
     "data": {
      "text/plain": [
       "/(90)"
      ]
     },
     "execution_count": 6,
     "metadata": {},
     "output_type": "execute_result"
    }
   ],
   "source": [
    "lstring[0]"
   ]
  },
  {
   "cell_type": "markdown",
   "metadata": {},
   "source": [
    "## Light it !"
   ]
  },
  {
   "cell_type": "code",
   "execution_count": 7,
   "metadata": {},
   "outputs": [],
   "source": [
    "cscene, raw, agg = ltfs.illuminate(lscene, scene_unit='cm')\n",
    "_, _ = cscene.plot(raw, maxval=1.01)"
   ]
  },
  {
   "cell_type": "markdown",
   "metadata": {},
   "source": [
    "- illuminate calls caribu on the given scene. Specifying scene unit is important as light flux radiances are expressed in W.m-2\n",
    "    - Try to figure out where was the light positioned (and find its intensity- tip : colors goes from blue (zero) to red (maxval))!\n",
    "- cscene is an object returned by the light model, and contains methods to rerun the simulation differently, add new sources, display...\n",
    "- raw is a dict(keys = scene primitive ids) containing the irradiances of all triangles of the scene mesh\n",
    "- agg is a dataframe, indexed by primitive ids, containing the output of the simulation\n",
    " "
   ]
  },
  {
   "cell_type": "markdown",
   "metadata": {},
   "source": [
    "# Explore results"
   ]
  },
  {
   "cell_type": "markdown",
   "metadata": {},
   "source": [
    "- results for all primitives"
   ]
  },
  {
   "cell_type": "code",
   "execution_count": 8,
   "metadata": {},
   "outputs": [
    {
     "data": {
      "text/html": [
       "<div>\n",
       "<style scoped>\n",
       "    .dataframe tbody tr th:only-of-type {\n",
       "        vertical-align: middle;\n",
       "    }\n",
       "\n",
       "    .dataframe tbody tr th {\n",
       "        vertical-align: top;\n",
       "    }\n",
       "\n",
       "    .dataframe thead th {\n",
       "        text-align: right;\n",
       "    }\n",
       "</style>\n",
       "<table border=\"1\" class=\"dataframe\">\n",
       "  <thead>\n",
       "    <tr style=\"text-align: right;\">\n",
       "      <th></th>\n",
       "      <th>Eabs</th>\n",
       "      <th>Ei</th>\n",
       "      <th>area</th>\n",
       "    </tr>\n",
       "  </thead>\n",
       "  <tbody>\n",
       "    <tr>\n",
       "      <th>1</th>\n",
       "      <td>0.000000</td>\n",
       "      <td>0.000000</td>\n",
       "      <td>0.000061</td>\n",
       "    </tr>\n",
       "    <tr>\n",
       "      <th>4</th>\n",
       "      <td>0.000000</td>\n",
       "      <td>0.000000</td>\n",
       "      <td>0.000114</td>\n",
       "    </tr>\n",
       "    <tr>\n",
       "      <th>6</th>\n",
       "      <td>0.000000</td>\n",
       "      <td>0.000000</td>\n",
       "      <td>0.000061</td>\n",
       "    </tr>\n",
       "    <tr>\n",
       "      <th>10</th>\n",
       "      <td>0.000000</td>\n",
       "      <td>0.000000</td>\n",
       "      <td>0.000114</td>\n",
       "    </tr>\n",
       "    <tr>\n",
       "      <th>12</th>\n",
       "      <td>0.000000</td>\n",
       "      <td>0.000000</td>\n",
       "      <td>0.000061</td>\n",
       "    </tr>\n",
       "    <tr>\n",
       "      <th>16</th>\n",
       "      <td>0.000000</td>\n",
       "      <td>0.000000</td>\n",
       "      <td>0.000114</td>\n",
       "    </tr>\n",
       "    <tr>\n",
       "      <th>18</th>\n",
       "      <td>0.000000</td>\n",
       "      <td>0.000000</td>\n",
       "      <td>0.000061</td>\n",
       "    </tr>\n",
       "    <tr>\n",
       "      <th>22</th>\n",
       "      <td>0.000000</td>\n",
       "      <td>0.000000</td>\n",
       "      <td>0.000114</td>\n",
       "    </tr>\n",
       "    <tr>\n",
       "      <th>24</th>\n",
       "      <td>0.000000</td>\n",
       "      <td>0.000000</td>\n",
       "      <td>0.000061</td>\n",
       "    </tr>\n",
       "    <tr>\n",
       "      <th>28</th>\n",
       "      <td>0.000000</td>\n",
       "      <td>0.000000</td>\n",
       "      <td>0.000114</td>\n",
       "    </tr>\n",
       "    <tr>\n",
       "      <th>30</th>\n",
       "      <td>0.000000</td>\n",
       "      <td>0.000000</td>\n",
       "      <td>0.000061</td>\n",
       "    </tr>\n",
       "    <tr>\n",
       "      <th>34</th>\n",
       "      <td>0.000000</td>\n",
       "      <td>0.000000</td>\n",
       "      <td>0.000114</td>\n",
       "    </tr>\n",
       "    <tr>\n",
       "      <th>36</th>\n",
       "      <td>0.000000</td>\n",
       "      <td>0.000000</td>\n",
       "      <td>0.000061</td>\n",
       "    </tr>\n",
       "    <tr>\n",
       "      <th>40</th>\n",
       "      <td>0.000000</td>\n",
       "      <td>0.000000</td>\n",
       "      <td>0.000114</td>\n",
       "    </tr>\n",
       "    <tr>\n",
       "      <th>42</th>\n",
       "      <td>0.000000</td>\n",
       "      <td>0.000000</td>\n",
       "      <td>0.000061</td>\n",
       "    </tr>\n",
       "    <tr>\n",
       "      <th>46</th>\n",
       "      <td>0.000000</td>\n",
       "      <td>0.000000</td>\n",
       "      <td>0.000114</td>\n",
       "    </tr>\n",
       "    <tr>\n",
       "      <th>48</th>\n",
       "      <td>0.000000</td>\n",
       "      <td>0.000000</td>\n",
       "      <td>0.000061</td>\n",
       "    </tr>\n",
       "    <tr>\n",
       "      <th>52</th>\n",
       "      <td>0.575724</td>\n",
       "      <td>0.661752</td>\n",
       "      <td>0.000114</td>\n",
       "    </tr>\n",
       "    <tr>\n",
       "      <th>54</th>\n",
       "      <td>0.000000</td>\n",
       "      <td>0.000000</td>\n",
       "      <td>0.000061</td>\n",
       "    </tr>\n",
       "    <tr>\n",
       "      <th>58</th>\n",
       "      <td>0.576238</td>\n",
       "      <td>0.662343</td>\n",
       "      <td>0.000114</td>\n",
       "    </tr>\n",
       "    <tr>\n",
       "      <th>60</th>\n",
       "      <td>0.000000</td>\n",
       "      <td>0.000000</td>\n",
       "      <td>0.000061</td>\n",
       "    </tr>\n",
       "    <tr>\n",
       "      <th>62</th>\n",
       "      <td>0.210421</td>\n",
       "      <td>0.241863</td>\n",
       "      <td>0.000047</td>\n",
       "    </tr>\n",
       "  </tbody>\n",
       "</table>\n",
       "</div>"
      ],
      "text/plain": [
       "        Eabs        Ei      area\n",
       "1   0.000000  0.000000  0.000061\n",
       "4   0.000000  0.000000  0.000114\n",
       "6   0.000000  0.000000  0.000061\n",
       "10  0.000000  0.000000  0.000114\n",
       "12  0.000000  0.000000  0.000061\n",
       "16  0.000000  0.000000  0.000114\n",
       "18  0.000000  0.000000  0.000061\n",
       "22  0.000000  0.000000  0.000114\n",
       "24  0.000000  0.000000  0.000061\n",
       "28  0.000000  0.000000  0.000114\n",
       "30  0.000000  0.000000  0.000061\n",
       "34  0.000000  0.000000  0.000114\n",
       "36  0.000000  0.000000  0.000061\n",
       "40  0.000000  0.000000  0.000114\n",
       "42  0.000000  0.000000  0.000061\n",
       "46  0.000000  0.000000  0.000114\n",
       "48  0.000000  0.000000  0.000061\n",
       "52  0.575724  0.661752  0.000114\n",
       "54  0.000000  0.000000  0.000061\n",
       "58  0.576238  0.662343  0.000114\n",
       "60  0.000000  0.000000  0.000061\n",
       "62  0.210421  0.241863  0.000047"
      ]
     },
     "execution_count": 8,
     "metadata": {},
     "output_type": "execute_result"
    }
   ],
   "source": [
    "agg"
   ]
  },
  {
   "cell_type": "markdown",
   "metadata": {},
   "source": [
    "- results for leaves only (can be found thanks to lstring module names matching leaf_name)"
   ]
  },
  {
   "cell_type": "code",
   "execution_count": 11,
   "metadata": {},
   "outputs": [
    {
     "data": {
      "text/html": [
       "<div>\n",
       "<style scoped>\n",
       "    .dataframe tbody tr th:only-of-type {\n",
       "        vertical-align: middle;\n",
       "    }\n",
       "\n",
       "    .dataframe tbody tr th {\n",
       "        vertical-align: top;\n",
       "    }\n",
       "\n",
       "    .dataframe thead th {\n",
       "        text-align: right;\n",
       "    }\n",
       "</style>\n",
       "<table border=\"1\" class=\"dataframe\">\n",
       "  <thead>\n",
       "    <tr style=\"text-align: right;\">\n",
       "      <th></th>\n",
       "      <th>Eabs</th>\n",
       "      <th>Ei</th>\n",
       "      <th>area</th>\n",
       "      <th>leaf_rank</th>\n",
       "    </tr>\n",
       "  </thead>\n",
       "  <tbody>\n",
       "    <tr>\n",
       "      <th>4</th>\n",
       "      <td>0.000000</td>\n",
       "      <td>0.000000</td>\n",
       "      <td>0.000114</td>\n",
       "      <td>1</td>\n",
       "    </tr>\n",
       "    <tr>\n",
       "      <th>10</th>\n",
       "      <td>0.000000</td>\n",
       "      <td>0.000000</td>\n",
       "      <td>0.000114</td>\n",
       "      <td>2</td>\n",
       "    </tr>\n",
       "    <tr>\n",
       "      <th>16</th>\n",
       "      <td>0.000000</td>\n",
       "      <td>0.000000</td>\n",
       "      <td>0.000114</td>\n",
       "      <td>3</td>\n",
       "    </tr>\n",
       "    <tr>\n",
       "      <th>22</th>\n",
       "      <td>0.000000</td>\n",
       "      <td>0.000000</td>\n",
       "      <td>0.000114</td>\n",
       "      <td>4</td>\n",
       "    </tr>\n",
       "    <tr>\n",
       "      <th>28</th>\n",
       "      <td>0.000000</td>\n",
       "      <td>0.000000</td>\n",
       "      <td>0.000114</td>\n",
       "      <td>5</td>\n",
       "    </tr>\n",
       "    <tr>\n",
       "      <th>34</th>\n",
       "      <td>0.000000</td>\n",
       "      <td>0.000000</td>\n",
       "      <td>0.000114</td>\n",
       "      <td>6</td>\n",
       "    </tr>\n",
       "    <tr>\n",
       "      <th>40</th>\n",
       "      <td>0.000000</td>\n",
       "      <td>0.000000</td>\n",
       "      <td>0.000114</td>\n",
       "      <td>7</td>\n",
       "    </tr>\n",
       "    <tr>\n",
       "      <th>46</th>\n",
       "      <td>0.000000</td>\n",
       "      <td>0.000000</td>\n",
       "      <td>0.000114</td>\n",
       "      <td>8</td>\n",
       "    </tr>\n",
       "    <tr>\n",
       "      <th>52</th>\n",
       "      <td>0.575724</td>\n",
       "      <td>0.661752</td>\n",
       "      <td>0.000114</td>\n",
       "      <td>9</td>\n",
       "    </tr>\n",
       "    <tr>\n",
       "      <th>58</th>\n",
       "      <td>0.576238</td>\n",
       "      <td>0.662343</td>\n",
       "      <td>0.000114</td>\n",
       "      <td>10</td>\n",
       "    </tr>\n",
       "  </tbody>\n",
       "</table>\n",
       "</div>"
      ],
      "text/plain": [
       "        Eabs        Ei      area  leaf_rank\n",
       "4   0.000000  0.000000  0.000114          1\n",
       "10  0.000000  0.000000  0.000114          2\n",
       "16  0.000000  0.000000  0.000114          3\n",
       "22  0.000000  0.000000  0.000114          4\n",
       "28  0.000000  0.000000  0.000114          5\n",
       "34  0.000000  0.000000  0.000114          6\n",
       "40  0.000000  0.000000  0.000114          7\n",
       "46  0.000000  0.000000  0.000114          8\n",
       "52  0.575724  0.661752  0.000114          9\n",
       "58  0.576238  0.662343  0.000114         10"
      ]
     },
     "execution_count": 11,
     "metadata": {},
     "output_type": "execute_result"
    }
   ],
   "source": [
    "irr = ltfs.leaf_irradiance(agg, lstring, leaf_name='Leaf')\n",
    "irr"
   ]
  },
  {
   "cell_type": "code",
   "execution_count": 12,
   "metadata": {},
   "outputs": [
    {
     "data": {
      "text/plain": [
       "<AxesSubplot:xlabel='leaf_rank'>"
      ]
     },
     "execution_count": 12,
     "metadata": {},
     "output_type": "execute_result"
    },
    {
     "data": {
      "image/png": "[encoded data removed]",
      "text/plain": [
       "<Figure size 432x288 with 1 Axes>"
      ]
     },
     "metadata": {
      "needs_background": "light"
     },
     "output_type": "display_data"
    }
   ],
   "source": [
    "irr.plot('leaf_rank', 'Ei')"
   ]
  },
  {
   "cell_type": "markdown",
   "metadata": {},
   "source": [
    "- Mean irradiance on leaves (plant level)"
   ]
  },
  {
   "cell_type": "code",
   "execution_count": 14,
   "metadata": {},
   "outputs": [
    {
     "data": {
      "text/plain": [
       "Eabs         0.115196\n",
       "Ei           0.132409\n",
       "area         0.000114\n",
       "leaf_rank    5.500000\n",
       "dtype: float64"
      ]
     },
     "execution_count": 14,
     "metadata": {},
     "output_type": "execute_result"
    }
   ],
   "source": [
    "mean_irr = ltfs.leaf_irradiance(agg, lstring, leaf_name='Leaf', aggregate=True)\n",
    "mean_irr"
   ]
  },
  {
   "cell_type": "markdown",
   "metadata": {},
   "source": [
    "## Explore influence of architecture"
   ]
  },
  {
   "cell_type": "markdown",
   "metadata": {},
   "source": [
    "- To vary architecture, some parameter of the lsystem have to be changed\n",
    "- Rather than doing it in the lsystem file, it is more convenient to pass such parameters to run_lsystem function\n",
    "- to do so, the following lines should be inserted in the lsystem code, just after parameter definitions (see leafy.lpy for an example)"
   ]
  },
  {
   "cell_type": "raw",
   "metadata": {},
   "source": [
    "# external control of parameters (when called by run_lystem)\n",
    "\n",
    "try:\n",
    "  parameters = parameters\n",
    "except NameError:\n",
    "  parameters = {}\n",
    "for p_name in parameters:\n",
    "  globals()[p_name] = parameters[p_name]"
   ]
  },
  {
   "cell_type": "code",
   "execution_count": 4,
   "metadata": {},
   "outputs": [],
   "source": [
    "lsys, lstring, lscene = ltfs.run_lsystem('leafy.lpy', {'phi': 20})\n",
    "lsys.plot(lstring)"
   ]
  },
  {
   "cell_type": "code",
   "execution_count": 5,
   "metadata": {},
   "outputs": [],
   "source": [
    "lsys, lstring, lscene = ltfs.run_lsystem('leafy.lpy', {'phi': 20})\n",
    "cscene, raw, agg = ltfs.illuminate(lscene, scene_unit='cm')\n",
    "_, _ = cscene.plot(raw, maxval=1.01)"
   ]
  },
  {
   "cell_type": "markdown",
   "metadata": {},
   "source": [
    "- Try to find the best plant (with regards to light interception efficiency)"
   ]
  },
  {
   "cell_type": "markdown",
   "metadata": {},
   "source": [
    "## Compare with an infinite scene"
   ]
  },
  {
   "cell_type": "markdown",
   "metadata": {},
   "source": [
    "- setting the toric pattern allows to simulate light interception as if the plant was replicated on a grid (one plant every dx units along x and one plant every dy along y direction)"
   ]
  },
  {
   "cell_type": "code",
   "execution_count": 7,
   "metadata": {},
   "outputs": [],
   "source": [
    "pattern = ltfs.toric_canopy_pattern(dx=2, dy=2)\n",
    "cscene, raw, agg = ltfs.illuminate(lscene, scene_unit='cm', pattern = pattern)\n",
    "_, _ = cscene.plot(raw, maxval=1.01)"
   ]
  },
  {
   "cell_type": "markdown",
   "metadata": {},
   "source": [
    "## Change light sources"
   ]
  },
  {
   "cell_type": "markdown",
   "metadata": {},
   "source": [
    "* specify a different light source:"
   ]
  },
  {
   "cell_type": "code",
   "execution_count": 14,
   "metadata": {},
   "outputs": [],
   "source": [
    "elevation = 70  # source elevation angle (deg): from soil to source\n",
    "azimuth = 45  #  source azimuth angle (deg, positive clockwise): from North to source\n",
    "irradiance = 1  # source irradiance (W.m-2)\n",
    "light = (elevation, azimuth, irradiance)\n",
    "cscene, raw, agg = ltfs.illuminate(lscene, light=light, scene_unit='cm')\n",
    "_, _ = cscene.plot(raw, maxval=1.01)"
   ]
  },
  {
   "cell_type": "markdown",
   "metadata": {},
   "source": [
    "- specify two light sources, and orient the scene with respect to North:"
   ]
  },
  {
   "cell_type": "code",
   "execution_count": 15,
   "metadata": {},
   "outputs": [],
   "source": [
    "elevations = 70, 45  # source elevation angle (deg): from soil to source\n",
    "azimuths = 45, 45  #  source azimuth angle (deg, positive clockwise): from North to source\n",
    "irradiances = 0.5, 0.5  # source irradiance on a horizontal surface(W.m-2)\n",
    "lights = (elevations, azimuths, irradiances)\n",
    "north = 120  # the angle (deg, positive clockwise) from X+ to North\n",
    "cscene, raw, agg = ltfs.illuminate(lscene, light=lights, scene_unit='cm', north=north)\n",
    "_, _ = cscene.plot(raw, maxval=1.01)"
   ]
  },
  {
   "cell_type": "markdown",
   "metadata": {},
   "source": [
    "* Note that in this case, we keep the sum of irradiance equal to 1. This normalisation of source irradiances is very often used because:\n",
    "    - It allows to make explicit the relative contribution of the different sources to horizontal irradiance, which is the most frequent measurement found in meteorological records\n",
    "    - It is simple to convert back to absolute irradiance values by multipliying normalised irradiance of any object in the scene by the (measured) incoming irradiance\n",
    "    - It ease the computation of total energy captured by organs, especialy when the number of sources increase and/or vary in intensity with time (see next notebooks). "
   ]
  },
  {
   "cell_type": "markdown",
   "metadata": {},
   "source": [
    "## To go further"
   ]
  },
  {
   "cell_type": "markdown",
   "metadata": {},
   "source": [
    "- setup more complex lights (sun, sky...): see notebook 'sky_models.ipynb'\n",
    "- compute photosynthesis : see notebook 'photosynthesis.ipynb'\n",
    "- explore parameter space with method (see TD sensitivity)"
   ]
  },
  {
   "cell_type": "code",
   "execution_count": null,
   "metadata": {},
   "outputs": [],
   "source": []
  }
 ],
 "metadata": {
  "kernelspec": {
   "display_name": "Python 3 (ipykernel)",
   "language": "python",
   "name": "python3"
  },
  "language_info": {
   "codemirror_mode": {
    "name": "ipython",
    "version": 3
   },
   "file_extension": ".py",
   "mimetype": "text/x-python",
   "name": "python",
   "nbconvert_exporter": "python",
   "pygments_lexer": "ipython3",
   "version": "3.12.3"
  },
  "widgets": {
   "application/vnd.jupyter.widget-state+json": {
    "state": {},
    "version_major": 2,
    "version_minor": 0
   }
  }
 },
 "nbformat": 4,
 "nbformat_minor": 4
}
