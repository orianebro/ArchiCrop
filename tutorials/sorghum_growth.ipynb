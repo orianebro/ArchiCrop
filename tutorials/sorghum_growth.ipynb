{
 "cells": [
  {
   "cell_type": "markdown",
   "id": "31e7c70c-f264-40d7-9287-4ae1f8b30979",
   "metadata": {},
   "source": [
    "# Sorghum growth"
   ]
  },
  {
   "cell_type": "code",
   "execution_count": 1,
   "id": "7ba99dee-5c5b-41f6-b32a-85bc95be9544",
   "metadata": {},
   "outputs": [],
   "source": [
    "from __future__ import annotations\n",
    "\n",
    "import os\n",
    "import sys\n",
    "import time as t\n",
    "from datetime import date\n",
    "from multiprocessing import Pool\n",
    "\n",
    "import matplotlib.pyplot as plt\n",
    "import numpy as np\n",
    "import xarray as xr\n",
    "\n",
    "sys.path.append(\"../data\") \n",
    "from archi_dict import archi_sorghum as archi\n",
    "from oawidgets.plantgl import *  # noqa: F403\n",
    "\n",
    "from openalea.archicrop.display import build_scene, display_scene  # noqa: F401\n",
    "from openalea.archicrop.simulation import (\n",
    "    plot_constained_vs_pot,\n",
    "    plot_constrainted_vs_realized,\n",
    "    plot_faPAR,\n",
    "    plot_PAR,\n",
    "    run_simulations,\n",
    "    write_netcdf,\n",
    ")\n",
    "from openalea.plantgl.all import Color3, Material, Scene  # noqa: F401\n",
    "\n",
    "%gui qt"
   ]
  },
  {
   "cell_type": "code",
   "execution_count": 2,
   "id": "19db8171",
   "metadata": {},
   "outputs": [],
   "source": [
    "stics_color = \"orange\"\n",
    "archicrop_color = \"green\""
   ]
  },
  {
   "cell_type": "code",
   "execution_count": 3,
   "id": "687ec612",
   "metadata": {},
   "outputs": [],
   "source": [
    "tec_file_xml='../data/02NT18SorgV2D1_tec.xml'\n",
    "plt_file_xml='../data/sorgho_imp_M_v10_plt.xml'\n",
    "stics_output_file='../data/mod_s02NT18SorgV2D1.sti'\n",
    "weather_file = '../data/ntarla_corr.2018'\n",
    "location = {  \n",
    "'longitude': 3.87,\n",
    "'latitude': 12.58,\n",
    "'altitude': 800,\n",
    "'timezone': 'Europe/Paris'}"
   ]
  },
  {
   "cell_type": "code",
   "execution_count": 4,
   "id": "9f533beb",
   "metadata": {},
   "outputs": [],
   "source": [
    "seed = 18"
   ]
  },
  {
   "cell_type": "code",
   "execution_count": 5,
   "id": "45076a79-f91b-4d88-8bf2-534cac964d8c",
   "metadata": {},
   "outputs": [
    {
     "name": "stdout",
     "output_type": "stream",
     "text": [
      "To distribute 0.0333\n",
      "Plant Leaf Area 0.0\n"
     ]
    },
    {
     "ename": "TypeError",
     "evalue": "distribute_to_potential() missing 4 required positional arguments: 'day', 'time', 'time_increment', and 'grow_function'",
     "output_type": "error",
     "traceback": [
      "\u001b[1;31m---------------------------------------------------------------------------\u001b[0m",
      "\u001b[1;31mTypeError\u001b[0m                                 Traceback (most recent call last)",
      "Cell \u001b[1;32mIn[5], line 3\u001b[0m\n\u001b[0;32m      1\u001b[0m start_time \u001b[38;5;241m=\u001b[39m t\u001b[38;5;241m.\u001b[39mtime()\n\u001b[1;32m----> 3\u001b[0m daily_dynamics, params_sets, pot_la, pot_h, realized_la, realized_h, nrj_per_plant, mtgs, filters, sowing_density \u001b[38;5;241m=\u001b[39m \u001b[43mrun_simulations\u001b[49m\u001b[43m(\u001b[49m\n\u001b[0;32m      4\u001b[0m \u001b[43m    \u001b[49m\u001b[43marchi_params\u001b[49m\u001b[38;5;241;43m=\u001b[39;49m\u001b[43marchi\u001b[49m\u001b[43m,\u001b[49m\u001b[43m \u001b[49m\n\u001b[0;32m      5\u001b[0m \u001b[43m    \u001b[49m\u001b[43mtec_file\u001b[49m\u001b[38;5;241;43m=\u001b[39;49m\u001b[43mtec_file_xml\u001b[49m\u001b[43m,\u001b[49m\u001b[43m \u001b[49m\n\u001b[0;32m      6\u001b[0m \u001b[43m    \u001b[49m\u001b[43mplant_file\u001b[49m\u001b[38;5;241;43m=\u001b[39;49m\u001b[43mplt_file_xml\u001b[49m\u001b[43m,\u001b[49m\u001b[43m \u001b[49m\n\u001b[0;32m      7\u001b[0m \u001b[43m    \u001b[49m\u001b[43mdynamics_file\u001b[49m\u001b[38;5;241;43m=\u001b[39;49m\u001b[43mstics_output_file\u001b[49m\u001b[43m,\u001b[49m\u001b[43m \u001b[49m\n\u001b[0;32m      8\u001b[0m \u001b[43m    \u001b[49m\u001b[43mweather_file\u001b[49m\u001b[38;5;241;43m=\u001b[39;49m\u001b[43mweather_file\u001b[49m\u001b[43m,\u001b[49m\n\u001b[0;32m      9\u001b[0m \u001b[43m    \u001b[49m\u001b[43mlocation\u001b[49m\u001b[38;5;241;43m=\u001b[39;49m\u001b[43mlocation\u001b[49m\u001b[43m,\u001b[49m\n\u001b[0;32m     10\u001b[0m \u001b[43m    \u001b[49m\u001b[43mn_samples\u001b[49m\u001b[38;5;241;43m=\u001b[39;49m\u001b[38;5;241;43m1\u001b[39;49m\u001b[43m,\u001b[49m\n\u001b[0;32m     11\u001b[0m \u001b[43m    \u001b[49m\u001b[43mlatin_hypercube\u001b[49m\u001b[38;5;241;43m=\u001b[39;49m\u001b[38;5;28;43;01mTrue\u001b[39;49;00m\u001b[43m,\u001b[49m\n\u001b[0;32m     12\u001b[0m \u001b[43m    \u001b[49m\u001b[43mopt_filter_organ_duration\u001b[49m\u001b[38;5;241;43m=\u001b[39;49m\u001b[38;5;28;43;01mFalse\u001b[39;49;00m\u001b[43m,\u001b[49m\n\u001b[0;32m     13\u001b[0m \u001b[43m    \u001b[49m\u001b[43mopt_filter_pot_growth\u001b[49m\u001b[38;5;241;43m=\u001b[39;49m\u001b[38;5;28;43;01mTrue\u001b[39;49;00m\u001b[43m,\u001b[49m\n\u001b[0;32m     14\u001b[0m \u001b[43m    \u001b[49m\u001b[43mopt_filter_realized_growth\u001b[49m\u001b[38;5;241;43m=\u001b[39;49m\u001b[38;5;28;43;01mTrue\u001b[39;49;00m\u001b[43m,\u001b[49m\n\u001b[0;32m     15\u001b[0m \u001b[43m    \u001b[49m\u001b[43mlight_inter\u001b[49m\u001b[38;5;241;43m=\u001b[39;49m\u001b[38;5;28;43;01mFalse\u001b[39;49;00m\u001b[43m,\u001b[49m\n\u001b[0;32m     16\u001b[0m \u001b[43m    \u001b[49m\u001b[43mdirect\u001b[49m\u001b[38;5;241;43m=\u001b[39;49m\u001b[38;5;28;43;01mFalse\u001b[39;49;00m\u001b[43m,\u001b[49m\n\u001b[0;32m     17\u001b[0m \u001b[43m    \u001b[49m\u001b[43merror_LA_pot\u001b[49m\u001b[38;5;241;43m=\u001b[39;49m\u001b[38;5;241;43m1\u001b[39;49m\u001b[43m,\u001b[49m\n\u001b[0;32m     18\u001b[0m \u001b[43m    \u001b[49m\u001b[43merror_height_pot\u001b[49m\u001b[38;5;241;43m=\u001b[39;49m\u001b[38;5;241;43m1\u001b[39;49m\u001b[43m,\u001b[49m\n\u001b[0;32m     19\u001b[0m \u001b[43m    \u001b[49m\u001b[43merror_LA_realized\u001b[49m\u001b[38;5;241;43m=\u001b[39;49m\u001b[38;5;241;43m1\u001b[39;49m\u001b[43m,\u001b[49m\n\u001b[0;32m     20\u001b[0m \u001b[43m    \u001b[49m\u001b[43merror_height_realized\u001b[49m\u001b[38;5;241;43m=\u001b[39;49m\u001b[38;5;241;43m1\u001b[39;49m\u001b[43m,\u001b[49m\n\u001b[0;32m     21\u001b[0m \u001b[43m    \u001b[49m\u001b[43mseed\u001b[49m\u001b[38;5;241;43m=\u001b[39;49m\u001b[43mseed\u001b[49m\u001b[43m)\u001b[49m\n\u001b[0;32m     23\u001b[0m end_time \u001b[38;5;241m=\u001b[39m t\u001b[38;5;241m.\u001b[39mtime()\n\u001b[0;32m     25\u001b[0m elapsed_time \u001b[38;5;241m=\u001b[39m (end_time \u001b[38;5;241m-\u001b[39m start_time)\u001b[38;5;241m/\u001b[39m\u001b[38;5;241m60\u001b[39m\n",
      "File \u001b[1;32mD:\\ArchiCrop\\src\\openalea\\archicrop\\simulation.py:389\u001b[0m, in \u001b[0;36mrun_simulations\u001b[1;34m(archi_params, tec_file, plant_file, dynamics_file, weather_file, location, n_samples, seed, latin_hypercube, opt_filter_organ_duration, opt_filter_pot_growth, opt_filter_realized_growth, error_LA_pot, error_height_pot, error_LA_realized, error_height_realized, inter_row, light_inter, zenith, direct, save_scenes)\u001b[0m\n\u001b[0;32m    386\u001b[0m param_sets \u001b[38;5;241m=\u001b[39m LHS_param_sampling(archi_params\u001b[38;5;241m=\u001b[39marchi_params, n_samples\u001b[38;5;241m=\u001b[39mn_samples, seed\u001b[38;5;241m=\u001b[39mseed, latin_hypercube\u001b[38;5;241m=\u001b[39mlatin_hypercube)\n\u001b[0;32m    388\u001b[0m \u001b[38;5;66;03m# Simulate plant growth with fitting parameters\u001b[39;00m\n\u001b[1;32m--> 389\u001b[0m param_sets, pot_la, pot_h, realized_la, realized_h, mtgs, filters \u001b[38;5;241m=\u001b[39m \u001b[43msimulate_with_filters\u001b[49m\u001b[43m(\u001b[49m\n\u001b[0;32m    390\u001b[0m \u001b[43m    \u001b[49m\u001b[43mparam_sets\u001b[49m\u001b[38;5;241;43m=\u001b[39;49m\u001b[43mparam_sets\u001b[49m\u001b[43m,\u001b[49m\u001b[43m \u001b[49m\n\u001b[0;32m    391\u001b[0m \u001b[43m    \u001b[49m\u001b[43mdaily_dynamics\u001b[49m\u001b[38;5;241;43m=\u001b[39;49m\u001b[43mdaily_dynamics\u001b[49m\u001b[43m,\u001b[49m\n\u001b[0;32m    392\u001b[0m \u001b[43m    \u001b[49m\u001b[43merror_LA_pot\u001b[49m\u001b[38;5;241;43m=\u001b[39;49m\u001b[43merror_LA_pot\u001b[49m\u001b[43m,\u001b[49m\n\u001b[0;32m    393\u001b[0m \u001b[43m    \u001b[49m\u001b[43merror_height_pot\u001b[49m\u001b[38;5;241;43m=\u001b[39;49m\u001b[43merror_height_pot\u001b[49m\u001b[43m,\u001b[49m\u001b[43m \u001b[49m\n\u001b[0;32m    394\u001b[0m \u001b[43m    \u001b[49m\u001b[43merror_LA_realized\u001b[49m\u001b[38;5;241;43m=\u001b[39;49m\u001b[43merror_LA_realized\u001b[49m\u001b[43m,\u001b[49m\n\u001b[0;32m    395\u001b[0m \u001b[43m    \u001b[49m\u001b[43merror_height_realized\u001b[49m\u001b[38;5;241;43m=\u001b[39;49m\u001b[43merror_height_realized\u001b[49m\u001b[43m,\u001b[49m\n\u001b[0;32m    396\u001b[0m \u001b[43m    \u001b[49m\u001b[43mopt_filter_organ_duration\u001b[49m\u001b[38;5;241;43m=\u001b[39;49m\u001b[43mopt_filter_organ_duration\u001b[49m\u001b[43m,\u001b[49m\n\u001b[0;32m    397\u001b[0m \u001b[43m    \u001b[49m\u001b[43mopt_filter_pot_growth\u001b[49m\u001b[38;5;241;43m=\u001b[39;49m\u001b[43mopt_filter_pot_growth\u001b[49m\u001b[43m,\u001b[49m\n\u001b[0;32m    398\u001b[0m \u001b[43m    \u001b[49m\u001b[43mopt_filter_realized_growth\u001b[49m\u001b[38;5;241;43m=\u001b[39;49m\u001b[43mopt_filter_realized_growth\u001b[49m\n\u001b[0;32m    399\u001b[0m \u001b[43m\u001b[49m\u001b[43m)\u001b[49m \n\u001b[0;32m    401\u001b[0m \u001b[38;5;66;03m# If light_inter is True, compute light interception on plants with fitting parameters\u001b[39;00m\n\u001b[0;32m    402\u001b[0m \u001b[38;5;28;01mif\u001b[39;00m light_inter:\n",
      "File \u001b[1;32mD:\\ArchiCrop\\src\\openalea\\archicrop\\simulation.py:362\u001b[0m, in \u001b[0;36msimulate_with_filters\u001b[1;34m(param_sets, daily_dynamics, opt_filter_organ_duration, opt_filter_pot_growth, opt_filter_realized_growth, error_LA_pot, error_height_pot, error_LA_realized, error_height_realized)\u001b[0m\n\u001b[0;32m    360\u001b[0m param_sets, filters \u001b[38;5;241m=\u001b[39m filter_organ_duration(daily_dynamics\u001b[38;5;241m=\u001b[39mdaily_dynamics, param_sets\u001b[38;5;241m=\u001b[39mparam_sets, opt_filter_organ_duration\u001b[38;5;241m=\u001b[39mopt_filter_organ_duration)\n\u001b[0;32m    361\u001b[0m param_sets, pot_la, pot_h, filters \u001b[38;5;241m=\u001b[39m filter_pot_growth(param_sets\u001b[38;5;241m=\u001b[39mparam_sets, daily_dynamics\u001b[38;5;241m=\u001b[39mdaily_dynamics, filters\u001b[38;5;241m=\u001b[39mfilters, error_LA\u001b[38;5;241m=\u001b[39merror_LA_pot, error_height\u001b[38;5;241m=\u001b[39merror_height_pot, \u001b[38;5;28mfilter\u001b[39m\u001b[38;5;241m=\u001b[39mopt_filter_pot_growth)\n\u001b[1;32m--> 362\u001b[0m realized_la, realized_h, mtgs \u001b[38;5;241m=\u001b[39m \u001b[43msimulate_fit_params\u001b[49m\u001b[43m(\u001b[49m\u001b[43mparam_sets\u001b[49m\u001b[38;5;241;43m=\u001b[39;49m\u001b[43mparam_sets\u001b[49m\u001b[43m,\u001b[49m\u001b[43m \u001b[49m\u001b[43mdaily_dynamics\u001b[49m\u001b[38;5;241;43m=\u001b[39;49m\u001b[43mdaily_dynamics\u001b[49m\u001b[43m,\u001b[49m\u001b[43m \u001b[49m\u001b[43mfilters\u001b[49m\u001b[38;5;241;43m=\u001b[39;49m\u001b[43mfilters\u001b[49m\u001b[43m)\u001b[49m\n\u001b[0;32m    363\u001b[0m param_sets, realized_la, realized_h, mtgs, filters \u001b[38;5;241m=\u001b[39m filter_realized_growth(param_sets\u001b[38;5;241m=\u001b[39mparam_sets, realized_la\u001b[38;5;241m=\u001b[39mrealized_la, realized_h\u001b[38;5;241m=\u001b[39mrealized_h, daily_dynamics\u001b[38;5;241m=\u001b[39mdaily_dynamics, mtgs\u001b[38;5;241m=\u001b[39mmtgs, filters\u001b[38;5;241m=\u001b[39mfilters, error_LA\u001b[38;5;241m=\u001b[39merror_LA_realized, error_height\u001b[38;5;241m=\u001b[39merror_height_realized, opt_filter_realized_growth\u001b[38;5;241m=\u001b[39mopt_filter_realized_growth)\n\u001b[0;32m    364\u001b[0m \u001b[38;5;28;01mreturn\u001b[39;00m param_sets, pot_la, pot_h, realized_la, realized_h, mtgs, filters\n",
      "File \u001b[1;32mD:\\ArchiCrop\\src\\openalea\\archicrop\\simulation.py:269\u001b[0m, in \u001b[0;36msimulate_fit_params\u001b[1;34m(param_sets, daily_dynamics, filters)\u001b[0m\n\u001b[0;32m    266\u001b[0m plant \u001b[38;5;241m=\u001b[39m ArchiCrop(daily_dynamics\u001b[38;5;241m=\u001b[39mdaily_dynamics, \u001b[38;5;241m*\u001b[39m\u001b[38;5;241m*\u001b[39mparams)\n\u001b[0;32m    267\u001b[0m plant\u001b[38;5;241m.\u001b[39mgenerate_potential_plant()\n\u001b[1;32m--> 269\u001b[0m growing_plant \u001b[38;5;241m=\u001b[39m \u001b[43mplant\u001b[49m\u001b[38;5;241;43m.\u001b[39;49m\u001b[43mgrow_plant\u001b[49m\u001b[43m(\u001b[49m\u001b[43m)\u001b[49m\n\u001b[0;32m    270\u001b[0m growing_plant_mtg \u001b[38;5;241m=\u001b[39m \u001b[38;5;28mlist\u001b[39m(growing_plant\u001b[38;5;241m.\u001b[39mvalues())\n\u001b[0;32m    271\u001b[0m mtgs[\u001b[38;5;28mid\u001b[39m] \u001b[38;5;241m=\u001b[39m growing_plant_mtg\n",
      "File \u001b[1;32mD:\\ArchiCrop\\src\\openalea\\archicrop\\archicrop.py:235\u001b[0m, in \u001b[0;36mArchiCrop.grow_plant\u001b[1;34m(self)\u001b[0m\n\u001b[0;32m    233\u001b[0m \u001b[38;5;28mself\u001b[39m\u001b[38;5;241m.\u001b[39mg \u001b[38;5;241m=\u001b[39m init_visible_variables(\u001b[38;5;28mself\u001b[39m\u001b[38;5;241m.\u001b[39mg, daily_dynamics\u001b[38;5;241m=\u001b[39m\u001b[38;5;28mself\u001b[39m\u001b[38;5;241m.\u001b[39mdaily_dynamics)\n\u001b[0;32m    234\u001b[0m \u001b[38;5;28;01mfor\u001b[39;00m k,v \u001b[38;5;129;01min\u001b[39;00m \u001b[38;5;28mself\u001b[39m\u001b[38;5;241m.\u001b[39mdaily_dynamics\u001b[38;5;241m.\u001b[39mitems():\n\u001b[1;32m--> 235\u001b[0m     gtemp \u001b[38;5;241m=\u001b[39m \u001b[43mmtg_turtle_time_with_constraint\u001b[49m\u001b[43m(\u001b[49m\u001b[38;5;28;43mself\u001b[39;49m\u001b[38;5;241;43m.\u001b[39;49m\u001b[43mg\u001b[49m\u001b[43m,\u001b[49m\u001b[43m \u001b[49m\u001b[43mk\u001b[49m\u001b[43m,\u001b[49m\u001b[43m \u001b[49m\u001b[43mv\u001b[49m\u001b[43m)\u001b[49m\n\u001b[0;32m    236\u001b[0m     growing_plant[v[\u001b[38;5;124m\"\u001b[39m\u001b[38;5;124mDate\u001b[39m\u001b[38;5;124m\"\u001b[39m]] \u001b[38;5;241m=\u001b[39m gtemp\n\u001b[0;32m    237\u001b[0m     \u001b[38;5;28mself\u001b[39m\u001b[38;5;241m.\u001b[39mg \u001b[38;5;241m=\u001b[39m gtemp\u001b[38;5;241m.\u001b[39mcopy() \u001b[38;5;66;03m# copy\u001b[39;00m\n",
      "File \u001b[1;32mD:\\ArchiCrop\\src\\openalea\\archicrop\\growth.py:393\u001b[0m, in \u001b[0;36mmtg_turtle_time_with_constraint\u001b[1;34m(g, day, daily_dynamics, update_visitor)\u001b[0m\n\u001b[0;32m    389\u001b[0m max_scale \u001b[38;5;241m=\u001b[39m g\u001b[38;5;241m.\u001b[39mmax_scale()\n\u001b[0;32m    391\u001b[0m time \u001b[38;5;241m=\u001b[39m daily_dynamics[\u001b[38;5;124m\"\u001b[39m\u001b[38;5;124mThermal time\u001b[39m\u001b[38;5;124m\"\u001b[39m]\n\u001b[1;32m--> 393\u001b[0m \u001b[43mdistribute_among_organs\u001b[49m\u001b[43m(\u001b[49m\u001b[43mg\u001b[49m\u001b[43m,\u001b[49m\u001b[43m \u001b[49m\u001b[43mday\u001b[49m\u001b[43m,\u001b[49m\u001b[43m \u001b[49m\u001b[43mdaily_dynamics\u001b[49m\u001b[43m)\u001b[49m\n\u001b[0;32m    395\u001b[0m \u001b[38;5;66;03m# to remove\u001b[39;00m\n\u001b[0;32m    396\u001b[0m visible_leaf_area \u001b[38;5;241m=\u001b[39m g\u001b[38;5;241m.\u001b[39mproperty(\u001b[38;5;124m\"\u001b[39m\u001b[38;5;124mvisible_leaf_area\u001b[39m\u001b[38;5;124m\"\u001b[39m)\n",
      "File \u001b[1;32mD:\\ArchiCrop\\src\\openalea\\archicrop\\growth.py:196\u001b[0m, in \u001b[0;36mdistribute_among_organs\u001b[1;34m(g, day, daily_dynamics, rate)\u001b[0m\n\u001b[0;32m    194\u001b[0m     \u001b[38;5;28;01mfor\u001b[39;00m aid \u001b[38;5;129;01min\u001b[39;00m axes:  \u001b[38;5;66;03m# noqa: PLC0206\u001b[39;00m\n\u001b[0;32m    195\u001b[0m         growing_inter \u001b[38;5;241m=\u001b[39m {vid:growing_internodes[vid]  \u001b[38;5;28;01mfor\u001b[39;00m vid \u001b[38;5;129;01min\u001b[39;00m axes[aid]}\n\u001b[1;32m--> 196\u001b[0m         height_for_each_axis \u001b[38;5;241m=\u001b[39m \u001b[43mdistribute_to_potential\u001b[49m\u001b[43m(\u001b[49m\u001b[43mg\u001b[49m\u001b[38;5;241;43m=\u001b[39;49m\u001b[43mg\u001b[49m\u001b[43m,\u001b[49m\u001b[43m \u001b[49m\n\u001b[0;32m    197\u001b[0m \u001b[43m                                                       \u001b[49m\u001b[43mgrowing_organs\u001b[49m\u001b[38;5;241;43m=\u001b[39;49m\u001b[43mgrowing_inter\u001b[49m\u001b[43m,\u001b[49m\u001b[43m \u001b[49m\n\u001b[0;32m    198\u001b[0m \u001b[43m                                                       \u001b[49m\u001b[43mincrement_to_distribute\u001b[49m\u001b[38;5;241;43m=\u001b[39;49m\u001b[43mdaily_dynamics\u001b[49m\u001b[43m[\u001b[49m\u001b[38;5;124;43m\"\u001b[39;49m\u001b[38;5;124;43mHeight increment\u001b[39;49m\u001b[38;5;124;43m\"\u001b[39;49m\u001b[43m]\u001b[49m\u001b[43m,\u001b[49m\u001b[43m \u001b[49m\n\u001b[0;32m    199\u001b[0m \u001b[43m                                                       \u001b[49m\u001b[43mdistribution_function\u001b[49m\u001b[38;5;241;43m=\u001b[39;49m\u001b[43mdemand_dist\u001b[49m\u001b[43m)\u001b[49m\n\u001b[0;32m    200\u001b[0m         height_for_each_internode\u001b[38;5;241m.\u001b[39mupdate(height_for_each_axis)\n\u001b[0;32m    201\u001b[0m \u001b[38;5;66;03m# else:\u001b[39;00m\n\u001b[0;32m    202\u001b[0m \u001b[38;5;66;03m#     height_for_each_internode = dict.fromkeys(growing_internodes, 0.0)\u001b[39;00m\n",
      "\u001b[1;31mTypeError\u001b[0m: distribute_to_potential() missing 4 required positional arguments: 'day', 'time', 'time_increment', and 'grow_function'"
     ]
    }
   ],
   "source": [
    "\n",
    "start_time = t.time()\n",
    "\n",
    "daily_dynamics, params_sets, pot_la, pot_h, realized_la, realized_h, nrj_per_plant, mtgs, filters, sowing_density = run_simulations(\n",
    "    archi_params=archi, \n",
    "    tec_file=tec_file_xml, \n",
    "    plant_file=plt_file_xml, \n",
    "    dynamics_file=stics_output_file, \n",
    "    weather_file=weather_file,\n",
    "    location=location,\n",
    "    n_samples=1,\n",
    "    latin_hypercube=True,\n",
    "    opt_filter_organ_duration=False,\n",
    "    opt_filter_pot_growth=True,\n",
    "    opt_filter_realized_growth=True,\n",
    "    light_inter=False,\n",
    "    direct=False,\n",
    "    error_LA_pot=1,\n",
    "    error_height_pot=1,\n",
    "    error_LA_realized=1,\n",
    "    error_height_realized=1,\n",
    "    seed=seed)\n",
    "\n",
    "end_time = t.time()\n",
    "\n",
    "elapsed_time = (end_time - start_time)/60\n",
    "print(f\"Elapsed time: {elapsed_time:.4f} minutes for {len(realized_la)} simulations\")  # noqa: T201\n"
   ]
  },
  {
   "cell_type": "code",
   "execution_count": null,
   "id": "f95b15b0",
   "metadata": {},
   "outputs": [],
   "source": [
    "# Retrieve STICS growth and senescence dynamics\n",
    "dates = [value[\"Date\"] for value in daily_dynamics.values()]\n",
    "thermal_time = [value[\"Thermal time\"] for value in daily_dynamics.values()]\n",
    "leaf_area_plant = [value[\"Plant leaf area\"] for value in daily_dynamics.values()]\n",
    "sen_leaf_area_plant = [value[\"Plant senescent leaf area\"] for value in daily_dynamics.values()]\n",
    "height_canopy = [value[\"Plant height\"] for value in daily_dynamics.values()]\n",
    "par_incident = [value[\"Incident PAR\"] for value in daily_dynamics.values()]\n",
    "par_stics = [value[\"Absorbed PAR\"] for value in daily_dynamics.values()]"
   ]
  },
  {
   "cell_type": "code",
   "execution_count": null,
   "id": "17a67318",
   "metadata": {},
   "outputs": [],
   "source": [
    "write_netcdf(\"sorghum_growth_test\", daily_dynamics, params_sets, pot_la, pot_h, realized_la, realized_h, nrj_per_plant, mtgs, filters, sowing_density, seed)"
   ]
  }
 ],
 "metadata": {
  "kernelspec": {
   "display_name": "ArchiCrop",
   "language": "python",
   "name": "python3"
  },
  "language_info": {
   "codemirror_mode": {
    "name": "ipython",
    "version": 3
   },
   "file_extension": ".py",
   "mimetype": "text/x-python",
   "name": "python",
   "nbconvert_exporter": "python",
   "pygments_lexer": "ipython3",
   "version": "3.12.3"
  },
  "widgets": {
   "application/vnd.jupyter.widget-state+json": {
    "state": {},
    "version_major": 2,
    "version_minor": 0
   }
  }
 },
 "nbformat": 4,
 "nbformat_minor": 5
}
