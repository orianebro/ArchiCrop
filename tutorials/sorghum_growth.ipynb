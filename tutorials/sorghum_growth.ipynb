{
 "cells": [
  {
   "cell_type": "markdown",
   "id": "31e7c70c-f264-40d7-9287-4ae1f8b30979",
   "metadata": {},
   "source": [
    "# Sorghum growth"
   ]
  },
  {
   "cell_type": "code",
   "execution_count": 1,
   "id": "7ba99dee-5c5b-41f6-b32a-85bc95be9544",
   "metadata": {},
   "outputs": [],
   "source": [
    "from __future__ import annotations\n",
    "\n",
    "import os\n",
    "import sys\n",
    "import time as t\n",
    "from datetime import date\n",
    "from multiprocessing import Pool\n",
    "\n",
    "import matplotlib.pyplot as plt\n",
    "import numpy as np\n",
    "import xarray as xr\n",
    "\n",
    "sys.path.append(\"../data\") \n",
    "from archi_dict import archi_sorghum_angles as archi\n",
    "from oawidgets.plantgl import *  # noqa: F403\n",
    "\n",
    "from openalea.archicrop.display import build_scene, display_scene  # noqa: F401\n",
    "from openalea.archicrop.simulation import (\n",
    "    plot_constained_vs_pot,\n",
    "    plot_constrainted_vs_realized,\n",
    "    plot_faPAR,\n",
    "    plot_PAR,\n",
    "    run_simulations,\n",
    "    write_netcdf,\n",
    ")\n",
    "from openalea.plantgl.all import Color3, Material, Scene, Viewer  # noqa: F401\n",
    "\n",
    "%gui qt"
   ]
  },
  {
   "cell_type": "code",
   "execution_count": 2,
   "id": "19db8171",
   "metadata": {},
   "outputs": [],
   "source": [
    "stics_color = \"orange\"\n",
    "archicrop_color = \"green\""
   ]
  },
  {
   "cell_type": "code",
   "execution_count": 3,
   "id": "687ec612",
   "metadata": {},
   "outputs": [],
   "source": [
    "tec_file_xml='../data/02NT18SorgV2D1_tec.xml'\n",
    "plt_file_xml='../data/sorgho_imp_M_v10_plt.xml'\n",
    "stics_output_file='../data/mod_s02NT18SorgV2D1.sti'\n",
    "weather_file = '../data/ntarla_corr.2018'\n",
    "location = {  \n",
    "'longitude': 3.87,\n",
    "'latitude': 12.58,\n",
    "'altitude': 800,\n",
    "'timezone': 'Europe/Paris'}"
   ]
  },
  {
   "cell_type": "code",
   "execution_count": 4,
   "id": "9f533beb",
   "metadata": {},
   "outputs": [],
   "source": [
    "seed = 18"
   ]
  },
  {
   "cell_type": "code",
   "execution_count": null,
   "id": "45076a79-f91b-4d88-8bf2-534cac964d8c",
   "metadata": {},
   "outputs": [
    {
     "name": "stdout",
     "output_type": "stream",
     "text": [
      "Elapsed time: 0.2058 minutes for 8 simulations\n"
     ]
    }
   ],
   "source": [
    "\n",
    "start_time = t.time()\n",
    "\n",
    "daily_dynamics, params_sets, pot_la, pot_h, realized_la, realized_h, nrj_per_plant, mtgs, filters, sowing_density = run_simulations(\n",
    "    archi_params=archi, \n",
    "    tec_file=tec_file_xml, \n",
    "    plant_file=plt_file_xml, \n",
    "    dynamics_file=stics_output_file, \n",
    "    weather_file=weather_file,\n",
    "    location=location,\n",
    "    n_samples=3,\n",
    "    latin_hypercube=False,\n",
    "    opt_filter_organ_duration=False,\n",
    "    opt_filter_pot_growth=False,\n",
    "    opt_filter_realized_growth=False,\n",
    "    light_inter=False,\n",
    "    direct=False,\n",
    "    error_LA_pot=1,\n",
    "    error_height_pot=1,\n",
    "    error_LA_realized=1,\n",
    "    error_height_realized=1,\n",
    "    seed=seed)\n",
    "\n",
    "end_time = t.time()\n",
    "\n",
    "elapsed_time = (end_time - start_time)/60\n",
    "print(f\"Elapsed time: {elapsed_time:.4f} minutes for {len(realized_la)} simulations\")  # noqa: T201\n"
   ]
  },
  {
   "cell_type": "code",
   "execution_count": 6,
   "id": "f95b15b0",
   "metadata": {},
   "outputs": [],
   "source": [
    "# Retrieve STICS growth and senescence dynamics\n",
    "dates = [value[\"Date\"] for value in daily_dynamics.values()]\n",
    "thermal_time = [value[\"Thermal time\"] for value in daily_dynamics.values()]\n",
    "leaf_area_plant = [value[\"Plant leaf area\"] for value in daily_dynamics.values()]\n",
    "sen_leaf_area_plant = [value[\"Plant senescent leaf area\"] for value in daily_dynamics.values()]\n",
    "height_canopy = [value[\"Plant height\"] for value in daily_dynamics.values()]\n",
    "par_incident = [value[\"Incident PAR\"] for value in daily_dynamics.values()]\n",
    "par_stics = [value[\"Absorbed PAR\"] for value in daily_dynamics.values()]"
   ]
  },
  {
   "cell_type": "code",
   "execution_count": 7,
   "id": "17a67318",
   "metadata": {},
   "outputs": [],
   "source": [
    "write_netcdf(\"sorghum_growth_tillers\", daily_dynamics, params_sets, pot_la, pot_h, realized_la, realized_h, nrj_per_plant, mtgs, filters, sowing_density, seed)"
   ]
  },
  {
   "cell_type": "code",
   "execution_count": 8,
   "id": "92481f87",
   "metadata": {},
   "outputs": [],
   "source": [
    "Viewer.display(build_scene(mtgs[3][-30])[0])"
   ]
  },
  {
   "cell_type": "code",
   "execution_count": 9,
   "id": "a43c8c5f",
   "metadata": {},
   "outputs": [
    {
     "data": {
      "text/plain": [
       "{3: 0.020645972222222222,\n",
       " 4: 0.05948976909245817,\n",
       " 5: 0.020645972222222222,\n",
       " 6: 0.1262990534462912,\n",
       " 7: 0.02064597222222222,\n",
       " 8: 0.26118706081794996,\n",
       " 9: 0.020645972222222225,\n",
       " 10: 0.51908394398122,\n",
       " 11: 0.020645972222222232,\n",
       " 12: 0.9781344007999893,\n",
       " 13: 0.2858346908207814,\n",
       " 14: 1.724150195486833,\n",
       " 15: 0.25725122173870324,\n",
       " 16: 2.8048388112310803,\n",
       " 17: 0.23152609956483286,\n",
       " 18: 4.154680156563806,\n",
       " 19: 0.20837348960835,\n",
       " 20: 5.52846778468597,\n",
       " 21: 0.18753614064751456,\n",
       " 22: 6.520037532197943,\n",
       " 23: 0.16878252658276313,\n",
       " 24: 6.723790267873296,\n",
       " 25: 0.15190427392448677,\n",
       " 26: 5.981878610866598,\n",
       " 27: 0.13671384653203844,\n",
       " 28: 4.529612319764924,\n",
       " 29: 0.12304246187883426,\n",
       " 30: 2.88021624607692,\n",
       " 31: 0.11073821569095142,\n",
       " 32: 1.5172963330254794,\n",
       " 33: 0.09966439412185564,\n",
       " 34: 0.6533375140892612}"
      ]
     },
     "execution_count": 9,
     "metadata": {},
     "output_type": "execute_result"
    }
   ],
   "source": [
    "mtgs[3][-40].properties()['potential_growth_rate']"
   ]
  },
  {
   "cell_type": "code",
   "execution_count": null,
   "id": "be8ae2a1",
   "metadata": {},
   "outputs": [],
   "source": []
  }
 ],
 "metadata": {
  "kernelspec": {
   "display_name": "ArchiCrop",
   "language": "python",
   "name": "python3"
  },
  "language_info": {
   "codemirror_mode": {
    "name": "ipython",
    "version": 3
   },
   "file_extension": ".py",
   "mimetype": "text/x-python",
   "name": "python",
   "nbconvert_exporter": "python",
   "pygments_lexer": "ipython3",
   "version": "3.12.3"
  },
  "widgets": {
   "application/vnd.jupyter.widget-state+json": {
    "state": {},
    "version_major": 2,
    "version_minor": 0
   }
  }
 },
 "nbformat": 4,
 "nbformat_minor": 5
}
