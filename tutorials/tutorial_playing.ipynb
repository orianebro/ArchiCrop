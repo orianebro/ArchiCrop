{
 "cells": [
  {
   "cell_type": "markdown",
   "id": "31e7c70c-f264-40d7-9287-4ae1f8b30979",
   "metadata": {},
   "source": [
    "# ArchiCrop tutorial - Maize"
   ]
  },
  {
   "cell_type": "markdown",
   "id": "bf0852fd-8b75-4db8-b1b2-396dd7d93c1e",
   "metadata": {},
   "source": [
    "This notebook is a tutorial for executing ArchiCrop model for maize."
   ]
  },
  {
   "cell_type": "markdown",
   "id": "fe31c5a6-c8c0-43c9-b623-bbc7e4573b11",
   "metadata": {},
   "source": [
    "## 0. Imports"
   ]
  },
  {
   "cell_type": "code",
   "execution_count": 1,
   "id": "7ba99dee-5c5b-41f6-b32a-85bc95be9544",
   "metadata": {},
   "outputs": [],
   "source": [
    "import numpy as np\n",
    "from oawidgets.plantgl import *\n",
    "from openalea.plantgl.all import Material, Color3, Scene\n",
    "\n",
    "from openalea.archicrop.simulation import read_sti_file, read_xml_file\n",
    "from openalea.archicrop.archicrop import ArchiCrop\n",
    "from openalea.archicrop.display import build_scene, display_scene\n",
    "%gui qt"
   ]
  },
  {
   "cell_type": "markdown",
   "id": "13b7984c-51e7-4077-96ec-9bcc73150520",
   "metadata": {},
   "source": [
    "## 1. Retrieve crop model parameters about management\n",
    "\n",
    "Retrieve crop model parameters regarding the spatial (and temporal) configuration of the crop."
   ]
  },
  {
   "cell_type": "code",
   "execution_count": 2,
   "id": "c690784e-63d3-458f-b901-2f96505f1fac",
   "metadata": {},
   "outputs": [],
   "source": [
    "file_tec_xml = 'Mais_tec.xml'\n",
    "params_tec = ['densitesem', 'interrang']\n",
    "tec_stics = read_xml_file(file_tec_xml, params_tec)\n",
    "sowing_density = tec_stics['densitesem']\n",
    "inter_row = 0.4"
   ]
  },
  {
   "cell_type": "markdown",
   "id": "d282da23-eaa6-402c-8e54-df79bef01aad",
   "metadata": {},
   "source": [
    "## 2. Retrieve crop model growth and senescence dynamics\n",
    "\n",
    "From crop-scale data either measured or simulated with a crop model, generate a dictionnary of dictionnaries for each day with the following values :\n",
    " - \"Thermal time\" (float): cumulated thermal time from beginning of simulation to current day (in °C.day)\n",
    " - \"Phenology\" (str): current phenological stage (germination, juvenile, exponential or repro)\n",
    " - \"Plant leaf area\" (float): plant leaf area (in cm²) \n",
    " - \"Leaf area increment\" (float): leaf area increment compared to previous day (in cm²) \n",
    " - \"Plant senescent leaf area\" (float): senescent plant leaf area (in cm²) \n",
    " - \"Senescent leaf area increment\" (float): senescent leaf area increment compared to previous day (in cm²) \n",
    " - \"Plant height\" (float): plant height (in cm) \n",
    " - \"Height increment\" (float): height increment compared to previous day (in cm)."
   ]
  },
  {
   "cell_type": "code",
   "execution_count": 3,
   "id": "2a32cfb4-aa04-49c0-87c1-dd41afcfb22a",
   "metadata": {},
   "outputs": [],
   "source": [
    "stics_output_file = 'mod_smaize.sti'\n",
    "daily_dynamics = read_sti_file(stics_output_file, sowing_density)\n",
    "\n",
    "# Time series \n",
    "# for thermal time, plant leaf area, plant senescent leaf area and plant height\n",
    "thermal_time = [value[\"Thermal time\"] for value in daily_dynamics.values()]\n",
    "leaf_area_plant = [value[\"Plant leaf area\"] for value in daily_dynamics.values()]\n",
    "sen_leaf_area_plant = [value[\"Plant senescent leaf area\"] for value in daily_dynamics.values()]\n",
    "height_canopy = [value[\"Plant height\"] for value in daily_dynamics.values()]"
   ]
  },
  {
   "cell_type": "code",
   "execution_count": 4,
   "id": "ca5bb2c0-0151-4138-8035-e60755dd367a",
   "metadata": {},
   "outputs": [],
   "source": [
    "file_plt_xml = 'corn_plt.xml'\n",
    "params_sen = ['durvieF', 'ratiodurvieI']\n",
    "sen_stics = read_xml_file(file_plt_xml, params_sen)\n",
    "lifespan = sen_stics['durvieF'] # leaf lifespan from appearance in exponential phase\n",
    "lifespan_early = sen_stics['ratiodurvieI'] * lifespan # leaf lifespan from appearance in juvenile phase"
   ]
  },
  {
   "cell_type": "markdown",
   "id": "c8cad4ae-0e0a-4693-a4ed-4494e9a3dbf3",
   "metadata": {},
   "source": [
    "## 3. Set plant architectural parameters\n",
    "\n",
    "Set topological, geometrical and developmental parameters, in a range corresponding a given species, found in literature."
   ]
  },
  {
   "cell_type": "code",
   "execution_count": 111,
   "id": "fc27b380-3989-4cec-842c-ef92d36a4490",
   "metadata": {},
   "outputs": [],
   "source": [
    "archi = dict(\n",
    "    nb_phy=5, # number of phytomers on the main stem # [8,13,18]\n",
    "    nb_short_phy=1,\n",
    "    \n",
    "    # Stem\n",
    "    height=3*max(height_canopy), # potential plant height\n",
    "    stem_q=1.0, # parameter for ligule height geometric distribution along axis\n",
    "    diam_base=2.5, # stem base diameter\n",
    "    diam_top=1.5, # stem top diameter\n",
    "\n",
    "    # Leaf area distribution along the stem  \n",
    "    leaf_area=1.2*max(leaf_area_plant), # potential plant leaf area\n",
    "    rmax=0.55, # relative position of largest leaf on the stem # [0.72, 0.8, 0.55]\n",
    "    skew=0.005, # skewness for leaf area distribution along axis\n",
    "\n",
    "    # blade area\n",
    "    wl=0.8, # leaf blade width-to-length ratio \n",
    "    klig=0.01,#0.6, # parameter for leaf blade shape\n",
    "    swmax=0.7,#0.55, # relative position of maximal blade width\n",
    "    f1=0.52,#0.64, # parameter for leaf blade shape\n",
    "    f2=0.8,#0.92, # parameter for leaf blade shape\n",
    "\n",
    "    # blade curvature\n",
    "    insertion_angle=35, # leaf blade insertion angle\n",
    "    scurv=0.7, #  relative position of inflexion point\n",
    "    curvature=20, # leaf blade insertion-to-tip angle\n",
    "    phyllotactic_angle=180, # phyllotactic angle\n",
    "    phyllotactic_deviation=10, # half-deviation to phyllotactic angle\n",
    "\n",
    "    # Development\n",
    "    phyllochron=30, # phyllochron, i.e. stem element appearance rate\n",
    "    plastochron=40, # plastochron, i.e. leaf blade appearance rate\n",
    "\n",
    "    # Senescence \n",
    "    leaf_lifespan = [lifespan_early, lifespan], # leaf lifespan from appearance\n",
    "\n",
    "    # Tillering\n",
    "    nb_tillers=0, # number of tillers\n",
    "    tiller_delay=1, # delay, as factor of phyllochron, between the appearance of a phytomer and the appearance of its tiller\n",
    "    tiller_angle=30,\n",
    "    reduction_factor=1, # reduction factor between tillers of consecutive order\n",
    "\n",
    "    plant_orientation=90 #20\n",
    ")"
   ]
  },
  {
   "cell_type": "markdown",
   "id": "340079dc-3693-4cb7-8fc4-bb8acfd26a97",
   "metadata": {},
   "source": [
    "## 4. Instantiate ArchiCrop object"
   ]
  },
  {
   "cell_type": "code",
   "execution_count": 112,
   "id": "d92459b4-a91f-4c83-b597-f4df5d669552",
   "metadata": {},
   "outputs": [],
   "source": [
    "maize = ArchiCrop(daily_dynamics=daily_dynamics, **archi)"
   ]
  },
  {
   "cell_type": "markdown",
   "id": "ac1d95d9-d0f2-423c-a313-e44bc2a2f11f",
   "metadata": {},
   "source": [
    "## 5. Generate a potential plant \n",
    "\n",
    "Generate a potential plant from architectural parameters. \n",
    "\n",
    "This creates an MTG (Multi-scale Tree Graph, cf [doc](https://mtg.readthedocs.io/en/latest/user/tutorial.html)) as a property of the object plant."
   ]
  },
  {
   "cell_type": "code",
   "execution_count": 113,
   "id": "b59ea54e-5783-46a4-88e4-bec0b77e9723",
   "metadata": {},
   "outputs": [],
   "source": [
    "maize.generate_potential_plant()"
   ]
  },
  {
   "cell_type": "code",
   "execution_count": 114,
   "id": "2c18016b-ad4e-43e5-9355-ef0b8209d0e5",
   "metadata": {},
   "outputs": [],
   "source": [
    "g = maize.g"
   ]
  },
  {
   "cell_type": "code",
   "execution_count": 115,
   "id": "7022dd6a-c270-4a01-a69d-a5135b3bd33d",
   "metadata": {},
   "outputs": [],
   "source": [
    "nice_green = Color3((50, 100, 0))\n",
    "scene, _ = build_scene(g, senescence=True, leaf_material = Material(nice_green), stem_material=Material(nice_green))\n",
    "Viewer.display(scene)"
   ]
  },
  {
   "cell_type": "markdown",
   "id": "e323e26a-031e-4fae-a63a-0141b7a161e9",
   "metadata": {},
   "source": [
    "## 6. Simulate growth and senescence of the plant\n",
    "\n",
    "Simulate growth and senescence of this plant following the daily dynamics."
   ]
  },
  {
   "cell_type": "code",
   "execution_count": 66,
   "id": "ec6ea424-5954-468d-93aa-688143b974bd",
   "metadata": {},
   "outputs": [],
   "source": [
    "growing_maize = maize.grow_plant()"
   ]
  },
  {
   "cell_type": "markdown",
   "id": "e376ffe8-ab2f-4322-a443-57bf69e399d4",
   "metadata": {},
   "source": [
    "## 7. Plot 3D scene"
   ]
  },
  {
   "cell_type": "code",
   "execution_count": 67,
   "id": "09ca7584-8085-4e17-b494-674736b4f7a5",
   "metadata": {},
   "outputs": [],
   "source": [
    "times = [t for i,t in enumerate(thermal_time) if i%10 == 0]\n",
    "mean_time = sum(times) / len(times)\n",
    "positions = [ (0, 1*(t-mean_time), 0) for t in times]\n",
    "nice_green = Color3((50, 100, 0))\n",
    "scene, _ = build_scene([g for i,g in enumerate(list(growing_maize.values())) if i%10 == 0], position=positions, senescence=True, leaf_material = Material(nice_green), stem_material=Material(nice_green))\n",
    "Viewer.display(scene)"
   ]
  },
  {
   "cell_type": "code",
   "execution_count": 68,
   "id": "c4f39c06-3aa3-4925-b3ea-c03b4ba52fe5",
   "metadata": {},
   "outputs": [
    {
     "data": {
      "text/plain": [
       "[9.2318,\n",
       " 13.2162,\n",
       " 17.8359,\n",
       " 21.8259,\n",
       " 24.9145,\n",
       " 28.2382,\n",
       " 35.6441,\n",
       " 41.9204,\n",
       " 51.0151,\n",
       " 60.1522,\n",
       " 70.3517,\n",
       " 77.3509,\n",
       " 79.8786,\n",
       " 85.4046,\n",
       " 91.3332,\n",
       " 98.7414,\n",
       " 111.2674,\n",
       " 116.3174,\n",
       " 123.2346,\n",
       " 128.8302,\n",
       " 137.3606,\n",
       " 150.4404,\n",
       " 166.2695,\n",
       " 175.5488,\n",
       " 182.1175,\n",
       " 191.2914,\n",
       " 203.0425,\n",
       " 216.1209,\n",
       " 232.5086,\n",
       " 250.656,\n",
       " 268.2979,\n",
       " 281.6094,\n",
       " 296.1626,\n",
       " 311.3149,\n",
       " 326.4268,\n",
       " 339.6736,\n",
       " 351.0863,\n",
       " 362.4414,\n",
       " 375.2711,\n",
       " 389.438,\n",
       " 403.0454,\n",
       " 416.3471,\n",
       " 429.5843,\n",
       " 441.9545,\n",
       " 448.9045,\n",
       " 455.2557,\n",
       " 462.3356,\n",
       " 469.3147,\n",
       " 476.6147,\n",
       " 487.3147,\n",
       " 496.6405,\n",
       " 507.2068,\n",
       " 517.8068,\n",
       " 525.2572,\n",
       " 533.8572,\n",
       " 541.4072,\n",
       " 548.5072,\n",
       " 559.5572,\n",
       " 570.3572,\n",
       " 576.5741,\n",
       " 580.9741,\n",
       " 588.2697,\n",
       " 596.1036,\n",
       " 606.2036,\n",
       " 617.3067,\n",
       " 628.8567,\n",
       " 640.7567,\n",
       " 654.7067,\n",
       " 669.5067,\n",
       " 684.1067,\n",
       " 697.7067,\n",
       " 711.8567,\n",
       " 724.8567,\n",
       " 737.8567,\n",
       " 751.4567,\n",
       " 766.9567,\n",
       " 782.7567,\n",
       " 794.7567,\n",
       " 806.5067,\n",
       " 821.5567,\n",
       " 836.4567,\n",
       " 850.1567,\n",
       " 861.0067,\n",
       " 872.6067,\n",
       " 882.5567,\n",
       " 894.5067,\n",
       " 907.4567,\n",
       " 919.1067,\n",
       " 931.5067,\n",
       " 940.3067,\n",
       " 950.2067,\n",
       " 959.4067,\n",
       " 969.4067,\n",
       " 980.7567,\n",
       " 990.0567,\n",
       " 1000.3567,\n",
       " 1009.1067,\n",
       " 1019.8067,\n",
       " 1030.0567,\n",
       " 1041.6067,\n",
       " 1053.9067,\n",
       " 1066.7067,\n",
       " 1080.1567,\n",
       " 1094.5067,\n",
       " 1107.6067,\n",
       " 1115.5567,\n",
       " 1125.6067,\n",
       " 1137.1567,\n",
       " 1147.1567,\n",
       " 1156.5067,\n",
       " 1165.3567,\n",
       " 1174.4567,\n",
       " 1181.5067,\n",
       " 1188.3067,\n",
       " 1195.5567,\n",
       " 1203.2567,\n",
       " 1210.6567,\n",
       " 1218.2567,\n",
       " 1226.3567,\n",
       " 1236.8067,\n",
       " 1248.0067,\n",
       " 1258.1067,\n",
       " 1265.8567,\n",
       " 1272.9067,\n",
       " 1281.1567,\n",
       " 1287.8567,\n",
       " 1295.2567,\n",
       " 1301.4067,\n",
       " 1307.8567,\n",
       " 1311.9567,\n",
       " 1317.8567,\n",
       " 1325.5067,\n",
       " 1332.8567,\n",
       " 1337.8567,\n",
       " 1340.4567,\n",
       " 1345.7567,\n",
       " 1352.3567,\n",
       " 1356.7067,\n",
       " 1362.0067,\n",
       " 1366.4067,\n",
       " 1373.7067,\n",
       " 1379.7067,\n",
       " 1388.5067,\n",
       " 1393.4067,\n",
       " 1399.4567,\n",
       " 1409.1567,\n",
       " 1414.5067,\n",
       " 1418.8567,\n",
       " 1422.1567,\n",
       " 1427.2067,\n",
       " 1430.3067,\n",
       " 1432.3067,\n",
       " 1433.9567,\n",
       " 1437.9067,\n",
       " 1444.2067,\n",
       " 1446.3067,\n",
       " 1449.2567,\n",
       " 1453.2067,\n",
       " 1462.7067,\n",
       " 1470.6067,\n",
       " 1476.5567,\n",
       " 1478.3567,\n",
       " 1481.2067,\n",
       " 1483.7567,\n",
       " 1490.1067,\n",
       " 1495.3067,\n",
       " 1504.0067,\n",
       " 1509.9067,\n",
       " 1517.1567,\n",
       " 1524.4067]"
      ]
     },
     "execution_count": 68,
     "metadata": {},
     "output_type": "execute_result"
    }
   ],
   "source": [
    "thermal_time"
   ]
  },
  {
   "cell_type": "code",
   "execution_count": 69,
   "id": "60bdae86-7d1f-451a-8421-2d6b1cd88068",
   "metadata": {},
   "outputs": [],
   "source": [
    "# times = [i for i,t in enumerate(thermal_time) if i%12==0]\n",
    "times = [268.2979, 351.0863, 496.6405, 697.7067, 1041.6067, 1444.2067]\n",
    "mean_time = sum(times) / len(times)\n",
    "position = [ (0, 0.7*(t-(times[-1]-times[0])), 0) for t in times]\n",
    "scene, _ = build_scene([g for i,g in growing_maize.items() if i in times], position=position, senescence=True, leaf_material = Material(nice_green), stem_material=Material(nice_green))"
   ]
  },
  {
   "cell_type": "code",
   "execution_count": 70,
   "id": "9089d476-e180-4208-8ed4-0a116b415b57",
   "metadata": {},
   "outputs": [],
   "source": [
    "Viewer.display(scene)"
   ]
  },
  {
   "cell_type": "code",
   "execution_count": null,
   "id": "5cd96956-8cfb-401c-be0c-f90fa50527b9",
   "metadata": {},
   "outputs": [],
   "source": []
  }
 ],
 "metadata": {
  "kernelspec": {
   "display_name": "Python 3 (ipykernel)",
   "language": "python",
   "name": "python3"
  },
  "language_info": {
   "codemirror_mode": {
    "name": "ipython",
    "version": 3
   },
   "file_extension": ".py",
   "mimetype": "text/x-python",
   "name": "python",
   "nbconvert_exporter": "python",
   "pygments_lexer": "ipython3",
   "version": "3.12.3"
  },
  "widgets": {
   "application/vnd.jupyter.widget-state+json": {
    "state": {},
    "version_major": 2,
    "version_minor": 0
   }
  }
 },
 "nbformat": 4,
 "nbformat_minor": 5
}
