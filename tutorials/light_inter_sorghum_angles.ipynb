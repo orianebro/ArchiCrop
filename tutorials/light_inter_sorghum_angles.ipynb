{
 "cells": [
  {
   "cell_type": "markdown",
   "id": "31e7c70c-f264-40d7-9287-4ae1f8b30979",
   "metadata": {},
   "source": [
    "# Simulations light inter"
   ]
  },
  {
   "cell_type": "code",
   "execution_count": 22,
   "id": "7ba99dee-5c5b-41f6-b32a-85bc95be9544",
   "metadata": {},
   "outputs": [
    {
     "ename": "ImportError",
     "evalue": "cannot import name 'write_netcdf' from 'openalea.archicrop.simulation' (D:\\ArchiCrop\\src\\openalea\\archicrop\\simulation.py)",
     "output_type": "error",
     "traceback": [
      "\u001b[1;31m---------------------------------------------------------------------------\u001b[0m",
      "\u001b[1;31mImportError\u001b[0m                               Traceback (most recent call last)",
      "Cell \u001b[1;32mIn[22], line 18\u001b[0m\n\u001b[0;32m     15\u001b[0m \u001b[38;5;28;01mfrom\u001b[39;00m\u001b[38;5;250m \u001b[39m\u001b[38;5;21;01moawidgets\u001b[39;00m\u001b[38;5;21;01m.\u001b[39;00m\u001b[38;5;21;01mplantgl\u001b[39;00m\u001b[38;5;250m \u001b[39m\u001b[38;5;28;01mimport\u001b[39;00m \u001b[38;5;241m*\u001b[39m  \u001b[38;5;66;03m# noqa: F403\u001b[39;00m\n\u001b[0;32m     17\u001b[0m \u001b[38;5;28;01mfrom\u001b[39;00m\u001b[38;5;250m \u001b[39m\u001b[38;5;21;01mopenalea\u001b[39;00m\u001b[38;5;21;01m.\u001b[39;00m\u001b[38;5;21;01marchicrop\u001b[39;00m\u001b[38;5;21;01m.\u001b[39;00m\u001b[38;5;21;01mdisplay\u001b[39;00m\u001b[38;5;250m \u001b[39m\u001b[38;5;28;01mimport\u001b[39;00m build_scene, display_scene  \u001b[38;5;66;03m# noqa: F401\u001b[39;00m\n\u001b[1;32m---> 18\u001b[0m \u001b[38;5;28;01mfrom\u001b[39;00m\u001b[38;5;250m \u001b[39m\u001b[38;5;21;01mopenalea\u001b[39;00m\u001b[38;5;21;01m.\u001b[39;00m\u001b[38;5;21;01marchicrop\u001b[39;00m\u001b[38;5;21;01m.\u001b[39;00m\u001b[38;5;21;01msimulation\u001b[39;00m\u001b[38;5;250m \u001b[39m\u001b[38;5;28;01mimport\u001b[39;00m (\n\u001b[0;32m     19\u001b[0m     plot_constained_vs_pot,\n\u001b[0;32m     20\u001b[0m     plot_constrainted_vs_realized,\n\u001b[0;32m     21\u001b[0m     plot_faPAR,\n\u001b[0;32m     22\u001b[0m     plot_PAR,\n\u001b[0;32m     23\u001b[0m     run_simulations,\n\u001b[0;32m     24\u001b[0m     write_netcdf,\n\u001b[0;32m     25\u001b[0m )\n\u001b[0;32m     26\u001b[0m \u001b[38;5;28;01mfrom\u001b[39;00m\u001b[38;5;250m \u001b[39m\u001b[38;5;21;01mopenalea\u001b[39;00m\u001b[38;5;21;01m.\u001b[39;00m\u001b[38;5;21;01mplantgl\u001b[39;00m\u001b[38;5;21;01m.\u001b[39;00m\u001b[38;5;21;01mall\u001b[39;00m\u001b[38;5;250m \u001b[39m\u001b[38;5;28;01mimport\u001b[39;00m Color3, Material, Scene  \u001b[38;5;66;03m# noqa: F401\u001b[39;00m\n\u001b[0;32m     28\u001b[0m get_ipython()\u001b[38;5;241m.\u001b[39mrun_line_magic(\u001b[38;5;124m'\u001b[39m\u001b[38;5;124mgui\u001b[39m\u001b[38;5;124m'\u001b[39m, \u001b[38;5;124m'\u001b[39m\u001b[38;5;124mqt\u001b[39m\u001b[38;5;124m'\u001b[39m)\n",
      "\u001b[1;31mImportError\u001b[0m: cannot import name 'write_netcdf' from 'openalea.archicrop.simulation' (D:\\ArchiCrop\\src\\openalea\\archicrop\\simulation.py)"
     ]
    }
   ],
   "source": [
    "from __future__ import annotations\n",
    "\n",
    "import os\n",
    "import sys\n",
    "import time as t\n",
    "from datetime import date\n",
    "from multiprocessing import Pool\n",
    "\n",
    "import matplotlib.pyplot as plt\n",
    "import numpy as np\n",
    "import xarray as xr\n",
    "\n",
    "sys.path.append(\"../data\") \n",
    "from archi_dict import archi_sorghum_angles as archi\n",
    "from oawidgets.plantgl import *  # noqa: F403\n",
    "\n",
    "from openalea.archicrop.display import build_scene, display_scene  # noqa: F401\n",
    "from openalea.archicrop.simulation import (\n",
    "    plot_constained_vs_pot,\n",
    "    plot_constrainted_vs_realized,\n",
    "    plot_faPAR,\n",
    "    plot_PAR,\n",
    "    run_simulations,\n",
    "    write_netcdf,\n",
    ")\n",
    "from openalea.plantgl.all import Color3, Material, Scene  # noqa: F401\n",
    "\n",
    "%gui qt"
   ]
  },
  {
   "cell_type": "code",
   "execution_count": 2,
   "id": "19db8171",
   "metadata": {},
   "outputs": [],
   "source": [
    "stics_color = \"orange\"\n",
    "archicrop_color = \"green\""
   ]
  },
  {
   "cell_type": "code",
   "execution_count": 3,
   "id": "687ec612",
   "metadata": {},
   "outputs": [],
   "source": [
    "tec_file_xml='../data/sorgho_tec.xml'\n",
    "plt_file_xml='../data/proto_sorghum_plt.xml'\n",
    "stics_output_file='../data/mod_ssorghum.sti'\n",
    "weather_file = '../data/climsorj.meteo'\n",
    "location = {  \n",
    "'longitude': 3.87,\n",
    "'latitude': 45,\n",
    "'altitude': 800,\n",
    "'timezone': 'Europe/Paris'}"
   ]
  },
  {
   "cell_type": "code",
   "execution_count": 18,
   "id": "9f533beb",
   "metadata": {},
   "outputs": [],
   "source": [
    "seed = 18"
   ]
  },
  {
   "cell_type": "code",
   "execution_count": null,
   "id": "45076a79-f91b-4d88-8bf2-534cac964d8c",
   "metadata": {},
   "outputs": [
    {
     "name": "stdout",
     "output_type": "stream",
     "text": [
      "Elapsed time: 32.1613 minutes for 2 simulations\n"
     ]
    }
   ],
   "source": [
    "\n",
    "start_time = t.time()\n",
    "\n",
    "daily_dynamics, params_sets, pot_la, pot_h, realized_la, realized_h, nrj_per_plant, mtgs, filters, sowing_density = run_simulations(\n",
    "    archi_params=archi, \n",
    "    tec_file=tec_file_xml, \n",
    "    plant_file=plt_file_xml, \n",
    "    dynamics_file=stics_output_file, \n",
    "    weather_file=weather_file,\n",
    "    location=location,\n",
    "    n_samples=2,\n",
    "    latin_hypercube=True,\n",
    "    opt_filter_organ_duration=False,\n",
    "    opt_filter_pot_growth=True,\n",
    "    opt_filter_realized_growth=True,\n",
    "    light_inter=True,\n",
    "    direct=False,\n",
    "    error_LA_pot=1,\n",
    "    error_height_pot=1,\n",
    "    error_LA_realized=1,\n",
    "    error_height_realized=1,\n",
    "    seed=seed)\n",
    "\n",
    "end_time = t.time()\n",
    "\n",
    "elapsed_time = (end_time - start_time)/60\n",
    "print(f\"Elapsed time: {elapsed_time:.4f} minutes for {len(realized_la)} simulations\")  # noqa: T201\n"
   ]
  },
  {
   "cell_type": "code",
   "execution_count": 5,
   "id": "f95b15b0",
   "metadata": {},
   "outputs": [],
   "source": [
    "# Retrieve STICS growth and senescence dynamics\n",
    "dates = [value[\"Date\"] for value in daily_dynamics.values()]\n",
    "thermal_time = [value[\"Thermal time\"] for value in daily_dynamics.values()]\n",
    "leaf_area_plant = [value[\"Plant leaf area\"] for value in daily_dynamics.values()]\n",
    "sen_leaf_area_plant = [value[\"Plant senescent leaf area\"] for value in daily_dynamics.values()]\n",
    "height_canopy = [value[\"Plant height\"] for value in daily_dynamics.values()]\n",
    "par_incident = [value[\"Incident PAR\"] for value in daily_dynamics.values()]\n",
    "par_stics = [value[\"Absorbed PAR\"] for value in daily_dynamics.values()]"
   ]
  },
  {
   "cell_type": "code",
   "execution_count": 45,
   "id": "17a67318",
   "metadata": {},
   "outputs": [
    {
     "ename": "NameError",
     "evalue": "name 'write_netcdf' is not defined",
     "output_type": "error",
     "traceback": [
      "\u001b[1;31m---------------------------------------------------------------------------\u001b[0m",
      "\u001b[1;31mNameError\u001b[0m                                 Traceback (most recent call last)",
      "Cell \u001b[1;32mIn[45], line 1\u001b[0m\n\u001b[1;32m----> 1\u001b[0m \u001b[43mwrite_netcdf\u001b[49m(daily_dynamics, params_sets, pot_la, pot_h, realized_la, realized_h, nrj_per_plant, mtgs, filters, sowing_density, seed)\n",
      "\u001b[1;31mNameError\u001b[0m: name 'write_netcdf' is not defined"
     ]
    }
   ],
   "source": [
    "write_netcdf(daily_dynamics, params_sets, pot_la, pot_h, realized_la, realized_h, nrj_per_plant, mtgs, filters, sowing_density, seed)"
   ]
  }
 ],
 "metadata": {
  "kernelspec": {
   "display_name": "ArchiCrop",
   "language": "python",
   "name": "python3"
  },
  "language_info": {
   "codemirror_mode": {
    "name": "ipython",
    "version": 3
   },
   "file_extension": ".py",
   "mimetype": "text/x-python",
   "name": "python",
   "nbconvert_exporter": "python",
   "pygments_lexer": "ipython3",
   "version": "3.12.3"
  },
  "widgets": {
   "application/vnd.jupyter.widget-state+json": {
    "state": {},
    "version_major": 2,
    "version_minor": 0
   }
  }
 },
 "nbformat": 4,
 "nbformat_minor": 5
}
