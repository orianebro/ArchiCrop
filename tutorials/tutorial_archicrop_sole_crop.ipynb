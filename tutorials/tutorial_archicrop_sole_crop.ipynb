{
 "cells": [
  {
   "cell_type": "markdown",
   "id": "31e7c70c-f264-40d7-9287-4ae1f8b30979",
   "metadata": {},
   "source": [
    "# ArchiCrop tutorial - Sole crop"
   ]
  },
  {
   "cell_type": "markdown",
   "id": "bf0852fd-8b75-4db8-b1b2-396dd7d93c1e",
   "metadata": {},
   "source": [
    "This notebook is a tutorial for executing ArchiCrop model for a sole crop."
   ]
  },
  {
   "cell_type": "markdown",
   "id": "fe31c5a6-c8c0-43c9-b623-bbc7e4573b11",
   "metadata": {},
   "source": [
    "## 0. Imports"
   ]
  },
  {
   "cell_type": "code",
   "execution_count": 1,
   "id": "7ba99dee-5c5b-41f6-b32a-85bc95be9544",
   "metadata": {},
   "outputs": [],
   "source": [
    "import numpy as np\n",
    "from oawidgets.plantgl import *\n",
    "from openalea.plantgl.all import Material, Color3, Scene\n",
    "import oawidgets.mtg\n",
    "\n",
    "from openalea.archicrop.archicrop import ArchiCrop\n",
    "from openalea.archicrop.display import build_scene, display_scene\n",
    "%gui qt"
   ]
  },
  {
   "cell_type": "markdown",
   "id": "13b7984c-51e7-4077-96ec-9bcc73150520",
   "metadata": {},
   "source": [
    "## 1. Set management parameters\n",
    "\n",
    "Set parameters regarding the spatial (and temporal) configuration of the crop."
   ]
  },
  {
   "cell_type": "code",
   "execution_count": 2,
   "id": "c690784e-63d3-458f-b901-2f96505f1fac",
   "metadata": {},
   "outputs": [],
   "source": [
    "sowing_density = 10\n",
    "inter_row = 0.4"
   ]
  },
  {
   "cell_type": "markdown",
   "id": "d282da23-eaa6-402c-8e54-df79bef01aad",
   "metadata": {},
   "source": [
    "## 2. Format crop-scale growth and senescence dynamics\n",
    "\n",
    "From crop-scale data either measured or simulated with a crop model, generate a dictionnary of dictionnaries for each day with the following values :\n",
    " - \"Thermal time\" (float): cumulated thermal time from beginning of simulation to current day (in °C.day)\n",
    " - \"Phenology\" (str): current phenological stage (germination, juvenile, exponential or repro)\n",
    " - \"Plant leaf area\" (float): plant leaf area (in cm²) \n",
    " - \"Leaf area increment\" (float): leaf area increment compared to previous day (in cm²) \n",
    " - \"Plant senescent leaf area\" (float): senescent plant leaf area (in cm²) \n",
    " - \"Senescent leaf area increment\" (float): senescent leaf area increment compared to previous day (in cm²) \n",
    " - \"Plant height\" (float): plant height (in cm) \n",
    " - \"Height increment\" (float): height increment compared to previous day (in cm)."
   ]
  },
  {
   "cell_type": "code",
   "execution_count": 3,
   "id": "2a32cfb4-aa04-49c0-87c1-dd41afcfb22a",
   "metadata": {},
   "outputs": [],
   "source": [
    "# Time series \n",
    "# for thermal time, plant leaf area, plant senescent leaf area and plant height\n",
    "# for the example, one value every 18 days\n",
    "thermal_time = np.cumsum([tt*18 for tt in [3, 10, 11, 13, 18, 14, 13, 15, 13, 10]]) # cumulated thermal time\n",
    "lai = [0.01, 0.77, 2.46, 5.00, 5.81, 5.81, 5.81, 5.81, 5.81, 5.81] # crop-scale\n",
    "\n",
    "# To remove\n",
    "lai_scale = 10\n",
    "lai = [la*lai_scale for la in lai]\n",
    "\n",
    "leaf_area_plant = [la*1e4/sowing_density for la in lai] # for 1 plant\n",
    "sen_lai = [0.00, 0.00, 0.00, 0.20, 0.60, 1.00, 2.00, 3.00, 4.00, 5.81] # crop-scale\n",
    "sen_leaf_area_plant = [sen_la*1e4/sowing_density for sen_la in sen_lai] # for 1 plant\n",
    "height_canopy = [h*100 for h in [0.00004, 0.02, 1.04, 2.05, 2.42, 2.46, 2.46, 2.46, 2.46, 2.46]] # height of the canopy\n",
    "\n",
    "# Phenology parameters, in days\n",
    "emergence = 0 # start of the simulation for a sole crop\n",
    "end_juv = 3 \n",
    "max_lai = 6\n",
    "\n",
    "# Fill dict of dicts for daily dynamics\n",
    "daily_dynamics = {\n",
    "        i+1: {\"Thermal time\": thermal_time[i],\n",
    "              \"Phenology\": 'germination' if i+1 < emergence else 'juvenile' if emergence <= i+1 < end_juv else 'exponential' if end_juv <= i+1 < max_lai else 'repro',\n",
    "              \"Plant leaf area\": leaf_area_plant[i], \n",
    "              \"Leaf area increment\": leaf_area_plant[i] - leaf_area_plant[i-1] if i > 0 else leaf_area_plant[i], \n",
    "              \"Plant senescent leaf area\": sen_leaf_area_plant[i],\n",
    "              \"Senescent leaf area increment\": sen_leaf_area_plant[i] - sen_leaf_area_plant[i-1] if i > 0 else sen_leaf_area_plant[i],\n",
    "              \"Plant height\": height_canopy[i], \n",
    "              \"Height increment\": height_canopy[i] - height_canopy[i-1] if i > 0 else height_canopy[i]\n",
    "             }\n",
    "        for i in range(len(thermal_time))\n",
    "}"
   ]
  },
  {
   "cell_type": "markdown",
   "id": "c8cad4ae-0e0a-4693-a4ed-4494e9a3dbf3",
   "metadata": {},
   "source": [
    "## 3. Set plant architectural parameters\n",
    "\n",
    "Set topological, geometrical and developmental parameters, in a range corresponding a given species, found in literature."
   ]
  },
  {
   "cell_type": "code",
   "execution_count": 4,
   "id": "fc27b380-3989-4cec-842c-ef92d36a4490",
   "metadata": {},
   "outputs": [],
   "source": [
    "nb_phy=15 # number of phytomers on the main stem\n",
    "\n",
    "# Stem\n",
    "height=1.3*max(height_canopy) # potential plant height\n",
    "stem_q=1.1 # parameter for ligule height distribution along axis\n",
    "diam_base=2.5 # stem base diameter\n",
    "diam_top=1.5 # stem top diameter\n",
    "\n",
    "# Leaf blade area \n",
    "leaf_area=1.3*max(leaf_area_plant) # potential plant leaf area\n",
    "rmax=0.8 # parameter for leaf area distribution along axis\n",
    "skew=0.0005 # parameter for leaf area distribution along axis\n",
    "wl=0.12 # leaf blade width-to-length ratio \n",
    "klig=0.6 # parameter for leaf blade shape\n",
    "swmax=0.55 # parameter for leaf blade shape\n",
    "f1=0.64 # parameter for leaf blade shape\n",
    "f2=0.92 # parameter for leaf blade shape\n",
    "\n",
    "# Leaf blade position in space\n",
    "insertion_angle=35 # leaf blade insertion angle\n",
    "scurv=0.7 # leaf blade relative inflexion point\n",
    "curvature=120 # leaf blade insertion-to-tip angle\n",
    "phyllotactic_angle=180 # phyllotactic angle\n",
    "phyllotactic_deviation=10 # half-deviation to phyllotactic angle\n",
    "\n",
    "# Development\n",
    "phyllochron=30 # phyllochron, i.e. stem element appearance rate\n",
    "plastochron=20 # plastochron, i.e. leaf blade appearance rate\n",
    "\n",
    "# Senescence \n",
    "leaf_lifespan = 300 # leaf lifespan from appearance\n",
    "\n",
    "# Tillering\n",
    "nb_tillers=10 # number of tillers\n",
    "tiller_delay=1 # delay, as factor of phyllochron, between the appearance of a phytomer and the appearance of its tiller\n",
    "reduction_factor=1 # reduction factor between tillers of consecutive order"
   ]
  },
  {
   "cell_type": "markdown",
   "id": "340079dc-3693-4cb7-8fc4-bb8acfd26a97",
   "metadata": {},
   "source": [
    "## 4. Instantiate ArchiCrop object"
   ]
  },
  {
   "cell_type": "code",
   "execution_count": 5,
   "id": "d92459b4-a91f-4c83-b597-f4df5d669552",
   "metadata": {},
   "outputs": [],
   "source": [
    "plant = ArchiCrop(height=height, \n",
    "                  nb_phy=nb_phy,\n",
    "                  leaf_area=leaf_area,\n",
    "                  wl=wl, diam_base=diam_base, diam_top=diam_top, \n",
    "                  insertion_angle=insertion_angle, scurv=scurv, curvature=curvature, \n",
    "                  klig=klig, swmax=swmax, f1=f1, f2=f2, \n",
    "                  stem_q=stem_q, rmax=rmax, skew=skew,\n",
    "                  phyllotactic_angle=phyllotactic_angle,\n",
    "                  phyllotactic_deviation=phyllotactic_deviation,\n",
    "                  phyllochron=phyllochron, \n",
    "                  plastochron=plastochron, \n",
    "                  leaf_lifespan=leaf_lifespan,\n",
    "                  nb_tillers=nb_tillers, tiller_delay=tiller_delay, reduction_factor=reduction_factor,\n",
    "                  daily_dynamics=daily_dynamics)"
   ]
  },
  {
   "cell_type": "markdown",
   "id": "ac1d95d9-d0f2-423c-a313-e44bc2a2f11f",
   "metadata": {},
   "source": [
    "## 5. Generate a potential plant \n",
    "\n",
    "Generate a potential plant from architectural parameters. \n",
    "\n",
    "This creates an MTG (Multi-scale Tree Graph, cf [doc](https://mtg.readthedocs.io/en/latest/user/tutorial.html)) as a property of the object plant."
   ]
  },
  {
   "cell_type": "code",
   "execution_count": 6,
   "id": "b59ea54e-5783-46a4-88e4-bec0b77e9723",
   "metadata": {},
   "outputs": [],
   "source": [
    "plant.generate_potential_plant()"
   ]
  },
  {
   "cell_type": "code",
   "execution_count": 7,
   "id": "269744b8-514b-416a-ac05-efc6b07d41fb",
   "metadata": {},
   "outputs": [
    {
     "name": "stdout",
     "output_type": "stream",
     "text": [
      "['edge_type', 'label', 'rank', 'mature_length', 'length', 'visible_length', 'is_green', 'mature_stem_diameter', 'stem_diameter', 'azimuth', 'grow', 'age', 'stem_lengths', 'start_tt', 'end_tt', 'shape', 'leaf_area', 'visible_leaf_area', 'senescent_area', 'senescent_length', 'wl', 'tck', 'srb', 'srt', 'lrolled', 'd_rolled', 'shape_max_width', 'dead', 'leaf_lengths', 'senescent_lengths', 'senescence', 'geometry', 'anchor_point', 'color']\n",
      "Local cdn resources have problems on chrome/safari when used in jupyter-notebook. \n"
     ]
    },
    {
     "data": {
      "text/html": [
       "\n",
       "        <iframe\n",
       "            width=\"900px\"\n",
       "            height=\"800px\"\n",
       "            src=\"mtg.html\"\n",
       "            frameborder=\"0\"\n",
       "            allowfullscreen\n",
       "            \n",
       "        ></iframe>\n",
       "        "
      ],
      "text/plain": [
       "<IPython.lib.display.IFrame at 0x1a30678e0>"
      ]
     },
     "execution_count": 7,
     "metadata": {},
     "output_type": "execute_result"
    }
   ],
   "source": [
    "g = plant.g\n",
    "scale = g.max_scale()-1\n",
    "print(g.property_names())\n",
    "oawidgets.mtg.plot(g)"
   ]
  },
  {
   "cell_type": "markdown",
   "id": "e323e26a-031e-4fae-a63a-0141b7a161e9",
   "metadata": {},
   "source": [
    "## 6. Simulate growth and senescence of the plant\n",
    "\n",
    "Simulate growth and senescence of this plant following the daily dynamics."
   ]
  },
  {
   "cell_type": "code",
   "execution_count": 8,
   "id": "ec6ea424-5954-468d-93aa-688143b974bd",
   "metadata": {},
   "outputs": [],
   "source": [
    "growing_plant = plant.grow_plant()"
   ]
  },
  {
   "cell_type": "markdown",
   "id": "e376ffe8-ab2f-4322-a443-57bf69e399d4",
   "metadata": {},
   "source": [
    "## 7. Plot 3D scene"
   ]
  },
  {
   "cell_type": "code",
   "execution_count": 9,
   "id": "09ca7584-8085-4e17-b494-674736b4f7a5",
   "metadata": {},
   "outputs": [
    {
     "data": {
      "application/vnd.jupyter.widget-view+json": {
       "model_id": "2ae727f130dc4d049f57cc4409a766e6",
       "version_major": 2,
       "version_minor": 0
      },
      "text/plain": [
       "Plot(antialias=3, axes=['x', 'y', 'z'], axes_helper=1.0, axes_helper_colors=[16711680, 65280, 255], background…"
      ]
     },
     "execution_count": 9,
     "metadata": {},
     "output_type": "execute_result"
    }
   ],
   "source": [
    "times = [t for i,t in enumerate(thermal_time)]\n",
    "mean_time = sum(times) / len(times)\n",
    "positions = [ (0, 1*(t-mean_time), 0) for t in times]\n",
    "nice_green = Color3((50, 100, 0))\n",
    "scene, _ = build_scene([g for i,g in enumerate(list(growing_plant.values()))], position=positions, senescence=True, leaf_material = Material(nice_green), stem_material=Material(nice_green))\n",
    "PlantGL(scene)"
   ]
  },
  {
   "cell_type": "code",
   "execution_count": null,
   "id": "fc3d7f29-b77f-4079-85cd-1ebdc6f326f4",
   "metadata": {},
   "outputs": [],
   "source": []
  }
 ],
 "metadata": {
  "kernelspec": {
   "display_name": "Python 3 (ipykernel)",
   "language": "python",
   "name": "python3"
  },
  "language_info": {
   "codemirror_mode": {
    "name": "ipython",
    "version": 3
   },
   "file_extension": ".py",
   "mimetype": "text/x-python",
   "name": "python",
   "nbconvert_exporter": "python",
   "pygments_lexer": "ipython3",
   "version": "3.12.3"
  },
  "widgets": {
   "application/vnd.jupyter.widget-state+json": {
    "state": {},
    "version_major": 2,
    "version_minor": 0
   }
  }
 },
 "nbformat": 4,
 "nbformat_minor": 5
}
