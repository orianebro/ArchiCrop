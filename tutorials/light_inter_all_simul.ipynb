{
 "cells": [
  {
   "cell_type": "markdown",
   "id": "31e7c70c-f264-40d7-9287-4ae1f8b30979",
   "metadata": {},
   "source": [
    "# Simulations light inter"
   ]
  },
  {
   "cell_type": "code",
   "execution_count": null,
   "id": "7ba99dee-5c5b-41f6-b32a-85bc95be9544",
   "metadata": {},
   "outputs": [
    {
     "ename": "",
     "evalue": "",
     "output_type": "error",
     "traceback": [
      "\u001b[1;31mFailed to start the Kernel. \n",
      "\u001b[1;31mUnable to start Kernel 'ArchiCrop (Python 3.12.3)' due to a timeout waiting for the ports to get used. \n",
      "\u001b[1;31mView Jupyter <a href='command:jupyter.viewOutput'>log</a> for further details."
     ]
    }
   ],
   "source": [
    "from __future__ import annotations\n",
    "\n",
    "import sys\n",
    "import time as t\n",
    "\n",
    "import matplotlib.pyplot as plt\n",
    "import numpy as np\n",
    "\n",
    "sys.path.append(\"../data\") \n",
    "from archi_dict import archi_maize as archi\n",
    "from oawidgets.plantgl import *  # noqa: F403\n",
    "\n",
    "from openalea.archicrop.display import build_scene, display_scene  # noqa: F401\n",
    "from openalea.archicrop.simulation import plot_constrainted_vs_realized, run_simulations\n",
    "from openalea.plantgl.all import Color3, Material, Scene  # noqa: F401\n",
    "\n",
    "%gui qt"
   ]
  },
  {
   "cell_type": "code",
   "execution_count": null,
   "id": "19db8171",
   "metadata": {},
   "outputs": [],
   "source": [
    "stics_color = \"orange\"\n",
    "archicrop_color = \"green\""
   ]
  },
  {
   "cell_type": "code",
   "execution_count": null,
   "id": "687ec612",
   "metadata": {},
   "outputs": [],
   "source": [
    "tec_file_xml='../data/Mais_tec.xml'\n",
    "plt_file_xml='../data/corn_plt.xml'\n",
    "stics_output_file='../data/mod_smaize.sti'\n",
    "weather_file = '../data/climaisj.meteo'\n",
    "location = {  \n",
    "'longitude': 3.87,\n",
    "'latitude': 45,\n",
    "'altitude': 800,\n",
    "'timezone': 'Europe/Paris'}"
   ]
  },
  {
   "cell_type": "code",
   "execution_count": null,
   "id": "45076a79-f91b-4d88-8bf2-534cac964d8c",
   "metadata": {},
   "outputs": [],
   "source": [
    "\n",
    "start_time = t.time()\n",
    "\n",
    "daily_dynamics, params_sets, pot_la, pot_h, realized_la, realized_h, nrj_per_plant, mtgs, filters, sowing_density = run_simulations(\n",
    "    archi_params=archi, \n",
    "    tec_file=tec_file_xml, \n",
    "    plant_file=plt_file_xml, \n",
    "    dynamics_file=stics_output_file, \n",
    "    weather_file=weather_file,\n",
    "    location=location,\n",
    "    n_samples=100,\n",
    "    latin_hypercube=True,\n",
    "    opt_filter_pot_growth=True,\n",
    "    opt_filter_realized_growth=True,\n",
    "    light_inter=False,\n",
    "    seed=18)\n",
    "\n",
    "end_time = t.time()\n",
    "_\n",
    "elapsed_time = (end_time - start_time)/60\n",
    "print(f\"Elapsed time: {elapsed_time:.4f} minutes for {len(realized_la)} simulations\")  # noqa: T201\n"
   ]
  },
  {
   "cell_type": "code",
   "execution_count": null,
   "id": "f95b15b0",
   "metadata": {},
   "outputs": [],
   "source": [
    "# Retrieve STICS growth and senescence dynamics\n",
    "dates = [value[\"Date\"] for value in daily_dynamics.values()]\n",
    "thermal_time = [value[\"Thermal time\"] for value in daily_dynamics.values()]\n",
    "leaf_area_plant = [value[\"Plant leaf area\"] for value in daily_dynamics.values()]\n",
    "sen_leaf_area_plant = [value[\"Plant senescent leaf area\"] for value in daily_dynamics.values()]\n",
    "height_canopy = [value[\"Plant height\"] for value in daily_dynamics.values()]\n",
    "par_incident = [value[\"Incident PAR\"] for value in daily_dynamics.values()]\n",
    "par_stics = [value[\"Absorbed PAR\"] for value in daily_dynamics.values()]"
   ]
  },
  {
   "cell_type": "code",
   "execution_count": null,
   "id": "64b02323-0c3c-4f12-b758-3eb100930836",
   "metadata": {},
   "outputs": [],
   "source": [
    "fig, ax = plt.subplots(figsize=(12, 6))\n",
    "for la in pot_la.values():\n",
    "    ax.plot(dates, la, color=archicrop_color, alpha=0.6)\n",
    "ax.plot(dates, leaf_area_plant, color=stics_color)\n",
    "ax.set_xticks(np.arange(0, len(dates)+1, (len(dates)+1)/8))\n",
    "ax.set_xlabel(\"Date\")\n",
    "ax.set_ylabel(\"Leaf Area (cm²)\")\n",
    "plt.show()"
   ]
  },
  {
   "cell_type": "code",
   "execution_count": null,
   "id": "a896254b",
   "metadata": {},
   "outputs": [],
   "source": [
    "fig, ax = plt.subplots(figsize=(12, 6))\n",
    "for h in pot_h.values():\n",
    "    ax.plot(dates, h, color=archicrop_color, alpha=0.6)\n",
    "ax.plot(dates, height_canopy, color=stics_color)\n",
    "ax.set_xticks(np.arange(0, len(dates)+1, (len(dates)+1)/8))\n",
    "ax.set_xlabel(\"Date\")\n",
    "ax.set_ylabel(\"Height (cm²)\")\n",
    "plt.show()"
   ]
  },
  {
   "cell_type": "code",
   "execution_count": null,
   "id": "b3403d27-fdae-4b3a-8023-2ccb972ea0a1",
   "metadata": {},
   "outputs": [],
   "source": [
    "plot_constrainted_vs_realized(dates=dates, \n",
    "                              LA_archicrop=realized_la, \n",
    "                              height_archicrop=realized_h, \n",
    "                              leaf_area_plant=leaf_area_plant, \n",
    "                              sen_leaf_area_plant=sen_leaf_area_plant, \n",
    "                              height_canopy=height_canopy, \n",
    "                              sowing_density=sowing_density)\n"
   ]
  },
  {
   "cell_type": "code",
   "execution_count": null,
   "id": "a5cf8488-1668-44aa-8cb0-25a840796146",
   "metadata": {},
   "outputs": [],
   "source": [
    "# Energy in Caribu : W = 0.0864 MJ.day-1\n",
    "# Irradiance in Caribu : W.m-2 = 0.0864 MJ.m[leaf]-2.day-1\n",
    "# Incident PAR in STICS : MJ.m[soil]-2.day-1\n",
    "# Absorbed PAR in STICS : MJ.m[soil]-2.day-1"
   ]
  },
  {
   "cell_type": "code",
   "execution_count": null,
   "id": "06fe2c41",
   "metadata": {},
   "outputs": [],
   "source": [
    "# 30 minutes per plant on whole growth cycle"
   ]
  },
  {
   "cell_type": "code",
   "execution_count": null,
   "id": "e042b76c-e138-4fb2-a894-e25158f06a58",
   "metadata": {},
   "outputs": [],
   "source": [
    "curves = nrj_per_plant\n",
    "# curves_array = np.array(curves)\n",
    "\n",
    "# # Calculate the envelope: min and max values for each time point\n",
    "# min_values = curves_array.min(axis=0)\n",
    "# max_values = curves_array.max(axis=0)\n",
    "\n",
    "# Plotting the envelope along with individual curves for context\n",
    "fig, ax = plt.subplots(figsize=(12, 6))\n",
    "time_points = dates\n",
    "for curve in curves:\n",
    "    ax.plot(time_points, [nrj*sowing_density/row.rad for nrj,row in zip(curve, par_incident)], color=archicrop_color, alpha=0.4, label=\"ArchiCrop x Caribu\")\n",
    "\n",
    "# ax.fill_between(time_points, min_values, max_values, color=\"skyblue\", alpha=0.4)\n",
    "# ax.plot(time_points, min_values, color=\"blue\", linestyle=\"--\", label=\"Min 3D\")\n",
    "# ax.plot(time_points, max_values, color=\"red\", linestyle=\"--\", label=\"Max 3D\")\n",
    "ax.plot(time_points, par_stics, color=stics_color, label=\"STICS\")\n",
    "\n",
    "# Labels and legend\n",
    "ax.set_xticks(np.arange(0, len(dates)+1, (len(dates)+1)/8))\n",
    "ax.set_xlabel(\"Thermal time\") \n",
    "ax.set_ylabel(\"Fraction of absorbed PAR\")\n",
    "ax.set_title(\"Fraction of absorbed PAR: 3D canopy vs. STICS\")\n",
    "ax.legend()\n",
    "plt.show()"
   ]
  },
  {
   "cell_type": "code",
   "execution_count": null,
   "id": "c0b24b7b-6789-4cd9-a43c-fcfe836a8537",
   "metadata": {},
   "outputs": [],
   "source": [
    "start = 0\n",
    "end = len(time_points)-1\n",
    "\n",
    "fig, ax = plt.subplots(figsize=(12, 6))\n",
    "\n",
    "for curve in curves:\n",
    "    ax.plot([t for c,t in enumerate(time_points) if c%1==0][start:end], [i*sowing_density for i,par in zip(curve, par_incident)][start:end], alpha=1, linestyle='-')  # Plot each curve (optional for visualization)\n",
    "\n",
    "ax.plot(time_points[start:end], par_incident[start:end], \"--\", color=\"orange\", alpha=0.3, label=\"STICS\")\n",
    "ax.plot(time_points[start:end], [i*par for i,par in zip(par_stics, par_incident)][start:end], color=\"black\", label=\"STICS\")\n",
    "\n",
    "# plt.plot(thermal_time, raint)\n",
    "\n",
    "# Labels and legend\n",
    "ax.set_xticks(np.arange(0, len(dates)+1, (len(dates)+1)/8))\n",
    "ax.set_xlabel(\"Thermal time\")\n",
    "ax.set_ylabel(\"Absorbed PAR\")\n",
    "ax.set_title(\"Absorbed PAR: 3D canopy vs. STICS\")\n",
    "# plt.legend()\n",
    "plt.show()"
   ]
  },
  {
   "cell_type": "code",
   "execution_count": null,
   "id": "8d2f85c9-b34f-487d-b248-69ae35be0507",
   "metadata": {},
   "outputs": [],
   "source": [
    "# see if sum eabs and esoil = 1\n",
    "# see tests caribu (cf light vege manager in oa incubator)\n",
    "# compute memory "
   ]
  },
  {
   "cell_type": "markdown",
   "id": "6c9cec48-9f3c-414b-a787-d4b0f8556f30",
   "metadata": {},
   "source": [
    "$$ raint(t)=0.95⋅parsurrgG⋅trg(t)⋅(1−exp(−extinP⋅(lai(t)+eai(t)))) $$\n",
    "\n",
    "$$ parsurrgG = 0.48 $$\n",
    "\n",
    "$$ extinP(maize) = 0.7 $$"
   ]
  },
  {
   "cell_type": "code",
   "execution_count": null,
   "id": "f41bce0c-a6d7-452d-b79b-0c67a767609f",
   "metadata": {},
   "outputs": [],
   "source": [
    "\"\"\"\n",
    "# vertical light interception\n",
    "cs, ei, df = illuminate(scene, scene_unit='cm')\n",
    "cs.plot(ei)\n",
    "\n",
    "\n",
    "# diffuse light interception\n",
    "sources = skys.sky_sources()\n",
    "cs, ei, df = illuminate(scene, light=sources, scene_unit='cm')\n",
    "cs.plot(ei)\n",
    "\n",
    "# get score per plant\n",
    "def score(res):\n",
    "    return pd.Series({'ei':(res.Ei*res.area).sum() / res.area.sum(),\n",
    "                              'area': res.area.sum()})\n",
    "df['nump']=nump\n",
    "df.groupby('nump').apply(score)\n",
    "\"\"\""
   ]
  }
 ],
 "metadata": {
  "kernelspec": {
   "display_name": "ArchiCrop",
   "language": "python",
   "name": "python3"
  },
  "language_info": {
   "codemirror_mode": {
    "name": "ipython",
    "version": 3
   },
   "file_extension": ".py",
   "mimetype": "text/x-python",
   "name": "python",
   "nbconvert_exporter": "python",
   "pygments_lexer": "ipython3",
   "version": "3.12.3"
  },
  "widgets": {
   "application/vnd.jupyter.widget-state+json": {
    "state": {},
    "version_major": 2,
    "version_minor": 0
   }
  }
 },
 "nbformat": 4,
 "nbformat_minor": 5
}
