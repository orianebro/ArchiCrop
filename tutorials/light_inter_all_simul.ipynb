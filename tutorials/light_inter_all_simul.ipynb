{
 "cells": [
  {
   "cell_type": "markdown",
   "id": "31e7c70c-f264-40d7-9287-4ae1f8b30979",
   "metadata": {},
   "source": [
    "# Simulations light inter"
   ]
  },
  {
   "cell_type": "markdown",
   "id": "fe31c5a6-c8c0-43c9-b623-bbc7e4573b11",
   "metadata": {},
   "source": [
    "## 0. Imports"
   ]
  },
  {
   "cell_type": "code",
   "execution_count": 1,
   "id": "7ba99dee-5c5b-41f6-b32a-85bc95be9544",
   "metadata": {},
   "outputs": [],
   "source": [
    "import numpy as np\n",
    "import time as t\n",
    "import random\n",
    "from oawidgets.plantgl import *\n",
    "from openalea.plantgl.all import Material, Color3, Scene\n",
    "import oawidgets.mtg\n",
    "\n",
    "from openalea.archicrop.archicrop import ArchiCrop\n",
    "from openalea.archicrop.display import build_scene, display_scene\n",
    "from openalea.archicrop.simulation import read_sti_file, read_xml_file, LHS_param_sampling, params_for_curve_fit\n",
    "import matplotlib.pyplot as plt\n",
    "%gui qt"
   ]
  },
  {
   "cell_type": "code",
   "execution_count": 2,
   "id": "c1d8b9c2-656d-48b8-99d2-d3c46bb9d15a",
   "metadata": {},
   "outputs": [],
   "source": [
    "# random.seed(18)"
   ]
  },
  {
   "cell_type": "markdown",
   "id": "13b7984c-51e7-4077-96ec-9bcc73150520",
   "metadata": {},
   "source": [
    "## 1. Set management parameters\n",
    "\n",
    "Set parameters regarding the spatial (and temporal) configuration of the crop."
   ]
  },
  {
   "cell_type": "code",
   "execution_count": 3,
   "id": "c690784e-63d3-458f-b901-2f96505f1fac",
   "metadata": {},
   "outputs": [],
   "source": [
    "file_tec_xml = 'Mais_tec.xml'\n",
    "params_tec = ['densitesem', 'interrang']\n",
    "tec_stics = read_xml_file(file_tec_xml, params_tec)\n",
    "sowing_density = tec_stics['densitesem']\n",
    "inter_row = 70"
   ]
  },
  {
   "cell_type": "markdown",
   "id": "d282da23-eaa6-402c-8e54-df79bef01aad",
   "metadata": {},
   "source": [
    "## 2. Format crop-scale growth and senescence dynamics\n",
    "\n",
    "From crop-scale data either measured or simulated with a crop model, generate a dictionnary of dictionnaries for each day with the following values :\n",
    " - \"Thermal time\" (float): cumulated thermal time from beginning of simulation to current day (in °C.day)\n",
    " - \"Phenology\" (str): current phenological stage (germination, juvenile, exponential or repro)\n",
    " - \"Plant leaf area\" (float): plant leaf area (in cm²) \n",
    " - \"Leaf area increment\" (float): leaf area increment compared to previous day (in cm²) \n",
    " - \"Plant senescent leaf area\" (float): senescent plant leaf area (in cm²) \n",
    " - \"Senescent leaf area increment\" (float): senescent leaf area increment compared to previous day (in cm²) \n",
    " - \"Plant height\" (float): plant height (in cm) \n",
    " - \"Height increment\" (float): height increment compared to previous day (in cm)."
   ]
  },
  {
   "cell_type": "code",
   "execution_count": 4,
   "id": "6e42da80-9b6d-495d-bc79-940741edc40b",
   "metadata": {},
   "outputs": [],
   "source": [
    "stics_output_file = 'mod_smaize.sti'\n",
    "daily_dynamics = read_sti_file(stics_output_file, sowing_density)\n",
    "\n",
    "# Time series \n",
    "# for thermal time, plant leaf area, plant senescent leaf area and plant height\n",
    "thermal_time = [value[\"Thermal time\"] for value in daily_dynamics.values()]\n",
    "leaf_area_plant = [value[\"Plant leaf area\"] for value in daily_dynamics.values()]\n",
    "sen_leaf_area_plant = [value[\"Plant senescent leaf area\"] for value in daily_dynamics.values()]\n",
    "height_canopy = [value[\"Plant height\"] for value in daily_dynamics.values()]"
   ]
  },
  {
   "cell_type": "code",
   "execution_count": 5,
   "id": "cdea6b0a-fe00-4bf0-bd78-f98202195cda",
   "metadata": {},
   "outputs": [],
   "source": [
    "file_plt_xml = 'corn_plt.xml'\n",
    "params_sen = ['durvieF', 'ratiodurvieI']\n",
    "sen_stics = read_xml_file(file_plt_xml, params_sen)\n",
    "lifespan = sen_stics['durvieF'] # leaf lifespan from appearance in exponential phase\n",
    "lifespan_early = sen_stics['ratiodurvieI'] * lifespan # leaf lifespan from appearance in juvenile phase"
   ]
  },
  {
   "cell_type": "markdown",
   "id": "c8cad4ae-0e0a-4693-a4ed-4494e9a3dbf3",
   "metadata": {},
   "source": [
    "## 3. Set plant architectural parameters\n",
    "\n",
    "Set topological, geometrical and developmental parameters, in a range corresponding a given species, found in literature."
   ]
  },
  {
   "cell_type": "code",
   "execution_count": 6,
   "id": "fc27b380-3989-4cec-842c-ef92d36a4490",
   "metadata": {},
   "outputs": [],
   "source": [
    "archi = dict(\n",
    "    nb_phy=[8,20], # number of phytomers on the main stem\n",
    "    nb_short_phy=4,\n",
    "    \n",
    "    # Stem\n",
    "    height=3*max(height_canopy), # potential plant height\n",
    "    stem_q=1.0, # parameter for ligule height geometric distribution along axis\n",
    "    diam_base=2.5, # stem base diameter\n",
    "    diam_top=1.5, # stem top diameter\n",
    "\n",
    "    # Leaf area distribution along the stem  \n",
    "    leaf_area=1.2*max(leaf_area_plant), # potential plant leaf area\n",
    "    rmax=[0.55,0.8], # relative position of largest leaf on the stem\n",
    "    skew=0.005, # skewness for leaf area distribution along axis\n",
    "\n",
    "    # blade area\n",
    "    wl=0.12, # leaf blade width-to-length ratio \n",
    "    klig=0.6, # parameter for leaf blade shape\n",
    "    swmax=0.55, # relative position of maximal blade width\n",
    "    f1=0.64, # parameter for leaf blade shape\n",
    "    f2=0.92, # parameter for leaf blade shape\n",
    "\n",
    "    # blade curvature\n",
    "    insertion_angle=35, # leaf blade insertion angle\n",
    "    scurv=0.7, #  relative position of inflexion point\n",
    "    curvature=120, # leaf blade insertion-to-tip angle\n",
    "    phyllotactic_angle=137.5, # phyllotactic angle\n",
    "    phyllotactic_deviation=0, # half-deviation to phyllotactic angle\n",
    "\n",
    "    # Development\n",
    "    phyllochron=30, # phyllochron, i.e. stem element appearance rate\n",
    "    plastochron=40, # plastochron, i.e. leaf blade appearance rate\n",
    "\n",
    "    # Senescence \n",
    "    leaf_lifespan = [lifespan_early, lifespan], # leaf lifespan from appearance\n",
    "\n",
    "    # Tillering\n",
    "    nb_tillers=0, # number of tillers\n",
    "    tiller_delay=1, # delay, as factor of phyllochron, between the appearance of a phytomer and the appearance of its tiller\n",
    "    tiller_angle=30,\n",
    "    reduction_factor=1, # reduction factor between tillers of consecutive order\n",
    "\n",
    "    plant_orientation=0 #20\n",
    ")"
   ]
  },
  {
   "cell_type": "code",
   "execution_count": 7,
   "id": "2a3e8fa6-baea-44b3-92fd-702d39926ee1",
   "metadata": {},
   "outputs": [
    {
     "name": "stdout",
     "output_type": "stream",
     "text": [
      "10\n"
     ]
    }
   ],
   "source": [
    "# Function to process parameters and generate samples\n",
    "# Generate parameter sets\n",
    "param_sets = LHS_param_sampling(archi, daily_dynamics, n_samples=10, seed=18)\n",
    "print(len(param_sets))"
   ]
  },
  {
   "cell_type": "code",
   "execution_count": 8,
   "id": "e92f519a-2a0c-44e3-b125-fc3e95fc9553",
   "metadata": {},
   "outputs": [
    {
     "name": "stdout",
     "output_type": "stream",
     "text": [
      "Elapsed time: 0.5626 minutes\n"
     ]
    }
   ],
   "source": [
    "# Select parameters sets for which the model fits the LAI and the height curves of the crop model, with a given error.\n",
    "\n",
    "# Start the timer\n",
    "start_time = t.time()\n",
    "\n",
    "fitting_sim, non_fitting_sim = params_for_curve_fit(param_sets, curves=daily_dynamics, error_LA=0.05, error_height=0.05)\n",
    "\n",
    "# End the timer\n",
    "end_time = t.time()\n",
    "\n",
    "# Calculate elapsed time\n",
    "elapsed_time = (end_time - start_time)/60\n",
    "print(f\"Elapsed time: {elapsed_time:.4f} minutes\")"
   ]
  },
  {
   "cell_type": "code",
   "execution_count": 9,
   "id": "6fa56b2d-8a1c-44f2-93f0-39ed95fe054b",
   "metadata": {},
   "outputs": [
    {
     "name": "stdout",
     "output_type": "stream",
     "text": [
      "6\n"
     ]
    }
   ],
   "source": [
    "print(len(fitting_sim['mtg']))"
   ]
  },
  {
   "cell_type": "code",
   "execution_count": 10,
   "id": "b3403d27-fdae-4b3a-8023-2ccb972ea0a1",
   "metadata": {},
   "outputs": [
    {
     "data": {
      "image/png": "[encoded data removed]",
      "text/plain": [
       "<Figure size 1200x600 with 2 Axes>"
      ]
     },
     "metadata": {},
     "output_type": "display_data"
    }
   ],
   "source": [
    "from matplotlib.lines import Line2D\n",
    "\n",
    "# Create a figure with two subplots side by side\n",
    "fig, axes = plt.subplots(2, 1, figsize=(12, 6), sharex=True)  # 1 row, 2 columns\n",
    "\n",
    "# Plot on the first subplot\n",
    "# for non_result in non_fitting_sim['LA']:\n",
    "#     axes[0].plot(thermal_time, [r*sowing_density/10000 for r in result],  color=\"gray\", alpha=0.1)\n",
    "for result in fitting_sim['LA']:\n",
    "    axes[0].plot(thermal_time, [r*sowing_density/10000 for r in result],  color=\"green\", alpha=0.6)\n",
    "    # print(result)\n",
    "axes[0].plot(thermal_time, [(la-sen)*sowing_density/10000 for la, sen in zip(leaf_area_plant, sen_leaf_area_plant)], color=\"black\", alpha=0.9)\n",
    "# axes[0].set_xlabel(\"Thermal time (°C.day)\")\n",
    "axes[0].set_ylabel(\"LAI (m²/m²)\", fontsize=16, fontname=\"Times New Roman\")\n",
    "# axes[0].set_title(\"Leaf Area: 3D canopy vs. STICS\")\n",
    "# axes[0].legend(loc=2)\n",
    "\n",
    "legend_elements_lai = [\n",
    "    Line2D([0], [0], color='black', alpha=0.9, lw=2, label='LAI STICS'),\n",
    "    Line2D([0], [0], color='green', alpha=0.6, lw=2, label='LAI morphotypes')\n",
    "]\n",
    "\n",
    "axes[0].legend(handles=legend_elements_lai, loc=2, prop={'family': 'Times New Roman', 'size': 12})\n",
    "\n",
    "# Plot on the second subplot\n",
    "# for non_result in non_fitting_sim['height']:\n",
    "#     axes[1].plot(thermal_time, [r*0.01 for r in non_result], color=\"gray\", alpha=0.1)\n",
    "for result in fitting_sim['height']:\n",
    "    axes[1].plot(thermal_time, [r*0.01 for r in result], color=\"orange\", alpha=0.6)\n",
    "axes[1].plot(thermal_time, [h*0.01 for h in height_canopy], color=\"black\", alpha=0.9)\n",
    "axes[1].set_xlabel(\"Thermal time (°C.day)\", fontsize=16, fontname=\"Times New Roman\")\n",
    "axes[1].set_ylabel(\"Crop height (m)\", fontsize=16, fontname=\"Times New Roman\")\n",
    "# axes[1].set_title(\"Plant height: 3D canopy vs. STICS\")\n",
    "\n",
    "legend_elements_height = [\n",
    "    Line2D([0], [0], color='black', alpha=0.9, lw=2, label='Height STICS'),\n",
    "    Line2D([0], [0], color='orange', alpha=0.6, lw=2, label='Height morphotypes')\n",
    "]\n",
    "\n",
    "axes[1].legend(handles=legend_elements_height, loc=2, prop={'family': 'Times New Roman', 'size': 12})\n",
    "\n",
    "plt.savefig('PMA_curves')\n",
    "\n",
    "# Adjust layout\n",
    "plt.tight_layout()\n",
    "\n",
    "# Show the plot\n",
    "plt.show()"
   ]
  },
  {
   "cell_type": "code",
   "execution_count": null,
   "id": "bc81e1af-55b4-4087-9cc1-4c9400722395",
   "metadata": {},
   "outputs": [],
   "source": []
  },
  {
   "cell_type": "code",
   "execution_count": 11,
   "id": "e66e00ed-42f4-4668-bf69-b08832ee05ff",
   "metadata": {},
   "outputs": [],
   "source": [
    "# fitting_sim['mtg'][-1][85].properties()"
   ]
  },
  {
   "cell_type": "code",
   "execution_count": 12,
   "id": "b119c5a3-7b0e-4cd6-b4cc-6a1c1c1db1dc",
   "metadata": {},
   "outputs": [
    {
     "data": {
      "application/vnd.jupyter.widget-view+json": {
       "model_id": "da86fd3989da47409357938901de0cc7",
       "version_major": 2,
       "version_minor": 0
      },
      "text/plain": [
       "Plot(antialias=3, axes=['x', 'y', 'z'], axes_helper=1.0, axes_helper_colors=[16711680, 65280, 255], background…"
      ]
     },
     "execution_count": 12,
     "metadata": {},
     "output_type": "execute_result"
    }
   ],
   "source": [
    "scene, _ = build_scene(fitting_sim['mtg'][1][60])\n",
    "PlantGL(scene)"
   ]
  },
  {
   "cell_type": "code",
   "execution_count": null,
   "id": "aa4c6d8a-0876-4536-be09-b7b2cec9677d",
   "metadata": {},
   "outputs": [],
   "source": []
  },
  {
   "cell_type": "code",
   "execution_count": 13,
   "id": "4cc0ae3f-80bf-4490-81eb-070ff4ee3254",
   "metadata": {},
   "outputs": [],
   "source": [
    "morpho = {\n",
    "    i : [p['nb_phy'],p['rmax']]\n",
    "    for i,p in enumerate(fitting_sim['params'])\n",
    "}\n",
    "\n",
    "# print(morpho)\n",
    "# print([p['nb_phy'] for p in fitting_sim['params']])\n",
    "# print([round(p['wl'],2) for p in fitting_sim['params']])"
   ]
  },
  {
   "cell_type": "markdown",
   "id": "856ccf1b-2c08-4abb-a389-30a29a95dae8",
   "metadata": {},
   "source": [
    "## Light interception"
   ]
  },
  {
   "cell_type": "code",
   "execution_count": 14,
   "id": "45076a79-f91b-4d88-8bf2-534cac964d8c",
   "metadata": {},
   "outputs": [
    {
     "name": "stderr",
     "output_type": "stream",
     "text": [
      "<>:12: SyntaxWarning: invalid escape sequence '\\s'\n",
      "<>:12: SyntaxWarning: invalid escape sequence '\\s'\n",
      "C:\\Users\\cheriere\\AppData\\Local\\Temp\\ipykernel_32096\\3331826224.py:12: SyntaxWarning: invalid escape sequence '\\s'\n",
      "  df = pd.read_csv(fn,  header=None, sep='\\s+', names=names)\n"
     ]
    },
    {
     "name": "stdout",
     "output_type": "stream",
     "text": [
      "170\n",
      "170\n",
      "170\n",
      "170\n",
      "170\n",
      "170\n",
      "Elapsed time: 205.5990 minutes for 6 simulations\n"
     ]
    }
   ],
   "source": [
    "import pandas as pd\n",
    "from openalea.astk.sky_irradiance import sky_irradiance\n",
    "from openalea.astk.sky_sources import sky_sources, caribu_light_sources\n",
    "from openalea.archicrop.ltfs import illuminate, mean_leaf_irradiance\n",
    "from alinea.caribu.data_samples import data_path\n",
    "\n",
    "par_inc = [value[\"Incident PAR\"] for value in daily_dynamics.values()]\n",
    "\n",
    "fn = 'climaisj.meteo'\n",
    "def meteo_day():\n",
    "    names=['station', 'year', 'month', 'day', 'julian', 'min_temp', 'max_temp', 'rad', 'Penman PET', 'rainfall', 'wind', 'pressure', 'CO2']\n",
    "    df = pd.read_csv(fn,  header=None, sep='\\s+', names=names)\n",
    "    df[\"daydate\"] = pd.to_datetime(df[[\"year\", \"month\", \"day\"]])\n",
    "    return df\n",
    "\n",
    "def year_to_season():\n",
    "    \n",
    "\n",
    "df = meteo_day()\n",
    "location ={\n",
    "'longitude': 3.87,\n",
    "'latitude': 45,\n",
    "'altitude': 56,\n",
    "'timezone': 'Europe/Paris'}\n",
    "\n",
    "# print([d for d in df.itertuples()])\n",
    "\n",
    "# irr = sky_irradiance()\n",
    "# sun, sky = sky_sources(sky_type='clear_sky', sky_irradiance=irr, scale='ppfd')\n",
    "# lights = caribu_light_sources(sun, sky)\n",
    "\n",
    "nice_green = Color3((50,100,0))\n",
    "\n",
    "inter_plant = (100 / inter_row / sowing_density)*100 \n",
    "domain = ((-0.5*inter_row, -0.5*inter_plant), (0.5*inter_row, 0.5*inter_plant))\n",
    "\n",
    "par_caribu = []\n",
    "\n",
    "scenes = []\n",
    "\n",
    "start_time = t.time()\n",
    "\n",
    "for mtgs in fitting_sim['mtg']:\n",
    "    scenes_tmp = []\n",
    "    aggs_tmp = []\n",
    "    count = 0\n",
    "    print(len(mtgs))\n",
    "    # for mtg, par in zip(mtgs[-2:-1], par_inc[-2:-1]):\n",
    "    for mtg,row in zip(mtgs,df.itertuples()):\n",
    "        # count += 1\n",
    "        # if count%5==0:\n",
    "        irr = sky_irradiance(daydate=row.daydate, day_ghi=row.rad, **location)\n",
    "        sun, sky = sky_sources(sky_type='clear_sky', sky_irradiance=irr, scale='global')\n",
    "        lights = caribu_light_sources(sun, sky)\n",
    "        # lights = [(par,(0,0,-1))]\n",
    "        \n",
    "        scene, labels = build_scene(mtg, (0,0,0), leaf_material=Material(nice_green), stem_material=Material(nice_green), senescence=False)\n",
    "        cs, raw, agg = illuminate(scene, light=lights, labels=labels, domain=domain)\n",
    "        aggs_tmp.append(agg)\n",
    "        scenes_tmp.append(cs.plot(raw, display=False)[0])\n",
    "        # print((t.time() - start_time)/60)\n",
    "    par_caribu.append(aggs_tmp)\n",
    "    scenes.append(scenes_tmp)\n",
    "\n",
    "end_time = t.time()\n",
    "\n",
    "elapsed_time = (end_time - start_time)/60\n",
    "print(f\"Elapsed time: {elapsed_time:.4f} minutes for {len(fitting_sim['mtg'])} simulations\")"
   ]
  },
  {
   "cell_type": "code",
   "execution_count": 15,
   "id": "a2056fa1-0907-423f-add4-e12c4eccb175",
   "metadata": {},
   "outputs": [],
   "source": [
    "par_stics = [value[\"Absorbed PAR\"] for value in daily_dynamics.values()]\n",
    "\n",
    "nrj_per_leaf = []\n",
    "irr_per_plant = []\n",
    "\n",
    "for case in par_caribu:\n",
    "    nrj_tmp = []\n",
    "    irr_tmp = []\n",
    "    for df in case:\n",
    "        df_mod = mean_leaf_irradiance(df)\n",
    "        nrj_tmp.append(df.loc[df['label'] == 'Leaf']['Energy'].values)\n",
    "        irr_tmp.append(df_mod['Irradiance'].values[0])\n",
    "    nrj_per_leaf.append(nrj_tmp)\n",
    "    irr_per_plant.append(irr_tmp)"
   ]
  },
  {
   "cell_type": "code",
   "execution_count": 64,
   "id": "b4c15595-4a01-4210-8cb1-cd68d2548bda",
   "metadata": {},
   "outputs": [
    {
     "data": {
      "text/html": [
       "<div>\n",
       "<style scoped>\n",
       "    .dataframe tbody tr th:only-of-type {\n",
       "        vertical-align: middle;\n",
       "    }\n",
       "\n",
       "    .dataframe tbody tr th {\n",
       "        vertical-align: top;\n",
       "    }\n",
       "\n",
       "    .dataframe thead th {\n",
       "        text-align: right;\n",
       "    }\n",
       "</style>\n",
       "<table border=\"1\" class=\"dataframe\">\n",
       "  <thead>\n",
       "    <tr style=\"text-align: right;\">\n",
       "      <th></th>\n",
       "      <th>plant</th>\n",
       "      <th>vid</th>\n",
       "      <th>label</th>\n",
       "      <th>is_green</th>\n",
       "      <th>index</th>\n",
       "      <th>Eabs</th>\n",
       "      <th>Ei</th>\n",
       "      <th>area</th>\n",
       "      <th>Energy</th>\n",
       "    </tr>\n",
       "  </thead>\n",
       "  <tbody>\n",
       "    <tr>\n",
       "      <th>0</th>\n",
       "      <td>0</td>\n",
       "      <td>3</td>\n",
       "      <td>Stem</td>\n",
       "      <td>True</td>\n",
       "      <td>3</td>\n",
       "      <td>0.007212</td>\n",
       "      <td>0.008290</td>\n",
       "      <td>0.001207</td>\n",
       "      <td>0.000009</td>\n",
       "    </tr>\n",
       "    <tr>\n",
       "      <th>1</th>\n",
       "      <td>0</td>\n",
       "      <td>4</td>\n",
       "      <td>Leaf</td>\n",
       "      <td>True</td>\n",
       "      <td>4</td>\n",
       "      <td>0.290905</td>\n",
       "      <td>0.334373</td>\n",
       "      <td>0.000714</td>\n",
       "      <td>0.000208</td>\n",
       "    </tr>\n",
       "    <tr>\n",
       "      <th>2</th>\n",
       "      <td>0</td>\n",
       "      <td>5</td>\n",
       "      <td>Stem</td>\n",
       "      <td>True</td>\n",
       "      <td>5</td>\n",
       "      <td>0.035539</td>\n",
       "      <td>0.040849</td>\n",
       "      <td>0.001142</td>\n",
       "      <td>0.000041</td>\n",
       "    </tr>\n",
       "    <tr>\n",
       "      <th>3</th>\n",
       "      <td>0</td>\n",
       "      <td>6</td>\n",
       "      <td>Leaf</td>\n",
       "      <td>True</td>\n",
       "      <td>6</td>\n",
       "      <td>0.212502</td>\n",
       "      <td>0.244255</td>\n",
       "      <td>0.000028</td>\n",
       "      <td>0.000006</td>\n",
       "    </tr>\n",
       "    <tr>\n",
       "      <th>4</th>\n",
       "      <td>0</td>\n",
       "      <td>7</td>\n",
       "      <td>Stem</td>\n",
       "      <td>True</td>\n",
       "      <td>7</td>\n",
       "      <td>0.198227</td>\n",
       "      <td>0.227847</td>\n",
       "      <td>0.001070</td>\n",
       "      <td>0.000212</td>\n",
       "    </tr>\n",
       "    <tr>\n",
       "      <th>5</th>\n",
       "      <td>0</td>\n",
       "      <td>8</td>\n",
       "      <td>Leaf</td>\n",
       "      <td>True</td>\n",
       "      <td>8</td>\n",
       "      <td>0.774985</td>\n",
       "      <td>0.890787</td>\n",
       "      <td>0.000936</td>\n",
       "      <td>0.000725</td>\n",
       "    </tr>\n",
       "    <tr>\n",
       "      <th>6</th>\n",
       "      <td>0</td>\n",
       "      <td>9</td>\n",
       "      <td>Stem</td>\n",
       "      <td>True</td>\n",
       "      <td>9</td>\n",
       "      <td>0.185189</td>\n",
       "      <td>0.212861</td>\n",
       "      <td>0.000961</td>\n",
       "      <td>0.000178</td>\n",
       "    </tr>\n",
       "    <tr>\n",
       "      <th>7</th>\n",
       "      <td>0</td>\n",
       "      <td>10</td>\n",
       "      <td>Leaf</td>\n",
       "      <td>True</td>\n",
       "      <td>10</td>\n",
       "      <td>0.117480</td>\n",
       "      <td>0.135035</td>\n",
       "      <td>0.000205</td>\n",
       "      <td>0.000024</td>\n",
       "    </tr>\n",
       "    <tr>\n",
       "      <th>8</th>\n",
       "      <td>0</td>\n",
       "      <td>11</td>\n",
       "      <td>Stem</td>\n",
       "      <td>True</td>\n",
       "      <td>11</td>\n",
       "      <td>0.189565</td>\n",
       "      <td>0.217891</td>\n",
       "      <td>0.015602</td>\n",
       "      <td>0.002958</td>\n",
       "    </tr>\n",
       "    <tr>\n",
       "      <th>9</th>\n",
       "      <td>0</td>\n",
       "      <td>12</td>\n",
       "      <td>Leaf</td>\n",
       "      <td>True</td>\n",
       "      <td>12</td>\n",
       "      <td>0.322995</td>\n",
       "      <td>0.371259</td>\n",
       "      <td>0.006399</td>\n",
       "      <td>0.002067</td>\n",
       "    </tr>\n",
       "    <tr>\n",
       "      <th>10</th>\n",
       "      <td>0</td>\n",
       "      <td>13</td>\n",
       "      <td>Stem</td>\n",
       "      <td>True</td>\n",
       "      <td>13</td>\n",
       "      <td>0.144213</td>\n",
       "      <td>0.165762</td>\n",
       "      <td>0.015598</td>\n",
       "      <td>0.002249</td>\n",
       "    </tr>\n",
       "    <tr>\n",
       "      <th>11</th>\n",
       "      <td>0</td>\n",
       "      <td>14</td>\n",
       "      <td>Leaf</td>\n",
       "      <td>True</td>\n",
       "      <td>14</td>\n",
       "      <td>0.310015</td>\n",
       "      <td>0.356339</td>\n",
       "      <td>0.021493</td>\n",
       "      <td>0.006663</td>\n",
       "    </tr>\n",
       "    <tr>\n",
       "      <th>12</th>\n",
       "      <td>0</td>\n",
       "      <td>15</td>\n",
       "      <td>Stem</td>\n",
       "      <td>True</td>\n",
       "      <td>15</td>\n",
       "      <td>0.356266</td>\n",
       "      <td>0.409501</td>\n",
       "      <td>0.014819</td>\n",
       "      <td>0.005279</td>\n",
       "    </tr>\n",
       "    <tr>\n",
       "      <th>13</th>\n",
       "      <td>0</td>\n",
       "      <td>16</td>\n",
       "      <td>Leaf</td>\n",
       "      <td>True</td>\n",
       "      <td>16</td>\n",
       "      <td>0.288895</td>\n",
       "      <td>0.332063</td>\n",
       "      <td>0.039087</td>\n",
       "      <td>0.011292</td>\n",
       "    </tr>\n",
       "    <tr>\n",
       "      <th>14</th>\n",
       "      <td>0</td>\n",
       "      <td>17</td>\n",
       "      <td>Stem</td>\n",
       "      <td>True</td>\n",
       "      <td>17</td>\n",
       "      <td>0.209220</td>\n",
       "      <td>0.240483</td>\n",
       "      <td>0.013963</td>\n",
       "      <td>0.002921</td>\n",
       "    </tr>\n",
       "    <tr>\n",
       "      <th>15</th>\n",
       "      <td>0</td>\n",
       "      <td>18</td>\n",
       "      <td>Leaf</td>\n",
       "      <td>True</td>\n",
       "      <td>18</td>\n",
       "      <td>1.705924</td>\n",
       "      <td>1.960832</td>\n",
       "      <td>0.057247</td>\n",
       "      <td>0.097660</td>\n",
       "    </tr>\n",
       "    <tr>\n",
       "      <th>16</th>\n",
       "      <td>0</td>\n",
       "      <td>19</td>\n",
       "      <td>Stem</td>\n",
       "      <td>True</td>\n",
       "      <td>19</td>\n",
       "      <td>0.422606</td>\n",
       "      <td>0.485754</td>\n",
       "      <td>0.013007</td>\n",
       "      <td>0.005497</td>\n",
       "    </tr>\n",
       "    <tr>\n",
       "      <th>17</th>\n",
       "      <td>0</td>\n",
       "      <td>20</td>\n",
       "      <td>Leaf</td>\n",
       "      <td>True</td>\n",
       "      <td>20</td>\n",
       "      <td>5.991175</td>\n",
       "      <td>6.886408</td>\n",
       "      <td>0.068016</td>\n",
       "      <td>0.407495</td>\n",
       "    </tr>\n",
       "    <tr>\n",
       "      <th>18</th>\n",
       "      <td>0</td>\n",
       "      <td>21</td>\n",
       "      <td>Stem</td>\n",
       "      <td>True</td>\n",
       "      <td>21</td>\n",
       "      <td>1.590119</td>\n",
       "      <td>1.827723</td>\n",
       "      <td>0.011138</td>\n",
       "      <td>0.017711</td>\n",
       "    </tr>\n",
       "    <tr>\n",
       "      <th>19</th>\n",
       "      <td>0</td>\n",
       "      <td>22</td>\n",
       "      <td>Leaf</td>\n",
       "      <td>True</td>\n",
       "      <td>22</td>\n",
       "      <td>11.790390</td>\n",
       "      <td>13.552173</td>\n",
       "      <td>0.070335</td>\n",
       "      <td>0.829278</td>\n",
       "    </tr>\n",
       "    <tr>\n",
       "      <th>20</th>\n",
       "      <td>0</td>\n",
       "      <td>23</td>\n",
       "      <td>Stem</td>\n",
       "      <td>True</td>\n",
       "      <td>23</td>\n",
       "      <td>3.828594</td>\n",
       "      <td>4.400683</td>\n",
       "      <td>0.009662</td>\n",
       "      <td>0.036993</td>\n",
       "    </tr>\n",
       "    <tr>\n",
       "      <th>21</th>\n",
       "      <td>0</td>\n",
       "      <td>24</td>\n",
       "      <td>Leaf</td>\n",
       "      <td>True</td>\n",
       "      <td>24</td>\n",
       "      <td>16.214920</td>\n",
       "      <td>18.637840</td>\n",
       "      <td>0.059565</td>\n",
       "      <td>0.965846</td>\n",
       "    </tr>\n",
       "    <tr>\n",
       "      <th>22</th>\n",
       "      <td>0</td>\n",
       "      <td>25</td>\n",
       "      <td>Stem</td>\n",
       "      <td>True</td>\n",
       "      <td>25</td>\n",
       "      <td>5.682636</td>\n",
       "      <td>6.531765</td>\n",
       "      <td>0.008314</td>\n",
       "      <td>0.047245</td>\n",
       "    </tr>\n",
       "    <tr>\n",
       "      <th>23</th>\n",
       "      <td>0</td>\n",
       "      <td>26</td>\n",
       "      <td>Leaf</td>\n",
       "      <td>True</td>\n",
       "      <td>26</td>\n",
       "      <td>30.856136</td>\n",
       "      <td>35.466823</td>\n",
       "      <td>0.041579</td>\n",
       "      <td>1.282954</td>\n",
       "    </tr>\n",
       "    <tr>\n",
       "      <th>24</th>\n",
       "      <td>0</td>\n",
       "      <td>27</td>\n",
       "      <td>Stem</td>\n",
       "      <td>True</td>\n",
       "      <td>27</td>\n",
       "      <td>12.595343</td>\n",
       "      <td>14.477406</td>\n",
       "      <td>0.007625</td>\n",
       "      <td>0.096041</td>\n",
       "    </tr>\n",
       "    <tr>\n",
       "      <th>25</th>\n",
       "      <td>0</td>\n",
       "      <td>28</td>\n",
       "      <td>Leaf</td>\n",
       "      <td>True</td>\n",
       "      <td>28</td>\n",
       "      <td>72.417714</td>\n",
       "      <td>83.238751</td>\n",
       "      <td>0.020506</td>\n",
       "      <td>1.484977</td>\n",
       "    </tr>\n",
       "    <tr>\n",
       "      <th>26</th>\n",
       "      <td>0</td>\n",
       "      <td>29</td>\n",
       "      <td>Stem</td>\n",
       "      <td>True</td>\n",
       "      <td>29</td>\n",
       "      <td>30.309436</td>\n",
       "      <td>34.838432</td>\n",
       "      <td>0.006910</td>\n",
       "      <td>0.209434</td>\n",
       "    </tr>\n",
       "    <tr>\n",
       "      <th>27</th>\n",
       "      <td>0</td>\n",
       "      <td>30</td>\n",
       "      <td>Leaf</td>\n",
       "      <td>True</td>\n",
       "      <td>30</td>\n",
       "      <td>52.617786</td>\n",
       "      <td>60.480213</td>\n",
       "      <td>0.001208</td>\n",
       "      <td>0.063566</td>\n",
       "    </tr>\n",
       "  </tbody>\n",
       "</table>\n",
       "</div>"
      ],
      "text/plain": [
       "    plant  vid label  is_green  index       Eabs         Ei      area  \\\n",
       "0       0    3  Stem      True      3   0.007212   0.008290  0.001207   \n",
       "1       0    4  Leaf      True      4   0.290905   0.334373  0.000714   \n",
       "2       0    5  Stem      True      5   0.035539   0.040849  0.001142   \n",
       "3       0    6  Leaf      True      6   0.212502   0.244255  0.000028   \n",
       "4       0    7  Stem      True      7   0.198227   0.227847  0.001070   \n",
       "5       0    8  Leaf      True      8   0.774985   0.890787  0.000936   \n",
       "6       0    9  Stem      True      9   0.185189   0.212861  0.000961   \n",
       "7       0   10  Leaf      True     10   0.117480   0.135035  0.000205   \n",
       "8       0   11  Stem      True     11   0.189565   0.217891  0.015602   \n",
       "9       0   12  Leaf      True     12   0.322995   0.371259  0.006399   \n",
       "10      0   13  Stem      True     13   0.144213   0.165762  0.015598   \n",
       "11      0   14  Leaf      True     14   0.310015   0.356339  0.021493   \n",
       "12      0   15  Stem      True     15   0.356266   0.409501  0.014819   \n",
       "13      0   16  Leaf      True     16   0.288895   0.332063  0.039087   \n",
       "14      0   17  Stem      True     17   0.209220   0.240483  0.013963   \n",
       "15      0   18  Leaf      True     18   1.705924   1.960832  0.057247   \n",
       "16      0   19  Stem      True     19   0.422606   0.485754  0.013007   \n",
       "17      0   20  Leaf      True     20   5.991175   6.886408  0.068016   \n",
       "18      0   21  Stem      True     21   1.590119   1.827723  0.011138   \n",
       "19      0   22  Leaf      True     22  11.790390  13.552173  0.070335   \n",
       "20      0   23  Stem      True     23   3.828594   4.400683  0.009662   \n",
       "21      0   24  Leaf      True     24  16.214920  18.637840  0.059565   \n",
       "22      0   25  Stem      True     25   5.682636   6.531765  0.008314   \n",
       "23      0   26  Leaf      True     26  30.856136  35.466823  0.041579   \n",
       "24      0   27  Stem      True     27  12.595343  14.477406  0.007625   \n",
       "25      0   28  Leaf      True     28  72.417714  83.238751  0.020506   \n",
       "26      0   29  Stem      True     29  30.309436  34.838432  0.006910   \n",
       "27      0   30  Leaf      True     30  52.617786  60.480213  0.001208   \n",
       "\n",
       "      Energy  \n",
       "0   0.000009  \n",
       "1   0.000208  \n",
       "2   0.000041  \n",
       "3   0.000006  \n",
       "4   0.000212  \n",
       "5   0.000725  \n",
       "6   0.000178  \n",
       "7   0.000024  \n",
       "8   0.002958  \n",
       "9   0.002067  \n",
       "10  0.002249  \n",
       "11  0.006663  \n",
       "12  0.005279  \n",
       "13  0.011292  \n",
       "14  0.002921  \n",
       "15  0.097660  \n",
       "16  0.005497  \n",
       "17  0.407495  \n",
       "18  0.017711  \n",
       "19  0.829278  \n",
       "20  0.036993  \n",
       "21  0.965846  \n",
       "22  0.047245  \n",
       "23  1.282954  \n",
       "24  0.096041  \n",
       "25  1.484977  \n",
       "26  0.209434  \n",
       "27  0.063566  "
      ]
     },
     "execution_count": 64,
     "metadata": {},
     "output_type": "execute_result"
    }
   ],
   "source": [
    "df"
   ]
  },
  {
   "cell_type": "code",
   "execution_count": 32,
   "id": "188f64c7-9949-4a82-af21-c51dcf30b16b",
   "metadata": {
    "scrolled": true
   },
   "outputs": [
    {
     "name": "stdout",
     "output_type": "stream",
     "text": [
      "6\n",
      "170\n",
      "14\n"
     ]
    },
    {
     "data": {
      "text/plain": [
       "[[8.216e-08,\n",
       "  3.822147e-06,\n",
       "  2.5914336000000002e-05,\n",
       "  3.4635405e-05,\n",
       "  3.0041050000000003e-05,\n",
       "  6.703522800000001e-05,\n",
       "  0.00034058428399999995,\n",
       "  0.000582201798,\n",
       "  0.000562428256,\n",
       "  0.000477952168,\n",
       "  0.000947814099,\n",
       "  0.0035142527949999997,\n",
       "  0.002873483314,\n",
       "  0.004115421783,\n",
       "  0.005877858985,\n",
       "  0.00812822029,\n",
       "  0.00882740774,\n",
       "  0.015396045253,\n",
       "  0.020213394081,\n",
       "  0.016629069732,\n",
       "  0.022683781496,\n",
       "  0.007491792979,\n",
       "  0.03285413737,\n",
       "  0.055269414422,\n",
       "  0.042140689198,\n",
       "  0.031878744408,\n",
       "  0.053544862335,\n",
       "  0.09433182285700001,\n",
       "  0.21739985184900001,\n",
       "  0.368223220169,\n",
       "  0.121594582594,\n",
       "  0.5642054539970001,\n",
       "  0.172040629525,\n",
       "  0.31024216925400006,\n",
       "  0.40318936593000004,\n",
       "  0.6738903974370001,\n",
       "  0.270490970268,\n",
       "  0.40953313441899997,\n",
       "  0.8777775556169999,\n",
       "  0.858132701313,\n",
       "  0.8558130058250001,\n",
       "  1.01170611195,\n",
       "  0.590169590809,\n",
       "  0.9186666021759999,\n",
       "  0.256893147927,\n",
       "  1.4275598366030002,\n",
       "  0.37595882401,\n",
       "  0.596988961446,\n",
       "  0.235129492743,\n",
       "  0.5448794396259999,\n",
       "  0.5867632191140001,\n",
       "  1.1637128671549999,\n",
       "  1.1106512522060001,\n",
       "  1.138012066159,\n",
       "  0.65314514847,\n",
       "  1.6958776905010002,\n",
       "  0.40691907883199996,\n",
       "  1.011468832532,\n",
       "  0.7781435128299999,\n",
       "  0.6665381775069998,\n",
       "  1.9152029938710002,\n",
       "  2.053336542027,\n",
       "  0.538361855971,\n",
       "  2.2863144092409997,\n",
       "  0.9194777840589999,\n",
       "  0.47177533266500005,\n",
       "  1.4921164488180003,\n",
       "  0.655250432996,\n",
       "  2.6072887728699996,\n",
       "  2.73312664897,\n",
       "  2.8432555784590003,\n",
       "  2.368933768055,\n",
       "  2.4441454434559997,\n",
       "  2.118629357099,\n",
       "  0.5602664625570001,\n",
       "  1.673339951514,\n",
       "  3.135105618176,\n",
       "  2.268260369106,\n",
       "  3.0038619346910003,\n",
       "  2.3975099931679997,\n",
       "  2.291220964809,\n",
       "  3.107912266212,\n",
       "  3.0779433136010006,\n",
       "  2.560596079243,\n",
       "  3.2478428193249997,\n",
       "  0.535958194976,\n",
       "  1.4862089188589998,\n",
       "  3.4536363351520003,\n",
       "  2.8251371143229997,\n",
       "  2.659034089269,\n",
       "  3.150395665152,\n",
       "  1.310754416848,\n",
       "  4.4213176787720005,\n",
       "  3.5387868119120003,\n",
       "  4.1797975963,\n",
       "  4.340729694908,\n",
       "  4.216159377297,\n",
       "  3.7155132227109995,\n",
       "  3.703998693926,\n",
       "  4.089139309774,\n",
       "  1.4011283034870001,\n",
       "  2.34285005241,\n",
       "  4.237736493403,\n",
       "  2.316334264511,\n",
       "  2.0621122561900003,\n",
       "  4.340716518045,\n",
       "  3.504052701669,\n",
       "  3.126627629971,\n",
       "  3.160153163103,\n",
       "  4.172436534360999,\n",
       "  4.0481176479559995,\n",
       "  3.384504423027,\n",
       "  2.87521756598,\n",
       "  3.2731240040119998,\n",
       "  4.156605526602999,\n",
       "  4.356595301381001,\n",
       "  4.9360487296099995,\n",
       "  3.179595803572,\n",
       "  3.080503081259,\n",
       "  4.105698622467999,\n",
       "  2.8098199007190003,\n",
       "  2.448399410456,\n",
       "  2.5787948680549997,\n",
       "  1.713003691253,\n",
       "  3.8335390507929996,\n",
       "  5.096360338397,\n",
       "  3.9599901834809996,\n",
       "  2.4224636932059997,\n",
       "  2.604714009556,\n",
       "  2.7706807091409997,\n",
       "  4.526975580572,\n",
       "  3.725905982395,\n",
       "  2.480222510152,\n",
       "  2.796821817791,\n",
       "  4.06634495512,\n",
       "  3.093640914078,\n",
       "  3.356393591648,\n",
       "  3.162009466719,\n",
       "  3.032879887342,\n",
       "  4.059230861422,\n",
       "  2.8132951652709997,\n",
       "  3.767370361909,\n",
       "  3.634376504338,\n",
       "  1.9941491700690002,\n",
       "  4.163429324189001,\n",
       "  0.4971848140899999,\n",
       "  1.7777782320129998,\n",
       "  1.6346391518569998,\n",
       "  3.5531663214649996,\n",
       "  5.37498361749,\n",
       "  5.0855239669820005,\n",
       "  2.1122966305100004,\n",
       "  2.8448180012129995,\n",
       "  3.968349816801,\n",
       "  4.793429390637,\n",
       "  5.3035468870789995,\n",
       "  5.299505410539,\n",
       "  5.081097248661,\n",
       "  4.965395936777,\n",
       "  3.1252301961450004,\n",
       "  4.530529396811,\n",
       "  4.372288704111,\n",
       "  4.714850959907,\n",
       "  4.6188138993750005,\n",
       "  5.411356617478999,\n",
       "  5.344020801970001,\n",
       "  5.31380337613,\n",
       "  5.286608238483,\n",
       "  5.129119888358,\n",
       "  4.790845545391],\n",
       " [1.6698000000000003e-07,\n",
       "  4.669522e-06,\n",
       "  3.1386159e-05,\n",
       "  3.9514323999999994e-05,\n",
       "  3.469958e-05,\n",
       "  8.099184e-05,\n",
       "  0.000402883038,\n",
       "  0.0006776892719999999,\n",
       "  0.000642028868,\n",
       "  0.000533650349,\n",
       "  0.001045075044,\n",
       "  0.0038721296440000002,\n",
       "  0.0031106133530000002,\n",
       "  0.0044498146,\n",
       "  0.0062179625270000006,\n",
       "  0.008537273225,\n",
       "  0.009092955041,\n",
       "  0.015761760895,\n",
       "  0.020398430045,\n",
       "  0.016705763895,\n",
       "  0.022492317595000002,\n",
       "  0.007393934021,\n",
       "  0.032027804205,\n",
       "  0.054110364095,\n",
       "  0.041531799506,\n",
       "  0.031864890799000005,\n",
       "  0.053800159125999995,\n",
       "  0.096120350698,\n",
       "  0.22656940956899999,\n",
       "  0.383910335327,\n",
       "  0.125322835059,\n",
       "  0.573722219717,\n",
       "  0.173637285315,\n",
       "  0.31403198513599995,\n",
       "  0.40814462236700005,\n",
       "  0.6809174094420001,\n",
       "  0.273605919383,\n",
       "  0.416343255492,\n",
       "  0.889120014298,\n",
       "  0.87176208097,\n",
       "  0.8682202913799999,\n",
       "  1.027896654546,\n",
       "  0.600459074857,\n",
       "  0.940791899238,\n",
       "  0.26243958638099996,\n",
       "  1.4497260692020002,\n",
       "  0.387416311363,\n",
       "  0.613110913039,\n",
       "  0.240102480767,\n",
       "  0.559424060161,\n",
       "  0.606821284063,\n",
       "  1.1944869218870002,\n",
       "  1.1389804625539999,\n",
       "  1.186769292367,\n",
       "  0.667470668695,\n",
       "  1.741810314813,\n",
       "  0.41764948296300003,\n",
       "  1.03023094507,\n",
       "  0.7926665033540001,\n",
       "  0.679177814925,\n",
       "  1.9738265620209998,\n",
       "  2.100249457896,\n",
       "  0.550694566637,\n",
       "  2.332632335377,\n",
       "  0.9438757581919999,\n",
       "  0.482202282515,\n",
       "  1.521786111315,\n",
       "  0.672761701577,\n",
       "  2.649430246811,\n",
       "  2.816886113571,\n",
       "  2.909845589836,\n",
       "  2.427841033697,\n",
       "  2.501818536509,\n",
       "  2.1657651857189997,\n",
       "  0.5740592298980001,\n",
       "  1.710196178651,\n",
       "  3.2034360891650002,\n",
       "  2.301150291892,\n",
       "  3.054468537111,\n",
       "  2.4406802480970002,\n",
       "  2.331356230714,\n",
       "  3.151851000087,\n",
       "  3.122396712406,\n",
       "  2.5988972866539997,\n",
       "  3.2972779201580003,\n",
       "  0.544189586091,\n",
       "  1.50958526159,\n",
       "  3.507511753277,\n",
       "  2.8703810812339996,\n",
       "  2.702733378062,\n",
       "  3.2027664430239997,\n",
       "  1.3328221297040002,\n",
       "  4.493468582855,\n",
       "  3.5995269443059996,\n",
       "  4.250975200676,\n",
       "  4.414812706433,\n",
       "  4.287814892021,\n",
       "  3.7792859529600005,\n",
       "  3.768519666055,\n",
       "  4.1600996018070004,\n",
       "  1.425829560246,\n",
       "  2.3828875675749996,\n",
       "  4.3070704872,\n",
       "  2.353683254096,\n",
       "  2.09416964536,\n",
       "  4.405415666904,\n",
       "  3.555583857158,\n",
       "  3.1720260171250003,\n",
       "  3.205776967036,\n",
       "  4.2320072908399995,\n",
       "  4.106295213433,\n",
       "  3.433251489415,\n",
       "  2.916686507124,\n",
       "  3.3199202311830005,\n",
       "  4.215679631843001,\n",
       "  4.418408382582999,\n",
       "  5.004535467518,\n",
       "  3.224802300278,\n",
       "  3.124269105614,\n",
       "  4.164346083731,\n",
       "  2.85010648011,\n",
       "  2.483851737476,\n",
       "  2.61595147193,\n",
       "  1.739036103498,\n",
       "  3.891214846466,\n",
       "  5.192969464354,\n",
       "  4.0304227860049995,\n",
       "  2.452980462847,\n",
       "  2.646006488789,\n",
       "  2.8255208979399997,\n",
       "  4.63451722127,\n",
       "  3.8028944261180007,\n",
       "  2.5333493518639996,\n",
       "  2.865828462772,\n",
       "  4.150991846734,\n",
       "  3.15509321655,\n",
       "  3.4271992984040005,\n",
       "  3.2230638147690005,\n",
       "  3.0916742094779996,\n",
       "  4.139028525565,\n",
       "  2.8681415529809997,\n",
       "  3.841116137292,\n",
       "  3.696763068265,\n",
       "  2.028423224287,\n",
       "  4.235113776436,\n",
       "  0.505737554077,\n",
       "  1.808102919797,\n",
       "  1.6624995768399997,\n",
       "  3.615044242717,\n",
       "  5.476103388139999,\n",
       "  5.176809755963999,\n",
       "  2.148276617984,\n",
       "  2.893955263086,\n",
       "  4.037313163809,\n",
       "  4.877986267769,\n",
       "  5.4017164751590006,\n",
       "  5.398291172094,\n",
       "  5.156144898223,\n",
       "  5.038544410726,\n",
       "  3.1874170382139995,\n",
       "  4.608495727031,\n",
       "  4.430475298494,\n",
       "  4.776328483145,\n",
       "  4.692497232415,\n",
       "  5.504263556482999,\n",
       "  5.449840629071001,\n",
       "  5.434945991864,\n",
       "  5.3824502131030005,\n",
       "  5.201439331921,\n",
       "  4.851431158678],\n",
       " [3.2642999999999997e-08,\n",
       "  5.745952e-06,\n",
       "  3.2893749e-05,\n",
       "  4.1733403e-05,\n",
       "  3.8075795999999995e-05,\n",
       "  8.9799503e-05,\n",
       "  0.00043691945500000005,\n",
       "  0.00071271935,\n",
       "  0.0006514803889999999,\n",
       "  0.00053802027,\n",
       "  0.0010347468169999998,\n",
       "  0.0038113550129999997,\n",
       "  0.003060706016,\n",
       "  0.004300660667,\n",
       "  0.00594971618,\n",
       "  0.008003086605,\n",
       "  0.008386968157,\n",
       "  0.014564343232000001,\n",
       "  0.018542972137999998,\n",
       "  0.015010875362999998,\n",
       "  0.020224781006,\n",
       "  0.006744993063999999,\n",
       "  0.029523021028999993,\n",
       "  0.049967260702,\n",
       "  0.038376750943000006,\n",
       "  0.030010016235,\n",
       "  0.051567631445000005,\n",
       "  0.09399169142700001,\n",
       "  0.233698583465,\n",
       "  0.40689432020700006,\n",
       "  0.134019186535,\n",
       "  0.60222881314,\n",
       "  0.17465054696800003,\n",
       "  0.316529770215,\n",
       "  0.408369893756,\n",
       "  0.6866007967960001,\n",
       "  0.28087001891799995,\n",
       "  0.43010277837399996,\n",
       "  0.922313451967,\n",
       "  0.889815821102,\n",
       "  0.887462740369,\n",
       "  1.056070297792,\n",
       "  0.6150660192880001,\n",
       "  0.969496970105,\n",
       "  0.26985576742399997,\n",
       "  1.5003895996959997,\n",
       "  0.399621946795,\n",
       "  0.6312098685809999,\n",
       "  0.24831199192799996,\n",
       "  0.575583942865,\n",
       "  0.6188446017960001,\n",
       "  1.228490594479,\n",
       "  1.167040040719,\n",
       "  1.215875751147,\n",
       "  0.6901834688740001,\n",
       "  1.7822771946709999,\n",
       "  0.425843714496,\n",
       "  1.0584304706349998,\n",
       "  0.802970940783,\n",
       "  0.695873604593,\n",
       "  2.002401523078,\n",
       "  2.13142134792,\n",
       "  0.5622722617720001,\n",
       "  2.3723012584989998,\n",
       "  0.9510741299309999,\n",
       "  0.49144735525899996,\n",
       "  1.5381174528419999,\n",
       "  0.679189887576,\n",
       "  2.690223152714,\n",
       "  2.816820327446,\n",
       "  2.9511199283050003,\n",
       "  2.453470729072,\n",
       "  2.528937502866,\n",
       "  2.188506705159,\n",
       "  0.5840821446710001,\n",
       "  1.7369487628679998,\n",
       "  3.2579911954379996,\n",
       "  2.343632076563,\n",
       "  3.100526998978,\n",
       "  2.478276461108,\n",
       "  2.36752828736,\n",
       "  3.20310384176,\n",
       "  3.17357771946,\n",
       "  2.641530282821,\n",
       "  3.352527370724,\n",
       "  0.5529838288219999,\n",
       "  1.53499073617,\n",
       "  3.5699488858789996,\n",
       "  2.9208631033929997,\n",
       "  2.750683094569,\n",
       "  3.2609416917339997,\n",
       "  1.356797151051,\n",
       "  4.587678319999,\n",
       "  3.6674772709720003,\n",
       "  4.338670853572999,\n",
       "  4.508671566783001,\n",
       "  4.377630718649,\n",
       "  3.855137686059,\n",
       "  3.844666702683,\n",
       "  4.24749855002,\n",
       "  1.454384992454,\n",
       "  2.431325008967,\n",
       "  4.400124334661999,\n",
       "  2.402519122095,\n",
       "  2.137953709245,\n",
       "  4.503696393492,\n",
       "  3.630650566847,\n",
       "  3.239661986824,\n",
       "  3.2742863848440003,\n",
       "  4.324918956747,\n",
       "  4.196087256015,\n",
       "  3.5055735054299997,\n",
       "  2.977344270595,\n",
       "  3.3885067928529997,\n",
       "  4.305187528787,\n",
       "  4.511805461412,\n",
       "  5.117346274391,\n",
       "  3.290176424557,\n",
       "  3.187127586812,\n",
       "  4.251603940695,\n",
       "  2.907774925595,\n",
       "  2.533960144721,\n",
       "  2.669298366234,\n",
       "  1.773556627609,\n",
       "  3.969289961527,\n",
       "  5.306068164206,\n",
       "  4.112126008093,\n",
       "  2.509311644904,\n",
       "  2.6987115503389996,\n",
       "  2.884020903393,\n",
       "  4.71526230823,\n",
       "  3.9020714281519995,\n",
       "  2.5994692313980003,\n",
       "  2.916887811153,\n",
       "  4.251345258925,\n",
       "  3.230411963073,\n",
       "  3.488270189093,\n",
       "  3.297553375771,\n",
       "  3.162871123314,\n",
       "  4.236362015997,\n",
       "  2.934225250349,\n",
       "  3.93217803869,\n",
       "  3.788881795928,\n",
       "  2.077861823801,\n",
       "  4.341623443272001,\n",
       "  0.518016038988,\n",
       "  1.852594413766,\n",
       "  1.703424417212,\n",
       "  3.7057097982469998,\n",
       "  5.629279324376,\n",
       "  5.313876042993,\n",
       "  2.201567968678,\n",
       "  2.966416449612,\n",
       "  4.139644775865,\n",
       "  5.002066194188,\n",
       "  5.549203765757,\n",
       "  5.545939383795,\n",
       "  5.334866377850999,\n",
       "  5.21019635162,\n",
       "  3.2686499544489998,\n",
       "  4.752153120636001,\n",
       "  4.601417092664,\n",
       "  4.958259605324,\n",
       "  4.872053144244,\n",
       "  5.761899264644001,\n",
       "  5.692144023769,\n",
       "  5.678291488628,\n",
       "  5.661444193382001,\n",
       "  5.481654519411,\n",
       "  5.102067834022],\n",
       " [3.0166799999999997e-07,\n",
       "  5.224808e-06,\n",
       "  3.1447053000000004e-05,\n",
       "  4.1239968e-05,\n",
       "  3.7690487999999995e-05,\n",
       "  8.905512e-05,\n",
       "  0.000432311589,\n",
       "  0.000699302667,\n",
       "  0.000628031883,\n",
       "  0.000515037994,\n",
       "  0.0009775408729999998,\n",
       "  0.0036355283120000003,\n",
       "  0.002912233913,\n",
       "  0.0040751707409999996,\n",
       "  0.005591218185,\n",
       "  0.007468999304,\n",
       "  0.0077902120770000005,\n",
       "  0.013457402016,\n",
       "  0.017089000871,\n",
       "  0.013821977329,\n",
       "  0.018449945732999996,\n",
       "  0.006222714038,\n",
       "  0.027284730363,\n",
       "  0.046428867977,\n",
       "  0.035947751278,\n",
       "  0.028274840224,\n",
       "  0.04882853248,\n",
       "  0.089569062266,\n",
       "  0.22841364103799996,\n",
       "  0.409278540442,\n",
       "  0.13908260803699998,\n",
       "  0.615857764908,\n",
       "  0.17934613178000003,\n",
       "  0.31713595688400004,\n",
       "  0.41637482925499997,\n",
       "  0.6943855923379999,\n",
       "  0.276088279344,\n",
       "  0.4210513306390001,\n",
       "  0.9045346389490001,\n",
       "  0.8912015408630001,\n",
       "  0.9028431182969999,\n",
       "  1.082764052663,\n",
       "  0.631799771471,\n",
       "  0.985286048645,\n",
       "  0.27494081009,\n",
       "  1.520315986935,\n",
       "  0.405258805918,\n",
       "  0.636508723599,\n",
       "  0.24971656198,\n",
       "  0.5804388220879999,\n",
       "  0.625990325187,\n",
       "  1.223925765508,\n",
       "  1.177676927837,\n",
       "  1.22879612084,\n",
       "  0.692908769569,\n",
       "  1.778538180914,\n",
       "  0.43071953528,\n",
       "  1.0649250314460001,\n",
       "  0.8172804923810002,\n",
       "  0.702742324907,\n",
       "  2.00994736087,\n",
       "  2.1545823710459997,\n",
       "  0.561408111871,\n",
       "  2.396454676337,\n",
       "  0.959220288355,\n",
       "  0.488687057966,\n",
       "  1.5237195717460001,\n",
       "  0.681209494972,\n",
       "  2.712003533351,\n",
       "  2.856722963826,\n",
       "  2.9489433747689997,\n",
       "  2.4636539678380003,\n",
       "  2.5363092438549995,\n",
       "  2.201391495515,\n",
       "  0.581675033046,\n",
       "  1.7415734464080002,\n",
       "  3.259694660955,\n",
       "  2.34508498918,\n",
       "  3.102773914218,\n",
       "  2.480274288807,\n",
       "  2.370304118757,\n",
       "  3.2065488778640003,\n",
       "  3.1770583007710003,\n",
       "  2.644963489997,\n",
       "  3.356633701777,\n",
       "  0.554080087439,\n",
       "  1.537554072311,\n",
       "  3.574740016581,\n",
       "  2.925289902167,\n",
       "  2.755039388647,\n",
       "  3.266361408939,\n",
       "  1.3594640600080001,\n",
       "  4.5907627981729995,\n",
       "  3.6738995611500003,\n",
       "  4.343352932547,\n",
       "  4.512597744798001,\n",
       "  4.383555248825,\n",
       "  3.862551559056,\n",
       "  3.852436279009,\n",
       "  4.254842662638,\n",
       "  1.458024687193,\n",
       "  2.4369624293239998,\n",
       "  4.409323766347001,\n",
       "  2.4086153565,\n",
       "  2.143696771956,\n",
       "  4.513668305559,\n",
       "  3.641333780956,\n",
       "  3.248623729427,\n",
       "  3.2834248580559997,\n",
       "  4.335917049502,\n",
       "  4.206392359127,\n",
       "  3.515344948357,\n",
       "  2.986023500648,\n",
       "  3.398915906714,\n",
       "  4.317375259453,\n",
       "  4.524358155384,\n",
       "  5.129440315192001,\n",
       "  3.3005826090120003,\n",
       "  3.197823128955,\n",
       "  4.263398803564,\n",
       "  2.916097007717,\n",
       "  2.541339691148,\n",
       "  2.676815517942,\n",
       "  1.779019548678,\n",
       "  3.9819603093400002,\n",
       "  5.322378311261,\n",
       "  4.126827203801,\n",
       "  2.5188459060520003,\n",
       "  2.707568697434,\n",
       "  2.894397388116,\n",
       "  4.732047883106,\n",
       "  3.899892732285,\n",
       "  2.6090306875670004,\n",
       "  2.92952008627,\n",
       "  4.26371465187,\n",
       "  3.2435040179590002,\n",
       "  3.528841631984,\n",
       "  3.313779570806,\n",
       "  3.1791630307250003,\n",
       "  4.256825705874,\n",
       "  2.9491457841360003,\n",
       "  3.951304510208,\n",
       "  3.838361852104,\n",
       "  2.1054691419100005,\n",
       "  4.398043396816,\n",
       "  0.524861612332,\n",
       "  1.8768174064840002,\n",
       "  1.725866300151,\n",
       "  3.7538106172630004,\n",
       "  5.693001494042,\n",
       "  5.3784357256429995,\n",
       "  2.2302373954370003,\n",
       "  3.00495738799,\n",
       "  4.193021200441001,\n",
       "  5.065939917902,\n",
       "  5.614966592444,\n",
       "  5.610775319895,\n",
       "  5.366683605092,\n",
       "  5.242911197431001,\n",
       "  3.300530099884,\n",
       "  4.810275257208,\n",
       "  4.641572301454,\n",
       "  5.00765554232,\n",
       "  4.925241798747,\n",
       "  5.781465028026,\n",
       "  5.749327725364,\n",
       "  5.729047586954,\n",
       "  5.7028166909069995,\n",
       "  5.52913909262,\n",
       "  5.152691465041],\n",
       " [5.5796e-08,\n",
       "  2.80049e-06,\n",
       "  1.9294242000000004e-05,\n",
       "  2.4770691000000005e-05,\n",
       "  2.1226002e-05,\n",
       "  4.8954e-05,\n",
       "  0.000250495245,\n",
       "  0.0004181316,\n",
       "  0.00038860774399999997,\n",
       "  0.00033018331099999996,\n",
       "  0.000649931894,\n",
       "  0.002477166575,\n",
       "  0.002012110155,\n",
       "  0.0028663873549999996,\n",
       "  0.004043203598,\n",
       "  0.0055807440510000006,\n",
       "  0.006093015332999999,\n",
       "  0.010768694595,\n",
       "  0.014080472905999999,\n",
       "  0.011735498519,\n",
       "  0.016350246412,\n",
       "  0.0056742561670000006,\n",
       "  0.026140904444000003,\n",
       "  0.045265589356,\n",
       "  0.03530173941,\n",
       "  0.027878246830999997,\n",
       "  0.048971000907000004,\n",
       "  0.090501952014,\n",
       "  0.2266705336,\n",
       "  0.399805558711,\n",
       "  0.131068883129,\n",
       "  0.588500594322,\n",
       "  0.172223609282,\n",
       "  0.303539882068,\n",
       "  0.392347303606,\n",
       "  0.654666901716,\n",
       "  0.260806693856,\n",
       "  0.403611303605,\n",
       "  0.8707469489840001,\n",
       "  0.8511700969950001,\n",
       "  0.845248531105,\n",
       "  0.9932741558949999,\n",
       "  0.586235049603,\n",
       "  0.9216939288510001,\n",
       "  0.255982992251,\n",
       "  1.413656866038,\n",
       "  0.37630519118300004,\n",
       "  0.5954939440499999,\n",
       "  0.23233637128700002,\n",
       "  0.545557090866,\n",
       "  0.586005451618,\n",
       "  1.1557836869740001,\n",
       "  1.1016101499489999,\n",
       "  1.145072805795,\n",
       "  0.6531920875360001,\n",
       "  1.677720623031,\n",
       "  0.40147405135300007,\n",
       "  1.006602638542,\n",
       "  0.7700734221259999,\n",
       "  0.6566109431730001,\n",
       "  1.8885116702280003,\n",
       "  2.0188596504509997,\n",
       "  0.531585350268,\n",
       "  2.232431274582,\n",
       "  0.903136019592,\n",
       "  0.461106581566,\n",
       "  1.449187887188,\n",
       "  0.642862194934,\n",
       "  2.58684783185,\n",
       "  2.683167475098,\n",
       "  2.7827895213550002,\n",
       "  2.3334080166669997,\n",
       "  2.3954602152280002,\n",
       "  2.063165198621,\n",
       "  0.548711179353,\n",
       "  1.645247084605,\n",
       "  3.0849121597649996,\n",
       "  2.218620777936,\n",
       "  2.933920042974,\n",
       "  2.344010802991,\n",
       "  2.238236911972,\n",
       "  3.0264845518500003,\n",
       "  2.99800331103,\n",
       "  2.495142070288,\n",
       "  3.165483968025,\n",
       "  0.522570895333,\n",
       "  1.4482192074540001,\n",
       "  3.366039478905,\n",
       "  2.753713185594,\n",
       "  2.5924234171680003,\n",
       "  3.0719891367870003,\n",
       "  1.278353685252,\n",
       "  4.3127079123689995,\n",
       "  3.452009529154,\n",
       "  4.078957868292,\n",
       "  4.236114781724,\n",
       "  4.11382629707,\n",
       "  3.6245815655179996,\n",
       "  3.6132316682830004,\n",
       "  3.9891793849560004,\n",
       "  1.3666143168659999,\n",
       "  2.283273153428,\n",
       "  4.1273794810740005,\n",
       "  2.25431886882,\n",
       "  2.0054552892429998,\n",
       "  4.22018253646,\n",
       "  3.4044998471840002,\n",
       "  3.036103046588,\n",
       "  3.0674755523029997,\n",
       "  4.04802843239,\n",
       "  3.9261578357690006,\n",
       "  3.2808432126370004,\n",
       "  2.7866571767479997,\n",
       "  3.171411463443,\n",
       "  4.026793913161,\n",
       "  4.220537589606,\n",
       "  4.780970858236,\n",
       "  3.079978117083,\n",
       "  2.9839594410080004,\n",
       "  3.977148447864,\n",
       "  2.72154101769,\n",
       "  2.3716846199779997,\n",
       "  2.497984005922,\n",
       "  1.658796788181,\n",
       "  3.7085462110429996,\n",
       "  4.951124080588,\n",
       "  3.8486988392349994,\n",
       "  2.350249821016,\n",
       "  2.519725577981,\n",
       "  2.6858085981510005,\n",
       "  4.392943147473,\n",
       "  3.636962904529,\n",
       "  2.4084549413019998,\n",
       "  2.69588231423,\n",
       "  3.913341190894,\n",
       "  2.96401063553,\n",
       "  3.2026642302560004,\n",
       "  3.0264354836929996,\n",
       "  2.9034104972109995,\n",
       "  3.8868583261440004,\n",
       "  2.693283363499,\n",
       "  3.6079399031449997,\n",
       "  3.4476868953230007,\n",
       "  1.8919586768520003,\n",
       "  3.9494903550680003,\n",
       "  0.471955072178,\n",
       "  1.6868195356530002,\n",
       "  1.551267692509,\n",
       "  3.372336664729,\n",
       "  5.104905263678,\n",
       "  4.828128281191001,\n",
       "  2.004981904298,\n",
       "  2.7004920969610002,\n",
       "  3.7667878439180003,\n",
       "  4.5510879569,\n",
       "  5.03763222476,\n",
       "  5.034711558278,\n",
       "  4.801705874404001,\n",
       "  4.692363531335,\n",
       "  2.959453497767,\n",
       "  4.280240557308999,\n",
       "  4.130857029282,\n",
       "  4.460142273717,\n",
       "  4.374790208623001,\n",
       "  5.133101547423,\n",
       "  5.075788324147,\n",
       "  5.050239963012,\n",
       "  4.999911603374,\n",
       "  4.831819709585,\n",
       "  4.510193568411001],\n",
       " [2.4960599999999997e-07,\n",
       "  9.661120000000001e-06,\n",
       "  5.0662746e-05,\n",
       "  6.6210075e-05,\n",
       "  5.7405327000000005e-05,\n",
       "  0.00013360197600000001,\n",
       "  0.0006173339130000001,\n",
       "  0.001056818226,\n",
       "  0.0009700397730000001,\n",
       "  0.0008071928779999999,\n",
       "  0.001515710004,\n",
       "  0.005419284114,\n",
       "  0.004310948611000001,\n",
       "  0.0060508132319999994,\n",
       "  0.008416484812,\n",
       "  0.011251751273000002,\n",
       "  0.011327784357,\n",
       "  0.019058191528,\n",
       "  0.024028247769999997,\n",
       "  0.019243198869,\n",
       "  0.025297519531000002,\n",
       "  0.007809348764,\n",
       "  0.032862203419,\n",
       "  0.054773197353,\n",
       "  0.041272462791,\n",
       "  0.030724462547000002,\n",
       "  0.051466720497,\n",
       "  0.09294639656099998,\n",
       "  0.220698998953,\n",
       "  0.390030357303,\n",
       "  0.12983208844400002,\n",
       "  0.599539533572,\n",
       "  0.180444819346,\n",
       "  0.32585085596499996,\n",
       "  0.421087866465,\n",
       "  0.701835248114,\n",
       "  0.281095689065,\n",
       "  0.425501446733,\n",
       "  0.917459202069,\n",
       "  0.8951329695330001,\n",
       "  0.8951986529589999,\n",
       "  1.058555350259,\n",
       "  0.614179711121,\n",
       "  0.959091406235,\n",
       "  0.268393744108,\n",
       "  1.4817064370130002,\n",
       "  0.393908700499,\n",
       "  0.621312296212,\n",
       "  0.243910725295,\n",
       "  0.568592757899,\n",
       "  0.611758811582,\n",
       "  1.205482216662,\n",
       "  1.1531577543070002,\n",
       "  1.2068885150670001,\n",
       "  0.684425504793,\n",
       "  1.771363020043,\n",
       "  0.42598690005800005,\n",
       "  1.060759817821,\n",
       "  0.8137828627929999,\n",
       "  0.7013577605839999,\n",
       "  2.0087928223289997,\n",
       "  2.1482865544129996,\n",
       "  0.572101087259,\n",
       "  2.422433687912,\n",
       "  0.965709580661,\n",
       "  0.496672637442,\n",
       "  1.5575329985530002,\n",
       "  0.691332683605,\n",
       "  2.756729122005,\n",
       "  2.872497786241,\n",
       "  2.975586776453,\n",
       "  2.485237067747,\n",
       "  2.593468343181,\n",
       "  2.218875529079,\n",
       "  0.588701192439,\n",
       "  1.7580336638299998,\n",
       "  3.2895422556969995,\n",
       "  2.359488631766,\n",
       "  3.13068534425,\n",
       "  2.496127909005,\n",
       "  2.391168977167,\n",
       "  3.234290375391,\n",
       "  3.2042007664990004,\n",
       "  2.666934974526,\n",
       "  3.3846479836989998,\n",
       "  0.558798819533,\n",
       "  1.549769822649,\n",
       "  3.604026659782,\n",
       "  2.948344168027,\n",
       "  2.776101564363,\n",
       "  3.290707791162,\n",
       "  1.369473694698,\n",
       "  4.630962140667,\n",
       "  3.7013744909130004,\n",
       "  4.377870003852,\n",
       "  4.54915976029,\n",
       "  4.4167495638480005,\n",
       "  3.889970804459,\n",
       "  3.879139068664,\n",
       "  4.284769610398,\n",
       "  1.4675024590380001,\n",
       "  2.453440311159,\n",
       "  4.4403940333489995,\n",
       "  2.425295309498,\n",
       "  2.158360728601,\n",
       "  4.547542834629,\n",
       "  3.6676727113979997,\n",
       "  3.2724168251390005,\n",
       "  3.3075867111740003,\n",
       "  4.36923555201,\n",
       "  4.239183521839999,\n",
       "  3.54228309445,\n",
       "  3.008542845884,\n",
       "  3.42481218561,\n",
       "  4.351457007765999,\n",
       "  4.560004031523,\n",
       "  5.173046873173,\n",
       "  3.326412941145,\n",
       "  3.222958309669,\n",
       "  4.297952004272,\n",
       "  2.9399133124440002,\n",
       "  2.56175191143,\n",
       "  2.698776247265,\n",
       "  1.787826455645,\n",
       "  4.007747150648,\n",
       "  5.398188123773999,\n",
       "  4.169641473974,\n",
       "  2.543622705711,\n",
       "  2.7232648124720003,\n",
       "  2.915539269323,\n",
       "  4.7576588630179995,\n",
       "  3.9519952906360003,\n",
       "  2.646649809194,\n",
       "  2.9699563381329996,\n",
       "  4.310508747429999,\n",
       "  3.281712559149,\n",
       "  3.548837065113,\n",
       "  3.3441167739399997,\n",
       "  3.207695807856,\n",
       "  4.295683900634,\n",
       "  2.97547836506,\n",
       "  3.986760474456,\n",
       "  3.84158375242,\n",
       "  2.107030233414,\n",
       "  4.401313638423,\n",
       "  0.525138213923,\n",
       "  1.878151650641,\n",
       "  1.727305733029,\n",
       "  3.7558748318210005,\n",
       "  5.696542433634001,\n",
       "  5.381525355501,\n",
       "  2.231630081965,\n",
       "  3.005863596473,\n",
       "  4.19432540763,\n",
       "  5.068060068949,\n",
       "  5.616332971651,\n",
       "  5.612249816058,\n",
       "  5.368058626918,\n",
       "  5.244225884391,\n",
       "  3.307790983355,\n",
       "  4.788855614972,\n",
       "  4.6496715674699995,\n",
       "  5.020362367129,\n",
       "  4.925712609065,\n",
       "  5.808670724993,\n",
       "  5.751778889148,\n",
       "  5.738359584965,\n",
       "  5.688972625563001,\n",
       "  5.526037110067,\n",
       "  5.152760885269]]"
      ]
     },
     "execution_count": 32,
     "metadata": {},
     "output_type": "execute_result"
    }
   ],
   "source": [
    "print(len(nrj_per_leaf))\n",
    "print(len(nrj_per_leaf[-1]))\n",
    "print(len(nrj_per_leaf[-1][-1]))\n",
    "nrj_per_plant = [[sum(growing_plant) for growing_plant in plant] for plant in nrj_per_leaf]\n",
    "nrj_per_plant"
   ]
  },
  {
   "cell_type": "code",
   "execution_count": 17,
   "id": "85e0b4a5-6d32-4ea9-9b19-c1e5e183bc1d",
   "metadata": {},
   "outputs": [],
   "source": [
    "# Conversion\n",
    "# irr_per_plant = [[i*0.0864/4.6  for i in irr] for irr in irr_per_plant]\n",
    "# irr_per_plant"
   ]
  },
  {
   "cell_type": "code",
   "execution_count": 35,
   "id": "c000c599-c280-4771-8a01-363bd9727a32",
   "metadata": {
    "scrolled": true
   },
   "outputs": [
    {
     "data": {
      "text/plain": [
       "[6.8856,\n",
       " 11.1264,\n",
       " 9.2568,\n",
       " 6.2472,\n",
       " 7.0224,\n",
       " 10.1688,\n",
       " 7.7976,\n",
       " 8.4816,\n",
       " 8.0256,\n",
       " 7.7064,\n",
       " 10.26,\n",
       " 7.1592,\n",
       " 9.5304,\n",
       " 9.2568,\n",
       " 5.1072,\n",
       " 10.5792,\n",
       " 1.2768,\n",
       " 4.56,\n",
       " 4.1952,\n",
       " 9.0744,\n",
       " 13.3152,\n",
       " 12.8136,\n",
       " 5.4264,\n",
       " 7.296,\n",
       " 10.1232,\n",
       " 12.2208,\n",
       " 13.2696,\n",
       " 13.2696,\n",
       " 12.9048,\n",
       " 12.6768,\n",
       " 8.0712,\n",
       " 11.628,\n",
       " 11.2632,\n",
       " 12.1752,\n",
       " 11.9928,\n",
       " 13.7712,\n",
       " 13.7256,\n",
       " 13.7712,\n",
       " 13.7712,\n",
       " 13.5432,\n",
       " 12.8592,\n",
       " 10.6704,\n",
       " 10.1232,\n",
       " 2.4168,\n",
       " 10.5336,\n",
       " 10.3056,\n",
       " 11.2632,\n",
       " 7.6152,\n",
       " 8.5728,\n",
       " 12.2208,\n",
       " 12.3576,\n",
       " 10.1232,\n",
       " 13.1784,\n",
       " 5.7,\n",
       " 8.664,\n",
       " 4.0128,\n",
       " 4.4688,\n",
       " 8.1624,\n",
       " 8.6184,\n",
       " 3.2376,\n",
       " 10.3056,\n",
       " 11.0808,\n",
       " 6.156,\n",
       " 12.54,\n",
       " 11.6736,\n",
       " 10.5336,\n",
       " 12.768,\n",
       " 12.6768,\n",
       " 12.7224,\n",
       " 13.1784,\n",
       " 13.3152,\n",
       " 12.6312,\n",
       " 12.8136,\n",
       " 12.9048,\n",
       " 12.1752,\n",
       " 10.3056,\n",
       " 12.084,\n",
       " 10.8528,\n",
       " 10.9896,\n",
       " 11.4456,\n",
       " 10.7616,\n",
       " 8.3448,\n",
       " 8.1624,\n",
       " 10.716,\n",
       " 10.032,\n",
       " 8.1624,\n",
       " 11.9016,\n",
       " 9.3936,\n",
       " 4.332,\n",
       " 3.5112,\n",
       " 9.9864,\n",
       " 11.3088,\n",
       " 8.892,\n",
       " 3.0096,\n",
       " 7.1592,\n",
       " 7.7976,\n",
       " 9.5304,\n",
       " 9.5304,\n",
       " 9.9408,\n",
       " 11.172,\n",
       " 10.8072,\n",
       " 10.8072,\n",
       " 8.9832,\n",
       " 5.0616,\n",
       " 2.9184,\n",
       " 8.8008,\n",
       " 7.9344,\n",
       " 7.752,\n",
       " 6.7944,\n",
       " 8.7552,\n",
       " 8.664,\n",
       " 8.2536,\n",
       " 7.6152,\n",
       " 6.9768,\n",
       " 7.8432,\n",
       " 8.664,\n",
       " 8.8464,\n",
       " 7.7064,\n",
       " 8.9832,\n",
       " 8.7552,\n",
       " 9.3936,\n",
       " 9.6216,\n",
       " 9.6672,\n",
       " 9.1656,\n",
       " 7.9344,\n",
       " 8.664,\n",
       " 8.2992,\n",
       " 7.2048,\n",
       " 8.7096,\n",
       " 8.892,\n",
       " 8.8464,\n",
       " 7.4328,\n",
       " 3.1464,\n",
       " 1.7328,\n",
       " 6.384,\n",
       " 3.648,\n",
       " 5.472,\n",
       " 5.7456,\n",
       " 6.6576,\n",
       " 3.9216,\n",
       " 4.2408,\n",
       " 4.8336,\n",
       " 6.7944,\n",
       " 7.3416,\n",
       " 6.6576,\n",
       " 3.2832,\n",
       " 4.6056,\n",
       " 6.156,\n",
       " 2.6448,\n",
       " 6.3384,\n",
       " 5.7912,\n",
       " 6.8856,\n",
       " 3.9672,\n",
       " 4.104,\n",
       " 4.2408,\n",
       " 5.244,\n",
       " 5.7456,\n",
       " 5.0616,\n",
       " 2.1888,\n",
       " 4.7424,\n",
       " 4.788,\n",
       " 5.5632,\n",
       " 2.964,\n",
       " 3.1464,\n",
       " 4.1952,\n",
       " 1.5048,\n",
       " 5.1072,\n",
       " 5.3808,\n",
       " 4.56,\n",
       " 3.648]"
      ]
     },
     "execution_count": 35,
     "metadata": {},
     "output_type": "execute_result"
    }
   ],
   "source": [
    "par_inc"
   ]
  },
  {
   "cell_type": "code",
   "execution_count": null,
   "id": "a5cf8488-1668-44aa-8cb0-25a840796146",
   "metadata": {},
   "outputs": [],
   "source": [
    "# Energy in Caribu : W = 0.0864 MJ.day-1\n",
    "# Irradiance in Caribu : W.m-2 = 0.0864 MJ.m[leaf]-2.day-1\n",
    "# Incident PAR in STICS : MJ.m[soil]-2.day-1\n",
    "# Absorbed PAR in STICS : MJ.m[soil]-2.day-1"
   ]
  },
  {
   "cell_type": "code",
   "execution_count": 68,
   "id": "e042b76c-e138-4fb2-a894-e25158f06a58",
   "metadata": {},
   "outputs": [
    {
     "data": {
      "image/png": "[encoded data removed]",
      "text/plain": [
       "<Figure size 640x480 with 1 Axes>"
      ]
     },
     "metadata": {},
     "output_type": "display_data"
    }
   ],
   "source": [
    "curves = nrj_per_plant\n",
    "# curves_array = np.array(curves)\n",
    "\n",
    "# # Calculate the envelope: min and max values for each time point\n",
    "# min_values = curves_array.min(axis=0)\n",
    "# max_values = curves_array.max(axis=0)\n",
    "\n",
    "# Plotting the envelope along with individual curves for context\n",
    "time_points = thermal_time\n",
    "for curve in curves:\n",
    "    plt.plot(time_points, [i*sowing_density/0.0864/par for i,par in zip(curve, par_inc)], alpha=0.5, linestyle='--')  # Plot each curve (optional for visualization)\n",
    "    # plt.plot([t for c,t in enumerate(time_points) if c%5==0 and c!=0], [i/par for i,par in zip(curve, [r for c,r in enumerate(par_inc) if c%5==0 and c!=0])], color='orange', label=\"ArchiCrop x Caribu\")\n",
    "\n",
    "# plt.fill_between(time_points, min_values, max_values, color=\"skyblue\", alpha=0.4)\n",
    "# plt.plot(time_points, min_values, color=\"blue\", linestyle=\"--\", label=\"Min 3D\")\n",
    "# plt.plot(time_points, max_values, color=\"red\", linestyle=\"--\", label=\"Max 3D\")\n",
    "plt.plot(time_points, par_stics, color=\"black\", label=\"STICS\")\n",
    "# plt.scatter(time_points, LA_stics)\n",
    "\n",
    "# Labels and legend\n",
    "plt.xlabel(\"Thermal time\")\n",
    "plt.ylabel(\"Fraction of absorbed PAR\")\n",
    "plt.title(\"Fraction of absorbed PAR: 3D canopy vs. STICS\")\n",
    "plt.legend()\n",
    "plt.show()"
   ]
  },
  {
   "cell_type": "code",
   "execution_count": 72,
   "id": "c0b24b7b-6789-4cd9-a43c-fcfe836a8537",
   "metadata": {},
   "outputs": [
    {
     "data": {
      "image/png": "[encoded data removed]",
      "text/plain": [
       "<Figure size 640x480 with 1 Axes>"
      ]
     },
     "metadata": {},
     "output_type": "display_data"
    }
   ],
   "source": [
    "for curve in curves:\n",
    "    plt.plot(time_points, [i*sowing_density/0.0864 for i,par in zip(curve, par_inc)], alpha=0.5, linestyle='--')  # Plot each curve (optional for visualization)\n",
    "\n",
    "plt.plot(time_points, [i*par for i,par in zip(par_stics, par_inc)], color=\"black\", label=\"STICS\")\n",
    "# plt.plot(thermal_time, raint)\n",
    "\n",
    "# Labels and legend\n",
    "plt.xlabel(\"Thermal time\")\n",
    "plt.ylabel(\"Absorbed PAR\")\n",
    "plt.title(\"Absorbed PAR: 3D canopy vs. STICS\")\n",
    "# plt.legend()\n",
    "plt.show()"
   ]
  },
  {
   "cell_type": "code",
   "execution_count": 19,
   "id": "8d2f85c9-b34f-487d-b248-69ae35be0507",
   "metadata": {},
   "outputs": [],
   "source": [
    "# corresponding dates for par_inc STICS and meteo_day astk\n",
    "\n",
    "# senescence = True\n",
    "\n",
    "# test direct True and False"
   ]
  },
  {
   "cell_type": "markdown",
   "id": "6c9cec48-9f3c-414b-a787-d4b0f8556f30",
   "metadata": {},
   "source": [
    "$$ raint(t)=0.95⋅parsurrgG⋅trg(t)⋅(1−exp(−extinP⋅(lai(t)+eai(t)))) $$\n",
    "\n",
    "$$ parsurrgG = 0.48 $$\n",
    "\n",
    "$$ extinP(maize) = 0.7 $$"
   ]
  },
  {
   "cell_type": "code",
   "execution_count": 50,
   "id": "8eccd68f-7a2a-4e6c-a771-ae26a554370f",
   "metadata": {},
   "outputs": [
    {
     "data": {
      "image/png": "[encoded data removed]",
      "text/plain": [
       "<Figure size 640x480 with 1 Axes>"
      ]
     },
     "metadata": {},
     "output_type": "display_data"
    }
   ],
   "source": [
    "import math\n",
    "\n",
    "extinp = 0.7\n",
    "lai = [la*sowing_density/10000  for la in leaf_area_plant]\n",
    "raint_sur_trg = [0.95*0.48*(1-math.exp(-extinp*la)) for la in lai]\n",
    "plt.plot(lai, raint_sur_trg)\n",
    "plt.show()"
   ]
  },
  {
   "cell_type": "code",
   "execution_count": 52,
   "id": "7556298c-a66a-447b-9709-40bcce440833",
   "metadata": {},
   "outputs": [
    {
     "data": {
      "image/png": "[encoded data removed]",
      "text/plain": [
       "<Figure size 640x480 with 1 Axes>"
      ]
     },
     "metadata": {},
     "output_type": "display_data"
    }
   ],
   "source": [
    "raint = [par*(1-math.exp(-extinp*la)) for la,par in zip(lai, par_inc)]\n",
    "plt.plot(thermal_time, raint)\n",
    "plt.show()"
   ]
  },
  {
   "cell_type": "code",
   "execution_count": 38,
   "id": "2d0340c8-66f2-4b83-8571-35d49228080d",
   "metadata": {},
   "outputs": [
    {
     "data": {
      "application/vnd.jupyter.widget-view+json": {
       "model_id": "0ece2532c47547e2bdbb6dd1884a817d",
       "version_major": 2,
       "version_minor": 0
      },
      "text/plain": [
       "Plot(antialias=3, axes=['x', 'y', 'z'], axes_helper=1.0, axes_helper_colors=[16711680, 65280, 255], background…"
      ]
     },
     "execution_count": 38,
     "metadata": {},
     "output_type": "execute_result"
    }
   ],
   "source": [
    "PlantGL(scenes[0][-4])"
   ]
  },
  {
   "cell_type": "code",
   "execution_count": 21,
   "id": "5e45a8c6-b465-4a57-b751-918903fc66be",
   "metadata": {},
   "outputs": [
    {
     "name": "stdout",
     "output_type": "stream",
     "text": [
      "15.037593984962406\n",
      "((-35.0, -7.518796992481203), (35.0, 7.518796992481203))\n"
     ]
    }
   ],
   "source": [
    "inter_row = 70\n",
    "inter_plant = (100 / inter_row / sowing_density)*100 \n",
    "print(inter_plant)\n",
    "domain = ((-0.5*inter_row, -0.5*inter_plant), (0.5*inter_row, 0.5*inter_plant))\n",
    "print(domain)"
   ]
  },
  {
   "cell_type": "code",
   "execution_count": 83,
   "id": "1b3fd8dc-1910-4e30-8163-9f1872b9a456",
   "metadata": {},
   "outputs": [
    {
     "data": {
      "text/plain": [
       "10000.0"
      ]
     },
     "execution_count": 83,
     "metadata": {},
     "output_type": "execute_result"
    }
   ],
   "source": [
    "(domain[1][0] - domain[0][0]) * (domain[1][1] - domain[0][1]) * 9.5"
   ]
  },
  {
   "cell_type": "code",
   "execution_count": 22,
   "id": "c7a09135-64b1-49a9-96e3-5ff7bd11f677",
   "metadata": {},
   "outputs": [
    {
     "data": {
      "text/plain": [
       "9.5"
      ]
     },
     "execution_count": 22,
     "metadata": {},
     "output_type": "execute_result"
    }
   ],
   "source": [
    "sowing_density"
   ]
  },
  {
   "cell_type": "code",
   "execution_count": null,
   "id": "8bd960b7-f7db-4f33-9c1f-32745c083143",
   "metadata": {},
   "outputs": [],
   "source": [
    "weather = meteo_day()"
   ]
  },
  {
   "cell_type": "code",
   "execution_count": 78,
   "id": "7c51443a-537c-46d7-b2bd-a3eebcef4496",
   "metadata": {},
   "outputs": [
    {
     "name": "stdout",
     "output_type": "stream",
     "text": [
      "366\n"
     ]
    }
   ],
   "source": [
    "l = []\n",
    "for row in weather.itertuples():\n",
    "    irr = sky_irradiance(daydate=row.daydate, day_ghi=row.rad, **location)\n",
    "    sun, sky = sky_sources(sky_type='clear_sky', sky_irradiance=irr, scale='global')\n",
    "    lights = caribu_light_sources(sun, sky)\n",
    "    l.append(sum([light[0] for light in lights]))"
   ]
  },
  {
   "cell_type": "code",
   "execution_count": 87,
   "id": "1fad44cc-2318-4458-b851-d4f22883b195",
   "metadata": {},
   "outputs": [
    {
     "data": {
      "text/plain": [
       "33.73962856348898"
      ]
     },
     "execution_count": 87,
     "metadata": {},
     "output_type": "execute_result"
    }
   ],
   "source": [
    "l[31+29+31+21]"
   ]
  },
  {
   "cell_type": "code",
   "execution_count": 84,
   "id": "8d3c2410-f15d-4b44-98f1-5a7182d35592",
   "metadata": {},
   "outputs": [
    {
     "data": {
      "text/plain": [
       "[6.8856,\n",
       " 11.1264,\n",
       " 9.2568,\n",
       " 6.2472,\n",
       " 7.0224,\n",
       " 10.1688,\n",
       " 7.7976,\n",
       " 8.4816,\n",
       " 8.0256,\n",
       " 7.7064,\n",
       " 10.26,\n",
       " 7.1592,\n",
       " 9.5304,\n",
       " 9.2568,\n",
       " 5.1072,\n",
       " 10.5792,\n",
       " 1.2768,\n",
       " 4.56,\n",
       " 4.1952,\n",
       " 9.0744,\n",
       " 13.3152,\n",
       " 12.8136,\n",
       " 5.4264,\n",
       " 7.296,\n",
       " 10.1232,\n",
       " 12.2208,\n",
       " 13.2696,\n",
       " 13.2696,\n",
       " 12.9048,\n",
       " 12.6768,\n",
       " 8.0712,\n",
       " 11.628,\n",
       " 11.2632,\n",
       " 12.1752,\n",
       " 11.9928,\n",
       " 13.7712,\n",
       " 13.7256,\n",
       " 13.7712,\n",
       " 13.7712,\n",
       " 13.5432,\n",
       " 12.8592,\n",
       " 10.6704,\n",
       " 10.1232,\n",
       " 2.4168,\n",
       " 10.5336,\n",
       " 10.3056,\n",
       " 11.2632,\n",
       " 7.6152,\n",
       " 8.5728,\n",
       " 12.2208,\n",
       " 12.3576,\n",
       " 10.1232,\n",
       " 13.1784,\n",
       " 5.7,\n",
       " 8.664,\n",
       " 4.0128,\n",
       " 4.4688,\n",
       " 8.1624,\n",
       " 8.6184,\n",
       " 3.2376,\n",
       " 10.3056,\n",
       " 11.0808,\n",
       " 6.156,\n",
       " 12.54,\n",
       " 11.6736,\n",
       " 10.5336,\n",
       " 12.768,\n",
       " 12.6768,\n",
       " 12.7224,\n",
       " 13.1784,\n",
       " 13.3152,\n",
       " 12.6312,\n",
       " 12.8136,\n",
       " 12.9048,\n",
       " 12.1752,\n",
       " 10.3056,\n",
       " 12.084,\n",
       " 10.8528,\n",
       " 10.9896,\n",
       " 11.4456,\n",
       " 10.7616,\n",
       " 8.3448,\n",
       " 8.1624,\n",
       " 10.716,\n",
       " 10.032,\n",
       " 8.1624,\n",
       " 11.9016,\n",
       " 9.3936,\n",
       " 4.332,\n",
       " 3.5112,\n",
       " 9.9864,\n",
       " 11.3088,\n",
       " 8.892,\n",
       " 3.0096,\n",
       " 7.1592,\n",
       " 7.7976,\n",
       " 9.5304,\n",
       " 9.5304,\n",
       " 9.9408,\n",
       " 11.172,\n",
       " 10.8072,\n",
       " 10.8072,\n",
       " 8.9832,\n",
       " 5.0616,\n",
       " 2.9184,\n",
       " 8.8008,\n",
       " 7.9344,\n",
       " 7.752,\n",
       " 6.7944,\n",
       " 8.7552,\n",
       " 8.664,\n",
       " 8.2536,\n",
       " 7.6152,\n",
       " 6.9768,\n",
       " 7.8432,\n",
       " 8.664,\n",
       " 8.8464,\n",
       " 7.7064,\n",
       " 8.9832,\n",
       " 8.7552,\n",
       " 9.3936,\n",
       " 9.6216,\n",
       " 9.6672,\n",
       " 9.1656,\n",
       " 7.9344,\n",
       " 8.664,\n",
       " 8.2992,\n",
       " 7.2048,\n",
       " 8.7096,\n",
       " 8.892,\n",
       " 8.8464,\n",
       " 7.4328,\n",
       " 3.1464,\n",
       " 1.7328,\n",
       " 6.384,\n",
       " 3.648,\n",
       " 5.472,\n",
       " 5.7456,\n",
       " 6.6576,\n",
       " 3.9216,\n",
       " 4.2408,\n",
       " 4.8336,\n",
       " 6.7944,\n",
       " 7.3416,\n",
       " 6.6576,\n",
       " 3.2832,\n",
       " 4.6056,\n",
       " 6.156,\n",
       " 2.6448,\n",
       " 6.3384,\n",
       " 5.7912,\n",
       " 6.8856,\n",
       " 3.9672,\n",
       " 4.104,\n",
       " 4.2408,\n",
       " 5.244,\n",
       " 5.7456,\n",
       " 5.0616,\n",
       " 2.1888,\n",
       " 4.7424,\n",
       " 4.788,\n",
       " 5.5632,\n",
       " 2.964,\n",
       " 3.1464,\n",
       " 4.1952,\n",
       " 1.5048,\n",
       " 5.1072,\n",
       " 5.3808,\n",
       " 4.56,\n",
       " 3.648]"
      ]
     },
     "execution_count": 84,
     "metadata": {},
     "output_type": "execute_result"
    }
   ],
   "source": [
    "par_inc"
   ]
  },
  {
   "cell_type": "code",
   "execution_count": null,
   "id": "907a99a2-ade4-43e7-958e-fb85dc2e45c5",
   "metadata": {},
   "outputs": [],
   "source": []
  }
 ],
 "metadata": {
  "kernelspec": {
   "display_name": "Python 3 (ipykernel)",
   "language": "python",
   "name": "python3"
  },
  "language_info": {
   "codemirror_mode": {
    "name": "ipython",
    "version": 3
   },
   "file_extension": ".py",
   "mimetype": "text/x-python",
   "name": "python",
   "nbconvert_exporter": "python",
   "pygments_lexer": "ipython3",
   "version": "3.12.3"
  },
  "widgets": {
   "application/vnd.jupyter.widget-state+json": {
    "state": {
     "0d09f222466e4c3d81b802b3a45578c4": {
      "buffers": [
       {
        "data": "",
        "encoding": "base64",
        "path": [
         "attribute",
         "data"
        ]
       },
       {
        "data": "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",
        "encoding": "base64",
        "path": [
         "color_map",
         "data"
        ]
       },
       {
        "data": "",
        "encoding": "base64",
        "path": [
         "colors",
         "data"
        ]
       },
       {
        "data": "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",
        "encoding": "base64",
        "path": [
         "indices",
         "data"
        ]
       },
       {
        "data": "AACAPwAAAAAAAAAAAAAAAAAAAAAAAIA/AAAAAAAAAAAAAAAAAAAAAAAAgD8AAAAAAAAAAAAAAAAAAAAAAACAPw==",
        "encoding": "base64",
        "path": [
         "model_matrix",
         "data"
        ]
       },
       {
        "data": "",
        "encoding": "base64",
        "path": [
         "normals",
         "data"
        ]
       },
       {
        "data": "",
        "encoding": "base64",
        "path": [
         "opacity_function",
         "data"
        ]
       },
       {
        "data": "",
        "encoding": "base64",
        "path": [
         "triangles_attribute",
         "data"
        ]
       },
       {
        "data": "AADAfw==",
        "encoding": "base64",
        "path": [
         "uvs",
         "data"
        ]
       },
       {
        "data": "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",
        "encoding": "base64",
        "path": [
         "vertices",
         "data"
        ]
       },
       {
        "data": "",
        "encoding": "base64",
        "path": [
         "volume",
         "data"
        ]
       },
       {
        "data": "",
        "encoding": "base64",
        "path": [
         "volume_bounds",
         "data"
        ]
       }
      ],
      "model_module": "k3d",
      "model_module_version": "2.16.1",
      "model_name": "ObjectModel",
      "state": {
       "_view_module": null,
       "_view_module_version": "",
       "_view_name": null,
       "attribute": {
        "dtype": "float32",
        "shape": [
         0
        ]
       },
       "click_callback": false,
       "color": 5263440,
       "colorLegend": false,
       "color_map": {
        "dtype": "float32",
        "shape": [
         1024
        ]
       },
       "color_range": [],
       "colors": {
        "dtype": "uint32",
        "shape": [
         0
        ]
       },
       "compression_level": 0,
       "custom_data": null,
       "flat_shading": true,
       "group": null,
       "hover_callback": false,
       "id": 2228991540784,
       "indices": {
        "dtype": "uint32",
        "shape": [
         266,
         3
        ]
       },
       "model_matrix": {
        "dtype": "float32",
        "shape": [
         4,
         4
        ]
       },
       "name": "Mesh #1",
       "normals": {
        "dtype": "float32",
        "shape": [
         0
        ]
       },
       "opacity": 1,
       "opacity_function": {
        "dtype": "float32",
        "shape": [
         0
        ]
       },
       "side": "front",
       "texture": null,
       "texture_file_format": null,
       "triangles_attribute": {
        "dtype": "float32",
        "shape": [
         0
        ]
       },
       "type": "Mesh",
       "uvs": {
        "dtype": "float32",
        "shape": []
       },
       "vertices": {
        "dtype": "float32",
        "shape": [
         798,
         3
        ]
       },
       "visible": true,
       "volume": {
        "dtype": "float32",
        "shape": [
         0
        ]
       },
       "volume_bounds": {
        "dtype": "float32",
        "shape": [
         0
        ]
       },
       "wireframe": false
      }
     },
     "0ece2532c47547e2bdbb6dd1884a817d": {
      "model_module": "k3d",
      "model_module_version": "2.16.1",
      "model_name": "PlotModel",
      "state": {
       "_backend_version": "2.16.1",
       "antialias": 3,
       "auto_rendering": true,
       "axes": [
        "x",
        "y",
        "z"
       ],
       "axes_helper": 1,
       "axes_helper_colors": [
        16711680,
        65280,
        255
       ],
       "background_color": 16777215,
       "camera": [
        233.46284849436492,
        -356.98874162124696,
        142.87988870838444,
        -1.285745620727539,
        -4.865850448608398,
        119.405029296875,
        0,
        0,
        1
       ],
       "camera_animation": [],
       "camera_auto_fit": true,
       "camera_damping_factor": 0,
       "camera_fov": 60,
       "camera_mode": "trackball",
       "camera_no_pan": false,
       "camera_no_rotate": false,
       "camera_no_zoom": false,
       "camera_pan_speed": 0.3,
       "camera_rotate_speed": 1,
       "camera_zoom_speed": 1.2,
       "clipping_planes": [],
       "colorbar_object_id": -1,
       "colorbar_scientific": false,
       "custom_data": null,
       "fps": 25,
       "fps_meter": false,
       "grid": [
        -1,
        -1,
        -1,
        1,
        1,
        1
       ],
       "grid_auto_fit": true,
       "grid_color": 15132390,
       "grid_visible": true,
       "height": 512,
       "label_color": 4473924,
       "layout": "IPY_MODEL_243c536a0ccb4fa5bcb0b11d820b71c4",
       "lighting": 3,
       "logarithmic_depth_buffer": true,
       "manipulate_mode": "translate",
       "menu_visibility": true,
       "minimum_fps": -1,
       "mode": "view",
       "name": null,
       "object_ids": [
        2228991540784
       ],
       "rendering_steps": 1,
       "screenshot": "",
       "screenshot_scale": 2,
       "snapshot": "",
       "snapshot_type": "full",
       "time": 0,
       "voxel_paint_color": 0
      }
     },
     "243c536a0ccb4fa5bcb0b11d820b71c4": {
      "model_module": "@jupyter-widgets/base",
      "model_module_version": "2.0.0",
      "model_name": "LayoutModel",
      "state": {}
     },
     "7c2210d6069d4fe4b106d5e8e3f3871f": {
      "buffers": [
       {
        "data": "",
        "encoding": "base64",
        "path": [
         "attribute",
         "data"
        ]
       },
       {
        "data": "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",
        "encoding": "base64",
        "path": [
         "color_map",
         "data"
        ]
       },
       {
        "data": "",
        "encoding": "base64",
        "path": [
         "colors",
         "data"
        ]
       },
       {
        "data": "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",
        "encoding": "base64",
        "path": [
         "indices",
         "data"
        ]
       },
       {
        "data": "AACAPwAAAAAAAAAAAAAAAAAAAAAAAIA/AAAAAAAAAAAAAAAAAAAAAAAAgD8AAAAAAAAAAAAAAAAAAAAAAACAPw==",
        "encoding": "base64",
        "path": [
         "model_matrix",
         "data"
        ]
       },
       {
        "data": "",
        "encoding": "base64",
        "path": [
         "normals",
         "data"
        ]
       },
       {
        "data": "",
        "encoding": "base64",
        "path": [
         "opacity_function",
         "data"
        ]
       },
       {
        "data": "",
        "encoding": "base64",
        "path": [
         "triangles_attribute",
         "data"
        ]
       },
       {
        "data": "AADAfw==",
        "encoding": "base64",
        "path": [
         "uvs",
         "data"
        ]
       },
       {
        "data": "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",
        "encoding": "base64",
        "path": [
         "vertices",
         "data"
        ]
       },
       {
        "data": "",
        "encoding": "base64",
        "path": [
         "volume",
         "data"
        ]
       },
       {
        "data": "",
        "encoding": "base64",
        "path": [
         "volume_bounds",
         "data"
        ]
       }
      ],
      "model_module": "k3d",
      "model_module_version": "2.16.1",
      "model_name": "ObjectModel",
      "state": {
       "_view_module": null,
       "_view_module_version": "",
       "_view_name": null,
       "attribute": {
        "dtype": "float32",
        "shape": [
         0
        ]
       },
       "click_callback": false,
       "color": 5263440,
       "colorLegend": false,
       "color_map": {
        "dtype": "float32",
        "shape": [
         1024
        ]
       },
       "color_range": [],
       "colors": {
        "dtype": "uint32",
        "shape": [
         0
        ]
       },
       "compression_level": 0,
       "custom_data": null,
       "flat_shading": true,
       "group": null,
       "hover_callback": false,
       "id": 2228864498816,
       "indices": {
        "dtype": "uint32",
        "shape": [
         262,
         3
        ]
       },
       "model_matrix": {
        "dtype": "float32",
        "shape": [
         4,
         4
        ]
       },
       "name": "Mesh #1",
       "normals": {
        "dtype": "float32",
        "shape": [
         0
        ]
       },
       "opacity": 1,
       "opacity_function": {
        "dtype": "float32",
        "shape": [
         0
        ]
       },
       "side": "front",
       "texture": null,
       "texture_file_format": null,
       "triangles_attribute": {
        "dtype": "float32",
        "shape": [
         0
        ]
       },
       "type": "Mesh",
       "uvs": {
        "dtype": "float32",
        "shape": []
       },
       "vertices": {
        "dtype": "float32",
        "shape": [
         786,
         3
        ]
       },
       "visible": true,
       "volume": {
        "dtype": "float32",
        "shape": [
         0
        ]
       },
       "volume_bounds": {
        "dtype": "float32",
        "shape": [
         0
        ]
       },
       "wireframe": false
      }
     },
     "885b205965834b7abc7c88d319543b4c": {
      "buffers": [
       {
        "data": "",
        "encoding": "base64",
        "path": [
         "attribute",
         "data"
        ]
       },
       {
        "data": "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",
        "encoding": "base64",
        "path": [
         "color_map",
         "data"
        ]
       },
       {
        "data": "",
        "encoding": "base64",
        "path": [
         "colors",
         "data"
        ]
       },
       {
        "data": "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",
        "encoding": "base64",
        "path": [
         "indices",
         "data"
        ]
       },
       {
        "data": "AACAPwAAAAAAAAAAAAAAAAAAAAAAAIA/AAAAAAAAAAAAAAAAAAAAAAAAgD8AAAAAAAAAAAAAAAAAAAAAAACAPw==",
        "encoding": "base64",
        "path": [
         "model_matrix",
         "data"
        ]
       },
       {
        "data": "",
        "encoding": "base64",
        "path": [
         "normals",
         "data"
        ]
       },
       {
        "data": "",
        "encoding": "base64",
        "path": [
         "opacity_function",
         "data"
        ]
       },
       {
        "data": "",
        "encoding": "base64",
        "path": [
         "triangles_attribute",
         "data"
        ]
       },
       {
        "data": "AADAfw==",
        "encoding": "base64",
        "path": [
         "uvs",
         "data"
        ]
       },
       {
        "data": "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",
        "encoding": "base64",
        "path": [
         "vertices",
         "data"
        ]
       },
       {
        "data": "",
        "encoding": "base64",
        "path": [
         "volume",
         "data"
        ]
       },
       {
        "data": "",
        "encoding": "base64",
        "path": [
         "volume_bounds",
         "data"
        ]
       }
      ],
      "model_module": "k3d",
      "model_module_version": "2.16.1",
      "model_name": "ObjectModel",
      "state": {
       "_view_module": null,
       "_view_module_version": "",
       "_view_name": null,
       "attribute": {
        "dtype": "float32",
        "shape": [
         0
        ]
       },
       "click_callback": false,
       "color": 46080,
       "colorLegend": false,
       "color_map": {
        "dtype": "float32",
        "shape": [
         1024
        ]
       },
       "color_range": [],
       "colors": {
        "dtype": "uint32",
        "shape": [
         0
        ]
       },
       "compression_level": 0,
       "custom_data": null,
       "flat_shading": true,
       "group": null,
       "hover_callback": false,
       "id": 2228865083696,
       "indices": {
        "dtype": "uint32",
        "shape": [
         192,
         3
        ]
       },
       "model_matrix": {
        "dtype": "float32",
        "shape": [
         4,
         4
        ]
       },
       "name": "Mesh #2",
       "normals": {
        "dtype": "float32",
        "shape": [
         0
        ]
       },
       "opacity": 1,
       "opacity_function": {
        "dtype": "float32",
        "shape": [
         0
        ]
       },
       "side": "front",
       "texture": null,
       "texture_file_format": null,
       "triangles_attribute": {
        "dtype": "float32",
        "shape": [
         0
        ]
       },
       "type": "Mesh",
       "uvs": {
        "dtype": "float32",
        "shape": []
       },
       "vertices": {
        "dtype": "float32",
        "shape": [
         228,
         3
        ]
       },
       "visible": true,
       "volume": {
        "dtype": "float32",
        "shape": [
         0
        ]
       },
       "volume_bounds": {
        "dtype": "float32",
        "shape": [
         0
        ]
       },
       "wireframe": false
      }
     },
     "8f81da2b6bd44c218ffbf895b5abaa84": {
      "model_module": "@jupyter-widgets/base",
      "model_module_version": "2.0.0",
      "model_name": "LayoutModel",
      "state": {}
     },
     "ac752caf4c634444a268cc8de2b25d71": {
      "buffers": [
       {
        "data": "",
        "encoding": "base64",
        "path": [
         "attribute",
         "data"
        ]
       },
       {
        "data": "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",
        "encoding": "base64",
        "path": [
         "color_map",
         "data"
        ]
       },
       {
        "data": "",
        "encoding": "base64",
        "path": [
         "colors",
         "data"
        ]
       },
       {
        "data": "AgAAAAEAAAAAAAAAAwAAAAQAAAAFAAAAAAAAAAUAAAAEAAAAAAAAAAQAAAACAAAAAgAAAAQAAAADAAAAAwAAAAEAAAACAAAAAQAAAAMAAAAFAAAABQAAAAAAAAABAAAACAAAAAcAAAAGAAAACQAAAAoAAAALAAAABgAAAAsAAAAKAAAABgAAAAoAAAAIAAAACAAAAAoAAAAJAAAACQAAAAcAAAAIAAAABwAAAAkAAAALAAAACwAAAAYAAAAHAAAADgAAAA0AAAAMAAAADwAAABAAAAARAAAADAAAABEAAAAQAAAADAAAABAAAAAOAAAADgAAABAAAAAPAAAADwAAAA0AAAAOAAAADQAAAA8AAAARAAAAEQAAAAwAAAANAAAAFAAAABMAAAASAAAAFQAAABYAAAAXAAAAEgAAABcAAAAWAAAAEgAAABYAAAAUAAAAFAAAABYAAAAVAAAAFQAAABMAAAAUAAAAEwAAABUAAAAXAAAAFwAAABIAAAATAAAAGgAAABkAAAAYAAAAGwAAABwAAAAdAAAAGAAAAB0AAAAcAAAAGAAAABwAAAAaAAAAGgAAABwAAAAbAAAAGwAAABkAAAAaAAAAGQAAABsAAAAdAAAAHQAAABgAAAAZAAAAIAAAAB8AAAAeAAAAIQAAACIAAAAjAAAAHgAAACMAAAAiAAAAHgAAACIAAAAgAAAAIAAAACIAAAAhAAAAIQAAAB8AAAAgAAAAHwAAACEAAAAjAAAAIwAAAB4AAAAfAAAAJgAAACUAAAAkAAAAJwAAACgAAAApAAAAJAAAACkAAAAoAAAAJAAAACgAAAAmAAAAJgAAACgAAAAnAAAAJwAAACUAAAAmAAAAJQAAACcAAAApAAAAKQAAACQAAAAlAAAALAAAACsAAAAqAAAALQAAAC4AAAAvAAAAKgAAAC8AAAAuAAAAKgAAAC4AAAAsAAAALAAAAC4AAAAtAAAALQAAACsAAAAsAAAAKwAAAC0AAAAvAAAALwAAACoAAAArAAAAMgAAADEAAAAwAAAAMwAAADQAAAA1AAAAMAAAADUAAAA0AAAAMAAAADQAAAAyAAAAMgAAADQAAAAzAAAAMwAAADEAAAAyAAAAMQAAADMAAAA1AAAANQAAADAAAAAxAAAAOAAAADcAAAA2AAAAOQAAADoAAAA7AAAANgAAADsAAAA6AAAANgAAADoAAAA4AAAAOAAAADoAAAA5AAAAOQAAADcAAAA4AAAANwAAADkAAAA7AAAAOwAAADYAAAA3AAAAPgAAAD0AAAA8AAAAPwAAAEAAAABBAAAAPAAAAEEAAABAAAAAPAAAAEAAAAA+AAAAPgAAAEAAAAA/AAAAPwAAAD0AAAA+AAAAPQAAAD8AAABBAAAAQQAAADwAAAA9AAAARAAAAEMAAABCAAAARQAAAEYAAABHAAAAQgAAAEcAAABGAAAAQgAAAEYAAABEAAAARAAAAEYAAABFAAAARQAAAEMAAABEAAAAQwAAAEUAAABHAAAARwAAAEIAAABDAAAA",
        "encoding": "base64",
        "path": [
         "indices",
         "data"
        ]
       },
       {
        "data": "AACAPwAAAAAAAAAAAAAAAAAAAAAAAIA/AAAAAAAAAAAAAAAAAAAAAAAAgD8AAAAAAAAAAAAAAAAAAAAAAACAPw==",
        "encoding": "base64",
        "path": [
         "model_matrix",
         "data"
        ]
       },
       {
        "data": "",
        "encoding": "base64",
        "path": [
         "normals",
         "data"
        ]
       },
       {
        "data": "",
        "encoding": "base64",
        "path": [
         "opacity_function",
         "data"
        ]
       },
       {
        "data": "",
        "encoding": "base64",
        "path": [
         "triangles_attribute",
         "data"
        ]
       },
       {
        "data": "AADAfw==",
        "encoding": "base64",
        "path": [
         "uvs",
         "data"
        ]
       },
       {
        "data": "sRqJvwAAAAAAAAAAsRoJP7h4bb8AAAAAsRoJP7h4bT8AAAAAsRqJPxk8F6VD8oc/sRoJv7h4bT9D8oc/sRoJv7h4bb9D8oc/UqA+P0GtLr9D8oc/edhfPvJsfD9D8oc/cJZ2v2F/m75D8oc/UqA+v0GtLj8mMQVAedhfvvJsfL8mMQVAcJZ2P2F/mz4mMQVAAqmpvTFncj8mMQVAz1JHv1uRC78mMQVA8IdcP6yrzb4mMQVAAqmpPTFncr/ookRAz1JHP1uRCz/ookRA8Idcv6yrzT7ookRAMh8Lv6FONb/ookRA2JNiP8+i7r3ookRATOmuvvoiUz/ookRAMh8LP6FONT8Fcn1A2JNiv8+i7j0Fcn1ATOmuPvoiU78Fcn1AWelSP+/BFD4Fcn1Ap6kJv14PJD8Fcn1AYn+Svto/Sb8Fcn1AWelSv+/BFL5EGRFCp6kJP14PJL9EGRFCYn+SPto/ST9EGRFCkN4ov88p1z5EGRFCfL0LvTcJSL9EGRFCZ5oxP6DouD5EGRFCkN4oP88p176EcIlCfL0LPTcJSD+EcIlCZ5oxv6DouL6EcIlCtk1BPsxaNL+EcIlCXgcEP14HBD+EcIlCzFo0v7ZNQT6EcIlCtk1BvsxaND9af8lCXgcEv14HBL9af8lCzFo0P7ZNQb5af8lCPFqgPmIEGj9af8lCingtv2Zd8rxaf8lC2Ja6PndxEr9af8lCPFqgvmIEGr9i/gJDingtP2Zd8jxi/gJD2Ja6vndxEj9i/gJDlUYXv0s9XL5i/gJDZqT2Phb1zr5i/gJDEKPfPd2JHj9i/gJDlUYXP0s9XD7X1h5DZqT2vhb1zj7X1h5DEKPfvd2JHr/X1h5DAHAJP8O2Y77X1h5DhFabvRV9Ez/X1h5DXwrsvsketb7X1h5DAHAJv8O2Yz5crzZDhFabPRV9E79crzZDXwrsPsketT5crzZDFopnvthE+D5crzZDUh+dvtpk4L5crzZDLnIIP+v/Pr1crzZDFopnPthE+L5T0UpDUh+dPtpk4D5T0UpDLnIIv+v/Pj1T0UpDuxMXvt+T775T0UpD5D/1Pmp72T1T0UpDB7apvgU1uT5T0UpDuxMXPt+T7z6Fp1tD5D/1vmp72b2Fp1tDB7apPgU1ub6Fp1tD",
        "encoding": "base64",
        "path": [
         "vertices",
         "data"
        ]
       },
       {
        "data": "",
        "encoding": "base64",
        "path": [
         "volume",
         "data"
        ]
       },
       {
        "data": "",
        "encoding": "base64",
        "path": [
         "volume_bounds",
         "data"
        ]
       }
      ],
      "model_module": "k3d",
      "model_module_version": "2.16.1",
      "model_name": "ObjectModel",
      "state": {
       "_view_module": null,
       "_view_module_version": "",
       "_view_name": null,
       "attribute": {
        "dtype": "float32",
        "shape": [
         0
        ]
       },
       "click_callback": false,
       "color": 33280,
       "colorLegend": false,
       "color_map": {
        "dtype": "float32",
        "shape": [
         1024
        ]
       },
       "color_range": [],
       "colors": {
        "dtype": "uint32",
        "shape": [
         0
        ]
       },
       "compression_level": 0,
       "custom_data": null,
       "flat_shading": true,
       "group": null,
       "hover_callback": false,
       "id": 2228587204144,
       "indices": {
        "dtype": "uint32",
        "shape": [
         96,
         3
        ]
       },
       "model_matrix": {
        "dtype": "float32",
        "shape": [
         4,
         4
        ]
       },
       "name": "Mesh #1",
       "normals": {
        "dtype": "float32",
        "shape": [
         0
        ]
       },
       "opacity": 1,
       "opacity_function": {
        "dtype": "float32",
        "shape": [
         0
        ]
       },
       "side": "front",
       "texture": null,
       "texture_file_format": null,
       "triangles_attribute": {
        "dtype": "float32",
        "shape": [
         0
        ]
       },
       "type": "Mesh",
       "uvs": {
        "dtype": "float32",
        "shape": []
       },
       "vertices": {
        "dtype": "float32",
        "shape": [
         72,
         3
        ]
       },
       "visible": true,
       "volume": {
        "dtype": "float32",
        "shape": [
         0
        ]
       },
       "volume_bounds": {
        "dtype": "float32",
        "shape": [
         0
        ]
       },
       "wireframe": false
      }
     },
     "d20db4b49d184ab997155c3939e3bb4c": {
      "model_module": "k3d",
      "model_module_version": "2.16.1",
      "model_name": "PlotModel",
      "state": {
       "_backend_version": "2.16.1",
       "antialias": 3,
       "auto_rendering": true,
       "axes": [
        "x",
        "y",
        "z"
       ],
       "axes_helper": 1,
       "axes_helper_colors": [
        16711680,
        65280,
        255
       ],
       "background_color": 16777215,
       "camera": [
        218.14289627299382,
        -334.0815462146055,
        141.34637657187966,
        -1.2705764770507812,
        -4.961337089538574,
        119.405029296875,
        0,
        0,
        1
       ],
       "camera_animation": [],
       "camera_auto_fit": true,
       "camera_damping_factor": 0,
       "camera_fov": 60,
       "camera_mode": "trackball",
       "camera_no_pan": false,
       "camera_no_rotate": false,
       "camera_no_zoom": false,
       "camera_pan_speed": 0.3,
       "camera_rotate_speed": 1,
       "camera_zoom_speed": 1.2,
       "clipping_planes": [],
       "colorbar_object_id": -1,
       "colorbar_scientific": false,
       "custom_data": null,
       "fps": 25,
       "fps_meter": false,
       "grid": [
        -1,
        -1,
        -1,
        1,
        1,
        1
       ],
       "grid_auto_fit": true,
       "grid_color": 15132390,
       "grid_visible": true,
       "height": 512,
       "label_color": 4473924,
       "layout": "IPY_MODEL_8f81da2b6bd44c218ffbf895b5abaa84",
       "lighting": 3,
       "logarithmic_depth_buffer": true,
       "manipulate_mode": "translate",
       "menu_visibility": true,
       "minimum_fps": -1,
       "mode": "view",
       "name": null,
       "object_ids": [
        2228864498816
       ],
       "rendering_steps": 1,
       "screenshot": "",
       "screenshot_scale": 2,
       "snapshot": "",
       "snapshot_type": "full",
       "time": 0,
       "voxel_paint_color": 0
      }
     },
     "da86fd3989da47409357938901de0cc7": {
      "model_module": "k3d",
      "model_module_version": "2.16.1",
      "model_name": "PlotModel",
      "state": {
       "_backend_version": "2.16.1",
       "antialias": 3,
       "auto_rendering": true,
       "axes": [
        "x",
        "y",
        "z"
       ],
       "axes_helper": 1,
       "axes_helper_colors": [
        16711680,
        65280,
        255
       ],
       "background_color": 16777215,
       "camera": [
        216.9603788186989,
        -323.35864951161767,
        140.14687864114754,
        -0.8754425048828125,
        3.395082473754883,
        118.36329650878906,
        0,
        0,
        1
       ],
       "camera_animation": [],
       "camera_auto_fit": true,
       "camera_damping_factor": 0,
       "camera_fov": 60,
       "camera_mode": "trackball",
       "camera_no_pan": false,
       "camera_no_rotate": false,
       "camera_no_zoom": false,
       "camera_pan_speed": 0.3,
       "camera_rotate_speed": 1,
       "camera_zoom_speed": 1.2,
       "clipping_planes": [],
       "colorbar_object_id": -1,
       "colorbar_scientific": false,
       "custom_data": null,
       "fps": 25,
       "fps_meter": false,
       "grid": [
        -1,
        -1,
        -1,
        1,
        1,
        1
       ],
       "grid_auto_fit": true,
       "grid_color": 15132390,
       "grid_visible": true,
       "height": 512,
       "label_color": 4473924,
       "layout": "IPY_MODEL_e66094789a634360a508e8eb36e97c2e",
       "lighting": 3,
       "logarithmic_depth_buffer": true,
       "manipulate_mode": "translate",
       "menu_visibility": true,
       "minimum_fps": -1,
       "mode": "view",
       "name": null,
       "object_ids": [
        2228587204144,
        2228865083696
       ],
       "rendering_steps": 1,
       "screenshot": "",
       "screenshot_scale": 2,
       "snapshot": "",
       "snapshot_type": "full",
       "time": 0,
       "voxel_paint_color": 0
      }
     },
     "e66094789a634360a508e8eb36e97c2e": {
      "model_module": "@jupyter-widgets/base",
      "model_module_version": "2.0.0",
      "model_name": "LayoutModel",
      "state": {}
     }
    },
    "version_major": 2,
    "version_minor": 0
   }
  }
 },
 "nbformat": 4,
 "nbformat_minor": 5
}
