{
 "cells": [
  {
   "cell_type": "markdown",
   "metadata": {},
   "source": [
    "# MTG Tutorial - Analysis"
   ]
  },
  {
   "cell_type": "markdown",
   "metadata": {},
   "source": [
    "[MTG](https://mtg.readthedocs.io/) is an [OpenAlea](https://openalea.readthedocs.io/) model. MTG (Multiscale Tree Graph) allows to represent plant architecture on a graph at different scales.\n",
    "\n",
    "Basically, a MTG is topological data that could be extracted with requests, as a data base.\n",
    "\n",
    "In this **tutorial**, we will work on a part of a Noylum MTG.\n",
    "\n",
    "For that we will follow different steps:\n",
    "\n",
    "* Load the tree digitised MTG\n",
    "* Explore the MTG as an architectural database\n",
    "  * number of vertices\n",
    "  * class of vertices\n",
    "  * number of scales\n",
    "  * properties\n",
    "  \n",
    "In order to make all these graphs, we used [pyvis](https://pyvis.readthedocs.io/)."
   ]
  },
  {
   "cell_type": "markdown",
   "metadata": {},
   "source": [
    "## Introduction"
   ]
  },
  {
   "cell_type": "markdown",
   "metadata": {},
   "source": [
    "First, let's import the **packages** we need for the tutorial."
   ]
  },
  {
   "cell_type": "code",
   "execution_count": 1,
   "metadata": {},
   "outputs": [],
   "source": [
    "import openalea\n",
    "from openalea.mtg import *\n",
    "from openalea.deploy.shared_data import shared_data\n",
    "from oawidgets.mtg import plot\n",
    "from oawidgets.plantgl import PlantGL"
   ]
  },
  {
   "cell_type": "markdown",
   "metadata": {},
   "source": [
    "Some **conventions** :\n",
    "* MTG data structure : **g**\n",
    "* Vertex identifier: **vid**"
   ]
  },
  {
   "cell_type": "markdown",
   "metadata": {},
   "source": [
    "## Load and Display the MTG "
   ]
  },
  {
   "cell_type": "markdown",
   "metadata": {},
   "source": [
    "Now, we collect MTG data."
   ]
  },
  {
   "cell_type": "code",
   "execution_count": 2,
   "metadata": {},
   "outputs": [],
   "source": [
    "data = shared_data(openalea.mtg)\n",
    "g = MTG(data/'boutdenoylum2.mtg')"
   ]
  },
  {
   "cell_type": "markdown",
   "metadata": {},
   "source": [
    "We plot the MTG. **Different colors represent different complexes** and each complex begins with a box node which is the **component root**.\n",
    "\n",
    "Notice that you can **click and drag** on a particuliar node to make it move. Also, you can see some properties of the node by **putting you mouse over** a node."
   ]
  },
  {
   "cell_type": "code",
   "execution_count": 3,
   "metadata": {},
   "outputs": [
    {
     "name": "stdout",
     "output_type": "stream",
     "text": [
      "Local cdn resources have problems on chrome/safari when used in jupyter-notebook. \n"
     ]
    },
    {
     "data": {
      "text/html": [
       "\n",
       "        <iframe\n",
       "            width=\"900px\"\n",
       "            height=\"800px\"\n",
       "            src=\"mtg.html\"\n",
       "            frameborder=\"0\"\n",
       "            allowfullscreen\n",
       "            \n",
       "        ></iframe>\n",
       "        "
      ],
      "text/plain": [
       "<IPython.lib.display.IFrame at 0x18d3f9212e0>"
      ]
     },
     "execution_count": 3,
     "metadata": {},
     "output_type": "execute_result"
    }
   ],
   "source": [
    "plot(g)"
   ]
  },
  {
   "cell_type": "markdown",
   "metadata": {},
   "source": [
    "## MTG Extraction and Visualisation"
   ]
  },
  {
   "cell_type": "markdown",
   "metadata": {},
   "source": [
    "### Scales and Classes represent modularities\n",
    "\n",
    "#### Scale 1 : P = Plant\n",
    "\n",
    "#### Scale 2 : A = Axes\n",
    "\n",
    "#### Scale 3 : Growth Unit\n",
    "* S : Shoot\n",
    "* U : Unit\n"
   ]
  },
  {
   "cell_type": "markdown",
   "metadata": {},
   "source": [
    "Let's find the **number of scales** 'nb_scales()' in the MTG and print how many vertices per scale and the classes in each scale."
   ]
  },
  {
   "cell_type": "code",
   "execution_count": 5,
   "metadata": {},
   "outputs": [
    {
     "name": "stdout",
     "output_type": "stream",
     "text": [
      "Nb vertices at scale  1 :  1\n",
      "Classes :  P\n",
      "Nb vertices at scale  2 :  63\n",
      "Classes :  A\n",
      "Nb vertices at scale  3 :  198\n",
      "Classes :  U, S\n"
     ]
    }
   ],
   "source": [
    "nb_scales = g.nb_scales()\n",
    "\n",
    "# Print the vertices at different scales\n",
    "for scale in range(1, nb_scales):\n",
    "    print('Nb vertices at scale ', scale, ': ', g.nb_vertices(scale=scale))\n",
    "    print('Classes : ', ', '.join(list(set(g.class_name(vid) for vid in g.vertices(scale=scale)))))"
   ]
  },
  {
   "cell_type": "markdown",
   "metadata": {},
   "source": [
    "Actually, the **default scale** is the max scale (3 here) but you can change it to plot it at a different scale.\n",
    "\n",
    "You will notice that all the nodes have the same color. Being at lower scale, there is only one group defined, so there is only one color."
   ]
  },
  {
   "cell_type": "code",
   "execution_count": 6,
   "metadata": {},
   "outputs": [
    {
     "name": "stdout",
     "output_type": "stream",
     "text": [
      "Local cdn resources have problems on chrome/safari when used in jupyter-notebook. \n"
     ]
    },
    {
     "data": {
      "text/html": [
       "\n",
       "        <iframe\n",
       "            width=\"900px\"\n",
       "            height=\"800px\"\n",
       "            src=\"mtg.html\"\n",
       "            frameborder=\"0\"\n",
       "            allowfullscreen\n",
       "            \n",
       "        ></iframe>\n",
       "        "
      ],
      "text/plain": [
       "<IPython.lib.display.IFrame at 0x18d41c03770>"
      ]
     },
     "execution_count": 6,
     "metadata": {},
     "output_type": "execute_result"
    }
   ],
   "source": [
    "plot(g, scale=g.max_scale()-1)"
   ]
  },
  {
   "cell_type": "markdown",
   "metadata": {},
   "source": [
    "We can select **all the vertices of each class**."
   ]
  },
  {
   "cell_type": "code",
   "execution_count": 9,
   "metadata": {},
   "outputs": [
    {
     "name": "stdout",
     "output_type": "stream",
     "text": [
      "['A', 'S', 'P', 'U']\n",
      "Nb U 84\n"
     ]
    }
   ],
   "source": [
    "classes = list(set(g.class_name(vid) for vid in g.vertices() if g.class_name(vid)))\n",
    "print(classes)\n",
    "\n",
    "def vertices(g, class_name='P'):\n",
    "    return [vid for vid in g.vertices() if g.class_name(vid)==class_name]\n",
    "\n",
    "vids_U = vertices(g, 'U')\n",
    "print('Nb U', len(vids_U))"
   ]
  },
  {
   "cell_type": "markdown",
   "metadata": {},
   "source": [
    "Let's plot the graph with the selected vertices corresponding to the **U class**."
   ]
  },
  {
   "cell_type": "code",
   "execution_count": 10,
   "metadata": {},
   "outputs": [
    {
     "name": "stdout",
     "output_type": "stream",
     "text": [
      "Local cdn resources have problems on chrome/safari when used in jupyter-notebook. \n"
     ]
    },
    {
     "data": {
      "text/html": [
       "\n",
       "        <iframe\n",
       "            width=\"900px\"\n",
       "            height=\"800px\"\n",
       "            src=\"mtg.html\"\n",
       "            frameborder=\"0\"\n",
       "            allowfullscreen\n",
       "            \n",
       "        ></iframe>\n",
       "        "
      ],
      "text/plain": [
       "<IPython.lib.display.IFrame at 0x18d41e0ebd0>"
      ]
     },
     "execution_count": 10,
     "metadata": {},
     "output_type": "execute_result"
    }
   ],
   "source": [
    "plot(g, selection=vids_U)"
   ]
  },
  {
   "cell_type": "markdown",
   "metadata": {},
   "source": [
    "### Property Extraction"
   ]
  },
  {
   "cell_type": "markdown",
   "metadata": {},
   "source": [
    "Let's go on by **displaying a whole property** through the graph."
   ]
  },
  {
   "cell_type": "code",
   "execution_count": 12,
   "metadata": {},
   "outputs": [
    {
     "name": "stdout",
     "output_type": "stream",
     "text": [
      "['edge_type', 'label', 'index', 'Dist', 'El1', 'Az1', 'Inc', 'Azm', 'XX', 'YY', 'ZZ', 'psi', 'teta', 'phi', 'TopDia', 'NFe', 'Nf', 'Lum1', 'Lum2', 'Lum3', 'Lum4', '_line', 'position']\n"
     ]
    }
   ],
   "source": [
    "# Properties on the MTG: this exclude all the topological properties\n",
    "print(g.property_names())\n",
    "\n",
    "# Retrieve one property for the MTG (dict)\n",
    "phi = g.property('phi')"
   ]
  },
  {
   "cell_type": "markdown",
   "metadata": {},
   "source": [
    "Once you've extracted the **'phi' property** corresponding to the $\\phi$ angle. You can **change the labels** of the graph nodes with it.\n",
    "\n",
    "Now, if you **zoom** in a node, you will see that the labels have changed."
   ]
  },
  {
   "cell_type": "code",
   "execution_count": 13,
   "metadata": {},
   "outputs": [
    {
     "name": "stdout",
     "output_type": "stream",
     "text": [
      "Local cdn resources have problems on chrome/safari when used in jupyter-notebook. \n"
     ]
    },
    {
     "data": {
      "text/html": [
       "\n",
       "        <iframe\n",
       "            width=\"900px\"\n",
       "            height=\"800px\"\n",
       "            src=\"mtg.html\"\n",
       "            frameborder=\"0\"\n",
       "            allowfullscreen\n",
       "            \n",
       "        ></iframe>\n",
       "        "
      ],
      "text/plain": [
       "<IPython.lib.display.IFrame at 0x18d41dfd9a0>"
      ]
     },
     "execution_count": 13,
     "metadata": {},
     "output_type": "execute_result"
    }
   ],
   "source": [
    "plot(g, labels=phi)"
   ]
  },
  {
   "cell_type": "markdown",
   "metadata": {},
   "source": [
    "### Trunk Extraction"
   ]
  },
  {
   "cell_type": "markdown",
   "metadata": {},
   "source": [
    "In this part, we will select and visualise the **trunk**."
   ]
  },
  {
   "cell_type": "code",
   "execution_count": 10,
   "metadata": {},
   "outputs": [],
   "source": [
    "root = g.roots_iter(scale=g.max_scale()).next()\n",
    "trunk = g.Trunk(root)"
   ]
  },
  {
   "cell_type": "markdown",
   "metadata": {},
   "source": [
    "Now we have the **selection of the trunk**, we can visualise it."
   ]
  },
  {
   "cell_type": "code",
   "execution_count": 11,
   "metadata": {},
   "outputs": [
    {
     "data": {
      "text/html": [
       "\n",
       "        <iframe\n",
       "            width=\"900px\"\n",
       "            height=\"800px\"\n",
       "            src=\"html/graph_9325.html\"\n",
       "            frameborder=\"0\"\n",
       "            allowfullscreen\n",
       "        ></iframe>\n",
       "        "
      ],
      "text/plain": [
       "<IPython.lib.display.IFrame at 0x7f7d6de4e6d0>"
      ]
     },
     "execution_count": 11,
     "metadata": {},
     "output_type": "execute_result"
    }
   ],
   "source": [
    "plot(g, selection=trunk)"
   ]
  },
  {
   "cell_type": "markdown",
   "metadata": {},
   "source": [
    "### Leaves Extraction"
   ]
  },
  {
   "cell_type": "markdown",
   "metadata": {},
   "source": [
    "Let's select the **leaves** and display them."
   ]
  },
  {
   "cell_type": "code",
   "execution_count": 12,
   "metadata": {},
   "outputs": [
    {
     "data": {
      "text/html": [
       "\n",
       "        <iframe\n",
       "            width=\"900px\"\n",
       "            height=\"800px\"\n",
       "            src=\"html/graph_6461.html\"\n",
       "            frameborder=\"0\"\n",
       "            allowfullscreen\n",
       "        ></iframe>\n",
       "        "
      ],
      "text/plain": [
       "<IPython.lib.display.IFrame at 0x7f7d6de92fd0>"
      ]
     },
     "execution_count": 12,
     "metadata": {},
     "output_type": "execute_result"
    }
   ],
   "source": [
    "leaves = [vid for vid in g.vertices(scale=g.max_scale()) if g.is_leaf(vid)]\n",
    "plot(g, selection=leaves)"
   ]
  },
  {
   "cell_type": "markdown",
   "metadata": {},
   "source": [
    "### Component Roots Extraction"
   ]
  },
  {
   "cell_type": "markdown",
   "metadata": {},
   "source": [
    "Now, we select the **first component of each complex**, which are **the component roots**. In fact, the MTG is built at different scale, so we want to highlight the nodes that represent a complex at one lower scale."
   ]
  },
  {
   "cell_type": "code",
   "execution_count": 13,
   "metadata": {},
   "outputs": [
    {
     "data": {
      "text/html": [
       "\n",
       "        <iframe\n",
       "            width=\"900px\"\n",
       "            height=\"800px\"\n",
       "            src=\"html/graph_3760.html\"\n",
       "            frameborder=\"0\"\n",
       "            allowfullscreen\n",
       "        ></iframe>\n",
       "        "
      ],
      "text/plain": [
       "<IPython.lib.display.IFrame at 0x7f7d6e0bc5d0>"
      ]
     },
     "execution_count": 13,
     "metadata": {},
     "output_type": "execute_result"
    }
   ],
   "source": [
    "c_roots = [g.component_roots_at_scale_iter(cid, scale=g.max_scale()).next() for cid in g.vertices(scale=g.max_scale()-1)]\n",
    "plot(g, selection=c_roots)"
   ]
  },
  {
   "cell_type": "markdown",
   "metadata": {},
   "source": [
    "### Descendants Extraction"
   ]
  },
  {
   "cell_type": "markdown",
   "metadata": {},
   "source": [
    "Here, we select all the **descendants** of one particuliar node."
   ]
  },
  {
   "cell_type": "code",
   "execution_count": 14,
   "metadata": {},
   "outputs": [
    {
     "data": {
      "text/html": [
       "\n",
       "        <iframe\n",
       "            width=\"900px\"\n",
       "            height=\"800px\"\n",
       "            src=\"html/graph_4187.html\"\n",
       "            frameborder=\"0\"\n",
       "            allowfullscreen\n",
       "        ></iframe>\n",
       "        "
      ],
      "text/plain": [
       "<IPython.lib.display.IFrame at 0x7f7d6de5e210>"
      ]
     },
     "execution_count": 14,
     "metadata": {},
     "output_type": "execute_result"
    }
   ],
   "source": [
    "root_id = 139\n",
    "children = g.Descendants(root_id)\n",
    "plot(g, selection=children)"
   ]
  },
  {
   "cell_type": "markdown",
   "metadata": {},
   "source": [
    "## PlantFrame 3D "
   ]
  },
  {
   "cell_type": "markdown",
   "metadata": {},
   "source": [
    "Now, we can **display the MTG in 3D**. You can check the [PlantFrame tutorial](https://nbviewer.jupyter.org/github/openalea/openalea.rtfd.io/blob/master/example/mtg_plantframe.ipynb)."
   ]
  },
  {
   "cell_type": "code",
   "execution_count": 15,
   "metadata": {},
   "outputs": [
    {
     "name": "stdout",
     "output_type": "stream",
     "text": [
      "\n"
     ]
    },
    {
     "data": {
      "application/vnd.jupyter.widget-view+json": {
       "model_id": "74d0458daae44a54b4a60fce67ece530",
       "version_major": 2,
       "version_minor": 0
      },
      "text/plain": [
       "UGxvdChhbnRpYWxpYXM9MywgYXhlcz1bJ3gnLCAneScsICd6J10sIGJhY2tncm91bmRfY29sb3I9MTY3NzcyMTUsIGNhbWVyYT1bNC41LCA0LjUsIDQuNSwgMC4wLCAwLjAsIDAuMCwgMS4wLCDigKY=\n"
      ]
     },
     "metadata": {},
     "output_type": "display_data"
    }
   ],
   "source": [
    "drf = data/'walnut.drf'\n",
    "dressing_data = dresser.dressing_data_from_file(drf)\n",
    "dressing_data = plantframe.DressingData(DiameterUnit=10)\n",
    "pf = plantframe.PlantFrame(g, TopDiameter='TopDia', DressingData = dressing_data)\n",
    "scene = pf.plot(gc=True, display=False)\n",
    "PlantGL(scene)"
   ]
  }
 ],
 "metadata": {
  "kernelspec": {
   "display_name": "oa3",
   "language": "python",
   "name": "oa3"
  },
  "language_info": {
   "codemirror_mode": {
    "name": "ipython",
    "version": 3
   },
   "file_extension": ".py",
   "mimetype": "text/x-python",
   "name": "python",
   "nbconvert_exporter": "python",
   "pygments_lexer": "ipython3",
   "version": "3.12.2"
  },
  "widgets": {
   "application/vnd.jupyter.widget-state+json": {
    "state": {
     "0188c4d02ee4470a8a419796719b4542": {
      "model_module": "@jupyter-widgets/base",
      "model_module_version": "2.0.0",
      "model_name": "LayoutModel",
      "state": {
       "_view_name": "ErrorWidgetView",
       "error": {},
       "msg": "Failed to load model class 'LayoutModel' from module '@jupyter-widgets/base'"
      }
     },
     "04d104b361af4442b8f231587fd0433c": {
      "model_module": "@jupyter-widgets/base",
      "model_module_version": "2.0.0",
      "model_name": "LayoutModel",
      "state": {
       "_view_name": "ErrorWidgetView",
       "error": {},
       "msg": "Failed to load model class 'LayoutModel' from module '@jupyter-widgets/base'"
      }
     },
     "0d8fe20592144ead85b14393d58e28c5": {
      "model_module": "k3d",
      "model_module_version": "2.0.0",
      "model_name": "PlotModel",
      "state": {
       "_backend_version": "2.6.9",
       "_view_name": "ErrorWidgetView",
       "antialias": 3,
       "axes": [
        "x",
        "y",
        "z"
       ],
       "background_color": 16777215,
       "camera": [
        2.8778826572598577,
        -4.316823985889787,
        0.28778826572598526,
        0,
        0,
        0,
        0,
        0,
        1
       ],
       "camera_auto_fit": true,
       "camera_no_pan": false,
       "camera_no_rotate": false,
       "camera_no_zoom": false,
       "clipping_planes": [],
       "colorbar_object_id": -1,
       "error": {},
       "fps_meter": false,
       "grid": [
        -1,
        -1,
        -1,
        1,
        1,
        1
       ],
       "grid_auto_fit": true,
       "grid_visible": true,
       "height": 512,
       "layout": "IPY_MODEL_2bb6f410d814450883dcd704314d8b0b",
       "lighting": 3,
       "menu_visibility": true,
       "msg": "Failed to load model class 'PlotModel' from module 'k3d'",
       "object_ids": [
        140183449176656
       ],
       "rendering_steps": 1,
       "screenshot": "",
       "screenshot_scale": 2,
       "time": 0,
       "voxel_paint_color": 0
      }
     },
     "16d0227dfd26474f8a03617052aa3a1b": {
      "model_module": "k3d",
      "model_module_version": "2.0.0",
      "model_name": "ObjectModel",
      "state": {
       "_view_name": "ErrorWidgetView",
       "attribute": {
        "compressed_buffer": {},
        "dtype": "float32",
        "shape": [
         0
        ]
       },
       "color": 4271375,
       "color_map": {
        "compressed_buffer": {},
        "dtype": "float32",
        "shape": [
         0
        ]
       },
       "color_range": [],
       "compression_level": 0,
       "error": {},
       "flat_shading": true,
       "id": 140183449373456,
       "indices": {
        "compressed_buffer": {},
        "dtype": "uint32",
        "shape": [
         2928,
         3
        ]
       },
       "model_matrix": {
        "compressed_buffer": {},
        "dtype": "float32",
        "shape": [
         4,
         4
        ]
       },
       "msg": "Failed to load model class 'ObjectModel' from module 'k3d'",
       "name": null,
       "opacity": 1,
       "type": "Mesh",
       "vertices": {
        "compressed_buffer": {},
        "dtype": "float32",
        "shape": [
         1968,
         3
        ]
       },
       "visible": true,
       "wireframe": false
      }
     },
     "174c211ad64342faadd0bb70a3b8703a": {
      "model_module": "k3d",
      "model_module_version": "2.0.0",
      "model_name": "ObjectModel",
      "state": {
       "_view_name": "ErrorWidgetView",
       "attribute": {
        "compressed_buffer": {},
        "dtype": "float32",
        "shape": [
         0
        ]
       },
       "color": 4271375,
       "color_map": {
        "compressed_buffer": {},
        "dtype": "float32",
        "shape": [
         0
        ]
       },
       "color_range": [],
       "compression_level": 0,
       "error": {},
       "flat_shading": true,
       "id": 140696216661200,
       "indices": {
        "compressed_buffer": {},
        "dtype": "uint32",
        "shape": [
         2928,
         3
        ]
       },
       "model_matrix": {
        "compressed_buffer": {},
        "dtype": "float32",
        "shape": [
         4,
         4
        ]
       },
       "msg": "Failed to load model class 'ObjectModel' from module 'k3d'",
       "name": null,
       "opacity": 1,
       "type": "Mesh",
       "vertices": {
        "compressed_buffer": {},
        "dtype": "float32",
        "shape": [
         1968,
         3
        ]
       },
       "visible": true,
       "wireframe": false
      }
     },
     "18079ebf319f4c7fae7d03f12e052867": {
      "model_module": "@jupyter-widgets/base",
      "model_module_version": "2.0.0",
      "model_name": "LayoutModel",
      "state": {
       "_view_name": "ErrorWidgetView",
       "error": {},
       "msg": "Failed to load model class 'LayoutModel' from module '@jupyter-widgets/base'"
      }
     },
     "2b09e06ad3a34142a46e9cf668edf593": {
      "model_module": "@jupyter-widgets/base",
      "model_module_version": "2.0.0",
      "model_name": "LayoutModel",
      "state": {
       "_view_name": "ErrorWidgetView",
       "error": {},
       "msg": "Failed to load model class 'LayoutModel' from module '@jupyter-widgets/base'"
      }
     },
     "2bb6f410d814450883dcd704314d8b0b": {
      "model_module": "@jupyter-widgets/base",
      "model_module_version": "2.0.0",
      "model_name": "LayoutModel",
      "state": {
       "_view_name": "ErrorWidgetView",
       "error": {},
       "msg": "Failed to load model class 'LayoutModel' from module '@jupyter-widgets/base'"
      }
     },
     "36a83b87c2c7439f9c15ccc2d33f58ae": {
      "model_module": "k3d",
      "model_module_version": "2.0.0",
      "model_name": "ObjectModel",
      "state": {
       "_view_name": "ErrorWidgetView",
       "attribute": {
        "compressed_buffer": {},
        "dtype": "float32",
        "shape": [
         0
        ]
       },
       "color": 4271375,
       "color_map": {
        "compressed_buffer": {},
        "dtype": "float32",
        "shape": [
         0
        ]
       },
       "color_range": [],
       "compression_level": 0,
       "error": {},
       "flat_shading": true,
       "id": 140176691356816,
       "indices": {
        "compressed_buffer": {},
        "dtype": "uint32",
        "shape": [
         2928,
         3
        ]
       },
       "model_matrix": {
        "compressed_buffer": {},
        "dtype": "float32",
        "shape": [
         4,
         4
        ]
       },
       "msg": "Failed to load model class 'ObjectModel' from module 'k3d'",
       "name": null,
       "opacity": 1,
       "type": "Mesh",
       "vertices": {
        "compressed_buffer": {},
        "dtype": "float32",
        "shape": [
         1968,
         3
        ]
       },
       "visible": true,
       "wireframe": false
      }
     },
     "41ab2d14f1244b22af249e4aca11a362": {
      "model_module": "k3d",
      "model_module_version": "2.0.0",
      "model_name": "ObjectModel",
      "state": {
       "_view_name": "ErrorWidgetView",
       "attribute": {
        "compressed_buffer": {},
        "dtype": "float32",
        "shape": [
         0
        ]
       },
       "color": 4271375,
       "color_map": {
        "compressed_buffer": {},
        "dtype": "float32",
        "shape": [
         0
        ]
       },
       "color_range": [],
       "compression_level": 0,
       "error": {},
       "flat_shading": true,
       "id": 140486602900944,
       "indices": {
        "compressed_buffer": {},
        "dtype": "uint32",
        "shape": [
         2928,
         3
        ]
       },
       "model_matrix": {
        "compressed_buffer": {},
        "dtype": "float32",
        "shape": [
         4,
         4
        ]
       },
       "msg": "Failed to load model class 'ObjectModel' from module 'k3d'",
       "name": null,
       "opacity": 1,
       "type": "Mesh",
       "vertices": {
        "compressed_buffer": {},
        "dtype": "float32",
        "shape": [
         1968,
         3
        ]
       },
       "visible": true,
       "wireframe": false
      }
     },
     "4ced43236aed48f792a9393d9b8d16a4": {
      "model_module": "k3d",
      "model_module_version": "2.0.0",
      "model_name": "PlotModel",
      "state": {
       "_backend_version": "2.6.9",
       "_view_name": "ErrorWidgetView",
       "antialias": 3,
       "axes": [
        "x",
        "y",
        "z"
       ],
       "background_color": 16777215,
       "camera": [
        734.9374617850232,
        631.3062220341174,
        487.1836957633029,
        -85.58556270599365,
        -124.78848266601562,
        220.1117291301489,
        0.07358970120778197,
        -0.32843685215784024,
        0.9416548146857165
       ],
       "camera_auto_fit": true,
       "camera_no_pan": false,
       "camera_no_rotate": false,
       "camera_no_zoom": false,
       "clipping_planes": [],
       "colorbar_object_id": -1,
       "error": {},
       "fps_meter": false,
       "grid": [
        -1,
        -1,
        -1,
        1,
        1,
        1
       ],
       "grid_auto_fit": true,
       "grid_visible": true,
       "height": 512,
       "layout": "IPY_MODEL_a7f7870481b64f7bbb432ff4169c04b4",
       "lighting": 3,
       "menu_visibility": true,
       "msg": "Failed to load model class 'PlotModel' from module 'k3d'",
       "object_ids": [
        140183449373456
       ],
       "rendering_steps": 1,
       "screenshot": "",
       "screenshot_scale": 2,
       "time": 0,
       "voxel_paint_color": 0
      }
     },
     "513fe9e6e542430b96481f351913f98b": {
      "model_module": "k3d",
      "model_module_version": "2.0.0",
      "model_name": "ObjectModel",
      "state": {
       "_view_name": "ErrorWidgetView",
       "attribute": {
        "compressed_buffer": {},
        "dtype": "float32",
        "shape": [
         0
        ]
       },
       "color": 255,
       "color_map": {
        "compressed_buffer": {},
        "dtype": "float32",
        "shape": [
         28
        ]
       },
       "color_range": [],
       "compression_level": 0,
       "error": {},
       "flat_shading": true,
       "id": 139841587525968,
       "indices": {
        "compressed_buffer": {},
        "dtype": "uint32",
        "shape": [
         0
        ]
       },
       "model_matrix": {
        "compressed_buffer": {},
        "dtype": "float32",
        "shape": [
         4,
         4
        ]
       },
       "msg": "Failed to load model class 'ObjectModel' from module 'k3d'",
       "name": null,
       "opacity": 1,
       "type": "Mesh",
       "vertices": {
        "compressed_buffer": {},
        "dtype": "float32",
        "shape": [
         0
        ]
       },
       "visible": true,
       "wireframe": false
      }
     },
     "5eb35c8ab9b743138703cbb546cbce49": {
      "model_module": "@jupyter-widgets/base",
      "model_module_version": "2.0.0",
      "model_name": "LayoutModel",
      "state": {
       "_view_name": "ErrorWidgetView",
       "error": {},
       "msg": "Failed to load model class 'LayoutModel' from module '@jupyter-widgets/base'"
      }
     },
     "659fbc650a6247bc9a2779ca1256a8ee": {
      "model_module": "k3d",
      "model_module_version": "2.0.0",
      "model_name": "PlotModel",
      "state": {
       "_backend_version": "2.6.9",
       "_view_name": "ErrorWidgetView",
       "antialias": 3,
       "axes": [
        "x",
        "y",
        "z"
       ],
       "background_color": 16777215,
       "camera": [
        3.7205892932533393,
        -5.580883939880009,
        0.37205892932533324,
        0,
        0,
        0,
        0,
        0,
        1
       ],
       "camera_auto_fit": true,
       "camera_no_pan": false,
       "camera_no_rotate": false,
       "camera_no_zoom": false,
       "clipping_planes": [],
       "colorbar_object_id": -1,
       "error": {},
       "fps_meter": false,
       "grid": [
        -1,
        -1,
        -1,
        1,
        1,
        1
       ],
       "grid_auto_fit": true,
       "grid_visible": true,
       "height": 512,
       "layout": "IPY_MODEL_18079ebf319f4c7fae7d03f12e052867",
       "lighting": 3,
       "menu_visibility": true,
       "msg": "Failed to load model class 'PlotModel' from module 'k3d'",
       "object_ids": [],
       "rendering_steps": 1,
       "screenshot": "",
       "screenshot_scale": 2,
       "time": 0,
       "voxel_paint_color": 0
      }
     },
     "715f1c2084db441a81f10732f825caeb": {
      "model_module": "k3d",
      "model_module_version": "2.0.0",
      "model_name": "PlotModel",
      "state": {
       "_backend_version": "2.6.9",
       "_view_name": "ErrorWidgetView",
       "antialias": 3,
       "axes": [
        "x",
        "y",
        "z"
       ],
       "background_color": 16777215,
       "camera": [
        383.577413680471,
        -828.5329472457126,
        267.02802676879577,
        -85.58556270599365,
        -124.78848266601562,
        220.1117291301489,
        0,
        0,
        1
       ],
       "camera_auto_fit": true,
       "camera_no_pan": false,
       "camera_no_rotate": false,
       "camera_no_zoom": false,
       "clipping_planes": [],
       "colorbar_object_id": -1,
       "error": {},
       "fps_meter": false,
       "grid": [
        -1,
        -1,
        -1,
        1,
        1,
        1
       ],
       "grid_auto_fit": true,
       "grid_visible": true,
       "height": 512,
       "layout": "IPY_MODEL_5eb35c8ab9b743138703cbb546cbce49",
       "lighting": 3,
       "menu_visibility": true,
       "msg": "Failed to load model class 'PlotModel' from module 'k3d'",
       "object_ids": [
        140018181329616
       ],
       "rendering_steps": 1,
       "screenshot": "",
       "screenshot_scale": 2,
       "time": 0,
       "voxel_paint_color": 0
      }
     },
     "74d0458daae44a54b4a60fce67ece530": {
      "model_module": "k3d",
      "model_module_version": "2.0.0",
      "model_name": "PlotModel",
      "state": {
       "_backend_version": "2.6.9",
       "_view_name": "ErrorWidgetView",
       "antialias": 3,
       "axes": [
        "x",
        "y",
        "z"
       ],
       "background_color": 16777215,
       "camera": [
        383.577413680471,
        -828.5329472457126,
        267.02802676879577,
        -85.58556270599365,
        -124.78848266601562,
        220.1117291301489,
        0,
        0,
        1
       ],
       "camera_auto_fit": true,
       "camera_no_pan": false,
       "camera_no_rotate": false,
       "camera_no_zoom": false,
       "clipping_planes": [],
       "colorbar_object_id": -1,
       "error": {},
       "fps_meter": false,
       "grid": [
        -1,
        -1,
        -1,
        1,
        1,
        1
       ],
       "grid_auto_fit": true,
       "grid_visible": true,
       "height": 512,
       "layout": "IPY_MODEL_e503604d11c643808220634e333b627e",
       "lighting": 3,
       "menu_visibility": true,
       "msg": "Failed to load model class 'PlotModel' from module 'k3d'",
       "object_ids": [
        140176691356816
       ],
       "rendering_steps": 1,
       "screenshot": "",
       "screenshot_scale": 2,
       "time": 0,
       "voxel_paint_color": 0
      }
     },
     "900a955c98b0443c80ac154dc38c70e8": {
      "model_module": "@jupyter-widgets/base",
      "model_module_version": "2.0.0",
      "model_name": "LayoutModel",
      "state": {
       "_view_name": "ErrorWidgetView",
       "error": {},
       "msg": "Failed to load model class 'LayoutModel' from module '@jupyter-widgets/base'"
      }
     },
     "947790c212b34b79b6760dcf85d32089": {
      "model_module": "@jupyter-widgets/base",
      "model_module_version": "2.0.0",
      "model_name": "LayoutModel",
      "state": {
       "_view_name": "ErrorWidgetView",
       "error": {},
       "msg": "Failed to load model class 'LayoutModel' from module '@jupyter-widgets/base'"
      }
     },
     "9c0b08134fa44c7fbfe88bf1b6658e93": {
      "model_module": "k3d",
      "model_module_version": "2.0.0",
      "model_name": "PlotModel",
      "state": {
       "_backend_version": "2.6.9",
       "_view_name": "ErrorWidgetView",
       "antialias": 3,
       "axes": [
        "x",
        "y",
        "z"
       ],
       "background_color": 16777215,
       "camera": [
        383.577413680471,
        -828.5329472457126,
        267.02802676879577,
        -85.58556270599365,
        -124.78848266601562,
        220.1117291301489,
        0,
        0,
        1
       ],
       "camera_auto_fit": true,
       "camera_no_pan": false,
       "camera_no_rotate": false,
       "camera_no_zoom": false,
       "clipping_planes": [],
       "colorbar_object_id": -1,
       "error": {},
       "fps_meter": false,
       "grid": [
        -1,
        -1,
        -1,
        1,
        1,
        1
       ],
       "grid_auto_fit": true,
       "grid_visible": true,
       "height": 512,
       "layout": "IPY_MODEL_0188c4d02ee4470a8a419796719b4542",
       "lighting": 3,
       "menu_visibility": true,
       "msg": "Failed to load model class 'PlotModel' from module 'k3d'",
       "object_ids": [
        139978560563792
       ],
       "rendering_steps": 1,
       "screenshot": "",
       "screenshot_scale": 2,
       "time": 0,
       "voxel_paint_color": 0
      }
     },
     "a1a250b6bc4c47aca1e773b032ba5bb0": {
      "model_module": "k3d",
      "model_module_version": "2.0.0",
      "model_name": "ObjectModel",
      "state": {
       "_view_name": "ErrorWidgetView",
       "attribute": {
        "compressed_buffer": {},
        "dtype": "float32",
        "shape": [
         0
        ]
       },
       "color": 4271375,
       "color_map": {
        "compressed_buffer": {},
        "dtype": "float32",
        "shape": [
         0
        ]
       },
       "color_range": [],
       "compression_level": 0,
       "error": {},
       "flat_shading": true,
       "id": 140210511005904,
       "indices": {
        "compressed_buffer": {},
        "dtype": "uint32",
        "shape": [
         2928,
         3
        ]
       },
       "model_matrix": {
        "compressed_buffer": {},
        "dtype": "float32",
        "shape": [
         4,
         4
        ]
       },
       "msg": "Failed to load model class 'ObjectModel' from module 'k3d'",
       "name": null,
       "opacity": 1,
       "type": "Mesh",
       "vertices": {
        "compressed_buffer": {},
        "dtype": "float32",
        "shape": [
         1968,
         3
        ]
       },
       "visible": true,
       "wireframe": false
      }
     },
     "a7f7870481b64f7bbb432ff4169c04b4": {
      "model_module": "@jupyter-widgets/base",
      "model_module_version": "2.0.0",
      "model_name": "LayoutModel",
      "state": {
       "_view_name": "ErrorWidgetView",
       "error": {},
       "msg": "Failed to load model class 'LayoutModel' from module '@jupyter-widgets/base'"
      }
     },
     "b061833345ad442f9fc5e3cf2fc5ee0c": {
      "model_module": "k3d",
      "model_module_version": "2.0.0",
      "model_name": "PlotModel",
      "state": {
       "_backend_version": "2.6.9",
       "_view_name": "ErrorWidgetView",
       "antialias": 3,
       "axes": [
        "x",
        "y",
        "z"
       ],
       "background_color": 16777215,
       "camera": [
        383.577413680471,
        -828.5329472457126,
        267.02802676879577,
        -85.58556270599365,
        -124.78848266601562,
        220.1117291301489,
        0,
        0,
        1
       ],
       "camera_auto_fit": true,
       "camera_no_pan": false,
       "camera_no_rotate": false,
       "camera_no_zoom": false,
       "clipping_planes": [],
       "colorbar_object_id": -1,
       "error": {},
       "fps_meter": false,
       "grid": [
        -1,
        -1,
        -1,
        1,
        1,
        1
       ],
       "grid_auto_fit": true,
       "grid_visible": true,
       "height": 512,
       "layout": "IPY_MODEL_900a955c98b0443c80ac154dc38c70e8",
       "lighting": 3,
       "menu_visibility": true,
       "msg": "Failed to load model class 'PlotModel' from module 'k3d'",
       "object_ids": [
        140486602900944
       ],
       "rendering_steps": 1,
       "screenshot": "",
       "screenshot_scale": 2,
       "time": 0,
       "voxel_paint_color": 0
      }
     },
     "bc4cae4718c54b28a466244c15a3f17d": {
      "model_module": "k3d",
      "model_module_version": "2.0.0",
      "model_name": "PlotModel",
      "state": {
       "_backend_version": "2.6.9",
       "_view_name": "ErrorWidgetView",
       "antialias": 3,
       "axes": [
        "x",
        "y",
        "z"
       ],
       "background_color": 16777215,
       "camera": [
        383.577413680471,
        -828.5329472457126,
        267.02802676879577,
        -85.58556270599365,
        -124.78848266601562,
        220.1117291301489,
        0,
        0,
        1
       ],
       "camera_auto_fit": true,
       "camera_no_pan": false,
       "camera_no_rotate": false,
       "camera_no_zoom": false,
       "clipping_planes": [],
       "colorbar_object_id": -1,
       "error": {},
       "fps_meter": false,
       "grid": [
        -1,
        -1,
        -1,
        1,
        1,
        1
       ],
       "grid_auto_fit": true,
       "grid_visible": true,
       "height": 512,
       "layout": "IPY_MODEL_947790c212b34b79b6760dcf85d32089",
       "lighting": 3,
       "menu_visibility": true,
       "msg": "Failed to load model class 'PlotModel' from module 'k3d'",
       "object_ids": [
        140210511005904
       ],
       "rendering_steps": 1,
       "screenshot": "",
       "screenshot_scale": 2,
       "time": 0,
       "voxel_paint_color": 0
      }
     },
     "c7a1d798f1074079a1c8722985be50ff": {
      "model_module": "k3d",
      "model_module_version": "2.0.0",
      "model_name": "PlotModel",
      "state": {
       "_backend_version": "2.6.9",
       "_view_name": "ErrorWidgetView",
       "antialias": 3,
       "axes": [
        "x",
        "y",
        "z"
       ],
       "background_color": 16777215,
       "camera": [
        383.577413680471,
        -828.5329472457126,
        267.02802676879577,
        -85.58556270599365,
        -124.78848266601562,
        220.1117291301489,
        0,
        0,
        1
       ],
       "camera_auto_fit": true,
       "camera_no_pan": false,
       "camera_no_rotate": false,
       "camera_no_zoom": false,
       "clipping_planes": [],
       "colorbar_object_id": -1,
       "error": {},
       "fps_meter": false,
       "grid": [
        -1,
        -1,
        -1,
        1,
        1,
        1
       ],
       "grid_auto_fit": true,
       "grid_visible": true,
       "height": 512,
       "layout": "IPY_MODEL_2b09e06ad3a34142a46e9cf668edf593",
       "lighting": 3,
       "menu_visibility": true,
       "msg": "Failed to load model class 'PlotModel' from module 'k3d'",
       "object_ids": [
        140696216661200
       ],
       "rendering_steps": 1,
       "screenshot": "",
       "screenshot_scale": 2,
       "time": 0,
       "voxel_paint_color": 0
      }
     },
     "d813d80024c048f3b857ef93a46ac0d6": {
      "model_module": "k3d",
      "model_module_version": "2.0.0",
      "model_name": "ObjectModel",
      "state": {
       "_view_name": "ErrorWidgetView",
       "attribute": {
        "compressed_buffer": {},
        "dtype": "float32",
        "shape": [
         0
        ]
       },
       "color": 4271375,
       "color_map": {
        "compressed_buffer": {},
        "dtype": "float32",
        "shape": [
         0
        ]
       },
       "color_range": [],
       "compression_level": 0,
       "error": {},
       "flat_shading": true,
       "id": 140013899496208,
       "indices": {
        "compressed_buffer": {},
        "dtype": "uint32",
        "shape": [
         2928,
         3
        ]
       },
       "model_matrix": {
        "compressed_buffer": {},
        "dtype": "float32",
        "shape": [
         4,
         4
        ]
       },
       "msg": "Failed to load model class 'ObjectModel' from module 'k3d'",
       "name": null,
       "opacity": 1,
       "type": "Mesh",
       "vertices": {
        "compressed_buffer": {},
        "dtype": "float32",
        "shape": [
         1968,
         3
        ]
       },
       "visible": true,
       "wireframe": false
      }
     },
     "e503604d11c643808220634e333b627e": {
      "model_module": "@jupyter-widgets/base",
      "model_module_version": "2.0.0",
      "model_name": "LayoutModel",
      "state": {
       "_view_name": "ErrorWidgetView",
       "error": {},
       "msg": "Failed to load model class 'LayoutModel' from module '@jupyter-widgets/base'"
      }
     },
     "e6adb3ea51f64a2898f75baae0deb08c": {
      "model_module": "@jupyter-widgets/base",
      "model_module_version": "2.0.0",
      "model_name": "LayoutModel",
      "state": {
       "_view_name": "ErrorWidgetView",
       "error": {},
       "msg": "Failed to load model class 'LayoutModel' from module '@jupyter-widgets/base'"
      }
     },
     "ea912bc79a4a47c3b5b03a005fafd371": {
      "model_module": "k3d",
      "model_module_version": "2.0.0",
      "model_name": "PlotModel",
      "state": {
       "_backend_version": "2.6.9",
       "_view_name": "ErrorWidgetView",
       "antialias": 3,
       "axes": [
        "x",
        "y",
        "z"
       ],
       "background_color": 16777215,
       "camera": [
        383.577413680471,
        -828.5329472457126,
        267.02802676879577,
        -85.58556270599365,
        -124.78848266601562,
        220.1117291301489,
        0,
        0,
        1
       ],
       "camera_auto_fit": true,
       "camera_no_pan": false,
       "camera_no_rotate": false,
       "camera_no_zoom": false,
       "clipping_planes": [],
       "colorbar_object_id": -1,
       "error": {},
       "fps_meter": false,
       "grid": [
        -1,
        -1,
        -1,
        1,
        1,
        1
       ],
       "grid_auto_fit": true,
       "grid_visible": true,
       "height": 512,
       "layout": "IPY_MODEL_04d104b361af4442b8f231587fd0433c",
       "lighting": 3,
       "menu_visibility": true,
       "msg": "Failed to load model class 'PlotModel' from module 'k3d'",
       "object_ids": [
        140013899496208
       ],
       "rendering_steps": 1,
       "screenshot": "",
       "screenshot_scale": 2,
       "time": 0,
       "voxel_paint_color": 0
      }
     },
     "ec17287fa46540fa91caee5d1a94c2a6": {
      "model_module": "k3d",
      "model_module_version": "2.0.0",
      "model_name": "PlotModel",
      "state": {
       "_backend_version": "2.6.9",
       "_view_name": "ErrorWidgetView",
       "antialias": 3,
       "axes": [
        "x",
        "y",
        "z"
       ],
       "background_color": 16777215,
       "camera": [
        2.8778826572598577,
        -4.316823985889787,
        0.28778826572598526,
        0,
        0,
        0,
        0,
        0,
        1
       ],
       "camera_auto_fit": true,
       "camera_no_pan": false,
       "camera_no_rotate": false,
       "camera_no_zoom": false,
       "clipping_planes": [],
       "colorbar_object_id": -1,
       "error": {},
       "fps_meter": false,
       "grid": [
        -1,
        -1,
        -1,
        1,
        1,
        1
       ],
       "grid_auto_fit": true,
       "grid_visible": true,
       "height": 512,
       "layout": "IPY_MODEL_e6adb3ea51f64a2898f75baae0deb08c",
       "lighting": 3,
       "menu_visibility": true,
       "msg": "Failed to load model class 'PlotModel' from module 'k3d'",
       "object_ids": [
        139841587525968
       ],
       "rendering_steps": 1,
       "screenshot": "",
       "screenshot_scale": 2,
       "time": 0,
       "voxel_paint_color": 0
      }
     },
     "f3b091719a5c4ebcade256c9b88e086c": {
      "model_module": "k3d",
      "model_module_version": "2.0.0",
      "model_name": "ObjectModel",
      "state": {
       "_view_name": "ErrorWidgetView",
       "attribute": {
        "compressed_buffer": {},
        "dtype": "float32",
        "shape": [
         0
        ]
       },
       "color": 4271375,
       "color_map": {
        "compressed_buffer": {},
        "dtype": "float32",
        "shape": [
         0
        ]
       },
       "color_range": [],
       "compression_level": 0,
       "error": {},
       "flat_shading": true,
       "id": 140018181329616,
       "indices": {
        "compressed_buffer": {},
        "dtype": "uint32",
        "shape": [
         2928,
         3
        ]
       },
       "model_matrix": {
        "compressed_buffer": {},
        "dtype": "float32",
        "shape": [
         4,
         4
        ]
       },
       "msg": "Failed to load model class 'ObjectModel' from module 'k3d'",
       "name": null,
       "opacity": 1,
       "type": "Mesh",
       "vertices": {
        "compressed_buffer": {},
        "dtype": "float32",
        "shape": [
         1968,
         3
        ]
       },
       "visible": true,
       "wireframe": false
      }
     },
     "f7013e5f41da43da9ec7c33cebeda4f3": {
      "model_module": "k3d",
      "model_module_version": "2.0.0",
      "model_name": "ObjectModel",
      "state": {
       "_view_name": "ErrorWidgetView",
       "attribute": {
        "compressed_buffer": {},
        "dtype": "float32",
        "shape": [
         0
        ]
       },
       "color": 255,
       "color_map": {
        "compressed_buffer": {},
        "dtype": "float32",
        "shape": [
         28
        ]
       },
       "color_range": [],
       "compression_level": 0,
       "error": {},
       "flat_shading": true,
       "id": 140183449176656,
       "indices": {
        "compressed_buffer": {},
        "dtype": "uint32",
        "shape": [
         0
        ]
       },
       "model_matrix": {
        "compressed_buffer": {},
        "dtype": "float32",
        "shape": [
         4,
         4
        ]
       },
       "msg": "Failed to load model class 'ObjectModel' from module 'k3d'",
       "name": null,
       "opacity": 1,
       "type": "Mesh",
       "vertices": {
        "compressed_buffer": {},
        "dtype": "float32",
        "shape": [
         0
        ]
       },
       "visible": true,
       "wireframe": false
      }
     },
     "f7c8e594a0c84384809d4749256caa99": {
      "model_module": "k3d",
      "model_module_version": "2.0.0",
      "model_name": "ObjectModel",
      "state": {
       "_view_name": "ErrorWidgetView",
       "attribute": {
        "compressed_buffer": {},
        "dtype": "float32",
        "shape": [
         0
        ]
       },
       "color": 4271375,
       "color_map": {
        "compressed_buffer": {},
        "dtype": "float32",
        "shape": [
         0
        ]
       },
       "color_range": [],
       "compression_level": 0,
       "error": {},
       "flat_shading": true,
       "id": 139978560563792,
       "indices": {
        "compressed_buffer": {},
        "dtype": "uint32",
        "shape": [
         2928,
         3
        ]
       },
       "model_matrix": {
        "compressed_buffer": {},
        "dtype": "float32",
        "shape": [
         4,
         4
        ]
       },
       "msg": "Failed to load model class 'ObjectModel' from module 'k3d'",
       "name": null,
       "opacity": 1,
       "type": "Mesh",
       "vertices": {
        "compressed_buffer": {},
        "dtype": "float32",
        "shape": [
         1968,
         3
        ]
       },
       "visible": true,
       "wireframe": false
      }
     }
    },
    "version_major": 2,
    "version_minor": 0
   }
  }
 },
 "nbformat": 4,
 "nbformat_minor": 4
}
