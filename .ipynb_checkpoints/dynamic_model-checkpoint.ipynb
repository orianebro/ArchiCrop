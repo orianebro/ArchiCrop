{
 "cells": [
  {
   "cell_type": "markdown",
   "metadata": {},
   "source": [
    "# Dynamic model"
   ]
  },
  {
   "cell_type": "raw",
   "metadata": {},
   "source": [
    "---\n",
    "title: \"Dynamic model\"\n",
    "author: \"Oriane Braud\"\n",
    "toc: true\n",
    "number-sections: true\n",
    "highlight-style: pygments\n",
    "format:\n",
    "  html: \n",
    "    code-fold: true\n",
    "    geometry: \n",
    "      - top=30mm\n",
    "      - left=30mm\n",
    "jupyter: python3\n",
    "---"
   ]
  },
  {
   "cell_type": "markdown",
   "metadata": {},
   "source": [
    "ReviewNB link: https://app.reviewnb.com/orianebro/ArchiCrop/blob/main/dynamic_model.ipynb"
   ]
  },
  {
   "cell_type": "code",
   "execution_count": 1,
   "metadata": {},
   "outputs": [],
   "source": [
    "#| echo: false\n",
    "\n",
    "# Ignore warning about depreciated modules\n",
    "import warnings\n",
    "warnings.filterwarnings('ignore', category=DeprecationWarning)"
   ]
  },
  {
   "cell_type": "code",
   "execution_count": 2,
   "metadata": {},
   "outputs": [],
   "source": [
    "#| echo: false\n",
    "\n",
    "# Import path of model\n",
    "import sys\n",
    "# caution: path[0] is reserved for script path (or '' in REPL)\n",
    "sys.path.insert(1, './src')"
   ]
  },
  {
   "cell_type": "code",
   "execution_count": 3,
   "metadata": {},
   "outputs": [],
   "source": [
    "#| echo: false\n",
    "\n",
    "# Enable interactive plotting\n",
    "%matplotlib ipympl"
   ]
  },
  {
   "cell_type": "markdown",
   "metadata": {},
   "source": [
    "## Conceptual diagram"
   ]
  },
  {
   "cell_type": "markdown",
   "metadata": {},
   "source": [
    "![Conceptual diagram of shoot FSPM (not final version, some errors)](images/shoot_FSPM_conceptual_diagram_alone.jpg \"Conceptual diagram\")"
   ]
  },
  {
   "cell_type": "markdown",
   "metadata": {},
   "source": [
    "The main stem grows according to the crop model's plant height. At the end of the growth of an internode, a leaf appears. The appearance of a leaf is triggered by fixed phyllochron (different for tillers?).  \n",
    "\n",
    "Cf Fournier et al, 2005 for leaf elongation \n",
    "\n",
    "The angle of the leaf with its axis is leaf-age dependent. The leaf blade curvature depends on the angle with the axis and the leaf length.  \n",
    "\n",
    "The reproductive organs appear from a given thermal time, when the leaves have stopped growing. \n",
    "\n",
    "Leaf senescence is constrained by crop model, as it has a direct influence on LAI (green LAI vs. yellow LAI ?).  \n",
    "\n",
    "The branching pattern is set (Tillers (Zhu et al., 2015)). "
   ]
  },
  {
   "cell_type": "markdown",
   "metadata": {},
   "source": [
    "## Time-dependent parametrization of leaf area\n",
    "\n",
    "$$ \\mathcal{A_normalized} = 2 * |\\int_{0}^{1} \\mathcal{C}(s(u))ds(u)| $$\n",
    "$$ \\mathcal{A} = \\mathcal{A_scaled} = 2 * w * |\\int_{0}^{L} \\mathcal{C}(\\frac{s(u)}{L})d\\frac{s(u)}{L}| $$\n",
    "$$ \\frac{d\\mathcal{A}}{dt} = 2 * w * |\\int_{ds(t)/L} \\mathcal{C}(\\frac{s(u)}{L})d\\frac{s(u)}{L}| $$\n",
    "\n",
    "- $\\mathcal{A}$ : final leaf area (or surface), in $cm^2$ (given by crop model)\n",
    "- $\\frac{d\\mathcal{A}}{dt}$ : gain in area, in $cm^2$, for a given leaf for a given time step $dt$ (given by crop model)  \n",
    "- $\\mathcal{C}$ : curve of the evolution of the leaf width along the leaf, **from tip to base** (literature/expert knowledge/observation)\n",
    "- $s(t)$ : curvilinear abscissa of the midrib, in $cm$, as a function of thermal time $t$, such that: $ ds(t) = \\sqrt{(dx(t))^2+(dy(t))^2} $ (computed from leaf curvature)\n",
    "- $w$ : final maximal width of the leaf, in $cm$ (to fix/vary within a reasonable range)\n",
    "- $L$ : final length of the leaf, in $cm$ (to fix/vary within a reasonable range)\n",
    "- $t$ : thermal time, in $^oC.day$\n"
   ]
  },
  {
   "cell_type": "markdown",
   "metadata": {},
   "source": [
    "The objective is to find, for each growing leaf, at each time step, and for a given leaf area provided to the leaf $\\frac{d\\mathcal{A}}{dt}$, how much length $ds(t)$ is added to the leaf.\n",
    "\n",
    "$$ \\frac{d\\mathcal{A}}{dt} = 2w |\\int_{s(t-1)/L}^{s(t)/L} \\mathcal{C}(\\frac{s(u)}{L})d\\frac{s(u)}{L}| $$\n",
    "\n",
    "According to the Fundamental Theorem of Calculus, $\\mathcal{C}$ being at least $C^0$ on $[0,L]$, $F$ being the antiderivative of $\\mathcal{C}$, we can write:\n",
    "\n",
    "$$ \\frac{d\\mathcal{A}}{dt} = 2w (|F(\\frac{s(t)}{L}) - F(\\frac{s(t-1)}{L})|) $$\n",
    "\n",
    "$$ F(\\frac{s(t)}{L}) = |\\frac{1}{2w} \\frac{d\\mathcal{A}}{dt} + F(\\frac{s(t-1)}{L})| $$\n",
    "\n",
    "Knowing the other variables, we know have to determine $s(t)$ at thermal time $t$."
   ]
  },
  {
   "cell_type": "code",
   "execution_count": 4,
   "metadata": {},
   "outputs": [],
   "source": [
    "#| echo: false\n",
    "# drawing"
   ]
  },
  {
   "cell_type": "markdown",
   "metadata": {},
   "source": [
    "## Apparition and growth of phytomers (stem and leaf)"
   ]
  },
  {
   "cell_type": "markdown",
   "metadata": {},
   "source": [
    "The height of the plant/canopy (here we consider the height of the main stem) is given by the crop model.  \n",
    "The plastochron (i.e. leaf initiation rate, in $leaf^{-1}$) is the time interval between two successive leaves produced at the SAM.  \n",
    "The phyllochron (i.e. leaf emergence rate, in $leaf^{-1}$) is the time interval between two successive leaves emerging from the top of the former leaf sheath.  \n",
    "The time for a leaf to grow is roughly between 1.5 and 2 phyllochrons.  \n",
    "We consider a linear (rough approximation of beta function) growth for the leaf.  \n",
    "\n",
    "- $\\phi$ : phyllochron, in $^oC.day.leaf^{-1}$ (literature)\n",
    "- cur_len_int : current length of growing internodes\n",
    "- fin_len_int : final length of internodes, in $cm$ (literature, bell shaped model too ?)\n",
    "- height : plant height, in $cm$ (given by crop model)\n",
    "- $[s(t)]$ : current length of growing leaves, in $cm$ (computed before)\n",
    "- fin_len_leaf : final length of leaves, in $cm$  (bell shaped model)\n",
    "- leaf expansion duration, as $x * \\phi$, in $^oC.day$ (literature, cf Clerget et al., 2008, etc)  \n",
    "\n",
    "Cf Fournier et al, 2005; Stewart and Dwyer, 1993; Skinner and Nelson, 1995  \n",
    "\n"
   ]
  },
  {
   "cell_type": "markdown",
   "metadata": {},
   "source": [
    "From crop model: "
   ]
  },
  {
   "cell_type": "markdown",
   "metadata": {},
   "source": [
    "## Modifying the MTG of a growing plant"
   ]
  },
  {
   "cell_type": "markdown",
   "metadata": {},
   "source": [
    "There are several ways to conceive the MTG for a growing plant.  \n",
    "\n",
    "At each thermal time step, the turtle visits each element and adds a value to a time series for each (almost) properties of the MTG.   \n",
    "\n",
    "**OR**   \n",
    "\n",
    "At each thermal time step, the MTG is replicated and the growing elements ar modified, and new elements are added if needed.  "
   ]
  },
  {
   "cell_type": "code",
   "execution_count": 5,
   "metadata": {},
   "outputs": [
    {
     "name": "stdout",
     "output_type": "stream",
     "text": [
      "    plant  ntop    L_blade   W_blade     S_blade  form_factor       h_ins  \\\n",
      "0       1    17  24.257403  2.425740   44.131620         0.75    4.586218   \n",
      "1       1    16  28.117999  2.811800   59.296642         0.75    5.732772   \n",
      "2       1    15  32.484958  3.248496   79.145439         0.75    7.165965   \n",
      "3       1    14  37.319154  3.731915  104.453946         0.75    8.957456   \n",
      "4       1    13  42.533063  4.253306  135.679608         0.75   11.196820   \n",
      "5       1    12  47.980052  4.798005  172.656402         0.75   13.996025   \n",
      "6       1    11  53.447544  5.344754  214.247996         0.75   17.495032   \n",
      "7       1    10  58.657235  5.865723  258.050339         0.75   21.868790   \n",
      "8       1     9  63.275562  6.327556  300.284754         0.75   27.335987   \n",
      "9       1     8  66.936782  6.693678  336.039957         0.75   34.169984   \n",
      "10      1     7  69.279037  6.927904  359.968873         0.75   42.712480   \n",
      "11      1     6  69.990783  6.999078  367.403232         0.75   53.390600   \n",
      "12      1     5  68.861371  6.886137  355.641631         0.75   66.738249   \n",
      "13      1     4  65.826396  6.582640  324.983578         0.75   83.422812   \n",
      "14      1     3  60.996918  6.099692  279.046798         0.75  104.278515   \n",
      "15      1     2  54.662930  5.466293  224.102695         0.75  130.348143   \n",
      "16      1     1  47.266009  4.726601  167.555668         0.75  162.935179   \n",
      "\n",
      "    L_sheath  W_sheath  L_internode  W_internode  leaf_azimuth  leaf_rank  \\\n",
      "0          0      2.50     4.586218         2.50           0.0          1   \n",
      "1          0      2.50     1.146554         2.50         180.0          2   \n",
      "2          0      2.50     1.433193         2.50        -180.0          3   \n",
      "3          0      2.50     1.791491         2.50         180.0          4   \n",
      "4          0      2.50     2.239364         2.50        -180.0          5   \n",
      "5          0      2.50     2.799205         2.50         180.0          6   \n",
      "6          0      2.50     3.499006         2.50        -180.0          7   \n",
      "7          0      2.35     4.373758         2.35         180.0          8   \n",
      "8          0      2.20     5.467197         2.20        -180.0          9   \n",
      "9          0      2.05     6.833997         2.05         180.0         10   \n",
      "10         0      1.90     8.542496         1.90        -180.0         11   \n",
      "11         0      1.75    10.678120         1.75         180.0         12   \n",
      "12         0      1.60    13.347650         1.60        -180.0         13   \n",
      "13         0      1.45    16.684562         1.45         180.0         14   \n",
      "14         0      1.30    20.855703         1.30        -180.0         15   \n",
      "15         0      1.15    26.069629         1.15         180.0         16   \n",
      "16         0      1.00    32.587036         1.00        -180.0         17   \n",
      "\n",
      "                                           leaf_shape  \n",
      "0   ([0.006340269189362794, 0.06693716016798343, 0...  \n",
      "1   ([0.006340269189362794, 0.06693716016798343, 0...  \n",
      "2   ([0.006340269189362794, 0.06693716016798343, 0...  \n",
      "3   ([0.006340269189362794, 0.06693716016798343, 0...  \n",
      "4   ([0.006340269189362794, 0.06693716016798343, 0...  \n",
      "5   ([0.006340269189362794, 0.06693716016798343, 0...  \n",
      "6   ([0.006340269189362794, 0.06693716016798343, 0...  \n",
      "7   ([0.006340269189362794, 0.06693716016798343, 0...  \n",
      "8   ([0.006340269189362794, 0.06693716016798343, 0...  \n",
      "9   ([0.006340269189362794, 0.06693716016798343, 0...  \n",
      "10  ([0.006340269189362794, 0.06693716016798343, 0...  \n",
      "11  ([0.006340269189362794, 0.06693716016798343, 0...  \n",
      "12  ([0.006340269189362794, 0.06693716016798343, 0...  \n",
      "13  ([0.006340269189362794, 0.06693716016798343, 0...  \n",
      "14  ([0.006340269189362794, 0.06693716016798343, 0...  \n",
      "15  ([0.006340269189362794, 0.06693716016798343, 0...  \n",
      "16  ([0.006340269189362794, 0.06693716016798343, 0...  \n"
     ]
    },
    {
     "data": {
      "application/vnd.jupyter.widget-view+json": {
       "model_id": "776ea1e1ac01491c9798c51b322d0aef",
       "version_major": 2,
       "version_minor": 0
      },
      "text/plain": [
       "Plot(antialias=3, axes=['x', 'y', 'z'], axes_helper=1.0, axes_helper_colors=[16711680, 65280, 255], background…"
      ]
     },
     "execution_count": 5,
     "metadata": {},
     "output_type": "execute_result"
    }
   ],
   "source": [
    "## Imports\n",
    "\n",
    "# from installed packages\n",
    "import numpy as np\n",
    "import matplotlib.pyplot as plt\n",
    "from openalea.plantgl.all import Vector3\n",
    "from oawidgets.plantgl import *\n",
    "\n",
    "# from archicrop\n",
    "from archicrop.cereals_leaf import parametric_leaf\n",
    "from archicrop.plant_shape import geometric_dist, bell_shaped_dist\n",
    "from archicrop.plant_design import leaf_azimuth\n",
    "from archicrop.cereals import build_shoot\n",
    "from archicrop.display import display_mtg, build_scene, display_scene\n",
    "\n",
    "# Enable plotting with PlantGL\n",
    "%gui qt\n",
    "\n",
    "# Set nice color for plants\n",
    "nice_green=Color3((50,100,0))\n",
    "\n",
    "## Code for generating a 3D cereal shoot from descritive parameters\n",
    "# Parameters \n",
    "height=1000                 # from crop model\n",
    "nb_phy=17                   # fixed max nb of phytomers\n",
    "max_leaf_length=70 \n",
    "insertion_angle=40\n",
    "scurv=0.7\n",
    "curvature=80\n",
    "phyllotactic_angle=180\n",
    "spiral=False\n",
    "\n",
    "diam_base=2.5\n",
    "diam_top=1.0\n",
    "# Lejeune and Bernier formula + col =\n",
    "nb_young_phy = int(round((nb_phy - 1.95) / 1.84 / 1.3))\n",
    "# stem diameters\n",
    "diameter = ([diam_base] * nb_young_phy + np.linspace(diam_base, diam_top, nb_phy - nb_young_phy).tolist()) \n",
    "\n",
    "# Functions calls\n",
    "insertion_heights=np.array(geometric_dist(height, \n",
    "                                          nb_phy, \n",
    "                                          q=1.25)) # further separate stem and pseudo stem, cf simple maize\n",
    "\n",
    "leaf_lengths=np.array(bell_shaped_dist(max_leaf_length=max_leaf_length, \n",
    "                                       nb_phy=nb_phy, \n",
    "                                       rmax=0.7, \n",
    "                                       skew=0.15)) # plant area --> max leaf length\n",
    "# leaf_areas=bell_shaped_dist(plant_area=1, nb_phy=15, rmax=0.7, skew=0.15) # cf blade_dimension\n",
    "\n",
    "a_leaf = parametric_leaf(nb_segment=10, \n",
    "                         insertion_angle=insertion_angle, \n",
    "                         scurv=scurv, \n",
    "                         curvature=curvature, \n",
    "                         alpha=-2.3)\n",
    "\n",
    "leaf_shapes = [a_leaf for l in leaf_lengths] # possible to replace leaf_length by nb_phy or...\n",
    "\n",
    "leaf_azimuths = leaf_azimuth(size=len(leaf_lengths), \n",
    "                             phyllotactic_angle=phyllotactic_angle, \n",
    "                             phyllotactic_deviation=0, \n",
    "                             plant_orientation=0, \n",
    "                             spiral=spiral)\n",
    "\n",
    "shoot, g = build_shoot(stem_diameters=diameter, \n",
    "                              insertion_heights=insertion_heights, \n",
    "                              leaf_lengths=leaf_lengths, \n",
    "                              leaf_areas=None, \n",
    "                              leaf_shapes=leaf_shapes, \n",
    "                              leaf_azimuths=leaf_azimuths)\n",
    "\n",
    "# Build and display scene\n",
    "scene, nump = build_scene(g, \n",
    "                          leaf_material=Material(nice_green), \n",
    "                          stem_material=Material(nice_green))\n",
    "# display_scene(scene_single) # display in separate window\n",
    "PlantGL(scene) # display in notebook"
   ]
  },
  {
   "cell_type": "code",
   "execution_count": 6,
   "metadata": {},
   "outputs": [
    {
     "data": {
      "text/plain": [
       "7564.4545914379005"
      ]
     },
     "execution_count": 6,
     "metadata": {},
     "output_type": "execute_result"
    }
   ],
   "source": [
    "from archicrop.plant_shape import compute_leaf_area\n",
    "\n",
    "compute_leaf_area(g)"
   ]
  },
  {
   "cell_type": "code",
   "execution_count": 7,
   "metadata": {},
   "outputs": [],
   "source": [
    "from ipywidgets import interact, interactive, IntSlider, fixed\n",
    "from archicrop.dynamic import grow_plant, grow_plant_and_display\n",
    "\n",
    "def grow_plant_and_display_in_NB(g, time):\n",
    "    g, scene, nump=grow_plant_and_display(g, time)\n",
    "    w=PlantGL(scene, group_by_color=True)\n",
    "    w.wireframe=True\n",
    "    return w"
   ]
  },
  {
   "cell_type": "code",
   "execution_count": 8,
   "metadata": {},
   "outputs": [
    {
     "data": {
      "application/vnd.jupyter.widget-view+json": {
       "model_id": "83086433480644f08e55e3d6ef03d257",
       "version_major": 2,
       "version_minor": 0
      },
      "text/plain": [
       "interactive(children=(IntSlider(value=1000, description='time', max=2000, min=20, step=100), Output()), _dom_c…"
      ]
     },
     "metadata": {},
     "output_type": "display_data"
    },
    {
     "data": {
      "text/plain": [
       "<function __main__.grow_plant_and_display_in_NB(g, time)>"
      ]
     },
     "execution_count": 8,
     "metadata": {},
     "output_type": "execute_result"
    }
   ],
   "source": [
    "# max_time = max(g.property('end_tt').values())\n",
    "interact(grow_plant_and_display_in_NB, g=fixed(g), time=IntSlider(min=20, max=2000, step=100, value=1000))"
   ]
  },
  {
   "cell_type": "code",
   "execution_count": 9,
   "metadata": {},
   "outputs": [
    {
     "name": "stdout",
     "output_type": "stream",
     "text": [
      "Local cdn resources have problems on chrome/safari when used in jupyter-notebook. \n"
     ]
    },
    {
     "data": {
      "text/html": [
       "\n",
       "        <iframe\n",
       "            width=\"900px\"\n",
       "            height=\"800px\"\n",
       "            src=\"mtg.html\"\n",
       "            frameborder=\"0\"\n",
       "            allowfullscreen\n",
       "            \n",
       "        ></iframe>\n",
       "        "
      ],
      "text/plain": [
       "<IPython.lib.display.IFrame at 0x1bf94a778c0>"
      ]
     },
     "execution_count": 9,
     "metadata": {},
     "output_type": "execute_result"
    }
   ],
   "source": [
    "from oawidgets.mtg import plot as MTGw\n",
    "MTGw(g, properties='label')\n",
    "# g.display()"
   ]
  },
  {
   "cell_type": "code",
   "execution_count": 10,
   "metadata": {},
   "outputs": [
    {
     "data": {
      "text/plain": [
       "{'edge_type': {1: '/',\n",
       "  2: '/',\n",
       "  4: '+',\n",
       "  5: '<',\n",
       "  6: '+',\n",
       "  7: '<',\n",
       "  8: '+',\n",
       "  9: '<',\n",
       "  10: '+',\n",
       "  11: '<',\n",
       "  12: '+',\n",
       "  13: '<',\n",
       "  14: '+',\n",
       "  15: '<',\n",
       "  16: '+',\n",
       "  17: '<',\n",
       "  18: '+',\n",
       "  19: '<',\n",
       "  20: '+',\n",
       "  21: '<',\n",
       "  22: '+',\n",
       "  23: '<',\n",
       "  24: '+',\n",
       "  25: '<',\n",
       "  26: '+',\n",
       "  27: '<',\n",
       "  28: '+',\n",
       "  29: '<',\n",
       "  30: '+',\n",
       "  31: '<',\n",
       "  32: '+',\n",
       "  33: '<',\n",
       "  34: '+',\n",
       "  35: '<',\n",
       "  36: '+'},\n",
       " 'label': {1: 'Plant',\n",
       "  2: 'MainAxis',\n",
       "  3: 'Stem',\n",
       "  4: 'Leaf',\n",
       "  5: 'Stem',\n",
       "  6: 'Leaf',\n",
       "  7: 'Stem',\n",
       "  8: 'Leaf',\n",
       "  9: 'Stem',\n",
       "  10: 'Leaf',\n",
       "  11: 'Stem',\n",
       "  12: 'Leaf',\n",
       "  13: 'Stem',\n",
       "  14: 'Leaf',\n",
       "  15: 'Stem',\n",
       "  16: 'Leaf',\n",
       "  17: 'Stem',\n",
       "  18: 'Leaf',\n",
       "  19: 'Stem',\n",
       "  20: 'Leaf',\n",
       "  21: 'Stem',\n",
       "  22: 'Leaf',\n",
       "  23: 'Stem',\n",
       "  24: 'Leaf',\n",
       "  25: 'Stem',\n",
       "  26: 'Leaf',\n",
       "  27: 'Stem',\n",
       "  28: 'Leaf',\n",
       "  29: 'Stem',\n",
       "  30: 'Leaf',\n",
       "  31: 'Stem',\n",
       "  32: 'Leaf',\n",
       "  33: 'Stem',\n",
       "  34: 'Leaf',\n",
       "  35: 'Stem',\n",
       "  36: 'Leaf'},\n",
       " 'mature_length': {3: 4.586217578480434,\n",
       "  5: 1.1465543946201082,\n",
       "  7: 1.433192993275136,\n",
       "  9: 1.7914912415939197,\n",
       "  11: 2.239364051992398,\n",
       "  13: 2.7992050649905007,\n",
       "  15: 3.4990063312381228,\n",
       "  17: 4.373757914047655,\n",
       "  19: 5.467197392559569,\n",
       "  21: 6.833996740699458,\n",
       "  23: 8.542495925874327,\n",
       "  25: 10.67811990734291,\n",
       "  27: 13.34764988417863,\n",
       "  29: 16.684562355223292,\n",
       "  31: 20.85570294402912,\n",
       "  33: 26.069628680036402,\n",
       "  35: 32.58703585004548},\n",
       " 'length': {3: 4.586217578480434,\n",
       "  4: 24.257403061691754,\n",
       "  5: 1.1465543946201082,\n",
       "  6: 28.11799942491916,\n",
       "  7: 1.433192993275136,\n",
       "  8: 32.48495827609186,\n",
       "  9: 1.7914912415939197,\n",
       "  10: 37.31915424785508,\n",
       "  11: 2.239364051992398,\n",
       "  12: 42.5330628879143,\n",
       "  13: 2.7992050649905007,\n",
       "  14: 47.980051622617076,\n",
       "  15: 3.4990063312381228,\n",
       "  16: 53.44754389058404,\n",
       "  17: 4.373757914047655,\n",
       "  18: 58.65723469177758,\n",
       "  19: 5.467197392559569,\n",
       "  20: 63.275561782558235,\n",
       "  21: 6.833996740699458,\n",
       "  22: 66.93678179123937,\n",
       "  23: 8.542495925874327,\n",
       "  24: 69.2790370808687,\n",
       "  25: 10.67811990734291,\n",
       "  26: 69.99078337619086,\n",
       "  27: 13.34764988417863,\n",
       "  28: 68.86137099896267,\n",
       "  29: 16.684562355223292,\n",
       "  30: 65.82639573700129,\n",
       "  31: 20.85570294402912,\n",
       "  32: 60.99691772383348,\n",
       "  33: 26.069628680036402,\n",
       "  34: 54.66293009876565,\n",
       "  35: 32.58703585004548,\n",
       "  36: 47.26600870733798},\n",
       " 'visible_length': {3: 4.586217578480434,\n",
       "  4: 24.257403061691754,\n",
       "  5: 1.1465543946201082,\n",
       "  6: 28.11799942491916,\n",
       "  7: 1.433192993275136,\n",
       "  8: 32.48495827609186,\n",
       "  9: 1.7914912415939197,\n",
       "  10: 37.31915424785508,\n",
       "  11: 2.239364051992398,\n",
       "  12: 42.5330628879143,\n",
       "  13: 2.7992050649905007,\n",
       "  14: 47.980051622617076,\n",
       "  15: 3.4990063312381228,\n",
       "  16: 53.44754389058404,\n",
       "  17: 4.373757914047655,\n",
       "  18: 58.65723469177758,\n",
       "  19: 3.7276345858360695,\n",
       "  20: 43.14242848810788,\n",
       "  21: 0.38829526935792374,\n",
       "  22: 3.8032262381386004,\n",
       "  23: 8.542495925874327,\n",
       "  24: 69.2790370808687,\n",
       "  25: 10.67811990734291,\n",
       "  26: 69.99078337619086,\n",
       "  27: 13.34764988417863,\n",
       "  28: 68.86137099896267,\n",
       "  29: 16.684562355223292,\n",
       "  30: 65.82639573700129,\n",
       "  31: 20.85570294402912,\n",
       "  32: 60.99691772383348,\n",
       "  33: 26.069628680036402,\n",
       "  34: 54.66293009876565,\n",
       "  35: 32.58703585004548,\n",
       "  36: 47.26600870733798},\n",
       " 'is_green': {3: True,\n",
       "  4: True,\n",
       "  5: True,\n",
       "  6: True,\n",
       "  7: True,\n",
       "  8: True,\n",
       "  9: True,\n",
       "  10: True,\n",
       "  11: True,\n",
       "  12: True,\n",
       "  13: True,\n",
       "  14: True,\n",
       "  15: True,\n",
       "  16: True,\n",
       "  17: True,\n",
       "  18: True,\n",
       "  19: True,\n",
       "  20: True,\n",
       "  21: True,\n",
       "  22: True,\n",
       "  23: True,\n",
       "  24: True,\n",
       "  25: True,\n",
       "  26: True,\n",
       "  27: True,\n",
       "  28: True,\n",
       "  29: True,\n",
       "  30: True,\n",
       "  31: True,\n",
       "  32: True,\n",
       "  33: True,\n",
       "  34: True,\n",
       "  35: True,\n",
       "  36: True},\n",
       " 'diameter': {3: 2.5,\n",
       "  5: 2.5,\n",
       "  7: 2.5,\n",
       "  9: 2.5,\n",
       "  11: 2.5,\n",
       "  13: 2.5,\n",
       "  15: 2.5,\n",
       "  17: 2.35,\n",
       "  19: 2.2,\n",
       "  21: 2.05,\n",
       "  23: 1.9,\n",
       "  25: 1.75,\n",
       "  27: 1.6,\n",
       "  29: 1.45,\n",
       "  31: 1.3,\n",
       "  33: 1.1500000000000001,\n",
       "  35: 1.0},\n",
       " 'azimuth': {3: 0.0,\n",
       "  5: 180.0,\n",
       "  7: -180.0,\n",
       "  9: 180.0,\n",
       "  11: -180.0,\n",
       "  13: 180.0,\n",
       "  15: -180.0,\n",
       "  17: 180.0,\n",
       "  19: -180.0,\n",
       "  21: 180.0,\n",
       "  23: -180.0,\n",
       "  25: 180.0,\n",
       "  27: -180.0,\n",
       "  29: 180.0,\n",
       "  31: -180.0,\n",
       "  33: 180.0,\n",
       "  35: -180.0},\n",
       " 'shape': {4: (array([0.00634027, 0.06693716, 0.12601321, 0.17710481, 0.24849582,\n",
       "          0.33409181, 0.43411926, 0.50961433, 0.5962277 , 0.68355511,\n",
       "          0.76088377, 0.83712401]),\n",
       "   array([-0.00346833,  0.0859332 ,  0.15575262,  0.20645505,  0.26519042,\n",
       "           0.31943549,  0.3622023 ,  0.3799512 ,  0.38430736,  0.37000106,\n",
       "           0.3398266 ,  0.29160093]),\n",
       "   array([0.        , 0.10800285, 0.19946175, 0.27144153, 0.36388892,\n",
       "          0.46522599, 0.57401243, 0.65156583, 0.73828868, 0.82678018,\n",
       "          0.90978753, 1.        ]),\n",
       "   array([0.73783224, 0.88135009, 0.96283256, 0.99638426, 1.00152079,\n",
       "          0.96548102, 0.88349353, 0.79021341, 0.64117414, 0.45187775,\n",
       "          0.2610025 , 0.        ])),\n",
       "  6: (array([0.00634027, 0.06693716, 0.12601321, 0.17710481, 0.24849582,\n",
       "          0.33409181, 0.43411926, 0.50961433, 0.5962277 , 0.68355511,\n",
       "          0.76088377, 0.83712401]),\n",
       "   array([-0.00346833,  0.0859332 ,  0.15575262,  0.20645505,  0.26519042,\n",
       "           0.31943549,  0.3622023 ,  0.3799512 ,  0.38430736,  0.37000106,\n",
       "           0.3398266 ,  0.29160093]),\n",
       "   array([0.        , 0.10800285, 0.19946175, 0.27144153, 0.36388892,\n",
       "          0.46522599, 0.57401243, 0.65156583, 0.73828868, 0.82678018,\n",
       "          0.90978753, 1.        ]),\n",
       "   array([0.73783224, 0.88135009, 0.96283256, 0.99638426, 1.00152079,\n",
       "          0.96548102, 0.88349353, 0.79021341, 0.64117414, 0.45187775,\n",
       "          0.2610025 , 0.        ])),\n",
       "  8: (array([0.00634027, 0.06693716, 0.12601321, 0.17710481, 0.24849582,\n",
       "          0.33409181, 0.43411926, 0.50961433, 0.5962277 , 0.68355511,\n",
       "          0.76088377, 0.83712401]),\n",
       "   array([-0.00346833,  0.0859332 ,  0.15575262,  0.20645505,  0.26519042,\n",
       "           0.31943549,  0.3622023 ,  0.3799512 ,  0.38430736,  0.37000106,\n",
       "           0.3398266 ,  0.29160093]),\n",
       "   array([0.        , 0.10800285, 0.19946175, 0.27144153, 0.36388892,\n",
       "          0.46522599, 0.57401243, 0.65156583, 0.73828868, 0.82678018,\n",
       "          0.90978753, 1.        ]),\n",
       "   array([0.73783224, 0.88135009, 0.96283256, 0.99638426, 1.00152079,\n",
       "          0.96548102, 0.88349353, 0.79021341, 0.64117414, 0.45187775,\n",
       "          0.2610025 , 0.        ])),\n",
       "  10: (array([0.00634027, 0.06693716, 0.12601321, 0.17710481, 0.24849582,\n",
       "          0.33409181, 0.43411926, 0.50961433, 0.5962277 , 0.68355511,\n",
       "          0.76088377, 0.83712401]),\n",
       "   array([-0.00346833,  0.0859332 ,  0.15575262,  0.20645505,  0.26519042,\n",
       "           0.31943549,  0.3622023 ,  0.3799512 ,  0.38430736,  0.37000106,\n",
       "           0.3398266 ,  0.29160093]),\n",
       "   array([0.        , 0.10800285, 0.19946175, 0.27144153, 0.36388892,\n",
       "          0.46522599, 0.57401243, 0.65156583, 0.73828868, 0.82678018,\n",
       "          0.90978753, 1.        ]),\n",
       "   array([0.73783224, 0.88135009, 0.96283256, 0.99638426, 1.00152079,\n",
       "          0.96548102, 0.88349353, 0.79021341, 0.64117414, 0.45187775,\n",
       "          0.2610025 , 0.        ])),\n",
       "  12: (array([0.00634027, 0.06693716, 0.12601321, 0.17710481, 0.24849582,\n",
       "          0.33409181, 0.43411926, 0.50961433, 0.5962277 , 0.68355511,\n",
       "          0.76088377, 0.83712401]),\n",
       "   array([-0.00346833,  0.0859332 ,  0.15575262,  0.20645505,  0.26519042,\n",
       "           0.31943549,  0.3622023 ,  0.3799512 ,  0.38430736,  0.37000106,\n",
       "           0.3398266 ,  0.29160093]),\n",
       "   array([0.        , 0.10800285, 0.19946175, 0.27144153, 0.36388892,\n",
       "          0.46522599, 0.57401243, 0.65156583, 0.73828868, 0.82678018,\n",
       "          0.90978753, 1.        ]),\n",
       "   array([0.73783224, 0.88135009, 0.96283256, 0.99638426, 1.00152079,\n",
       "          0.96548102, 0.88349353, 0.79021341, 0.64117414, 0.45187775,\n",
       "          0.2610025 , 0.        ])),\n",
       "  14: (array([0.00634027, 0.06693716, 0.12601321, 0.17710481, 0.24849582,\n",
       "          0.33409181, 0.43411926, 0.50961433, 0.5962277 , 0.68355511,\n",
       "          0.76088377, 0.83712401]),\n",
       "   array([-0.00346833,  0.0859332 ,  0.15575262,  0.20645505,  0.26519042,\n",
       "           0.31943549,  0.3622023 ,  0.3799512 ,  0.38430736,  0.37000106,\n",
       "           0.3398266 ,  0.29160093]),\n",
       "   array([0.        , 0.10800285, 0.19946175, 0.27144153, 0.36388892,\n",
       "          0.46522599, 0.57401243, 0.65156583, 0.73828868, 0.82678018,\n",
       "          0.90978753, 1.        ]),\n",
       "   array([0.73783224, 0.88135009, 0.96283256, 0.99638426, 1.00152079,\n",
       "          0.96548102, 0.88349353, 0.79021341, 0.64117414, 0.45187775,\n",
       "          0.2610025 , 0.        ])),\n",
       "  16: (array([0.00634027, 0.06693716, 0.12601321, 0.17710481, 0.24849582,\n",
       "          0.33409181, 0.43411926, 0.50961433, 0.5962277 , 0.68355511,\n",
       "          0.76088377, 0.83712401]),\n",
       "   array([-0.00346833,  0.0859332 ,  0.15575262,  0.20645505,  0.26519042,\n",
       "           0.31943549,  0.3622023 ,  0.3799512 ,  0.38430736,  0.37000106,\n",
       "           0.3398266 ,  0.29160093]),\n",
       "   array([0.        , 0.10800285, 0.19946175, 0.27144153, 0.36388892,\n",
       "          0.46522599, 0.57401243, 0.65156583, 0.73828868, 0.82678018,\n",
       "          0.90978753, 1.        ]),\n",
       "   array([0.73783224, 0.88135009, 0.96283256, 0.99638426, 1.00152079,\n",
       "          0.96548102, 0.88349353, 0.79021341, 0.64117414, 0.45187775,\n",
       "          0.2610025 , 0.        ])),\n",
       "  18: (array([0.00634027, 0.06693716, 0.12601321, 0.17710481, 0.24849582,\n",
       "          0.33409181, 0.43411926, 0.50961433, 0.5962277 , 0.68355511,\n",
       "          0.76088377, 0.83712401]),\n",
       "   array([-0.00346833,  0.0859332 ,  0.15575262,  0.20645505,  0.26519042,\n",
       "           0.31943549,  0.3622023 ,  0.3799512 ,  0.38430736,  0.37000106,\n",
       "           0.3398266 ,  0.29160093]),\n",
       "   array([0.        , 0.10800285, 0.19946175, 0.27144153, 0.36388892,\n",
       "          0.46522599, 0.57401243, 0.65156583, 0.73828868, 0.82678018,\n",
       "          0.90978753, 1.        ]),\n",
       "   array([0.73783224, 0.88135009, 0.96283256, 0.99638426, 1.00152079,\n",
       "          0.96548102, 0.88349353, 0.79021341, 0.64117414, 0.45187775,\n",
       "          0.2610025 , 0.        ])),\n",
       "  20: (array([0.00634027, 0.06693716, 0.12601321, 0.17710481, 0.24849582,\n",
       "          0.33409181, 0.43411926, 0.50961433, 0.5962277 , 0.68355511,\n",
       "          0.76088377, 0.83712401]),\n",
       "   array([-0.00346833,  0.0859332 ,  0.15575262,  0.20645505,  0.26519042,\n",
       "           0.31943549,  0.3622023 ,  0.3799512 ,  0.38430736,  0.37000106,\n",
       "           0.3398266 ,  0.29160093]),\n",
       "   array([0.        , 0.10800285, 0.19946175, 0.27144153, 0.36388892,\n",
       "          0.46522599, 0.57401243, 0.65156583, 0.73828868, 0.82678018,\n",
       "          0.90978753, 1.        ]),\n",
       "   array([0.73783224, 0.88135009, 0.96283256, 0.99638426, 1.00152079,\n",
       "          0.96548102, 0.88349353, 0.79021341, 0.64117414, 0.45187775,\n",
       "          0.2610025 , 0.        ])),\n",
       "  22: (array([0.00634027, 0.06693716, 0.12601321, 0.17710481, 0.24849582,\n",
       "          0.33409181, 0.43411926, 0.50961433, 0.5962277 , 0.68355511,\n",
       "          0.76088377, 0.83712401]),\n",
       "   array([-0.00346833,  0.0859332 ,  0.15575262,  0.20645505,  0.26519042,\n",
       "           0.31943549,  0.3622023 ,  0.3799512 ,  0.38430736,  0.37000106,\n",
       "           0.3398266 ,  0.29160093]),\n",
       "   array([0.        , 0.10800285, 0.19946175, 0.27144153, 0.36388892,\n",
       "          0.46522599, 0.57401243, 0.65156583, 0.73828868, 0.82678018,\n",
       "          0.90978753, 1.        ]),\n",
       "   array([0.73783224, 0.88135009, 0.96283256, 0.99638426, 1.00152079,\n",
       "          0.96548102, 0.88349353, 0.79021341, 0.64117414, 0.45187775,\n",
       "          0.2610025 , 0.        ])),\n",
       "  24: (array([0.00634027, 0.06693716, 0.12601321, 0.17710481, 0.24849582,\n",
       "          0.33409181, 0.43411926, 0.50961433, 0.5962277 , 0.68355511,\n",
       "          0.76088377, 0.83712401]),\n",
       "   array([-0.00346833,  0.0859332 ,  0.15575262,  0.20645505,  0.26519042,\n",
       "           0.31943549,  0.3622023 ,  0.3799512 ,  0.38430736,  0.37000106,\n",
       "           0.3398266 ,  0.29160093]),\n",
       "   array([0.        , 0.10800285, 0.19946175, 0.27144153, 0.36388892,\n",
       "          0.46522599, 0.57401243, 0.65156583, 0.73828868, 0.82678018,\n",
       "          0.90978753, 1.        ]),\n",
       "   array([0.73783224, 0.88135009, 0.96283256, 0.99638426, 1.00152079,\n",
       "          0.96548102, 0.88349353, 0.79021341, 0.64117414, 0.45187775,\n",
       "          0.2610025 , 0.        ])),\n",
       "  26: (array([0.00634027, 0.06693716, 0.12601321, 0.17710481, 0.24849582,\n",
       "          0.33409181, 0.43411926, 0.50961433, 0.5962277 , 0.68355511,\n",
       "          0.76088377, 0.83712401]),\n",
       "   array([-0.00346833,  0.0859332 ,  0.15575262,  0.20645505,  0.26519042,\n",
       "           0.31943549,  0.3622023 ,  0.3799512 ,  0.38430736,  0.37000106,\n",
       "           0.3398266 ,  0.29160093]),\n",
       "   array([0.        , 0.10800285, 0.19946175, 0.27144153, 0.36388892,\n",
       "          0.46522599, 0.57401243, 0.65156583, 0.73828868, 0.82678018,\n",
       "          0.90978753, 1.        ]),\n",
       "   array([0.73783224, 0.88135009, 0.96283256, 0.99638426, 1.00152079,\n",
       "          0.96548102, 0.88349353, 0.79021341, 0.64117414, 0.45187775,\n",
       "          0.2610025 , 0.        ])),\n",
       "  28: (array([0.00634027, 0.06693716, 0.12601321, 0.17710481, 0.24849582,\n",
       "          0.33409181, 0.43411926, 0.50961433, 0.5962277 , 0.68355511,\n",
       "          0.76088377, 0.83712401]),\n",
       "   array([-0.00346833,  0.0859332 ,  0.15575262,  0.20645505,  0.26519042,\n",
       "           0.31943549,  0.3622023 ,  0.3799512 ,  0.38430736,  0.37000106,\n",
       "           0.3398266 ,  0.29160093]),\n",
       "   array([0.        , 0.10800285, 0.19946175, 0.27144153, 0.36388892,\n",
       "          0.46522599, 0.57401243, 0.65156583, 0.73828868, 0.82678018,\n",
       "          0.90978753, 1.        ]),\n",
       "   array([0.73783224, 0.88135009, 0.96283256, 0.99638426, 1.00152079,\n",
       "          0.96548102, 0.88349353, 0.79021341, 0.64117414, 0.45187775,\n",
       "          0.2610025 , 0.        ])),\n",
       "  30: (array([0.00634027, 0.06693716, 0.12601321, 0.17710481, 0.24849582,\n",
       "          0.33409181, 0.43411926, 0.50961433, 0.5962277 , 0.68355511,\n",
       "          0.76088377, 0.83712401]),\n",
       "   array([-0.00346833,  0.0859332 ,  0.15575262,  0.20645505,  0.26519042,\n",
       "           0.31943549,  0.3622023 ,  0.3799512 ,  0.38430736,  0.37000106,\n",
       "           0.3398266 ,  0.29160093]),\n",
       "   array([0.        , 0.10800285, 0.19946175, 0.27144153, 0.36388892,\n",
       "          0.46522599, 0.57401243, 0.65156583, 0.73828868, 0.82678018,\n",
       "          0.90978753, 1.        ]),\n",
       "   array([0.73783224, 0.88135009, 0.96283256, 0.99638426, 1.00152079,\n",
       "          0.96548102, 0.88349353, 0.79021341, 0.64117414, 0.45187775,\n",
       "          0.2610025 , 0.        ])),\n",
       "  32: (array([0.00634027, 0.06693716, 0.12601321, 0.17710481, 0.24849582,\n",
       "          0.33409181, 0.43411926, 0.50961433, 0.5962277 , 0.68355511,\n",
       "          0.76088377, 0.83712401]),\n",
       "   array([-0.00346833,  0.0859332 ,  0.15575262,  0.20645505,  0.26519042,\n",
       "           0.31943549,  0.3622023 ,  0.3799512 ,  0.38430736,  0.37000106,\n",
       "           0.3398266 ,  0.29160093]),\n",
       "   array([0.        , 0.10800285, 0.19946175, 0.27144153, 0.36388892,\n",
       "          0.46522599, 0.57401243, 0.65156583, 0.73828868, 0.82678018,\n",
       "          0.90978753, 1.        ]),\n",
       "   array([0.73783224, 0.88135009, 0.96283256, 0.99638426, 1.00152079,\n",
       "          0.96548102, 0.88349353, 0.79021341, 0.64117414, 0.45187775,\n",
       "          0.2610025 , 0.        ])),\n",
       "  34: (array([0.00634027, 0.06693716, 0.12601321, 0.17710481, 0.24849582,\n",
       "          0.33409181, 0.43411926, 0.50961433, 0.5962277 , 0.68355511,\n",
       "          0.76088377, 0.83712401]),\n",
       "   array([-0.00346833,  0.0859332 ,  0.15575262,  0.20645505,  0.26519042,\n",
       "           0.31943549,  0.3622023 ,  0.3799512 ,  0.38430736,  0.37000106,\n",
       "           0.3398266 ,  0.29160093]),\n",
       "   array([0.        , 0.10800285, 0.19946175, 0.27144153, 0.36388892,\n",
       "          0.46522599, 0.57401243, 0.65156583, 0.73828868, 0.82678018,\n",
       "          0.90978753, 1.        ]),\n",
       "   array([0.73783224, 0.88135009, 0.96283256, 0.99638426, 1.00152079,\n",
       "          0.96548102, 0.88349353, 0.79021341, 0.64117414, 0.45187775,\n",
       "          0.2610025 , 0.        ])),\n",
       "  36: (array([0.00634027, 0.06693716, 0.12601321, 0.17710481, 0.24849582,\n",
       "          0.33409181, 0.43411926, 0.50961433, 0.5962277 , 0.68355511,\n",
       "          0.76088377, 0.83712401]),\n",
       "   array([-0.00346833,  0.0859332 ,  0.15575262,  0.20645505,  0.26519042,\n",
       "           0.31943549,  0.3622023 ,  0.3799512 ,  0.38430736,  0.37000106,\n",
       "           0.3398266 ,  0.29160093]),\n",
       "   array([0.        , 0.10800285, 0.19946175, 0.27144153, 0.36388892,\n",
       "          0.46522599, 0.57401243, 0.65156583, 0.73828868, 0.82678018,\n",
       "          0.90978753, 1.        ]),\n",
       "   array([0.73783224, 0.88135009, 0.96283256, 0.99638426, 1.00152079,\n",
       "          0.96548102, 0.88349353, 0.79021341, 0.64117414, 0.45187775,\n",
       "          0.2610025 , 0.        ]))},\n",
       " 'shape_mature_length': {4: 24.257403061691754,\n",
       "  6: 28.11799942491916,\n",
       "  8: 32.48495827609186,\n",
       "  10: 37.31915424785508,\n",
       "  12: 42.5330628879143,\n",
       "  14: 47.980051622617076,\n",
       "  16: 53.44754389058404,\n",
       "  18: 58.65723469177758,\n",
       "  20: 63.275561782558235,\n",
       "  22: 66.93678179123937,\n",
       "  24: 69.2790370808687,\n",
       "  26: 69.99078337619086,\n",
       "  28: 68.86137099896267,\n",
       "  30: 65.82639573700129,\n",
       "  32: 60.99691772383348,\n",
       "  34: 54.66293009876565,\n",
       "  36: 47.26600870733798},\n",
       " 'leaf_area': {4: 44.13162024730294,\n",
       "  6: 59.296641874481566,\n",
       "  8: 79.14543856495717,\n",
       "  10: 104.45394553314,\n",
       "  12: 135.67960789704546,\n",
       "  14: 172.65640152817497,\n",
       "  16: 214.24799609519312,\n",
       "  18: 258.0503386264707,\n",
       "  20: 300.28475391737584,\n",
       "  22: 336.0399567425996,\n",
       "  24: 359.9688734139286,\n",
       "  26: 367.4032318209657,\n",
       "  28: 355.64163118925825,\n",
       "  30: 324.98357817932265,\n",
       "  32: 279.0467978856083,\n",
       "  34: 224.10269452369047,\n",
       "  36: 167.55566843416125},\n",
       " 'form_factor': {4: 0.75,\n",
       "  6: 0.75,\n",
       "  8: 0.75,\n",
       "  10: 0.75,\n",
       "  12: 0.75,\n",
       "  14: 0.75,\n",
       "  16: 0.75,\n",
       "  18: 0.75,\n",
       "  20: 0.75,\n",
       "  22: 0.75,\n",
       "  24: 0.75,\n",
       "  26: 0.75,\n",
       "  28: 0.75,\n",
       "  30: 0.75,\n",
       "  32: 0.75,\n",
       "  34: 0.75,\n",
       "  36: 0.75},\n",
       " 'srb': {4: 0,\n",
       "  6: 0,\n",
       "  8: 0,\n",
       "  10: 0,\n",
       "  12: 0,\n",
       "  14: 0,\n",
       "  16: 0,\n",
       "  18: 0,\n",
       "  20: 0,\n",
       "  22: 0,\n",
       "  24: 0,\n",
       "  26: 0,\n",
       "  28: 0,\n",
       "  30: 0,\n",
       "  32: 0,\n",
       "  34: 0,\n",
       "  36: 0},\n",
       " 'srt': {4: 1,\n",
       "  6: 1,\n",
       "  8: 1,\n",
       "  10: 1,\n",
       "  12: 1,\n",
       "  14: 1,\n",
       "  16: 1,\n",
       "  18: 1,\n",
       "  20: 1,\n",
       "  22: 1,\n",
       "  24: 1,\n",
       "  26: 1,\n",
       "  28: 1,\n",
       "  30: 1,\n",
       "  32: 1,\n",
       "  34: 1,\n",
       "  36: 1},\n",
       " 'lrolled': {4: 0,\n",
       "  6: 0,\n",
       "  8: 0,\n",
       "  10: 0,\n",
       "  12: 0,\n",
       "  14: 0,\n",
       "  16: 0,\n",
       "  18: 0,\n",
       "  20: 0,\n",
       "  22: 0,\n",
       "  24: 0,\n",
       "  26: 0,\n",
       "  28: 0,\n",
       "  30: 0,\n",
       "  32: 0,\n",
       "  34: 0,\n",
       "  36: 0},\n",
       " 'd_rolled': {4: 0,\n",
       "  6: 0,\n",
       "  8: 0,\n",
       "  10: 0,\n",
       "  12: 0,\n",
       "  14: 0,\n",
       "  16: 0,\n",
       "  18: 0,\n",
       "  20: 0,\n",
       "  22: 0,\n",
       "  24: 0,\n",
       "  26: 0,\n",
       "  28: 0,\n",
       "  30: 0,\n",
       "  32: 0,\n",
       "  34: 0,\n",
       "  36: 0},\n",
       " 'shape_max_width': {4: 2.4257403061691756,\n",
       "  6: 2.8117999424919162,\n",
       "  8: 3.248495827609186,\n",
       "  10: 3.7319154247855084,\n",
       "  12: 4.25330628879143,\n",
       "  14: 4.798005162261708,\n",
       "  16: 5.344754389058405,\n",
       "  18: 5.865723469177759,\n",
       "  20: 6.327556178255824,\n",
       "  22: 6.693678179123937,\n",
       "  24: 6.927903708086871,\n",
       "  26: 6.999078337619086,\n",
       "  28: 6.886137099896267,\n",
       "  30: 6.5826395737001295,\n",
       "  32: 6.099691772383348,\n",
       "  34: 5.466293009876566,\n",
       "  36: 4.726600870733798},\n",
       " 'stem_diameter': {4: 2.5,\n",
       "  6: 2.5,\n",
       "  8: 2.5,\n",
       "  10: 2.5,\n",
       "  12: 2.5,\n",
       "  14: 2.5,\n",
       "  16: 2.5,\n",
       "  18: 2.35,\n",
       "  20: 2.2,\n",
       "  22: 2.05,\n",
       "  24: 1.9,\n",
       "  26: 1.75,\n",
       "  28: 1.6,\n",
       "  30: 1.45,\n",
       "  32: 1.3,\n",
       "  34: 1.1500000000000001,\n",
       "  36: 1.0},\n",
       " 'geometry': {3: <openalea.plantgl.scenegraph._pglsg.TriangleSet at 0x1bf96592f80>,\n",
       "  4: <openalea.plantgl.scenegraph._pglsg.TriangleSet at 0x1bf96592f10>,\n",
       "  5: <openalea.plantgl.scenegraph._pglsg.TriangleSet at 0x1bf96592ea0>,\n",
       "  6: <openalea.plantgl.scenegraph._pglsg.TriangleSet at 0x1bf96592e30>,\n",
       "  7: <openalea.plantgl.scenegraph._pglsg.TriangleSet at 0x1bf96592dc0>,\n",
       "  8: <openalea.plantgl.scenegraph._pglsg.TriangleSet at 0x1bf96592d50>,\n",
       "  9: <openalea.plantgl.scenegraph._pglsg.TriangleSet at 0x1bf96592ce0>,\n",
       "  10: <openalea.plantgl.scenegraph._pglsg.TriangleSet at 0x1bf96592c70>,\n",
       "  11: <openalea.plantgl.scenegraph._pglsg.TriangleSet at 0x1bf96592c00>,\n",
       "  12: <openalea.plantgl.scenegraph._pglsg.TriangleSet at 0x1bf96592b90>,\n",
       "  13: <openalea.plantgl.scenegraph._pglsg.TriangleSet at 0x1bf96592b20>,\n",
       "  14: <openalea.plantgl.scenegraph._pglsg.TriangleSet at 0x1bf96592ab0>,\n",
       "  15: <openalea.plantgl.scenegraph._pglsg.TriangleSet at 0x1bf96592a40>,\n",
       "  16: <openalea.plantgl.scenegraph._pglsg.TriangleSet at 0x1bf965929d0>,\n",
       "  17: <openalea.plantgl.scenegraph._pglsg.TriangleSet at 0x1bf96592960>,\n",
       "  18: <openalea.plantgl.scenegraph._pglsg.TriangleSet at 0x1bf965928f0>,\n",
       "  19: <openalea.plantgl.scenegraph._pglsg.TriangleSet at 0x1bf96592880>,\n",
       "  20: <openalea.plantgl.scenegraph._pglsg.TriangleSet at 0x1bf96592810>,\n",
       "  21: <openalea.plantgl.scenegraph._pglsg.TriangleSet at 0x1bf965927a0>,\n",
       "  22: <openalea.plantgl.scenegraph._pglsg.TriangleSet at 0x1bf96592730>},\n",
       " 'anchor_point': {3: Vector3(0,0,0),\n",
       "  4: Vector3(0,0,4.58622),\n",
       "  5: Vector3(0,0,4.58622),\n",
       "  6: Vector3(0,0,5.73277),\n",
       "  7: Vector3(0,0,5.73277),\n",
       "  8: Vector3(0,0,7.16596),\n",
       "  9: Vector3(0,0,7.16596),\n",
       "  10: Vector3(0,0,8.95746),\n",
       "  11: Vector3(0,0,8.95746),\n",
       "  12: Vector3(0,0,11.1968),\n",
       "  13: Vector3(0,0,11.1968),\n",
       "  14: Vector3(0,0,13.996),\n",
       "  15: Vector3(0,0,13.996),\n",
       "  16: Vector3(0,0,17.495),\n",
       "  17: Vector3(0,0,17.495),\n",
       "  18: Vector3(0,0,21.8688),\n",
       "  19: Vector3(0,0,21.8688),\n",
       "  20: Vector3(0,0,25.5964),\n",
       "  21: Vector3(0,0,25.5964),\n",
       "  22: Vector3(0,0,25.9847),\n",
       "  23: Vector3(0,0,34.17),\n",
       "  24: Vector3(0,0,42.7125),\n",
       "  25: Vector3(0,0,42.7125),\n",
       "  26: Vector3(0,0,53.3906),\n",
       "  27: Vector3(0,0,53.3906),\n",
       "  28: Vector3(0,0,66.7382),\n",
       "  29: Vector3(0,0,66.7382),\n",
       "  30: Vector3(0,0,83.4228),\n",
       "  31: Vector3(0,0,83.4228),\n",
       "  32: Vector3(0,0,104.279),\n",
       "  33: Vector3(0,0,104.279),\n",
       "  34: Vector3(0,0,130.348),\n",
       "  35: Vector3(0,0,130.348),\n",
       "  36: Vector3(0,0,162.935)},\n",
       " 'color': {},\n",
       " 'start_tt': {3: 0,\n",
       "  4: 0,\n",
       "  5: 110.0,\n",
       "  6: 110.0,\n",
       "  7: 220.0,\n",
       "  8: 220.0,\n",
       "  9: 330.0,\n",
       "  10: 330.0,\n",
       "  11: 440.0,\n",
       "  12: 440.0,\n",
       "  13: 550.0,\n",
       "  14: 550.0,\n",
       "  15: 660.0,\n",
       "  16: 660.0,\n",
       "  17: 770.0,\n",
       "  18: 770.0,\n",
       "  19: 880.0,\n",
       "  20: 880.0,\n",
       "  21: 990.0,\n",
       "  22: 990.0,\n",
       "  23: 1100.0,\n",
       "  24: 1100.0,\n",
       "  25: 1210.0,\n",
       "  26: 1210.0,\n",
       "  27: 1320.0,\n",
       "  28: 1320.0,\n",
       "  29: 1430.0,\n",
       "  30: 1430.0,\n",
       "  31: 1540.0,\n",
       "  32: 1540.0,\n",
       "  33: 1650.0,\n",
       "  34: 1650.0,\n",
       "  35: 1760.0,\n",
       "  36: 1760.0},\n",
       " 'end_tt': {3: 176.0,\n",
       "  4: 176.0,\n",
       "  5: 286.0,\n",
       "  6: 286.0,\n",
       "  7: 396.0,\n",
       "  8: 396.0,\n",
       "  9: 506.0,\n",
       "  10: 506.0,\n",
       "  11: 616.0,\n",
       "  12: 616.0,\n",
       "  13: 726.0,\n",
       "  14: 726.0,\n",
       "  15: 836.0,\n",
       "  16: 836.0,\n",
       "  17: 946.0,\n",
       "  18: 946.0,\n",
       "  19: 1056.0,\n",
       "  20: 1056.0,\n",
       "  21: 1166.0,\n",
       "  22: 1166.0,\n",
       "  23: 1276.0,\n",
       "  24: 1276.0,\n",
       "  25: 1386.0,\n",
       "  26: 1386.0,\n",
       "  27: 1496.0,\n",
       "  28: 1496.0,\n",
       "  29: 1606.0,\n",
       "  30: 1606.0,\n",
       "  31: 1716.0,\n",
       "  32: 1716.0,\n",
       "  33: 1826.0,\n",
       "  34: 1826.0,\n",
       "  35: 1936.0,\n",
       "  36: 1936.0},\n",
       " '_plant_translation': {},\n",
       " 'position': {}}"
      ]
     },
     "execution_count": 10,
     "metadata": {},
     "output_type": "execute_result"
    }
   ],
   "source": [
    "g.properties()"
   ]
  },
  {
   "cell_type": "code",
   "execution_count": 15,
   "metadata": {},
   "outputs": [
    {
     "name": "stdout",
     "output_type": "stream",
     "text": [
      "5914.420519247069\n",
      "5926.756287858005\n",
      "5955.488799766874\n",
      "5880.590672502495\n",
      "5916.124541325007\n",
      "5810.574600560476\n",
      "5853.012210256441\n",
      "5707.75890161343\n",
      "5756.005074776781\n",
      "5561.703485545179\n",
      "5685.747564350288\n",
      "5434.315921551964\n",
      "5581.034365140554\n",
      "5693.444743124673\n",
      "5432.61347275425\n",
      "5561.002871345287\n",
      "5232.459188564689\n",
      "5370.825211308424\n",
      "5116.883066714818\n",
      "5255.581419963861\n",
      "5440.243579968398\n",
      "5776.519580911086\n",
      "5407.086458462013\n",
      "5751.5562113728365\n",
      "5985.919008030416\n",
      "6252.782647276127\n",
      "6472.951240838785\n",
      "6073.950337742554\n",
      "6264.644596435165\n",
      "5893.568314894822\n",
      "6043.674793956547\n",
      "5723.478224590193\n",
      "6055.563403724516\n",
      "5800.407635349781\n",
      "6065.542167412486\n",
      "6211.447377851827\n"
     ]
    }
   ],
   "source": [
    "## Code for generating a growing cereal shoot from descritive parameters\n",
    "\n",
    "# Initialize the list of plant MTGs at different stages\n",
    "growing_plants=[]\n",
    "# positions=[(x,0,0) for x in range(0, 3600, 100)]\n",
    "positions=[(x,0,0) for x in range(0, 600, 100)]\n",
    "\n",
    "# For loop for generating plants at different stages\n",
    "# for time in range(200,2000,50):\n",
    "for time in range(1000,1300,50):\n",
    "    gg=grow_plant(g, time=time).sub_mtg(grow_plant(g, time=time).root) \n",
    "    # Fill the list with MTG of growing plant\n",
    "    growing_plants.append(gg)\n",
    "\n",
    "    print(compute_leaf_area(gg))\n",
    "    \n",
    "\n",
    "    # i=0\n",
    "    # for v in g.vertices():\n",
    "    #     n=gg.node(v)\n",
    "    #     if n.label is not None and n.label.startswith('Stem'):\n",
    "    #         print(n.label, i, n.visible_length)\n",
    "    #     i+=1\n",
    "    # print('')\n",
    "\n",
    "# Build and display scene\n",
    "scene_grow, nump = build_scene(growing_plants, positions, leaf_material=Material(nice_green), stem_material=Material(nice_green))\n",
    "# display_scene(scene_grow)\n",
    "PlantGL(scene_grow)"
   ]
  },
  {
   "cell_type": "markdown",
   "metadata": {},
   "source": [
    "## Fit plant growth and development to LAI(t) and height(t) curves"
   ]
  },
  {
   "cell_type": "markdown",
   "metadata": {},
   "source": [
    "LAI(t) curve"
   ]
  },
  {
   "cell_type": "code",
   "execution_count": 12,
   "metadata": {},
   "outputs": [],
   "source": [
    "def linear_LA(x, slope=5, intercept=0.0):\n",
    "    \"\"\"\n",
    "    Generate a linear curve.\n",
    "\n",
    "    Args:\n",
    "    - x: Input values\n",
    "    - slope: Slope of the line\n",
    "    - intercept: Intercept of the line\n",
    "\n",
    "    Returns:\n",
    "    - y: Output values corresponding to the linear curve\n",
    "    \"\"\"\n",
    "    y = slope * x + intercept\n",
    "    return y"
   ]
  },
  {
   "cell_type": "markdown",
   "metadata": {},
   "source": [
    "Two constraints :\n",
    "\n",
    "$$ \\mathcal{A} = \\mathcal{A_scaled} = 2 * w * |\\int_{0}^{L} \\mathcal{C}(\\frac{s(u)}{L})d\\frac{s(u)}{L}| $$\n",
    "$$ \\text{leaf length} = L * e^{-\\log(skew) * (2 * (r - rmax)^2 + (r - rmax)^3)} $$\n",
    "r = np.linspace(1. / nb_phy, 1, nb_phy)"
   ]
  },
  {
   "cell_type": "code",
   "execution_count": 13,
   "metadata": {},
   "outputs": [
    {
     "data": {
      "text/plain": [
       "6693.9344991025855"
      ]
     },
     "execution_count": 13,
     "metadata": {},
     "output_type": "execute_result"
    }
   ],
   "source": [
    "from archicrop.plant_shape import compute_leaf_area\n",
    "\n",
    "compute_leaf_area(g)"
   ]
  },
  {
   "cell_type": "code",
   "execution_count": 14,
   "metadata": {},
   "outputs": [
    {
     "ename": "SyntaxError",
     "evalue": "invalid syntax (1157590130.py, line 15)",
     "output_type": "error",
     "traceback": [
      "\u001b[1;36m  Cell \u001b[1;32mIn[14], line 15\u001b[1;36m\u001b[0m\n\u001b[1;33m    for t in\u001b[0m\n\u001b[1;37m             ^\u001b[0m\n\u001b[1;31mSyntaxError\u001b[0m\u001b[1;31m:\u001b[0m invalid syntax\n"
     ]
    }
   ],
   "source": [
    "from scipy.optimize import curve_fit\n",
    "\n",
    "# Define your parametric model as a Python function\n",
    "def parametric_model(x):\n",
    "    \"\"\"\n",
    "    Define your parametric model here.\n",
    "\n",
    "    Args:\n",
    "    - x: Input values\n",
    "    - param1, param2, ...: Parameters of your model\n",
    "\n",
    "    Returns:\n",
    "    - y: Output values corresponding to the model\n",
    "    \"\"\"\n",
    "    for t in \n",
    "        # Compute your model's output based on input values and parameters\n",
    "        ## Code for generating a 3D cereal shoot from descritive parameters\n",
    "        # Parameters \n",
    "        diam_base=2.5\n",
    "        diam_top=1.0\n",
    "        # Lejeune and Bernier formula + col =\n",
    "        nb_young_phy = int(round((nb_phy - 1.95) / 1.84 / 1.3))\n",
    "        # stem diameters\n",
    "        diameter = ([diam_base] * nb_young_phy + np.linspace(diam_base, diam_top, nb_phy - nb_young_phy).tolist()) \n",
    "        height=1000                 # from crop model\n",
    "        nb_phy=17                   # fixed max nb of phytomers\n",
    "        max_leaf_length=70 \n",
    "        insertion_angle=40\n",
    "        scurv=0.7\n",
    "        curvature=80\n",
    "        phyllotactic_angle=180\n",
    "        spiral=False\n",
    "        \n",
    "        # Functions calls\n",
    "        insertion_heights=np.array(geometric_dist(height, \n",
    "                                                  nb_phy, \n",
    "                                                  q=1.25)) # further separate stem and pseudo stem, cf simple maize\n",
    "        \n",
    "        leaf_lengths=np.array(bell_shaped_dist(max_leaf_length=max_leaf_length, \n",
    "                                               nb_phy=nb_phy, \n",
    "                                               rmax=0.7, \n",
    "                                               skew=0.15)) # plant area --> max leaf length\n",
    "        # leaf_areas=bell_shaped_dist(plant_area=1, nb_phy=15, rmax=0.7, skew=0.15) # cf blade_dimension\n",
    "        \n",
    "        a_leaf = parametric_leaf(nb_segment=10, \n",
    "                                 insertion_angle=insertion_angle, \n",
    "                                 scurv=scurv, \n",
    "                                 curvature=curvature, \n",
    "                                 alpha=-2.3)\n",
    "        \n",
    "        leaf_shapes = [a_leaf for l in leaf_lengths] # possible to replace leaf_length by nb_phy or...\n",
    "        \n",
    "        leaf_azimuths = leaf_azimuth(size=len(leaf_lengths), \n",
    "                                     phyllotactic_angle=phyllotactic_angle, \n",
    "                                     phyllotactic_deviation=0, \n",
    "                                     plant_orientation=0, \n",
    "                                     spiral=spiral)\n",
    "        \n",
    "        shoot, g = build_shoot(stem_diameters=stem_radius, \n",
    "                                      insertion_heights=insertion_heights, \n",
    "                                      leaf_lengths=leaf_lengths, \n",
    "                                      leaf_areas=None, \n",
    "                                      leaf_shapes=leaf_shapes, \n",
    "                                      leaf_azimuths=leaf_azimuths)\n",
    "    y = compute_leaf_area(g)\n",
    "    # # Build and display scene\n",
    "    # scene, nump = build_scene(g, \n",
    "    #                           leaf_material=Material(nice_green), \n",
    "    #                           stem_material=Material(nice_green))\n",
    "    # # display_scene(scene_single) # display in separate window\n",
    "    # PlantGL(scene) # display in notebook\n",
    "    return y\n",
    "\n",
    "# Prepare your data\n",
    "x_data = []\n",
    "y_data = []\n",
    "for t in range(0,1700,100):\n",
    "    x_data.append(t)\n",
    "    y_data.append(linear_LA(t))\n",
    "x_data = np.array(x_data)  # Your input data\n",
    "y_data = np.array(y_data)  # Your output data\n",
    "\n",
    "# Use scipy.optimize.curve_fit to fit your model to the data and obtain optimal parameters\n",
    "initial_guess = [...]  # Initial guess for your parameters\n",
    "optimal_params, covariance = curve_fit(parametric_model, x_data, y_data, p0=initial_guess)\n",
    "\n",
    "# Print the optimal parameters\n",
    "print(\"Optimal Parameters:\", optimal_params)\n",
    "\n",
    "# Optionally, visualize the fit\n",
    "import matplotlib.pyplot as plt\n",
    "plt.scatter(x_data, y_data, label='Data')\n",
    "plt.plot(x_data, parametric_model(x_data, *optimal_params), color='red', label='Fitted Curve')\n",
    "plt.xlabel('x')\n",
    "plt.ylabel('y')\n",
    "plt.legend()\n",
    "plt.show()"
   ]
  },
  {
   "cell_type": "markdown",
   "metadata": {},
   "source": [
    "## Next steps\n",
    "\n",
    "- Bending dynamics of leaves and tillers"
   ]
  },
  {
   "cell_type": "code",
   "execution_count": null,
   "metadata": {},
   "outputs": [],
   "source": []
  }
 ],
 "metadata": {
  "kernelspec": {
   "display_name": "oa3",
   "language": "python",
   "name": "oa3"
  },
  "language_info": {
   "codemirror_mode": {
    "name": "ipython",
    "version": 3
   },
   "file_extension": ".py",
   "mimetype": "text/x-python",
   "name": "python",
   "nbconvert_exporter": "python",
   "pygments_lexer": "ipython3",
   "version": "3.12.2"
  },
  "widgets": {
   "application/vnd.jupyter.widget-state+json": {
    "state": {
     "0e00186b3b344c8b8246be18ec6fca2c": {
      "model_module": "@jupyter-widgets/controls",
      "model_module_version": "2.0.0",
      "model_name": "SliderStyleModel",
      "state": {
       "description_width": ""
      }
     },
     "0fd2980eec004bb98f7ce9b2fa24bc8f": {
      "model_module": "@jupyter-widgets/output",
      "model_module_version": "1.0.0",
      "model_name": "OutputModel",
      "state": {
       "layout": "IPY_MODEL_6a1592ffacc44d86aa17e92b3681e4bd",
       "outputs": [
        {
         "data": {
          "application/vnd.jupyter.widget-view+json": {
           "model_id": "7e138a8955d6410a93f79ae7f54af927",
           "version_major": 2,
           "version_minor": 0
          },
          "text/plain": "Plot(antialias=3, axes=['x', 'y', 'z'], axes_helper=1.0, axes_helper_colors=[16711680, 65280, 255], background…"
         },
         "metadata": {},
         "output_type": "display_data"
        }
       ]
      }
     },
     "11cde070db1a4e4bbe97bcfaea5a3270": {
      "model_module": "@jupyter-widgets/base",
      "model_module_version": "2.0.0",
      "model_name": "LayoutModel",
      "state": {}
     },
     "1baf7a2cec064bbfb761060396499d80": {
      "model_module": "@jupyter-widgets/base",
      "model_module_version": "2.0.0",
      "model_name": "LayoutModel",
      "state": {}
     },
     "213b4dc854744c829ac9a8f8f08f16ea": {
      "model_module": "@jupyter-widgets/base",
      "model_module_version": "2.0.0",
      "model_name": "LayoutModel",
      "state": {}
     },
     "237c0002350a422b9855da4d19fe9bf8": {
      "model_module": "@jupyter-widgets/base",
      "model_module_version": "2.0.0",
      "model_name": "LayoutModel",
      "state": {}
     },
     "3d838a722d264073befaf72ab1a6e45c": {
      "buffers": [
       {
        "data": "",
        "encoding": "base64",
        "path": [
         "attribute",
         "data"
        ]
       },
       {
        "data": "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",
        "encoding": "base64",
        "path": [
         "color_map",
         "data"
        ]
       },
       {
        "data": "",
        "encoding": "base64",
        "path": [
         "colors",
         "data"
        ]
       },
       {
        "data": "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",
        "encoding": "base64",
        "path": [
         "indices",
         "data"
        ]
       },
       {
        "data": "AACAPwAAAAAAAAAAAAAAAAAAAAAAAIA/AAAAAAAAAAAAAAAAAAAAAAAAgD8AAAAAAAAAAAAAAAAAAAAAAACAPw==",
        "encoding": "base64",
        "path": [
         "model_matrix",
         "data"
        ]
       },
       {
        "data": "",
        "encoding": "base64",
        "path": [
         "normals",
         "data"
        ]
       },
       {
        "data": "",
        "encoding": "base64",
        "path": [
         "opacity_function",
         "data"
        ]
       },
       {
        "data": "",
        "encoding": "base64",
        "path": [
         "triangles_attribute",
         "data"
        ]
       },
       {
        "data": "AADAfw==",
        "encoding": "base64",
        "path": [
         "uvs",
         "data"
        ]
       },
       {
        "data": "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",
        "encoding": "base64",
        "path": [
         "vertices",
         "data"
        ]
       },
       {
        "data": "",
        "encoding": "base64",
        "path": [
         "volume",
         "data"
        ]
       },
       {
        "data": "",
        "encoding": "base64",
        "path": [
         "volume_bounds",
         "data"
        ]
       }
      ],
      "model_module": "k3d",
      "model_module_version": "2.16.1",
      "model_name": "ObjectModel",
      "state": {
       "_view_module": null,
       "_view_module_version": "",
       "_view_name": null,
       "attribute": {
        "dtype": "float32",
        "shape": [
         0
        ]
       },
       "click_callback": false,
       "color": 3302400,
       "colorLegend": false,
       "color_map": {
        "dtype": "float32",
        "shape": [
         1024
        ]
       },
       "color_range": [],
       "colors": {
        "dtype": "uint32",
        "shape": [
         0
        ]
       },
       "compression_level": 0,
       "custom_data": null,
       "flat_shading": true,
       "group": null,
       "hover_callback": false,
       "id": 1922346513856,
       "indices": {
        "dtype": "uint32",
        "shape": [
         765,
         3
        ]
       },
       "model_matrix": {
        "dtype": "float32",
        "shape": [
         4,
         4
        ]
       },
       "name": "Mesh #1",
       "normals": {
        "dtype": "float32",
        "shape": [
         0
        ]
       },
       "opacity": 1,
       "opacity_function": {
        "dtype": "float32",
        "shape": [
         0
        ]
       },
       "side": "front",
       "texture": null,
       "texture_file_format": null,
       "triangles_attribute": {
        "dtype": "float32",
        "shape": [
         0
        ]
       },
       "type": "Mesh",
       "uvs": {
        "dtype": "float32",
        "shape": []
       },
       "vertices": {
        "dtype": "float32",
        "shape": [
         646,
         3
        ]
       },
       "visible": true,
       "volume": {
        "dtype": "float32",
        "shape": [
         0
        ]
       },
       "volume_bounds": {
        "dtype": "float32",
        "shape": [
         0
        ]
       },
       "wireframe": false
      }
     },
     "4639eab0d61f4a32834ada8b3ad764a7": {
      "model_module": "k3d",
      "model_module_version": "2.16.1",
      "model_name": "PlotModel",
      "state": {
       "_backend_version": "2.16.1",
       "antialias": 3,
       "auto_rendering": true,
       "axes": [
        "x",
        "y",
        "z"
       ],
       "axes_helper": 1,
       "axes_helper_colors": [
        16711680,
        65280,
        255
       ],
       "background_color": 16777215,
       "camera": [
        754.6605194695157,
        -755.5147202443127,
        83.85040558464732,
        250.98403930664062,
        0,
        33.482757568359375,
        0,
        0,
        1
       ],
       "camera_animation": [],
       "camera_auto_fit": true,
       "camera_damping_factor": 0,
       "camera_fov": 60,
       "camera_mode": "trackball",
       "camera_no_pan": false,
       "camera_no_rotate": false,
       "camera_no_zoom": false,
       "camera_pan_speed": 0.3,
       "camera_rotate_speed": 1,
       "camera_zoom_speed": 1.2,
       "clipping_planes": [],
       "colorbar_object_id": -1,
       "colorbar_scientific": false,
       "custom_data": null,
       "fps": 25,
       "fps_meter": false,
       "grid": [
        -1,
        -1,
        -1,
        1,
        1,
        1
       ],
       "grid_auto_fit": true,
       "grid_color": 15132390,
       "grid_visible": true,
       "height": 512,
       "label_color": 4473924,
       "layout": "IPY_MODEL_c48fa2cd818e419697a1d5b9a43bfbdb",
       "lighting": 3,
       "logarithmic_depth_buffer": true,
       "manipulate_mode": "translate",
       "menu_visibility": true,
       "minimum_fps": -1,
       "mode": "view",
       "name": null,
       "object_ids": [
        1922390203360
       ],
       "rendering_steps": 1,
       "screenshot": "",
       "screenshot_scale": 2,
       "snapshot": "",
       "snapshot_type": "full",
       "time": 0,
       "voxel_paint_color": 0
      }
     },
     "63263c47f91243c393456fdd043416cc": {
      "model_module": "@jupyter-widgets/controls",
      "model_module_version": "2.0.0",
      "model_name": "IntSliderModel",
      "state": {
       "behavior": "drag-tap",
       "description": "time",
       "layout": "IPY_MODEL_237c0002350a422b9855da4d19fe9bf8",
       "max": 2000,
       "min": 20,
       "step": 100,
       "style": "IPY_MODEL_0e00186b3b344c8b8246be18ec6fca2c",
       "value": 1020
      }
     },
     "6a1592ffacc44d86aa17e92b3681e4bd": {
      "model_module": "@jupyter-widgets/base",
      "model_module_version": "2.0.0",
      "model_name": "LayoutModel",
      "state": {}
     },
     "776ea1e1ac01491c9798c51b322d0aef": {
      "model_module": "k3d",
      "model_module_version": "2.16.1",
      "model_name": "PlotModel",
      "state": {
       "_backend_version": "2.16.1",
       "antialias": 3,
       "auto_rendering": true,
       "axes": [
        "x",
        "y",
        "z"
       ],
       "axes_helper": 1,
       "axes_helper_colors": [
        16711680,
        65280,
        255
       ],
       "background_color": 16777215,
       "camera": [
        179.59283529094589,
        -269.7798683996757,
        108.53525131779104,
        -0.2604103088378906,
        0,
        90.5499267578125,
        0,
        0,
        1
       ],
       "camera_animation": [],
       "camera_auto_fit": true,
       "camera_damping_factor": 0,
       "camera_fov": 60,
       "camera_mode": "trackball",
       "camera_no_pan": false,
       "camera_no_rotate": false,
       "camera_no_zoom": false,
       "camera_pan_speed": 0.3,
       "camera_rotate_speed": 1,
       "camera_zoom_speed": 1.2,
       "clipping_planes": [],
       "colorbar_object_id": -1,
       "colorbar_scientific": false,
       "custom_data": null,
       "fps": 25,
       "fps_meter": false,
       "grid": [
        -1,
        -1,
        -1,
        1,
        1,
        1
       ],
       "grid_auto_fit": true,
       "grid_color": 15132390,
       "grid_visible": true,
       "height": 512,
       "label_color": 4473924,
       "layout": "IPY_MODEL_1baf7a2cec064bbfb761060396499d80",
       "lighting": 3,
       "logarithmic_depth_buffer": true,
       "manipulate_mode": "translate",
       "menu_visibility": true,
       "minimum_fps": -1,
       "mode": "view",
       "name": null,
       "object_ids": [
        1922346513856
       ],
       "rendering_steps": 1,
       "screenshot": "",
       "screenshot_scale": 2,
       "snapshot": "",
       "snapshot_type": "full",
       "time": 0,
       "voxel_paint_color": 0
      }
     },
     "7e138a8955d6410a93f79ae7f54af927": {
      "model_module": "k3d",
      "model_module_version": "2.16.1",
      "model_name": "PlotModel",
      "state": {
       "_backend_version": "2.16.1",
       "antialias": 3,
       "auto_rendering": true,
       "axes": [
        "x",
        "y",
        "z"
       ],
       "axes_helper": 1,
       "axes_helper_colors": [
        16711680,
        65280,
        255
       ],
       "background_color": 16777215,
       "camera": [
        88.2981946480919,
        -135.6619116086735,
        34.259091353542175,
        -2.1430797576904297,
        0,
        25.214963912963867,
        0,
        0,
        1
       ],
       "camera_animation": [],
       "camera_auto_fit": true,
       "camera_damping_factor": 0,
       "camera_fov": 60,
       "camera_mode": "trackball",
       "camera_no_pan": false,
       "camera_no_rotate": false,
       "camera_no_zoom": false,
       "camera_pan_speed": 0.3,
       "camera_rotate_speed": 1,
       "camera_zoom_speed": 1.2,
       "clipping_planes": [],
       "colorbar_object_id": -1,
       "colorbar_scientific": false,
       "custom_data": null,
       "fps": 25,
       "fps_meter": false,
       "grid": [
        -1,
        -1,
        -1,
        1,
        1,
        1
       ],
       "grid_auto_fit": true,
       "grid_color": 15132390,
       "grid_visible": true,
       "height": 512,
       "label_color": 4473924,
       "layout": "IPY_MODEL_213b4dc854744c829ac9a8f8f08f16ea",
       "lighting": 3,
       "logarithmic_depth_buffer": true,
       "manipulate_mode": "translate",
       "menu_visibility": true,
       "minimum_fps": -1,
       "mode": "view",
       "name": null,
       "object_ids": [
        1922392007136
       ],
       "rendering_steps": 1,
       "screenshot": "",
       "screenshot_scale": 2,
       "snapshot": "",
       "snapshot_type": "full",
       "time": 0,
       "voxel_paint_color": 0
      }
     },
     "83086433480644f08e55e3d6ef03d257": {
      "model_module": "@jupyter-widgets/controls",
      "model_module_version": "2.0.0",
      "model_name": "VBoxModel",
      "state": {
       "_dom_classes": [
        "widget-interact"
       ],
       "children": [
        "IPY_MODEL_63263c47f91243c393456fdd043416cc",
        "IPY_MODEL_0fd2980eec004bb98f7ce9b2fa24bc8f"
       ],
       "layout": "IPY_MODEL_11cde070db1a4e4bbe97bcfaea5a3270"
      }
     },
     "85648f7599b24c52ba47e16460e5bdd6": {
      "model_module": "@jupyter-widgets/base",
      "model_module_version": "2.0.0",
      "model_name": "LayoutModel",
      "state": {}
     },
     "883276a7af1b43d3bdd79d9e2724ab02": {
      "buffers": [
       {
        "data": "",
        "encoding": "base64",
        "path": [
         "attribute",
         "data"
        ]
       },
       {
        "data": "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",
        "encoding": "base64",
        "path": [
         "color_map",
         "data"
        ]
       },
       {
        "data": "",
        "encoding": "base64",
        "path": [
         "colors",
         "data"
        ]
       },
       {
        "data": "AAAAAAIAAAABAAAAAQAAAAIAAAADAAAAAQAAAAMAAAANAAAAAAAAAAwAAAACAAAAAgAAAAQAAAADAAAAAwAAAAQAAAAFAAAAAwAAAAUAAAANAAAAAgAAAAwAAAAEAAAABAAAAAYAAAAFAAAABQAAAAYAAAAHAAAABQAAAAcAAAANAAAABAAAAAwAAAAGAAAABgAAAAgAAAAHAAAABwAAAAgAAAAJAAAABwAAAAkAAAANAAAABgAAAAwAAAAIAAAACAAAAAoAAAAJAAAACQAAAAoAAAALAAAACQAAAAsAAAANAAAACAAAAAwAAAAKAAAACgAAAAAAAAALAAAACwAAAAAAAAABAAAACwAAAAEAAAANAAAACgAAAAwAAAAAAAAADgAAABoAAAAbAAAADwAAABsAAAAcAAAAEAAAABwAAAAdAAAAEQAAAB0AAAAeAAAAEgAAAB4AAAAfAAAAEwAAAB8AAAAgAAAAFAAAACAAAAAhAAAAFQAAACEAAAAiAAAAFgAAACIAAAAjAAAAFwAAACMAAAAkAAAADgAAABsAAAAPAAAADwAAABwAAAAQAAAAEAAAAB0AAAARAAAAEQAAAB4AAAASAAAAEgAAAB8AAAATAAAAEwAAACAAAAAUAAAAFAAAACEAAAAVAAAAFQAAACIAAAAWAAAAFgAAACMAAAAXAAAAFwAAACQAAAAYAAAAGAAAACQAAAAlAAAAJgAAACgAAAAnAAAAJwAAACgAAAApAAAAJwAAACkAAAAzAAAAJgAAADIAAAAoAAAAKAAAACoAAAApAAAAKQAAACoAAAArAAAAKQAAACsAAAAzAAAAKAAAADIAAAAqAAAAKgAAACwAAAArAAAAKwAAACwAAAAtAAAAKwAAAC0AAAAzAAAAKgAAADIAAAAsAAAALAAAAC4AAAAtAAAALQAAAC4AAAAvAAAALQAAAC8AAAAzAAAALAAAADIAAAAuAAAALgAAADAAAAAvAAAALwAAADAAAAAxAAAALwAAADEAAAAzAAAALgAAADIAAAAwAAAAMAAAACYAAAAxAAAAMQAAACYAAAAnAAAAMQAAACcAAAAzAAAAMAAAADIAAAAmAAAANAAAAEAAAABBAAAANQAAAEEAAABCAAAANgAAAEIAAABDAAAANwAAAEMAAABEAAAAOAAAAEQAAABFAAAAOQAAAEUAAABGAAAAOgAAAEYAAABHAAAAOwAAAEcAAABIAAAAPAAAAEgAAABJAAAAPQAAAEkAAABKAAAANAAAAEEAAAA1AAAANQAAAEIAAAA2AAAANgAAAEMAAAA3AAAANwAAAEQAAAA4AAAAOAAAAEUAAAA5AAAAOQAAAEYAAAA6AAAAOgAAAEcAAAA7AAAAOwAAAEgAAAA8AAAAPAAAAEkAAAA9AAAAPQAAAEoAAAA+AAAAPgAAAEoAAABLAAAATAAAAE4AAABNAAAATQAAAE4AAABPAAAATQAAAE8AAABZAAAATAAAAFgAAABOAAAATgAAAFAAAABPAAAATwAAAFAAAABRAAAATwAAAFEAAABZAAAATgAAAFgAAABQAAAAUAAAAFIAAABRAAAAUQAAAFIAAABTAAAAUQAAAFMAAABZAAAAUAAAAFgAAABSAAAAUgAAAFQAAABTAAAAUwAAAFQAAABVAAAAUwAAAFUAAABZAAAAUgAAAFgAAABUAAAAVAAAAFYAAABVAAAAVQAAAFYAAABXAAAAVQAAAFcAAABZAAAAVAAAAFgAAABWAAAAVgAAAEwAAABXAAAAVwAAAEwAAABNAAAAVwAAAE0AAABZAAAAVgAAAFgAAABMAAAAWgAAAGYAAABnAAAAWwAAAGcAAABoAAAAXAAAAGgAAABpAAAAXQAAAGkAAABqAAAAXgAAAGoAAABrAAAAXwAAAGsAAABsAAAAYAAAAGwAAABtAAAAYQAAAG0AAABuAAAAYgAAAG4AAABvAAAAYwAAAG8AAABwAAAAWgAAAGcAAABbAAAAWwAAAGgAAABcAAAAXAAAAGkAAABdAAAAXQAAAGoAAABeAAAAXgAAAGsAAABfAAAAXwAAAGwAAABgAAAAYAAAAG0AAABhAAAAYQAAAG4AAABiAAAAYgAAAG8AAABjAAAAYwAAAHAAAABkAAAAZAAAAHAAAABxAAAAcgAAAHQAAABzAAAAcwAAAHQAAAB1AAAAcwAAAHUAAAB/AAAAcgAAAH4AAAB0AAAAdAAAAHYAAAB1AAAAdQAAAHYAAAB3AAAAdQAAAHcAAAB/AAAAdAAAAH4AAAB2AAAAdgAAAHgAAAB3AAAAdwAAAHgAAAB5AAAAdwAAAHkAAAB/AAAAdgAAAH4AAAB4AAAAeAAAAHoAAAB5AAAAeQAAAHoAAAB7AAAAeQAAAHsAAAB/AAAAeAAAAH4AAAB6AAAAegAAAHwAAAB7AAAAewAAAHwAAAB9AAAAewAAAH0AAAB/AAAAegAAAH4AAAB8AAAAfAAAAHIAAAB9AAAAfQAAAHIAAABzAAAAfQAAAHMAAAB/AAAAfAAAAH4AAAByAAAAgAAAAIwAAACNAAAAgQAAAI0AAACOAAAAggAAAI4AAACPAAAAgwAAAI8AAACQAAAAhAAAAJAAAACRAAAAhQAAAJEAAACSAAAAhgAAAJIAAACTAAAAhwAAAJMAAACUAAAAiAAAAJQAAACVAAAAiQAAAJUAAACWAAAAgAAAAI0AAACBAAAAgQAAAI4AAACCAAAAggAAAI8AAACDAAAAgwAAAJAAAACEAAAAhAAAAJEAAACFAAAAhQAAAJIAAACGAAAAhgAAAJMAAACHAAAAhwAAAJQAAACIAAAAiAAAAJUAAACJAAAAiQAAAJYAAACKAAAAigAAAJYAAACXAAAAmAAAAJoAAACZAAAAmQAAAJoAAACbAAAAmQAAAJsAAAClAAAAmAAAAKQAAACaAAAAmgAAAJwAAACbAAAAmwAAAJwAAACdAAAAmwAAAJ0AAAClAAAAmgAAAKQAAACcAAAAnAAAAJ4AAACdAAAAnQAAAJ4AAACfAAAAnQAAAJ8AAAClAAAAnAAAAKQAAACeAAAAngAAAKAAAACfAAAAnwAAAKAAAAChAAAAnwAAAKEAAAClAAAAngAAAKQAAACgAAAAoAAAAKIAAAChAAAAoQAAAKIAAACjAAAAoQAAAKMAAAClAAAAoAAAAKQAAACiAAAAogAAAJgAAACjAAAAowAAAJgAAACZAAAAowAAAJkAAAClAAAAogAAAKQAAACYAAAApgAAALIAAACzAAAApwAAALMAAAC0AAAAqAAAALQAAAC1AAAAqQAAALUAAAC2AAAAqgAAALYAAAC3AAAAqwAAALcAAAC4AAAArAAAALgAAAC5AAAArQAAALkAAAC6AAAArgAAALoAAAC7AAAArwAAALsAAAC8AAAApgAAALMAAACnAAAApwAAALQAAACoAAAAqAAAALUAAACpAAAAqQAAALYAAACqAAAAqgAAALcAAACrAAAAqwAAALgAAACsAAAArAAAALkAAACtAAAArQAAALoAAACuAAAArgAAALsAAACvAAAArwAAALwAAACwAAAAsAAAALwAAAC9AAAAvgAAAMAAAAC/AAAAvwAAAMAAAADBAAAAvwAAAMEAAADLAAAAvgAAAMoAAADAAAAAwAAAAMIAAADBAAAAwQAAAMIAAADDAAAAwQAAAMMAAADLAAAAwAAAAMoAAADCAAAAwgAAAMQAAADDAAAAwwAAAMQAAADFAAAAwwAAAMUAAADLAAAAwgAAAMoAAADEAAAAxAAAAMYAAADFAAAAxQAAAMYAAADHAAAAxQAAAMcAAADLAAAAxAAAAMoAAADGAAAAxgAAAMgAAADHAAAAxwAAAMgAAADJAAAAxwAAAMkAAADLAAAAxgAAAMoAAADIAAAAyAAAAL4AAADJAAAAyQAAAL4AAAC/AAAAyQAAAL8AAADLAAAAyAAAAMoAAAC+AAAAzAAAANgAAADZAAAAzQAAANkAAADaAAAAzgAAANoAAADbAAAAzwAAANsAAADcAAAA0AAAANwAAADdAAAA0QAAAN0AAADeAAAA0gAAAN4AAADfAAAA0wAAAN8AAADgAAAA1AAAAOAAAADhAAAA1QAAAOEAAADiAAAAzAAAANkAAADNAAAAzQAAANoAAADOAAAAzgAAANsAAADPAAAAzwAAANwAAADQAAAA0AAAAN0AAADRAAAA0QAAAN4AAADSAAAA0gAAAN8AAADTAAAA0wAAAOAAAADUAAAA1AAAAOEAAADVAAAA1QAAAOIAAADWAAAA1gAAAOIAAADjAAAA5AAAAOYAAADlAAAA5QAAAOYAAADnAAAA5QAAAOcAAADxAAAA5AAAAPAAAADmAAAA5gAAAOgAAADnAAAA5wAAAOgAAADpAAAA5wAAAOkAAADxAAAA5gAAAPAAAADoAAAA6AAAAOoAAADpAAAA6QAAAOoAAADrAAAA6QAAAOsAAADxAAAA6AAAAPAAAADqAAAA6gAAAOwAAADrAAAA6wAAAOwAAADtAAAA6wAAAO0AAADxAAAA6gAAAPAAAADsAAAA7AAAAO4AAADtAAAA7QAAAO4AAADvAAAA7QAAAO8AAADxAAAA7AAAAPAAAADuAAAA7gAAAOQAAADvAAAA7wAAAOQAAADlAAAA7wAAAOUAAADxAAAA7gAAAPAAAADkAAAA8gAAAP4AAAD/AAAA8wAAAP8AAAAAAQAA9AAAAAABAAABAQAA9QAAAAEBAAACAQAA9gAAAAIBAAADAQAA9wAAAAMBAAAEAQAA+AAAAAQBAAAFAQAA+QAAAAUBAAAGAQAA+gAAAAYBAAAHAQAA+wAAAAcBAAAIAQAA8gAAAP8AAADzAAAA8wAAAAABAAD0AAAA9AAAAAEBAAD1AAAA9QAAAAIBAAD2AAAA9gAAAAMBAAD3AAAA9wAAAAQBAAD4AAAA+AAAAAUBAAD5AAAA+QAAAAYBAAD6AAAA+gAAAAcBAAD7AAAA+wAAAAgBAAD8AAAA/AAAAAgBAAAJAQAACgEAAAwBAAALAQAACwEAAAwBAAANAQAACwEAAA0BAAAXAQAACgEAABYBAAAMAQAADAEAAA4BAAANAQAADQEAAA4BAAAPAQAADQEAAA8BAAAXAQAADAEAABYBAAAOAQAADgEAABABAAAPAQAADwEAABABAAARAQAADwEAABEBAAAXAQAADgEAABYBAAAQAQAAEAEAABIBAAARAQAAEQEAABIBAAATAQAAEQEAABMBAAAXAQAAEAEAABYBAAASAQAAEgEAABQBAAATAQAAEwEAABQBAAAVAQAAEwEAABUBAAAXAQAAEgEAABYBAAAUAQAAFAEAAAoBAAAVAQAAFQEAAAoBAAALAQAAFQEAAAsBAAAXAQAAFAEAABYBAAAKAQAAGAEAACQBAAAlAQAAGQEAACUBAAAmAQAAGgEAACYBAAAnAQAAGwEAACcBAAAoAQAAHAEAACgBAAApAQAAHQEAACkBAAAqAQAAHgEAACoBAAArAQAAHwEAACsBAAAsAQAAIAEAACwBAAAtAQAAIQEAAC0BAAAuAQAAGAEAACUBAAAZAQAAGQEAACYBAAAaAQAAGgEAACcBAAAbAQAAGwEAACgBAAAcAQAAHAEAACkBAAAdAQAAHQEAACoBAAAeAQAAHgEAACsBAAAfAQAAHwEAACwBAAAgAQAAIAEAAC0BAAAhAQAAIQEAAC4BAAAiAQAAIgEAAC4BAAAvAQAAMAEAADIBAAAxAQAAMQEAADIBAAAzAQAAMQEAADMBAAA9AQAAMAEAADwBAAAyAQAAMgEAADQBAAAzAQAAMwEAADQBAAA1AQAAMwEAADUBAAA9AQAAMgEAADwBAAA0AQAANAEAADYBAAA1AQAANQEAADYBAAA3AQAANQEAADcBAAA9AQAANAEAADwBAAA2AQAANgEAADgBAAA3AQAANwEAADgBAAA5AQAANwEAADkBAAA9AQAANgEAADwBAAA4AQAAOAEAADoBAAA5AQAAOQEAADoBAAA7AQAAOQEAADsBAAA9AQAAOAEAADwBAAA6AQAAOgEAADABAAA7AQAAOwEAADABAAAxAQAAOwEAADEBAAA9AQAAOgEAADwBAAAwAQAAPgEAAEoBAABLAQAAPwEAAEsBAABMAQAAQAEAAEwBAABNAQAAQQEAAE0BAABOAQAAQgEAAE4BAABPAQAAQwEAAE8BAABQAQAARAEAAFABAABRAQAARQEAAFEBAABSAQAARgEAAFIBAABTAQAARwEAAFMBAABUAQAAPgEAAEsBAAA/AQAAPwEAAEwBAABAAQAAQAEAAE0BAABBAQAAQQEAAE4BAABCAQAAQgEAAE8BAABDAQAAQwEAAFABAABEAQAARAEAAFEBAABFAQAARQEAAFIBAABGAQAARgEAAFMBAABHAQAARwEAAFQBAABIAQAASAEAAFQBAABVAQAAVgEAAFgBAABXAQAAVwEAAFgBAABZAQAAVwEAAFkBAABjAQAAVgEAAGIBAABYAQAAWAEAAFoBAABZAQAAWQEAAFoBAABbAQAAWQEAAFsBAABjAQAAWAEAAGIBAABaAQAAWgEAAFwBAABbAQAAWwEAAFwBAABdAQAAWwEAAF0BAABjAQAAWgEAAGIBAABcAQAAXAEAAF4BAABdAQAAXQEAAF4BAABfAQAAXQEAAF8BAABjAQAAXAEAAGIBAABeAQAAXgEAAGABAABfAQAAXwEAAGABAABhAQAAXwEAAGEBAABjAQAAXgEAAGIBAABgAQAAYAEAAFYBAABhAQAAYQEAAFYBAABXAQAAYQEAAFcBAABjAQAAYAEAAGIBAABWAQAAZAEAAGgBAABpAQAAZQEAAGkBAABqAQAAZAEAAGkBAABlAQAAZQEAAGoBAABmAQAAZgEAAGoBAABrAQAA",
        "encoding": "base64",
        "path": [
         "indices",
         "data"
        ]
       },
       {
        "data": "AACAPwAAAAAAAAAAAAAAAAAAAAAAAIA/AAAAAAAAAAAAAAAAAAAAAAAAgD8AAAAAAAAAAAAAAAAAAAAAAACAPw==",
        "encoding": "base64",
        "path": [
         "model_matrix",
         "data"
        ]
       },
       {
        "data": "",
        "encoding": "base64",
        "path": [
         "normals",
         "data"
        ]
       },
       {
        "data": "",
        "encoding": "base64",
        "path": [
         "opacity_function",
         "data"
        ]
       },
       {
        "data": "",
        "encoding": "base64",
        "path": [
         "triangles_attribute",
         "data"
        ]
       },
       {
        "data": "AADAfw==",
        "encoding": "base64",
        "path": [
         "uvs",
         "data"
        ]
       },
       {
        "data": "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",
        "encoding": "base64",
        "path": [
         "vertices",
         "data"
        ]
       },
       {
        "data": "",
        "encoding": "base64",
        "path": [
         "volume",
         "data"
        ]
       },
       {
        "data": "",
        "encoding": "base64",
        "path": [
         "volume_bounds",
         "data"
        ]
       }
      ],
      "model_module": "k3d",
      "model_module_version": "2.16.1",
      "model_name": "ObjectModel",
      "state": {
       "_view_module": null,
       "_view_module_version": "",
       "_view_name": null,
       "attribute": {
        "dtype": "float32",
        "shape": [
         0
        ]
       },
       "click_callback": false,
       "color": 3302400,
       "colorLegend": false,
       "color_map": {
        "dtype": "float32",
        "shape": [
         1024
        ]
       },
       "color_range": [],
       "colors": {
        "dtype": "uint32",
        "shape": [
         0
        ]
       },
       "compression_level": 0,
       "custom_data": null,
       "flat_shading": true,
       "group": null,
       "hover_callback": false,
       "id": 1922392007136,
       "indices": {
        "dtype": "uint32",
        "shape": [
         434,
         3
        ]
       },
       "model_matrix": {
        "dtype": "float32",
        "shape": [
         4,
         4
        ]
       },
       "name": "Mesh #1",
       "normals": {
        "dtype": "float32",
        "shape": [
         0
        ]
       },
       "opacity": 1,
       "opacity_function": {
        "dtype": "float32",
        "shape": [
         0
        ]
       },
       "side": "front",
       "texture": null,
       "texture_file_format": null,
       "triangles_attribute": {
        "dtype": "float32",
        "shape": [
         0
        ]
       },
       "type": "Mesh",
       "uvs": {
        "dtype": "float32",
        "shape": []
       },
       "vertices": {
        "dtype": "float32",
        "shape": [
         364,
         3
        ]
       },
       "visible": true,
       "volume": {
        "dtype": "float32",
        "shape": [
         0
        ]
       },
       "volume_bounds": {
        "dtype": "float32",
        "shape": [
         0
        ]
       },
       "wireframe": false
      }
     },
     "9414b36249bb47f99ed9089a0465ea9b": {
      "model_module": "k3d",
      "model_module_version": "2.16.1",
      "model_name": "PlotModel",
      "state": {
       "_backend_version": "2.16.1",
       "antialias": 3,
       "auto_rendering": true,
       "axes": [
        "x",
        "y",
        "z"
       ],
       "axes_helper": 1,
       "axes_helper_colors": [
        16711680,
        65280,
        255
       ],
       "background_color": 16777215,
       "camera": [
        88.03190296816173,
        -135.26247408877825,
        33.884599941896816,
        -2.1430797576904297,
        0,
        24.867101669311523,
        0,
        0,
        1
       ],
       "camera_animation": [],
       "camera_auto_fit": true,
       "camera_damping_factor": 0,
       "camera_fov": 60,
       "camera_mode": "trackball",
       "camera_no_pan": false,
       "camera_no_rotate": false,
       "camera_no_zoom": false,
       "camera_pan_speed": 0.3,
       "camera_rotate_speed": 1,
       "camera_zoom_speed": 1.2,
       "clipping_planes": [],
       "colorbar_object_id": -1,
       "colorbar_scientific": false,
       "custom_data": null,
       "fps": 25,
       "fps_meter": false,
       "grid": [
        -1,
        -1,
        -1,
        1,
        1,
        1
       ],
       "grid_auto_fit": true,
       "grid_color": 15132390,
       "grid_visible": true,
       "height": 512,
       "label_color": 4473924,
       "layout": "IPY_MODEL_85648f7599b24c52ba47e16460e5bdd6",
       "lighting": 3,
       "logarithmic_depth_buffer": true,
       "manipulate_mode": "translate",
       "menu_visibility": true,
       "minimum_fps": -1,
       "mode": "view",
       "name": null,
       "object_ids": [
        1922373032640
       ],
       "rendering_steps": 1,
       "screenshot": "",
       "screenshot_scale": 2,
       "snapshot": "",
       "snapshot_type": "full",
       "time": 0,
       "voxel_paint_color": 0
      }
     },
     "aa7bd6109ea041e8b5815deb4b32c108": {
      "buffers": [
       {
        "data": "",
        "encoding": "base64",
        "path": [
         "attribute",
         "data"
        ]
       },
       {
        "data": "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",
        "encoding": "base64",
        "path": [
         "color_map",
         "data"
        ]
       },
       {
        "data": "",
        "encoding": "base64",
        "path": [
         "colors",
         "data"
        ]
       },
       {
        "data": "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",
        "encoding": "base64",
        "path": [
         "indices",
         "data"
        ]
       },
       {
        "data": "AACAPwAAAAAAAAAAAAAAAAAAAAAAAIA/AAAAAAAAAAAAAAAAAAAAAAAAgD8AAAAAAAAAAAAAAAAAAAAAAACAPw==",
        "encoding": "base64",
        "path": [
         "model_matrix",
         "data"
        ]
       },
       {
        "data": "",
        "encoding": "base64",
        "path": [
         "normals",
         "data"
        ]
       },
       {
        "data": "",
        "encoding": "base64",
        "path": [
         "opacity_function",
         "data"
        ]
       },
       {
        "data": "",
        "encoding": "base64",
        "path": [
         "triangles_attribute",
         "data"
        ]
       },
       {
        "data": "AADAfw==",
        "encoding": "base64",
        "path": [
         "uvs",
         "data"
        ]
       },
       {
        "data": "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",
        "encoding": "base64",
        "path": [
         "vertices",
         "data"
        ]
       },
       {
        "data": "",
        "encoding": "base64",
        "path": [
         "volume",
         "data"
        ]
       },
       {
        "data": "",
        "encoding": "base64",
        "path": [
         "volume_bounds",
         "data"
        ]
       }
      ],
      "model_module": "k3d",
      "model_module_version": "2.16.1",
      "model_name": "ObjectModel",
      "state": {
       "_view_module": null,
       "_view_module_version": "",
       "_view_name": null,
       "attribute": {
        "dtype": "float32",
        "shape": [
         0
        ]
       },
       "click_callback": false,
       "color": 3302400,
       "colorLegend": false,
       "color_map": {
        "dtype": "float32",
        "shape": [
         1024
        ]
       },
       "color_range": [],
       "colors": {
        "dtype": "uint32",
        "shape": [
         0
        ]
       },
       "compression_level": 0,
       "custom_data": null,
       "flat_shading": true,
       "group": null,
       "hover_callback": false,
       "id": 1922390203360,
       "indices": {
        "dtype": "uint32",
        "shape": [
         2830,
         3
        ]
       },
       "model_matrix": {
        "dtype": "float32",
        "shape": [
         4,
         4
        ]
       },
       "name": "Mesh #1",
       "normals": {
        "dtype": "float32",
        "shape": [
         0
        ]
       },
       "opacity": 1,
       "opacity_function": {
        "dtype": "float32",
        "shape": [
         0
        ]
       },
       "side": "front",
       "texture": null,
       "texture_file_format": null,
       "triangles_attribute": {
        "dtype": "float32",
        "shape": [
         0
        ]
       },
       "type": "Mesh",
       "uvs": {
        "dtype": "float32",
        "shape": []
       },
       "vertices": {
        "dtype": "float32",
        "shape": [
         2370,
         3
        ]
       },
       "visible": true,
       "volume": {
        "dtype": "float32",
        "shape": [
         0
        ]
       },
       "volume_bounds": {
        "dtype": "float32",
        "shape": [
         0
        ]
       },
       "wireframe": false
      }
     },
     "c48fa2cd818e419697a1d5b9a43bfbdb": {
      "model_module": "@jupyter-widgets/base",
      "model_module_version": "2.0.0",
      "model_name": "LayoutModel",
      "state": {}
     },
     "e64b7709cbbb4eeda71f238aed16f8d9": {
      "buffers": [
       {
        "data": "",
        "encoding": "base64",
        "path": [
         "attribute",
         "data"
        ]
       },
       {
        "data": "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",
        "encoding": "base64",
        "path": [
         "color_map",
         "data"
        ]
       },
       {
        "data": "",
        "encoding": "base64",
        "path": [
         "colors",
         "data"
        ]
       },
       {
        "data": "AAAAAAIAAAABAAAAAQAAAAIAAAADAAAAAQAAAAMAAAANAAAAAAAAAAwAAAACAAAAAgAAAAQAAAADAAAAAwAAAAQAAAAFAAAAAwAAAAUAAAANAAAAAgAAAAwAAAAEAAAABAAAAAYAAAAFAAAABQAAAAYAAAAHAAAABQAAAAcAAAANAAAABAAAAAwAAAAGAAAABgAAAAgAAAAHAAAABwAAAAgAAAAJAAAABwAAAAkAAAANAAAABgAAAAwAAAAIAAAACAAAAAoAAAAJAAAACQAAAAoAAAALAAAACQAAAAsAAAANAAAACAAAAAwAAAAKAAAACgAAAAAAAAALAAAACwAAAAAAAAABAAAACwAAAAEAAAANAAAACgAAAAwAAAAAAAAADgAAABoAAAAbAAAADwAAABsAAAAcAAAAEAAAABwAAAAdAAAAEQAAAB0AAAAeAAAAEgAAAB4AAAAfAAAAEwAAAB8AAAAgAAAAFAAAACAAAAAhAAAAFQAAACEAAAAiAAAAFgAAACIAAAAjAAAAFwAAACMAAAAkAAAADgAAABsAAAAPAAAADwAAABwAAAAQAAAAEAAAAB0AAAARAAAAEQAAAB4AAAASAAAAEgAAAB8AAAATAAAAEwAAACAAAAAUAAAAFAAAACEAAAAVAAAAFQAAACIAAAAWAAAAFgAAACMAAAAXAAAAFwAAACQAAAAYAAAAGAAAACQAAAAlAAAAJgAAACgAAAAnAAAAJwAAACgAAAApAAAAJwAAACkAAAAzAAAAJgAAADIAAAAoAAAAKAAAACoAAAApAAAAKQAAACoAAAArAAAAKQAAACsAAAAzAAAAKAAAADIAAAAqAAAAKgAAACwAAAArAAAAKwAAACwAAAAtAAAAKwAAAC0AAAAzAAAAKgAAADIAAAAsAAAALAAAAC4AAAAtAAAALQAAAC4AAAAvAAAALQAAAC8AAAAzAAAALAAAADIAAAAuAAAALgAAADAAAAAvAAAALwAAADAAAAAxAAAALwAAADEAAAAzAAAALgAAADIAAAAwAAAAMAAAACYAAAAxAAAAMQAAACYAAAAnAAAAMQAAACcAAAAzAAAAMAAAADIAAAAmAAAANAAAAEAAAABBAAAANQAAAEEAAABCAAAANgAAAEIAAABDAAAANwAAAEMAAABEAAAAOAAAAEQAAABFAAAAOQAAAEUAAABGAAAAOgAAAEYAAABHAAAAOwAAAEcAAABIAAAAPAAAAEgAAABJAAAAPQAAAEkAAABKAAAANAAAAEEAAAA1AAAANQAAAEIAAAA2AAAANgAAAEMAAAA3AAAANwAAAEQAAAA4AAAAOAAAAEUAAAA5AAAAOQAAAEYAAAA6AAAAOgAAAEcAAAA7AAAAOwAAAEgAAAA8AAAAPAAAAEkAAAA9AAAAPQAAAEoAAAA+AAAAPgAAAEoAAABLAAAATAAAAE4AAABNAAAATQAAAE4AAABPAAAATQAAAE8AAABZAAAATAAAAFgAAABOAAAATgAAAFAAAABPAAAATwAAAFAAAABRAAAATwAAAFEAAABZAAAATgAAAFgAAABQAAAAUAAAAFIAAABRAAAAUQAAAFIAAABTAAAAUQAAAFMAAABZAAAAUAAAAFgAAABSAAAAUgAAAFQAAABTAAAAUwAAAFQAAABVAAAAUwAAAFUAAABZAAAAUgAAAFgAAABUAAAAVAAAAFYAAABVAAAAVQAAAFYAAABXAAAAVQAAAFcAAABZAAAAVAAAAFgAAABWAAAAVgAAAEwAAABXAAAAVwAAAEwAAABNAAAAVwAAAE0AAABZAAAAVgAAAFgAAABMAAAAWgAAAGYAAABnAAAAWwAAAGcAAABoAAAAXAAAAGgAAABpAAAAXQAAAGkAAABqAAAAXgAAAGoAAABrAAAAXwAAAGsAAABsAAAAYAAAAGwAAABtAAAAYQAAAG0AAABuAAAAYgAAAG4AAABvAAAAYwAAAG8AAABwAAAAWgAAAGcAAABbAAAAWwAAAGgAAABcAAAAXAAAAGkAAABdAAAAXQAAAGoAAABeAAAAXgAAAGsAAABfAAAAXwAAAGwAAABgAAAAYAAAAG0AAABhAAAAYQAAAG4AAABiAAAAYgAAAG8AAABjAAAAYwAAAHAAAABkAAAAZAAAAHAAAABxAAAAcgAAAHQAAABzAAAAcwAAAHQAAAB1AAAAcwAAAHUAAAB/AAAAcgAAAH4AAAB0AAAAdAAAAHYAAAB1AAAAdQAAAHYAAAB3AAAAdQAAAHcAAAB/AAAAdAAAAH4AAAB2AAAAdgAAAHgAAAB3AAAAdwAAAHgAAAB5AAAAdwAAAHkAAAB/AAAAdgAAAH4AAAB4AAAAeAAAAHoAAAB5AAAAeQAAAHoAAAB7AAAAeQAAAHsAAAB/AAAAeAAAAH4AAAB6AAAAegAAAHwAAAB7AAAAewAAAHwAAAB9AAAAewAAAH0AAAB/AAAAegAAAH4AAAB8AAAAfAAAAHIAAAB9AAAAfQAAAHIAAABzAAAAfQAAAHMAAAB/AAAAfAAAAH4AAAByAAAAgAAAAIwAAACNAAAAgQAAAI0AAACOAAAAggAAAI4AAACPAAAAgwAAAI8AAACQAAAAhAAAAJAAAACRAAAAhQAAAJEAAACSAAAAhgAAAJIAAACTAAAAhwAAAJMAAACUAAAAiAAAAJQAAACVAAAAiQAAAJUAAACWAAAAgAAAAI0AAACBAAAAgQAAAI4AAACCAAAAggAAAI8AAACDAAAAgwAAAJAAAACEAAAAhAAAAJEAAACFAAAAhQAAAJIAAACGAAAAhgAAAJMAAACHAAAAhwAAAJQAAACIAAAAiAAAAJUAAACJAAAAiQAAAJYAAACKAAAAigAAAJYAAACXAAAAmAAAAJoAAACZAAAAmQAAAJoAAACbAAAAmQAAAJsAAAClAAAAmAAAAKQAAACaAAAAmgAAAJwAAACbAAAAmwAAAJwAAACdAAAAmwAAAJ0AAAClAAAAmgAAAKQAAACcAAAAnAAAAJ4AAACdAAAAnQAAAJ4AAACfAAAAnQAAAJ8AAAClAAAAnAAAAKQAAACeAAAAngAAAKAAAACfAAAAnwAAAKAAAAChAAAAnwAAAKEAAAClAAAAngAAAKQAAACgAAAAoAAAAKIAAAChAAAAoQAAAKIAAACjAAAAoQAAAKMAAAClAAAAoAAAAKQAAACiAAAAogAAAJgAAACjAAAAowAAAJgAAACZAAAAowAAAJkAAAClAAAAogAAAKQAAACYAAAApgAAALIAAACzAAAApwAAALMAAAC0AAAAqAAAALQAAAC1AAAAqQAAALUAAAC2AAAAqgAAALYAAAC3AAAAqwAAALcAAAC4AAAArAAAALgAAAC5AAAArQAAALkAAAC6AAAArgAAALoAAAC7AAAArwAAALsAAAC8AAAApgAAALMAAACnAAAApwAAALQAAACoAAAAqAAAALUAAACpAAAAqQAAALYAAACqAAAAqgAAALcAAACrAAAAqwAAALgAAACsAAAArAAAALkAAACtAAAArQAAALoAAACuAAAArgAAALsAAACvAAAArwAAALwAAACwAAAAsAAAALwAAAC9AAAAvgAAAMAAAAC/AAAAvwAAAMAAAADBAAAAvwAAAMEAAADLAAAAvgAAAMoAAADAAAAAwAAAAMIAAADBAAAAwQAAAMIAAADDAAAAwQAAAMMAAADLAAAAwAAAAMoAAADCAAAAwgAAAMQAAADDAAAAwwAAAMQAAADFAAAAwwAAAMUAAADLAAAAwgAAAMoAAADEAAAAxAAAAMYAAADFAAAAxQAAAMYAAADHAAAAxQAAAMcAAADLAAAAxAAAAMoAAADGAAAAxgAAAMgAAADHAAAAxwAAAMgAAADJAAAAxwAAAMkAAADLAAAAxgAAAMoAAADIAAAAyAAAAL4AAADJAAAAyQAAAL4AAAC/AAAAyQAAAL8AAADLAAAAyAAAAMoAAAC+AAAAzAAAANgAAADZAAAAzQAAANkAAADaAAAAzgAAANoAAADbAAAAzwAAANsAAADcAAAA0AAAANwAAADdAAAA0QAAAN0AAADeAAAA0gAAAN4AAADfAAAA0wAAAN8AAADgAAAA1AAAAOAAAADhAAAA1QAAAOEAAADiAAAAzAAAANkAAADNAAAAzQAAANoAAADOAAAAzgAAANsAAADPAAAAzwAAANwAAADQAAAA0AAAAN0AAADRAAAA0QAAAN4AAADSAAAA0gAAAN8AAADTAAAA0wAAAOAAAADUAAAA1AAAAOEAAADVAAAA1QAAAOIAAADWAAAA1gAAAOIAAADjAAAA5AAAAOYAAADlAAAA5QAAAOYAAADnAAAA5QAAAOcAAADxAAAA5AAAAPAAAADmAAAA5gAAAOgAAADnAAAA5wAAAOgAAADpAAAA5wAAAOkAAADxAAAA5gAAAPAAAADoAAAA6AAAAOoAAADpAAAA6QAAAOoAAADrAAAA6QAAAOsAAADxAAAA6AAAAPAAAADqAAAA6gAAAOwAAADrAAAA6wAAAOwAAADtAAAA6wAAAO0AAADxAAAA6gAAAPAAAADsAAAA7AAAAO4AAADtAAAA7QAAAO4AAADvAAAA7QAAAO8AAADxAAAA7AAAAPAAAADuAAAA7gAAAOQAAADvAAAA7wAAAOQAAADlAAAA7wAAAOUAAADxAAAA7gAAAPAAAADkAAAA8gAAAP4AAAD/AAAA8wAAAP8AAAAAAQAA9AAAAAABAAABAQAA9QAAAAEBAAACAQAA9gAAAAIBAAADAQAA9wAAAAMBAAAEAQAA+AAAAAQBAAAFAQAA+QAAAAUBAAAGAQAA+gAAAAYBAAAHAQAA+wAAAAcBAAAIAQAA8gAAAP8AAADzAAAA8wAAAAABAAD0AAAA9AAAAAEBAAD1AAAA9QAAAAIBAAD2AAAA9gAAAAMBAAD3AAAA9wAAAAQBAAD4AAAA+AAAAAUBAAD5AAAA+QAAAAYBAAD6AAAA+gAAAAcBAAD7AAAA+wAAAAgBAAD8AAAA/AAAAAgBAAAJAQAACgEAAAwBAAALAQAACwEAAAwBAAANAQAACwEAAA0BAAAXAQAACgEAABYBAAAMAQAADAEAAA4BAAANAQAADQEAAA4BAAAPAQAADQEAAA8BAAAXAQAADAEAABYBAAAOAQAADgEAABABAAAPAQAADwEAABABAAARAQAADwEAABEBAAAXAQAADgEAABYBAAAQAQAAEAEAABIBAAARAQAAEQEAABIBAAATAQAAEQEAABMBAAAXAQAAEAEAABYBAAASAQAAEgEAABQBAAATAQAAEwEAABQBAAAVAQAAEwEAABUBAAAXAQAAEgEAABYBAAAUAQAAFAEAAAoBAAAVAQAAFQEAAAoBAAALAQAAFQEAAAsBAAAXAQAAFAEAABYBAAAKAQAAGAEAACQBAAAlAQAAGQEAACUBAAAmAQAAGgEAACYBAAAnAQAAGwEAACcBAAAoAQAAHAEAACgBAAApAQAAHQEAACkBAAAqAQAAHgEAACoBAAArAQAAHwEAACsBAAAsAQAAIAEAACwBAAAtAQAAIQEAAC0BAAAuAQAAGAEAACUBAAAZAQAAGQEAACYBAAAaAQAAGgEAACcBAAAbAQAAGwEAACgBAAAcAQAAHAEAACkBAAAdAQAAHQEAACoBAAAeAQAAHgEAACsBAAAfAQAAHwEAACwBAAAgAQAAIAEAAC0BAAAhAQAAIQEAAC4BAAAiAQAAIgEAAC4BAAAvAQAAMAEAADIBAAAxAQAAMQEAADIBAAAzAQAAMQEAADMBAAA9AQAAMAEAADwBAAAyAQAAMgEAADQBAAAzAQAAMwEAADQBAAA1AQAAMwEAADUBAAA9AQAAMgEAADwBAAA0AQAANAEAADYBAAA1AQAANQEAADYBAAA3AQAANQEAADcBAAA9AQAANAEAADwBAAA2AQAANgEAADgBAAA3AQAANwEAADgBAAA5AQAANwEAADkBAAA9AQAANgEAADwBAAA4AQAAOAEAADoBAAA5AQAAOQEAADoBAAA7AQAAOQEAADsBAAA9AQAAOAEAADwBAAA6AQAAOgEAADABAAA7AQAAOwEAADABAAAxAQAAOwEAADEBAAA9AQAAOgEAADwBAAAwAQAAPgEAAEwBAABNAQAAPwEAAE0BAABOAQAAQAEAAE4BAABPAQAAQQEAAE8BAABQAQAAQgEAAFABAABRAQAAQwEAAFEBAABSAQAARAEAAFIBAABTAQAARQEAAFMBAABUAQAARgEAAFQBAABVAQAARwEAAFUBAABWAQAASAEAAFYBAABXAQAASQEAAFcBAABYAQAAPgEAAE0BAAA/AQAAPwEAAE4BAABAAQAAQAEAAE8BAABBAQAAQQEAAFABAABCAQAAQgEAAFEBAABDAQAAQwEAAFIBAABEAQAARAEAAFMBAABFAQAARQEAAFQBAABGAQAARgEAAFUBAABHAQAARwEAAFYBAABIAQAASAEAAFcBAABJAQAASQEAAFgBAABKAQAASgEAAFgBAABZAQAAWgEAAFwBAABbAQAAWwEAAFwBAABdAQAAWwEAAF0BAABnAQAAWgEAAGYBAABcAQAAXAEAAF4BAABdAQAAXQEAAF4BAABfAQAAXQEAAF8BAABnAQAAXAEAAGYBAABeAQAAXgEAAGABAABfAQAAXwEAAGABAABhAQAAXwEAAGEBAABnAQAAXgEAAGYBAABgAQAAYAEAAGIBAABhAQAAYQEAAGIBAABjAQAAYQEAAGMBAABnAQAAYAEAAGYBAABiAQAAYgEAAGQBAABjAQAAYwEAAGQBAABlAQAAYwEAAGUBAABnAQAAYgEAAGYBAABkAQAAZAEAAFoBAABlAQAAZQEAAFoBAABbAQAAZQEAAFsBAABnAQAAZAEAAGYBAABaAQAAaAEAAGoBAABrAQAAaAEAAGsBAABpAQAAaAEAAGoBAABrAQAA",
        "encoding": "base64",
        "path": [
         "indices",
         "data"
        ]
       },
       {
        "data": "AACAPwAAAAAAAAAAAAAAAAAAAAAAAIA/AAAAAAAAAAAAAAAAAAAAAAAAgD8AAAAAAAAAAAAAAAAAAAAAAACAPw==",
        "encoding": "base64",
        "path": [
         "model_matrix",
         "data"
        ]
       },
       {
        "data": "",
        "encoding": "base64",
        "path": [
         "normals",
         "data"
        ]
       },
       {
        "data": "",
        "encoding": "base64",
        "path": [
         "opacity_function",
         "data"
        ]
       },
       {
        "data": "",
        "encoding": "base64",
        "path": [
         "triangles_attribute",
         "data"
        ]
       },
       {
        "data": "AADAfw==",
        "encoding": "base64",
        "path": [
         "uvs",
         "data"
        ]
       },
       {
        "data": "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",
        "encoding": "base64",
        "path": [
         "vertices",
         "data"
        ]
       },
       {
        "data": "",
        "encoding": "base64",
        "path": [
         "volume",
         "data"
        ]
       },
       {
        "data": "",
        "encoding": "base64",
        "path": [
         "volume_bounds",
         "data"
        ]
       }
      ],
      "model_module": "k3d",
      "model_module_version": "2.16.1",
      "model_name": "ObjectModel",
      "state": {
       "_view_module": null,
       "_view_module_version": "",
       "_view_name": null,
       "attribute": {
        "dtype": "float32",
        "shape": [
         0
        ]
       },
       "click_callback": false,
       "color": 3302400,
       "colorLegend": false,
       "color_map": {
        "dtype": "float32",
        "shape": [
         1024
        ]
       },
       "color_range": [],
       "colors": {
        "dtype": "uint32",
        "shape": [
         0
        ]
       },
       "compression_level": 0,
       "custom_data": null,
       "flat_shading": true,
       "group": null,
       "hover_callback": false,
       "id": 1922373032640,
       "indices": {
        "dtype": "uint32",
        "shape": [
         436,
         3
        ]
       },
       "model_matrix": {
        "dtype": "float32",
        "shape": [
         4,
         4
        ]
       },
       "name": "Mesh #1",
       "normals": {
        "dtype": "float32",
        "shape": [
         0
        ]
       },
       "opacity": 1,
       "opacity_function": {
        "dtype": "float32",
        "shape": [
         0
        ]
       },
       "side": "front",
       "texture": null,
       "texture_file_format": null,
       "triangles_attribute": {
        "dtype": "float32",
        "shape": [
         0
        ]
       },
       "type": "Mesh",
       "uvs": {
        "dtype": "float32",
        "shape": []
       },
       "vertices": {
        "dtype": "float32",
        "shape": [
         364,
         3
        ]
       },
       "visible": true,
       "volume": {
        "dtype": "float32",
        "shape": [
         0
        ]
       },
       "volume_bounds": {
        "dtype": "float32",
        "shape": [
         0
        ]
       },
       "wireframe": false
      }
     }
    },
    "version_major": 2,
    "version_minor": 0
   }
  }
 },
 "nbformat": 4,
 "nbformat_minor": 4
}
