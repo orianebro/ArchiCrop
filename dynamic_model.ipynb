{
 "cells": [
  {
   "cell_type": "markdown",
   "metadata": {},
   "source": [
    "# Dynamic model"
   ]
  },
  {
   "cell_type": "raw",
   "metadata": {},
   "source": [
    "---\n",
    "title: \"Dynamic model\"\n",
    "author: \"Oriane Braud\"\n",
    "toc: true\n",
    "number-sections: true\n",
    "highlight-style: pygments\n",
    "format:\n",
    "  html: \n",
    "    code-fold: true\n",
    "    geometry: \n",
    "      - top=30mm\n",
    "      - left=30mm\n",
    "jupyter: python3\n",
    "---"
   ]
  },
  {
   "cell_type": "code",
   "execution_count": 2,
   "metadata": {},
   "outputs": [],
   "source": [
    "#| echo: false\n",
    "\n",
    "# Import path of model\n",
    "import sys\n",
    "# caution: path[0] is reserved for script path (or '' in REPL)\n",
    "sys.path.insert(1, '../src')"
   ]
  },
  {
   "cell_type": "markdown",
   "metadata": {},
   "source": [
    "## Conceptual diagram"
   ]
  },
  {
   "cell_type": "markdown",
   "metadata": {},
   "source": [
    "![Conceptual diagram of shoot FSPM (not final version, some errors)](images/shoot_FSPM_conceptual_diagram_alone.jpg \"Conceptual diagram\")"
   ]
  },
  {
   "cell_type": "markdown",
   "metadata": {},
   "source": [
    "The main stem grows according to the crop model's plant height. At the end of the growth of an internode, a leaf appears. The appearance of a leaf is triggered by fixed phyllochron (different for tillers?).  \n",
    "\n",
    "Cf Fournier et al, 2005 for leaf elongation \n",
    "\n",
    "The angle of the leaf with its axis is leaf-age dependent. The leaf blade curvature depends on the angle with the axis and the leaf length.  \n",
    "\n",
    "The reproductive organs appear from a given thermal time, when the leaves have stopped growing. \n",
    "\n",
    "Leaf senescence is constrained by crop model, as it has a direct influence on LAI (green LAI vs. yellow LAI ?).  \n",
    "\n",
    "The branching pattern is set (Tillers (Zhu et al., 2015)). "
   ]
  },
  {
   "cell_type": "markdown",
   "metadata": {},
   "source": [
    "## Time-dependent parametrization of leaf area\n",
    "\n",
    "$$ \\mathcal{A_normalized} = 2 * |\\int_{0}^{1} \\mathcal{C}(s(u))ds(u)| $$\n",
    "$$ \\mathcal{A} = \\mathcal{A_scaled} = 2 * w * |\\int_{0}^{L} \\mathcal{C}(\\frac{s(u)}{L})d\\frac{s(u)}{L}| $$\n",
    "$$ \\frac{d\\mathcal{A}}{dt} = 2 * w * |\\int_{ds(t)/L} \\mathcal{C}(\\frac{s(u)}{L})d\\frac{s(u)}{L}| $$\n",
    "\n",
    "- $\\mathcal{A}$ : final leaf area (or surface), in $cm^2$ (given by crop model)\n",
    "- $\\frac{d\\mathcal{A}}{dt}$ : gain in area, in $cm^2$, for a given leaf for a given time step $dt$ (given by crop model)  \n",
    "- $\\mathcal{C}$ : curve of the evolution of the leaf width along the leaf, **from tip to base** (literature/expert knowledge/observation)\n",
    "- $s(t)$ : curvilinear abscissa of the midrib, in $cm$, as a function of thermal time $t$, such that: $ ds(t) = \\sqrt{(dx(t))^2+(dy(t))^2} $ (computed from leaf curvature)\n",
    "- $w$ : final maximal width of the leaf, in $cm$ (to fix/vary within a reasonable range)\n",
    "- $L$ : final length of the leaf, in $cm$ (to fix/vary within a reasonable range)\n",
    "- $t$ : thermal time, in $^oC.day$\n"
   ]
  },
  {
   "cell_type": "markdown",
   "metadata": {},
   "source": [
    "The objective is to find, for each growing leaf, at each time step, and for a given leaf area provided to the leaf $\\frac{d\\mathcal{A}}{dt}$, how much length $ds(t)$ is added to the leaf.\n",
    "\n",
    "$$ \\frac{d\\mathcal{A}}{dt} = 2w |\\int_{s(t-1)/L}^{s(t)/L} \\mathcal{C}(\\frac{s(u)}{L})d\\frac{s(u)}{L}| $$\n",
    "\n",
    "According to the Fundamental Theorem of Calculus, $\\mathcal{C}$ being at least $C^0$ on $[0,L]$, $F$ being the antiderivative of $\\mathcal{C}$, we can write:\n",
    "\n",
    "$$ \\frac{d\\mathcal{A}}{dt} = 2w (|F(\\frac{s(t)}{L}) - F(\\frac{s(t-1)}{L})|) $$\n",
    "\n",
    "$$ F(\\frac{s(t)}{L}) = |\\frac{1}{2w} \\frac{d\\mathcal{A}}{dt} + F(\\frac{s(t-1)}{L})| $$\n",
    "\n",
    "Knowing the other variables, we know have to determine $s(t)$ at thermal time $t$."
   ]
  },
  {
   "cell_type": "code",
   "execution_count": 3,
   "metadata": {},
   "outputs": [],
   "source": [
    "#| echo: false\n",
    "# drawing"
   ]
  },
  {
   "cell_type": "markdown",
   "metadata": {},
   "source": [
    "## Apparition and growth of phytomers (stem and leaf)"
   ]
  },
  {
   "cell_type": "markdown",
   "metadata": {},
   "source": [
    "The height of the plant/canopy (here we consider the height of the main stem) is given by the crop model.  \n",
    "The plastochron (i.e. leaf initiation rate, in $leaf^{-1}$) is the time interval between two successive leaves produced at the SAM.  \n",
    "The phyllochron (i.e. leaf emergence rate, in $leaf^{-1}$) is the time interval between two successive leaves emerging from the top of the former leaf sheath.  \n",
    "The time for a leaf to grow is roughly between 1.5 and 2 phyllochrons.  \n",
    "We consider a linear (rough approximation of beta function) growth for the leaf.  \n",
    "\n",
    "- $\\phi$ : phyllochron, in $^oC.day.leaf^{-1}$ (literature)\n",
    "- cur_len_int : current length of growing internodes\n",
    "- fin_len_int : final length of internodes, in $cm$ (literature, bell shaped model too ?)\n",
    "- height : plant height, in $cm$ (given by crop model)\n",
    "- $[s(t)]$ : current length of growing leaves, in $cm$ (computed before)\n",
    "- fin_len_leaf : final length of leaves, in $cm$  (bell shaped model)\n",
    "- leaf expansion duration, as $x * \\phi$, in $^oC.day$ (literature, cf Clerget et al., 2008, etc)  \n",
    "\n",
    "Cf Fournier et al, 2005; Stewart and Dwyer, 1993; Skinner and Nelson, 1995  \n",
    "\n"
   ]
  },
  {
   "cell_type": "markdown",
   "metadata": {},
   "source": [
    "From crop model: "
   ]
  },
  {
   "cell_type": "markdown",
   "metadata": {},
   "source": [
    "## Modifying the MTG of a growing plant"
   ]
  },
  {
   "cell_type": "markdown",
   "metadata": {},
   "source": [
    "In progress ..."
   ]
  },
  {
   "cell_type": "markdown",
   "metadata": {},
   "source": [
    "There are several ways to conceive the MTG for a growing plant.  \n",
    "\n",
    "At each thermal time step, the turtle visits each element and adds a value to a time series for each (almost) properties of the MTG.   \n",
    "\n",
    "**OR**   \n",
    "\n",
    "At each thermal time step, the MTG is replicated and the growing elements ar modified, and new elements are added if needed.  "
   ]
  },
  {
   "cell_type": "code",
   "execution_count": null,
   "metadata": {},
   "outputs": [],
   "source": []
  },
  {
   "cell_type": "markdown",
   "metadata": {},
   "source": [
    "## Next steps\n",
    "\n",
    "- Constrains from crop model\n",
    "- Bending dynamics of leaves and tillers"
   ]
  }
 ],
 "metadata": {
  "kernelspec": {
   "display_name": "oa3",
   "language": "python",
   "name": "oa3"
  },
  "language_info": {
   "codemirror_mode": {
    "name": "ipython",
    "version": 3
   },
   "file_extension": ".py",
   "mimetype": "text/x-python",
   "name": "python",
   "nbconvert_exporter": "python",
   "pygments_lexer": "ipython3",
   "version": "3.12.2"
  },
  "widgets": {
   "application/vnd.jupyter.widget-state+json": {
    "state": {},
    "version_major": 2,
    "version_minor": 0
   }
  }
 },
 "nbformat": 4,
 "nbformat_minor": 4
}
