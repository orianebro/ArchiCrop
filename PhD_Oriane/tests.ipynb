{
 "cells": [
  {
   "cell_type": "code",
   "execution_count": 1,
   "metadata": {},
   "outputs": [],
   "source": [
    "import alinea.adel.mtg as mtg"
   ]
  },
  {
   "cell_type": "code",
   "execution_count": 2,
   "metadata": {},
   "outputs": [],
   "source": [
    "import alinea.adel.fitting as fitting"
   ]
  },
  {
   "cell_type": "code",
   "execution_count": 3,
   "metadata": {},
   "outputs": [],
   "source": [
    "# import alinea.adel.parameterisation.parameterisation as adelp"
   ]
  },
  {
   "cell_type": "code",
   "execution_count": 4,
   "metadata": {},
   "outputs": [],
   "source": [
    "from alinea.adel.symbol import build_symbols"
   ]
  },
  {
   "cell_type": "code",
   "execution_count": 5,
   "metadata": {},
   "outputs": [],
   "source": [
    "from alinea.adel.data_samples import leaves_db as ldb"
   ]
  },
  {
   "cell_type": "code",
   "execution_count": 6,
   "metadata": {},
   "outputs": [],
   "source": [
    "from openalea.mtg.traversal import pre_order2"
   ]
  },
  {
   "cell_type": "code",
   "execution_count": 7,
   "metadata": {},
   "outputs": [],
   "source": [
    "from openalea.plantgl.all import Viewer  "
   ]
  },
  {
   "cell_type": "code",
   "execution_count": 18,
   "metadata": {},
   "outputs": [],
   "source": [
    "from cereals import build_shoot, parametric_leaf, leaf_azimuth\n",
    "from simple_maize import bell_shaped_dist, geometric_dist"
   ]
  },
  {
   "cell_type": "code",
   "execution_count": 15,
   "metadata": {},
   "outputs": [],
   "source": [
    "import numpy as np"
   ]
  },
  {
   "cell_type": "code",
   "execution_count": 9,
   "metadata": {},
   "outputs": [],
   "source": [
    "g = None\n",
    "\n",
    "def adel_mtg():\n",
    "\n",
    "    # generation of a 3D plant from descritive parameters\n",
    "    stem_radius=0.5 # realistic, number or growing with phytomer age ?\n",
    "    height=2000 # from crop model\n",
    "    nb_phy=15 # from 0 to fixed max nb of phytomers\n",
    "    max_leaf_length=2000\n",
    "    insertion_angle=50\n",
    "    scurv=0.5\n",
    "    curvature=50\n",
    "    phyllotactic_angle=120\n",
    "    spiral=True\n",
    "    \n",
    "    insertion_heights=np.array(geometric_dist(height, nb_phy, q=1.2)) # further separate stem and pseudo stem, cf simple maize\n",
    "    \n",
    "    leaf_lengths=np.array(bell_shaped_dist(plant_area=max_leaf_length, nb_phy=nb_phy, rmax=0.7, skew=0.15)) # plant area --> max leaf length\n",
    "    # leaf_areas=bell_shaped_dist(plant_area=1, nb_phy=15, rmax=0.7, skew=0.15) # cf blade_dimension\n",
    "    \n",
    "    a_leaf = parametric_leaf(nb_segment=10, insertion_angle=insertion_angle, scurv=scurv, curvature=curvature, alpha=-2.3)\n",
    "    leaf_shapes = [a_leaf for l in leaf_lengths] # replace leaf_length by nb_phy or...\n",
    "    \n",
    "    leaf_azimuths = leaf_azimuth(size=len(leaf_lengths), phyllotactic_angle=phyllotactic_angle, phyllotactic_deviation=15, plant_orientation=0, spiral=spiral)\n",
    "    \n",
    "    shoot, g = build_shoot(stem_radius=stem_radius, insertion_heights=insertion_heights, leaf_lengths=leaf_lengths, leaf_areas=None,\n",
    "                    leaf_shapes=leaf_shapes, leaf_azimuths=leaf_azimuths)\n",
    "\n",
    "    \n",
    "\n",
    "\n",
    "    return g"
   ]
  },
  {
   "cell_type": "code",
   "execution_count": 10,
   "metadata": {},
   "outputs": [],
   "source": [
    "def leaves_db():\n",
    "    leaves = ldb()\n",
    "    leaves = fitting.fit_leaves(leaves, 9)\n",
    "    \n",
    "    db = leaves[0]\n",
    "    functions = build_symbols(db)\n",
    "    return functions"
   ]
  },
  {
   "cell_type": "code",
   "execution_count": 11,
   "metadata": {},
   "outputs": [],
   "source": [
    "def test_adel_mtg():\n",
    "    g = adel_mtg()\n",
    "    #print g\n",
    "    symbols = leaves_db()\n",
    "\n",
    "    assert len(g) == len(g.sub_mtg(g.root))\n",
    "\n",
    "    print(list(symbols.keys()))\n",
    "    g=mtg.mtg_turtle(g,symbols)\n",
    "    return g"
   ]
  },
  {
   "cell_type": "code",
   "execution_count": 45,
   "metadata": {},
   "outputs": [],
   "source": [
    "def test_dynamic_mtg():\n",
    "    \"\"\" Add to the each metamers a thermal time (e.g. 10).\n",
    "    Length = length * (thermal_time - start_thermaltime)/(end-start)\n",
    "    if the thermal time is lower that the start thermal time, \n",
    "    do not proceed more.\n",
    "    \"\"\"\n",
    "\n",
    "    g = adel_mtg()\n",
    "    g.display()\n",
    "\n",
    "    v = next(g.component_roots_at_scale_iter(g.root, scale=1))\n",
    "    tt = 0\n",
    "    dtt = 10.\n",
    "    for metamer in pre_order2(g, v):\n",
    "        nm = g.node(metamer)\n",
    "        for node in nm.components():\n",
    "            node.start_tt = tt\n",
    "            node.end_tt = tt+dtt\n",
    "        tt += dtt\n",
    "\n",
    "    return g, tt"
   ]
  },
  {
   "cell_type": "code",
   "execution_count": 46,
   "metadata": {},
   "outputs": [],
   "source": [
    "def display():\n",
    "\n",
    "    g, max_time = test_dynamic_mtg()\n",
    "\n",
    "    # add 1 scale --> >=3 scales\n",
    "    \n",
    "    # for vid in g.vertices(scale=1):\n",
    "    #     g.node(vid=vid).start_tt=0\n",
    "    #     g.node(vid=vid).end_tt=10\n",
    "    \n",
    "    symbols = leaves_db()\n",
    "\n",
    "    for time in range(1,150):\n",
    "        g.properties()['geometry'] = {}\n",
    "        g = mtg.mtg_turtle_time(g, symbols, time)\n",
    "        scene = g.to_plantgl()\n",
    "        Viewer.display(scene)"
   ]
  },
  {
   "cell_type": "code",
   "execution_count": 47,
   "metadata": {},
   "outputs": [
    {
     "name": "stdout",
     "output_type": "stream",
     "text": [
      "MTG : nb_vertices=32, nb_scales=2\n",
      "/plant\t\t\t(id=1)\t\t\t\t\t\t\t\t\t\t\t\n",
      "^<StemElement\t\t\t(id=2)\t\t\t\t\t\t\t\t\t\t\t\n",
      "\t+LeafElement\t\t\t(id=3)\t\t\t\t\t\t\t\t\t\t\n",
      "^<StemElement\t\t\t(id=4)\t\t\t\t\t\t\t\t\t\t\t\n",
      "\t+LeafElement\t\t\t(id=5)\t\t\t\t\t\t\t\t\t\t\n",
      "^<StemElement\t\t\t(id=6)\t\t\t\t\t\t\t\t\t\t\t\n",
      "\t+LeafElement\t\t\t(id=7)\t\t\t\t\t\t\t\t\t\t\n",
      "^<StemElement\t\t\t(id=8)\t\t\t\t\t\t\t\t\t\t\t\n",
      "\t+LeafElement\t\t\t(id=9)\t\t\t\t\t\t\t\t\t\t\n",
      "^<StemElement\t\t\t(id=10)\t\t\t\t\t\t\t\t\t\t\t\n",
      "\t+LeafElement\t\t\t(id=11)\t\t\t\t\t\t\t\t\t\t\n",
      "^<StemElement\t\t\t(id=12)\t\t\t\t\t\t\t\t\t\t\t\n",
      "\t+LeafElement\t\t\t(id=13)\t\t\t\t\t\t\t\t\t\t\n",
      "^<StemElement\t\t\t(id=14)\t\t\t\t\t\t\t\t\t\t\t\n",
      "\t+LeafElement\t\t\t(id=15)\t\t\t\t\t\t\t\t\t\t\n",
      "^<StemElement\t\t\t(id=16)\t\t\t\t\t\t\t\t\t\t\t\n",
      "\t+LeafElement\t\t\t(id=17)\t\t\t\t\t\t\t\t\t\t\n",
      "^<StemElement\t\t\t(id=18)\t\t\t\t\t\t\t\t\t\t\t\n",
      "\t+LeafElement\t\t\t(id=19)\t\t\t\t\t\t\t\t\t\t\n",
      "^<StemElement\t\t\t(id=20)\t\t\t\t\t\t\t\t\t\t\t\n",
      "\t+LeafElement\t\t\t(id=21)\t\t\t\t\t\t\t\t\t\t\n",
      "^<StemElement\t\t\t(id=22)\t\t\t\t\t\t\t\t\t\t\t\n",
      "\t+LeafElement\t\t\t(id=23)\t\t\t\t\t\t\t\t\t\t\n",
      "^<StemElement\t\t\t(id=24)\t\t\t\t\t\t\t\t\t\t\t\n",
      "\t+LeafElement\t\t\t(id=25)\t\t\t\t\t\t\t\t\t\t\n",
      "^<StemElement\t\t\t(id=26)\t\t\t\t\t\t\t\t\t\t\t\n",
      "\t+LeafElement\t\t\t(id=27)\t\t\t\t\t\t\t\t\t\t\n",
      "^<StemElement\t\t\t(id=28)\t\t\t\t\t\t\t\t\t\t\t\n",
      "\t+LeafElement\t\t\t(id=29)\t\t\t\t\t\t\t\t\t\t\n",
      "^<StemElement\t\t\t(id=30)\t\t\t\t\t\t\t\t\t\t\t\n",
      "\t+LeafElement\t\t\t(id=31)\t\t\t\t\t\t\t\t\t\t\n"
     ]
    },
    {
     "ename": "StopIteration",
     "evalue": "",
     "output_type": "error",
     "traceback": [
      "\u001b[1;31m---------------------------------------------------------------------------\u001b[0m",
      "\u001b[1;31mStopIteration\u001b[0m                             Traceback (most recent call last)",
      "Cell \u001b[1;32mIn[47], line 1\u001b[0m\n\u001b[1;32m----> 1\u001b[0m \u001b[43mdisplay\u001b[49m\u001b[43m(\u001b[49m\u001b[43m)\u001b[49m\n",
      "Cell \u001b[1;32mIn[46], line 3\u001b[0m, in \u001b[0;36mdisplay\u001b[1;34m()\u001b[0m\n\u001b[0;32m      1\u001b[0m \u001b[38;5;28;01mdef\u001b[39;00m \u001b[38;5;21mdisplay\u001b[39m():\n\u001b[1;32m----> 3\u001b[0m     g, max_time \u001b[38;5;241m=\u001b[39m \u001b[43mtest_dynamic_mtg\u001b[49m\u001b[43m(\u001b[49m\u001b[43m)\u001b[49m\n\u001b[0;32m      5\u001b[0m     \u001b[38;5;66;03m# for vid in g.vertices(scale=1):\u001b[39;00m\n\u001b[0;32m      6\u001b[0m     \u001b[38;5;66;03m#     g.node(vid=vid).start_tt=0\u001b[39;00m\n\u001b[0;32m      7\u001b[0m     \u001b[38;5;66;03m#     g.node(vid=vid).end_tt=10\u001b[39;00m\n\u001b[0;32m      9\u001b[0m     symbols \u001b[38;5;241m=\u001b[39m leaves_db()\n",
      "Cell \u001b[1;32mIn[45], line 11\u001b[0m, in \u001b[0;36mtest_dynamic_mtg\u001b[1;34m()\u001b[0m\n\u001b[0;32m      8\u001b[0m g \u001b[38;5;241m=\u001b[39m adel_mtg()\n\u001b[0;32m      9\u001b[0m g\u001b[38;5;241m.\u001b[39mdisplay()\n\u001b[1;32m---> 11\u001b[0m v \u001b[38;5;241m=\u001b[39m \u001b[38;5;28;43mnext\u001b[39;49m\u001b[43m(\u001b[49m\u001b[43mg\u001b[49m\u001b[38;5;241;43m.\u001b[39;49m\u001b[43mcomponent_roots_at_scale_iter\u001b[49m\u001b[43m(\u001b[49m\u001b[43mg\u001b[49m\u001b[38;5;241;43m.\u001b[39;49m\u001b[43mroot\u001b[49m\u001b[43m,\u001b[49m\u001b[43m \u001b[49m\u001b[43mscale\u001b[49m\u001b[38;5;241;43m=\u001b[39;49m\u001b[38;5;241;43m0\u001b[39;49m\u001b[43m)\u001b[49m\u001b[43m)\u001b[49m\n\u001b[0;32m     12\u001b[0m tt \u001b[38;5;241m=\u001b[39m \u001b[38;5;241m0\u001b[39m\n\u001b[0;32m     13\u001b[0m dtt \u001b[38;5;241m=\u001b[39m \u001b[38;5;241m10.\u001b[39m\n",
      "\u001b[1;31mStopIteration\u001b[0m: "
     ]
    }
   ],
   "source": [
    "display()"
   ]
  },
  {
   "cell_type": "code",
   "execution_count": null,
   "metadata": {},
   "outputs": [],
   "source": []
  }
 ],
 "metadata": {
  "kernelspec": {
   "display_name": "oa3",
   "language": "python",
   "name": "oa3"
  },
  "language_info": {
   "codemirror_mode": {
    "name": "ipython",
    "version": 3
   },
   "file_extension": ".py",
   "mimetype": "text/x-python",
   "name": "python",
   "nbconvert_exporter": "python",
   "pygments_lexer": "ipython3",
   "version": "3.12.2"
  },
  "widgets": {
   "application/vnd.jupyter.widget-state+json": {
    "state": {},
    "version_major": 2,
    "version_minor": 0
   }
  }
 },
 "nbformat": 4,
 "nbformat_minor": 4
}
